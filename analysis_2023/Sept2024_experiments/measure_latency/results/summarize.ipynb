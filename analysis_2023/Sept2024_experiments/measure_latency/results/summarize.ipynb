{
 "cells": [
  {
   "cell_type": "code",
   "id": "initial_id",
   "metadata": {
    "collapsed": true,
    "ExecuteTime": {
     "end_time": "2024-10-01T14:05:59.083614Z",
     "start_time": "2024-10-01T14:05:58.352106Z"
    }
   },
   "source": [
    "from collections import deque\n",
    "\n",
    "from parse import parse\n",
    "from pathlib import Path\n",
    "\n",
    "import pandas as pd\n",
    "\n",
    "summary_df_rows = deque()\n",
    "samples_df_rows = deque()\n",
    "for txt in Path(\"./\").glob(\"*.txt\"):\n",
    "    name_parse = parse(\"results_{mean_ms:d}_{jitter_ms:d}_{correl_pcnt:d}.txt\", txt.name)\n",
    "    mean_latency = 2 * name_parse[\"mean_ms\"] / 1000.0\n",
    "    jitter = 2 * name_parse[\"jitter_ms\"] / 1000.0\n",
    "    rho = name_parse[\"correl_pcnt\"] / 100.0\n",
    "    \n",
    "    row = {\n",
    "        \"target_mean_latency\": mean_latency,\n",
    "        \"jitter\": jitter,\n",
    "        \"rho\": rho,\n",
    "    }\n",
    "    \n",
    "    with txt.open(\"r\") as fp:\n",
    "        lines = fp.readlines()\n",
    "        assert(len(lines) == 1004)\n",
    "        \n",
    "        for sample_row in lines[1:-3]:\n",
    "            sample_parse = parse(\n",
    "                \"{_:d} bytes from 127.0.0.1: icmp_seq={seq:d} ttl={_:d} time={rtt:f} ms\",\n",
    "                sample_row.strip()\n",
    "            )\n",
    "            samples_df_rows.append({\n",
    "                \"target_mean_latency\": mean_latency,\n",
    "                \"jitter\": jitter,\n",
    "                \"rho\": rho,\n",
    "                \"seq\": sample_parse[\"seq\"],\n",
    "                \"rtt\": sample_parse[\"rtt\"] / 1000.0,\n",
    "            })\n",
    "        \n",
    "        summary = lines[-1].strip()\n",
    "        summary_parse = parse(\n",
    "            \"round-trip min/avg/max/stddev = {min_lat:f}/{avg_lat:f}/{max_lat:f}/{std_lat:f} ms\",\n",
    "            summary,\n",
    "        )\n",
    "        row.update({\n",
    "            \"actual_mean_latency\": summary_parse[\"avg_lat\"] / 1000.0,\n",
    "            \"std_latency\": summary_parse[\"std_lat\"] / 1000.0,\n",
    "            \"min_latency\": summary_parse[\"min_lat\"] / 1000.0,\n",
    "            \"max_latency\": summary_parse[\"max_lat\"] / 1000.0,\n",
    "        })\n",
    "    \n",
    "    summary_df_rows.append(row)\n",
    "    \n",
    "# stationary parameters don't seem to change with correlation, awesome\n",
    "summary_results = pd.DataFrame(summary_df_rows).groupby([\n",
    "    \"target_mean_latency\",\n",
    "    \"jitter\",\n",
    "])[\"std_latency\"].mean()\n",
    "summary_results"
   ],
   "outputs": [
    {
     "data": {
      "text/plain": [
       "target_mean_latency  jitter\n",
       "0.1                  0.02      0.012517\n",
       "0.2                  0.04      0.023106\n",
       "0.4                  0.08      0.045524\n",
       "0.8                  0.16      0.092714\n",
       "1.6                  0.32      0.179005\n",
       "3.2                  0.64      0.377754\n",
       "Name: std_latency, dtype: float64"
      ]
     },
     "execution_count": 30,
     "metadata": {},
     "output_type": "execute_result"
    }
   ],
   "execution_count": 30
  },
  {
   "metadata": {
    "ExecuteTime": {
     "end_time": "2024-10-01T14:23:30.982576Z",
     "start_time": "2024-10-01T14:23:29.963363Z"
    }
   },
   "cell_type": "code",
   "source": [
    "import scipy.stats as st\n",
    "\n",
    "fit_result_rows = deque()\n",
    "for (mean, jitter), df in pd.DataFrame(samples_df_rows).groupby([\"target_mean_latency\", \"jitter\"]):\n",
    "    fit_result = st.fit(st.pareto, df[\"rtt\"], bounds={\"b\": (2, 10), \"scale\": (0.05, 5.0)})\n",
    "    assert fit_result.success\n",
    "    fit_result_rows.append({\n",
    "        \"mean\": mean,\n",
    "        \"jitter\": jitter,\n",
    "        \"shape\": fit_result.params.b,\n",
    "        \"scale\": fit_result.params.scale\n",
    "    })\n",
    "    \n",
    "pd.DataFrame(fit_result_rows)"
   ],
   "id": "e556f7bee69c1eee",
   "outputs": [
    {
     "data": {
      "text/plain": [
       "   mean  jitter     shape     scale\n",
       "0   0.1    0.02  4.447719  0.088318\n",
       "1   0.2    0.04  5.921988  0.177230\n",
       "2   0.4    0.08  6.931734  0.351279\n",
       "3   0.8    0.16  7.454323  0.701631\n",
       "4   1.6    0.32  7.575100  1.394325\n",
       "5   3.2    0.64  7.536978  2.783698"
      ],
      "text/html": [
       "<div>\n",
       "<style scoped>\n",
       "    .dataframe tbody tr th:only-of-type {\n",
       "        vertical-align: middle;\n",
       "    }\n",
       "\n",
       "    .dataframe tbody tr th {\n",
       "        vertical-align: top;\n",
       "    }\n",
       "\n",
       "    .dataframe thead th {\n",
       "        text-align: right;\n",
       "    }\n",
       "</style>\n",
       "<table border=\"1\" class=\"dataframe\">\n",
       "  <thead>\n",
       "    <tr style=\"text-align: right;\">\n",
       "      <th></th>\n",
       "      <th>mean</th>\n",
       "      <th>jitter</th>\n",
       "      <th>shape</th>\n",
       "      <th>scale</th>\n",
       "    </tr>\n",
       "  </thead>\n",
       "  <tbody>\n",
       "    <tr>\n",
       "      <th>0</th>\n",
       "      <td>0.1</td>\n",
       "      <td>0.02</td>\n",
       "      <td>4.447719</td>\n",
       "      <td>0.088318</td>\n",
       "    </tr>\n",
       "    <tr>\n",
       "      <th>1</th>\n",
       "      <td>0.2</td>\n",
       "      <td>0.04</td>\n",
       "      <td>5.921988</td>\n",
       "      <td>0.177230</td>\n",
       "    </tr>\n",
       "    <tr>\n",
       "      <th>2</th>\n",
       "      <td>0.4</td>\n",
       "      <td>0.08</td>\n",
       "      <td>6.931734</td>\n",
       "      <td>0.351279</td>\n",
       "    </tr>\n",
       "    <tr>\n",
       "      <th>3</th>\n",
       "      <td>0.8</td>\n",
       "      <td>0.16</td>\n",
       "      <td>7.454323</td>\n",
       "      <td>0.701631</td>\n",
       "    </tr>\n",
       "    <tr>\n",
       "      <th>4</th>\n",
       "      <td>1.6</td>\n",
       "      <td>0.32</td>\n",
       "      <td>7.575100</td>\n",
       "      <td>1.394325</td>\n",
       "    </tr>\n",
       "    <tr>\n",
       "      <th>5</th>\n",
       "      <td>3.2</td>\n",
       "      <td>0.64</td>\n",
       "      <td>7.536978</td>\n",
       "      <td>2.783698</td>\n",
       "    </tr>\n",
       "  </tbody>\n",
       "</table>\n",
       "</div>"
      ]
     },
     "execution_count": 62,
     "metadata": {},
     "output_type": "execute_result"
    }
   ],
   "execution_count": 62
  },
  {
   "metadata": {},
   "cell_type": "code",
   "outputs": [],
   "execution_count": null,
   "source": "",
   "id": "1831922ed4254a3e"
  }
 ],
 "metadata": {
  "kernelspec": {
   "display_name": "Python 3",
   "language": "python",
   "name": "python3"
  },
  "language_info": {
   "codemirror_mode": {
    "name": "ipython",
    "version": 2
   },
   "file_extension": ".py",
   "mimetype": "text/x-python",
   "name": "python",
   "nbconvert_exporter": "python",
   "pygments_lexer": "ipython2",
   "version": "2.7.6"
  }
 },
 "nbformat": 4,
 "nbformat_minor": 5
}
