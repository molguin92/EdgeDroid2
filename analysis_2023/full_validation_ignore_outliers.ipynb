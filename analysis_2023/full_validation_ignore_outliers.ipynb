{
 "cells": [
  {
   "cell_type": "code",
   "execution_count": 1,
   "id": "initial_id",
   "metadata": {
    "ExecuteTime": {
     "end_time": "2024-02-12T01:29:41.712295Z",
     "start_time": "2024-02-12T01:29:41.057988Z"
    }
   },
   "source": [
    "import warnings\n",
    "from loguru import logger\n",
    "\n",
    "warnings.simplefilter(action='ignore', category=FutureWarning)\n",
    "\n",
    "from edgedroid.models.timings import *\n",
    "import edgedroid.data as default_data\n",
    "\n",
    "logger.enable(\"edgedroid\")\n",
    "\n",
    "data = default_data.load_curve_fitting_data()\n",
    "data"
   ],
   "outputs": []
  },
  {
   "cell_type": "code",
   "source": [
    "import numpy as np\n",
    "\n",
    "data[\"outlier\"] = False\n",
    "for _, df in data.groupby([\"prev_ttf\", \"prev_duration\"]):\n",
    "    outliers = ((df[\"exec_time\"] > np.percentile(df[\"exec_time\"], 95)) | (df[\"exec_time\"] < np.percentile(df[\"exec_time\"], 5)))\n",
    "    outlier_idx = df.loc[outliers].index\n",
    "    data.loc[outlier_idx, \"outlier\"] = True\n",
    "data"
   ],
   "metadata": {
    "collapsed": false,
    "ExecuteTime": {
     "end_time": "2024-02-12T01:29:41.740347Z",
     "start_time": "2024-02-12T01:29:41.712336Z"
    }
   },
   "id": "2acd944cf6ff5927",
   "execution_count": 2,
   "outputs": []
  },
  {
   "cell_type": "code",
   "execution_count": 3,
   "id": "20486260a5187244",
   "metadata": {
    "collapsed": false,
    "ExecuteTime": {
     "end_time": "2024-02-12T01:29:51.672410Z",
     "start_time": "2024-02-12T01:29:41.731338Z"
    }
   },
   "source": [
    "from collections import deque\n",
    "import pandas as pd\n",
    "from typing import Tuple, Deque\n",
    "from tqdm.notebook import tqdm\n",
    "\n",
    "result_rows = deque()\n",
    "for participant in tqdm(data[\"participant\"].unique(), desc=\"Run\"):\n",
    "    class MultiCurveFittingTestModel(MultiCurveFittingExecutionTimeModel):\n",
    "        @staticmethod\n",
    "        def get_data() -> pd.DataFrame:\n",
    "            data = MultiCurveFittingExecutionTimeModel.get_data()\n",
    "            return data[data[\"participant\"] != participant].copy()\n",
    "        \n",
    "        def __init__(self, neuroticism: float):\n",
    "            super().__init__(\n",
    "                neuroticism=neuroticism,\n",
    "            )\n",
    "            \n",
    "    class Legacy(LegacyModel):\n",
    "        @staticmethod\n",
    "        def get_data() -> pd.DataFrame:\n",
    "            data = MultiCurveFittingExecutionTimeModel.get_data()\n",
    "            return data[data[\"participant\"] != participant].copy()\n",
    "        \n",
    "        \n",
    "    class PowerFitTestModel(MultiCurveFittingTestModel):\n",
    "        _fit_functions = (PowerFit,)\n",
    "        \n",
    "    class SquareFitTestModel(MultiCurveFittingTestModel):\n",
    "        _fit_functions = (SquareFit,)\n",
    "        \n",
    "    class CubeFitTestModel(MultiCurveFittingTestModel):\n",
    "        _fit_functions = (CubeFit,)\n",
    "        \n",
    "    class ExponentialFitTestModel(MultiCurveFittingTestModel):\n",
    "        _fit_functions = (ExponentialFit,)\n",
    "        \n",
    "    def get_test_data(*args, **kwargs) -> (\n",
    "        Tuple[\n",
    "            pd.DataFrame,\n",
    "            pd.arrays.IntervalArray,\n",
    "            pd.arrays.IntervalArray,\n",
    "            pd.arrays.IntervalArray,\n",
    "        ]\n",
    "    ):\n",
    "        data, *rest = ExecutionTimeModel.get_data()\n",
    "        return (data[data[\"run_id\"] != participant].copy(), *rest)\n",
    "\n",
    "    class NaiveTestModel(FirstOrderETM):\n",
    "        get_data = get_test_data\n",
    "        \n",
    "    class NaiveAggTestModel(FirstOrderAggregateETM):\n",
    "        get_data = get_test_data\n",
    "            \n",
    "    run_data = data[data[\"participant\"] == participant].copy()\n",
    "\n",
    "    neuroticism = run_data[\"neuroticism\"].unique()[0]\n",
    "    naive_model = NaiveTestModel()\n",
    "    naive_mean_model = NaiveAggTestModel(np.mean)\n",
    "    naive_median_model = NaiveAggTestModel(np.median)\n",
    "    \n",
    "    power_fit_model = PowerFitTestModel(neuroticism)\n",
    "    square_fit_model = SquareFitTestModel(neuroticism)\n",
    "    cube_fit_model = CubeFitTestModel(neuroticism)\n",
    "    exponential_fit_model = ExponentialFitTestModel(neuroticism)\n",
    "    multi_fit_model = MultiCurveFittingExecutionTimeModel(neuroticism)\n",
    "    \n",
    "    legacy_model = Legacy()\n",
    "    \n",
    "    # deque containing (model name, model object, ttf_bins, window_size, kernel name)\n",
    "    models: Deque[Tuple[str, ExecutionTimeModel, int, int, str]] = deque()\n",
    "    models.extend((\n",
    "        (\"1st order\", naive_model, 0, 0, \"none\"),\n",
    "        (\"1st order (median)\", naive_median_model, 0, 0, \"none\"),\n",
    "        (\"1st order (mean)\", naive_mean_model, 0, 0, \"none\"),\n",
    "        (\"a * x^b + c\", power_fit_model , 0, 0, \"none\"),\n",
    "        (\"a * x^2 + b * x + c\", square_fit_model, 0, 0, \"none\"),\n",
    "        (\"a * x^3 + b * x^2 + c * x + d\", cube_fit_model, 0, 0, \"none\"),\n",
    "        (\"a * e^x + b\", exponential_fit_model, 0, 0, \"none\"),\n",
    "        (\"multi curve\", multi_fit_model, 0, 0, \"none\"),\n",
    "        (\"legacy\", legacy_model, 0, 0, \"none\")\n",
    "    ))\n",
    "        \n",
    "    for _ in range(1):\n",
    "        for i, (prev_ttf, exec_time, neuro, prev_duration, outlier) in enumerate(run_data[[\"prev_ttf\", \"exec_time\", \"neuro\", \"prev_duration\", \"outlier\"]].itertuples(index=False)):\n",
    "            for model_name, model, ttf_bins, window_size, kernel_name in models:\n",
    "                if i == 0:\n",
    "                    # reset the model between runs\n",
    "                    model.reset()\n",
    "                else:\n",
    "                    # first row has no previous ttf\n",
    "                    model.advance(prev_ttf)\n",
    "                    \n",
    "                prediction = model.get_execution_time()\n",
    "                error = np.nan if outlier else (prediction - exec_time)\n",
    "                result_rows.append({\n",
    "                    \"real\": exec_time,\n",
    "                    \"prediction\": prediction,\n",
    "                    \"error\": error,\n",
    "                    \"sqr_error\": np.square(error),\n",
    "                    \"model\": model_name,\n",
    "                    \"duration\": prev_duration,\n",
    "                    \"neuro\": neuro,\n",
    "                    # \"kernel\": kernel_name,\n",
    "                    # \"ttf_bins\": ttf_bins,\n",
    "                    # \"window_size\": window_size,\n",
    "                })\n",
    "\n",
    "results = pd.DataFrame(result_rows)\n",
    "for col in (\"model\", ):  # \"kernel\"):\n",
    "    results[col] = results[col].astype(\"category\")\n",
    "\n",
    "results.to_parquet(\"./full_validation_ignore_outliers.parquet\")\n",
    "results\n",
    "\n",
    "\n",
    "# remove outliers from curves\n",
    "# include old edgedroid\n",
    "# choose the best models and carry this forward - experimentation, evaluation\n",
    "# constant ttfs\n",
    "# some variations\n",
    "# maybe qdisc\n",
    "# autoregressive process on the delays"
   ],
   "outputs": []
  },
  {
   "cell_type": "code",
   "execution_count": 4,
   "source": [
    "results.groupby([\"model\", \"neuro\", \"duration\"], observed=True)[\"sqr_error\"].mean().sort_values(ascending=True)"
   ],
   "metadata": {
    "collapsed": false,
    "ExecuteTime": {
     "end_time": "2024-02-12T01:29:51.924535Z",
     "start_time": "2024-02-12T01:29:51.674816Z"
    }
   },
   "id": "a36996e5acb77c8a",
   "outputs": []
  },
  {
   "cell_type": "code",
   "execution_count": 5,
   "source": [
    "results.groupby([\"model\"], observed=True)[\"sqr_error\"].describe().sort_values(by=\"mean\", ascending=True)"
   ],
   "metadata": {
    "collapsed": false,
    "ExecuteTime": {
     "end_time": "2024-02-12T01:29:51.940342Z",
     "start_time": "2024-02-12T01:29:51.920029Z"
    }
   },
   "id": "77b7b5cc192a3775",
   "outputs": []
  },
  {
   "cell_type": "code",
   "source": [],
   "metadata": {
    "collapsed": false,
    "ExecuteTime": {
     "end_time": "2024-02-12T01:29:51.947533Z",
     "start_time": "2024-02-12T01:29:51.935071Z"
    }
   },
   "id": "403598ec799179dc",
   "execution_count": 5,
   "outputs": []
  }
 ],
 "metadata": {
  "kernelspec": {
   "display_name": "Python 3 (ipykernel)",
   "language": "python",
   "name": "python3"
  },
  "language_info": {
   "codemirror_mode": {
    "name": "ipython",
    "version": 3
   },
   "file_extension": ".py",
   "mimetype": "text/x-python",
   "name": "python",
   "nbconvert_exporter": "python",
   "pygments_lexer": "ipython3",
   "version": "3.11.6"
  }
 },
 "nbformat": 4,
 "nbformat_minor": 5
}
