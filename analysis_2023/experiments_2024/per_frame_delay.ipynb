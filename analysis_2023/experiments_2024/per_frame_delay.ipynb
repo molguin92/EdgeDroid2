{
 "cells": [
  {
   "cell_type": "code",
   "id": "initial_id",
   "metadata": {
    "collapsed": true,
    "ExecuteTime": {
     "end_time": "2024-05-28T04:15:31.417113Z",
     "start_time": "2024-05-28T04:15:29.024792Z"
    }
   },
   "source": [
    "import numpy as np\n",
    "\n",
    "from randgen import gen_autocorrel\n",
    "import scipy as sp\n",
    "\n",
    "from edgedroid.models import *\n",
    "import edgedroid.data as e_data\n",
    "from gabriel_lego import LEGOTask, FrameResult\n",
    "from tqdm.notebook import tqdm\n",
    "\n",
    "model = EdgeDroidModel(\n",
    "    frame_trace=e_data.load_default_trace(\"square00\", truncate=5),\n",
    "    frame_model=ZeroWaitSamplingPolicy.from_default_data(),\n",
    "    timing_model=MultiCurveFittingExecutionTimeModel(neuroticism=1.0)\n",
    ")\n",
    "\n",
    "task = LEGOTask(e_data.load_default_task(\"square00\", truncate=5))\n",
    "\n",
    "\n",
    "def generate_latencies(mode: float, rho: float, min_bound: float = 0.0) -> Iterator[float]:\n",
    "    prev_value = mode\n",
    "    while True:\n",
    "        prev_value = np.random.rayleigh(scale=(mode * (1 - rho)) + (prev_value * rho))\n",
    "        yield min_bound + prev_value\n",
    "\n",
    "\n",
    "def emulate_run(model: EdgeDroidModel, task: LEGOTask, rtt_s_iter: Iterator[float], desc: str | None = None):\n",
    "    step_iter = tqdm(model.play_steps_emulated_time(), total=model.step_count + 1, desc=desc, leave=False)\n",
    "    \n",
    "    for model_step in step_iter:\n",
    "        frame_timings: Optional[FrameTimings] = None\n",
    "        prev_result: Optional[FrameResult] = None\n",
    "        while True:\n",
    "            try:\n",
    "                model_frame = model_step.send(frame_timings)\n",
    "            except StopIteration:\n",
    "                if prev_result != FrameResult.SUCCESS:\n",
    "                    raise Exception(prev_result)\n",
    "                break\n",
    "            prev_result = task.submit_frame(model_frame.frame_data)\n",
    "            \n",
    "            rtt = next(rtt_s_iter)\n",
    "            frame_timings = FrameTimings(rtt * 0.9, rtt * 0.1)\n",
    "            \n",
    "\n",
    "emulate_run(model, task, generate_latencies(3.2, rho=.2, min_bound=0.1))\n",
    "model.model_step_metrics()"
   ],
   "outputs": [
    {
     "data": {
      "text/plain": [
       "  0%|          | 0/6 [00:00<?, ?it/s]"
      ],
      "application/vnd.jupyter.widget-view+json": {
       "version_major": 2,
       "version_minor": 0,
       "model_id": "ff7d981a38b74091948106b78aad7f4a"
      }
     },
     "metadata": {},
     "output_type": "display_data"
    },
    {
     "data": {
      "text/plain": [
       "             last_frame_rtt  execution_time  step_duration  time_to_feedback  \\\n",
       "step_number                                                                    \n",
       "0                  4.421520        0.000000       4.421520          4.421520   \n",
       "1                  7.717245        6.543293      16.337220          9.793927   \n",
       "2                  9.450422        6.628337      16.651224         10.022888   \n",
       "3                  6.368832        6.628337      17.435252         10.806916   \n",
       "4                  9.925058        6.628337      17.981392         11.353055   \n",
       "5                  4.989847        6.628337      14.901509          8.273172   \n",
       "\n",
       "             wait_time  frame_count  \n",
       "step_number                          \n",
       "0             0.000000            1  \n",
       "1             2.076681            4  \n",
       "2             0.572465            2  \n",
       "3             4.438084            2  \n",
       "4             1.427997            3  \n",
       "5             3.283325            3  "
      ],
      "text/html": [
       "<div>\n",
       "<style scoped>\n",
       "    .dataframe tbody tr th:only-of-type {\n",
       "        vertical-align: middle;\n",
       "    }\n",
       "\n",
       "    .dataframe tbody tr th {\n",
       "        vertical-align: top;\n",
       "    }\n",
       "\n",
       "    .dataframe thead th {\n",
       "        text-align: right;\n",
       "    }\n",
       "</style>\n",
       "<table border=\"1\" class=\"dataframe\">\n",
       "  <thead>\n",
       "    <tr style=\"text-align: right;\">\n",
       "      <th></th>\n",
       "      <th>last_frame_rtt</th>\n",
       "      <th>execution_time</th>\n",
       "      <th>step_duration</th>\n",
       "      <th>time_to_feedback</th>\n",
       "      <th>wait_time</th>\n",
       "      <th>frame_count</th>\n",
       "    </tr>\n",
       "    <tr>\n",
       "      <th>step_number</th>\n",
       "      <th></th>\n",
       "      <th></th>\n",
       "      <th></th>\n",
       "      <th></th>\n",
       "      <th></th>\n",
       "      <th></th>\n",
       "    </tr>\n",
       "  </thead>\n",
       "  <tbody>\n",
       "    <tr>\n",
       "      <th>0</th>\n",
       "      <td>4.421520</td>\n",
       "      <td>0.000000</td>\n",
       "      <td>4.421520</td>\n",
       "      <td>4.421520</td>\n",
       "      <td>0.000000</td>\n",
       "      <td>1</td>\n",
       "    </tr>\n",
       "    <tr>\n",
       "      <th>1</th>\n",
       "      <td>7.717245</td>\n",
       "      <td>6.543293</td>\n",
       "      <td>16.337220</td>\n",
       "      <td>9.793927</td>\n",
       "      <td>2.076681</td>\n",
       "      <td>4</td>\n",
       "    </tr>\n",
       "    <tr>\n",
       "      <th>2</th>\n",
       "      <td>9.450422</td>\n",
       "      <td>6.628337</td>\n",
       "      <td>16.651224</td>\n",
       "      <td>10.022888</td>\n",
       "      <td>0.572465</td>\n",
       "      <td>2</td>\n",
       "    </tr>\n",
       "    <tr>\n",
       "      <th>3</th>\n",
       "      <td>6.368832</td>\n",
       "      <td>6.628337</td>\n",
       "      <td>17.435252</td>\n",
       "      <td>10.806916</td>\n",
       "      <td>4.438084</td>\n",
       "      <td>2</td>\n",
       "    </tr>\n",
       "    <tr>\n",
       "      <th>4</th>\n",
       "      <td>9.925058</td>\n",
       "      <td>6.628337</td>\n",
       "      <td>17.981392</td>\n",
       "      <td>11.353055</td>\n",
       "      <td>1.427997</td>\n",
       "      <td>3</td>\n",
       "    </tr>\n",
       "    <tr>\n",
       "      <th>5</th>\n",
       "      <td>4.989847</td>\n",
       "      <td>6.628337</td>\n",
       "      <td>14.901509</td>\n",
       "      <td>8.273172</td>\n",
       "      <td>3.283325</td>\n",
       "      <td>3</td>\n",
       "    </tr>\n",
       "  </tbody>\n",
       "</table>\n",
       "</div>"
      ]
     },
     "execution_count": 14,
     "metadata": {},
     "output_type": "execute_result"
    }
   ],
   "execution_count": 14
  },
  {
   "metadata": {
    "ExecuteTime": {
     "end_time": "2024-05-28T17:56:51.899945Z",
     "start_time": "2024-05-28T04:30:18.511494Z"
    }
   },
   "cell_type": "code",
   "source": [
    "import itertools as it\n",
    "\n",
    "trace = \"square00\"\n",
    "truncate = 50\n",
    "reps_per_model = 10\n",
    "\n",
    "timing_models = {\n",
    "    \"curve-high\": lambda : MultiCurveFittingExecutionTimeModel(neuroticism=1.0),\n",
    "    \"curve-low\": lambda : MultiCurveFittingExecutionTimeModel(neuroticism=0.0),\n",
    "    \"legacy\": lambda : LegacyModel(),\n",
    "    \"first-order\": lambda : FirstOrderETM(),\n",
    "    \"first-order-median\": lambda : FirstOrderAggregateETM(np.median)\n",
    "}\n",
    "\n",
    "min_bound = 0.042 # 24FPS\n",
    "rho_vals = (\n",
    "    0.0, \n",
    "    0.25, \n",
    "    0.5\n",
    ")\n",
    "sigma_vals = (\n",
    "    0.1, \n",
    "    0.2, \n",
    "    0.4, \n",
    "    0.8, \n",
    "    1.6, \n",
    "    3.2\n",
    ")\n",
    "\n",
    "dfs = deque()\n",
    "\n",
    "params_iter = tqdm(list(it.product(\n",
    "    timing_models.items(),\n",
    "    range(reps_per_model),\n",
    "    rho_vals,\n",
    "    sigma_vals\n",
    ")), desc=\"Parameter combinations\")\n",
    "for (model_name, model_constructor), rep, rho, sigma in params_iter:\n",
    "    model = EdgeDroidModel(\n",
    "        frame_trace=e_data.load_default_trace(trace, truncate=truncate),\n",
    "        frame_model=ZeroWaitSamplingPolicy.from_default_data(),\n",
    "        timing_model=model_constructor()\n",
    "    )\n",
    "\n",
    "    task = LEGOTask(e_data.load_default_task(trace, truncate=truncate))\n",
    "    \n",
    "    desc = f\"{model_name} {rho=} {sigma=} ({rep + 1}/{reps_per_model})\"\n",
    "    emulate_run(model, task, generate_latencies(sigma, rho, min_bound=min_bound), desc=desc)\n",
    "    \n",
    "    df = model.model_step_metrics()\n",
    "    df[\"model\"] = model_name\n",
    "    df[\"rep\"] = rep\n",
    "    df[\"rho\"] = rho\n",
    "    df[\"sigma\"] = sigma\n",
    "    \n",
    "    dfs.append(df)\n",
    "    \n",
    "data = pd.concat(dfs)\n",
    "data.to_csv(\"./per_frame_delay.csv\")\n",
    "data"
   ],
   "id": "4ab3c38ae563fd34",
   "outputs": [
    {
     "data": {
      "text/plain": [
       "Parameter combination:   0%|          | 0/900 [00:00<?, ?it/s]"
      ],
      "application/vnd.jupyter.widget-view+json": {
       "version_major": 2,
       "version_minor": 0,
       "model_id": "4011314bc86043f780fdfe70e4b952ee"
      }
     },
     "metadata": {},
     "output_type": "display_data"
    },
    {
     "data": {
      "text/plain": [
       "curve-high rho=0.0 sigma=0.1 (1/10):   0%|          | 0/51 [00:00<?, ?it/s]"
      ],
      "application/vnd.jupyter.widget-view+json": {
       "version_major": 2,
       "version_minor": 0,
       "model_id": "81ea6646fda849bd995e5ba18f2526c6"
      }
     },
     "metadata": {},
     "output_type": "display_data"
    },
    {
     "data": {
      "text/plain": [
       "curve-high rho=0.0 sigma=0.2 (1/10):   0%|          | 0/51 [00:00<?, ?it/s]"
      ],
      "application/vnd.jupyter.widget-view+json": {
       "version_major": 2,
       "version_minor": 0,
       "model_id": "fef30dff49204273b466baff7a72df17"
      }
     },
     "metadata": {},
     "output_type": "display_data"
    },
    {
     "data": {
      "text/plain": [
       "curve-high rho=0.0 sigma=0.4 (1/10):   0%|          | 0/51 [00:00<?, ?it/s]"
      ],
      "application/vnd.jupyter.widget-view+json": {
       "version_major": 2,
       "version_minor": 0,
       "model_id": "74f710cf007941f79854cf77c4e50a50"
      }
     },
     "metadata": {},
     "output_type": "display_data"
    },
    {
     "data": {
      "text/plain": [
       "curve-high rho=0.0 sigma=0.8 (1/10):   0%|          | 0/51 [00:00<?, ?it/s]"
      ],
      "application/vnd.jupyter.widget-view+json": {
       "version_major": 2,
       "version_minor": 0,
       "model_id": "d2b7e7e4430144129560cdaca9e4c53a"
      }
     },
     "metadata": {},
     "output_type": "display_data"
    },
    {
     "data": {
      "text/plain": [
       "curve-high rho=0.0 sigma=1.6 (1/10):   0%|          | 0/51 [00:00<?, ?it/s]"
      ],
      "application/vnd.jupyter.widget-view+json": {
       "version_major": 2,
       "version_minor": 0,
       "model_id": "b224bf37cbb444f681de5fa288f1bb1f"
      }
     },
     "metadata": {},
     "output_type": "display_data"
    },
    {
     "data": {
      "text/plain": [
       "curve-high rho=0.0 sigma=3.2 (1/10):   0%|          | 0/51 [00:00<?, ?it/s]"
      ],
      "application/vnd.jupyter.widget-view+json": {
       "version_major": 2,
       "version_minor": 0,
       "model_id": "2f46cec9c4f3438f9789d4eab900bf84"
      }
     },
     "metadata": {},
     "output_type": "display_data"
    },
    {
     "data": {
      "text/plain": [
       "curve-high rho=0.25 sigma=0.1 (1/10):   0%|          | 0/51 [00:00<?, ?it/s]"
      ],
      "application/vnd.jupyter.widget-view+json": {
       "version_major": 2,
       "version_minor": 0,
       "model_id": "df1c85bc4247414490e7fb0d3ebc6a72"
      }
     },
     "metadata": {},
     "output_type": "display_data"
    },
    {
     "data": {
      "text/plain": [
       "curve-high rho=0.25 sigma=0.2 (1/10):   0%|          | 0/51 [00:00<?, ?it/s]"
      ],
      "application/vnd.jupyter.widget-view+json": {
       "version_major": 2,
       "version_minor": 0,
       "model_id": "a3dcbadc7c15475497401de98ffba642"
      }
     },
     "metadata": {},
     "output_type": "display_data"
    },
    {
     "data": {
      "text/plain": [
       "curve-high rho=0.25 sigma=0.4 (1/10):   0%|          | 0/51 [00:00<?, ?it/s]"
      ],
      "application/vnd.jupyter.widget-view+json": {
       "version_major": 2,
       "version_minor": 0,
       "model_id": "8276de5b764647cca7f9641a00172932"
      }
     },
     "metadata": {},
     "output_type": "display_data"
    },
    {
     "data": {
      "text/plain": [
       "curve-high rho=0.25 sigma=0.8 (1/10):   0%|          | 0/51 [00:00<?, ?it/s]"
      ],
      "application/vnd.jupyter.widget-view+json": {
       "version_major": 2,
       "version_minor": 0,
       "model_id": "3802da6c7c564c77b7935d72b33727e9"
      }
     },
     "metadata": {},
     "output_type": "display_data"
    },
    {
     "data": {
      "text/plain": [
       "curve-high rho=0.25 sigma=1.6 (1/10):   0%|          | 0/51 [00:00<?, ?it/s]"
      ],
      "application/vnd.jupyter.widget-view+json": {
       "version_major": 2,
       "version_minor": 0,
       "model_id": "d5a886027ee74b148e4fab6ec237b48f"
      }
     },
     "metadata": {},
     "output_type": "display_data"
    },
    {
     "data": {
      "text/plain": [
       "curve-high rho=0.25 sigma=3.2 (1/10):   0%|          | 0/51 [00:00<?, ?it/s]"
      ],
      "application/vnd.jupyter.widget-view+json": {
       "version_major": 2,
       "version_minor": 0,
       "model_id": "a321b868e65a47edae5547965b370f9d"
      }
     },
     "metadata": {},
     "output_type": "display_data"
    },
    {
     "data": {
      "text/plain": [
       "curve-high rho=0.5 sigma=0.1 (1/10):   0%|          | 0/51 [00:00<?, ?it/s]"
      ],
      "application/vnd.jupyter.widget-view+json": {
       "version_major": 2,
       "version_minor": 0,
       "model_id": "8fc5867d259c4e03a637b104ca096d4d"
      }
     },
     "metadata": {},
     "output_type": "display_data"
    },
    {
     "data": {
      "text/plain": [
       "curve-high rho=0.5 sigma=0.2 (1/10):   0%|          | 0/51 [00:00<?, ?it/s]"
      ],
      "application/vnd.jupyter.widget-view+json": {
       "version_major": 2,
       "version_minor": 0,
       "model_id": "675d6a0ecb444362ad89380fb638eadc"
      }
     },
     "metadata": {},
     "output_type": "display_data"
    },
    {
     "data": {
      "text/plain": [
       "curve-high rho=0.5 sigma=0.4 (1/10):   0%|          | 0/51 [00:00<?, ?it/s]"
      ],
      "application/vnd.jupyter.widget-view+json": {
       "version_major": 2,
       "version_minor": 0,
       "model_id": "8bfe9edea4de410e80390f34be17d4cd"
      }
     },
     "metadata": {},
     "output_type": "display_data"
    },
    {
     "data": {
      "text/plain": [
       "curve-high rho=0.5 sigma=0.8 (1/10):   0%|          | 0/51 [00:00<?, ?it/s]"
      ],
      "application/vnd.jupyter.widget-view+json": {
       "version_major": 2,
       "version_minor": 0,
       "model_id": "d3f69fb061c2473cab9484c525912e8d"
      }
     },
     "metadata": {},
     "output_type": "display_data"
    },
    {
     "data": {
      "text/plain": [
       "curve-high rho=0.5 sigma=1.6 (1/10):   0%|          | 0/51 [00:00<?, ?it/s]"
      ],
      "application/vnd.jupyter.widget-view+json": {
       "version_major": 2,
       "version_minor": 0,
       "model_id": "de83b75f821e497ba43e83db96e6d1cd"
      }
     },
     "metadata": {},
     "output_type": "display_data"
    },
    {
     "data": {
      "text/plain": [
       "curve-high rho=0.5 sigma=3.2 (1/10):   0%|          | 0/51 [00:00<?, ?it/s]"
      ],
      "application/vnd.jupyter.widget-view+json": {
       "version_major": 2,
       "version_minor": 0,
       "model_id": "85d68501aafe47f59e225331d98e1674"
      }
     },
     "metadata": {},
     "output_type": "display_data"
    },
    {
     "data": {
      "text/plain": [
       "curve-high rho=0.0 sigma=0.1 (2/10):   0%|          | 0/51 [00:00<?, ?it/s]"
      ],
      "application/vnd.jupyter.widget-view+json": {
       "version_major": 2,
       "version_minor": 0,
       "model_id": "4c170f709b97450a91abd297f783fee8"
      }
     },
     "metadata": {},
     "output_type": "display_data"
    },
    {
     "data": {
      "text/plain": [
       "curve-high rho=0.0 sigma=0.2 (2/10):   0%|          | 0/51 [00:00<?, ?it/s]"
      ],
      "application/vnd.jupyter.widget-view+json": {
       "version_major": 2,
       "version_minor": 0,
       "model_id": "716ece158647472a94123a1ccc55b6e6"
      }
     },
     "metadata": {},
     "output_type": "display_data"
    },
    {
     "data": {
      "text/plain": [
       "curve-high rho=0.0 sigma=0.4 (2/10):   0%|          | 0/51 [00:00<?, ?it/s]"
      ],
      "application/vnd.jupyter.widget-view+json": {
       "version_major": 2,
       "version_minor": 0,
       "model_id": "ed779ab281df4805b52bfd4592fdf72f"
      }
     },
     "metadata": {},
     "output_type": "display_data"
    },
    {
     "data": {
      "text/plain": [
       "curve-high rho=0.0 sigma=0.8 (2/10):   0%|          | 0/51 [00:00<?, ?it/s]"
      ],
      "application/vnd.jupyter.widget-view+json": {
       "version_major": 2,
       "version_minor": 0,
       "model_id": "2b90cd268fa74d5ab6540099c3f64665"
      }
     },
     "metadata": {},
     "output_type": "display_data"
    },
    {
     "data": {
      "text/plain": [
       "curve-high rho=0.0 sigma=1.6 (2/10):   0%|          | 0/51 [00:00<?, ?it/s]"
      ],
      "application/vnd.jupyter.widget-view+json": {
       "version_major": 2,
       "version_minor": 0,
       "model_id": "da1feae3683442ec85e0ae3f46004917"
      }
     },
     "metadata": {},
     "output_type": "display_data"
    },
    {
     "data": {
      "text/plain": [
       "curve-high rho=0.0 sigma=3.2 (2/10):   0%|          | 0/51 [00:00<?, ?it/s]"
      ],
      "application/vnd.jupyter.widget-view+json": {
       "version_major": 2,
       "version_minor": 0,
       "model_id": "909174f0796941d4bff7df8ccc37119d"
      }
     },
     "metadata": {},
     "output_type": "display_data"
    },
    {
     "data": {
      "text/plain": [
       "curve-high rho=0.25 sigma=0.1 (2/10):   0%|          | 0/51 [00:00<?, ?it/s]"
      ],
      "application/vnd.jupyter.widget-view+json": {
       "version_major": 2,
       "version_minor": 0,
       "model_id": "6a3992effe594016af012391a0a0f18d"
      }
     },
     "metadata": {},
     "output_type": "display_data"
    },
    {
     "data": {
      "text/plain": [
       "curve-high rho=0.25 sigma=0.2 (2/10):   0%|          | 0/51 [00:00<?, ?it/s]"
      ],
      "application/vnd.jupyter.widget-view+json": {
       "version_major": 2,
       "version_minor": 0,
       "model_id": "5aa31b78184e4724b695d90a28437ce8"
      }
     },
     "metadata": {},
     "output_type": "display_data"
    },
    {
     "data": {
      "text/plain": [
       "curve-high rho=0.25 sigma=0.4 (2/10):   0%|          | 0/51 [00:00<?, ?it/s]"
      ],
      "application/vnd.jupyter.widget-view+json": {
       "version_major": 2,
       "version_minor": 0,
       "model_id": "2e3576d50b444e16bab9f0fb0e086673"
      }
     },
     "metadata": {},
     "output_type": "display_data"
    },
    {
     "data": {
      "text/plain": [
       "curve-high rho=0.25 sigma=0.8 (2/10):   0%|          | 0/51 [00:00<?, ?it/s]"
      ],
      "application/vnd.jupyter.widget-view+json": {
       "version_major": 2,
       "version_minor": 0,
       "model_id": "0724893b62584a6baee191449e28c9e2"
      }
     },
     "metadata": {},
     "output_type": "display_data"
    },
    {
     "data": {
      "text/plain": [
       "curve-high rho=0.25 sigma=1.6 (2/10):   0%|          | 0/51 [00:00<?, ?it/s]"
      ],
      "application/vnd.jupyter.widget-view+json": {
       "version_major": 2,
       "version_minor": 0,
       "model_id": "2d4fb8d0d7f340e8a71fcc9c3e642945"
      }
     },
     "metadata": {},
     "output_type": "display_data"
    },
    {
     "data": {
      "text/plain": [
       "curve-high rho=0.25 sigma=3.2 (2/10):   0%|          | 0/51 [00:00<?, ?it/s]"
      ],
      "application/vnd.jupyter.widget-view+json": {
       "version_major": 2,
       "version_minor": 0,
       "model_id": "14a1edf4f3c34e81b28097a30b4376ee"
      }
     },
     "metadata": {},
     "output_type": "display_data"
    },
    {
     "data": {
      "text/plain": [
       "curve-high rho=0.5 sigma=0.1 (2/10):   0%|          | 0/51 [00:00<?, ?it/s]"
      ],
      "application/vnd.jupyter.widget-view+json": {
       "version_major": 2,
       "version_minor": 0,
       "model_id": "aac70fd78778402aaa88ee2f761af60c"
      }
     },
     "metadata": {},
     "output_type": "display_data"
    },
    {
     "data": {
      "text/plain": [
       "curve-high rho=0.5 sigma=0.2 (2/10):   0%|          | 0/51 [00:00<?, ?it/s]"
      ],
      "application/vnd.jupyter.widget-view+json": {
       "version_major": 2,
       "version_minor": 0,
       "model_id": "c06011d803454195acbb41bb025e4055"
      }
     },
     "metadata": {},
     "output_type": "display_data"
    },
    {
     "data": {
      "text/plain": [
       "curve-high rho=0.5 sigma=0.4 (2/10):   0%|          | 0/51 [00:00<?, ?it/s]"
      ],
      "application/vnd.jupyter.widget-view+json": {
       "version_major": 2,
       "version_minor": 0,
       "model_id": "c70b9255f09f4c56926159296fed5ff0"
      }
     },
     "metadata": {},
     "output_type": "display_data"
    },
    {
     "data": {
      "text/plain": [
       "curve-high rho=0.5 sigma=0.8 (2/10):   0%|          | 0/51 [00:00<?, ?it/s]"
      ],
      "application/vnd.jupyter.widget-view+json": {
       "version_major": 2,
       "version_minor": 0,
       "model_id": "c32867dbe76e482bbf3078830d3898f8"
      }
     },
     "metadata": {},
     "output_type": "display_data"
    },
    {
     "data": {
      "text/plain": [
       "curve-high rho=0.5 sigma=1.6 (2/10):   0%|          | 0/51 [00:00<?, ?it/s]"
      ],
      "application/vnd.jupyter.widget-view+json": {
       "version_major": 2,
       "version_minor": 0,
       "model_id": "66ab39202adc42a593dd51dc651ab66d"
      }
     },
     "metadata": {},
     "output_type": "display_data"
    },
    {
     "data": {
      "text/plain": [
       "curve-high rho=0.5 sigma=3.2 (2/10):   0%|          | 0/51 [00:00<?, ?it/s]"
      ],
      "application/vnd.jupyter.widget-view+json": {
       "version_major": 2,
       "version_minor": 0,
       "model_id": "d42d336e5b7a413583dc2ee69a1c83d6"
      }
     },
     "metadata": {},
     "output_type": "display_data"
    },
    {
     "data": {
      "text/plain": [
       "curve-high rho=0.0 sigma=0.1 (3/10):   0%|          | 0/51 [00:00<?, ?it/s]"
      ],
      "application/vnd.jupyter.widget-view+json": {
       "version_major": 2,
       "version_minor": 0,
       "model_id": "6391dc3829b84fa8ac5e3fffc8f2c4b2"
      }
     },
     "metadata": {},
     "output_type": "display_data"
    },
    {
     "data": {
      "text/plain": [
       "curve-high rho=0.0 sigma=0.2 (3/10):   0%|          | 0/51 [00:00<?, ?it/s]"
      ],
      "application/vnd.jupyter.widget-view+json": {
       "version_major": 2,
       "version_minor": 0,
       "model_id": "250392a0831344dfb2a5f2e08170ca52"
      }
     },
     "metadata": {},
     "output_type": "display_data"
    },
    {
     "data": {
      "text/plain": [
       "curve-high rho=0.0 sigma=0.4 (3/10):   0%|          | 0/51 [00:00<?, ?it/s]"
      ],
      "application/vnd.jupyter.widget-view+json": {
       "version_major": 2,
       "version_minor": 0,
       "model_id": "d058e7a26cd647cc9e6918219eb33e48"
      }
     },
     "metadata": {},
     "output_type": "display_data"
    },
    {
     "data": {
      "text/plain": [
       "curve-high rho=0.0 sigma=0.8 (3/10):   0%|          | 0/51 [00:00<?, ?it/s]"
      ],
      "application/vnd.jupyter.widget-view+json": {
       "version_major": 2,
       "version_minor": 0,
       "model_id": "09580df7729049789aa2620b86ffc314"
      }
     },
     "metadata": {},
     "output_type": "display_data"
    },
    {
     "data": {
      "text/plain": [
       "curve-high rho=0.0 sigma=1.6 (3/10):   0%|          | 0/51 [00:00<?, ?it/s]"
      ],
      "application/vnd.jupyter.widget-view+json": {
       "version_major": 2,
       "version_minor": 0,
       "model_id": "52fba9f6fd674289bf50d2c6f2edc7c5"
      }
     },
     "metadata": {},
     "output_type": "display_data"
    },
    {
     "data": {
      "text/plain": [
       "curve-high rho=0.0 sigma=3.2 (3/10):   0%|          | 0/51 [00:00<?, ?it/s]"
      ],
      "application/vnd.jupyter.widget-view+json": {
       "version_major": 2,
       "version_minor": 0,
       "model_id": "6a18bd99051f4f46a5228d1f287b1340"
      }
     },
     "metadata": {},
     "output_type": "display_data"
    },
    {
     "data": {
      "text/plain": [
       "curve-high rho=0.25 sigma=0.1 (3/10):   0%|          | 0/51 [00:00<?, ?it/s]"
      ],
      "application/vnd.jupyter.widget-view+json": {
       "version_major": 2,
       "version_minor": 0,
       "model_id": "ff7d08aa48644d10a6d5f6b236f60113"
      }
     },
     "metadata": {},
     "output_type": "display_data"
    },
    {
     "data": {
      "text/plain": [
       "curve-high rho=0.25 sigma=0.2 (3/10):   0%|          | 0/51 [00:00<?, ?it/s]"
      ],
      "application/vnd.jupyter.widget-view+json": {
       "version_major": 2,
       "version_minor": 0,
       "model_id": "0ffe6a5d5ab64bfdbf27313e2a5bb48f"
      }
     },
     "metadata": {},
     "output_type": "display_data"
    },
    {
     "data": {
      "text/plain": [
       "curve-high rho=0.25 sigma=0.4 (3/10):   0%|          | 0/51 [00:00<?, ?it/s]"
      ],
      "application/vnd.jupyter.widget-view+json": {
       "version_major": 2,
       "version_minor": 0,
       "model_id": "771c92554cbd4e2db60c0e6a9defed5a"
      }
     },
     "metadata": {},
     "output_type": "display_data"
    },
    {
     "data": {
      "text/plain": [
       "curve-high rho=0.25 sigma=0.8 (3/10):   0%|          | 0/51 [00:00<?, ?it/s]"
      ],
      "application/vnd.jupyter.widget-view+json": {
       "version_major": 2,
       "version_minor": 0,
       "model_id": "79af416d6c8b478fa48bfd14df6baca4"
      }
     },
     "metadata": {},
     "output_type": "display_data"
    },
    {
     "data": {
      "text/plain": [
       "curve-high rho=0.25 sigma=1.6 (3/10):   0%|          | 0/51 [00:00<?, ?it/s]"
      ],
      "application/vnd.jupyter.widget-view+json": {
       "version_major": 2,
       "version_minor": 0,
       "model_id": "ff39fd37451f48fa92863e75b7bf6e56"
      }
     },
     "metadata": {},
     "output_type": "display_data"
    },
    {
     "data": {
      "text/plain": [
       "curve-high rho=0.25 sigma=3.2 (3/10):   0%|          | 0/51 [00:00<?, ?it/s]"
      ],
      "application/vnd.jupyter.widget-view+json": {
       "version_major": 2,
       "version_minor": 0,
       "model_id": "3b67549fb30c474ca15b89bc2d2bf544"
      }
     },
     "metadata": {},
     "output_type": "display_data"
    },
    {
     "data": {
      "text/plain": [
       "curve-high rho=0.5 sigma=0.1 (3/10):   0%|          | 0/51 [00:00<?, ?it/s]"
      ],
      "application/vnd.jupyter.widget-view+json": {
       "version_major": 2,
       "version_minor": 0,
       "model_id": "5aa008efda8c4a8b8b3a7889c58cd797"
      }
     },
     "metadata": {},
     "output_type": "display_data"
    },
    {
     "data": {
      "text/plain": [
       "curve-high rho=0.5 sigma=0.2 (3/10):   0%|          | 0/51 [00:00<?, ?it/s]"
      ],
      "application/vnd.jupyter.widget-view+json": {
       "version_major": 2,
       "version_minor": 0,
       "model_id": "4a46944bcd224d2b94b0a1d9c400eb42"
      }
     },
     "metadata": {},
     "output_type": "display_data"
    },
    {
     "data": {
      "text/plain": [
       "curve-high rho=0.5 sigma=0.4 (3/10):   0%|          | 0/51 [00:00<?, ?it/s]"
      ],
      "application/vnd.jupyter.widget-view+json": {
       "version_major": 2,
       "version_minor": 0,
       "model_id": "a853a08e9b07406f9b5d3881c9a8b794"
      }
     },
     "metadata": {},
     "output_type": "display_data"
    },
    {
     "data": {
      "text/plain": [
       "curve-high rho=0.5 sigma=0.8 (3/10):   0%|          | 0/51 [00:00<?, ?it/s]"
      ],
      "application/vnd.jupyter.widget-view+json": {
       "version_major": 2,
       "version_minor": 0,
       "model_id": "48e2753c9a954da3804d57b70f43c7a9"
      }
     },
     "metadata": {},
     "output_type": "display_data"
    },
    {
     "data": {
      "text/plain": [
       "curve-high rho=0.5 sigma=1.6 (3/10):   0%|          | 0/51 [00:00<?, ?it/s]"
      ],
      "application/vnd.jupyter.widget-view+json": {
       "version_major": 2,
       "version_minor": 0,
       "model_id": "a3aa1eb1898b4bf4887df14a7a3c18c4"
      }
     },
     "metadata": {},
     "output_type": "display_data"
    },
    {
     "data": {
      "text/plain": [
       "curve-high rho=0.5 sigma=3.2 (3/10):   0%|          | 0/51 [00:00<?, ?it/s]"
      ],
      "application/vnd.jupyter.widget-view+json": {
       "version_major": 2,
       "version_minor": 0,
       "model_id": "d53daf5ec6cf4ebf982634bbd8e9c50f"
      }
     },
     "metadata": {},
     "output_type": "display_data"
    },
    {
     "data": {
      "text/plain": [
       "curve-high rho=0.0 sigma=0.1 (4/10):   0%|          | 0/51 [00:00<?, ?it/s]"
      ],
      "application/vnd.jupyter.widget-view+json": {
       "version_major": 2,
       "version_minor": 0,
       "model_id": "e8d5c29651db4e16a2ea7e81da238eec"
      }
     },
     "metadata": {},
     "output_type": "display_data"
    },
    {
     "data": {
      "text/plain": [
       "curve-high rho=0.0 sigma=0.2 (4/10):   0%|          | 0/51 [00:00<?, ?it/s]"
      ],
      "application/vnd.jupyter.widget-view+json": {
       "version_major": 2,
       "version_minor": 0,
       "model_id": "c01ec53e8baa4dd28973bb124b1ecbb8"
      }
     },
     "metadata": {},
     "output_type": "display_data"
    },
    {
     "data": {
      "text/plain": [
       "curve-high rho=0.0 sigma=0.4 (4/10):   0%|          | 0/51 [00:00<?, ?it/s]"
      ],
      "application/vnd.jupyter.widget-view+json": {
       "version_major": 2,
       "version_minor": 0,
       "model_id": "9a1c473980414823be063f1d0cc1773b"
      }
     },
     "metadata": {},
     "output_type": "display_data"
    },
    {
     "data": {
      "text/plain": [
       "curve-high rho=0.0 sigma=0.8 (4/10):   0%|          | 0/51 [00:00<?, ?it/s]"
      ],
      "application/vnd.jupyter.widget-view+json": {
       "version_major": 2,
       "version_minor": 0,
       "model_id": "277060f93bbc476e99c2f583b7f8866b"
      }
     },
     "metadata": {},
     "output_type": "display_data"
    },
    {
     "data": {
      "text/plain": [
       "curve-high rho=0.0 sigma=1.6 (4/10):   0%|          | 0/51 [00:00<?, ?it/s]"
      ],
      "application/vnd.jupyter.widget-view+json": {
       "version_major": 2,
       "version_minor": 0,
       "model_id": "e307f1303abb462e95d08f85812a2e3b"
      }
     },
     "metadata": {},
     "output_type": "display_data"
    },
    {
     "data": {
      "text/plain": [
       "curve-high rho=0.0 sigma=3.2 (4/10):   0%|          | 0/51 [00:00<?, ?it/s]"
      ],
      "application/vnd.jupyter.widget-view+json": {
       "version_major": 2,
       "version_minor": 0,
       "model_id": "be694697d7204d4ea7978e0ed7e72105"
      }
     },
     "metadata": {},
     "output_type": "display_data"
    },
    {
     "data": {
      "text/plain": [
       "curve-high rho=0.25 sigma=0.1 (4/10):   0%|          | 0/51 [00:00<?, ?it/s]"
      ],
      "application/vnd.jupyter.widget-view+json": {
       "version_major": 2,
       "version_minor": 0,
       "model_id": "bb87b3a37e51486383e2bfad193979ff"
      }
     },
     "metadata": {},
     "output_type": "display_data"
    },
    {
     "data": {
      "text/plain": [
       "curve-high rho=0.25 sigma=0.2 (4/10):   0%|          | 0/51 [00:00<?, ?it/s]"
      ],
      "application/vnd.jupyter.widget-view+json": {
       "version_major": 2,
       "version_minor": 0,
       "model_id": "74338ab89861485289e50ed07beeaf5c"
      }
     },
     "metadata": {},
     "output_type": "display_data"
    },
    {
     "data": {
      "text/plain": [
       "curve-high rho=0.25 sigma=0.4 (4/10):   0%|          | 0/51 [00:00<?, ?it/s]"
      ],
      "application/vnd.jupyter.widget-view+json": {
       "version_major": 2,
       "version_minor": 0,
       "model_id": "e3e25a6b634d483398621adb6c30adaa"
      }
     },
     "metadata": {},
     "output_type": "display_data"
    },
    {
     "data": {
      "text/plain": [
       "curve-high rho=0.25 sigma=0.8 (4/10):   0%|          | 0/51 [00:00<?, ?it/s]"
      ],
      "application/vnd.jupyter.widget-view+json": {
       "version_major": 2,
       "version_minor": 0,
       "model_id": "43389cd6351846c8b4280f9d16a5c741"
      }
     },
     "metadata": {},
     "output_type": "display_data"
    },
    {
     "data": {
      "text/plain": [
       "curve-high rho=0.25 sigma=1.6 (4/10):   0%|          | 0/51 [00:00<?, ?it/s]"
      ],
      "application/vnd.jupyter.widget-view+json": {
       "version_major": 2,
       "version_minor": 0,
       "model_id": "76c673a0f06c47e698e79b29a6897ca8"
      }
     },
     "metadata": {},
     "output_type": "display_data"
    },
    {
     "data": {
      "text/plain": [
       "curve-high rho=0.25 sigma=3.2 (4/10):   0%|          | 0/51 [00:00<?, ?it/s]"
      ],
      "application/vnd.jupyter.widget-view+json": {
       "version_major": 2,
       "version_minor": 0,
       "model_id": "7233c66c219f41578fee864ddbe308fc"
      }
     },
     "metadata": {},
     "output_type": "display_data"
    },
    {
     "data": {
      "text/plain": [
       "curve-high rho=0.5 sigma=0.1 (4/10):   0%|          | 0/51 [00:00<?, ?it/s]"
      ],
      "application/vnd.jupyter.widget-view+json": {
       "version_major": 2,
       "version_minor": 0,
       "model_id": "b4cf38c569cc42af82e84e91c35b1421"
      }
     },
     "metadata": {},
     "output_type": "display_data"
    },
    {
     "data": {
      "text/plain": [
       "curve-high rho=0.5 sigma=0.2 (4/10):   0%|          | 0/51 [00:00<?, ?it/s]"
      ],
      "application/vnd.jupyter.widget-view+json": {
       "version_major": 2,
       "version_minor": 0,
       "model_id": "8c215085062541f99fdea5375ee67f6c"
      }
     },
     "metadata": {},
     "output_type": "display_data"
    },
    {
     "data": {
      "text/plain": [
       "curve-high rho=0.5 sigma=0.4 (4/10):   0%|          | 0/51 [00:00<?, ?it/s]"
      ],
      "application/vnd.jupyter.widget-view+json": {
       "version_major": 2,
       "version_minor": 0,
       "model_id": "e26a06287fb34a0baf512094a305e45e"
      }
     },
     "metadata": {},
     "output_type": "display_data"
    },
    {
     "data": {
      "text/plain": [
       "curve-high rho=0.5 sigma=0.8 (4/10):   0%|          | 0/51 [00:00<?, ?it/s]"
      ],
      "application/vnd.jupyter.widget-view+json": {
       "version_major": 2,
       "version_minor": 0,
       "model_id": "1b3fcdf69ab24a1b9c8b5a93a5c7bed4"
      }
     },
     "metadata": {},
     "output_type": "display_data"
    },
    {
     "data": {
      "text/plain": [
       "curve-high rho=0.5 sigma=1.6 (4/10):   0%|          | 0/51 [00:00<?, ?it/s]"
      ],
      "application/vnd.jupyter.widget-view+json": {
       "version_major": 2,
       "version_minor": 0,
       "model_id": "dd8aea1377b243dbb1628f65f8e8603a"
      }
     },
     "metadata": {},
     "output_type": "display_data"
    },
    {
     "data": {
      "text/plain": [
       "curve-high rho=0.5 sigma=3.2 (4/10):   0%|          | 0/51 [00:00<?, ?it/s]"
      ],
      "application/vnd.jupyter.widget-view+json": {
       "version_major": 2,
       "version_minor": 0,
       "model_id": "b45dc6f6520b42b3a83f1f4638fe5f41"
      }
     },
     "metadata": {},
     "output_type": "display_data"
    },
    {
     "data": {
      "text/plain": [
       "curve-high rho=0.0 sigma=0.1 (5/10):   0%|          | 0/51 [00:00<?, ?it/s]"
      ],
      "application/vnd.jupyter.widget-view+json": {
       "version_major": 2,
       "version_minor": 0,
       "model_id": "2f810e974a8e4a5981132da2f0cf9a77"
      }
     },
     "metadata": {},
     "output_type": "display_data"
    },
    {
     "data": {
      "text/plain": [
       "curve-high rho=0.0 sigma=0.2 (5/10):   0%|          | 0/51 [00:00<?, ?it/s]"
      ],
      "application/vnd.jupyter.widget-view+json": {
       "version_major": 2,
       "version_minor": 0,
       "model_id": "fda126e86add4799a1d6caa4c372ca46"
      }
     },
     "metadata": {},
     "output_type": "display_data"
    },
    {
     "data": {
      "text/plain": [
       "curve-high rho=0.0 sigma=0.4 (5/10):   0%|          | 0/51 [00:00<?, ?it/s]"
      ],
      "application/vnd.jupyter.widget-view+json": {
       "version_major": 2,
       "version_minor": 0,
       "model_id": "8fbd7f89c81a46f2837369d7006627b0"
      }
     },
     "metadata": {},
     "output_type": "display_data"
    },
    {
     "data": {
      "text/plain": [
       "curve-high rho=0.0 sigma=0.8 (5/10):   0%|          | 0/51 [00:00<?, ?it/s]"
      ],
      "application/vnd.jupyter.widget-view+json": {
       "version_major": 2,
       "version_minor": 0,
       "model_id": "6caf5f042c0844cf988a847da3e404dd"
      }
     },
     "metadata": {},
     "output_type": "display_data"
    },
    {
     "data": {
      "text/plain": [
       "curve-high rho=0.0 sigma=1.6 (5/10):   0%|          | 0/51 [00:00<?, ?it/s]"
      ],
      "application/vnd.jupyter.widget-view+json": {
       "version_major": 2,
       "version_minor": 0,
       "model_id": "c094b780b7004657b8cb3aaf3c03530f"
      }
     },
     "metadata": {},
     "output_type": "display_data"
    },
    {
     "data": {
      "text/plain": [
       "curve-high rho=0.0 sigma=3.2 (5/10):   0%|          | 0/51 [00:00<?, ?it/s]"
      ],
      "application/vnd.jupyter.widget-view+json": {
       "version_major": 2,
       "version_minor": 0,
       "model_id": "6316fec3241440b7862cd7c714ec98a7"
      }
     },
     "metadata": {},
     "output_type": "display_data"
    },
    {
     "data": {
      "text/plain": [
       "curve-high rho=0.25 sigma=0.1 (5/10):   0%|          | 0/51 [00:00<?, ?it/s]"
      ],
      "application/vnd.jupyter.widget-view+json": {
       "version_major": 2,
       "version_minor": 0,
       "model_id": "5411c68b07684b87b66db490eb381e69"
      }
     },
     "metadata": {},
     "output_type": "display_data"
    },
    {
     "data": {
      "text/plain": [
       "curve-high rho=0.25 sigma=0.2 (5/10):   0%|          | 0/51 [00:00<?, ?it/s]"
      ],
      "application/vnd.jupyter.widget-view+json": {
       "version_major": 2,
       "version_minor": 0,
       "model_id": "26733aa4e7c54688be9f2149b5bfb878"
      }
     },
     "metadata": {},
     "output_type": "display_data"
    },
    {
     "data": {
      "text/plain": [
       "curve-high rho=0.25 sigma=0.4 (5/10):   0%|          | 0/51 [00:00<?, ?it/s]"
      ],
      "application/vnd.jupyter.widget-view+json": {
       "version_major": 2,
       "version_minor": 0,
       "model_id": "7a2fe2f4f9264d8fba2e9c2f828c21cd"
      }
     },
     "metadata": {},
     "output_type": "display_data"
    },
    {
     "data": {
      "text/plain": [
       "curve-high rho=0.25 sigma=0.8 (5/10):   0%|          | 0/51 [00:00<?, ?it/s]"
      ],
      "application/vnd.jupyter.widget-view+json": {
       "version_major": 2,
       "version_minor": 0,
       "model_id": "0c6d05045d3a4a79acf47de8307eaa75"
      }
     },
     "metadata": {},
     "output_type": "display_data"
    },
    {
     "data": {
      "text/plain": [
       "curve-high rho=0.25 sigma=1.6 (5/10):   0%|          | 0/51 [00:00<?, ?it/s]"
      ],
      "application/vnd.jupyter.widget-view+json": {
       "version_major": 2,
       "version_minor": 0,
       "model_id": "d985d5dbac5a41788f59bb031c8361be"
      }
     },
     "metadata": {},
     "output_type": "display_data"
    },
    {
     "data": {
      "text/plain": [
       "curve-high rho=0.25 sigma=3.2 (5/10):   0%|          | 0/51 [00:00<?, ?it/s]"
      ],
      "application/vnd.jupyter.widget-view+json": {
       "version_major": 2,
       "version_minor": 0,
       "model_id": "e9e955c5b82d49f3a6aecae6ec67379f"
      }
     },
     "metadata": {},
     "output_type": "display_data"
    },
    {
     "data": {
      "text/plain": [
       "curve-high rho=0.5 sigma=0.1 (5/10):   0%|          | 0/51 [00:00<?, ?it/s]"
      ],
      "application/vnd.jupyter.widget-view+json": {
       "version_major": 2,
       "version_minor": 0,
       "model_id": "16b4f354a45b4f3194e9c9d3c4b6d3c9"
      }
     },
     "metadata": {},
     "output_type": "display_data"
    },
    {
     "data": {
      "text/plain": [
       "curve-high rho=0.5 sigma=0.2 (5/10):   0%|          | 0/51 [00:00<?, ?it/s]"
      ],
      "application/vnd.jupyter.widget-view+json": {
       "version_major": 2,
       "version_minor": 0,
       "model_id": "17be405b5a61463cbd23f9ca82257ad4"
      }
     },
     "metadata": {},
     "output_type": "display_data"
    },
    {
     "data": {
      "text/plain": [
       "curve-high rho=0.5 sigma=0.4 (5/10):   0%|          | 0/51 [00:00<?, ?it/s]"
      ],
      "application/vnd.jupyter.widget-view+json": {
       "version_major": 2,
       "version_minor": 0,
       "model_id": "56f99cd7595a430ab981547e6d365024"
      }
     },
     "metadata": {},
     "output_type": "display_data"
    },
    {
     "data": {
      "text/plain": [
       "curve-high rho=0.5 sigma=0.8 (5/10):   0%|          | 0/51 [00:00<?, ?it/s]"
      ],
      "application/vnd.jupyter.widget-view+json": {
       "version_major": 2,
       "version_minor": 0,
       "model_id": "910fde554e474b9d970b6f742abf703b"
      }
     },
     "metadata": {},
     "output_type": "display_data"
    },
    {
     "data": {
      "text/plain": [
       "curve-high rho=0.5 sigma=1.6 (5/10):   0%|          | 0/51 [00:00<?, ?it/s]"
      ],
      "application/vnd.jupyter.widget-view+json": {
       "version_major": 2,
       "version_minor": 0,
       "model_id": "52f880875af44df7828b9f7d9e08074f"
      }
     },
     "metadata": {},
     "output_type": "display_data"
    },
    {
     "data": {
      "text/plain": [
       "curve-high rho=0.5 sigma=3.2 (5/10):   0%|          | 0/51 [00:00<?, ?it/s]"
      ],
      "application/vnd.jupyter.widget-view+json": {
       "version_major": 2,
       "version_minor": 0,
       "model_id": "e5ceb0a77ced4b889e620833f2356833"
      }
     },
     "metadata": {},
     "output_type": "display_data"
    },
    {
     "data": {
      "text/plain": [
       "curve-high rho=0.0 sigma=0.1 (6/10):   0%|          | 0/51 [00:00<?, ?it/s]"
      ],
      "application/vnd.jupyter.widget-view+json": {
       "version_major": 2,
       "version_minor": 0,
       "model_id": "1b0b48cd58c14f37bb7cd81c666a3bbd"
      }
     },
     "metadata": {},
     "output_type": "display_data"
    },
    {
     "data": {
      "text/plain": [
       "curve-high rho=0.0 sigma=0.2 (6/10):   0%|          | 0/51 [00:00<?, ?it/s]"
      ],
      "application/vnd.jupyter.widget-view+json": {
       "version_major": 2,
       "version_minor": 0,
       "model_id": "c077f29ca1e54c8ebc40868266ba384a"
      }
     },
     "metadata": {},
     "output_type": "display_data"
    },
    {
     "data": {
      "text/plain": [
       "curve-high rho=0.0 sigma=0.4 (6/10):   0%|          | 0/51 [00:00<?, ?it/s]"
      ],
      "application/vnd.jupyter.widget-view+json": {
       "version_major": 2,
       "version_minor": 0,
       "model_id": "c2f8bf5875b04d1c9eb72a26f23886cc"
      }
     },
     "metadata": {},
     "output_type": "display_data"
    },
    {
     "data": {
      "text/plain": [
       "curve-high rho=0.0 sigma=0.8 (6/10):   0%|          | 0/51 [00:00<?, ?it/s]"
      ],
      "application/vnd.jupyter.widget-view+json": {
       "version_major": 2,
       "version_minor": 0,
       "model_id": "01990d25d0e5413ab5ecb6a9117f3744"
      }
     },
     "metadata": {},
     "output_type": "display_data"
    },
    {
     "data": {
      "text/plain": [
       "curve-high rho=0.0 sigma=1.6 (6/10):   0%|          | 0/51 [00:00<?, ?it/s]"
      ],
      "application/vnd.jupyter.widget-view+json": {
       "version_major": 2,
       "version_minor": 0,
       "model_id": "5192a591e4ea40999d93258c02b3a32e"
      }
     },
     "metadata": {},
     "output_type": "display_data"
    },
    {
     "data": {
      "text/plain": [
       "curve-high rho=0.0 sigma=3.2 (6/10):   0%|          | 0/51 [00:00<?, ?it/s]"
      ],
      "application/vnd.jupyter.widget-view+json": {
       "version_major": 2,
       "version_minor": 0,
       "model_id": "8aee5881fba046bbafe1e016b80c9e5c"
      }
     },
     "metadata": {},
     "output_type": "display_data"
    },
    {
     "data": {
      "text/plain": [
       "curve-high rho=0.25 sigma=0.1 (6/10):   0%|          | 0/51 [00:00<?, ?it/s]"
      ],
      "application/vnd.jupyter.widget-view+json": {
       "version_major": 2,
       "version_minor": 0,
       "model_id": "3cccc95616f840f29d66b267a3f4ee4f"
      }
     },
     "metadata": {},
     "output_type": "display_data"
    },
    {
     "data": {
      "text/plain": [
       "curve-high rho=0.25 sigma=0.2 (6/10):   0%|          | 0/51 [00:00<?, ?it/s]"
      ],
      "application/vnd.jupyter.widget-view+json": {
       "version_major": 2,
       "version_minor": 0,
       "model_id": "d84efde8c0c74be0b81f42bd1766eb66"
      }
     },
     "metadata": {},
     "output_type": "display_data"
    },
    {
     "data": {
      "text/plain": [
       "curve-high rho=0.25 sigma=0.4 (6/10):   0%|          | 0/51 [00:00<?, ?it/s]"
      ],
      "application/vnd.jupyter.widget-view+json": {
       "version_major": 2,
       "version_minor": 0,
       "model_id": "47bd049f25ca455583916ba509c5b7b0"
      }
     },
     "metadata": {},
     "output_type": "display_data"
    },
    {
     "data": {
      "text/plain": [
       "curve-high rho=0.25 sigma=0.8 (6/10):   0%|          | 0/51 [00:00<?, ?it/s]"
      ],
      "application/vnd.jupyter.widget-view+json": {
       "version_major": 2,
       "version_minor": 0,
       "model_id": "7ef4794d64434b8696fd93e1e0d7fb7c"
      }
     },
     "metadata": {},
     "output_type": "display_data"
    },
    {
     "data": {
      "text/plain": [
       "curve-high rho=0.25 sigma=1.6 (6/10):   0%|          | 0/51 [00:00<?, ?it/s]"
      ],
      "application/vnd.jupyter.widget-view+json": {
       "version_major": 2,
       "version_minor": 0,
       "model_id": "12f8e6eb9c314f2f9b276669e71017a8"
      }
     },
     "metadata": {},
     "output_type": "display_data"
    },
    {
     "data": {
      "text/plain": [
       "curve-high rho=0.25 sigma=3.2 (6/10):   0%|          | 0/51 [00:00<?, ?it/s]"
      ],
      "application/vnd.jupyter.widget-view+json": {
       "version_major": 2,
       "version_minor": 0,
       "model_id": "b750bb60bf6e4f9f93f413a9a03c19d0"
      }
     },
     "metadata": {},
     "output_type": "display_data"
    },
    {
     "data": {
      "text/plain": [
       "curve-high rho=0.5 sigma=0.1 (6/10):   0%|          | 0/51 [00:00<?, ?it/s]"
      ],
      "application/vnd.jupyter.widget-view+json": {
       "version_major": 2,
       "version_minor": 0,
       "model_id": "a30d27e6f0b04169830e41a9b59a501a"
      }
     },
     "metadata": {},
     "output_type": "display_data"
    },
    {
     "data": {
      "text/plain": [
       "curve-high rho=0.5 sigma=0.2 (6/10):   0%|          | 0/51 [00:00<?, ?it/s]"
      ],
      "application/vnd.jupyter.widget-view+json": {
       "version_major": 2,
       "version_minor": 0,
       "model_id": "95b1b2693c5e430d944e9cd6dc7e0a28"
      }
     },
     "metadata": {},
     "output_type": "display_data"
    },
    {
     "data": {
      "text/plain": [
       "curve-high rho=0.5 sigma=0.4 (6/10):   0%|          | 0/51 [00:00<?, ?it/s]"
      ],
      "application/vnd.jupyter.widget-view+json": {
       "version_major": 2,
       "version_minor": 0,
       "model_id": "c5434f9054ee4299a82f8ebc9fdab6b0"
      }
     },
     "metadata": {},
     "output_type": "display_data"
    },
    {
     "data": {
      "text/plain": [
       "curve-high rho=0.5 sigma=0.8 (6/10):   0%|          | 0/51 [00:00<?, ?it/s]"
      ],
      "application/vnd.jupyter.widget-view+json": {
       "version_major": 2,
       "version_minor": 0,
       "model_id": "2c7cd3b2ed1249faa2cc29e7c131c8e8"
      }
     },
     "metadata": {},
     "output_type": "display_data"
    },
    {
     "data": {
      "text/plain": [
       "curve-high rho=0.5 sigma=1.6 (6/10):   0%|          | 0/51 [00:00<?, ?it/s]"
      ],
      "application/vnd.jupyter.widget-view+json": {
       "version_major": 2,
       "version_minor": 0,
       "model_id": "d8e2f5fabcb74a29a5184e1984bda366"
      }
     },
     "metadata": {},
     "output_type": "display_data"
    },
    {
     "data": {
      "text/plain": [
       "curve-high rho=0.5 sigma=3.2 (6/10):   0%|          | 0/51 [00:00<?, ?it/s]"
      ],
      "application/vnd.jupyter.widget-view+json": {
       "version_major": 2,
       "version_minor": 0,
       "model_id": "2b113304ea9f408d87c09380bfef6d5a"
      }
     },
     "metadata": {},
     "output_type": "display_data"
    },
    {
     "data": {
      "text/plain": [
       "curve-high rho=0.0 sigma=0.1 (7/10):   0%|          | 0/51 [00:00<?, ?it/s]"
      ],
      "application/vnd.jupyter.widget-view+json": {
       "version_major": 2,
       "version_minor": 0,
       "model_id": "edc877b4cd024e7f99016959d5f2e818"
      }
     },
     "metadata": {},
     "output_type": "display_data"
    },
    {
     "data": {
      "text/plain": [
       "curve-high rho=0.0 sigma=0.2 (7/10):   0%|          | 0/51 [00:00<?, ?it/s]"
      ],
      "application/vnd.jupyter.widget-view+json": {
       "version_major": 2,
       "version_minor": 0,
       "model_id": "d30108f95eb448cab192d483596ba5e6"
      }
     },
     "metadata": {},
     "output_type": "display_data"
    },
    {
     "data": {
      "text/plain": [
       "curve-high rho=0.0 sigma=0.4 (7/10):   0%|          | 0/51 [00:00<?, ?it/s]"
      ],
      "application/vnd.jupyter.widget-view+json": {
       "version_major": 2,
       "version_minor": 0,
       "model_id": "d69592b1605f4797acd63428fdcab99f"
      }
     },
     "metadata": {},
     "output_type": "display_data"
    },
    {
     "data": {
      "text/plain": [
       "curve-high rho=0.0 sigma=0.8 (7/10):   0%|          | 0/51 [00:00<?, ?it/s]"
      ],
      "application/vnd.jupyter.widget-view+json": {
       "version_major": 2,
       "version_minor": 0,
       "model_id": "7e39d07c09254b57ba12e6c2044c921e"
      }
     },
     "metadata": {},
     "output_type": "display_data"
    },
    {
     "data": {
      "text/plain": [
       "curve-high rho=0.0 sigma=1.6 (7/10):   0%|          | 0/51 [00:00<?, ?it/s]"
      ],
      "application/vnd.jupyter.widget-view+json": {
       "version_major": 2,
       "version_minor": 0,
       "model_id": "5779788983624afd9efa96041929806c"
      }
     },
     "metadata": {},
     "output_type": "display_data"
    },
    {
     "data": {
      "text/plain": [
       "curve-high rho=0.0 sigma=3.2 (7/10):   0%|          | 0/51 [00:00<?, ?it/s]"
      ],
      "application/vnd.jupyter.widget-view+json": {
       "version_major": 2,
       "version_minor": 0,
       "model_id": "28337a03ce7f4fd3a4bbac4c189cb500"
      }
     },
     "metadata": {},
     "output_type": "display_data"
    },
    {
     "data": {
      "text/plain": [
       "curve-high rho=0.25 sigma=0.1 (7/10):   0%|          | 0/51 [00:00<?, ?it/s]"
      ],
      "application/vnd.jupyter.widget-view+json": {
       "version_major": 2,
       "version_minor": 0,
       "model_id": "61f1056fad9f4deaa8da9986118add3a"
      }
     },
     "metadata": {},
     "output_type": "display_data"
    },
    {
     "data": {
      "text/plain": [
       "curve-high rho=0.25 sigma=0.2 (7/10):   0%|          | 0/51 [00:00<?, ?it/s]"
      ],
      "application/vnd.jupyter.widget-view+json": {
       "version_major": 2,
       "version_minor": 0,
       "model_id": "650f98354dc3480387b3183afd6f4265"
      }
     },
     "metadata": {},
     "output_type": "display_data"
    },
    {
     "data": {
      "text/plain": [
       "curve-high rho=0.25 sigma=0.4 (7/10):   0%|          | 0/51 [00:00<?, ?it/s]"
      ],
      "application/vnd.jupyter.widget-view+json": {
       "version_major": 2,
       "version_minor": 0,
       "model_id": "bbaa4d4c6ace4904947d013de73363c8"
      }
     },
     "metadata": {},
     "output_type": "display_data"
    },
    {
     "data": {
      "text/plain": [
       "curve-high rho=0.25 sigma=0.8 (7/10):   0%|          | 0/51 [00:00<?, ?it/s]"
      ],
      "application/vnd.jupyter.widget-view+json": {
       "version_major": 2,
       "version_minor": 0,
       "model_id": "2776dd8aa8c442b190bac8eb1112c108"
      }
     },
     "metadata": {},
     "output_type": "display_data"
    },
    {
     "data": {
      "text/plain": [
       "curve-high rho=0.25 sigma=1.6 (7/10):   0%|          | 0/51 [00:00<?, ?it/s]"
      ],
      "application/vnd.jupyter.widget-view+json": {
       "version_major": 2,
       "version_minor": 0,
       "model_id": "b30ea3eb7d544ad18a014e9b1e2df0ee"
      }
     },
     "metadata": {},
     "output_type": "display_data"
    },
    {
     "data": {
      "text/plain": [
       "curve-high rho=0.25 sigma=3.2 (7/10):   0%|          | 0/51 [00:00<?, ?it/s]"
      ],
      "application/vnd.jupyter.widget-view+json": {
       "version_major": 2,
       "version_minor": 0,
       "model_id": "11accaf4c25e4bb99ab966b038c742c8"
      }
     },
     "metadata": {},
     "output_type": "display_data"
    },
    {
     "data": {
      "text/plain": [
       "curve-high rho=0.5 sigma=0.1 (7/10):   0%|          | 0/51 [00:00<?, ?it/s]"
      ],
      "application/vnd.jupyter.widget-view+json": {
       "version_major": 2,
       "version_minor": 0,
       "model_id": "90c8ad523b244fbc86ed7138987d1a1b"
      }
     },
     "metadata": {},
     "output_type": "display_data"
    },
    {
     "data": {
      "text/plain": [
       "curve-high rho=0.5 sigma=0.2 (7/10):   0%|          | 0/51 [00:00<?, ?it/s]"
      ],
      "application/vnd.jupyter.widget-view+json": {
       "version_major": 2,
       "version_minor": 0,
       "model_id": "cc354082354046cabcc48d5010a78fd4"
      }
     },
     "metadata": {},
     "output_type": "display_data"
    },
    {
     "data": {
      "text/plain": [
       "curve-high rho=0.5 sigma=0.4 (7/10):   0%|          | 0/51 [00:00<?, ?it/s]"
      ],
      "application/vnd.jupyter.widget-view+json": {
       "version_major": 2,
       "version_minor": 0,
       "model_id": "f27e192ba1614c0fbff268e27630f50c"
      }
     },
     "metadata": {},
     "output_type": "display_data"
    },
    {
     "data": {
      "text/plain": [
       "curve-high rho=0.5 sigma=0.8 (7/10):   0%|          | 0/51 [00:00<?, ?it/s]"
      ],
      "application/vnd.jupyter.widget-view+json": {
       "version_major": 2,
       "version_minor": 0,
       "model_id": "38a18427dda14355bc5f213e609bca94"
      }
     },
     "metadata": {},
     "output_type": "display_data"
    },
    {
     "data": {
      "text/plain": [
       "curve-high rho=0.5 sigma=1.6 (7/10):   0%|          | 0/51 [00:00<?, ?it/s]"
      ],
      "application/vnd.jupyter.widget-view+json": {
       "version_major": 2,
       "version_minor": 0,
       "model_id": "00156a2257334b608f597e94fa05c931"
      }
     },
     "metadata": {},
     "output_type": "display_data"
    },
    {
     "data": {
      "text/plain": [
       "curve-high rho=0.5 sigma=3.2 (7/10):   0%|          | 0/51 [00:00<?, ?it/s]"
      ],
      "application/vnd.jupyter.widget-view+json": {
       "version_major": 2,
       "version_minor": 0,
       "model_id": "d70057db1bd14ce8b08bd6996fd7da19"
      }
     },
     "metadata": {},
     "output_type": "display_data"
    },
    {
     "data": {
      "text/plain": [
       "curve-high rho=0.0 sigma=0.1 (8/10):   0%|          | 0/51 [00:00<?, ?it/s]"
      ],
      "application/vnd.jupyter.widget-view+json": {
       "version_major": 2,
       "version_minor": 0,
       "model_id": "ee2e283477ce4be09e250b28a131f27f"
      }
     },
     "metadata": {},
     "output_type": "display_data"
    },
    {
     "data": {
      "text/plain": [
       "curve-high rho=0.0 sigma=0.2 (8/10):   0%|          | 0/51 [00:00<?, ?it/s]"
      ],
      "application/vnd.jupyter.widget-view+json": {
       "version_major": 2,
       "version_minor": 0,
       "model_id": "4f234217a23b4ec0af1d656f5c670a38"
      }
     },
     "metadata": {},
     "output_type": "display_data"
    },
    {
     "data": {
      "text/plain": [
       "curve-high rho=0.0 sigma=0.4 (8/10):   0%|          | 0/51 [00:00<?, ?it/s]"
      ],
      "application/vnd.jupyter.widget-view+json": {
       "version_major": 2,
       "version_minor": 0,
       "model_id": "02c8dfcffc4a4242a301d9a9b056c9b1"
      }
     },
     "metadata": {},
     "output_type": "display_data"
    },
    {
     "data": {
      "text/plain": [
       "curve-high rho=0.0 sigma=0.8 (8/10):   0%|          | 0/51 [00:00<?, ?it/s]"
      ],
      "application/vnd.jupyter.widget-view+json": {
       "version_major": 2,
       "version_minor": 0,
       "model_id": "8781acca5f7f48138426ebcd78a4466f"
      }
     },
     "metadata": {},
     "output_type": "display_data"
    },
    {
     "data": {
      "text/plain": [
       "curve-high rho=0.0 sigma=1.6 (8/10):   0%|          | 0/51 [00:00<?, ?it/s]"
      ],
      "application/vnd.jupyter.widget-view+json": {
       "version_major": 2,
       "version_minor": 0,
       "model_id": "f660a8082632456e84b03178ff88646a"
      }
     },
     "metadata": {},
     "output_type": "display_data"
    },
    {
     "data": {
      "text/plain": [
       "curve-high rho=0.0 sigma=3.2 (8/10):   0%|          | 0/51 [00:00<?, ?it/s]"
      ],
      "application/vnd.jupyter.widget-view+json": {
       "version_major": 2,
       "version_minor": 0,
       "model_id": "de9ab4d0883843d49f9396b3a56dd439"
      }
     },
     "metadata": {},
     "output_type": "display_data"
    },
    {
     "data": {
      "text/plain": [
       "curve-high rho=0.25 sigma=0.1 (8/10):   0%|          | 0/51 [00:00<?, ?it/s]"
      ],
      "application/vnd.jupyter.widget-view+json": {
       "version_major": 2,
       "version_minor": 0,
       "model_id": "6b27e06a26e14178bba7cd5fc2d3e44e"
      }
     },
     "metadata": {},
     "output_type": "display_data"
    },
    {
     "data": {
      "text/plain": [
       "curve-high rho=0.25 sigma=0.2 (8/10):   0%|          | 0/51 [00:00<?, ?it/s]"
      ],
      "application/vnd.jupyter.widget-view+json": {
       "version_major": 2,
       "version_minor": 0,
       "model_id": "5a364f2c98be4cfd85f298e2b9dfdbd9"
      }
     },
     "metadata": {},
     "output_type": "display_data"
    },
    {
     "data": {
      "text/plain": [
       "curve-high rho=0.25 sigma=0.4 (8/10):   0%|          | 0/51 [00:00<?, ?it/s]"
      ],
      "application/vnd.jupyter.widget-view+json": {
       "version_major": 2,
       "version_minor": 0,
       "model_id": "ab651cbe62524c03b4bcf684b27dcb33"
      }
     },
     "metadata": {},
     "output_type": "display_data"
    },
    {
     "data": {
      "text/plain": [
       "curve-high rho=0.25 sigma=0.8 (8/10):   0%|          | 0/51 [00:00<?, ?it/s]"
      ],
      "application/vnd.jupyter.widget-view+json": {
       "version_major": 2,
       "version_minor": 0,
       "model_id": "7cddf5aa77a940a797fffe3cc32e2fcc"
      }
     },
     "metadata": {},
     "output_type": "display_data"
    },
    {
     "data": {
      "text/plain": [
       "curve-high rho=0.25 sigma=1.6 (8/10):   0%|          | 0/51 [00:00<?, ?it/s]"
      ],
      "application/vnd.jupyter.widget-view+json": {
       "version_major": 2,
       "version_minor": 0,
       "model_id": "c87b2ddf804d4fc3964652605c0cedf2"
      }
     },
     "metadata": {},
     "output_type": "display_data"
    },
    {
     "data": {
      "text/plain": [
       "curve-high rho=0.25 sigma=3.2 (8/10):   0%|          | 0/51 [00:00<?, ?it/s]"
      ],
      "application/vnd.jupyter.widget-view+json": {
       "version_major": 2,
       "version_minor": 0,
       "model_id": "797923f74c5546efb629ccc33b0ea719"
      }
     },
     "metadata": {},
     "output_type": "display_data"
    },
    {
     "data": {
      "text/plain": [
       "curve-high rho=0.5 sigma=0.1 (8/10):   0%|          | 0/51 [00:00<?, ?it/s]"
      ],
      "application/vnd.jupyter.widget-view+json": {
       "version_major": 2,
       "version_minor": 0,
       "model_id": "d716fdb37a5f4584ae02101035b82fcb"
      }
     },
     "metadata": {},
     "output_type": "display_data"
    },
    {
     "data": {
      "text/plain": [
       "curve-high rho=0.5 sigma=0.2 (8/10):   0%|          | 0/51 [00:00<?, ?it/s]"
      ],
      "application/vnd.jupyter.widget-view+json": {
       "version_major": 2,
       "version_minor": 0,
       "model_id": "abd886f84c80494c9ad26e9d0715cbf5"
      }
     },
     "metadata": {},
     "output_type": "display_data"
    },
    {
     "data": {
      "text/plain": [
       "curve-high rho=0.5 sigma=0.4 (8/10):   0%|          | 0/51 [00:00<?, ?it/s]"
      ],
      "application/vnd.jupyter.widget-view+json": {
       "version_major": 2,
       "version_minor": 0,
       "model_id": "2a4e4b1eaaf24b0a92c3522ac283e21d"
      }
     },
     "metadata": {},
     "output_type": "display_data"
    },
    {
     "data": {
      "text/plain": [
       "curve-high rho=0.5 sigma=0.8 (8/10):   0%|          | 0/51 [00:00<?, ?it/s]"
      ],
      "application/vnd.jupyter.widget-view+json": {
       "version_major": 2,
       "version_minor": 0,
       "model_id": "d46521ae336c4973bb4f4aa17d50ac46"
      }
     },
     "metadata": {},
     "output_type": "display_data"
    },
    {
     "data": {
      "text/plain": [
       "curve-high rho=0.5 sigma=1.6 (8/10):   0%|          | 0/51 [00:00<?, ?it/s]"
      ],
      "application/vnd.jupyter.widget-view+json": {
       "version_major": 2,
       "version_minor": 0,
       "model_id": "ac97997d2e8e4f8da968777fea84434a"
      }
     },
     "metadata": {},
     "output_type": "display_data"
    },
    {
     "data": {
      "text/plain": [
       "curve-high rho=0.5 sigma=3.2 (8/10):   0%|          | 0/51 [00:00<?, ?it/s]"
      ],
      "application/vnd.jupyter.widget-view+json": {
       "version_major": 2,
       "version_minor": 0,
       "model_id": "0669840554c84dd28e7fcb904f2314a9"
      }
     },
     "metadata": {},
     "output_type": "display_data"
    },
    {
     "data": {
      "text/plain": [
       "curve-high rho=0.0 sigma=0.1 (9/10):   0%|          | 0/51 [00:00<?, ?it/s]"
      ],
      "application/vnd.jupyter.widget-view+json": {
       "version_major": 2,
       "version_minor": 0,
       "model_id": "9da007fd98a64fcf957265e7d53e746a"
      }
     },
     "metadata": {},
     "output_type": "display_data"
    },
    {
     "data": {
      "text/plain": [
       "curve-high rho=0.0 sigma=0.2 (9/10):   0%|          | 0/51 [00:00<?, ?it/s]"
      ],
      "application/vnd.jupyter.widget-view+json": {
       "version_major": 2,
       "version_minor": 0,
       "model_id": "591c6f9e101d4378bc2e1bc7cd30c27b"
      }
     },
     "metadata": {},
     "output_type": "display_data"
    },
    {
     "data": {
      "text/plain": [
       "curve-high rho=0.0 sigma=0.4 (9/10):   0%|          | 0/51 [00:00<?, ?it/s]"
      ],
      "application/vnd.jupyter.widget-view+json": {
       "version_major": 2,
       "version_minor": 0,
       "model_id": "391e78cfa6b2447a821448574c45967b"
      }
     },
     "metadata": {},
     "output_type": "display_data"
    },
    {
     "data": {
      "text/plain": [
       "curve-high rho=0.0 sigma=0.8 (9/10):   0%|          | 0/51 [00:00<?, ?it/s]"
      ],
      "application/vnd.jupyter.widget-view+json": {
       "version_major": 2,
       "version_minor": 0,
       "model_id": "c497285de2a14b0b9422ae0a3e3781b3"
      }
     },
     "metadata": {},
     "output_type": "display_data"
    },
    {
     "data": {
      "text/plain": [
       "curve-high rho=0.0 sigma=1.6 (9/10):   0%|          | 0/51 [00:00<?, ?it/s]"
      ],
      "application/vnd.jupyter.widget-view+json": {
       "version_major": 2,
       "version_minor": 0,
       "model_id": "e91204cc38fc4269ad738ff3d3450054"
      }
     },
     "metadata": {},
     "output_type": "display_data"
    },
    {
     "data": {
      "text/plain": [
       "curve-high rho=0.0 sigma=3.2 (9/10):   0%|          | 0/51 [00:00<?, ?it/s]"
      ],
      "application/vnd.jupyter.widget-view+json": {
       "version_major": 2,
       "version_minor": 0,
       "model_id": "cd23c76d2c164df9826eff0de1ad0f42"
      }
     },
     "metadata": {},
     "output_type": "display_data"
    },
    {
     "data": {
      "text/plain": [
       "curve-high rho=0.25 sigma=0.1 (9/10):   0%|          | 0/51 [00:00<?, ?it/s]"
      ],
      "application/vnd.jupyter.widget-view+json": {
       "version_major": 2,
       "version_minor": 0,
       "model_id": "b7a8b1dbc1304f88b464ecbc2f309a6c"
      }
     },
     "metadata": {},
     "output_type": "display_data"
    },
    {
     "data": {
      "text/plain": [
       "curve-high rho=0.25 sigma=0.2 (9/10):   0%|          | 0/51 [00:00<?, ?it/s]"
      ],
      "application/vnd.jupyter.widget-view+json": {
       "version_major": 2,
       "version_minor": 0,
       "model_id": "0370e95402da47ae86da22ae7b5e4765"
      }
     },
     "metadata": {},
     "output_type": "display_data"
    },
    {
     "data": {
      "text/plain": [
       "curve-high rho=0.25 sigma=0.4 (9/10):   0%|          | 0/51 [00:00<?, ?it/s]"
      ],
      "application/vnd.jupyter.widget-view+json": {
       "version_major": 2,
       "version_minor": 0,
       "model_id": "80b3b26d01884751b0193327c5c8d34a"
      }
     },
     "metadata": {},
     "output_type": "display_data"
    },
    {
     "data": {
      "text/plain": [
       "curve-high rho=0.25 sigma=0.8 (9/10):   0%|          | 0/51 [00:00<?, ?it/s]"
      ],
      "application/vnd.jupyter.widget-view+json": {
       "version_major": 2,
       "version_minor": 0,
       "model_id": "b46d6e34c3b2433cb2f9ea0a535675f5"
      }
     },
     "metadata": {},
     "output_type": "display_data"
    },
    {
     "data": {
      "text/plain": [
       "curve-high rho=0.25 sigma=1.6 (9/10):   0%|          | 0/51 [00:00<?, ?it/s]"
      ],
      "application/vnd.jupyter.widget-view+json": {
       "version_major": 2,
       "version_minor": 0,
       "model_id": "42eacfa6b0204f19aed3e0cc6308a864"
      }
     },
     "metadata": {},
     "output_type": "display_data"
    },
    {
     "data": {
      "text/plain": [
       "curve-high rho=0.25 sigma=3.2 (9/10):   0%|          | 0/51 [00:00<?, ?it/s]"
      ],
      "application/vnd.jupyter.widget-view+json": {
       "version_major": 2,
       "version_minor": 0,
       "model_id": "f122f4c186934d5fb66bbed139c6b328"
      }
     },
     "metadata": {},
     "output_type": "display_data"
    },
    {
     "data": {
      "text/plain": [
       "curve-high rho=0.5 sigma=0.1 (9/10):   0%|          | 0/51 [00:00<?, ?it/s]"
      ],
      "application/vnd.jupyter.widget-view+json": {
       "version_major": 2,
       "version_minor": 0,
       "model_id": "17c6849c9a484212b36885de3b9ff217"
      }
     },
     "metadata": {},
     "output_type": "display_data"
    },
    {
     "data": {
      "text/plain": [
       "curve-high rho=0.5 sigma=0.2 (9/10):   0%|          | 0/51 [00:00<?, ?it/s]"
      ],
      "application/vnd.jupyter.widget-view+json": {
       "version_major": 2,
       "version_minor": 0,
       "model_id": "7f05c1c405ce4ee39448122ef2d32df4"
      }
     },
     "metadata": {},
     "output_type": "display_data"
    },
    {
     "data": {
      "text/plain": [
       "curve-high rho=0.5 sigma=0.4 (9/10):   0%|          | 0/51 [00:00<?, ?it/s]"
      ],
      "application/vnd.jupyter.widget-view+json": {
       "version_major": 2,
       "version_minor": 0,
       "model_id": "bfd13f3cc3d74ef4a50c74174133b85c"
      }
     },
     "metadata": {},
     "output_type": "display_data"
    },
    {
     "data": {
      "text/plain": [
       "curve-high rho=0.5 sigma=0.8 (9/10):   0%|          | 0/51 [00:00<?, ?it/s]"
      ],
      "application/vnd.jupyter.widget-view+json": {
       "version_major": 2,
       "version_minor": 0,
       "model_id": "309f7d7de46e44b29e2a1d36bacc79cf"
      }
     },
     "metadata": {},
     "output_type": "display_data"
    },
    {
     "data": {
      "text/plain": [
       "curve-high rho=0.5 sigma=1.6 (9/10):   0%|          | 0/51 [00:00<?, ?it/s]"
      ],
      "application/vnd.jupyter.widget-view+json": {
       "version_major": 2,
       "version_minor": 0,
       "model_id": "d2c59e799a2b49e391aa544500c511c7"
      }
     },
     "metadata": {},
     "output_type": "display_data"
    },
    {
     "data": {
      "text/plain": [
       "curve-high rho=0.5 sigma=3.2 (9/10):   0%|          | 0/51 [00:00<?, ?it/s]"
      ],
      "application/vnd.jupyter.widget-view+json": {
       "version_major": 2,
       "version_minor": 0,
       "model_id": "e600afba1a324be38547397256c8beb4"
      }
     },
     "metadata": {},
     "output_type": "display_data"
    },
    {
     "data": {
      "text/plain": [
       "curve-high rho=0.0 sigma=0.1 (10/10):   0%|          | 0/51 [00:00<?, ?it/s]"
      ],
      "application/vnd.jupyter.widget-view+json": {
       "version_major": 2,
       "version_minor": 0,
       "model_id": "0ff5252d43c54d3b871d56cb25209aec"
      }
     },
     "metadata": {},
     "output_type": "display_data"
    },
    {
     "data": {
      "text/plain": [
       "curve-high rho=0.0 sigma=0.2 (10/10):   0%|          | 0/51 [00:00<?, ?it/s]"
      ],
      "application/vnd.jupyter.widget-view+json": {
       "version_major": 2,
       "version_minor": 0,
       "model_id": "d8c17707afe34729a1303f18452d2dd5"
      }
     },
     "metadata": {},
     "output_type": "display_data"
    },
    {
     "data": {
      "text/plain": [
       "curve-high rho=0.0 sigma=0.4 (10/10):   0%|          | 0/51 [00:00<?, ?it/s]"
      ],
      "application/vnd.jupyter.widget-view+json": {
       "version_major": 2,
       "version_minor": 0,
       "model_id": "278b0d72a5d748db848ee61755f85743"
      }
     },
     "metadata": {},
     "output_type": "display_data"
    },
    {
     "data": {
      "text/plain": [
       "curve-high rho=0.0 sigma=0.8 (10/10):   0%|          | 0/51 [00:00<?, ?it/s]"
      ],
      "application/vnd.jupyter.widget-view+json": {
       "version_major": 2,
       "version_minor": 0,
       "model_id": "d6a3103d22b94f5eb71a04abbd23b514"
      }
     },
     "metadata": {},
     "output_type": "display_data"
    },
    {
     "data": {
      "text/plain": [
       "curve-high rho=0.0 sigma=1.6 (10/10):   0%|          | 0/51 [00:00<?, ?it/s]"
      ],
      "application/vnd.jupyter.widget-view+json": {
       "version_major": 2,
       "version_minor": 0,
       "model_id": "4acef64645f04bb49609d79bd278918a"
      }
     },
     "metadata": {},
     "output_type": "display_data"
    },
    {
     "data": {
      "text/plain": [
       "curve-high rho=0.0 sigma=3.2 (10/10):   0%|          | 0/51 [00:00<?, ?it/s]"
      ],
      "application/vnd.jupyter.widget-view+json": {
       "version_major": 2,
       "version_minor": 0,
       "model_id": "afd73209c418424bbd67f9b49912cdc2"
      }
     },
     "metadata": {},
     "output_type": "display_data"
    },
    {
     "data": {
      "text/plain": [
       "curve-high rho=0.25 sigma=0.1 (10/10):   0%|          | 0/51 [00:00<?, ?it/s]"
      ],
      "application/vnd.jupyter.widget-view+json": {
       "version_major": 2,
       "version_minor": 0,
       "model_id": "06e10bedff864ea0aa8eb1a8d30a7fbd"
      }
     },
     "metadata": {},
     "output_type": "display_data"
    },
    {
     "data": {
      "text/plain": [
       "curve-high rho=0.25 sigma=0.2 (10/10):   0%|          | 0/51 [00:00<?, ?it/s]"
      ],
      "application/vnd.jupyter.widget-view+json": {
       "version_major": 2,
       "version_minor": 0,
       "model_id": "0b7f4b02e63a497193b53bdecdbeac40"
      }
     },
     "metadata": {},
     "output_type": "display_data"
    },
    {
     "data": {
      "text/plain": [
       "curve-high rho=0.25 sigma=0.4 (10/10):   0%|          | 0/51 [00:00<?, ?it/s]"
      ],
      "application/vnd.jupyter.widget-view+json": {
       "version_major": 2,
       "version_minor": 0,
       "model_id": "450ec5de755a41b98b24113e241063c2"
      }
     },
     "metadata": {},
     "output_type": "display_data"
    },
    {
     "data": {
      "text/plain": [
       "curve-high rho=0.25 sigma=0.8 (10/10):   0%|          | 0/51 [00:00<?, ?it/s]"
      ],
      "application/vnd.jupyter.widget-view+json": {
       "version_major": 2,
       "version_minor": 0,
       "model_id": "0864aaad42394959888aa534eee54847"
      }
     },
     "metadata": {},
     "output_type": "display_data"
    },
    {
     "data": {
      "text/plain": [
       "curve-high rho=0.25 sigma=1.6 (10/10):   0%|          | 0/51 [00:00<?, ?it/s]"
      ],
      "application/vnd.jupyter.widget-view+json": {
       "version_major": 2,
       "version_minor": 0,
       "model_id": "8c5b73214dfa4bfea07f45ad87c1f058"
      }
     },
     "metadata": {},
     "output_type": "display_data"
    },
    {
     "data": {
      "text/plain": [
       "curve-high rho=0.25 sigma=3.2 (10/10):   0%|          | 0/51 [00:00<?, ?it/s]"
      ],
      "application/vnd.jupyter.widget-view+json": {
       "version_major": 2,
       "version_minor": 0,
       "model_id": "be5a904c5ebe4dcb8de21f7cc182a5be"
      }
     },
     "metadata": {},
     "output_type": "display_data"
    },
    {
     "data": {
      "text/plain": [
       "curve-high rho=0.5 sigma=0.1 (10/10):   0%|          | 0/51 [00:00<?, ?it/s]"
      ],
      "application/vnd.jupyter.widget-view+json": {
       "version_major": 2,
       "version_minor": 0,
       "model_id": "bcf20be805244b54af4393ac6ee80f14"
      }
     },
     "metadata": {},
     "output_type": "display_data"
    },
    {
     "data": {
      "text/plain": [
       "curve-high rho=0.5 sigma=0.2 (10/10):   0%|          | 0/51 [00:00<?, ?it/s]"
      ],
      "application/vnd.jupyter.widget-view+json": {
       "version_major": 2,
       "version_minor": 0,
       "model_id": "3f3144ce28b146fd9c2842bf9a13e0e5"
      }
     },
     "metadata": {},
     "output_type": "display_data"
    },
    {
     "data": {
      "text/plain": [
       "curve-high rho=0.5 sigma=0.4 (10/10):   0%|          | 0/51 [00:00<?, ?it/s]"
      ],
      "application/vnd.jupyter.widget-view+json": {
       "version_major": 2,
       "version_minor": 0,
       "model_id": "1346c00eaf9b48f499d84e0386e5d96c"
      }
     },
     "metadata": {},
     "output_type": "display_data"
    },
    {
     "data": {
      "text/plain": [
       "curve-high rho=0.5 sigma=0.8 (10/10):   0%|          | 0/51 [00:00<?, ?it/s]"
      ],
      "application/vnd.jupyter.widget-view+json": {
       "version_major": 2,
       "version_minor": 0,
       "model_id": "f9f2850e517f4437846764df49eb5061"
      }
     },
     "metadata": {},
     "output_type": "display_data"
    },
    {
     "data": {
      "text/plain": [
       "curve-high rho=0.5 sigma=1.6 (10/10):   0%|          | 0/51 [00:00<?, ?it/s]"
      ],
      "application/vnd.jupyter.widget-view+json": {
       "version_major": 2,
       "version_minor": 0,
       "model_id": "f2a96c3f12764ad4920bd739ff413b4c"
      }
     },
     "metadata": {},
     "output_type": "display_data"
    },
    {
     "data": {
      "text/plain": [
       "curve-high rho=0.5 sigma=3.2 (10/10):   0%|          | 0/51 [00:00<?, ?it/s]"
      ],
      "application/vnd.jupyter.widget-view+json": {
       "version_major": 2,
       "version_minor": 0,
       "model_id": "e03ef93e68ee41f2bc9d99ad650001a3"
      }
     },
     "metadata": {},
     "output_type": "display_data"
    },
    {
     "data": {
      "text/plain": [
       "curve-low rho=0.0 sigma=0.1 (1/10):   0%|          | 0/51 [00:00<?, ?it/s]"
      ],
      "application/vnd.jupyter.widget-view+json": {
       "version_major": 2,
       "version_minor": 0,
       "model_id": "3d2a333cb088452d968f3d335738b8d2"
      }
     },
     "metadata": {},
     "output_type": "display_data"
    },
    {
     "data": {
      "text/plain": [
       "curve-low rho=0.0 sigma=0.2 (1/10):   0%|          | 0/51 [00:00<?, ?it/s]"
      ],
      "application/vnd.jupyter.widget-view+json": {
       "version_major": 2,
       "version_minor": 0,
       "model_id": "be055d8a497e441ebea3d4c5fd1be929"
      }
     },
     "metadata": {},
     "output_type": "display_data"
    },
    {
     "data": {
      "text/plain": [
       "curve-low rho=0.0 sigma=0.4 (1/10):   0%|          | 0/51 [00:00<?, ?it/s]"
      ],
      "application/vnd.jupyter.widget-view+json": {
       "version_major": 2,
       "version_minor": 0,
       "model_id": "9a64482eb5714e7a9b6786ca9f032b90"
      }
     },
     "metadata": {},
     "output_type": "display_data"
    },
    {
     "data": {
      "text/plain": [
       "curve-low rho=0.0 sigma=0.8 (1/10):   0%|          | 0/51 [00:00<?, ?it/s]"
      ],
      "application/vnd.jupyter.widget-view+json": {
       "version_major": 2,
       "version_minor": 0,
       "model_id": "4a73679f6cef425a9c8d34beafd420a6"
      }
     },
     "metadata": {},
     "output_type": "display_data"
    },
    {
     "data": {
      "text/plain": [
       "curve-low rho=0.0 sigma=1.6 (1/10):   0%|          | 0/51 [00:00<?, ?it/s]"
      ],
      "application/vnd.jupyter.widget-view+json": {
       "version_major": 2,
       "version_minor": 0,
       "model_id": "1dc5447f69ee489186696eb324646f53"
      }
     },
     "metadata": {},
     "output_type": "display_data"
    },
    {
     "data": {
      "text/plain": [
       "curve-low rho=0.0 sigma=3.2 (1/10):   0%|          | 0/51 [00:00<?, ?it/s]"
      ],
      "application/vnd.jupyter.widget-view+json": {
       "version_major": 2,
       "version_minor": 0,
       "model_id": "4f4066ed8dd040afbaf1ea66ea568ce5"
      }
     },
     "metadata": {},
     "output_type": "display_data"
    },
    {
     "data": {
      "text/plain": [
       "curve-low rho=0.25 sigma=0.1 (1/10):   0%|          | 0/51 [00:00<?, ?it/s]"
      ],
      "application/vnd.jupyter.widget-view+json": {
       "version_major": 2,
       "version_minor": 0,
       "model_id": "0da187eeeb04437c9f2ac08251ab92c0"
      }
     },
     "metadata": {},
     "output_type": "display_data"
    },
    {
     "data": {
      "text/plain": [
       "curve-low rho=0.25 sigma=0.2 (1/10):   0%|          | 0/51 [00:00<?, ?it/s]"
      ],
      "application/vnd.jupyter.widget-view+json": {
       "version_major": 2,
       "version_minor": 0,
       "model_id": "b3d9b3ad29914f6aa3f6647aefc997d2"
      }
     },
     "metadata": {},
     "output_type": "display_data"
    },
    {
     "data": {
      "text/plain": [
       "curve-low rho=0.25 sigma=0.4 (1/10):   0%|          | 0/51 [00:00<?, ?it/s]"
      ],
      "application/vnd.jupyter.widget-view+json": {
       "version_major": 2,
       "version_minor": 0,
       "model_id": "cb28de38ca0c49ef92b3d6642ed0008f"
      }
     },
     "metadata": {},
     "output_type": "display_data"
    },
    {
     "data": {
      "text/plain": [
       "curve-low rho=0.25 sigma=0.8 (1/10):   0%|          | 0/51 [00:00<?, ?it/s]"
      ],
      "application/vnd.jupyter.widget-view+json": {
       "version_major": 2,
       "version_minor": 0,
       "model_id": "28082dd3ee744f5aae43d1120b4b1ab7"
      }
     },
     "metadata": {},
     "output_type": "display_data"
    },
    {
     "data": {
      "text/plain": [
       "curve-low rho=0.25 sigma=1.6 (1/10):   0%|          | 0/51 [00:00<?, ?it/s]"
      ],
      "application/vnd.jupyter.widget-view+json": {
       "version_major": 2,
       "version_minor": 0,
       "model_id": "5b7b32a59576413a84cf82455be068e3"
      }
     },
     "metadata": {},
     "output_type": "display_data"
    },
    {
     "data": {
      "text/plain": [
       "curve-low rho=0.25 sigma=3.2 (1/10):   0%|          | 0/51 [00:00<?, ?it/s]"
      ],
      "application/vnd.jupyter.widget-view+json": {
       "version_major": 2,
       "version_minor": 0,
       "model_id": "ca68e4523a8c4d1ca8a8e6dcdd6465ac"
      }
     },
     "metadata": {},
     "output_type": "display_data"
    },
    {
     "data": {
      "text/plain": [
       "curve-low rho=0.5 sigma=0.1 (1/10):   0%|          | 0/51 [00:00<?, ?it/s]"
      ],
      "application/vnd.jupyter.widget-view+json": {
       "version_major": 2,
       "version_minor": 0,
       "model_id": "5ba9d2c191e54ed689f9ec71d7fa7fa6"
      }
     },
     "metadata": {},
     "output_type": "display_data"
    },
    {
     "data": {
      "text/plain": [
       "curve-low rho=0.5 sigma=0.2 (1/10):   0%|          | 0/51 [00:00<?, ?it/s]"
      ],
      "application/vnd.jupyter.widget-view+json": {
       "version_major": 2,
       "version_minor": 0,
       "model_id": "aba9e232e38247fea2596aa9d8c037c6"
      }
     },
     "metadata": {},
     "output_type": "display_data"
    },
    {
     "data": {
      "text/plain": [
       "curve-low rho=0.5 sigma=0.4 (1/10):   0%|          | 0/51 [00:00<?, ?it/s]"
      ],
      "application/vnd.jupyter.widget-view+json": {
       "version_major": 2,
       "version_minor": 0,
       "model_id": "150727e11feb4c81931744d8dd76cc4a"
      }
     },
     "metadata": {},
     "output_type": "display_data"
    },
    {
     "data": {
      "text/plain": [
       "curve-low rho=0.5 sigma=0.8 (1/10):   0%|          | 0/51 [00:00<?, ?it/s]"
      ],
      "application/vnd.jupyter.widget-view+json": {
       "version_major": 2,
       "version_minor": 0,
       "model_id": "98f350eea9db49e68e37873a7b2ede76"
      }
     },
     "metadata": {},
     "output_type": "display_data"
    },
    {
     "data": {
      "text/plain": [
       "curve-low rho=0.5 sigma=1.6 (1/10):   0%|          | 0/51 [00:00<?, ?it/s]"
      ],
      "application/vnd.jupyter.widget-view+json": {
       "version_major": 2,
       "version_minor": 0,
       "model_id": "d3d2d095414f4e1e8bacfc2f0e64dc45"
      }
     },
     "metadata": {},
     "output_type": "display_data"
    },
    {
     "data": {
      "text/plain": [
       "curve-low rho=0.5 sigma=3.2 (1/10):   0%|          | 0/51 [00:00<?, ?it/s]"
      ],
      "application/vnd.jupyter.widget-view+json": {
       "version_major": 2,
       "version_minor": 0,
       "model_id": "76c52bf43a9345d8940449f82aa427c3"
      }
     },
     "metadata": {},
     "output_type": "display_data"
    },
    {
     "data": {
      "text/plain": [
       "curve-low rho=0.0 sigma=0.1 (2/10):   0%|          | 0/51 [00:00<?, ?it/s]"
      ],
      "application/vnd.jupyter.widget-view+json": {
       "version_major": 2,
       "version_minor": 0,
       "model_id": "19f518997b904b8a80efb826a00f6db6"
      }
     },
     "metadata": {},
     "output_type": "display_data"
    },
    {
     "data": {
      "text/plain": [
       "curve-low rho=0.0 sigma=0.2 (2/10):   0%|          | 0/51 [00:00<?, ?it/s]"
      ],
      "application/vnd.jupyter.widget-view+json": {
       "version_major": 2,
       "version_minor": 0,
       "model_id": "1a5d6cdb5ac24d1cab960937162741b7"
      }
     },
     "metadata": {},
     "output_type": "display_data"
    },
    {
     "data": {
      "text/plain": [
       "curve-low rho=0.0 sigma=0.4 (2/10):   0%|          | 0/51 [00:00<?, ?it/s]"
      ],
      "application/vnd.jupyter.widget-view+json": {
       "version_major": 2,
       "version_minor": 0,
       "model_id": "6f604033cb6b4bbea0d818a65f4e34d3"
      }
     },
     "metadata": {},
     "output_type": "display_data"
    },
    {
     "data": {
      "text/plain": [
       "curve-low rho=0.0 sigma=0.8 (2/10):   0%|          | 0/51 [00:00<?, ?it/s]"
      ],
      "application/vnd.jupyter.widget-view+json": {
       "version_major": 2,
       "version_minor": 0,
       "model_id": "b7f90872a0be4b5f925bc430679741a6"
      }
     },
     "metadata": {},
     "output_type": "display_data"
    },
    {
     "data": {
      "text/plain": [
       "curve-low rho=0.0 sigma=1.6 (2/10):   0%|          | 0/51 [00:00<?, ?it/s]"
      ],
      "application/vnd.jupyter.widget-view+json": {
       "version_major": 2,
       "version_minor": 0,
       "model_id": "fa1b3033ad5e41d38b98ee19c59bf411"
      }
     },
     "metadata": {},
     "output_type": "display_data"
    },
    {
     "data": {
      "text/plain": [
       "curve-low rho=0.0 sigma=3.2 (2/10):   0%|          | 0/51 [00:00<?, ?it/s]"
      ],
      "application/vnd.jupyter.widget-view+json": {
       "version_major": 2,
       "version_minor": 0,
       "model_id": "dc19a054ec294bc39e55be34dc457db8"
      }
     },
     "metadata": {},
     "output_type": "display_data"
    },
    {
     "data": {
      "text/plain": [
       "curve-low rho=0.25 sigma=0.1 (2/10):   0%|          | 0/51 [00:00<?, ?it/s]"
      ],
      "application/vnd.jupyter.widget-view+json": {
       "version_major": 2,
       "version_minor": 0,
       "model_id": "8c453cd370e340389661ff3210b8765f"
      }
     },
     "metadata": {},
     "output_type": "display_data"
    },
    {
     "data": {
      "text/plain": [
       "curve-low rho=0.25 sigma=0.2 (2/10):   0%|          | 0/51 [00:00<?, ?it/s]"
      ],
      "application/vnd.jupyter.widget-view+json": {
       "version_major": 2,
       "version_minor": 0,
       "model_id": "bfddfe21c2d5497a92516a98e45b7c99"
      }
     },
     "metadata": {},
     "output_type": "display_data"
    },
    {
     "data": {
      "text/plain": [
       "curve-low rho=0.25 sigma=0.4 (2/10):   0%|          | 0/51 [00:00<?, ?it/s]"
      ],
      "application/vnd.jupyter.widget-view+json": {
       "version_major": 2,
       "version_minor": 0,
       "model_id": "bce1b0d9df624597a0284c617a58bed1"
      }
     },
     "metadata": {},
     "output_type": "display_data"
    },
    {
     "data": {
      "text/plain": [
       "curve-low rho=0.25 sigma=0.8 (2/10):   0%|          | 0/51 [00:00<?, ?it/s]"
      ],
      "application/vnd.jupyter.widget-view+json": {
       "version_major": 2,
       "version_minor": 0,
       "model_id": "d04e6f49306f414d87253505e51e3676"
      }
     },
     "metadata": {},
     "output_type": "display_data"
    },
    {
     "data": {
      "text/plain": [
       "curve-low rho=0.25 sigma=1.6 (2/10):   0%|          | 0/51 [00:00<?, ?it/s]"
      ],
      "application/vnd.jupyter.widget-view+json": {
       "version_major": 2,
       "version_minor": 0,
       "model_id": "4acfcf370f81453592eeed4022f9e355"
      }
     },
     "metadata": {},
     "output_type": "display_data"
    },
    {
     "data": {
      "text/plain": [
       "curve-low rho=0.25 sigma=3.2 (2/10):   0%|          | 0/51 [00:00<?, ?it/s]"
      ],
      "application/vnd.jupyter.widget-view+json": {
       "version_major": 2,
       "version_minor": 0,
       "model_id": "cbe85bf390ff4887abb2ba4fa21b5b73"
      }
     },
     "metadata": {},
     "output_type": "display_data"
    },
    {
     "data": {
      "text/plain": [
       "curve-low rho=0.5 sigma=0.1 (2/10):   0%|          | 0/51 [00:00<?, ?it/s]"
      ],
      "application/vnd.jupyter.widget-view+json": {
       "version_major": 2,
       "version_minor": 0,
       "model_id": "7b9539248ba845cf9c2c71ca145f3d7d"
      }
     },
     "metadata": {},
     "output_type": "display_data"
    },
    {
     "data": {
      "text/plain": [
       "curve-low rho=0.5 sigma=0.2 (2/10):   0%|          | 0/51 [00:00<?, ?it/s]"
      ],
      "application/vnd.jupyter.widget-view+json": {
       "version_major": 2,
       "version_minor": 0,
       "model_id": "f964b7112fb349999f2b318cd242f98c"
      }
     },
     "metadata": {},
     "output_type": "display_data"
    },
    {
     "data": {
      "text/plain": [
       "curve-low rho=0.5 sigma=0.4 (2/10):   0%|          | 0/51 [00:00<?, ?it/s]"
      ],
      "application/vnd.jupyter.widget-view+json": {
       "version_major": 2,
       "version_minor": 0,
       "model_id": "2554da1b58944aaab4ffd03e49fad30d"
      }
     },
     "metadata": {},
     "output_type": "display_data"
    },
    {
     "data": {
      "text/plain": [
       "curve-low rho=0.5 sigma=0.8 (2/10):   0%|          | 0/51 [00:00<?, ?it/s]"
      ],
      "application/vnd.jupyter.widget-view+json": {
       "version_major": 2,
       "version_minor": 0,
       "model_id": "da56f5827f734b47a9fb6af2142228da"
      }
     },
     "metadata": {},
     "output_type": "display_data"
    },
    {
     "data": {
      "text/plain": [
       "curve-low rho=0.5 sigma=1.6 (2/10):   0%|          | 0/51 [00:00<?, ?it/s]"
      ],
      "application/vnd.jupyter.widget-view+json": {
       "version_major": 2,
       "version_minor": 0,
       "model_id": "02aa281e526244eba4afa80d1871852d"
      }
     },
     "metadata": {},
     "output_type": "display_data"
    },
    {
     "data": {
      "text/plain": [
       "curve-low rho=0.5 sigma=3.2 (2/10):   0%|          | 0/51 [00:00<?, ?it/s]"
      ],
      "application/vnd.jupyter.widget-view+json": {
       "version_major": 2,
       "version_minor": 0,
       "model_id": "5cfea6450a0843d5aa1bcdd40cb1b7a9"
      }
     },
     "metadata": {},
     "output_type": "display_data"
    },
    {
     "data": {
      "text/plain": [
       "curve-low rho=0.0 sigma=0.1 (3/10):   0%|          | 0/51 [00:00<?, ?it/s]"
      ],
      "application/vnd.jupyter.widget-view+json": {
       "version_major": 2,
       "version_minor": 0,
       "model_id": "2132b3310f96482a8bd54834ba29f74a"
      }
     },
     "metadata": {},
     "output_type": "display_data"
    },
    {
     "data": {
      "text/plain": [
       "curve-low rho=0.0 sigma=0.2 (3/10):   0%|          | 0/51 [00:00<?, ?it/s]"
      ],
      "application/vnd.jupyter.widget-view+json": {
       "version_major": 2,
       "version_minor": 0,
       "model_id": "6d0092de6d074c9eaf29fb2216c8ad44"
      }
     },
     "metadata": {},
     "output_type": "display_data"
    },
    {
     "data": {
      "text/plain": [
       "curve-low rho=0.0 sigma=0.4 (3/10):   0%|          | 0/51 [00:00<?, ?it/s]"
      ],
      "application/vnd.jupyter.widget-view+json": {
       "version_major": 2,
       "version_minor": 0,
       "model_id": "7db986c2a07a44799db879133e801b2b"
      }
     },
     "metadata": {},
     "output_type": "display_data"
    },
    {
     "data": {
      "text/plain": [
       "curve-low rho=0.0 sigma=0.8 (3/10):   0%|          | 0/51 [00:00<?, ?it/s]"
      ],
      "application/vnd.jupyter.widget-view+json": {
       "version_major": 2,
       "version_minor": 0,
       "model_id": "fb4e20ed31ab44c7bab540334e457cd1"
      }
     },
     "metadata": {},
     "output_type": "display_data"
    },
    {
     "data": {
      "text/plain": [
       "curve-low rho=0.0 sigma=1.6 (3/10):   0%|          | 0/51 [00:00<?, ?it/s]"
      ],
      "application/vnd.jupyter.widget-view+json": {
       "version_major": 2,
       "version_minor": 0,
       "model_id": "2e59856af90447deb14b220c865250bc"
      }
     },
     "metadata": {},
     "output_type": "display_data"
    },
    {
     "data": {
      "text/plain": [
       "curve-low rho=0.0 sigma=3.2 (3/10):   0%|          | 0/51 [00:00<?, ?it/s]"
      ],
      "application/vnd.jupyter.widget-view+json": {
       "version_major": 2,
       "version_minor": 0,
       "model_id": "889680105419456d95cf7238bf66a1e2"
      }
     },
     "metadata": {},
     "output_type": "display_data"
    },
    {
     "data": {
      "text/plain": [
       "curve-low rho=0.25 sigma=0.1 (3/10):   0%|          | 0/51 [00:00<?, ?it/s]"
      ],
      "application/vnd.jupyter.widget-view+json": {
       "version_major": 2,
       "version_minor": 0,
       "model_id": "a557fa08dc0d4b4cb1a4bddd1c95e7e6"
      }
     },
     "metadata": {},
     "output_type": "display_data"
    },
    {
     "data": {
      "text/plain": [
       "curve-low rho=0.25 sigma=0.2 (3/10):   0%|          | 0/51 [00:00<?, ?it/s]"
      ],
      "application/vnd.jupyter.widget-view+json": {
       "version_major": 2,
       "version_minor": 0,
       "model_id": "526b9528b0404e2b9ba00b873a9da3e2"
      }
     },
     "metadata": {},
     "output_type": "display_data"
    },
    {
     "data": {
      "text/plain": [
       "curve-low rho=0.25 sigma=0.4 (3/10):   0%|          | 0/51 [00:00<?, ?it/s]"
      ],
      "application/vnd.jupyter.widget-view+json": {
       "version_major": 2,
       "version_minor": 0,
       "model_id": "8e06db05a5554ee19dbe749f0c9591e2"
      }
     },
     "metadata": {},
     "output_type": "display_data"
    },
    {
     "data": {
      "text/plain": [
       "curve-low rho=0.25 sigma=0.8 (3/10):   0%|          | 0/51 [00:00<?, ?it/s]"
      ],
      "application/vnd.jupyter.widget-view+json": {
       "version_major": 2,
       "version_minor": 0,
       "model_id": "2643394b5c4640f6bdce3de60e056b5d"
      }
     },
     "metadata": {},
     "output_type": "display_data"
    },
    {
     "data": {
      "text/plain": [
       "curve-low rho=0.25 sigma=1.6 (3/10):   0%|          | 0/51 [00:00<?, ?it/s]"
      ],
      "application/vnd.jupyter.widget-view+json": {
       "version_major": 2,
       "version_minor": 0,
       "model_id": "21659dc401ed4c3d844197fa5e3ca37d"
      }
     },
     "metadata": {},
     "output_type": "display_data"
    },
    {
     "data": {
      "text/plain": [
       "curve-low rho=0.25 sigma=3.2 (3/10):   0%|          | 0/51 [00:00<?, ?it/s]"
      ],
      "application/vnd.jupyter.widget-view+json": {
       "version_major": 2,
       "version_minor": 0,
       "model_id": "cde9297f103d41ec8105233c1903db21"
      }
     },
     "metadata": {},
     "output_type": "display_data"
    },
    {
     "data": {
      "text/plain": [
       "curve-low rho=0.5 sigma=0.1 (3/10):   0%|          | 0/51 [00:00<?, ?it/s]"
      ],
      "application/vnd.jupyter.widget-view+json": {
       "version_major": 2,
       "version_minor": 0,
       "model_id": "9b61b098739d428f88f97cc37d7e7ffe"
      }
     },
     "metadata": {},
     "output_type": "display_data"
    },
    {
     "data": {
      "text/plain": [
       "curve-low rho=0.5 sigma=0.2 (3/10):   0%|          | 0/51 [00:00<?, ?it/s]"
      ],
      "application/vnd.jupyter.widget-view+json": {
       "version_major": 2,
       "version_minor": 0,
       "model_id": "3f482f6ff313494caa0716855a4fc52e"
      }
     },
     "metadata": {},
     "output_type": "display_data"
    },
    {
     "data": {
      "text/plain": [
       "curve-low rho=0.5 sigma=0.4 (3/10):   0%|          | 0/51 [00:00<?, ?it/s]"
      ],
      "application/vnd.jupyter.widget-view+json": {
       "version_major": 2,
       "version_minor": 0,
       "model_id": "6bd8f995f15d4932a17d77862b821701"
      }
     },
     "metadata": {},
     "output_type": "display_data"
    },
    {
     "data": {
      "text/plain": [
       "curve-low rho=0.5 sigma=0.8 (3/10):   0%|          | 0/51 [00:00<?, ?it/s]"
      ],
      "application/vnd.jupyter.widget-view+json": {
       "version_major": 2,
       "version_minor": 0,
       "model_id": "e912cd7f22524dc3b0cdb5d76a2a9c63"
      }
     },
     "metadata": {},
     "output_type": "display_data"
    },
    {
     "data": {
      "text/plain": [
       "curve-low rho=0.5 sigma=1.6 (3/10):   0%|          | 0/51 [00:00<?, ?it/s]"
      ],
      "application/vnd.jupyter.widget-view+json": {
       "version_major": 2,
       "version_minor": 0,
       "model_id": "d07bae7734c64d9595d0d45341cd1680"
      }
     },
     "metadata": {},
     "output_type": "display_data"
    },
    {
     "data": {
      "text/plain": [
       "curve-low rho=0.5 sigma=3.2 (3/10):   0%|          | 0/51 [00:00<?, ?it/s]"
      ],
      "application/vnd.jupyter.widget-view+json": {
       "version_major": 2,
       "version_minor": 0,
       "model_id": "a3ca71424cdf4ddcb6b079fac40e4151"
      }
     },
     "metadata": {},
     "output_type": "display_data"
    },
    {
     "data": {
      "text/plain": [
       "curve-low rho=0.0 sigma=0.1 (4/10):   0%|          | 0/51 [00:00<?, ?it/s]"
      ],
      "application/vnd.jupyter.widget-view+json": {
       "version_major": 2,
       "version_minor": 0,
       "model_id": "eae94273fce0439aae4fdf2e17ee4c34"
      }
     },
     "metadata": {},
     "output_type": "display_data"
    },
    {
     "data": {
      "text/plain": [
       "curve-low rho=0.0 sigma=0.2 (4/10):   0%|          | 0/51 [00:00<?, ?it/s]"
      ],
      "application/vnd.jupyter.widget-view+json": {
       "version_major": 2,
       "version_minor": 0,
       "model_id": "f2beb226aab04a0cbce427a18c76c816"
      }
     },
     "metadata": {},
     "output_type": "display_data"
    },
    {
     "data": {
      "text/plain": [
       "curve-low rho=0.0 sigma=0.4 (4/10):   0%|          | 0/51 [00:00<?, ?it/s]"
      ],
      "application/vnd.jupyter.widget-view+json": {
       "version_major": 2,
       "version_minor": 0,
       "model_id": "a55bc24cb19d408cb531f0e106eb5439"
      }
     },
     "metadata": {},
     "output_type": "display_data"
    },
    {
     "data": {
      "text/plain": [
       "curve-low rho=0.0 sigma=0.8 (4/10):   0%|          | 0/51 [00:00<?, ?it/s]"
      ],
      "application/vnd.jupyter.widget-view+json": {
       "version_major": 2,
       "version_minor": 0,
       "model_id": "4b067b171eef43c7864cae2dc0813d56"
      }
     },
     "metadata": {},
     "output_type": "display_data"
    },
    {
     "data": {
      "text/plain": [
       "curve-low rho=0.0 sigma=1.6 (4/10):   0%|          | 0/51 [00:00<?, ?it/s]"
      ],
      "application/vnd.jupyter.widget-view+json": {
       "version_major": 2,
       "version_minor": 0,
       "model_id": "495ddf3c1e724e72b451ab4799213f50"
      }
     },
     "metadata": {},
     "output_type": "display_data"
    },
    {
     "data": {
      "text/plain": [
       "curve-low rho=0.0 sigma=3.2 (4/10):   0%|          | 0/51 [00:00<?, ?it/s]"
      ],
      "application/vnd.jupyter.widget-view+json": {
       "version_major": 2,
       "version_minor": 0,
       "model_id": "6c0cb8fb4f304b24854c5e5d7affafe6"
      }
     },
     "metadata": {},
     "output_type": "display_data"
    },
    {
     "data": {
      "text/plain": [
       "curve-low rho=0.25 sigma=0.1 (4/10):   0%|          | 0/51 [00:00<?, ?it/s]"
      ],
      "application/vnd.jupyter.widget-view+json": {
       "version_major": 2,
       "version_minor": 0,
       "model_id": "61471289296c4160b93f20325acaa720"
      }
     },
     "metadata": {},
     "output_type": "display_data"
    },
    {
     "data": {
      "text/plain": [
       "curve-low rho=0.25 sigma=0.2 (4/10):   0%|          | 0/51 [00:00<?, ?it/s]"
      ],
      "application/vnd.jupyter.widget-view+json": {
       "version_major": 2,
       "version_minor": 0,
       "model_id": "ba95b12a7bbc4e329f42eeb9a7047576"
      }
     },
     "metadata": {},
     "output_type": "display_data"
    },
    {
     "data": {
      "text/plain": [
       "curve-low rho=0.25 sigma=0.4 (4/10):   0%|          | 0/51 [00:00<?, ?it/s]"
      ],
      "application/vnd.jupyter.widget-view+json": {
       "version_major": 2,
       "version_minor": 0,
       "model_id": "56be4fb8de1c401bb38438e1ac3e4eb7"
      }
     },
     "metadata": {},
     "output_type": "display_data"
    },
    {
     "data": {
      "text/plain": [
       "curve-low rho=0.25 sigma=0.8 (4/10):   0%|          | 0/51 [00:00<?, ?it/s]"
      ],
      "application/vnd.jupyter.widget-view+json": {
       "version_major": 2,
       "version_minor": 0,
       "model_id": "c780497b474e446da14b822a2dbc3a0b"
      }
     },
     "metadata": {},
     "output_type": "display_data"
    },
    {
     "data": {
      "text/plain": [
       "curve-low rho=0.25 sigma=1.6 (4/10):   0%|          | 0/51 [00:00<?, ?it/s]"
      ],
      "application/vnd.jupyter.widget-view+json": {
       "version_major": 2,
       "version_minor": 0,
       "model_id": "dc7ac04eaf404d0793fc65d877032dff"
      }
     },
     "metadata": {},
     "output_type": "display_data"
    },
    {
     "data": {
      "text/plain": [
       "curve-low rho=0.25 sigma=3.2 (4/10):   0%|          | 0/51 [00:00<?, ?it/s]"
      ],
      "application/vnd.jupyter.widget-view+json": {
       "version_major": 2,
       "version_minor": 0,
       "model_id": "2451dc039f4d410eace87784c3d5a5ca"
      }
     },
     "metadata": {},
     "output_type": "display_data"
    },
    {
     "data": {
      "text/plain": [
       "curve-low rho=0.5 sigma=0.1 (4/10):   0%|          | 0/51 [00:00<?, ?it/s]"
      ],
      "application/vnd.jupyter.widget-view+json": {
       "version_major": 2,
       "version_minor": 0,
       "model_id": "538b0eb9d7234359802e1554b2f45934"
      }
     },
     "metadata": {},
     "output_type": "display_data"
    },
    {
     "data": {
      "text/plain": [
       "curve-low rho=0.5 sigma=0.2 (4/10):   0%|          | 0/51 [00:00<?, ?it/s]"
      ],
      "application/vnd.jupyter.widget-view+json": {
       "version_major": 2,
       "version_minor": 0,
       "model_id": "5748f5b74ea141b2b68c5112efcc8872"
      }
     },
     "metadata": {},
     "output_type": "display_data"
    },
    {
     "data": {
      "text/plain": [
       "curve-low rho=0.5 sigma=0.4 (4/10):   0%|          | 0/51 [00:00<?, ?it/s]"
      ],
      "application/vnd.jupyter.widget-view+json": {
       "version_major": 2,
       "version_minor": 0,
       "model_id": "3788b9f6c1f24da2a8174fd09d87076e"
      }
     },
     "metadata": {},
     "output_type": "display_data"
    },
    {
     "data": {
      "text/plain": [
       "curve-low rho=0.5 sigma=0.8 (4/10):   0%|          | 0/51 [00:00<?, ?it/s]"
      ],
      "application/vnd.jupyter.widget-view+json": {
       "version_major": 2,
       "version_minor": 0,
       "model_id": "e48b4427bfa64663a5c7d356b2eab4db"
      }
     },
     "metadata": {},
     "output_type": "display_data"
    },
    {
     "data": {
      "text/plain": [
       "curve-low rho=0.5 sigma=1.6 (4/10):   0%|          | 0/51 [00:00<?, ?it/s]"
      ],
      "application/vnd.jupyter.widget-view+json": {
       "version_major": 2,
       "version_minor": 0,
       "model_id": "b5e97c938154482cb98e9cfa1f4e1e9a"
      }
     },
     "metadata": {},
     "output_type": "display_data"
    },
    {
     "data": {
      "text/plain": [
       "curve-low rho=0.5 sigma=3.2 (4/10):   0%|          | 0/51 [00:00<?, ?it/s]"
      ],
      "application/vnd.jupyter.widget-view+json": {
       "version_major": 2,
       "version_minor": 0,
       "model_id": "3d8105461a014542abdf5283ca3dffaf"
      }
     },
     "metadata": {},
     "output_type": "display_data"
    },
    {
     "data": {
      "text/plain": [
       "curve-low rho=0.0 sigma=0.1 (5/10):   0%|          | 0/51 [00:00<?, ?it/s]"
      ],
      "application/vnd.jupyter.widget-view+json": {
       "version_major": 2,
       "version_minor": 0,
       "model_id": "3252267d1f0e4f61b541d2649e33c933"
      }
     },
     "metadata": {},
     "output_type": "display_data"
    },
    {
     "data": {
      "text/plain": [
       "curve-low rho=0.0 sigma=0.2 (5/10):   0%|          | 0/51 [00:00<?, ?it/s]"
      ],
      "application/vnd.jupyter.widget-view+json": {
       "version_major": 2,
       "version_minor": 0,
       "model_id": "de6b5bac4ade458fb7359380a9933af5"
      }
     },
     "metadata": {},
     "output_type": "display_data"
    },
    {
     "data": {
      "text/plain": [
       "curve-low rho=0.0 sigma=0.4 (5/10):   0%|          | 0/51 [00:00<?, ?it/s]"
      ],
      "application/vnd.jupyter.widget-view+json": {
       "version_major": 2,
       "version_minor": 0,
       "model_id": "da5c4b44e6af4b60a8aae9a96a9e00dd"
      }
     },
     "metadata": {},
     "output_type": "display_data"
    },
    {
     "data": {
      "text/plain": [
       "curve-low rho=0.0 sigma=0.8 (5/10):   0%|          | 0/51 [00:00<?, ?it/s]"
      ],
      "application/vnd.jupyter.widget-view+json": {
       "version_major": 2,
       "version_minor": 0,
       "model_id": "32ee1dbf1ecb4b0786bc29ae5bf30e3f"
      }
     },
     "metadata": {},
     "output_type": "display_data"
    },
    {
     "data": {
      "text/plain": [
       "curve-low rho=0.0 sigma=1.6 (5/10):   0%|          | 0/51 [00:00<?, ?it/s]"
      ],
      "application/vnd.jupyter.widget-view+json": {
       "version_major": 2,
       "version_minor": 0,
       "model_id": "f1107cbeefac410b9595b4103b24ebfb"
      }
     },
     "metadata": {},
     "output_type": "display_data"
    },
    {
     "data": {
      "text/plain": [
       "curve-low rho=0.0 sigma=3.2 (5/10):   0%|          | 0/51 [00:00<?, ?it/s]"
      ],
      "application/vnd.jupyter.widget-view+json": {
       "version_major": 2,
       "version_minor": 0,
       "model_id": "8cd3e0998c854f098ca9dde848fd155b"
      }
     },
     "metadata": {},
     "output_type": "display_data"
    },
    {
     "data": {
      "text/plain": [
       "curve-low rho=0.25 sigma=0.1 (5/10):   0%|          | 0/51 [00:00<?, ?it/s]"
      ],
      "application/vnd.jupyter.widget-view+json": {
       "version_major": 2,
       "version_minor": 0,
       "model_id": "1e1fb3e1d1264cbabd1bdc2d17773309"
      }
     },
     "metadata": {},
     "output_type": "display_data"
    },
    {
     "data": {
      "text/plain": [
       "curve-low rho=0.25 sigma=0.2 (5/10):   0%|          | 0/51 [00:00<?, ?it/s]"
      ],
      "application/vnd.jupyter.widget-view+json": {
       "version_major": 2,
       "version_minor": 0,
       "model_id": "18d0f3044d954562bd64de71f58d252d"
      }
     },
     "metadata": {},
     "output_type": "display_data"
    },
    {
     "data": {
      "text/plain": [
       "curve-low rho=0.25 sigma=0.4 (5/10):   0%|          | 0/51 [00:00<?, ?it/s]"
      ],
      "application/vnd.jupyter.widget-view+json": {
       "version_major": 2,
       "version_minor": 0,
       "model_id": "bb92deee8c4e46a190e5ae6877a6c370"
      }
     },
     "metadata": {},
     "output_type": "display_data"
    },
    {
     "data": {
      "text/plain": [
       "curve-low rho=0.25 sigma=0.8 (5/10):   0%|          | 0/51 [00:00<?, ?it/s]"
      ],
      "application/vnd.jupyter.widget-view+json": {
       "version_major": 2,
       "version_minor": 0,
       "model_id": "fa4b5644bc4946f3a1e9119e8f7a322e"
      }
     },
     "metadata": {},
     "output_type": "display_data"
    },
    {
     "data": {
      "text/plain": [
       "curve-low rho=0.25 sigma=1.6 (5/10):   0%|          | 0/51 [00:00<?, ?it/s]"
      ],
      "application/vnd.jupyter.widget-view+json": {
       "version_major": 2,
       "version_minor": 0,
       "model_id": "786c0a2be34a4f35a30457dc33447e11"
      }
     },
     "metadata": {},
     "output_type": "display_data"
    },
    {
     "data": {
      "text/plain": [
       "curve-low rho=0.25 sigma=3.2 (5/10):   0%|          | 0/51 [00:00<?, ?it/s]"
      ],
      "application/vnd.jupyter.widget-view+json": {
       "version_major": 2,
       "version_minor": 0,
       "model_id": "931c4806da174745b41f2924f2fcb30d"
      }
     },
     "metadata": {},
     "output_type": "display_data"
    },
    {
     "data": {
      "text/plain": [
       "curve-low rho=0.5 sigma=0.1 (5/10):   0%|          | 0/51 [00:00<?, ?it/s]"
      ],
      "application/vnd.jupyter.widget-view+json": {
       "version_major": 2,
       "version_minor": 0,
       "model_id": "b12a8bd0ec7945188ef3e54bb05e2a9c"
      }
     },
     "metadata": {},
     "output_type": "display_data"
    },
    {
     "data": {
      "text/plain": [
       "curve-low rho=0.5 sigma=0.2 (5/10):   0%|          | 0/51 [00:00<?, ?it/s]"
      ],
      "application/vnd.jupyter.widget-view+json": {
       "version_major": 2,
       "version_minor": 0,
       "model_id": "1fc82f90cbf34b66ab480dfd487eeabd"
      }
     },
     "metadata": {},
     "output_type": "display_data"
    },
    {
     "data": {
      "text/plain": [
       "curve-low rho=0.5 sigma=0.4 (5/10):   0%|          | 0/51 [00:00<?, ?it/s]"
      ],
      "application/vnd.jupyter.widget-view+json": {
       "version_major": 2,
       "version_minor": 0,
       "model_id": "cd9f1492af104e86a9f5128290152a4b"
      }
     },
     "metadata": {},
     "output_type": "display_data"
    },
    {
     "data": {
      "text/plain": [
       "curve-low rho=0.5 sigma=0.8 (5/10):   0%|          | 0/51 [00:00<?, ?it/s]"
      ],
      "application/vnd.jupyter.widget-view+json": {
       "version_major": 2,
       "version_minor": 0,
       "model_id": "a1e83b2a52ff4d7a94d51b12993b6fc2"
      }
     },
     "metadata": {},
     "output_type": "display_data"
    },
    {
     "data": {
      "text/plain": [
       "curve-low rho=0.5 sigma=1.6 (5/10):   0%|          | 0/51 [00:00<?, ?it/s]"
      ],
      "application/vnd.jupyter.widget-view+json": {
       "version_major": 2,
       "version_minor": 0,
       "model_id": "4bfca70ada69495591137edc91cedf55"
      }
     },
     "metadata": {},
     "output_type": "display_data"
    },
    {
     "data": {
      "text/plain": [
       "curve-low rho=0.5 sigma=3.2 (5/10):   0%|          | 0/51 [00:00<?, ?it/s]"
      ],
      "application/vnd.jupyter.widget-view+json": {
       "version_major": 2,
       "version_minor": 0,
       "model_id": "29ceaa6012544f4a8d0b75ed4c71b018"
      }
     },
     "metadata": {},
     "output_type": "display_data"
    },
    {
     "data": {
      "text/plain": [
       "curve-low rho=0.0 sigma=0.1 (6/10):   0%|          | 0/51 [00:00<?, ?it/s]"
      ],
      "application/vnd.jupyter.widget-view+json": {
       "version_major": 2,
       "version_minor": 0,
       "model_id": "5e0ab6faa3794604966c359f50d5a60b"
      }
     },
     "metadata": {},
     "output_type": "display_data"
    },
    {
     "data": {
      "text/plain": [
       "curve-low rho=0.0 sigma=0.2 (6/10):   0%|          | 0/51 [00:00<?, ?it/s]"
      ],
      "application/vnd.jupyter.widget-view+json": {
       "version_major": 2,
       "version_minor": 0,
       "model_id": "ab67fdbce366495196215ff497cc4ddf"
      }
     },
     "metadata": {},
     "output_type": "display_data"
    },
    {
     "data": {
      "text/plain": [
       "curve-low rho=0.0 sigma=0.4 (6/10):   0%|          | 0/51 [00:00<?, ?it/s]"
      ],
      "application/vnd.jupyter.widget-view+json": {
       "version_major": 2,
       "version_minor": 0,
       "model_id": "ad08957fd00e483cbd810d20b9cf0e33"
      }
     },
     "metadata": {},
     "output_type": "display_data"
    },
    {
     "data": {
      "text/plain": [
       "curve-low rho=0.0 sigma=0.8 (6/10):   0%|          | 0/51 [00:00<?, ?it/s]"
      ],
      "application/vnd.jupyter.widget-view+json": {
       "version_major": 2,
       "version_minor": 0,
       "model_id": "5366ae62dbb94fcebc1c02e6238aaea8"
      }
     },
     "metadata": {},
     "output_type": "display_data"
    },
    {
     "data": {
      "text/plain": [
       "curve-low rho=0.0 sigma=1.6 (6/10):   0%|          | 0/51 [00:00<?, ?it/s]"
      ],
      "application/vnd.jupyter.widget-view+json": {
       "version_major": 2,
       "version_minor": 0,
       "model_id": "ea3e77dbe3db4121ae7bb48c370c1b32"
      }
     },
     "metadata": {},
     "output_type": "display_data"
    },
    {
     "data": {
      "text/plain": [
       "curve-low rho=0.0 sigma=3.2 (6/10):   0%|          | 0/51 [00:00<?, ?it/s]"
      ],
      "application/vnd.jupyter.widget-view+json": {
       "version_major": 2,
       "version_minor": 0,
       "model_id": "a89dc82390ef4ed5a8797781b19d9e8e"
      }
     },
     "metadata": {},
     "output_type": "display_data"
    },
    {
     "data": {
      "text/plain": [
       "curve-low rho=0.25 sigma=0.1 (6/10):   0%|          | 0/51 [00:00<?, ?it/s]"
      ],
      "application/vnd.jupyter.widget-view+json": {
       "version_major": 2,
       "version_minor": 0,
       "model_id": "3db9224d70054f93acf9eaca3de8d841"
      }
     },
     "metadata": {},
     "output_type": "display_data"
    },
    {
     "data": {
      "text/plain": [
       "curve-low rho=0.25 sigma=0.2 (6/10):   0%|          | 0/51 [00:00<?, ?it/s]"
      ],
      "application/vnd.jupyter.widget-view+json": {
       "version_major": 2,
       "version_minor": 0,
       "model_id": "09ae873595584527aa58d96b891aecc1"
      }
     },
     "metadata": {},
     "output_type": "display_data"
    },
    {
     "data": {
      "text/plain": [
       "curve-low rho=0.25 sigma=0.4 (6/10):   0%|          | 0/51 [00:00<?, ?it/s]"
      ],
      "application/vnd.jupyter.widget-view+json": {
       "version_major": 2,
       "version_minor": 0,
       "model_id": "8267836d7246481cae53af5107b59ddb"
      }
     },
     "metadata": {},
     "output_type": "display_data"
    },
    {
     "data": {
      "text/plain": [
       "curve-low rho=0.25 sigma=0.8 (6/10):   0%|          | 0/51 [00:00<?, ?it/s]"
      ],
      "application/vnd.jupyter.widget-view+json": {
       "version_major": 2,
       "version_minor": 0,
       "model_id": "240600f48aaa40f98660d378e7681e5a"
      }
     },
     "metadata": {},
     "output_type": "display_data"
    },
    {
     "data": {
      "text/plain": [
       "curve-low rho=0.25 sigma=1.6 (6/10):   0%|          | 0/51 [00:00<?, ?it/s]"
      ],
      "application/vnd.jupyter.widget-view+json": {
       "version_major": 2,
       "version_minor": 0,
       "model_id": "a80683ab38674dd49349bf902bd92c8d"
      }
     },
     "metadata": {},
     "output_type": "display_data"
    },
    {
     "data": {
      "text/plain": [
       "curve-low rho=0.25 sigma=3.2 (6/10):   0%|          | 0/51 [00:00<?, ?it/s]"
      ],
      "application/vnd.jupyter.widget-view+json": {
       "version_major": 2,
       "version_minor": 0,
       "model_id": "2f436d2f377f413e8653b2abbda67d39"
      }
     },
     "metadata": {},
     "output_type": "display_data"
    },
    {
     "data": {
      "text/plain": [
       "curve-low rho=0.5 sigma=0.1 (6/10):   0%|          | 0/51 [00:00<?, ?it/s]"
      ],
      "application/vnd.jupyter.widget-view+json": {
       "version_major": 2,
       "version_minor": 0,
       "model_id": "5b8f5b47dc0241fb9c7f714bddd2cff4"
      }
     },
     "metadata": {},
     "output_type": "display_data"
    },
    {
     "data": {
      "text/plain": [
       "curve-low rho=0.5 sigma=0.2 (6/10):   0%|          | 0/51 [00:00<?, ?it/s]"
      ],
      "application/vnd.jupyter.widget-view+json": {
       "version_major": 2,
       "version_minor": 0,
       "model_id": "965e5b5246eb4f26b8763780c46bccd7"
      }
     },
     "metadata": {},
     "output_type": "display_data"
    },
    {
     "data": {
      "text/plain": [
       "curve-low rho=0.5 sigma=0.4 (6/10):   0%|          | 0/51 [00:00<?, ?it/s]"
      ],
      "application/vnd.jupyter.widget-view+json": {
       "version_major": 2,
       "version_minor": 0,
       "model_id": "8ba3c0d6da6d49b9b08dc06035c2e572"
      }
     },
     "metadata": {},
     "output_type": "display_data"
    },
    {
     "data": {
      "text/plain": [
       "curve-low rho=0.5 sigma=0.8 (6/10):   0%|          | 0/51 [00:00<?, ?it/s]"
      ],
      "application/vnd.jupyter.widget-view+json": {
       "version_major": 2,
       "version_minor": 0,
       "model_id": "93729cfc2f5447b4940825633c4fe557"
      }
     },
     "metadata": {},
     "output_type": "display_data"
    },
    {
     "data": {
      "text/plain": [
       "curve-low rho=0.5 sigma=1.6 (6/10):   0%|          | 0/51 [00:00<?, ?it/s]"
      ],
      "application/vnd.jupyter.widget-view+json": {
       "version_major": 2,
       "version_minor": 0,
       "model_id": "aafa0a863015490796ddbc5381c44e5c"
      }
     },
     "metadata": {},
     "output_type": "display_data"
    },
    {
     "data": {
      "text/plain": [
       "curve-low rho=0.5 sigma=3.2 (6/10):   0%|          | 0/51 [00:00<?, ?it/s]"
      ],
      "application/vnd.jupyter.widget-view+json": {
       "version_major": 2,
       "version_minor": 0,
       "model_id": "7fd613dc2e784b25bbb242895547b1e9"
      }
     },
     "metadata": {},
     "output_type": "display_data"
    },
    {
     "data": {
      "text/plain": [
       "curve-low rho=0.0 sigma=0.1 (7/10):   0%|          | 0/51 [00:00<?, ?it/s]"
      ],
      "application/vnd.jupyter.widget-view+json": {
       "version_major": 2,
       "version_minor": 0,
       "model_id": "aa5dbb950ea64580867fcd4e73b287e4"
      }
     },
     "metadata": {},
     "output_type": "display_data"
    },
    {
     "data": {
      "text/plain": [
       "curve-low rho=0.0 sigma=0.2 (7/10):   0%|          | 0/51 [00:00<?, ?it/s]"
      ],
      "application/vnd.jupyter.widget-view+json": {
       "version_major": 2,
       "version_minor": 0,
       "model_id": "9e1addf5bef04a2cb04806d9901dee37"
      }
     },
     "metadata": {},
     "output_type": "display_data"
    },
    {
     "data": {
      "text/plain": [
       "curve-low rho=0.0 sigma=0.4 (7/10):   0%|          | 0/51 [00:00<?, ?it/s]"
      ],
      "application/vnd.jupyter.widget-view+json": {
       "version_major": 2,
       "version_minor": 0,
       "model_id": "691e6ffde800437693c06d2bb58c2f14"
      }
     },
     "metadata": {},
     "output_type": "display_data"
    },
    {
     "data": {
      "text/plain": [
       "curve-low rho=0.0 sigma=0.8 (7/10):   0%|          | 0/51 [00:00<?, ?it/s]"
      ],
      "application/vnd.jupyter.widget-view+json": {
       "version_major": 2,
       "version_minor": 0,
       "model_id": "6d2f8e159f0d4b2a8cb89fc6288ac366"
      }
     },
     "metadata": {},
     "output_type": "display_data"
    },
    {
     "data": {
      "text/plain": [
       "curve-low rho=0.0 sigma=1.6 (7/10):   0%|          | 0/51 [00:00<?, ?it/s]"
      ],
      "application/vnd.jupyter.widget-view+json": {
       "version_major": 2,
       "version_minor": 0,
       "model_id": "cb41f1612d3a441f91af19fb2155565b"
      }
     },
     "metadata": {},
     "output_type": "display_data"
    },
    {
     "data": {
      "text/plain": [
       "curve-low rho=0.0 sigma=3.2 (7/10):   0%|          | 0/51 [00:00<?, ?it/s]"
      ],
      "application/vnd.jupyter.widget-view+json": {
       "version_major": 2,
       "version_minor": 0,
       "model_id": "d2617511b42e45aaa809fa92915b86af"
      }
     },
     "metadata": {},
     "output_type": "display_data"
    },
    {
     "data": {
      "text/plain": [
       "curve-low rho=0.25 sigma=0.1 (7/10):   0%|          | 0/51 [00:00<?, ?it/s]"
      ],
      "application/vnd.jupyter.widget-view+json": {
       "version_major": 2,
       "version_minor": 0,
       "model_id": "fff432dda8bb41cca68ca1431edbb64a"
      }
     },
     "metadata": {},
     "output_type": "display_data"
    },
    {
     "data": {
      "text/plain": [
       "curve-low rho=0.25 sigma=0.2 (7/10):   0%|          | 0/51 [00:00<?, ?it/s]"
      ],
      "application/vnd.jupyter.widget-view+json": {
       "version_major": 2,
       "version_minor": 0,
       "model_id": "c5bd1f458f2649dc9faa180c5a8329fb"
      }
     },
     "metadata": {},
     "output_type": "display_data"
    },
    {
     "data": {
      "text/plain": [
       "curve-low rho=0.25 sigma=0.4 (7/10):   0%|          | 0/51 [00:00<?, ?it/s]"
      ],
      "application/vnd.jupyter.widget-view+json": {
       "version_major": 2,
       "version_minor": 0,
       "model_id": "ef496d9c62604c4d9916a54370e94b69"
      }
     },
     "metadata": {},
     "output_type": "display_data"
    },
    {
     "data": {
      "text/plain": [
       "curve-low rho=0.25 sigma=0.8 (7/10):   0%|          | 0/51 [00:00<?, ?it/s]"
      ],
      "application/vnd.jupyter.widget-view+json": {
       "version_major": 2,
       "version_minor": 0,
       "model_id": "bc786be2c36d4f9698b81eb835e9cb34"
      }
     },
     "metadata": {},
     "output_type": "display_data"
    },
    {
     "data": {
      "text/plain": [
       "curve-low rho=0.25 sigma=1.6 (7/10):   0%|          | 0/51 [00:00<?, ?it/s]"
      ],
      "application/vnd.jupyter.widget-view+json": {
       "version_major": 2,
       "version_minor": 0,
       "model_id": "3d6efc55e4584a4a904bf833b3e08def"
      }
     },
     "metadata": {},
     "output_type": "display_data"
    },
    {
     "data": {
      "text/plain": [
       "curve-low rho=0.25 sigma=3.2 (7/10):   0%|          | 0/51 [00:00<?, ?it/s]"
      ],
      "application/vnd.jupyter.widget-view+json": {
       "version_major": 2,
       "version_minor": 0,
       "model_id": "69ecd16e7a7440e49c4708a5fcf92c1c"
      }
     },
     "metadata": {},
     "output_type": "display_data"
    },
    {
     "data": {
      "text/plain": [
       "curve-low rho=0.5 sigma=0.1 (7/10):   0%|          | 0/51 [00:00<?, ?it/s]"
      ],
      "application/vnd.jupyter.widget-view+json": {
       "version_major": 2,
       "version_minor": 0,
       "model_id": "f9e593d28ea14f0d9ab1f65b75d9f914"
      }
     },
     "metadata": {},
     "output_type": "display_data"
    },
    {
     "data": {
      "text/plain": [
       "curve-low rho=0.5 sigma=0.2 (7/10):   0%|          | 0/51 [00:00<?, ?it/s]"
      ],
      "application/vnd.jupyter.widget-view+json": {
       "version_major": 2,
       "version_minor": 0,
       "model_id": "dbe0a41a13ea4be79e2abb1054196c92"
      }
     },
     "metadata": {},
     "output_type": "display_data"
    },
    {
     "data": {
      "text/plain": [
       "curve-low rho=0.5 sigma=0.4 (7/10):   0%|          | 0/51 [00:00<?, ?it/s]"
      ],
      "application/vnd.jupyter.widget-view+json": {
       "version_major": 2,
       "version_minor": 0,
       "model_id": "39c4f5b80c0249ee87cff4185983a158"
      }
     },
     "metadata": {},
     "output_type": "display_data"
    },
    {
     "data": {
      "text/plain": [
       "curve-low rho=0.5 sigma=0.8 (7/10):   0%|          | 0/51 [00:00<?, ?it/s]"
      ],
      "application/vnd.jupyter.widget-view+json": {
       "version_major": 2,
       "version_minor": 0,
       "model_id": "79f9c9c038524ac58eb9a0577ea279a8"
      }
     },
     "metadata": {},
     "output_type": "display_data"
    },
    {
     "data": {
      "text/plain": [
       "curve-low rho=0.5 sigma=1.6 (7/10):   0%|          | 0/51 [00:00<?, ?it/s]"
      ],
      "application/vnd.jupyter.widget-view+json": {
       "version_major": 2,
       "version_minor": 0,
       "model_id": "3fd40754e6134933a59c9c386ce16edc"
      }
     },
     "metadata": {},
     "output_type": "display_data"
    },
    {
     "data": {
      "text/plain": [
       "curve-low rho=0.5 sigma=3.2 (7/10):   0%|          | 0/51 [00:00<?, ?it/s]"
      ],
      "application/vnd.jupyter.widget-view+json": {
       "version_major": 2,
       "version_minor": 0,
       "model_id": "5d81ccba178d4f9faee062ec568ab79d"
      }
     },
     "metadata": {},
     "output_type": "display_data"
    },
    {
     "data": {
      "text/plain": [
       "curve-low rho=0.0 sigma=0.1 (8/10):   0%|          | 0/51 [00:00<?, ?it/s]"
      ],
      "application/vnd.jupyter.widget-view+json": {
       "version_major": 2,
       "version_minor": 0,
       "model_id": "dff4ecc04cc44a88a6a439e47dc58c03"
      }
     },
     "metadata": {},
     "output_type": "display_data"
    },
    {
     "data": {
      "text/plain": [
       "curve-low rho=0.0 sigma=0.2 (8/10):   0%|          | 0/51 [00:00<?, ?it/s]"
      ],
      "application/vnd.jupyter.widget-view+json": {
       "version_major": 2,
       "version_minor": 0,
       "model_id": "d2079549dddb4ec099e89a0b5b4e6331"
      }
     },
     "metadata": {},
     "output_type": "display_data"
    },
    {
     "data": {
      "text/plain": [
       "curve-low rho=0.0 sigma=0.4 (8/10):   0%|          | 0/51 [00:00<?, ?it/s]"
      ],
      "application/vnd.jupyter.widget-view+json": {
       "version_major": 2,
       "version_minor": 0,
       "model_id": "d4a2a61076884155b7941e41dff67667"
      }
     },
     "metadata": {},
     "output_type": "display_data"
    },
    {
     "data": {
      "text/plain": [
       "curve-low rho=0.0 sigma=0.8 (8/10):   0%|          | 0/51 [00:00<?, ?it/s]"
      ],
      "application/vnd.jupyter.widget-view+json": {
       "version_major": 2,
       "version_minor": 0,
       "model_id": "6f2d8ecb14aa405fa1f530b10e422837"
      }
     },
     "metadata": {},
     "output_type": "display_data"
    },
    {
     "data": {
      "text/plain": [
       "curve-low rho=0.0 sigma=1.6 (8/10):   0%|          | 0/51 [00:00<?, ?it/s]"
      ],
      "application/vnd.jupyter.widget-view+json": {
       "version_major": 2,
       "version_minor": 0,
       "model_id": "5ca20071a0b14e7ea79072f5ea2498f3"
      }
     },
     "metadata": {},
     "output_type": "display_data"
    },
    {
     "data": {
      "text/plain": [
       "curve-low rho=0.0 sigma=3.2 (8/10):   0%|          | 0/51 [00:00<?, ?it/s]"
      ],
      "application/vnd.jupyter.widget-view+json": {
       "version_major": 2,
       "version_minor": 0,
       "model_id": "1883243107964f3ebb875ad4d4b947f2"
      }
     },
     "metadata": {},
     "output_type": "display_data"
    },
    {
     "data": {
      "text/plain": [
       "curve-low rho=0.25 sigma=0.1 (8/10):   0%|          | 0/51 [00:00<?, ?it/s]"
      ],
      "application/vnd.jupyter.widget-view+json": {
       "version_major": 2,
       "version_minor": 0,
       "model_id": "4461305a0528454abaaf1242f9d34d87"
      }
     },
     "metadata": {},
     "output_type": "display_data"
    },
    {
     "data": {
      "text/plain": [
       "curve-low rho=0.25 sigma=0.2 (8/10):   0%|          | 0/51 [00:00<?, ?it/s]"
      ],
      "application/vnd.jupyter.widget-view+json": {
       "version_major": 2,
       "version_minor": 0,
       "model_id": "93800c27d3fd49cc9d85c8f853759d11"
      }
     },
     "metadata": {},
     "output_type": "display_data"
    },
    {
     "data": {
      "text/plain": [
       "curve-low rho=0.25 sigma=0.4 (8/10):   0%|          | 0/51 [00:00<?, ?it/s]"
      ],
      "application/vnd.jupyter.widget-view+json": {
       "version_major": 2,
       "version_minor": 0,
       "model_id": "2aea1c7f150048d9a558269f09f14d40"
      }
     },
     "metadata": {},
     "output_type": "display_data"
    },
    {
     "data": {
      "text/plain": [
       "curve-low rho=0.25 sigma=0.8 (8/10):   0%|          | 0/51 [00:00<?, ?it/s]"
      ],
      "application/vnd.jupyter.widget-view+json": {
       "version_major": 2,
       "version_minor": 0,
       "model_id": "eeafb5e47e4745d2bd75c3fb1c752ee8"
      }
     },
     "metadata": {},
     "output_type": "display_data"
    },
    {
     "data": {
      "text/plain": [
       "curve-low rho=0.25 sigma=1.6 (8/10):   0%|          | 0/51 [00:00<?, ?it/s]"
      ],
      "application/vnd.jupyter.widget-view+json": {
       "version_major": 2,
       "version_minor": 0,
       "model_id": "81291dea7e08447ba4145e9b41d59567"
      }
     },
     "metadata": {},
     "output_type": "display_data"
    },
    {
     "data": {
      "text/plain": [
       "curve-low rho=0.25 sigma=3.2 (8/10):   0%|          | 0/51 [00:00<?, ?it/s]"
      ],
      "application/vnd.jupyter.widget-view+json": {
       "version_major": 2,
       "version_minor": 0,
       "model_id": "2af0c7f866f84357beca7c2c6dbeb28f"
      }
     },
     "metadata": {},
     "output_type": "display_data"
    },
    {
     "data": {
      "text/plain": [
       "curve-low rho=0.5 sigma=0.1 (8/10):   0%|          | 0/51 [00:00<?, ?it/s]"
      ],
      "application/vnd.jupyter.widget-view+json": {
       "version_major": 2,
       "version_minor": 0,
       "model_id": "563161d815fc4c38b5b4b484036848b8"
      }
     },
     "metadata": {},
     "output_type": "display_data"
    },
    {
     "data": {
      "text/plain": [
       "curve-low rho=0.5 sigma=0.2 (8/10):   0%|          | 0/51 [00:00<?, ?it/s]"
      ],
      "application/vnd.jupyter.widget-view+json": {
       "version_major": 2,
       "version_minor": 0,
       "model_id": "bd0eb90d692740b58ae550dab38a48d0"
      }
     },
     "metadata": {},
     "output_type": "display_data"
    },
    {
     "data": {
      "text/plain": [
       "curve-low rho=0.5 sigma=0.4 (8/10):   0%|          | 0/51 [00:00<?, ?it/s]"
      ],
      "application/vnd.jupyter.widget-view+json": {
       "version_major": 2,
       "version_minor": 0,
       "model_id": "fc7beb416b9a4e9f99283913d5b70b0e"
      }
     },
     "metadata": {},
     "output_type": "display_data"
    },
    {
     "data": {
      "text/plain": [
       "curve-low rho=0.5 sigma=0.8 (8/10):   0%|          | 0/51 [00:00<?, ?it/s]"
      ],
      "application/vnd.jupyter.widget-view+json": {
       "version_major": 2,
       "version_minor": 0,
       "model_id": "6ca817459c2e410e9f81b53dc6fbab44"
      }
     },
     "metadata": {},
     "output_type": "display_data"
    },
    {
     "data": {
      "text/plain": [
       "curve-low rho=0.5 sigma=1.6 (8/10):   0%|          | 0/51 [00:00<?, ?it/s]"
      ],
      "application/vnd.jupyter.widget-view+json": {
       "version_major": 2,
       "version_minor": 0,
       "model_id": "772ee35b16264c6990c293520a514ee9"
      }
     },
     "metadata": {},
     "output_type": "display_data"
    },
    {
     "data": {
      "text/plain": [
       "curve-low rho=0.5 sigma=3.2 (8/10):   0%|          | 0/51 [00:00<?, ?it/s]"
      ],
      "application/vnd.jupyter.widget-view+json": {
       "version_major": 2,
       "version_minor": 0,
       "model_id": "2d7912a047a14e36bc926673920b8092"
      }
     },
     "metadata": {},
     "output_type": "display_data"
    },
    {
     "data": {
      "text/plain": [
       "curve-low rho=0.0 sigma=0.1 (9/10):   0%|          | 0/51 [00:00<?, ?it/s]"
      ],
      "application/vnd.jupyter.widget-view+json": {
       "version_major": 2,
       "version_minor": 0,
       "model_id": "3f4049fdbe8c4bf1bfebfb2b085fafab"
      }
     },
     "metadata": {},
     "output_type": "display_data"
    },
    {
     "data": {
      "text/plain": [
       "curve-low rho=0.0 sigma=0.2 (9/10):   0%|          | 0/51 [00:00<?, ?it/s]"
      ],
      "application/vnd.jupyter.widget-view+json": {
       "version_major": 2,
       "version_minor": 0,
       "model_id": "b92a3598634c40239d12e22844557df2"
      }
     },
     "metadata": {},
     "output_type": "display_data"
    },
    {
     "data": {
      "text/plain": [
       "curve-low rho=0.0 sigma=0.4 (9/10):   0%|          | 0/51 [00:00<?, ?it/s]"
      ],
      "application/vnd.jupyter.widget-view+json": {
       "version_major": 2,
       "version_minor": 0,
       "model_id": "99e0a64d37334cf797c48a3c137b2bc2"
      }
     },
     "metadata": {},
     "output_type": "display_data"
    },
    {
     "data": {
      "text/plain": [
       "curve-low rho=0.0 sigma=0.8 (9/10):   0%|          | 0/51 [00:00<?, ?it/s]"
      ],
      "application/vnd.jupyter.widget-view+json": {
       "version_major": 2,
       "version_minor": 0,
       "model_id": "873da7e4e8fa4927991f79fa84536b8c"
      }
     },
     "metadata": {},
     "output_type": "display_data"
    },
    {
     "data": {
      "text/plain": [
       "curve-low rho=0.0 sigma=1.6 (9/10):   0%|          | 0/51 [00:00<?, ?it/s]"
      ],
      "application/vnd.jupyter.widget-view+json": {
       "version_major": 2,
       "version_minor": 0,
       "model_id": "4cf748f0f76241c9ab4935199e95a01f"
      }
     },
     "metadata": {},
     "output_type": "display_data"
    },
    {
     "data": {
      "text/plain": [
       "curve-low rho=0.0 sigma=3.2 (9/10):   0%|          | 0/51 [00:00<?, ?it/s]"
      ],
      "application/vnd.jupyter.widget-view+json": {
       "version_major": 2,
       "version_minor": 0,
       "model_id": "63f50e4029fb48a0bafaeddd1115a3e2"
      }
     },
     "metadata": {},
     "output_type": "display_data"
    },
    {
     "data": {
      "text/plain": [
       "curve-low rho=0.25 sigma=0.1 (9/10):   0%|          | 0/51 [00:00<?, ?it/s]"
      ],
      "application/vnd.jupyter.widget-view+json": {
       "version_major": 2,
       "version_minor": 0,
       "model_id": "0ade6a383301472b8b829116ca5166ef"
      }
     },
     "metadata": {},
     "output_type": "display_data"
    },
    {
     "data": {
      "text/plain": [
       "curve-low rho=0.25 sigma=0.2 (9/10):   0%|          | 0/51 [00:00<?, ?it/s]"
      ],
      "application/vnd.jupyter.widget-view+json": {
       "version_major": 2,
       "version_minor": 0,
       "model_id": "b6ede7915e9a4b0fa42c0e9031426586"
      }
     },
     "metadata": {},
     "output_type": "display_data"
    },
    {
     "data": {
      "text/plain": [
       "curve-low rho=0.25 sigma=0.4 (9/10):   0%|          | 0/51 [00:00<?, ?it/s]"
      ],
      "application/vnd.jupyter.widget-view+json": {
       "version_major": 2,
       "version_minor": 0,
       "model_id": "d4bddd04ce1a400fbb7e78755c6b7734"
      }
     },
     "metadata": {},
     "output_type": "display_data"
    },
    {
     "data": {
      "text/plain": [
       "curve-low rho=0.25 sigma=0.8 (9/10):   0%|          | 0/51 [00:00<?, ?it/s]"
      ],
      "application/vnd.jupyter.widget-view+json": {
       "version_major": 2,
       "version_minor": 0,
       "model_id": "ed2fe6b5ce9142c1bbba43a96320e309"
      }
     },
     "metadata": {},
     "output_type": "display_data"
    },
    {
     "data": {
      "text/plain": [
       "curve-low rho=0.25 sigma=1.6 (9/10):   0%|          | 0/51 [00:00<?, ?it/s]"
      ],
      "application/vnd.jupyter.widget-view+json": {
       "version_major": 2,
       "version_minor": 0,
       "model_id": "ec176c3582d645bfa523d78dc4f2da2c"
      }
     },
     "metadata": {},
     "output_type": "display_data"
    },
    {
     "data": {
      "text/plain": [
       "curve-low rho=0.25 sigma=3.2 (9/10):   0%|          | 0/51 [00:00<?, ?it/s]"
      ],
      "application/vnd.jupyter.widget-view+json": {
       "version_major": 2,
       "version_minor": 0,
       "model_id": "6c8d030c5d784946aeb31011ea5023db"
      }
     },
     "metadata": {},
     "output_type": "display_data"
    },
    {
     "data": {
      "text/plain": [
       "curve-low rho=0.5 sigma=0.1 (9/10):   0%|          | 0/51 [00:00<?, ?it/s]"
      ],
      "application/vnd.jupyter.widget-view+json": {
       "version_major": 2,
       "version_minor": 0,
       "model_id": "996fd02100f74220a627ae096a23b75f"
      }
     },
     "metadata": {},
     "output_type": "display_data"
    },
    {
     "data": {
      "text/plain": [
       "curve-low rho=0.5 sigma=0.2 (9/10):   0%|          | 0/51 [00:00<?, ?it/s]"
      ],
      "application/vnd.jupyter.widget-view+json": {
       "version_major": 2,
       "version_minor": 0,
       "model_id": "4e4368532d08487e8a8daf1a3f72c67c"
      }
     },
     "metadata": {},
     "output_type": "display_data"
    },
    {
     "data": {
      "text/plain": [
       "curve-low rho=0.5 sigma=0.4 (9/10):   0%|          | 0/51 [00:00<?, ?it/s]"
      ],
      "application/vnd.jupyter.widget-view+json": {
       "version_major": 2,
       "version_minor": 0,
       "model_id": "f24efd4881754668a29eaaa42790f44b"
      }
     },
     "metadata": {},
     "output_type": "display_data"
    },
    {
     "data": {
      "text/plain": [
       "curve-low rho=0.5 sigma=0.8 (9/10):   0%|          | 0/51 [00:00<?, ?it/s]"
      ],
      "application/vnd.jupyter.widget-view+json": {
       "version_major": 2,
       "version_minor": 0,
       "model_id": "5b31dad1c1574128a01c5e6aeb6fb171"
      }
     },
     "metadata": {},
     "output_type": "display_data"
    },
    {
     "data": {
      "text/plain": [
       "curve-low rho=0.5 sigma=1.6 (9/10):   0%|          | 0/51 [00:00<?, ?it/s]"
      ],
      "application/vnd.jupyter.widget-view+json": {
       "version_major": 2,
       "version_minor": 0,
       "model_id": "90fb305e3f6e4919b9f6b820a7211a50"
      }
     },
     "metadata": {},
     "output_type": "display_data"
    },
    {
     "data": {
      "text/plain": [
       "curve-low rho=0.5 sigma=3.2 (9/10):   0%|          | 0/51 [00:00<?, ?it/s]"
      ],
      "application/vnd.jupyter.widget-view+json": {
       "version_major": 2,
       "version_minor": 0,
       "model_id": "0585652006154564a20126f199f613f9"
      }
     },
     "metadata": {},
     "output_type": "display_data"
    },
    {
     "data": {
      "text/plain": [
       "curve-low rho=0.0 sigma=0.1 (10/10):   0%|          | 0/51 [00:00<?, ?it/s]"
      ],
      "application/vnd.jupyter.widget-view+json": {
       "version_major": 2,
       "version_minor": 0,
       "model_id": "17a7ff27fc7a42ed820698f8b169bf8d"
      }
     },
     "metadata": {},
     "output_type": "display_data"
    },
    {
     "data": {
      "text/plain": [
       "curve-low rho=0.0 sigma=0.2 (10/10):   0%|          | 0/51 [00:00<?, ?it/s]"
      ],
      "application/vnd.jupyter.widget-view+json": {
       "version_major": 2,
       "version_minor": 0,
       "model_id": "f20ed5862532471582fa35df631c63b3"
      }
     },
     "metadata": {},
     "output_type": "display_data"
    },
    {
     "data": {
      "text/plain": [
       "curve-low rho=0.0 sigma=0.4 (10/10):   0%|          | 0/51 [00:00<?, ?it/s]"
      ],
      "application/vnd.jupyter.widget-view+json": {
       "version_major": 2,
       "version_minor": 0,
       "model_id": "ca63ac491b754d3e9076b63b1ed4e805"
      }
     },
     "metadata": {},
     "output_type": "display_data"
    },
    {
     "data": {
      "text/plain": [
       "curve-low rho=0.0 sigma=0.8 (10/10):   0%|          | 0/51 [00:00<?, ?it/s]"
      ],
      "application/vnd.jupyter.widget-view+json": {
       "version_major": 2,
       "version_minor": 0,
       "model_id": "381c7c137c9048c8be7df45bf976532f"
      }
     },
     "metadata": {},
     "output_type": "display_data"
    },
    {
     "data": {
      "text/plain": [
       "curve-low rho=0.0 sigma=1.6 (10/10):   0%|          | 0/51 [00:00<?, ?it/s]"
      ],
      "application/vnd.jupyter.widget-view+json": {
       "version_major": 2,
       "version_minor": 0,
       "model_id": "fae0b5bcca33469987c87ef4e46d9989"
      }
     },
     "metadata": {},
     "output_type": "display_data"
    },
    {
     "data": {
      "text/plain": [
       "curve-low rho=0.0 sigma=3.2 (10/10):   0%|          | 0/51 [00:00<?, ?it/s]"
      ],
      "application/vnd.jupyter.widget-view+json": {
       "version_major": 2,
       "version_minor": 0,
       "model_id": "32a89069ddc44c38ae92cb9fe5d9ed8f"
      }
     },
     "metadata": {},
     "output_type": "display_data"
    },
    {
     "data": {
      "text/plain": [
       "curve-low rho=0.25 sigma=0.1 (10/10):   0%|          | 0/51 [00:00<?, ?it/s]"
      ],
      "application/vnd.jupyter.widget-view+json": {
       "version_major": 2,
       "version_minor": 0,
       "model_id": "9ab9bbe026b5483c833c744c958b5140"
      }
     },
     "metadata": {},
     "output_type": "display_data"
    },
    {
     "data": {
      "text/plain": [
       "curve-low rho=0.25 sigma=0.2 (10/10):   0%|          | 0/51 [00:00<?, ?it/s]"
      ],
      "application/vnd.jupyter.widget-view+json": {
       "version_major": 2,
       "version_minor": 0,
       "model_id": "d8a8eb57a50b4ef9b075b3635dfde4cf"
      }
     },
     "metadata": {},
     "output_type": "display_data"
    },
    {
     "data": {
      "text/plain": [
       "curve-low rho=0.25 sigma=0.4 (10/10):   0%|          | 0/51 [00:00<?, ?it/s]"
      ],
      "application/vnd.jupyter.widget-view+json": {
       "version_major": 2,
       "version_minor": 0,
       "model_id": "5e689eae495046d2965cd7e5aafedb0d"
      }
     },
     "metadata": {},
     "output_type": "display_data"
    },
    {
     "data": {
      "text/plain": [
       "curve-low rho=0.25 sigma=0.8 (10/10):   0%|          | 0/51 [00:00<?, ?it/s]"
      ],
      "application/vnd.jupyter.widget-view+json": {
       "version_major": 2,
       "version_minor": 0,
       "model_id": "bbc202f8278f47a2a54c1dccebdc3e81"
      }
     },
     "metadata": {},
     "output_type": "display_data"
    },
    {
     "data": {
      "text/plain": [
       "curve-low rho=0.25 sigma=1.6 (10/10):   0%|          | 0/51 [00:00<?, ?it/s]"
      ],
      "application/vnd.jupyter.widget-view+json": {
       "version_major": 2,
       "version_minor": 0,
       "model_id": "153164e2973d4d5682d8cef12f47f2b3"
      }
     },
     "metadata": {},
     "output_type": "display_data"
    },
    {
     "data": {
      "text/plain": [
       "curve-low rho=0.25 sigma=3.2 (10/10):   0%|          | 0/51 [00:00<?, ?it/s]"
      ],
      "application/vnd.jupyter.widget-view+json": {
       "version_major": 2,
       "version_minor": 0,
       "model_id": "1f30eb3bf988475da0a1367a22fa0f30"
      }
     },
     "metadata": {},
     "output_type": "display_data"
    },
    {
     "data": {
      "text/plain": [
       "curve-low rho=0.5 sigma=0.1 (10/10):   0%|          | 0/51 [00:00<?, ?it/s]"
      ],
      "application/vnd.jupyter.widget-view+json": {
       "version_major": 2,
       "version_minor": 0,
       "model_id": "2d2edee5a31e4830aab5c01b862c020c"
      }
     },
     "metadata": {},
     "output_type": "display_data"
    },
    {
     "data": {
      "text/plain": [
       "curve-low rho=0.5 sigma=0.2 (10/10):   0%|          | 0/51 [00:00<?, ?it/s]"
      ],
      "application/vnd.jupyter.widget-view+json": {
       "version_major": 2,
       "version_minor": 0,
       "model_id": "554cf333fd8945ccb8af9e35579fe7d1"
      }
     },
     "metadata": {},
     "output_type": "display_data"
    },
    {
     "data": {
      "text/plain": [
       "curve-low rho=0.5 sigma=0.4 (10/10):   0%|          | 0/51 [00:00<?, ?it/s]"
      ],
      "application/vnd.jupyter.widget-view+json": {
       "version_major": 2,
       "version_minor": 0,
       "model_id": "f31c3b870e7047c4a25056405f6a422d"
      }
     },
     "metadata": {},
     "output_type": "display_data"
    },
    {
     "data": {
      "text/plain": [
       "curve-low rho=0.5 sigma=0.8 (10/10):   0%|          | 0/51 [00:00<?, ?it/s]"
      ],
      "application/vnd.jupyter.widget-view+json": {
       "version_major": 2,
       "version_minor": 0,
       "model_id": "e33ca2c7b2914a59831f3bf2c95cc011"
      }
     },
     "metadata": {},
     "output_type": "display_data"
    },
    {
     "data": {
      "text/plain": [
       "curve-low rho=0.5 sigma=1.6 (10/10):   0%|          | 0/51 [00:00<?, ?it/s]"
      ],
      "application/vnd.jupyter.widget-view+json": {
       "version_major": 2,
       "version_minor": 0,
       "model_id": "fa5d4c246ec4428882581cb3b15f8cc2"
      }
     },
     "metadata": {},
     "output_type": "display_data"
    },
    {
     "data": {
      "text/plain": [
       "curve-low rho=0.5 sigma=3.2 (10/10):   0%|          | 0/51 [00:00<?, ?it/s]"
      ],
      "application/vnd.jupyter.widget-view+json": {
       "version_major": 2,
       "version_minor": 0,
       "model_id": "305a19f12b634c60bc6c94de466ebf85"
      }
     },
     "metadata": {},
     "output_type": "display_data"
    },
    {
     "data": {
      "text/plain": [
       "legacy rho=0.0 sigma=0.1 (1/10):   0%|          | 0/51 [00:00<?, ?it/s]"
      ],
      "application/vnd.jupyter.widget-view+json": {
       "version_major": 2,
       "version_minor": 0,
       "model_id": "e795a4988a9149979fbd37ed663b4113"
      }
     },
     "metadata": {},
     "output_type": "display_data"
    },
    {
     "data": {
      "text/plain": [
       "legacy rho=0.0 sigma=0.2 (1/10):   0%|          | 0/51 [00:00<?, ?it/s]"
      ],
      "application/vnd.jupyter.widget-view+json": {
       "version_major": 2,
       "version_minor": 0,
       "model_id": "a4284398e2c7491381fa80989ab626f9"
      }
     },
     "metadata": {},
     "output_type": "display_data"
    },
    {
     "data": {
      "text/plain": [
       "legacy rho=0.0 sigma=0.4 (1/10):   0%|          | 0/51 [00:00<?, ?it/s]"
      ],
      "application/vnd.jupyter.widget-view+json": {
       "version_major": 2,
       "version_minor": 0,
       "model_id": "97964b24046849728c8d7b33798b0737"
      }
     },
     "metadata": {},
     "output_type": "display_data"
    },
    {
     "data": {
      "text/plain": [
       "legacy rho=0.0 sigma=0.8 (1/10):   0%|          | 0/51 [00:00<?, ?it/s]"
      ],
      "application/vnd.jupyter.widget-view+json": {
       "version_major": 2,
       "version_minor": 0,
       "model_id": "a066e787dd0a4e5b9988d4a05d03ad18"
      }
     },
     "metadata": {},
     "output_type": "display_data"
    },
    {
     "data": {
      "text/plain": [
       "legacy rho=0.0 sigma=1.6 (1/10):   0%|          | 0/51 [00:00<?, ?it/s]"
      ],
      "application/vnd.jupyter.widget-view+json": {
       "version_major": 2,
       "version_minor": 0,
       "model_id": "c6990f1f88584c6e880b6500a31d49ec"
      }
     },
     "metadata": {},
     "output_type": "display_data"
    },
    {
     "data": {
      "text/plain": [
       "legacy rho=0.0 sigma=3.2 (1/10):   0%|          | 0/51 [00:00<?, ?it/s]"
      ],
      "application/vnd.jupyter.widget-view+json": {
       "version_major": 2,
       "version_minor": 0,
       "model_id": "e03d03265f8b4d14b387736956812914"
      }
     },
     "metadata": {},
     "output_type": "display_data"
    },
    {
     "data": {
      "text/plain": [
       "legacy rho=0.25 sigma=0.1 (1/10):   0%|          | 0/51 [00:00<?, ?it/s]"
      ],
      "application/vnd.jupyter.widget-view+json": {
       "version_major": 2,
       "version_minor": 0,
       "model_id": "63335e62cbbd46cca9f4a73e8adb4167"
      }
     },
     "metadata": {},
     "output_type": "display_data"
    },
    {
     "data": {
      "text/plain": [
       "legacy rho=0.25 sigma=0.2 (1/10):   0%|          | 0/51 [00:00<?, ?it/s]"
      ],
      "application/vnd.jupyter.widget-view+json": {
       "version_major": 2,
       "version_minor": 0,
       "model_id": "21d2678696c54665960872af7131c72e"
      }
     },
     "metadata": {},
     "output_type": "display_data"
    },
    {
     "data": {
      "text/plain": [
       "legacy rho=0.25 sigma=0.4 (1/10):   0%|          | 0/51 [00:00<?, ?it/s]"
      ],
      "application/vnd.jupyter.widget-view+json": {
       "version_major": 2,
       "version_minor": 0,
       "model_id": "dabef8607c0d4c39b5a0d027d40fb6fb"
      }
     },
     "metadata": {},
     "output_type": "display_data"
    },
    {
     "data": {
      "text/plain": [
       "legacy rho=0.25 sigma=0.8 (1/10):   0%|          | 0/51 [00:00<?, ?it/s]"
      ],
      "application/vnd.jupyter.widget-view+json": {
       "version_major": 2,
       "version_minor": 0,
       "model_id": "d21dd586c2a24b82b4b6031bdf3da683"
      }
     },
     "metadata": {},
     "output_type": "display_data"
    },
    {
     "data": {
      "text/plain": [
       "legacy rho=0.25 sigma=1.6 (1/10):   0%|          | 0/51 [00:00<?, ?it/s]"
      ],
      "application/vnd.jupyter.widget-view+json": {
       "version_major": 2,
       "version_minor": 0,
       "model_id": "6adef6c53ea048a5b618fbf5d9a4761d"
      }
     },
     "metadata": {},
     "output_type": "display_data"
    },
    {
     "data": {
      "text/plain": [
       "legacy rho=0.25 sigma=3.2 (1/10):   0%|          | 0/51 [00:00<?, ?it/s]"
      ],
      "application/vnd.jupyter.widget-view+json": {
       "version_major": 2,
       "version_minor": 0,
       "model_id": "733c7e07f8f2476db6f38ce92bfb7779"
      }
     },
     "metadata": {},
     "output_type": "display_data"
    },
    {
     "data": {
      "text/plain": [
       "legacy rho=0.5 sigma=0.1 (1/10):   0%|          | 0/51 [00:00<?, ?it/s]"
      ],
      "application/vnd.jupyter.widget-view+json": {
       "version_major": 2,
       "version_minor": 0,
       "model_id": "88b992cd54274cd1bb2aa8bcbe206816"
      }
     },
     "metadata": {},
     "output_type": "display_data"
    },
    {
     "data": {
      "text/plain": [
       "legacy rho=0.5 sigma=0.2 (1/10):   0%|          | 0/51 [00:00<?, ?it/s]"
      ],
      "application/vnd.jupyter.widget-view+json": {
       "version_major": 2,
       "version_minor": 0,
       "model_id": "9b83fcccad904befaa5909e7d0b5f7c3"
      }
     },
     "metadata": {},
     "output_type": "display_data"
    },
    {
     "data": {
      "text/plain": [
       "legacy rho=0.5 sigma=0.4 (1/10):   0%|          | 0/51 [00:00<?, ?it/s]"
      ],
      "application/vnd.jupyter.widget-view+json": {
       "version_major": 2,
       "version_minor": 0,
       "model_id": "db6a3707569f467daf3865979185d952"
      }
     },
     "metadata": {},
     "output_type": "display_data"
    },
    {
     "data": {
      "text/plain": [
       "legacy rho=0.5 sigma=0.8 (1/10):   0%|          | 0/51 [00:00<?, ?it/s]"
      ],
      "application/vnd.jupyter.widget-view+json": {
       "version_major": 2,
       "version_minor": 0,
       "model_id": "155675005fc643aeabc25c88b4e5e766"
      }
     },
     "metadata": {},
     "output_type": "display_data"
    },
    {
     "data": {
      "text/plain": [
       "legacy rho=0.5 sigma=1.6 (1/10):   0%|          | 0/51 [00:00<?, ?it/s]"
      ],
      "application/vnd.jupyter.widget-view+json": {
       "version_major": 2,
       "version_minor": 0,
       "model_id": "2923cdaf2284484985fd11f91f897416"
      }
     },
     "metadata": {},
     "output_type": "display_data"
    },
    {
     "data": {
      "text/plain": [
       "legacy rho=0.5 sigma=3.2 (1/10):   0%|          | 0/51 [00:00<?, ?it/s]"
      ],
      "application/vnd.jupyter.widget-view+json": {
       "version_major": 2,
       "version_minor": 0,
       "model_id": "13bbc842ab8d43778e25b1d7613d4ecf"
      }
     },
     "metadata": {},
     "output_type": "display_data"
    },
    {
     "data": {
      "text/plain": [
       "legacy rho=0.0 sigma=0.1 (2/10):   0%|          | 0/51 [00:00<?, ?it/s]"
      ],
      "application/vnd.jupyter.widget-view+json": {
       "version_major": 2,
       "version_minor": 0,
       "model_id": "3c73c85c306749eab3b1aeb2fbea9f3a"
      }
     },
     "metadata": {},
     "output_type": "display_data"
    },
    {
     "data": {
      "text/plain": [
       "legacy rho=0.0 sigma=0.2 (2/10):   0%|          | 0/51 [00:00<?, ?it/s]"
      ],
      "application/vnd.jupyter.widget-view+json": {
       "version_major": 2,
       "version_minor": 0,
       "model_id": "896c43e3c4274d2c90c601234af1779d"
      }
     },
     "metadata": {},
     "output_type": "display_data"
    },
    {
     "data": {
      "text/plain": [
       "legacy rho=0.0 sigma=0.4 (2/10):   0%|          | 0/51 [00:00<?, ?it/s]"
      ],
      "application/vnd.jupyter.widget-view+json": {
       "version_major": 2,
       "version_minor": 0,
       "model_id": "bdd24afa99ad4f1794efc576d21e4ec6"
      }
     },
     "metadata": {},
     "output_type": "display_data"
    },
    {
     "data": {
      "text/plain": [
       "legacy rho=0.0 sigma=0.8 (2/10):   0%|          | 0/51 [00:00<?, ?it/s]"
      ],
      "application/vnd.jupyter.widget-view+json": {
       "version_major": 2,
       "version_minor": 0,
       "model_id": "0bd682f46d7b4cb183743af8f59265db"
      }
     },
     "metadata": {},
     "output_type": "display_data"
    },
    {
     "data": {
      "text/plain": [
       "legacy rho=0.0 sigma=1.6 (2/10):   0%|          | 0/51 [00:00<?, ?it/s]"
      ],
      "application/vnd.jupyter.widget-view+json": {
       "version_major": 2,
       "version_minor": 0,
       "model_id": "b5cca4b745d4438ea05489ba82fb18fe"
      }
     },
     "metadata": {},
     "output_type": "display_data"
    },
    {
     "data": {
      "text/plain": [
       "legacy rho=0.0 sigma=3.2 (2/10):   0%|          | 0/51 [00:00<?, ?it/s]"
      ],
      "application/vnd.jupyter.widget-view+json": {
       "version_major": 2,
       "version_minor": 0,
       "model_id": "cbcbcabb68cb4e99bd37a8dd5fdbe846"
      }
     },
     "metadata": {},
     "output_type": "display_data"
    },
    {
     "data": {
      "text/plain": [
       "legacy rho=0.25 sigma=0.1 (2/10):   0%|          | 0/51 [00:00<?, ?it/s]"
      ],
      "application/vnd.jupyter.widget-view+json": {
       "version_major": 2,
       "version_minor": 0,
       "model_id": "01c34a57ade14635bfd6563bcde8d19e"
      }
     },
     "metadata": {},
     "output_type": "display_data"
    },
    {
     "data": {
      "text/plain": [
       "legacy rho=0.25 sigma=0.2 (2/10):   0%|          | 0/51 [00:00<?, ?it/s]"
      ],
      "application/vnd.jupyter.widget-view+json": {
       "version_major": 2,
       "version_minor": 0,
       "model_id": "5fe7ed80e4454002ab38de807df2d327"
      }
     },
     "metadata": {},
     "output_type": "display_data"
    },
    {
     "data": {
      "text/plain": [
       "legacy rho=0.25 sigma=0.4 (2/10):   0%|          | 0/51 [00:00<?, ?it/s]"
      ],
      "application/vnd.jupyter.widget-view+json": {
       "version_major": 2,
       "version_minor": 0,
       "model_id": "82b505327d6348f5867d8b944c11ef1e"
      }
     },
     "metadata": {},
     "output_type": "display_data"
    },
    {
     "data": {
      "text/plain": [
       "legacy rho=0.25 sigma=0.8 (2/10):   0%|          | 0/51 [00:00<?, ?it/s]"
      ],
      "application/vnd.jupyter.widget-view+json": {
       "version_major": 2,
       "version_minor": 0,
       "model_id": "b5035aeacfa847119b5ca97feb46fc96"
      }
     },
     "metadata": {},
     "output_type": "display_data"
    },
    {
     "data": {
      "text/plain": [
       "legacy rho=0.25 sigma=1.6 (2/10):   0%|          | 0/51 [00:00<?, ?it/s]"
      ],
      "application/vnd.jupyter.widget-view+json": {
       "version_major": 2,
       "version_minor": 0,
       "model_id": "c058b0a95f6141d29109e36566744929"
      }
     },
     "metadata": {},
     "output_type": "display_data"
    },
    {
     "data": {
      "text/plain": [
       "legacy rho=0.25 sigma=3.2 (2/10):   0%|          | 0/51 [00:00<?, ?it/s]"
      ],
      "application/vnd.jupyter.widget-view+json": {
       "version_major": 2,
       "version_minor": 0,
       "model_id": "a5276a03032345919bd2c5f85f6a716a"
      }
     },
     "metadata": {},
     "output_type": "display_data"
    },
    {
     "data": {
      "text/plain": [
       "legacy rho=0.5 sigma=0.1 (2/10):   0%|          | 0/51 [00:00<?, ?it/s]"
      ],
      "application/vnd.jupyter.widget-view+json": {
       "version_major": 2,
       "version_minor": 0,
       "model_id": "76ef88b2137f4a13b266a6cf4dfdb5c9"
      }
     },
     "metadata": {},
     "output_type": "display_data"
    },
    {
     "data": {
      "text/plain": [
       "legacy rho=0.5 sigma=0.2 (2/10):   0%|          | 0/51 [00:00<?, ?it/s]"
      ],
      "application/vnd.jupyter.widget-view+json": {
       "version_major": 2,
       "version_minor": 0,
       "model_id": "fb2cf07e12e64b19a7bb28e2ad9eefc1"
      }
     },
     "metadata": {},
     "output_type": "display_data"
    },
    {
     "data": {
      "text/plain": [
       "legacy rho=0.5 sigma=0.4 (2/10):   0%|          | 0/51 [00:00<?, ?it/s]"
      ],
      "application/vnd.jupyter.widget-view+json": {
       "version_major": 2,
       "version_minor": 0,
       "model_id": "ad0669d5d2e54475866b5b8e68a43222"
      }
     },
     "metadata": {},
     "output_type": "display_data"
    },
    {
     "data": {
      "text/plain": [
       "legacy rho=0.5 sigma=0.8 (2/10):   0%|          | 0/51 [00:00<?, ?it/s]"
      ],
      "application/vnd.jupyter.widget-view+json": {
       "version_major": 2,
       "version_minor": 0,
       "model_id": "9585edb91be24809bf561d6f3feb04df"
      }
     },
     "metadata": {},
     "output_type": "display_data"
    },
    {
     "data": {
      "text/plain": [
       "legacy rho=0.5 sigma=1.6 (2/10):   0%|          | 0/51 [00:00<?, ?it/s]"
      ],
      "application/vnd.jupyter.widget-view+json": {
       "version_major": 2,
       "version_minor": 0,
       "model_id": "8eafe9faab11406caf5b6357bd1a6d8e"
      }
     },
     "metadata": {},
     "output_type": "display_data"
    },
    {
     "data": {
      "text/plain": [
       "legacy rho=0.5 sigma=3.2 (2/10):   0%|          | 0/51 [00:00<?, ?it/s]"
      ],
      "application/vnd.jupyter.widget-view+json": {
       "version_major": 2,
       "version_minor": 0,
       "model_id": "a57a0f7cd0994a70bd54580c0e142544"
      }
     },
     "metadata": {},
     "output_type": "display_data"
    },
    {
     "data": {
      "text/plain": [
       "legacy rho=0.0 sigma=0.1 (3/10):   0%|          | 0/51 [00:00<?, ?it/s]"
      ],
      "application/vnd.jupyter.widget-view+json": {
       "version_major": 2,
       "version_minor": 0,
       "model_id": "fcef780c081f461f88aeecd6457e0680"
      }
     },
     "metadata": {},
     "output_type": "display_data"
    },
    {
     "data": {
      "text/plain": [
       "legacy rho=0.0 sigma=0.2 (3/10):   0%|          | 0/51 [00:00<?, ?it/s]"
      ],
      "application/vnd.jupyter.widget-view+json": {
       "version_major": 2,
       "version_minor": 0,
       "model_id": "0122f44514a44c7d890fa3a487608c80"
      }
     },
     "metadata": {},
     "output_type": "display_data"
    },
    {
     "data": {
      "text/plain": [
       "legacy rho=0.0 sigma=0.4 (3/10):   0%|          | 0/51 [00:00<?, ?it/s]"
      ],
      "application/vnd.jupyter.widget-view+json": {
       "version_major": 2,
       "version_minor": 0,
       "model_id": "a871663d34b74142a016da43cdc765c6"
      }
     },
     "metadata": {},
     "output_type": "display_data"
    },
    {
     "data": {
      "text/plain": [
       "legacy rho=0.0 sigma=0.8 (3/10):   0%|          | 0/51 [00:00<?, ?it/s]"
      ],
      "application/vnd.jupyter.widget-view+json": {
       "version_major": 2,
       "version_minor": 0,
       "model_id": "0b8bba132dec423cb2b992c99f2ece46"
      }
     },
     "metadata": {},
     "output_type": "display_data"
    },
    {
     "data": {
      "text/plain": [
       "legacy rho=0.0 sigma=1.6 (3/10):   0%|          | 0/51 [00:00<?, ?it/s]"
      ],
      "application/vnd.jupyter.widget-view+json": {
       "version_major": 2,
       "version_minor": 0,
       "model_id": "d8de465228cb47568de39ff6f556e0a4"
      }
     },
     "metadata": {},
     "output_type": "display_data"
    },
    {
     "data": {
      "text/plain": [
       "legacy rho=0.0 sigma=3.2 (3/10):   0%|          | 0/51 [00:00<?, ?it/s]"
      ],
      "application/vnd.jupyter.widget-view+json": {
       "version_major": 2,
       "version_minor": 0,
       "model_id": "a7cfdd69d6ce4f0cb047e8efb99a2235"
      }
     },
     "metadata": {},
     "output_type": "display_data"
    },
    {
     "data": {
      "text/plain": [
       "legacy rho=0.25 sigma=0.1 (3/10):   0%|          | 0/51 [00:00<?, ?it/s]"
      ],
      "application/vnd.jupyter.widget-view+json": {
       "version_major": 2,
       "version_minor": 0,
       "model_id": "d5c304331959421caf24709380658a70"
      }
     },
     "metadata": {},
     "output_type": "display_data"
    },
    {
     "data": {
      "text/plain": [
       "legacy rho=0.25 sigma=0.2 (3/10):   0%|          | 0/51 [00:00<?, ?it/s]"
      ],
      "application/vnd.jupyter.widget-view+json": {
       "version_major": 2,
       "version_minor": 0,
       "model_id": "d3f737cd94b54b809a27d61dfa4605c9"
      }
     },
     "metadata": {},
     "output_type": "display_data"
    },
    {
     "data": {
      "text/plain": [
       "legacy rho=0.25 sigma=0.4 (3/10):   0%|          | 0/51 [00:00<?, ?it/s]"
      ],
      "application/vnd.jupyter.widget-view+json": {
       "version_major": 2,
       "version_minor": 0,
       "model_id": "ffdb1625bf494ba79da1863eccfc3568"
      }
     },
     "metadata": {},
     "output_type": "display_data"
    },
    {
     "data": {
      "text/plain": [
       "legacy rho=0.25 sigma=0.8 (3/10):   0%|          | 0/51 [00:00<?, ?it/s]"
      ],
      "application/vnd.jupyter.widget-view+json": {
       "version_major": 2,
       "version_minor": 0,
       "model_id": "e0854c7fe36c43ff903c84976b767d86"
      }
     },
     "metadata": {},
     "output_type": "display_data"
    },
    {
     "data": {
      "text/plain": [
       "legacy rho=0.25 sigma=1.6 (3/10):   0%|          | 0/51 [00:00<?, ?it/s]"
      ],
      "application/vnd.jupyter.widget-view+json": {
       "version_major": 2,
       "version_minor": 0,
       "model_id": "a22ac2428c2943f88d9d43ffa5e6342f"
      }
     },
     "metadata": {},
     "output_type": "display_data"
    },
    {
     "data": {
      "text/plain": [
       "legacy rho=0.25 sigma=3.2 (3/10):   0%|          | 0/51 [00:00<?, ?it/s]"
      ],
      "application/vnd.jupyter.widget-view+json": {
       "version_major": 2,
       "version_minor": 0,
       "model_id": "287405e4b6854b90b8859c33082e3e5b"
      }
     },
     "metadata": {},
     "output_type": "display_data"
    },
    {
     "data": {
      "text/plain": [
       "legacy rho=0.5 sigma=0.1 (3/10):   0%|          | 0/51 [00:00<?, ?it/s]"
      ],
      "application/vnd.jupyter.widget-view+json": {
       "version_major": 2,
       "version_minor": 0,
       "model_id": "332a648d6e6e4823a4a90d063097355c"
      }
     },
     "metadata": {},
     "output_type": "display_data"
    },
    {
     "data": {
      "text/plain": [
       "legacy rho=0.5 sigma=0.2 (3/10):   0%|          | 0/51 [00:00<?, ?it/s]"
      ],
      "application/vnd.jupyter.widget-view+json": {
       "version_major": 2,
       "version_minor": 0,
       "model_id": "e19740f57c984ca2b499977875f6996c"
      }
     },
     "metadata": {},
     "output_type": "display_data"
    },
    {
     "data": {
      "text/plain": [
       "legacy rho=0.5 sigma=0.4 (3/10):   0%|          | 0/51 [00:00<?, ?it/s]"
      ],
      "application/vnd.jupyter.widget-view+json": {
       "version_major": 2,
       "version_minor": 0,
       "model_id": "44bcb23cdaef4250aded9550ddae0142"
      }
     },
     "metadata": {},
     "output_type": "display_data"
    },
    {
     "data": {
      "text/plain": [
       "legacy rho=0.5 sigma=0.8 (3/10):   0%|          | 0/51 [00:00<?, ?it/s]"
      ],
      "application/vnd.jupyter.widget-view+json": {
       "version_major": 2,
       "version_minor": 0,
       "model_id": "6bd5fdebf2764c78a5ba96b3a3d7e9d9"
      }
     },
     "metadata": {},
     "output_type": "display_data"
    },
    {
     "data": {
      "text/plain": [
       "legacy rho=0.5 sigma=1.6 (3/10):   0%|          | 0/51 [00:00<?, ?it/s]"
      ],
      "application/vnd.jupyter.widget-view+json": {
       "version_major": 2,
       "version_minor": 0,
       "model_id": "13a75aff382f4bb49d2e0f38466e4310"
      }
     },
     "metadata": {},
     "output_type": "display_data"
    },
    {
     "data": {
      "text/plain": [
       "legacy rho=0.5 sigma=3.2 (3/10):   0%|          | 0/51 [00:00<?, ?it/s]"
      ],
      "application/vnd.jupyter.widget-view+json": {
       "version_major": 2,
       "version_minor": 0,
       "model_id": "fbd58515aaeb42d590822dcd9a42fbdc"
      }
     },
     "metadata": {},
     "output_type": "display_data"
    },
    {
     "data": {
      "text/plain": [
       "legacy rho=0.0 sigma=0.1 (4/10):   0%|          | 0/51 [00:00<?, ?it/s]"
      ],
      "application/vnd.jupyter.widget-view+json": {
       "version_major": 2,
       "version_minor": 0,
       "model_id": "2537264adfaa4bccbbc2af27eb42e793"
      }
     },
     "metadata": {},
     "output_type": "display_data"
    },
    {
     "data": {
      "text/plain": [
       "legacy rho=0.0 sigma=0.2 (4/10):   0%|          | 0/51 [00:00<?, ?it/s]"
      ],
      "application/vnd.jupyter.widget-view+json": {
       "version_major": 2,
       "version_minor": 0,
       "model_id": "62f39555c8014bf5903923936075e303"
      }
     },
     "metadata": {},
     "output_type": "display_data"
    },
    {
     "data": {
      "text/plain": [
       "legacy rho=0.0 sigma=0.4 (4/10):   0%|          | 0/51 [00:00<?, ?it/s]"
      ],
      "application/vnd.jupyter.widget-view+json": {
       "version_major": 2,
       "version_minor": 0,
       "model_id": "95d6c79964a94c8790e68e757c4e3e1a"
      }
     },
     "metadata": {},
     "output_type": "display_data"
    },
    {
     "data": {
      "text/plain": [
       "legacy rho=0.0 sigma=0.8 (4/10):   0%|          | 0/51 [00:00<?, ?it/s]"
      ],
      "application/vnd.jupyter.widget-view+json": {
       "version_major": 2,
       "version_minor": 0,
       "model_id": "795ca3b7aa5a42d7abfc73bc6470fad7"
      }
     },
     "metadata": {},
     "output_type": "display_data"
    },
    {
     "data": {
      "text/plain": [
       "legacy rho=0.0 sigma=1.6 (4/10):   0%|          | 0/51 [00:00<?, ?it/s]"
      ],
      "application/vnd.jupyter.widget-view+json": {
       "version_major": 2,
       "version_minor": 0,
       "model_id": "d21b946067a74a8fa3cbaf3304cbf7cd"
      }
     },
     "metadata": {},
     "output_type": "display_data"
    },
    {
     "data": {
      "text/plain": [
       "legacy rho=0.0 sigma=3.2 (4/10):   0%|          | 0/51 [00:00<?, ?it/s]"
      ],
      "application/vnd.jupyter.widget-view+json": {
       "version_major": 2,
       "version_minor": 0,
       "model_id": "39bb6511a45240359a401b29f1fc8a02"
      }
     },
     "metadata": {},
     "output_type": "display_data"
    },
    {
     "data": {
      "text/plain": [
       "legacy rho=0.25 sigma=0.1 (4/10):   0%|          | 0/51 [00:00<?, ?it/s]"
      ],
      "application/vnd.jupyter.widget-view+json": {
       "version_major": 2,
       "version_minor": 0,
       "model_id": "f41a3c495a5b4451b69e59e92a0f3a0d"
      }
     },
     "metadata": {},
     "output_type": "display_data"
    },
    {
     "data": {
      "text/plain": [
       "legacy rho=0.25 sigma=0.2 (4/10):   0%|          | 0/51 [00:00<?, ?it/s]"
      ],
      "application/vnd.jupyter.widget-view+json": {
       "version_major": 2,
       "version_minor": 0,
       "model_id": "ffa0899c840c4115b5091c23a6310002"
      }
     },
     "metadata": {},
     "output_type": "display_data"
    },
    {
     "data": {
      "text/plain": [
       "legacy rho=0.25 sigma=0.4 (4/10):   0%|          | 0/51 [00:00<?, ?it/s]"
      ],
      "application/vnd.jupyter.widget-view+json": {
       "version_major": 2,
       "version_minor": 0,
       "model_id": "e728ff93880843adbb58061408c03ca2"
      }
     },
     "metadata": {},
     "output_type": "display_data"
    },
    {
     "data": {
      "text/plain": [
       "legacy rho=0.25 sigma=0.8 (4/10):   0%|          | 0/51 [00:00<?, ?it/s]"
      ],
      "application/vnd.jupyter.widget-view+json": {
       "version_major": 2,
       "version_minor": 0,
       "model_id": "172b68a682cc4655965487c49c0370dc"
      }
     },
     "metadata": {},
     "output_type": "display_data"
    },
    {
     "data": {
      "text/plain": [
       "legacy rho=0.25 sigma=1.6 (4/10):   0%|          | 0/51 [00:00<?, ?it/s]"
      ],
      "application/vnd.jupyter.widget-view+json": {
       "version_major": 2,
       "version_minor": 0,
       "model_id": "ab51ea5ca2de4982b10304f4e54fdefc"
      }
     },
     "metadata": {},
     "output_type": "display_data"
    },
    {
     "data": {
      "text/plain": [
       "legacy rho=0.25 sigma=3.2 (4/10):   0%|          | 0/51 [00:00<?, ?it/s]"
      ],
      "application/vnd.jupyter.widget-view+json": {
       "version_major": 2,
       "version_minor": 0,
       "model_id": "65315d2d03d64fca94e5f6143a8dc362"
      }
     },
     "metadata": {},
     "output_type": "display_data"
    },
    {
     "data": {
      "text/plain": [
       "legacy rho=0.5 sigma=0.1 (4/10):   0%|          | 0/51 [00:00<?, ?it/s]"
      ],
      "application/vnd.jupyter.widget-view+json": {
       "version_major": 2,
       "version_minor": 0,
       "model_id": "d4e446e7410b4ef3b1328ce068902873"
      }
     },
     "metadata": {},
     "output_type": "display_data"
    },
    {
     "data": {
      "text/plain": [
       "legacy rho=0.5 sigma=0.2 (4/10):   0%|          | 0/51 [00:00<?, ?it/s]"
      ],
      "application/vnd.jupyter.widget-view+json": {
       "version_major": 2,
       "version_minor": 0,
       "model_id": "fed7decf2fa34c4cbdc812e6bd4b425c"
      }
     },
     "metadata": {},
     "output_type": "display_data"
    },
    {
     "data": {
      "text/plain": [
       "legacy rho=0.5 sigma=0.4 (4/10):   0%|          | 0/51 [00:00<?, ?it/s]"
      ],
      "application/vnd.jupyter.widget-view+json": {
       "version_major": 2,
       "version_minor": 0,
       "model_id": "1cd5c40193d2476e96c6f9da85717b2a"
      }
     },
     "metadata": {},
     "output_type": "display_data"
    },
    {
     "data": {
      "text/plain": [
       "legacy rho=0.5 sigma=0.8 (4/10):   0%|          | 0/51 [00:00<?, ?it/s]"
      ],
      "application/vnd.jupyter.widget-view+json": {
       "version_major": 2,
       "version_minor": 0,
       "model_id": "eddd798b2d3147479cf2b9fc19bfe26c"
      }
     },
     "metadata": {},
     "output_type": "display_data"
    },
    {
     "data": {
      "text/plain": [
       "legacy rho=0.5 sigma=1.6 (4/10):   0%|          | 0/51 [00:00<?, ?it/s]"
      ],
      "application/vnd.jupyter.widget-view+json": {
       "version_major": 2,
       "version_minor": 0,
       "model_id": "c22a7cd3d6754ee199446467a18b6460"
      }
     },
     "metadata": {},
     "output_type": "display_data"
    },
    {
     "data": {
      "text/plain": [
       "legacy rho=0.5 sigma=3.2 (4/10):   0%|          | 0/51 [00:00<?, ?it/s]"
      ],
      "application/vnd.jupyter.widget-view+json": {
       "version_major": 2,
       "version_minor": 0,
       "model_id": "676968bfef6b49e18ca8a4bb958983e1"
      }
     },
     "metadata": {},
     "output_type": "display_data"
    },
    {
     "data": {
      "text/plain": [
       "legacy rho=0.0 sigma=0.1 (5/10):   0%|          | 0/51 [00:00<?, ?it/s]"
      ],
      "application/vnd.jupyter.widget-view+json": {
       "version_major": 2,
       "version_minor": 0,
       "model_id": "1c7bb10a76824f4a8d6230b3302838a0"
      }
     },
     "metadata": {},
     "output_type": "display_data"
    },
    {
     "data": {
      "text/plain": [
       "legacy rho=0.0 sigma=0.2 (5/10):   0%|          | 0/51 [00:00<?, ?it/s]"
      ],
      "application/vnd.jupyter.widget-view+json": {
       "version_major": 2,
       "version_minor": 0,
       "model_id": "80170cd321ea4cfab1eee6c052774bd0"
      }
     },
     "metadata": {},
     "output_type": "display_data"
    },
    {
     "data": {
      "text/plain": [
       "legacy rho=0.0 sigma=0.4 (5/10):   0%|          | 0/51 [00:00<?, ?it/s]"
      ],
      "application/vnd.jupyter.widget-view+json": {
       "version_major": 2,
       "version_minor": 0,
       "model_id": "4b1ad08536174a7a8b51739377ae7226"
      }
     },
     "metadata": {},
     "output_type": "display_data"
    },
    {
     "data": {
      "text/plain": [
       "legacy rho=0.0 sigma=0.8 (5/10):   0%|          | 0/51 [00:00<?, ?it/s]"
      ],
      "application/vnd.jupyter.widget-view+json": {
       "version_major": 2,
       "version_minor": 0,
       "model_id": "44235e43cd2347b79ef278d64afa6298"
      }
     },
     "metadata": {},
     "output_type": "display_data"
    },
    {
     "data": {
      "text/plain": [
       "legacy rho=0.0 sigma=1.6 (5/10):   0%|          | 0/51 [00:00<?, ?it/s]"
      ],
      "application/vnd.jupyter.widget-view+json": {
       "version_major": 2,
       "version_minor": 0,
       "model_id": "e23e770189d64d2fa414a3aaea0c0dca"
      }
     },
     "metadata": {},
     "output_type": "display_data"
    },
    {
     "data": {
      "text/plain": [
       "legacy rho=0.0 sigma=3.2 (5/10):   0%|          | 0/51 [00:00<?, ?it/s]"
      ],
      "application/vnd.jupyter.widget-view+json": {
       "version_major": 2,
       "version_minor": 0,
       "model_id": "990f90571ade46f9a67a397bc5c53144"
      }
     },
     "metadata": {},
     "output_type": "display_data"
    },
    {
     "data": {
      "text/plain": [
       "legacy rho=0.25 sigma=0.1 (5/10):   0%|          | 0/51 [00:00<?, ?it/s]"
      ],
      "application/vnd.jupyter.widget-view+json": {
       "version_major": 2,
       "version_minor": 0,
       "model_id": "2b9492dab85e4364a7e16571583aebe9"
      }
     },
     "metadata": {},
     "output_type": "display_data"
    },
    {
     "data": {
      "text/plain": [
       "legacy rho=0.25 sigma=0.2 (5/10):   0%|          | 0/51 [00:00<?, ?it/s]"
      ],
      "application/vnd.jupyter.widget-view+json": {
       "version_major": 2,
       "version_minor": 0,
       "model_id": "0e357a81881b481a87441167288f2250"
      }
     },
     "metadata": {},
     "output_type": "display_data"
    },
    {
     "data": {
      "text/plain": [
       "legacy rho=0.25 sigma=0.4 (5/10):   0%|          | 0/51 [00:00<?, ?it/s]"
      ],
      "application/vnd.jupyter.widget-view+json": {
       "version_major": 2,
       "version_minor": 0,
       "model_id": "c7676a9f0540480e81cfa9fa33964134"
      }
     },
     "metadata": {},
     "output_type": "display_data"
    },
    {
     "data": {
      "text/plain": [
       "legacy rho=0.25 sigma=0.8 (5/10):   0%|          | 0/51 [00:00<?, ?it/s]"
      ],
      "application/vnd.jupyter.widget-view+json": {
       "version_major": 2,
       "version_minor": 0,
       "model_id": "17097ed810a34ea08aecfd2fb5ec65f7"
      }
     },
     "metadata": {},
     "output_type": "display_data"
    },
    {
     "data": {
      "text/plain": [
       "legacy rho=0.25 sigma=1.6 (5/10):   0%|          | 0/51 [00:00<?, ?it/s]"
      ],
      "application/vnd.jupyter.widget-view+json": {
       "version_major": 2,
       "version_minor": 0,
       "model_id": "09275d6385f648e7929477238c3b4794"
      }
     },
     "metadata": {},
     "output_type": "display_data"
    },
    {
     "data": {
      "text/plain": [
       "legacy rho=0.25 sigma=3.2 (5/10):   0%|          | 0/51 [00:00<?, ?it/s]"
      ],
      "application/vnd.jupyter.widget-view+json": {
       "version_major": 2,
       "version_minor": 0,
       "model_id": "a03359c3c9774350910a99c68cdcf0a0"
      }
     },
     "metadata": {},
     "output_type": "display_data"
    },
    {
     "data": {
      "text/plain": [
       "legacy rho=0.5 sigma=0.1 (5/10):   0%|          | 0/51 [00:00<?, ?it/s]"
      ],
      "application/vnd.jupyter.widget-view+json": {
       "version_major": 2,
       "version_minor": 0,
       "model_id": "f8495c14274d4ee5b861cae8cce9b67b"
      }
     },
     "metadata": {},
     "output_type": "display_data"
    },
    {
     "data": {
      "text/plain": [
       "legacy rho=0.5 sigma=0.2 (5/10):   0%|          | 0/51 [00:00<?, ?it/s]"
      ],
      "application/vnd.jupyter.widget-view+json": {
       "version_major": 2,
       "version_minor": 0,
       "model_id": "d067882f6b6240adb705bc7d9737302c"
      }
     },
     "metadata": {},
     "output_type": "display_data"
    },
    {
     "data": {
      "text/plain": [
       "legacy rho=0.5 sigma=0.4 (5/10):   0%|          | 0/51 [00:00<?, ?it/s]"
      ],
      "application/vnd.jupyter.widget-view+json": {
       "version_major": 2,
       "version_minor": 0,
       "model_id": "15fa3798c8064a6184ed3f24eb37e4e2"
      }
     },
     "metadata": {},
     "output_type": "display_data"
    },
    {
     "data": {
      "text/plain": [
       "legacy rho=0.5 sigma=0.8 (5/10):   0%|          | 0/51 [00:00<?, ?it/s]"
      ],
      "application/vnd.jupyter.widget-view+json": {
       "version_major": 2,
       "version_minor": 0,
       "model_id": "e88b46bca6f6432f8ab217dcc2e0cfc8"
      }
     },
     "metadata": {},
     "output_type": "display_data"
    },
    {
     "data": {
      "text/plain": [
       "legacy rho=0.5 sigma=1.6 (5/10):   0%|          | 0/51 [00:00<?, ?it/s]"
      ],
      "application/vnd.jupyter.widget-view+json": {
       "version_major": 2,
       "version_minor": 0,
       "model_id": "261c548f63e04397af501e4816b28c26"
      }
     },
     "metadata": {},
     "output_type": "display_data"
    },
    {
     "data": {
      "text/plain": [
       "legacy rho=0.5 sigma=3.2 (5/10):   0%|          | 0/51 [00:00<?, ?it/s]"
      ],
      "application/vnd.jupyter.widget-view+json": {
       "version_major": 2,
       "version_minor": 0,
       "model_id": "1d614ab2a2dd4561b9b0a12f70462f1d"
      }
     },
     "metadata": {},
     "output_type": "display_data"
    },
    {
     "data": {
      "text/plain": [
       "legacy rho=0.0 sigma=0.1 (6/10):   0%|          | 0/51 [00:00<?, ?it/s]"
      ],
      "application/vnd.jupyter.widget-view+json": {
       "version_major": 2,
       "version_minor": 0,
       "model_id": "e1eeeda795924a6fb1cdfaded55e2e07"
      }
     },
     "metadata": {},
     "output_type": "display_data"
    },
    {
     "data": {
      "text/plain": [
       "legacy rho=0.0 sigma=0.2 (6/10):   0%|          | 0/51 [00:00<?, ?it/s]"
      ],
      "application/vnd.jupyter.widget-view+json": {
       "version_major": 2,
       "version_minor": 0,
       "model_id": "f694f403872540e691ab5ec5f7549d47"
      }
     },
     "metadata": {},
     "output_type": "display_data"
    },
    {
     "data": {
      "text/plain": [
       "legacy rho=0.0 sigma=0.4 (6/10):   0%|          | 0/51 [00:00<?, ?it/s]"
      ],
      "application/vnd.jupyter.widget-view+json": {
       "version_major": 2,
       "version_minor": 0,
       "model_id": "52ee99c775674574b5c4229e587abced"
      }
     },
     "metadata": {},
     "output_type": "display_data"
    },
    {
     "data": {
      "text/plain": [
       "legacy rho=0.0 sigma=0.8 (6/10):   0%|          | 0/51 [00:00<?, ?it/s]"
      ],
      "application/vnd.jupyter.widget-view+json": {
       "version_major": 2,
       "version_minor": 0,
       "model_id": "a3ef23d65a7f4246babfef8dc33c07d4"
      }
     },
     "metadata": {},
     "output_type": "display_data"
    },
    {
     "data": {
      "text/plain": [
       "legacy rho=0.0 sigma=1.6 (6/10):   0%|          | 0/51 [00:00<?, ?it/s]"
      ],
      "application/vnd.jupyter.widget-view+json": {
       "version_major": 2,
       "version_minor": 0,
       "model_id": "c77ce9390ab84820be221ec5374e7115"
      }
     },
     "metadata": {},
     "output_type": "display_data"
    },
    {
     "data": {
      "text/plain": [
       "legacy rho=0.0 sigma=3.2 (6/10):   0%|          | 0/51 [00:00<?, ?it/s]"
      ],
      "application/vnd.jupyter.widget-view+json": {
       "version_major": 2,
       "version_minor": 0,
       "model_id": "8b51a441a45a4c4bbc4e43074facdfa6"
      }
     },
     "metadata": {},
     "output_type": "display_data"
    },
    {
     "data": {
      "text/plain": [
       "legacy rho=0.25 sigma=0.1 (6/10):   0%|          | 0/51 [00:00<?, ?it/s]"
      ],
      "application/vnd.jupyter.widget-view+json": {
       "version_major": 2,
       "version_minor": 0,
       "model_id": "a831fc0a00d94a65bd0160c49587a4be"
      }
     },
     "metadata": {},
     "output_type": "display_data"
    },
    {
     "data": {
      "text/plain": [
       "legacy rho=0.25 sigma=0.2 (6/10):   0%|          | 0/51 [00:00<?, ?it/s]"
      ],
      "application/vnd.jupyter.widget-view+json": {
       "version_major": 2,
       "version_minor": 0,
       "model_id": "27dab6a80a3f46618d2d62df71397006"
      }
     },
     "metadata": {},
     "output_type": "display_data"
    },
    {
     "data": {
      "text/plain": [
       "legacy rho=0.25 sigma=0.4 (6/10):   0%|          | 0/51 [00:00<?, ?it/s]"
      ],
      "application/vnd.jupyter.widget-view+json": {
       "version_major": 2,
       "version_minor": 0,
       "model_id": "c2c4041fc0dc47a7adbda37139441a74"
      }
     },
     "metadata": {},
     "output_type": "display_data"
    },
    {
     "data": {
      "text/plain": [
       "legacy rho=0.25 sigma=0.8 (6/10):   0%|          | 0/51 [00:00<?, ?it/s]"
      ],
      "application/vnd.jupyter.widget-view+json": {
       "version_major": 2,
       "version_minor": 0,
       "model_id": "49e6c7b789c9474097f69160e22ba894"
      }
     },
     "metadata": {},
     "output_type": "display_data"
    },
    {
     "data": {
      "text/plain": [
       "legacy rho=0.25 sigma=1.6 (6/10):   0%|          | 0/51 [00:00<?, ?it/s]"
      ],
      "application/vnd.jupyter.widget-view+json": {
       "version_major": 2,
       "version_minor": 0,
       "model_id": "2a07471dc9454663be5d858acbaf3a96"
      }
     },
     "metadata": {},
     "output_type": "display_data"
    },
    {
     "data": {
      "text/plain": [
       "legacy rho=0.25 sigma=3.2 (6/10):   0%|          | 0/51 [00:00<?, ?it/s]"
      ],
      "application/vnd.jupyter.widget-view+json": {
       "version_major": 2,
       "version_minor": 0,
       "model_id": "50de3574131f4c6e8ace563575d7c194"
      }
     },
     "metadata": {},
     "output_type": "display_data"
    },
    {
     "data": {
      "text/plain": [
       "legacy rho=0.5 sigma=0.1 (6/10):   0%|          | 0/51 [00:00<?, ?it/s]"
      ],
      "application/vnd.jupyter.widget-view+json": {
       "version_major": 2,
       "version_minor": 0,
       "model_id": "d5722e69e8db4a0e8ded4cf705da8f3f"
      }
     },
     "metadata": {},
     "output_type": "display_data"
    },
    {
     "data": {
      "text/plain": [
       "legacy rho=0.5 sigma=0.2 (6/10):   0%|          | 0/51 [00:00<?, ?it/s]"
      ],
      "application/vnd.jupyter.widget-view+json": {
       "version_major": 2,
       "version_minor": 0,
       "model_id": "a81cacaa3a674fe9aac96f8d201a9a33"
      }
     },
     "metadata": {},
     "output_type": "display_data"
    },
    {
     "data": {
      "text/plain": [
       "legacy rho=0.5 sigma=0.4 (6/10):   0%|          | 0/51 [00:00<?, ?it/s]"
      ],
      "application/vnd.jupyter.widget-view+json": {
       "version_major": 2,
       "version_minor": 0,
       "model_id": "5e9ceeb1e34f452aa11e62491e23fc9f"
      }
     },
     "metadata": {},
     "output_type": "display_data"
    },
    {
     "data": {
      "text/plain": [
       "legacy rho=0.5 sigma=0.8 (6/10):   0%|          | 0/51 [00:00<?, ?it/s]"
      ],
      "application/vnd.jupyter.widget-view+json": {
       "version_major": 2,
       "version_minor": 0,
       "model_id": "2c030a5ace9a4904b269359be9c254b2"
      }
     },
     "metadata": {},
     "output_type": "display_data"
    },
    {
     "data": {
      "text/plain": [
       "legacy rho=0.5 sigma=1.6 (6/10):   0%|          | 0/51 [00:00<?, ?it/s]"
      ],
      "application/vnd.jupyter.widget-view+json": {
       "version_major": 2,
       "version_minor": 0,
       "model_id": "4048d71025a84e72b6c2e944c5219cfd"
      }
     },
     "metadata": {},
     "output_type": "display_data"
    },
    {
     "data": {
      "text/plain": [
       "legacy rho=0.5 sigma=3.2 (6/10):   0%|          | 0/51 [00:00<?, ?it/s]"
      ],
      "application/vnd.jupyter.widget-view+json": {
       "version_major": 2,
       "version_minor": 0,
       "model_id": "f84fedfa1d114488a436e86cccc0b39f"
      }
     },
     "metadata": {},
     "output_type": "display_data"
    },
    {
     "data": {
      "text/plain": [
       "legacy rho=0.0 sigma=0.1 (7/10):   0%|          | 0/51 [00:00<?, ?it/s]"
      ],
      "application/vnd.jupyter.widget-view+json": {
       "version_major": 2,
       "version_minor": 0,
       "model_id": "42a4f3b3ba0249e4879d689d28aa90d5"
      }
     },
     "metadata": {},
     "output_type": "display_data"
    },
    {
     "data": {
      "text/plain": [
       "legacy rho=0.0 sigma=0.2 (7/10):   0%|          | 0/51 [00:00<?, ?it/s]"
      ],
      "application/vnd.jupyter.widget-view+json": {
       "version_major": 2,
       "version_minor": 0,
       "model_id": "847d396a488848eda03cdc2daabb3c62"
      }
     },
     "metadata": {},
     "output_type": "display_data"
    },
    {
     "data": {
      "text/plain": [
       "legacy rho=0.0 sigma=0.4 (7/10):   0%|          | 0/51 [00:00<?, ?it/s]"
      ],
      "application/vnd.jupyter.widget-view+json": {
       "version_major": 2,
       "version_minor": 0,
       "model_id": "d770c28d70634309ae52481cbcda2886"
      }
     },
     "metadata": {},
     "output_type": "display_data"
    },
    {
     "data": {
      "text/plain": [
       "legacy rho=0.0 sigma=0.8 (7/10):   0%|          | 0/51 [00:00<?, ?it/s]"
      ],
      "application/vnd.jupyter.widget-view+json": {
       "version_major": 2,
       "version_minor": 0,
       "model_id": "2a1ca4c5dd6d4a0290659be0e3954e9f"
      }
     },
     "metadata": {},
     "output_type": "display_data"
    },
    {
     "data": {
      "text/plain": [
       "legacy rho=0.0 sigma=1.6 (7/10):   0%|          | 0/51 [00:00<?, ?it/s]"
      ],
      "application/vnd.jupyter.widget-view+json": {
       "version_major": 2,
       "version_minor": 0,
       "model_id": "692310908220424d8d316d2b61a4d0aa"
      }
     },
     "metadata": {},
     "output_type": "display_data"
    },
    {
     "data": {
      "text/plain": [
       "legacy rho=0.0 sigma=3.2 (7/10):   0%|          | 0/51 [00:00<?, ?it/s]"
      ],
      "application/vnd.jupyter.widget-view+json": {
       "version_major": 2,
       "version_minor": 0,
       "model_id": "b4e32d8c3eeb4af4ade1368f7612cd5b"
      }
     },
     "metadata": {},
     "output_type": "display_data"
    },
    {
     "data": {
      "text/plain": [
       "legacy rho=0.25 sigma=0.1 (7/10):   0%|          | 0/51 [00:00<?, ?it/s]"
      ],
      "application/vnd.jupyter.widget-view+json": {
       "version_major": 2,
       "version_minor": 0,
       "model_id": "52d6b97f132442bcaa41a0ca37b8d0b5"
      }
     },
     "metadata": {},
     "output_type": "display_data"
    },
    {
     "data": {
      "text/plain": [
       "legacy rho=0.25 sigma=0.2 (7/10):   0%|          | 0/51 [00:00<?, ?it/s]"
      ],
      "application/vnd.jupyter.widget-view+json": {
       "version_major": 2,
       "version_minor": 0,
       "model_id": "ca1e5716b25841e282d043884471d6d5"
      }
     },
     "metadata": {},
     "output_type": "display_data"
    },
    {
     "data": {
      "text/plain": [
       "legacy rho=0.25 sigma=0.4 (7/10):   0%|          | 0/51 [00:00<?, ?it/s]"
      ],
      "application/vnd.jupyter.widget-view+json": {
       "version_major": 2,
       "version_minor": 0,
       "model_id": "aecad87ca3ec4fe7b9e32eef669b299e"
      }
     },
     "metadata": {},
     "output_type": "display_data"
    },
    {
     "data": {
      "text/plain": [
       "legacy rho=0.25 sigma=0.8 (7/10):   0%|          | 0/51 [00:00<?, ?it/s]"
      ],
      "application/vnd.jupyter.widget-view+json": {
       "version_major": 2,
       "version_minor": 0,
       "model_id": "e72716a9cf2147248ee68968fa331ffe"
      }
     },
     "metadata": {},
     "output_type": "display_data"
    },
    {
     "data": {
      "text/plain": [
       "legacy rho=0.25 sigma=1.6 (7/10):   0%|          | 0/51 [00:00<?, ?it/s]"
      ],
      "application/vnd.jupyter.widget-view+json": {
       "version_major": 2,
       "version_minor": 0,
       "model_id": "6371de474e2c4b4bb24d0712f1c4d210"
      }
     },
     "metadata": {},
     "output_type": "display_data"
    },
    {
     "data": {
      "text/plain": [
       "legacy rho=0.25 sigma=3.2 (7/10):   0%|          | 0/51 [00:00<?, ?it/s]"
      ],
      "application/vnd.jupyter.widget-view+json": {
       "version_major": 2,
       "version_minor": 0,
       "model_id": "ef8bfb8b2a98431db595632de08ff5b9"
      }
     },
     "metadata": {},
     "output_type": "display_data"
    },
    {
     "data": {
      "text/plain": [
       "legacy rho=0.5 sigma=0.1 (7/10):   0%|          | 0/51 [00:00<?, ?it/s]"
      ],
      "application/vnd.jupyter.widget-view+json": {
       "version_major": 2,
       "version_minor": 0,
       "model_id": "3f69884f1e194853b8409fd5f6d74040"
      }
     },
     "metadata": {},
     "output_type": "display_data"
    },
    {
     "data": {
      "text/plain": [
       "legacy rho=0.5 sigma=0.2 (7/10):   0%|          | 0/51 [00:00<?, ?it/s]"
      ],
      "application/vnd.jupyter.widget-view+json": {
       "version_major": 2,
       "version_minor": 0,
       "model_id": "3b64beb000ad49ec8b5c7278030dd25d"
      }
     },
     "metadata": {},
     "output_type": "display_data"
    },
    {
     "data": {
      "text/plain": [
       "legacy rho=0.5 sigma=0.4 (7/10):   0%|          | 0/51 [00:00<?, ?it/s]"
      ],
      "application/vnd.jupyter.widget-view+json": {
       "version_major": 2,
       "version_minor": 0,
       "model_id": "6eb422b2cacd42219a822b5e6f68932c"
      }
     },
     "metadata": {},
     "output_type": "display_data"
    },
    {
     "data": {
      "text/plain": [
       "legacy rho=0.5 sigma=0.8 (7/10):   0%|          | 0/51 [00:00<?, ?it/s]"
      ],
      "application/vnd.jupyter.widget-view+json": {
       "version_major": 2,
       "version_minor": 0,
       "model_id": "06e45bf9083e4981a738cb4af28ac97e"
      }
     },
     "metadata": {},
     "output_type": "display_data"
    },
    {
     "data": {
      "text/plain": [
       "legacy rho=0.5 sigma=1.6 (7/10):   0%|          | 0/51 [00:00<?, ?it/s]"
      ],
      "application/vnd.jupyter.widget-view+json": {
       "version_major": 2,
       "version_minor": 0,
       "model_id": "b6812db1b9fc465aa76a6f6690736cd1"
      }
     },
     "metadata": {},
     "output_type": "display_data"
    },
    {
     "data": {
      "text/plain": [
       "legacy rho=0.5 sigma=3.2 (7/10):   0%|          | 0/51 [00:00<?, ?it/s]"
      ],
      "application/vnd.jupyter.widget-view+json": {
       "version_major": 2,
       "version_minor": 0,
       "model_id": "8e9229c53f5546b3bd59dccd363135fb"
      }
     },
     "metadata": {},
     "output_type": "display_data"
    },
    {
     "data": {
      "text/plain": [
       "legacy rho=0.0 sigma=0.1 (8/10):   0%|          | 0/51 [00:00<?, ?it/s]"
      ],
      "application/vnd.jupyter.widget-view+json": {
       "version_major": 2,
       "version_minor": 0,
       "model_id": "a2acec906473429d847c86a345af3fb8"
      }
     },
     "metadata": {},
     "output_type": "display_data"
    },
    {
     "data": {
      "text/plain": [
       "legacy rho=0.0 sigma=0.2 (8/10):   0%|          | 0/51 [00:00<?, ?it/s]"
      ],
      "application/vnd.jupyter.widget-view+json": {
       "version_major": 2,
       "version_minor": 0,
       "model_id": "9b6f6549a05d4350a529fe0cab98edfa"
      }
     },
     "metadata": {},
     "output_type": "display_data"
    },
    {
     "data": {
      "text/plain": [
       "legacy rho=0.0 sigma=0.4 (8/10):   0%|          | 0/51 [00:00<?, ?it/s]"
      ],
      "application/vnd.jupyter.widget-view+json": {
       "version_major": 2,
       "version_minor": 0,
       "model_id": "35c836f761e04913958a15c20048e4a5"
      }
     },
     "metadata": {},
     "output_type": "display_data"
    },
    {
     "data": {
      "text/plain": [
       "legacy rho=0.0 sigma=0.8 (8/10):   0%|          | 0/51 [00:00<?, ?it/s]"
      ],
      "application/vnd.jupyter.widget-view+json": {
       "version_major": 2,
       "version_minor": 0,
       "model_id": "ad693745cffe4e229fc905628a3246b0"
      }
     },
     "metadata": {},
     "output_type": "display_data"
    },
    {
     "data": {
      "text/plain": [
       "legacy rho=0.0 sigma=1.6 (8/10):   0%|          | 0/51 [00:00<?, ?it/s]"
      ],
      "application/vnd.jupyter.widget-view+json": {
       "version_major": 2,
       "version_minor": 0,
       "model_id": "a9fbc03af30e4a5d887272b022c0ac67"
      }
     },
     "metadata": {},
     "output_type": "display_data"
    },
    {
     "data": {
      "text/plain": [
       "legacy rho=0.0 sigma=3.2 (8/10):   0%|          | 0/51 [00:00<?, ?it/s]"
      ],
      "application/vnd.jupyter.widget-view+json": {
       "version_major": 2,
       "version_minor": 0,
       "model_id": "f5805520cd964fa98a4bd36ad4d89019"
      }
     },
     "metadata": {},
     "output_type": "display_data"
    },
    {
     "data": {
      "text/plain": [
       "legacy rho=0.25 sigma=0.1 (8/10):   0%|          | 0/51 [00:00<?, ?it/s]"
      ],
      "application/vnd.jupyter.widget-view+json": {
       "version_major": 2,
       "version_minor": 0,
       "model_id": "3c0ffcb750c640c7b0e211535035e9cf"
      }
     },
     "metadata": {},
     "output_type": "display_data"
    },
    {
     "data": {
      "text/plain": [
       "legacy rho=0.25 sigma=0.2 (8/10):   0%|          | 0/51 [00:00<?, ?it/s]"
      ],
      "application/vnd.jupyter.widget-view+json": {
       "version_major": 2,
       "version_minor": 0,
       "model_id": "7597cdfc56134ea5ab6c29f3cbf6503f"
      }
     },
     "metadata": {},
     "output_type": "display_data"
    },
    {
     "data": {
      "text/plain": [
       "legacy rho=0.25 sigma=0.4 (8/10):   0%|          | 0/51 [00:00<?, ?it/s]"
      ],
      "application/vnd.jupyter.widget-view+json": {
       "version_major": 2,
       "version_minor": 0,
       "model_id": "ba90d305d1cb4b00830f62f3ce4a9636"
      }
     },
     "metadata": {},
     "output_type": "display_data"
    },
    {
     "data": {
      "text/plain": [
       "legacy rho=0.25 sigma=0.8 (8/10):   0%|          | 0/51 [00:00<?, ?it/s]"
      ],
      "application/vnd.jupyter.widget-view+json": {
       "version_major": 2,
       "version_minor": 0,
       "model_id": "981de61c200e4eb89f2660631ba4fccb"
      }
     },
     "metadata": {},
     "output_type": "display_data"
    },
    {
     "data": {
      "text/plain": [
       "legacy rho=0.25 sigma=1.6 (8/10):   0%|          | 0/51 [00:00<?, ?it/s]"
      ],
      "application/vnd.jupyter.widget-view+json": {
       "version_major": 2,
       "version_minor": 0,
       "model_id": "748dab026eb4484485ffa1fb2b016740"
      }
     },
     "metadata": {},
     "output_type": "display_data"
    },
    {
     "data": {
      "text/plain": [
       "legacy rho=0.25 sigma=3.2 (8/10):   0%|          | 0/51 [00:00<?, ?it/s]"
      ],
      "application/vnd.jupyter.widget-view+json": {
       "version_major": 2,
       "version_minor": 0,
       "model_id": "459d6f98c91f49de82dae9cd169e4467"
      }
     },
     "metadata": {},
     "output_type": "display_data"
    },
    {
     "data": {
      "text/plain": [
       "legacy rho=0.5 sigma=0.1 (8/10):   0%|          | 0/51 [00:00<?, ?it/s]"
      ],
      "application/vnd.jupyter.widget-view+json": {
       "version_major": 2,
       "version_minor": 0,
       "model_id": "435de0e8bfcc4d8fa93ce8c6c2f6382d"
      }
     },
     "metadata": {},
     "output_type": "display_data"
    },
    {
     "data": {
      "text/plain": [
       "legacy rho=0.5 sigma=0.2 (8/10):   0%|          | 0/51 [00:00<?, ?it/s]"
      ],
      "application/vnd.jupyter.widget-view+json": {
       "version_major": 2,
       "version_minor": 0,
       "model_id": "005b113605c4400693ce8196ef1baab8"
      }
     },
     "metadata": {},
     "output_type": "display_data"
    },
    {
     "data": {
      "text/plain": [
       "legacy rho=0.5 sigma=0.4 (8/10):   0%|          | 0/51 [00:00<?, ?it/s]"
      ],
      "application/vnd.jupyter.widget-view+json": {
       "version_major": 2,
       "version_minor": 0,
       "model_id": "d6c0c8e3dc0347afa465ed992cc9c1ea"
      }
     },
     "metadata": {},
     "output_type": "display_data"
    },
    {
     "data": {
      "text/plain": [
       "legacy rho=0.5 sigma=0.8 (8/10):   0%|          | 0/51 [00:00<?, ?it/s]"
      ],
      "application/vnd.jupyter.widget-view+json": {
       "version_major": 2,
       "version_minor": 0,
       "model_id": "d2d53a96469a4d048b1a3760886365aa"
      }
     },
     "metadata": {},
     "output_type": "display_data"
    },
    {
     "data": {
      "text/plain": [
       "legacy rho=0.5 sigma=1.6 (8/10):   0%|          | 0/51 [00:00<?, ?it/s]"
      ],
      "application/vnd.jupyter.widget-view+json": {
       "version_major": 2,
       "version_minor": 0,
       "model_id": "19a696a6d174410db6de294539dd7b6f"
      }
     },
     "metadata": {},
     "output_type": "display_data"
    },
    {
     "data": {
      "text/plain": [
       "legacy rho=0.5 sigma=3.2 (8/10):   0%|          | 0/51 [00:00<?, ?it/s]"
      ],
      "application/vnd.jupyter.widget-view+json": {
       "version_major": 2,
       "version_minor": 0,
       "model_id": "67670c838cf74764ba1e5e00604889cb"
      }
     },
     "metadata": {},
     "output_type": "display_data"
    },
    {
     "data": {
      "text/plain": [
       "legacy rho=0.0 sigma=0.1 (9/10):   0%|          | 0/51 [00:00<?, ?it/s]"
      ],
      "application/vnd.jupyter.widget-view+json": {
       "version_major": 2,
       "version_minor": 0,
       "model_id": "1c2475115cad4fc4a368d2452b1f3194"
      }
     },
     "metadata": {},
     "output_type": "display_data"
    },
    {
     "data": {
      "text/plain": [
       "legacy rho=0.0 sigma=0.2 (9/10):   0%|          | 0/51 [00:00<?, ?it/s]"
      ],
      "application/vnd.jupyter.widget-view+json": {
       "version_major": 2,
       "version_minor": 0,
       "model_id": "ca1a39cfdc3243e0b7842e5733c09c0b"
      }
     },
     "metadata": {},
     "output_type": "display_data"
    },
    {
     "data": {
      "text/plain": [
       "legacy rho=0.0 sigma=0.4 (9/10):   0%|          | 0/51 [00:00<?, ?it/s]"
      ],
      "application/vnd.jupyter.widget-view+json": {
       "version_major": 2,
       "version_minor": 0,
       "model_id": "d9fd4b13ffcb49abb0ef2268e2b3b5b7"
      }
     },
     "metadata": {},
     "output_type": "display_data"
    },
    {
     "data": {
      "text/plain": [
       "legacy rho=0.0 sigma=0.8 (9/10):   0%|          | 0/51 [00:00<?, ?it/s]"
      ],
      "application/vnd.jupyter.widget-view+json": {
       "version_major": 2,
       "version_minor": 0,
       "model_id": "161aa48b27f44a40babb5bfcacc63b31"
      }
     },
     "metadata": {},
     "output_type": "display_data"
    },
    {
     "data": {
      "text/plain": [
       "legacy rho=0.0 sigma=1.6 (9/10):   0%|          | 0/51 [00:00<?, ?it/s]"
      ],
      "application/vnd.jupyter.widget-view+json": {
       "version_major": 2,
       "version_minor": 0,
       "model_id": "787795b8fb2040ec911f381b973d2d3f"
      }
     },
     "metadata": {},
     "output_type": "display_data"
    },
    {
     "data": {
      "text/plain": [
       "legacy rho=0.0 sigma=3.2 (9/10):   0%|          | 0/51 [00:00<?, ?it/s]"
      ],
      "application/vnd.jupyter.widget-view+json": {
       "version_major": 2,
       "version_minor": 0,
       "model_id": "1ebf15bce12b4b1eb07c75a414b3d35b"
      }
     },
     "metadata": {},
     "output_type": "display_data"
    },
    {
     "data": {
      "text/plain": [
       "legacy rho=0.25 sigma=0.1 (9/10):   0%|          | 0/51 [00:00<?, ?it/s]"
      ],
      "application/vnd.jupyter.widget-view+json": {
       "version_major": 2,
       "version_minor": 0,
       "model_id": "5a997e9ea5c74cdda67b9a2a3e03507a"
      }
     },
     "metadata": {},
     "output_type": "display_data"
    },
    {
     "data": {
      "text/plain": [
       "legacy rho=0.25 sigma=0.2 (9/10):   0%|          | 0/51 [00:00<?, ?it/s]"
      ],
      "application/vnd.jupyter.widget-view+json": {
       "version_major": 2,
       "version_minor": 0,
       "model_id": "a24b18baaeb44ad1ae1bd4bb2784119a"
      }
     },
     "metadata": {},
     "output_type": "display_data"
    },
    {
     "data": {
      "text/plain": [
       "legacy rho=0.25 sigma=0.4 (9/10):   0%|          | 0/51 [00:00<?, ?it/s]"
      ],
      "application/vnd.jupyter.widget-view+json": {
       "version_major": 2,
       "version_minor": 0,
       "model_id": "d75bb87706de4d2dbc3e3b4474137579"
      }
     },
     "metadata": {},
     "output_type": "display_data"
    },
    {
     "data": {
      "text/plain": [
       "legacy rho=0.25 sigma=0.8 (9/10):   0%|          | 0/51 [00:00<?, ?it/s]"
      ],
      "application/vnd.jupyter.widget-view+json": {
       "version_major": 2,
       "version_minor": 0,
       "model_id": "0863bd2f9646456c8e3ab3146d143fc3"
      }
     },
     "metadata": {},
     "output_type": "display_data"
    },
    {
     "data": {
      "text/plain": [
       "legacy rho=0.25 sigma=1.6 (9/10):   0%|          | 0/51 [00:00<?, ?it/s]"
      ],
      "application/vnd.jupyter.widget-view+json": {
       "version_major": 2,
       "version_minor": 0,
       "model_id": "a363889b0c164fb9bca202209601b8ae"
      }
     },
     "metadata": {},
     "output_type": "display_data"
    },
    {
     "data": {
      "text/plain": [
       "legacy rho=0.25 sigma=3.2 (9/10):   0%|          | 0/51 [00:00<?, ?it/s]"
      ],
      "application/vnd.jupyter.widget-view+json": {
       "version_major": 2,
       "version_minor": 0,
       "model_id": "1400cb38064c4babb13661c500901065"
      }
     },
     "metadata": {},
     "output_type": "display_data"
    },
    {
     "data": {
      "text/plain": [
       "legacy rho=0.5 sigma=0.1 (9/10):   0%|          | 0/51 [00:00<?, ?it/s]"
      ],
      "application/vnd.jupyter.widget-view+json": {
       "version_major": 2,
       "version_minor": 0,
       "model_id": "59dbbb71453e4e21a63cff830d4ea45f"
      }
     },
     "metadata": {},
     "output_type": "display_data"
    },
    {
     "data": {
      "text/plain": [
       "legacy rho=0.5 sigma=0.2 (9/10):   0%|          | 0/51 [00:00<?, ?it/s]"
      ],
      "application/vnd.jupyter.widget-view+json": {
       "version_major": 2,
       "version_minor": 0,
       "model_id": "1d50b3b0794a46fb847b6c02da851450"
      }
     },
     "metadata": {},
     "output_type": "display_data"
    },
    {
     "data": {
      "text/plain": [
       "legacy rho=0.5 sigma=0.4 (9/10):   0%|          | 0/51 [00:00<?, ?it/s]"
      ],
      "application/vnd.jupyter.widget-view+json": {
       "version_major": 2,
       "version_minor": 0,
       "model_id": "3c50b81913644255b730eddb26d459fd"
      }
     },
     "metadata": {},
     "output_type": "display_data"
    },
    {
     "data": {
      "text/plain": [
       "legacy rho=0.5 sigma=0.8 (9/10):   0%|          | 0/51 [00:00<?, ?it/s]"
      ],
      "application/vnd.jupyter.widget-view+json": {
       "version_major": 2,
       "version_minor": 0,
       "model_id": "bbbef4479b7d4471bea66c57593094f1"
      }
     },
     "metadata": {},
     "output_type": "display_data"
    },
    {
     "data": {
      "text/plain": [
       "legacy rho=0.5 sigma=1.6 (9/10):   0%|          | 0/51 [00:00<?, ?it/s]"
      ],
      "application/vnd.jupyter.widget-view+json": {
       "version_major": 2,
       "version_minor": 0,
       "model_id": "22f7a244a80b4fd594a9f162f513bfd5"
      }
     },
     "metadata": {},
     "output_type": "display_data"
    },
    {
     "data": {
      "text/plain": [
       "legacy rho=0.5 sigma=3.2 (9/10):   0%|          | 0/51 [00:00<?, ?it/s]"
      ],
      "application/vnd.jupyter.widget-view+json": {
       "version_major": 2,
       "version_minor": 0,
       "model_id": "4a84c0ad5eea49079eb68359397b0970"
      }
     },
     "metadata": {},
     "output_type": "display_data"
    },
    {
     "data": {
      "text/plain": [
       "legacy rho=0.0 sigma=0.1 (10/10):   0%|          | 0/51 [00:00<?, ?it/s]"
      ],
      "application/vnd.jupyter.widget-view+json": {
       "version_major": 2,
       "version_minor": 0,
       "model_id": "61c02c6abcbc4b5d9430b2f9e3f65922"
      }
     },
     "metadata": {},
     "output_type": "display_data"
    },
    {
     "data": {
      "text/plain": [
       "legacy rho=0.0 sigma=0.2 (10/10):   0%|          | 0/51 [00:00<?, ?it/s]"
      ],
      "application/vnd.jupyter.widget-view+json": {
       "version_major": 2,
       "version_minor": 0,
       "model_id": "284f7a043a4544adbfde737106026599"
      }
     },
     "metadata": {},
     "output_type": "display_data"
    },
    {
     "data": {
      "text/plain": [
       "legacy rho=0.0 sigma=0.4 (10/10):   0%|          | 0/51 [00:00<?, ?it/s]"
      ],
      "application/vnd.jupyter.widget-view+json": {
       "version_major": 2,
       "version_minor": 0,
       "model_id": "46f47fa703ec4990bbdacf054b5fbfa6"
      }
     },
     "metadata": {},
     "output_type": "display_data"
    },
    {
     "data": {
      "text/plain": [
       "legacy rho=0.0 sigma=0.8 (10/10):   0%|          | 0/51 [00:00<?, ?it/s]"
      ],
      "application/vnd.jupyter.widget-view+json": {
       "version_major": 2,
       "version_minor": 0,
       "model_id": "6bb26e4966fe47d28ddf7d96dadf7837"
      }
     },
     "metadata": {},
     "output_type": "display_data"
    },
    {
     "data": {
      "text/plain": [
       "legacy rho=0.0 sigma=1.6 (10/10):   0%|          | 0/51 [00:00<?, ?it/s]"
      ],
      "application/vnd.jupyter.widget-view+json": {
       "version_major": 2,
       "version_minor": 0,
       "model_id": "05205ebc075e4aad80a4279675502f90"
      }
     },
     "metadata": {},
     "output_type": "display_data"
    },
    {
     "data": {
      "text/plain": [
       "legacy rho=0.0 sigma=3.2 (10/10):   0%|          | 0/51 [00:00<?, ?it/s]"
      ],
      "application/vnd.jupyter.widget-view+json": {
       "version_major": 2,
       "version_minor": 0,
       "model_id": "6080ade6edbd4a2785da62a87282707c"
      }
     },
     "metadata": {},
     "output_type": "display_data"
    },
    {
     "data": {
      "text/plain": [
       "legacy rho=0.25 sigma=0.1 (10/10):   0%|          | 0/51 [00:00<?, ?it/s]"
      ],
      "application/vnd.jupyter.widget-view+json": {
       "version_major": 2,
       "version_minor": 0,
       "model_id": "8b05a13cc473447888e47f10035f80bc"
      }
     },
     "metadata": {},
     "output_type": "display_data"
    },
    {
     "data": {
      "text/plain": [
       "legacy rho=0.25 sigma=0.2 (10/10):   0%|          | 0/51 [00:00<?, ?it/s]"
      ],
      "application/vnd.jupyter.widget-view+json": {
       "version_major": 2,
       "version_minor": 0,
       "model_id": "595432b00cef4e5b9ec0c906c6e28f43"
      }
     },
     "metadata": {},
     "output_type": "display_data"
    },
    {
     "data": {
      "text/plain": [
       "legacy rho=0.25 sigma=0.4 (10/10):   0%|          | 0/51 [00:00<?, ?it/s]"
      ],
      "application/vnd.jupyter.widget-view+json": {
       "version_major": 2,
       "version_minor": 0,
       "model_id": "3505ccc8fe5f40eb9e8d44369f424d91"
      }
     },
     "metadata": {},
     "output_type": "display_data"
    },
    {
     "data": {
      "text/plain": [
       "legacy rho=0.25 sigma=0.8 (10/10):   0%|          | 0/51 [00:00<?, ?it/s]"
      ],
      "application/vnd.jupyter.widget-view+json": {
       "version_major": 2,
       "version_minor": 0,
       "model_id": "1e2957f30a9647f8b9bf9c92407a3fc5"
      }
     },
     "metadata": {},
     "output_type": "display_data"
    },
    {
     "data": {
      "text/plain": [
       "legacy rho=0.25 sigma=1.6 (10/10):   0%|          | 0/51 [00:00<?, ?it/s]"
      ],
      "application/vnd.jupyter.widget-view+json": {
       "version_major": 2,
       "version_minor": 0,
       "model_id": "efcf6df865cb408c963214dff5debe9c"
      }
     },
     "metadata": {},
     "output_type": "display_data"
    },
    {
     "data": {
      "text/plain": [
       "legacy rho=0.25 sigma=3.2 (10/10):   0%|          | 0/51 [00:00<?, ?it/s]"
      ],
      "application/vnd.jupyter.widget-view+json": {
       "version_major": 2,
       "version_minor": 0,
       "model_id": "2e8a648761d34644aab7c77ac4c1e32b"
      }
     },
     "metadata": {},
     "output_type": "display_data"
    },
    {
     "data": {
      "text/plain": [
       "legacy rho=0.5 sigma=0.1 (10/10):   0%|          | 0/51 [00:00<?, ?it/s]"
      ],
      "application/vnd.jupyter.widget-view+json": {
       "version_major": 2,
       "version_minor": 0,
       "model_id": "f8e093b16b2d494a8499412a0fbb92f4"
      }
     },
     "metadata": {},
     "output_type": "display_data"
    },
    {
     "data": {
      "text/plain": [
       "legacy rho=0.5 sigma=0.2 (10/10):   0%|          | 0/51 [00:00<?, ?it/s]"
      ],
      "application/vnd.jupyter.widget-view+json": {
       "version_major": 2,
       "version_minor": 0,
       "model_id": "fc42c39d25d140fab056a26559105453"
      }
     },
     "metadata": {},
     "output_type": "display_data"
    },
    {
     "data": {
      "text/plain": [
       "legacy rho=0.5 sigma=0.4 (10/10):   0%|          | 0/51 [00:00<?, ?it/s]"
      ],
      "application/vnd.jupyter.widget-view+json": {
       "version_major": 2,
       "version_minor": 0,
       "model_id": "23ac779098a945ef95bdf1c3f18381aa"
      }
     },
     "metadata": {},
     "output_type": "display_data"
    },
    {
     "data": {
      "text/plain": [
       "legacy rho=0.5 sigma=0.8 (10/10):   0%|          | 0/51 [00:00<?, ?it/s]"
      ],
      "application/vnd.jupyter.widget-view+json": {
       "version_major": 2,
       "version_minor": 0,
       "model_id": "5cdd4006e6454982a676a98201488690"
      }
     },
     "metadata": {},
     "output_type": "display_data"
    },
    {
     "data": {
      "text/plain": [
       "legacy rho=0.5 sigma=1.6 (10/10):   0%|          | 0/51 [00:00<?, ?it/s]"
      ],
      "application/vnd.jupyter.widget-view+json": {
       "version_major": 2,
       "version_minor": 0,
       "model_id": "b53fee0d612340ba8847db693b0f8821"
      }
     },
     "metadata": {},
     "output_type": "display_data"
    },
    {
     "data": {
      "text/plain": [
       "legacy rho=0.5 sigma=3.2 (10/10):   0%|          | 0/51 [00:00<?, ?it/s]"
      ],
      "application/vnd.jupyter.widget-view+json": {
       "version_major": 2,
       "version_minor": 0,
       "model_id": "1ef068cec4a3434c9a2ebaefc9517134"
      }
     },
     "metadata": {},
     "output_type": "display_data"
    },
    {
     "data": {
      "text/plain": [
       "first-order rho=0.0 sigma=0.1 (1/10):   0%|          | 0/51 [00:00<?, ?it/s]"
      ],
      "application/vnd.jupyter.widget-view+json": {
       "version_major": 2,
       "version_minor": 0,
       "model_id": "7cf0570c0548432eb88f356738f46bcd"
      }
     },
     "metadata": {},
     "output_type": "display_data"
    },
    {
     "data": {
      "text/plain": [
       "first-order rho=0.0 sigma=0.2 (1/10):   0%|          | 0/51 [00:00<?, ?it/s]"
      ],
      "application/vnd.jupyter.widget-view+json": {
       "version_major": 2,
       "version_minor": 0,
       "model_id": "9feb4334b2d5491e8ff55a726545419c"
      }
     },
     "metadata": {},
     "output_type": "display_data"
    },
    {
     "data": {
      "text/plain": [
       "first-order rho=0.0 sigma=0.4 (1/10):   0%|          | 0/51 [00:00<?, ?it/s]"
      ],
      "application/vnd.jupyter.widget-view+json": {
       "version_major": 2,
       "version_minor": 0,
       "model_id": "85a80cb869bf4af7a1019f2a8918ba49"
      }
     },
     "metadata": {},
     "output_type": "display_data"
    },
    {
     "data": {
      "text/plain": [
       "first-order rho=0.0 sigma=0.8 (1/10):   0%|          | 0/51 [00:00<?, ?it/s]"
      ],
      "application/vnd.jupyter.widget-view+json": {
       "version_major": 2,
       "version_minor": 0,
       "model_id": "2678d3d043f544398d28db7a460a87bf"
      }
     },
     "metadata": {},
     "output_type": "display_data"
    },
    {
     "data": {
      "text/plain": [
       "first-order rho=0.0 sigma=1.6 (1/10):   0%|          | 0/51 [00:00<?, ?it/s]"
      ],
      "application/vnd.jupyter.widget-view+json": {
       "version_major": 2,
       "version_minor": 0,
       "model_id": "8a7bc7115c6545208cca51317925b28e"
      }
     },
     "metadata": {},
     "output_type": "display_data"
    },
    {
     "data": {
      "text/plain": [
       "first-order rho=0.0 sigma=3.2 (1/10):   0%|          | 0/51 [00:00<?, ?it/s]"
      ],
      "application/vnd.jupyter.widget-view+json": {
       "version_major": 2,
       "version_minor": 0,
       "model_id": "34c15967f4be493e8df4aa051c57769e"
      }
     },
     "metadata": {},
     "output_type": "display_data"
    },
    {
     "data": {
      "text/plain": [
       "first-order rho=0.25 sigma=0.1 (1/10):   0%|          | 0/51 [00:00<?, ?it/s]"
      ],
      "application/vnd.jupyter.widget-view+json": {
       "version_major": 2,
       "version_minor": 0,
       "model_id": "b3dddb57478b4be9a6a0591f18049f5e"
      }
     },
     "metadata": {},
     "output_type": "display_data"
    },
    {
     "data": {
      "text/plain": [
       "first-order rho=0.25 sigma=0.2 (1/10):   0%|          | 0/51 [00:00<?, ?it/s]"
      ],
      "application/vnd.jupyter.widget-view+json": {
       "version_major": 2,
       "version_minor": 0,
       "model_id": "94c3d25e53ac4f0d98262088f3b997e4"
      }
     },
     "metadata": {},
     "output_type": "display_data"
    },
    {
     "data": {
      "text/plain": [
       "first-order rho=0.25 sigma=0.4 (1/10):   0%|          | 0/51 [00:00<?, ?it/s]"
      ],
      "application/vnd.jupyter.widget-view+json": {
       "version_major": 2,
       "version_minor": 0,
       "model_id": "91ef792ad9224fcc8e152552c8de102d"
      }
     },
     "metadata": {},
     "output_type": "display_data"
    },
    {
     "data": {
      "text/plain": [
       "first-order rho=0.25 sigma=0.8 (1/10):   0%|          | 0/51 [00:00<?, ?it/s]"
      ],
      "application/vnd.jupyter.widget-view+json": {
       "version_major": 2,
       "version_minor": 0,
       "model_id": "bee555f990574e53b59196f011497850"
      }
     },
     "metadata": {},
     "output_type": "display_data"
    },
    {
     "data": {
      "text/plain": [
       "first-order rho=0.25 sigma=1.6 (1/10):   0%|          | 0/51 [00:00<?, ?it/s]"
      ],
      "application/vnd.jupyter.widget-view+json": {
       "version_major": 2,
       "version_minor": 0,
       "model_id": "5c0c2131cf524cfea7ebb092e233136d"
      }
     },
     "metadata": {},
     "output_type": "display_data"
    },
    {
     "data": {
      "text/plain": [
       "first-order rho=0.25 sigma=3.2 (1/10):   0%|          | 0/51 [00:00<?, ?it/s]"
      ],
      "application/vnd.jupyter.widget-view+json": {
       "version_major": 2,
       "version_minor": 0,
       "model_id": "bb8126c672794b099f5349b19a982a65"
      }
     },
     "metadata": {},
     "output_type": "display_data"
    },
    {
     "data": {
      "text/plain": [
       "first-order rho=0.5 sigma=0.1 (1/10):   0%|          | 0/51 [00:00<?, ?it/s]"
      ],
      "application/vnd.jupyter.widget-view+json": {
       "version_major": 2,
       "version_minor": 0,
       "model_id": "bcea337c1f1f42d4828809deecf22dbe"
      }
     },
     "metadata": {},
     "output_type": "display_data"
    },
    {
     "data": {
      "text/plain": [
       "first-order rho=0.5 sigma=0.2 (1/10):   0%|          | 0/51 [00:00<?, ?it/s]"
      ],
      "application/vnd.jupyter.widget-view+json": {
       "version_major": 2,
       "version_minor": 0,
       "model_id": "e3fff2af584542a287028588b47d8813"
      }
     },
     "metadata": {},
     "output_type": "display_data"
    },
    {
     "data": {
      "text/plain": [
       "first-order rho=0.5 sigma=0.4 (1/10):   0%|          | 0/51 [00:00<?, ?it/s]"
      ],
      "application/vnd.jupyter.widget-view+json": {
       "version_major": 2,
       "version_minor": 0,
       "model_id": "dcd3a7e45d354acbb7a2fae200b70fb2"
      }
     },
     "metadata": {},
     "output_type": "display_data"
    },
    {
     "data": {
      "text/plain": [
       "first-order rho=0.5 sigma=0.8 (1/10):   0%|          | 0/51 [00:00<?, ?it/s]"
      ],
      "application/vnd.jupyter.widget-view+json": {
       "version_major": 2,
       "version_minor": 0,
       "model_id": "0d98f360f8e3432b89a897472b3647f4"
      }
     },
     "metadata": {},
     "output_type": "display_data"
    },
    {
     "data": {
      "text/plain": [
       "first-order rho=0.5 sigma=1.6 (1/10):   0%|          | 0/51 [00:00<?, ?it/s]"
      ],
      "application/vnd.jupyter.widget-view+json": {
       "version_major": 2,
       "version_minor": 0,
       "model_id": "adc31fda01ee4f98b15948981dab4d3e"
      }
     },
     "metadata": {},
     "output_type": "display_data"
    },
    {
     "data": {
      "text/plain": [
       "first-order rho=0.5 sigma=3.2 (1/10):   0%|          | 0/51 [00:00<?, ?it/s]"
      ],
      "application/vnd.jupyter.widget-view+json": {
       "version_major": 2,
       "version_minor": 0,
       "model_id": "e8ab20edaebc42deb24c11f03e3b3aba"
      }
     },
     "metadata": {},
     "output_type": "display_data"
    },
    {
     "data": {
      "text/plain": [
       "first-order rho=0.0 sigma=0.1 (2/10):   0%|          | 0/51 [00:00<?, ?it/s]"
      ],
      "application/vnd.jupyter.widget-view+json": {
       "version_major": 2,
       "version_minor": 0,
       "model_id": "66ef3293e35e4dcc86a5623074df7f1f"
      }
     },
     "metadata": {},
     "output_type": "display_data"
    },
    {
     "data": {
      "text/plain": [
       "first-order rho=0.0 sigma=0.2 (2/10):   0%|          | 0/51 [00:00<?, ?it/s]"
      ],
      "application/vnd.jupyter.widget-view+json": {
       "version_major": 2,
       "version_minor": 0,
       "model_id": "f9ce52fb4fd54c7f891117be9abc690b"
      }
     },
     "metadata": {},
     "output_type": "display_data"
    },
    {
     "data": {
      "text/plain": [
       "first-order rho=0.0 sigma=0.4 (2/10):   0%|          | 0/51 [00:00<?, ?it/s]"
      ],
      "application/vnd.jupyter.widget-view+json": {
       "version_major": 2,
       "version_minor": 0,
       "model_id": "2cfb29004f8a4aa3af822dd53a81a14c"
      }
     },
     "metadata": {},
     "output_type": "display_data"
    },
    {
     "data": {
      "text/plain": [
       "first-order rho=0.0 sigma=0.8 (2/10):   0%|          | 0/51 [00:00<?, ?it/s]"
      ],
      "application/vnd.jupyter.widget-view+json": {
       "version_major": 2,
       "version_minor": 0,
       "model_id": "41ac02e9f2244a4da4746436f43fe9dc"
      }
     },
     "metadata": {},
     "output_type": "display_data"
    },
    {
     "data": {
      "text/plain": [
       "first-order rho=0.0 sigma=1.6 (2/10):   0%|          | 0/51 [00:00<?, ?it/s]"
      ],
      "application/vnd.jupyter.widget-view+json": {
       "version_major": 2,
       "version_minor": 0,
       "model_id": "d11289da358349faa3c51ee06895e73e"
      }
     },
     "metadata": {},
     "output_type": "display_data"
    },
    {
     "data": {
      "text/plain": [
       "first-order rho=0.0 sigma=3.2 (2/10):   0%|          | 0/51 [00:00<?, ?it/s]"
      ],
      "application/vnd.jupyter.widget-view+json": {
       "version_major": 2,
       "version_minor": 0,
       "model_id": "1916feb6c6f348829b7f9efaf947b414"
      }
     },
     "metadata": {},
     "output_type": "display_data"
    },
    {
     "data": {
      "text/plain": [
       "first-order rho=0.25 sigma=0.1 (2/10):   0%|          | 0/51 [00:00<?, ?it/s]"
      ],
      "application/vnd.jupyter.widget-view+json": {
       "version_major": 2,
       "version_minor": 0,
       "model_id": "dd41e1da3d4f4379a57996aea24f4e90"
      }
     },
     "metadata": {},
     "output_type": "display_data"
    },
    {
     "data": {
      "text/plain": [
       "first-order rho=0.25 sigma=0.2 (2/10):   0%|          | 0/51 [00:00<?, ?it/s]"
      ],
      "application/vnd.jupyter.widget-view+json": {
       "version_major": 2,
       "version_minor": 0,
       "model_id": "044fee6effca49a0a32b765e1324019b"
      }
     },
     "metadata": {},
     "output_type": "display_data"
    },
    {
     "data": {
      "text/plain": [
       "first-order rho=0.25 sigma=0.4 (2/10):   0%|          | 0/51 [00:00<?, ?it/s]"
      ],
      "application/vnd.jupyter.widget-view+json": {
       "version_major": 2,
       "version_minor": 0,
       "model_id": "4ff9a4f0f6484e3fb0cafa4fac3bdfd2"
      }
     },
     "metadata": {},
     "output_type": "display_data"
    },
    {
     "data": {
      "text/plain": [
       "first-order rho=0.25 sigma=0.8 (2/10):   0%|          | 0/51 [00:00<?, ?it/s]"
      ],
      "application/vnd.jupyter.widget-view+json": {
       "version_major": 2,
       "version_minor": 0,
       "model_id": "b46d99daec6d43038562401172eb5316"
      }
     },
     "metadata": {},
     "output_type": "display_data"
    },
    {
     "data": {
      "text/plain": [
       "first-order rho=0.25 sigma=1.6 (2/10):   0%|          | 0/51 [00:00<?, ?it/s]"
      ],
      "application/vnd.jupyter.widget-view+json": {
       "version_major": 2,
       "version_minor": 0,
       "model_id": "89d106bab8c04e598b051bae040be73c"
      }
     },
     "metadata": {},
     "output_type": "display_data"
    },
    {
     "data": {
      "text/plain": [
       "first-order rho=0.25 sigma=3.2 (2/10):   0%|          | 0/51 [00:00<?, ?it/s]"
      ],
      "application/vnd.jupyter.widget-view+json": {
       "version_major": 2,
       "version_minor": 0,
       "model_id": "48a98dd8da4346f08c51c314a64fe820"
      }
     },
     "metadata": {},
     "output_type": "display_data"
    },
    {
     "data": {
      "text/plain": [
       "first-order rho=0.5 sigma=0.1 (2/10):   0%|          | 0/51 [00:00<?, ?it/s]"
      ],
      "application/vnd.jupyter.widget-view+json": {
       "version_major": 2,
       "version_minor": 0,
       "model_id": "d7129f7da2e849dfb7b8b313efb44038"
      }
     },
     "metadata": {},
     "output_type": "display_data"
    },
    {
     "data": {
      "text/plain": [
       "first-order rho=0.5 sigma=0.2 (2/10):   0%|          | 0/51 [00:00<?, ?it/s]"
      ],
      "application/vnd.jupyter.widget-view+json": {
       "version_major": 2,
       "version_minor": 0,
       "model_id": "6f09f5a1950040e68eab0023686bc390"
      }
     },
     "metadata": {},
     "output_type": "display_data"
    },
    {
     "data": {
      "text/plain": [
       "first-order rho=0.5 sigma=0.4 (2/10):   0%|          | 0/51 [00:00<?, ?it/s]"
      ],
      "application/vnd.jupyter.widget-view+json": {
       "version_major": 2,
       "version_minor": 0,
       "model_id": "b91716b56ac5453fb5ac4be3dcd40a6e"
      }
     },
     "metadata": {},
     "output_type": "display_data"
    },
    {
     "data": {
      "text/plain": [
       "first-order rho=0.5 sigma=0.8 (2/10):   0%|          | 0/51 [00:00<?, ?it/s]"
      ],
      "application/vnd.jupyter.widget-view+json": {
       "version_major": 2,
       "version_minor": 0,
       "model_id": "a30ec283491f4df9b6ca9d013f2bf842"
      }
     },
     "metadata": {},
     "output_type": "display_data"
    },
    {
     "data": {
      "text/plain": [
       "first-order rho=0.5 sigma=1.6 (2/10):   0%|          | 0/51 [00:00<?, ?it/s]"
      ],
      "application/vnd.jupyter.widget-view+json": {
       "version_major": 2,
       "version_minor": 0,
       "model_id": "abdac12688c747489bf0dfcc5a023d8f"
      }
     },
     "metadata": {},
     "output_type": "display_data"
    },
    {
     "data": {
      "text/plain": [
       "first-order rho=0.5 sigma=3.2 (2/10):   0%|          | 0/51 [00:00<?, ?it/s]"
      ],
      "application/vnd.jupyter.widget-view+json": {
       "version_major": 2,
       "version_minor": 0,
       "model_id": "b91b018f544e467f8db07b3554705e94"
      }
     },
     "metadata": {},
     "output_type": "display_data"
    },
    {
     "data": {
      "text/plain": [
       "first-order rho=0.0 sigma=0.1 (3/10):   0%|          | 0/51 [00:00<?, ?it/s]"
      ],
      "application/vnd.jupyter.widget-view+json": {
       "version_major": 2,
       "version_minor": 0,
       "model_id": "d9784dedb4574a5a8f7b7cc29c358c06"
      }
     },
     "metadata": {},
     "output_type": "display_data"
    },
    {
     "data": {
      "text/plain": [
       "first-order rho=0.0 sigma=0.2 (3/10):   0%|          | 0/51 [00:00<?, ?it/s]"
      ],
      "application/vnd.jupyter.widget-view+json": {
       "version_major": 2,
       "version_minor": 0,
       "model_id": "a37a1dd418b0443f9ebe89292dbcda87"
      }
     },
     "metadata": {},
     "output_type": "display_data"
    },
    {
     "data": {
      "text/plain": [
       "first-order rho=0.0 sigma=0.4 (3/10):   0%|          | 0/51 [00:00<?, ?it/s]"
      ],
      "application/vnd.jupyter.widget-view+json": {
       "version_major": 2,
       "version_minor": 0,
       "model_id": "f189277f7e994ddbbf306609aa58671b"
      }
     },
     "metadata": {},
     "output_type": "display_data"
    },
    {
     "data": {
      "text/plain": [
       "first-order rho=0.0 sigma=0.8 (3/10):   0%|          | 0/51 [00:00<?, ?it/s]"
      ],
      "application/vnd.jupyter.widget-view+json": {
       "version_major": 2,
       "version_minor": 0,
       "model_id": "0977fb1d5c37453685026038cb79e5c8"
      }
     },
     "metadata": {},
     "output_type": "display_data"
    },
    {
     "data": {
      "text/plain": [
       "first-order rho=0.0 sigma=1.6 (3/10):   0%|          | 0/51 [00:00<?, ?it/s]"
      ],
      "application/vnd.jupyter.widget-view+json": {
       "version_major": 2,
       "version_minor": 0,
       "model_id": "caf14ff9d4f24c79bbee21c25a2b45a6"
      }
     },
     "metadata": {},
     "output_type": "display_data"
    },
    {
     "data": {
      "text/plain": [
       "first-order rho=0.0 sigma=3.2 (3/10):   0%|          | 0/51 [00:00<?, ?it/s]"
      ],
      "application/vnd.jupyter.widget-view+json": {
       "version_major": 2,
       "version_minor": 0,
       "model_id": "6abbfff4431a43dcb7290791feaf3890"
      }
     },
     "metadata": {},
     "output_type": "display_data"
    },
    {
     "data": {
      "text/plain": [
       "first-order rho=0.25 sigma=0.1 (3/10):   0%|          | 0/51 [00:00<?, ?it/s]"
      ],
      "application/vnd.jupyter.widget-view+json": {
       "version_major": 2,
       "version_minor": 0,
       "model_id": "21a4400705ff4b0e8fcb21555e741cb3"
      }
     },
     "metadata": {},
     "output_type": "display_data"
    },
    {
     "data": {
      "text/plain": [
       "first-order rho=0.25 sigma=0.2 (3/10):   0%|          | 0/51 [00:00<?, ?it/s]"
      ],
      "application/vnd.jupyter.widget-view+json": {
       "version_major": 2,
       "version_minor": 0,
       "model_id": "71b095bdb62249d6896ea95f0732b749"
      }
     },
     "metadata": {},
     "output_type": "display_data"
    },
    {
     "data": {
      "text/plain": [
       "first-order rho=0.25 sigma=0.4 (3/10):   0%|          | 0/51 [00:00<?, ?it/s]"
      ],
      "application/vnd.jupyter.widget-view+json": {
       "version_major": 2,
       "version_minor": 0,
       "model_id": "b20328be10fb488c859d236a8cf091e4"
      }
     },
     "metadata": {},
     "output_type": "display_data"
    },
    {
     "data": {
      "text/plain": [
       "first-order rho=0.25 sigma=0.8 (3/10):   0%|          | 0/51 [00:00<?, ?it/s]"
      ],
      "application/vnd.jupyter.widget-view+json": {
       "version_major": 2,
       "version_minor": 0,
       "model_id": "4c942b6d8aca41d1817878d92e06e3b6"
      }
     },
     "metadata": {},
     "output_type": "display_data"
    },
    {
     "data": {
      "text/plain": [
       "first-order rho=0.25 sigma=1.6 (3/10):   0%|          | 0/51 [00:00<?, ?it/s]"
      ],
      "application/vnd.jupyter.widget-view+json": {
       "version_major": 2,
       "version_minor": 0,
       "model_id": "f114f4fbcf464a9c83d928eb263dd094"
      }
     },
     "metadata": {},
     "output_type": "display_data"
    },
    {
     "data": {
      "text/plain": [
       "first-order rho=0.25 sigma=3.2 (3/10):   0%|          | 0/51 [00:00<?, ?it/s]"
      ],
      "application/vnd.jupyter.widget-view+json": {
       "version_major": 2,
       "version_minor": 0,
       "model_id": "d16cfeb7b7ca44529e38022395a52eb6"
      }
     },
     "metadata": {},
     "output_type": "display_data"
    },
    {
     "data": {
      "text/plain": [
       "first-order rho=0.5 sigma=0.1 (3/10):   0%|          | 0/51 [00:00<?, ?it/s]"
      ],
      "application/vnd.jupyter.widget-view+json": {
       "version_major": 2,
       "version_minor": 0,
       "model_id": "2404ffb8ab774ed188febe52b86add3c"
      }
     },
     "metadata": {},
     "output_type": "display_data"
    },
    {
     "data": {
      "text/plain": [
       "first-order rho=0.5 sigma=0.2 (3/10):   0%|          | 0/51 [00:00<?, ?it/s]"
      ],
      "application/vnd.jupyter.widget-view+json": {
       "version_major": 2,
       "version_minor": 0,
       "model_id": "de9d4486120d483db99ceaaf6b2cb339"
      }
     },
     "metadata": {},
     "output_type": "display_data"
    },
    {
     "data": {
      "text/plain": [
       "first-order rho=0.5 sigma=0.4 (3/10):   0%|          | 0/51 [00:00<?, ?it/s]"
      ],
      "application/vnd.jupyter.widget-view+json": {
       "version_major": 2,
       "version_minor": 0,
       "model_id": "4fe453390492496fb21de2bc3f79aa6c"
      }
     },
     "metadata": {},
     "output_type": "display_data"
    },
    {
     "data": {
      "text/plain": [
       "first-order rho=0.5 sigma=0.8 (3/10):   0%|          | 0/51 [00:00<?, ?it/s]"
      ],
      "application/vnd.jupyter.widget-view+json": {
       "version_major": 2,
       "version_minor": 0,
       "model_id": "6879c8f15a2147ea9bde5524791745ce"
      }
     },
     "metadata": {},
     "output_type": "display_data"
    },
    {
     "data": {
      "text/plain": [
       "first-order rho=0.5 sigma=1.6 (3/10):   0%|          | 0/51 [00:00<?, ?it/s]"
      ],
      "application/vnd.jupyter.widget-view+json": {
       "version_major": 2,
       "version_minor": 0,
       "model_id": "722f0cde8907491293786613100d8ead"
      }
     },
     "metadata": {},
     "output_type": "display_data"
    },
    {
     "data": {
      "text/plain": [
       "first-order rho=0.5 sigma=3.2 (3/10):   0%|          | 0/51 [00:00<?, ?it/s]"
      ],
      "application/vnd.jupyter.widget-view+json": {
       "version_major": 2,
       "version_minor": 0,
       "model_id": "d1cfd50b1ce242398a165ce07aabed4a"
      }
     },
     "metadata": {},
     "output_type": "display_data"
    },
    {
     "data": {
      "text/plain": [
       "first-order rho=0.0 sigma=0.1 (4/10):   0%|          | 0/51 [00:00<?, ?it/s]"
      ],
      "application/vnd.jupyter.widget-view+json": {
       "version_major": 2,
       "version_minor": 0,
       "model_id": "46f0b16b69e544518a2b8db7bacfa831"
      }
     },
     "metadata": {},
     "output_type": "display_data"
    },
    {
     "data": {
      "text/plain": [
       "first-order rho=0.0 sigma=0.2 (4/10):   0%|          | 0/51 [00:00<?, ?it/s]"
      ],
      "application/vnd.jupyter.widget-view+json": {
       "version_major": 2,
       "version_minor": 0,
       "model_id": "a1c44b81c346446c80b95ba6359709eb"
      }
     },
     "metadata": {},
     "output_type": "display_data"
    },
    {
     "data": {
      "text/plain": [
       "first-order rho=0.0 sigma=0.4 (4/10):   0%|          | 0/51 [00:00<?, ?it/s]"
      ],
      "application/vnd.jupyter.widget-view+json": {
       "version_major": 2,
       "version_minor": 0,
       "model_id": "62bc9c603cca449c89c6467b6e72551f"
      }
     },
     "metadata": {},
     "output_type": "display_data"
    },
    {
     "data": {
      "text/plain": [
       "first-order rho=0.0 sigma=0.8 (4/10):   0%|          | 0/51 [00:00<?, ?it/s]"
      ],
      "application/vnd.jupyter.widget-view+json": {
       "version_major": 2,
       "version_minor": 0,
       "model_id": "aef2bc85a20d475696054cfa8a2339be"
      }
     },
     "metadata": {},
     "output_type": "display_data"
    },
    {
     "data": {
      "text/plain": [
       "first-order rho=0.0 sigma=1.6 (4/10):   0%|          | 0/51 [00:00<?, ?it/s]"
      ],
      "application/vnd.jupyter.widget-view+json": {
       "version_major": 2,
       "version_minor": 0,
       "model_id": "18d8db2a25e04e458e3500585002ad3b"
      }
     },
     "metadata": {},
     "output_type": "display_data"
    },
    {
     "data": {
      "text/plain": [
       "first-order rho=0.0 sigma=3.2 (4/10):   0%|          | 0/51 [00:00<?, ?it/s]"
      ],
      "application/vnd.jupyter.widget-view+json": {
       "version_major": 2,
       "version_minor": 0,
       "model_id": "c549b4f519234ced8386de01e35bb59f"
      }
     },
     "metadata": {},
     "output_type": "display_data"
    },
    {
     "data": {
      "text/plain": [
       "first-order rho=0.25 sigma=0.1 (4/10):   0%|          | 0/51 [00:00<?, ?it/s]"
      ],
      "application/vnd.jupyter.widget-view+json": {
       "version_major": 2,
       "version_minor": 0,
       "model_id": "9b2b2964ed804c619e30f2162acbe448"
      }
     },
     "metadata": {},
     "output_type": "display_data"
    },
    {
     "data": {
      "text/plain": [
       "first-order rho=0.25 sigma=0.2 (4/10):   0%|          | 0/51 [00:00<?, ?it/s]"
      ],
      "application/vnd.jupyter.widget-view+json": {
       "version_major": 2,
       "version_minor": 0,
       "model_id": "60313192e7b04853973b4ac5da35ee47"
      }
     },
     "metadata": {},
     "output_type": "display_data"
    },
    {
     "data": {
      "text/plain": [
       "first-order rho=0.25 sigma=0.4 (4/10):   0%|          | 0/51 [00:00<?, ?it/s]"
      ],
      "application/vnd.jupyter.widget-view+json": {
       "version_major": 2,
       "version_minor": 0,
       "model_id": "e3d1179059ea4a2cbfef191179b6377b"
      }
     },
     "metadata": {},
     "output_type": "display_data"
    },
    {
     "data": {
      "text/plain": [
       "first-order rho=0.25 sigma=0.8 (4/10):   0%|          | 0/51 [00:00<?, ?it/s]"
      ],
      "application/vnd.jupyter.widget-view+json": {
       "version_major": 2,
       "version_minor": 0,
       "model_id": "f1d529bc88e94e49b7d715ac7187d169"
      }
     },
     "metadata": {},
     "output_type": "display_data"
    },
    {
     "data": {
      "text/plain": [
       "first-order rho=0.25 sigma=1.6 (4/10):   0%|          | 0/51 [00:00<?, ?it/s]"
      ],
      "application/vnd.jupyter.widget-view+json": {
       "version_major": 2,
       "version_minor": 0,
       "model_id": "24892a48fae24221ae8645c19bae3e06"
      }
     },
     "metadata": {},
     "output_type": "display_data"
    },
    {
     "data": {
      "text/plain": [
       "first-order rho=0.25 sigma=3.2 (4/10):   0%|          | 0/51 [00:00<?, ?it/s]"
      ],
      "application/vnd.jupyter.widget-view+json": {
       "version_major": 2,
       "version_minor": 0,
       "model_id": "7e1055b8ae184f139d6c78b38ea165e5"
      }
     },
     "metadata": {},
     "output_type": "display_data"
    },
    {
     "data": {
      "text/plain": [
       "first-order rho=0.5 sigma=0.1 (4/10):   0%|          | 0/51 [00:00<?, ?it/s]"
      ],
      "application/vnd.jupyter.widget-view+json": {
       "version_major": 2,
       "version_minor": 0,
       "model_id": "ce2cc2f8fb6b4e6f91baf0c4cb9f74bb"
      }
     },
     "metadata": {},
     "output_type": "display_data"
    },
    {
     "data": {
      "text/plain": [
       "first-order rho=0.5 sigma=0.2 (4/10):   0%|          | 0/51 [00:00<?, ?it/s]"
      ],
      "application/vnd.jupyter.widget-view+json": {
       "version_major": 2,
       "version_minor": 0,
       "model_id": "dca929b8f5c045cba63cca3e6a33d00e"
      }
     },
     "metadata": {},
     "output_type": "display_data"
    },
    {
     "data": {
      "text/plain": [
       "first-order rho=0.5 sigma=0.4 (4/10):   0%|          | 0/51 [00:00<?, ?it/s]"
      ],
      "application/vnd.jupyter.widget-view+json": {
       "version_major": 2,
       "version_minor": 0,
       "model_id": "7fbe3ddf18e94795bfde9e4c8fa3abd2"
      }
     },
     "metadata": {},
     "output_type": "display_data"
    },
    {
     "data": {
      "text/plain": [
       "first-order rho=0.5 sigma=0.8 (4/10):   0%|          | 0/51 [00:00<?, ?it/s]"
      ],
      "application/vnd.jupyter.widget-view+json": {
       "version_major": 2,
       "version_minor": 0,
       "model_id": "816a35d2a3034a2ab67a980e896b4da2"
      }
     },
     "metadata": {},
     "output_type": "display_data"
    },
    {
     "data": {
      "text/plain": [
       "first-order rho=0.5 sigma=1.6 (4/10):   0%|          | 0/51 [00:00<?, ?it/s]"
      ],
      "application/vnd.jupyter.widget-view+json": {
       "version_major": 2,
       "version_minor": 0,
       "model_id": "670470c8eab04fb7ba179c91afbae949"
      }
     },
     "metadata": {},
     "output_type": "display_data"
    },
    {
     "data": {
      "text/plain": [
       "first-order rho=0.5 sigma=3.2 (4/10):   0%|          | 0/51 [00:00<?, ?it/s]"
      ],
      "application/vnd.jupyter.widget-view+json": {
       "version_major": 2,
       "version_minor": 0,
       "model_id": "25532b6c9e8b4ae883ae82c613a7dcfe"
      }
     },
     "metadata": {},
     "output_type": "display_data"
    },
    {
     "data": {
      "text/plain": [
       "first-order rho=0.0 sigma=0.1 (5/10):   0%|          | 0/51 [00:00<?, ?it/s]"
      ],
      "application/vnd.jupyter.widget-view+json": {
       "version_major": 2,
       "version_minor": 0,
       "model_id": "8993ea0bf51147efa684415b7ceefba7"
      }
     },
     "metadata": {},
     "output_type": "display_data"
    },
    {
     "data": {
      "text/plain": [
       "first-order rho=0.0 sigma=0.2 (5/10):   0%|          | 0/51 [00:00<?, ?it/s]"
      ],
      "application/vnd.jupyter.widget-view+json": {
       "version_major": 2,
       "version_minor": 0,
       "model_id": "6326973e2c4b4b899373407cb5354f8b"
      }
     },
     "metadata": {},
     "output_type": "display_data"
    },
    {
     "data": {
      "text/plain": [
       "first-order rho=0.0 sigma=0.4 (5/10):   0%|          | 0/51 [00:00<?, ?it/s]"
      ],
      "application/vnd.jupyter.widget-view+json": {
       "version_major": 2,
       "version_minor": 0,
       "model_id": "49415670b4e849edb0c7742d8eab5000"
      }
     },
     "metadata": {},
     "output_type": "display_data"
    },
    {
     "data": {
      "text/plain": [
       "first-order rho=0.0 sigma=0.8 (5/10):   0%|          | 0/51 [00:00<?, ?it/s]"
      ],
      "application/vnd.jupyter.widget-view+json": {
       "version_major": 2,
       "version_minor": 0,
       "model_id": "73f9305ba8714df0ab648b02c4bc61f3"
      }
     },
     "metadata": {},
     "output_type": "display_data"
    },
    {
     "data": {
      "text/plain": [
       "first-order rho=0.0 sigma=1.6 (5/10):   0%|          | 0/51 [00:00<?, ?it/s]"
      ],
      "application/vnd.jupyter.widget-view+json": {
       "version_major": 2,
       "version_minor": 0,
       "model_id": "7e961850d29848ff876a0593c868c677"
      }
     },
     "metadata": {},
     "output_type": "display_data"
    },
    {
     "data": {
      "text/plain": [
       "first-order rho=0.0 sigma=3.2 (5/10):   0%|          | 0/51 [00:00<?, ?it/s]"
      ],
      "application/vnd.jupyter.widget-view+json": {
       "version_major": 2,
       "version_minor": 0,
       "model_id": "4f7d4cbad8b74deaad21f4f307085904"
      }
     },
     "metadata": {},
     "output_type": "display_data"
    },
    {
     "data": {
      "text/plain": [
       "first-order rho=0.25 sigma=0.1 (5/10):   0%|          | 0/51 [00:00<?, ?it/s]"
      ],
      "application/vnd.jupyter.widget-view+json": {
       "version_major": 2,
       "version_minor": 0,
       "model_id": "2c6b84ddf337469f9069b543025c82d6"
      }
     },
     "metadata": {},
     "output_type": "display_data"
    },
    {
     "data": {
      "text/plain": [
       "first-order rho=0.25 sigma=0.2 (5/10):   0%|          | 0/51 [00:00<?, ?it/s]"
      ],
      "application/vnd.jupyter.widget-view+json": {
       "version_major": 2,
       "version_minor": 0,
       "model_id": "93c12eb829254c53998ce5237b54fc08"
      }
     },
     "metadata": {},
     "output_type": "display_data"
    },
    {
     "data": {
      "text/plain": [
       "first-order rho=0.25 sigma=0.4 (5/10):   0%|          | 0/51 [00:00<?, ?it/s]"
      ],
      "application/vnd.jupyter.widget-view+json": {
       "version_major": 2,
       "version_minor": 0,
       "model_id": "6156e872ebe9480fb4b894f34e56a56b"
      }
     },
     "metadata": {},
     "output_type": "display_data"
    },
    {
     "data": {
      "text/plain": [
       "first-order rho=0.25 sigma=0.8 (5/10):   0%|          | 0/51 [00:00<?, ?it/s]"
      ],
      "application/vnd.jupyter.widget-view+json": {
       "version_major": 2,
       "version_minor": 0,
       "model_id": "3fbb0253510f4e97863030a06927c03c"
      }
     },
     "metadata": {},
     "output_type": "display_data"
    },
    {
     "data": {
      "text/plain": [
       "first-order rho=0.25 sigma=1.6 (5/10):   0%|          | 0/51 [00:00<?, ?it/s]"
      ],
      "application/vnd.jupyter.widget-view+json": {
       "version_major": 2,
       "version_minor": 0,
       "model_id": "4b902cbbd220444cbeeb15bf36cc2295"
      }
     },
     "metadata": {},
     "output_type": "display_data"
    },
    {
     "data": {
      "text/plain": [
       "first-order rho=0.25 sigma=3.2 (5/10):   0%|          | 0/51 [00:00<?, ?it/s]"
      ],
      "application/vnd.jupyter.widget-view+json": {
       "version_major": 2,
       "version_minor": 0,
       "model_id": "23bfa46d6e194f67a63c0fc091512d81"
      }
     },
     "metadata": {},
     "output_type": "display_data"
    },
    {
     "data": {
      "text/plain": [
       "first-order rho=0.5 sigma=0.1 (5/10):   0%|          | 0/51 [00:00<?, ?it/s]"
      ],
      "application/vnd.jupyter.widget-view+json": {
       "version_major": 2,
       "version_minor": 0,
       "model_id": "521e4d2007964ca6a4ee5f9f4b9de20e"
      }
     },
     "metadata": {},
     "output_type": "display_data"
    },
    {
     "data": {
      "text/plain": [
       "first-order rho=0.5 sigma=0.2 (5/10):   0%|          | 0/51 [00:00<?, ?it/s]"
      ],
      "application/vnd.jupyter.widget-view+json": {
       "version_major": 2,
       "version_minor": 0,
       "model_id": "992088bb2ce141be96636efc5c69012d"
      }
     },
     "metadata": {},
     "output_type": "display_data"
    },
    {
     "data": {
      "text/plain": [
       "first-order rho=0.5 sigma=0.4 (5/10):   0%|          | 0/51 [00:00<?, ?it/s]"
      ],
      "application/vnd.jupyter.widget-view+json": {
       "version_major": 2,
       "version_minor": 0,
       "model_id": "08ee06d1d7dd42758757567d97bc5fd3"
      }
     },
     "metadata": {},
     "output_type": "display_data"
    },
    {
     "data": {
      "text/plain": [
       "first-order rho=0.5 sigma=0.8 (5/10):   0%|          | 0/51 [00:00<?, ?it/s]"
      ],
      "application/vnd.jupyter.widget-view+json": {
       "version_major": 2,
       "version_minor": 0,
       "model_id": "99a3fc8b4a7f4f81b783f05991e8d637"
      }
     },
     "metadata": {},
     "output_type": "display_data"
    },
    {
     "data": {
      "text/plain": [
       "first-order rho=0.5 sigma=1.6 (5/10):   0%|          | 0/51 [00:00<?, ?it/s]"
      ],
      "application/vnd.jupyter.widget-view+json": {
       "version_major": 2,
       "version_minor": 0,
       "model_id": "49cc31b10f0a4ecd81703a9f812b3339"
      }
     },
     "metadata": {},
     "output_type": "display_data"
    },
    {
     "data": {
      "text/plain": [
       "first-order rho=0.5 sigma=3.2 (5/10):   0%|          | 0/51 [00:00<?, ?it/s]"
      ],
      "application/vnd.jupyter.widget-view+json": {
       "version_major": 2,
       "version_minor": 0,
       "model_id": "269e7cb1dd074699a81c35c023311922"
      }
     },
     "metadata": {},
     "output_type": "display_data"
    },
    {
     "data": {
      "text/plain": [
       "first-order rho=0.0 sigma=0.1 (6/10):   0%|          | 0/51 [00:00<?, ?it/s]"
      ],
      "application/vnd.jupyter.widget-view+json": {
       "version_major": 2,
       "version_minor": 0,
       "model_id": "0dc827187be9438ca2ba478089f8bef5"
      }
     },
     "metadata": {},
     "output_type": "display_data"
    },
    {
     "data": {
      "text/plain": [
       "first-order rho=0.0 sigma=0.2 (6/10):   0%|          | 0/51 [00:00<?, ?it/s]"
      ],
      "application/vnd.jupyter.widget-view+json": {
       "version_major": 2,
       "version_minor": 0,
       "model_id": "47a2fe617d0b4c5db34642c2a1121b7d"
      }
     },
     "metadata": {},
     "output_type": "display_data"
    },
    {
     "data": {
      "text/plain": [
       "first-order rho=0.0 sigma=0.4 (6/10):   0%|          | 0/51 [00:00<?, ?it/s]"
      ],
      "application/vnd.jupyter.widget-view+json": {
       "version_major": 2,
       "version_minor": 0,
       "model_id": "78d3158b04b448d79493509d0e355b4c"
      }
     },
     "metadata": {},
     "output_type": "display_data"
    },
    {
     "data": {
      "text/plain": [
       "first-order rho=0.0 sigma=0.8 (6/10):   0%|          | 0/51 [00:00<?, ?it/s]"
      ],
      "application/vnd.jupyter.widget-view+json": {
       "version_major": 2,
       "version_minor": 0,
       "model_id": "959108e839114cfab38f6ddd33f15be9"
      }
     },
     "metadata": {},
     "output_type": "display_data"
    },
    {
     "data": {
      "text/plain": [
       "first-order rho=0.0 sigma=1.6 (6/10):   0%|          | 0/51 [00:00<?, ?it/s]"
      ],
      "application/vnd.jupyter.widget-view+json": {
       "version_major": 2,
       "version_minor": 0,
       "model_id": "3d61088f57e848a8a0278bc8b2ba4300"
      }
     },
     "metadata": {},
     "output_type": "display_data"
    },
    {
     "data": {
      "text/plain": [
       "first-order rho=0.0 sigma=3.2 (6/10):   0%|          | 0/51 [00:00<?, ?it/s]"
      ],
      "application/vnd.jupyter.widget-view+json": {
       "version_major": 2,
       "version_minor": 0,
       "model_id": "6a06dcf747ac446ba5862fd8f86ec15a"
      }
     },
     "metadata": {},
     "output_type": "display_data"
    },
    {
     "data": {
      "text/plain": [
       "first-order rho=0.25 sigma=0.1 (6/10):   0%|          | 0/51 [00:00<?, ?it/s]"
      ],
      "application/vnd.jupyter.widget-view+json": {
       "version_major": 2,
       "version_minor": 0,
       "model_id": "94d470b9a14f49e19e40bff152f97d9a"
      }
     },
     "metadata": {},
     "output_type": "display_data"
    },
    {
     "data": {
      "text/plain": [
       "first-order rho=0.25 sigma=0.2 (6/10):   0%|          | 0/51 [00:00<?, ?it/s]"
      ],
      "application/vnd.jupyter.widget-view+json": {
       "version_major": 2,
       "version_minor": 0,
       "model_id": "061827d69e7e459295dc95941fe5bb60"
      }
     },
     "metadata": {},
     "output_type": "display_data"
    },
    {
     "data": {
      "text/plain": [
       "first-order rho=0.25 sigma=0.4 (6/10):   0%|          | 0/51 [00:00<?, ?it/s]"
      ],
      "application/vnd.jupyter.widget-view+json": {
       "version_major": 2,
       "version_minor": 0,
       "model_id": "ff39113d23f04042b299206e65b99ae2"
      }
     },
     "metadata": {},
     "output_type": "display_data"
    },
    {
     "data": {
      "text/plain": [
       "first-order rho=0.25 sigma=0.8 (6/10):   0%|          | 0/51 [00:00<?, ?it/s]"
      ],
      "application/vnd.jupyter.widget-view+json": {
       "version_major": 2,
       "version_minor": 0,
       "model_id": "e7543e40c66a4b6a930ec8a824a0cd2e"
      }
     },
     "metadata": {},
     "output_type": "display_data"
    },
    {
     "data": {
      "text/plain": [
       "first-order rho=0.25 sigma=1.6 (6/10):   0%|          | 0/51 [00:00<?, ?it/s]"
      ],
      "application/vnd.jupyter.widget-view+json": {
       "version_major": 2,
       "version_minor": 0,
       "model_id": "051f6f08fb4b4c6e9d5c4ac948114274"
      }
     },
     "metadata": {},
     "output_type": "display_data"
    },
    {
     "data": {
      "text/plain": [
       "first-order rho=0.25 sigma=3.2 (6/10):   0%|          | 0/51 [00:00<?, ?it/s]"
      ],
      "application/vnd.jupyter.widget-view+json": {
       "version_major": 2,
       "version_minor": 0,
       "model_id": "bb6b750161e34affa61e8e20c786126a"
      }
     },
     "metadata": {},
     "output_type": "display_data"
    },
    {
     "data": {
      "text/plain": [
       "first-order rho=0.5 sigma=0.1 (6/10):   0%|          | 0/51 [00:00<?, ?it/s]"
      ],
      "application/vnd.jupyter.widget-view+json": {
       "version_major": 2,
       "version_minor": 0,
       "model_id": "0a974be92eaf4542a2c4db3912dac4b8"
      }
     },
     "metadata": {},
     "output_type": "display_data"
    },
    {
     "data": {
      "text/plain": [
       "first-order rho=0.5 sigma=0.2 (6/10):   0%|          | 0/51 [00:00<?, ?it/s]"
      ],
      "application/vnd.jupyter.widget-view+json": {
       "version_major": 2,
       "version_minor": 0,
       "model_id": "ac7f958b0d3244708507a28a36911771"
      }
     },
     "metadata": {},
     "output_type": "display_data"
    },
    {
     "data": {
      "text/plain": [
       "first-order rho=0.5 sigma=0.4 (6/10):   0%|          | 0/51 [00:00<?, ?it/s]"
      ],
      "application/vnd.jupyter.widget-view+json": {
       "version_major": 2,
       "version_minor": 0,
       "model_id": "95dd9a174f3146efbc2995a25c3a2a60"
      }
     },
     "metadata": {},
     "output_type": "display_data"
    },
    {
     "data": {
      "text/plain": [
       "first-order rho=0.5 sigma=0.8 (6/10):   0%|          | 0/51 [00:00<?, ?it/s]"
      ],
      "application/vnd.jupyter.widget-view+json": {
       "version_major": 2,
       "version_minor": 0,
       "model_id": "496767d8419a44d0adb333be62f1b955"
      }
     },
     "metadata": {},
     "output_type": "display_data"
    },
    {
     "data": {
      "text/plain": [
       "first-order rho=0.5 sigma=1.6 (6/10):   0%|          | 0/51 [00:00<?, ?it/s]"
      ],
      "application/vnd.jupyter.widget-view+json": {
       "version_major": 2,
       "version_minor": 0,
       "model_id": "2d6c78b77c3e4e46b5082f6bc46eb1d0"
      }
     },
     "metadata": {},
     "output_type": "display_data"
    },
    {
     "data": {
      "text/plain": [
       "first-order rho=0.5 sigma=3.2 (6/10):   0%|          | 0/51 [00:00<?, ?it/s]"
      ],
      "application/vnd.jupyter.widget-view+json": {
       "version_major": 2,
       "version_minor": 0,
       "model_id": "916835eeaed04193b84ad0796fb0ae94"
      }
     },
     "metadata": {},
     "output_type": "display_data"
    },
    {
     "data": {
      "text/plain": [
       "first-order rho=0.0 sigma=0.1 (7/10):   0%|          | 0/51 [00:00<?, ?it/s]"
      ],
      "application/vnd.jupyter.widget-view+json": {
       "version_major": 2,
       "version_minor": 0,
       "model_id": "44af63c734304b44b807c8bdbd085ec2"
      }
     },
     "metadata": {},
     "output_type": "display_data"
    },
    {
     "data": {
      "text/plain": [
       "first-order rho=0.0 sigma=0.2 (7/10):   0%|          | 0/51 [00:00<?, ?it/s]"
      ],
      "application/vnd.jupyter.widget-view+json": {
       "version_major": 2,
       "version_minor": 0,
       "model_id": "e1b01b6e5dc648f2b190546e59473743"
      }
     },
     "metadata": {},
     "output_type": "display_data"
    },
    {
     "data": {
      "text/plain": [
       "first-order rho=0.0 sigma=0.4 (7/10):   0%|          | 0/51 [00:00<?, ?it/s]"
      ],
      "application/vnd.jupyter.widget-view+json": {
       "version_major": 2,
       "version_minor": 0,
       "model_id": "ed3fea03edeb4913ad4d7a6f0af5f7a4"
      }
     },
     "metadata": {},
     "output_type": "display_data"
    },
    {
     "data": {
      "text/plain": [
       "first-order rho=0.0 sigma=0.8 (7/10):   0%|          | 0/51 [00:00<?, ?it/s]"
      ],
      "application/vnd.jupyter.widget-view+json": {
       "version_major": 2,
       "version_minor": 0,
       "model_id": "5ed1b3053cb1443aafabf4166eaac9e7"
      }
     },
     "metadata": {},
     "output_type": "display_data"
    },
    {
     "data": {
      "text/plain": [
       "first-order rho=0.0 sigma=1.6 (7/10):   0%|          | 0/51 [00:00<?, ?it/s]"
      ],
      "application/vnd.jupyter.widget-view+json": {
       "version_major": 2,
       "version_minor": 0,
       "model_id": "c46d549b554d493fab2738b2e3b9772f"
      }
     },
     "metadata": {},
     "output_type": "display_data"
    },
    {
     "data": {
      "text/plain": [
       "first-order rho=0.0 sigma=3.2 (7/10):   0%|          | 0/51 [00:00<?, ?it/s]"
      ],
      "application/vnd.jupyter.widget-view+json": {
       "version_major": 2,
       "version_minor": 0,
       "model_id": "4a6262ded2694eb8a43eb4eb8cd006a8"
      }
     },
     "metadata": {},
     "output_type": "display_data"
    },
    {
     "data": {
      "text/plain": [
       "first-order rho=0.25 sigma=0.1 (7/10):   0%|          | 0/51 [00:00<?, ?it/s]"
      ],
      "application/vnd.jupyter.widget-view+json": {
       "version_major": 2,
       "version_minor": 0,
       "model_id": "1ce3b65c65e348deb73f0ad977784d1f"
      }
     },
     "metadata": {},
     "output_type": "display_data"
    },
    {
     "data": {
      "text/plain": [
       "first-order rho=0.25 sigma=0.2 (7/10):   0%|          | 0/51 [00:00<?, ?it/s]"
      ],
      "application/vnd.jupyter.widget-view+json": {
       "version_major": 2,
       "version_minor": 0,
       "model_id": "4495d11c89834c51a4b242e0b243c755"
      }
     },
     "metadata": {},
     "output_type": "display_data"
    },
    {
     "data": {
      "text/plain": [
       "first-order rho=0.25 sigma=0.4 (7/10):   0%|          | 0/51 [00:00<?, ?it/s]"
      ],
      "application/vnd.jupyter.widget-view+json": {
       "version_major": 2,
       "version_minor": 0,
       "model_id": "33aaef49e36a464d89ade8ade301fc2a"
      }
     },
     "metadata": {},
     "output_type": "display_data"
    },
    {
     "data": {
      "text/plain": [
       "first-order rho=0.25 sigma=0.8 (7/10):   0%|          | 0/51 [00:00<?, ?it/s]"
      ],
      "application/vnd.jupyter.widget-view+json": {
       "version_major": 2,
       "version_minor": 0,
       "model_id": "cb7e03e06ed74dd39608027640f9fec4"
      }
     },
     "metadata": {},
     "output_type": "display_data"
    },
    {
     "data": {
      "text/plain": [
       "first-order rho=0.25 sigma=1.6 (7/10):   0%|          | 0/51 [00:00<?, ?it/s]"
      ],
      "application/vnd.jupyter.widget-view+json": {
       "version_major": 2,
       "version_minor": 0,
       "model_id": "4632d507a5524bb1952d533ba023e8a8"
      }
     },
     "metadata": {},
     "output_type": "display_data"
    },
    {
     "data": {
      "text/plain": [
       "first-order rho=0.25 sigma=3.2 (7/10):   0%|          | 0/51 [00:00<?, ?it/s]"
      ],
      "application/vnd.jupyter.widget-view+json": {
       "version_major": 2,
       "version_minor": 0,
       "model_id": "d6d31af3f7bf4d4c9e1f077fbc1489b9"
      }
     },
     "metadata": {},
     "output_type": "display_data"
    },
    {
     "data": {
      "text/plain": [
       "first-order rho=0.5 sigma=0.1 (7/10):   0%|          | 0/51 [00:00<?, ?it/s]"
      ],
      "application/vnd.jupyter.widget-view+json": {
       "version_major": 2,
       "version_minor": 0,
       "model_id": "2a9cf24d01d74a3cb6d90b2b063130f8"
      }
     },
     "metadata": {},
     "output_type": "display_data"
    },
    {
     "data": {
      "text/plain": [
       "first-order rho=0.5 sigma=0.2 (7/10):   0%|          | 0/51 [00:00<?, ?it/s]"
      ],
      "application/vnd.jupyter.widget-view+json": {
       "version_major": 2,
       "version_minor": 0,
       "model_id": "fe0889e1e2214ca8b03bf9527140852a"
      }
     },
     "metadata": {},
     "output_type": "display_data"
    },
    {
     "data": {
      "text/plain": [
       "first-order rho=0.5 sigma=0.4 (7/10):   0%|          | 0/51 [00:00<?, ?it/s]"
      ],
      "application/vnd.jupyter.widget-view+json": {
       "version_major": 2,
       "version_minor": 0,
       "model_id": "569e5ffbe0494a01bd322c9964f71876"
      }
     },
     "metadata": {},
     "output_type": "display_data"
    },
    {
     "data": {
      "text/plain": [
       "first-order rho=0.5 sigma=0.8 (7/10):   0%|          | 0/51 [00:00<?, ?it/s]"
      ],
      "application/vnd.jupyter.widget-view+json": {
       "version_major": 2,
       "version_minor": 0,
       "model_id": "936fa5662b474d2f9830907c312f69e3"
      }
     },
     "metadata": {},
     "output_type": "display_data"
    },
    {
     "data": {
      "text/plain": [
       "first-order rho=0.5 sigma=1.6 (7/10):   0%|          | 0/51 [00:00<?, ?it/s]"
      ],
      "application/vnd.jupyter.widget-view+json": {
       "version_major": 2,
       "version_minor": 0,
       "model_id": "73c1902bf02e48fc875393243394d7d0"
      }
     },
     "metadata": {},
     "output_type": "display_data"
    },
    {
     "data": {
      "text/plain": [
       "first-order rho=0.5 sigma=3.2 (7/10):   0%|          | 0/51 [00:00<?, ?it/s]"
      ],
      "application/vnd.jupyter.widget-view+json": {
       "version_major": 2,
       "version_minor": 0,
       "model_id": "c2d588ed365241b782ef4e2ba2041431"
      }
     },
     "metadata": {},
     "output_type": "display_data"
    },
    {
     "data": {
      "text/plain": [
       "first-order rho=0.0 sigma=0.1 (8/10):   0%|          | 0/51 [00:00<?, ?it/s]"
      ],
      "application/vnd.jupyter.widget-view+json": {
       "version_major": 2,
       "version_minor": 0,
       "model_id": "ef5910f2ac69416da8df095650bebf49"
      }
     },
     "metadata": {},
     "output_type": "display_data"
    },
    {
     "data": {
      "text/plain": [
       "first-order rho=0.0 sigma=0.2 (8/10):   0%|          | 0/51 [00:00<?, ?it/s]"
      ],
      "application/vnd.jupyter.widget-view+json": {
       "version_major": 2,
       "version_minor": 0,
       "model_id": "441f60ac1ae54353a1e20e38c10fba25"
      }
     },
     "metadata": {},
     "output_type": "display_data"
    },
    {
     "data": {
      "text/plain": [
       "first-order rho=0.0 sigma=0.4 (8/10):   0%|          | 0/51 [00:00<?, ?it/s]"
      ],
      "application/vnd.jupyter.widget-view+json": {
       "version_major": 2,
       "version_minor": 0,
       "model_id": "1b0938cfaccb4e3c8070a00b87b57012"
      }
     },
     "metadata": {},
     "output_type": "display_data"
    },
    {
     "data": {
      "text/plain": [
       "first-order rho=0.0 sigma=0.8 (8/10):   0%|          | 0/51 [00:00<?, ?it/s]"
      ],
      "application/vnd.jupyter.widget-view+json": {
       "version_major": 2,
       "version_minor": 0,
       "model_id": "0f7e7bc6d83c4e8fa5ebf5ddd01044a6"
      }
     },
     "metadata": {},
     "output_type": "display_data"
    },
    {
     "data": {
      "text/plain": [
       "first-order rho=0.0 sigma=1.6 (8/10):   0%|          | 0/51 [00:00<?, ?it/s]"
      ],
      "application/vnd.jupyter.widget-view+json": {
       "version_major": 2,
       "version_minor": 0,
       "model_id": "83574ce833d64fb5a8546051483fea80"
      }
     },
     "metadata": {},
     "output_type": "display_data"
    },
    {
     "data": {
      "text/plain": [
       "first-order rho=0.0 sigma=3.2 (8/10):   0%|          | 0/51 [00:00<?, ?it/s]"
      ],
      "application/vnd.jupyter.widget-view+json": {
       "version_major": 2,
       "version_minor": 0,
       "model_id": "d95b3dd7fbd342ab9bcd6c127a0bf615"
      }
     },
     "metadata": {},
     "output_type": "display_data"
    },
    {
     "data": {
      "text/plain": [
       "first-order rho=0.25 sigma=0.1 (8/10):   0%|          | 0/51 [00:00<?, ?it/s]"
      ],
      "application/vnd.jupyter.widget-view+json": {
       "version_major": 2,
       "version_minor": 0,
       "model_id": "914a76aabb4c468fab1b4ea68d6c9b70"
      }
     },
     "metadata": {},
     "output_type": "display_data"
    },
    {
     "data": {
      "text/plain": [
       "first-order rho=0.25 sigma=0.2 (8/10):   0%|          | 0/51 [00:00<?, ?it/s]"
      ],
      "application/vnd.jupyter.widget-view+json": {
       "version_major": 2,
       "version_minor": 0,
       "model_id": "d8985f041f26402991e97e918678902b"
      }
     },
     "metadata": {},
     "output_type": "display_data"
    },
    {
     "data": {
      "text/plain": [
       "first-order rho=0.25 sigma=0.4 (8/10):   0%|          | 0/51 [00:00<?, ?it/s]"
      ],
      "application/vnd.jupyter.widget-view+json": {
       "version_major": 2,
       "version_minor": 0,
       "model_id": "24d12f59da2547c99b070b034ebfd88f"
      }
     },
     "metadata": {},
     "output_type": "display_data"
    },
    {
     "data": {
      "text/plain": [
       "first-order rho=0.25 sigma=0.8 (8/10):   0%|          | 0/51 [00:00<?, ?it/s]"
      ],
      "application/vnd.jupyter.widget-view+json": {
       "version_major": 2,
       "version_minor": 0,
       "model_id": "3cd594e8def2411ca9a806f5a48c8b99"
      }
     },
     "metadata": {},
     "output_type": "display_data"
    },
    {
     "data": {
      "text/plain": [
       "first-order rho=0.25 sigma=1.6 (8/10):   0%|          | 0/51 [00:00<?, ?it/s]"
      ],
      "application/vnd.jupyter.widget-view+json": {
       "version_major": 2,
       "version_minor": 0,
       "model_id": "9d6b2647b7c1435db371ad4ad7255b0c"
      }
     },
     "metadata": {},
     "output_type": "display_data"
    },
    {
     "data": {
      "text/plain": [
       "first-order rho=0.25 sigma=3.2 (8/10):   0%|          | 0/51 [00:00<?, ?it/s]"
      ],
      "application/vnd.jupyter.widget-view+json": {
       "version_major": 2,
       "version_minor": 0,
       "model_id": "7c985c57fbac44fbb670a32a859c7e8c"
      }
     },
     "metadata": {},
     "output_type": "display_data"
    },
    {
     "data": {
      "text/plain": [
       "first-order rho=0.5 sigma=0.1 (8/10):   0%|          | 0/51 [00:00<?, ?it/s]"
      ],
      "application/vnd.jupyter.widget-view+json": {
       "version_major": 2,
       "version_minor": 0,
       "model_id": "0bf33d2380c64c50a5ddaf27669eb4d9"
      }
     },
     "metadata": {},
     "output_type": "display_data"
    },
    {
     "data": {
      "text/plain": [
       "first-order rho=0.5 sigma=0.2 (8/10):   0%|          | 0/51 [00:00<?, ?it/s]"
      ],
      "application/vnd.jupyter.widget-view+json": {
       "version_major": 2,
       "version_minor": 0,
       "model_id": "da32883d69bb454b8a1a05becb8cc88b"
      }
     },
     "metadata": {},
     "output_type": "display_data"
    },
    {
     "data": {
      "text/plain": [
       "first-order rho=0.5 sigma=0.4 (8/10):   0%|          | 0/51 [00:00<?, ?it/s]"
      ],
      "application/vnd.jupyter.widget-view+json": {
       "version_major": 2,
       "version_minor": 0,
       "model_id": "1b2d5e762ec54e34b49fb0bc289c5cf7"
      }
     },
     "metadata": {},
     "output_type": "display_data"
    },
    {
     "data": {
      "text/plain": [
       "first-order rho=0.5 sigma=0.8 (8/10):   0%|          | 0/51 [00:00<?, ?it/s]"
      ],
      "application/vnd.jupyter.widget-view+json": {
       "version_major": 2,
       "version_minor": 0,
       "model_id": "dc0d59a5606c42d1aa22e7bc54cfc4d2"
      }
     },
     "metadata": {},
     "output_type": "display_data"
    },
    {
     "data": {
      "text/plain": [
       "first-order rho=0.5 sigma=1.6 (8/10):   0%|          | 0/51 [00:00<?, ?it/s]"
      ],
      "application/vnd.jupyter.widget-view+json": {
       "version_major": 2,
       "version_minor": 0,
       "model_id": "e9794d754f2341f9bd461450e5d00e23"
      }
     },
     "metadata": {},
     "output_type": "display_data"
    },
    {
     "data": {
      "text/plain": [
       "first-order rho=0.5 sigma=3.2 (8/10):   0%|          | 0/51 [00:00<?, ?it/s]"
      ],
      "application/vnd.jupyter.widget-view+json": {
       "version_major": 2,
       "version_minor": 0,
       "model_id": "ceb5b9a19ca240c9a18f394e4e0500bb"
      }
     },
     "metadata": {},
     "output_type": "display_data"
    },
    {
     "data": {
      "text/plain": [
       "first-order rho=0.0 sigma=0.1 (9/10):   0%|          | 0/51 [00:00<?, ?it/s]"
      ],
      "application/vnd.jupyter.widget-view+json": {
       "version_major": 2,
       "version_minor": 0,
       "model_id": "d7e2091c2b7a4294a1039bafc58baeed"
      }
     },
     "metadata": {},
     "output_type": "display_data"
    },
    {
     "data": {
      "text/plain": [
       "first-order rho=0.0 sigma=0.2 (9/10):   0%|          | 0/51 [00:00<?, ?it/s]"
      ],
      "application/vnd.jupyter.widget-view+json": {
       "version_major": 2,
       "version_minor": 0,
       "model_id": "2802b892e96e4fb9872e81387e1b0369"
      }
     },
     "metadata": {},
     "output_type": "display_data"
    },
    {
     "data": {
      "text/plain": [
       "first-order rho=0.0 sigma=0.4 (9/10):   0%|          | 0/51 [00:00<?, ?it/s]"
      ],
      "application/vnd.jupyter.widget-view+json": {
       "version_major": 2,
       "version_minor": 0,
       "model_id": "fca6674f054b45baac136eff70649d88"
      }
     },
     "metadata": {},
     "output_type": "display_data"
    },
    {
     "data": {
      "text/plain": [
       "first-order rho=0.0 sigma=0.8 (9/10):   0%|          | 0/51 [00:00<?, ?it/s]"
      ],
      "application/vnd.jupyter.widget-view+json": {
       "version_major": 2,
       "version_minor": 0,
       "model_id": "e257b67ce8924d5690a7d7c4756881cc"
      }
     },
     "metadata": {},
     "output_type": "display_data"
    },
    {
     "data": {
      "text/plain": [
       "first-order rho=0.0 sigma=1.6 (9/10):   0%|          | 0/51 [00:00<?, ?it/s]"
      ],
      "application/vnd.jupyter.widget-view+json": {
       "version_major": 2,
       "version_minor": 0,
       "model_id": "dbdfbf9ae4e347dd9bc760f3082b8624"
      }
     },
     "metadata": {},
     "output_type": "display_data"
    },
    {
     "data": {
      "text/plain": [
       "first-order rho=0.0 sigma=3.2 (9/10):   0%|          | 0/51 [00:00<?, ?it/s]"
      ],
      "application/vnd.jupyter.widget-view+json": {
       "version_major": 2,
       "version_minor": 0,
       "model_id": "f20bd45d12194ffe9950bebca34342b1"
      }
     },
     "metadata": {},
     "output_type": "display_data"
    },
    {
     "data": {
      "text/plain": [
       "first-order rho=0.25 sigma=0.1 (9/10):   0%|          | 0/51 [00:00<?, ?it/s]"
      ],
      "application/vnd.jupyter.widget-view+json": {
       "version_major": 2,
       "version_minor": 0,
       "model_id": "ea4f549e843544c5a4ef7fe19253d168"
      }
     },
     "metadata": {},
     "output_type": "display_data"
    },
    {
     "data": {
      "text/plain": [
       "first-order rho=0.25 sigma=0.2 (9/10):   0%|          | 0/51 [00:00<?, ?it/s]"
      ],
      "application/vnd.jupyter.widget-view+json": {
       "version_major": 2,
       "version_minor": 0,
       "model_id": "b4e5cf660be84d18850d4902141239d9"
      }
     },
     "metadata": {},
     "output_type": "display_data"
    },
    {
     "data": {
      "text/plain": [
       "first-order rho=0.25 sigma=0.4 (9/10):   0%|          | 0/51 [00:00<?, ?it/s]"
      ],
      "application/vnd.jupyter.widget-view+json": {
       "version_major": 2,
       "version_minor": 0,
       "model_id": "5f5f07e177334a5ebab633dfeb42d6e6"
      }
     },
     "metadata": {},
     "output_type": "display_data"
    },
    {
     "data": {
      "text/plain": [
       "first-order rho=0.25 sigma=0.8 (9/10):   0%|          | 0/51 [00:00<?, ?it/s]"
      ],
      "application/vnd.jupyter.widget-view+json": {
       "version_major": 2,
       "version_minor": 0,
       "model_id": "5b4016d8e7984dc38d9f5d6c3c77af10"
      }
     },
     "metadata": {},
     "output_type": "display_data"
    },
    {
     "data": {
      "text/plain": [
       "first-order rho=0.25 sigma=1.6 (9/10):   0%|          | 0/51 [00:00<?, ?it/s]"
      ],
      "application/vnd.jupyter.widget-view+json": {
       "version_major": 2,
       "version_minor": 0,
       "model_id": "ef7155975e214212b7f16bac333ac6c0"
      }
     },
     "metadata": {},
     "output_type": "display_data"
    },
    {
     "data": {
      "text/plain": [
       "first-order rho=0.25 sigma=3.2 (9/10):   0%|          | 0/51 [00:00<?, ?it/s]"
      ],
      "application/vnd.jupyter.widget-view+json": {
       "version_major": 2,
       "version_minor": 0,
       "model_id": "76a5ff854c094e46b94f0c9334796210"
      }
     },
     "metadata": {},
     "output_type": "display_data"
    },
    {
     "data": {
      "text/plain": [
       "first-order rho=0.5 sigma=0.1 (9/10):   0%|          | 0/51 [00:00<?, ?it/s]"
      ],
      "application/vnd.jupyter.widget-view+json": {
       "version_major": 2,
       "version_minor": 0,
       "model_id": "f5c1f1a19b264135abe97c834ddd49f5"
      }
     },
     "metadata": {},
     "output_type": "display_data"
    },
    {
     "data": {
      "text/plain": [
       "first-order rho=0.5 sigma=0.2 (9/10):   0%|          | 0/51 [00:00<?, ?it/s]"
      ],
      "application/vnd.jupyter.widget-view+json": {
       "version_major": 2,
       "version_minor": 0,
       "model_id": "dbf326719d4246c7a0acf3897f6f546d"
      }
     },
     "metadata": {},
     "output_type": "display_data"
    },
    {
     "data": {
      "text/plain": [
       "first-order rho=0.5 sigma=0.4 (9/10):   0%|          | 0/51 [00:00<?, ?it/s]"
      ],
      "application/vnd.jupyter.widget-view+json": {
       "version_major": 2,
       "version_minor": 0,
       "model_id": "33d55fa0be9244269d8fbf107709bccc"
      }
     },
     "metadata": {},
     "output_type": "display_data"
    },
    {
     "data": {
      "text/plain": [
       "first-order rho=0.5 sigma=0.8 (9/10):   0%|          | 0/51 [00:00<?, ?it/s]"
      ],
      "application/vnd.jupyter.widget-view+json": {
       "version_major": 2,
       "version_minor": 0,
       "model_id": "2f6f18b330ff425c8e4e261032b162ec"
      }
     },
     "metadata": {},
     "output_type": "display_data"
    },
    {
     "data": {
      "text/plain": [
       "first-order rho=0.5 sigma=1.6 (9/10):   0%|          | 0/51 [00:00<?, ?it/s]"
      ],
      "application/vnd.jupyter.widget-view+json": {
       "version_major": 2,
       "version_minor": 0,
       "model_id": "43e8d224ce0144d0930efb574dcb3be3"
      }
     },
     "metadata": {},
     "output_type": "display_data"
    },
    {
     "data": {
      "text/plain": [
       "first-order rho=0.5 sigma=3.2 (9/10):   0%|          | 0/51 [00:00<?, ?it/s]"
      ],
      "application/vnd.jupyter.widget-view+json": {
       "version_major": 2,
       "version_minor": 0,
       "model_id": "296bef74145040118eef655bef24d90e"
      }
     },
     "metadata": {},
     "output_type": "display_data"
    },
    {
     "data": {
      "text/plain": [
       "first-order rho=0.0 sigma=0.1 (10/10):   0%|          | 0/51 [00:00<?, ?it/s]"
      ],
      "application/vnd.jupyter.widget-view+json": {
       "version_major": 2,
       "version_minor": 0,
       "model_id": "34a32cea7352463683e0dd87827b1158"
      }
     },
     "metadata": {},
     "output_type": "display_data"
    },
    {
     "data": {
      "text/plain": [
       "first-order rho=0.0 sigma=0.2 (10/10):   0%|          | 0/51 [00:00<?, ?it/s]"
      ],
      "application/vnd.jupyter.widget-view+json": {
       "version_major": 2,
       "version_minor": 0,
       "model_id": "657ac8f7939d4df0bfee5e6902a85596"
      }
     },
     "metadata": {},
     "output_type": "display_data"
    },
    {
     "data": {
      "text/plain": [
       "first-order rho=0.0 sigma=0.4 (10/10):   0%|          | 0/51 [00:00<?, ?it/s]"
      ],
      "application/vnd.jupyter.widget-view+json": {
       "version_major": 2,
       "version_minor": 0,
       "model_id": "dd8c6290478e4dd3a4674f124512efc2"
      }
     },
     "metadata": {},
     "output_type": "display_data"
    },
    {
     "data": {
      "text/plain": [
       "first-order rho=0.0 sigma=0.8 (10/10):   0%|          | 0/51 [00:00<?, ?it/s]"
      ],
      "application/vnd.jupyter.widget-view+json": {
       "version_major": 2,
       "version_minor": 0,
       "model_id": "cbff93388fe740608246353a847ae7ae"
      }
     },
     "metadata": {},
     "output_type": "display_data"
    },
    {
     "data": {
      "text/plain": [
       "first-order rho=0.0 sigma=1.6 (10/10):   0%|          | 0/51 [00:00<?, ?it/s]"
      ],
      "application/vnd.jupyter.widget-view+json": {
       "version_major": 2,
       "version_minor": 0,
       "model_id": "592e20a1bd474dbfb75b60396f5be0e6"
      }
     },
     "metadata": {},
     "output_type": "display_data"
    },
    {
     "data": {
      "text/plain": [
       "first-order rho=0.0 sigma=3.2 (10/10):   0%|          | 0/51 [00:00<?, ?it/s]"
      ],
      "application/vnd.jupyter.widget-view+json": {
       "version_major": 2,
       "version_minor": 0,
       "model_id": "3e41b277d0ca4765882d17d244d5989c"
      }
     },
     "metadata": {},
     "output_type": "display_data"
    },
    {
     "data": {
      "text/plain": [
       "first-order rho=0.25 sigma=0.1 (10/10):   0%|          | 0/51 [00:00<?, ?it/s]"
      ],
      "application/vnd.jupyter.widget-view+json": {
       "version_major": 2,
       "version_minor": 0,
       "model_id": "f0e579feb2bb412eb9668cdadc9b5aa4"
      }
     },
     "metadata": {},
     "output_type": "display_data"
    },
    {
     "data": {
      "text/plain": [
       "first-order rho=0.25 sigma=0.2 (10/10):   0%|          | 0/51 [00:00<?, ?it/s]"
      ],
      "application/vnd.jupyter.widget-view+json": {
       "version_major": 2,
       "version_minor": 0,
       "model_id": "6f272c16ce8343f88502bb29b41832ea"
      }
     },
     "metadata": {},
     "output_type": "display_data"
    },
    {
     "data": {
      "text/plain": [
       "first-order rho=0.25 sigma=0.4 (10/10):   0%|          | 0/51 [00:00<?, ?it/s]"
      ],
      "application/vnd.jupyter.widget-view+json": {
       "version_major": 2,
       "version_minor": 0,
       "model_id": "e535c52ebcf64c2193e0c2d849a62805"
      }
     },
     "metadata": {},
     "output_type": "display_data"
    },
    {
     "data": {
      "text/plain": [
       "first-order rho=0.25 sigma=0.8 (10/10):   0%|          | 0/51 [00:00<?, ?it/s]"
      ],
      "application/vnd.jupyter.widget-view+json": {
       "version_major": 2,
       "version_minor": 0,
       "model_id": "56f203161c4d411983f6641295d22e19"
      }
     },
     "metadata": {},
     "output_type": "display_data"
    },
    {
     "data": {
      "text/plain": [
       "first-order rho=0.25 sigma=1.6 (10/10):   0%|          | 0/51 [00:00<?, ?it/s]"
      ],
      "application/vnd.jupyter.widget-view+json": {
       "version_major": 2,
       "version_minor": 0,
       "model_id": "19d1483a6ba342f49827d06b30ed96e1"
      }
     },
     "metadata": {},
     "output_type": "display_data"
    },
    {
     "data": {
      "text/plain": [
       "first-order rho=0.25 sigma=3.2 (10/10):   0%|          | 0/51 [00:00<?, ?it/s]"
      ],
      "application/vnd.jupyter.widget-view+json": {
       "version_major": 2,
       "version_minor": 0,
       "model_id": "a0e6a9688f9b4fecb9be93927958d792"
      }
     },
     "metadata": {},
     "output_type": "display_data"
    },
    {
     "data": {
      "text/plain": [
       "first-order rho=0.5 sigma=0.1 (10/10):   0%|          | 0/51 [00:00<?, ?it/s]"
      ],
      "application/vnd.jupyter.widget-view+json": {
       "version_major": 2,
       "version_minor": 0,
       "model_id": "eb5fd70e38d34f34a0b777758dc9e29b"
      }
     },
     "metadata": {},
     "output_type": "display_data"
    },
    {
     "data": {
      "text/plain": [
       "first-order rho=0.5 sigma=0.2 (10/10):   0%|          | 0/51 [00:00<?, ?it/s]"
      ],
      "application/vnd.jupyter.widget-view+json": {
       "version_major": 2,
       "version_minor": 0,
       "model_id": "edc46e2a1c764b5090dd428d5191c70c"
      }
     },
     "metadata": {},
     "output_type": "display_data"
    },
    {
     "data": {
      "text/plain": [
       "first-order rho=0.5 sigma=0.4 (10/10):   0%|          | 0/51 [00:00<?, ?it/s]"
      ],
      "application/vnd.jupyter.widget-view+json": {
       "version_major": 2,
       "version_minor": 0,
       "model_id": "2e4c7060cdc443398b343f210034921b"
      }
     },
     "metadata": {},
     "output_type": "display_data"
    },
    {
     "data": {
      "text/plain": [
       "first-order rho=0.5 sigma=0.8 (10/10):   0%|          | 0/51 [00:00<?, ?it/s]"
      ],
      "application/vnd.jupyter.widget-view+json": {
       "version_major": 2,
       "version_minor": 0,
       "model_id": "c82279303a464caf94bd7f1a71ce1118"
      }
     },
     "metadata": {},
     "output_type": "display_data"
    },
    {
     "data": {
      "text/plain": [
       "first-order rho=0.5 sigma=1.6 (10/10):   0%|          | 0/51 [00:00<?, ?it/s]"
      ],
      "application/vnd.jupyter.widget-view+json": {
       "version_major": 2,
       "version_minor": 0,
       "model_id": "d86e61ff2cc44ea187bf30cb3f381e08"
      }
     },
     "metadata": {},
     "output_type": "display_data"
    },
    {
     "data": {
      "text/plain": [
       "first-order rho=0.5 sigma=3.2 (10/10):   0%|          | 0/51 [00:00<?, ?it/s]"
      ],
      "application/vnd.jupyter.widget-view+json": {
       "version_major": 2,
       "version_minor": 0,
       "model_id": "8c5cc2cdafb24c3fa95daf0515126280"
      }
     },
     "metadata": {},
     "output_type": "display_data"
    },
    {
     "data": {
      "text/plain": [
       "first-order-median rho=0.0 sigma=0.1 (1/10):   0%|          | 0/51 [00:00<?, ?it/s]"
      ],
      "application/vnd.jupyter.widget-view+json": {
       "version_major": 2,
       "version_minor": 0,
       "model_id": "392af57b3fd0410096aa901f3bd1f60a"
      }
     },
     "metadata": {},
     "output_type": "display_data"
    },
    {
     "data": {
      "text/plain": [
       "first-order-median rho=0.0 sigma=0.2 (1/10):   0%|          | 0/51 [00:00<?, ?it/s]"
      ],
      "application/vnd.jupyter.widget-view+json": {
       "version_major": 2,
       "version_minor": 0,
       "model_id": "cc3bacd9cf744623a949b0ce1edb6c95"
      }
     },
     "metadata": {},
     "output_type": "display_data"
    },
    {
     "data": {
      "text/plain": [
       "first-order-median rho=0.0 sigma=0.4 (1/10):   0%|          | 0/51 [00:00<?, ?it/s]"
      ],
      "application/vnd.jupyter.widget-view+json": {
       "version_major": 2,
       "version_minor": 0,
       "model_id": "40a150c070ff4e66b2795568d593cb5a"
      }
     },
     "metadata": {},
     "output_type": "display_data"
    },
    {
     "data": {
      "text/plain": [
       "first-order-median rho=0.0 sigma=0.8 (1/10):   0%|          | 0/51 [00:00<?, ?it/s]"
      ],
      "application/vnd.jupyter.widget-view+json": {
       "version_major": 2,
       "version_minor": 0,
       "model_id": "615c77703a97486fb6deab0e79d57c42"
      }
     },
     "metadata": {},
     "output_type": "display_data"
    },
    {
     "data": {
      "text/plain": [
       "first-order-median rho=0.0 sigma=1.6 (1/10):   0%|          | 0/51 [00:00<?, ?it/s]"
      ],
      "application/vnd.jupyter.widget-view+json": {
       "version_major": 2,
       "version_minor": 0,
       "model_id": "6259a55f6b3d45fa9410dc36bf6892ae"
      }
     },
     "metadata": {},
     "output_type": "display_data"
    },
    {
     "data": {
      "text/plain": [
       "first-order-median rho=0.0 sigma=3.2 (1/10):   0%|          | 0/51 [00:00<?, ?it/s]"
      ],
      "application/vnd.jupyter.widget-view+json": {
       "version_major": 2,
       "version_minor": 0,
       "model_id": "da4e29f75cd44dc5a173b5ca4cf1dccd"
      }
     },
     "metadata": {},
     "output_type": "display_data"
    },
    {
     "data": {
      "text/plain": [
       "first-order-median rho=0.25 sigma=0.1 (1/10):   0%|          | 0/51 [00:00<?, ?it/s]"
      ],
      "application/vnd.jupyter.widget-view+json": {
       "version_major": 2,
       "version_minor": 0,
       "model_id": "fea68790051d459caf56b0829f571449"
      }
     },
     "metadata": {},
     "output_type": "display_data"
    },
    {
     "data": {
      "text/plain": [
       "first-order-median rho=0.25 sigma=0.2 (1/10):   0%|          | 0/51 [00:00<?, ?it/s]"
      ],
      "application/vnd.jupyter.widget-view+json": {
       "version_major": 2,
       "version_minor": 0,
       "model_id": "877120a7848346659ec6266945348dbb"
      }
     },
     "metadata": {},
     "output_type": "display_data"
    },
    {
     "data": {
      "text/plain": [
       "first-order-median rho=0.25 sigma=0.4 (1/10):   0%|          | 0/51 [00:00<?, ?it/s]"
      ],
      "application/vnd.jupyter.widget-view+json": {
       "version_major": 2,
       "version_minor": 0,
       "model_id": "eb969359716e4fc9a48731c0ba57bb10"
      }
     },
     "metadata": {},
     "output_type": "display_data"
    },
    {
     "data": {
      "text/plain": [
       "first-order-median rho=0.25 sigma=0.8 (1/10):   0%|          | 0/51 [00:00<?, ?it/s]"
      ],
      "application/vnd.jupyter.widget-view+json": {
       "version_major": 2,
       "version_minor": 0,
       "model_id": "553358a096b3411284cabeabb83e23e0"
      }
     },
     "metadata": {},
     "output_type": "display_data"
    },
    {
     "data": {
      "text/plain": [
       "first-order-median rho=0.25 sigma=1.6 (1/10):   0%|          | 0/51 [00:00<?, ?it/s]"
      ],
      "application/vnd.jupyter.widget-view+json": {
       "version_major": 2,
       "version_minor": 0,
       "model_id": "bf1ed6ad03ca4e9b9f88c1eccc824417"
      }
     },
     "metadata": {},
     "output_type": "display_data"
    },
    {
     "data": {
      "text/plain": [
       "first-order-median rho=0.25 sigma=3.2 (1/10):   0%|          | 0/51 [00:00<?, ?it/s]"
      ],
      "application/vnd.jupyter.widget-view+json": {
       "version_major": 2,
       "version_minor": 0,
       "model_id": "8907758da6b8413698dc47ec9b09ded6"
      }
     },
     "metadata": {},
     "output_type": "display_data"
    },
    {
     "data": {
      "text/plain": [
       "first-order-median rho=0.5 sigma=0.1 (1/10):   0%|          | 0/51 [00:00<?, ?it/s]"
      ],
      "application/vnd.jupyter.widget-view+json": {
       "version_major": 2,
       "version_minor": 0,
       "model_id": "79baf7bc845042ac810f3b727f1e5212"
      }
     },
     "metadata": {},
     "output_type": "display_data"
    },
    {
     "data": {
      "text/plain": [
       "first-order-median rho=0.5 sigma=0.2 (1/10):   0%|          | 0/51 [00:00<?, ?it/s]"
      ],
      "application/vnd.jupyter.widget-view+json": {
       "version_major": 2,
       "version_minor": 0,
       "model_id": "57f9864e79a34f23b4f21c1e89e22e51"
      }
     },
     "metadata": {},
     "output_type": "display_data"
    },
    {
     "data": {
      "text/plain": [
       "first-order-median rho=0.5 sigma=0.4 (1/10):   0%|          | 0/51 [00:00<?, ?it/s]"
      ],
      "application/vnd.jupyter.widget-view+json": {
       "version_major": 2,
       "version_minor": 0,
       "model_id": "735e56bf2c0e42faa3dc51d2296b7434"
      }
     },
     "metadata": {},
     "output_type": "display_data"
    },
    {
     "data": {
      "text/plain": [
       "first-order-median rho=0.5 sigma=0.8 (1/10):   0%|          | 0/51 [00:00<?, ?it/s]"
      ],
      "application/vnd.jupyter.widget-view+json": {
       "version_major": 2,
       "version_minor": 0,
       "model_id": "071014fc6c1b4d3daf38f3b41ee0f808"
      }
     },
     "metadata": {},
     "output_type": "display_data"
    },
    {
     "data": {
      "text/plain": [
       "first-order-median rho=0.5 sigma=1.6 (1/10):   0%|          | 0/51 [00:00<?, ?it/s]"
      ],
      "application/vnd.jupyter.widget-view+json": {
       "version_major": 2,
       "version_minor": 0,
       "model_id": "647594e5ab8441b9b1ff84d36952d9c2"
      }
     },
     "metadata": {},
     "output_type": "display_data"
    },
    {
     "data": {
      "text/plain": [
       "first-order-median rho=0.5 sigma=3.2 (1/10):   0%|          | 0/51 [00:00<?, ?it/s]"
      ],
      "application/vnd.jupyter.widget-view+json": {
       "version_major": 2,
       "version_minor": 0,
       "model_id": "f3e86b328b424f68b8dda03bb3497839"
      }
     },
     "metadata": {},
     "output_type": "display_data"
    },
    {
     "data": {
      "text/plain": [
       "first-order-median rho=0.0 sigma=0.1 (2/10):   0%|          | 0/51 [00:00<?, ?it/s]"
      ],
      "application/vnd.jupyter.widget-view+json": {
       "version_major": 2,
       "version_minor": 0,
       "model_id": "782d229ba23b4d5db3c6a4e46accdf18"
      }
     },
     "metadata": {},
     "output_type": "display_data"
    },
    {
     "data": {
      "text/plain": [
       "first-order-median rho=0.0 sigma=0.2 (2/10):   0%|          | 0/51 [00:00<?, ?it/s]"
      ],
      "application/vnd.jupyter.widget-view+json": {
       "version_major": 2,
       "version_minor": 0,
       "model_id": "f6a1f369486a4a648bb884a068b919a3"
      }
     },
     "metadata": {},
     "output_type": "display_data"
    },
    {
     "data": {
      "text/plain": [
       "first-order-median rho=0.0 sigma=0.4 (2/10):   0%|          | 0/51 [00:00<?, ?it/s]"
      ],
      "application/vnd.jupyter.widget-view+json": {
       "version_major": 2,
       "version_minor": 0,
       "model_id": "8737178750114c789174b703698eb0a0"
      }
     },
     "metadata": {},
     "output_type": "display_data"
    },
    {
     "data": {
      "text/plain": [
       "first-order-median rho=0.0 sigma=0.8 (2/10):   0%|          | 0/51 [00:00<?, ?it/s]"
      ],
      "application/vnd.jupyter.widget-view+json": {
       "version_major": 2,
       "version_minor": 0,
       "model_id": "304569368ced44c4b1c5ede8c8b182b9"
      }
     },
     "metadata": {},
     "output_type": "display_data"
    },
    {
     "data": {
      "text/plain": [
       "first-order-median rho=0.0 sigma=1.6 (2/10):   0%|          | 0/51 [00:00<?, ?it/s]"
      ],
      "application/vnd.jupyter.widget-view+json": {
       "version_major": 2,
       "version_minor": 0,
       "model_id": "a958ce6ebf974fca8488f2f84b15dc56"
      }
     },
     "metadata": {},
     "output_type": "display_data"
    },
    {
     "data": {
      "text/plain": [
       "first-order-median rho=0.0 sigma=3.2 (2/10):   0%|          | 0/51 [00:00<?, ?it/s]"
      ],
      "application/vnd.jupyter.widget-view+json": {
       "version_major": 2,
       "version_minor": 0,
       "model_id": "3ec7df1650014248b7a6c0af7b6e56d2"
      }
     },
     "metadata": {},
     "output_type": "display_data"
    },
    {
     "data": {
      "text/plain": [
       "first-order-median rho=0.25 sigma=0.1 (2/10):   0%|          | 0/51 [00:00<?, ?it/s]"
      ],
      "application/vnd.jupyter.widget-view+json": {
       "version_major": 2,
       "version_minor": 0,
       "model_id": "ac33dd5b4f2a43bcaefaba5bb4a1dff5"
      }
     },
     "metadata": {},
     "output_type": "display_data"
    },
    {
     "data": {
      "text/plain": [
       "first-order-median rho=0.25 sigma=0.2 (2/10):   0%|          | 0/51 [00:00<?, ?it/s]"
      ],
      "application/vnd.jupyter.widget-view+json": {
       "version_major": 2,
       "version_minor": 0,
       "model_id": "40534c8a1e624038be2648d8e234fe91"
      }
     },
     "metadata": {},
     "output_type": "display_data"
    },
    {
     "data": {
      "text/plain": [
       "first-order-median rho=0.25 sigma=0.4 (2/10):   0%|          | 0/51 [00:00<?, ?it/s]"
      ],
      "application/vnd.jupyter.widget-view+json": {
       "version_major": 2,
       "version_minor": 0,
       "model_id": "7cf1cce6ea33431fb08c2a2a69f4ec10"
      }
     },
     "metadata": {},
     "output_type": "display_data"
    },
    {
     "data": {
      "text/plain": [
       "first-order-median rho=0.25 sigma=0.8 (2/10):   0%|          | 0/51 [00:00<?, ?it/s]"
      ],
      "application/vnd.jupyter.widget-view+json": {
       "version_major": 2,
       "version_minor": 0,
       "model_id": "105820a708404077a56e13f3b1f3628b"
      }
     },
     "metadata": {},
     "output_type": "display_data"
    },
    {
     "data": {
      "text/plain": [
       "first-order-median rho=0.25 sigma=1.6 (2/10):   0%|          | 0/51 [00:00<?, ?it/s]"
      ],
      "application/vnd.jupyter.widget-view+json": {
       "version_major": 2,
       "version_minor": 0,
       "model_id": "efcd5193b7654b3ab75acae1ca11fa41"
      }
     },
     "metadata": {},
     "output_type": "display_data"
    },
    {
     "data": {
      "text/plain": [
       "first-order-median rho=0.25 sigma=3.2 (2/10):   0%|          | 0/51 [00:00<?, ?it/s]"
      ],
      "application/vnd.jupyter.widget-view+json": {
       "version_major": 2,
       "version_minor": 0,
       "model_id": "1351bca7d66c40c5bfe0884288550c51"
      }
     },
     "metadata": {},
     "output_type": "display_data"
    },
    {
     "data": {
      "text/plain": [
       "first-order-median rho=0.5 sigma=0.1 (2/10):   0%|          | 0/51 [00:00<?, ?it/s]"
      ],
      "application/vnd.jupyter.widget-view+json": {
       "version_major": 2,
       "version_minor": 0,
       "model_id": "b9a41407ad554543add94c443231e113"
      }
     },
     "metadata": {},
     "output_type": "display_data"
    },
    {
     "data": {
      "text/plain": [
       "first-order-median rho=0.5 sigma=0.2 (2/10):   0%|          | 0/51 [00:00<?, ?it/s]"
      ],
      "application/vnd.jupyter.widget-view+json": {
       "version_major": 2,
       "version_minor": 0,
       "model_id": "2286ed9b0ec64e41927359121fd1148b"
      }
     },
     "metadata": {},
     "output_type": "display_data"
    },
    {
     "data": {
      "text/plain": [
       "first-order-median rho=0.5 sigma=0.4 (2/10):   0%|          | 0/51 [00:00<?, ?it/s]"
      ],
      "application/vnd.jupyter.widget-view+json": {
       "version_major": 2,
       "version_minor": 0,
       "model_id": "0db10a43f39f4d05b83227a08ad6b62e"
      }
     },
     "metadata": {},
     "output_type": "display_data"
    },
    {
     "data": {
      "text/plain": [
       "first-order-median rho=0.5 sigma=0.8 (2/10):   0%|          | 0/51 [00:00<?, ?it/s]"
      ],
      "application/vnd.jupyter.widget-view+json": {
       "version_major": 2,
       "version_minor": 0,
       "model_id": "32eeba700b494e34b5aa942797240057"
      }
     },
     "metadata": {},
     "output_type": "display_data"
    },
    {
     "data": {
      "text/plain": [
       "first-order-median rho=0.5 sigma=1.6 (2/10):   0%|          | 0/51 [00:00<?, ?it/s]"
      ],
      "application/vnd.jupyter.widget-view+json": {
       "version_major": 2,
       "version_minor": 0,
       "model_id": "b0c254292dbc495f892e641d2f4e0192"
      }
     },
     "metadata": {},
     "output_type": "display_data"
    },
    {
     "data": {
      "text/plain": [
       "first-order-median rho=0.5 sigma=3.2 (2/10):   0%|          | 0/51 [00:00<?, ?it/s]"
      ],
      "application/vnd.jupyter.widget-view+json": {
       "version_major": 2,
       "version_minor": 0,
       "model_id": "cde9ecf1077f47089ab28df4fa0ead27"
      }
     },
     "metadata": {},
     "output_type": "display_data"
    },
    {
     "data": {
      "text/plain": [
       "first-order-median rho=0.0 sigma=0.1 (3/10):   0%|          | 0/51 [00:00<?, ?it/s]"
      ],
      "application/vnd.jupyter.widget-view+json": {
       "version_major": 2,
       "version_minor": 0,
       "model_id": "fb8289a1672645d0bbfc099a37b68b88"
      }
     },
     "metadata": {},
     "output_type": "display_data"
    },
    {
     "data": {
      "text/plain": [
       "first-order-median rho=0.0 sigma=0.2 (3/10):   0%|          | 0/51 [00:00<?, ?it/s]"
      ],
      "application/vnd.jupyter.widget-view+json": {
       "version_major": 2,
       "version_minor": 0,
       "model_id": "7bac4fc1d78142e9b08181c8c45bd67e"
      }
     },
     "metadata": {},
     "output_type": "display_data"
    },
    {
     "data": {
      "text/plain": [
       "first-order-median rho=0.0 sigma=0.4 (3/10):   0%|          | 0/51 [00:00<?, ?it/s]"
      ],
      "application/vnd.jupyter.widget-view+json": {
       "version_major": 2,
       "version_minor": 0,
       "model_id": "cbaccec8ff2d43a386671dbe70678b80"
      }
     },
     "metadata": {},
     "output_type": "display_data"
    },
    {
     "data": {
      "text/plain": [
       "first-order-median rho=0.0 sigma=0.8 (3/10):   0%|          | 0/51 [00:00<?, ?it/s]"
      ],
      "application/vnd.jupyter.widget-view+json": {
       "version_major": 2,
       "version_minor": 0,
       "model_id": "f2e421d0338e489f8e0bd004efad7737"
      }
     },
     "metadata": {},
     "output_type": "display_data"
    },
    {
     "data": {
      "text/plain": [
       "first-order-median rho=0.0 sigma=1.6 (3/10):   0%|          | 0/51 [00:00<?, ?it/s]"
      ],
      "application/vnd.jupyter.widget-view+json": {
       "version_major": 2,
       "version_minor": 0,
       "model_id": "92ba0c4b23ed4e8db941e352eb4a360a"
      }
     },
     "metadata": {},
     "output_type": "display_data"
    },
    {
     "data": {
      "text/plain": [
       "first-order-median rho=0.0 sigma=3.2 (3/10):   0%|          | 0/51 [00:00<?, ?it/s]"
      ],
      "application/vnd.jupyter.widget-view+json": {
       "version_major": 2,
       "version_minor": 0,
       "model_id": "3fba053d89144333bf7202713c0ccb04"
      }
     },
     "metadata": {},
     "output_type": "display_data"
    },
    {
     "data": {
      "text/plain": [
       "first-order-median rho=0.25 sigma=0.1 (3/10):   0%|          | 0/51 [00:00<?, ?it/s]"
      ],
      "application/vnd.jupyter.widget-view+json": {
       "version_major": 2,
       "version_minor": 0,
       "model_id": "c4be57052d434c3780f54dd7fc9e64d2"
      }
     },
     "metadata": {},
     "output_type": "display_data"
    },
    {
     "data": {
      "text/plain": [
       "first-order-median rho=0.25 sigma=0.2 (3/10):   0%|          | 0/51 [00:00<?, ?it/s]"
      ],
      "application/vnd.jupyter.widget-view+json": {
       "version_major": 2,
       "version_minor": 0,
       "model_id": "0f9711507d8c4105966bc3b5700e1c1a"
      }
     },
     "metadata": {},
     "output_type": "display_data"
    },
    {
     "data": {
      "text/plain": [
       "first-order-median rho=0.25 sigma=0.4 (3/10):   0%|          | 0/51 [00:00<?, ?it/s]"
      ],
      "application/vnd.jupyter.widget-view+json": {
       "version_major": 2,
       "version_minor": 0,
       "model_id": "6a0cff8200b145728c8e314e7e1642a6"
      }
     },
     "metadata": {},
     "output_type": "display_data"
    },
    {
     "data": {
      "text/plain": [
       "first-order-median rho=0.25 sigma=0.8 (3/10):   0%|          | 0/51 [00:00<?, ?it/s]"
      ],
      "application/vnd.jupyter.widget-view+json": {
       "version_major": 2,
       "version_minor": 0,
       "model_id": "a58e942ef49840b6804ceef80526649c"
      }
     },
     "metadata": {},
     "output_type": "display_data"
    },
    {
     "data": {
      "text/plain": [
       "first-order-median rho=0.25 sigma=1.6 (3/10):   0%|          | 0/51 [00:00<?, ?it/s]"
      ],
      "application/vnd.jupyter.widget-view+json": {
       "version_major": 2,
       "version_minor": 0,
       "model_id": "128521bc566f47839e3931433267d7ce"
      }
     },
     "metadata": {},
     "output_type": "display_data"
    },
    {
     "data": {
      "text/plain": [
       "first-order-median rho=0.25 sigma=3.2 (3/10):   0%|          | 0/51 [00:00<?, ?it/s]"
      ],
      "application/vnd.jupyter.widget-view+json": {
       "version_major": 2,
       "version_minor": 0,
       "model_id": "f5554891ccd74309ac1edabfa547877c"
      }
     },
     "metadata": {},
     "output_type": "display_data"
    },
    {
     "data": {
      "text/plain": [
       "first-order-median rho=0.5 sigma=0.1 (3/10):   0%|          | 0/51 [00:00<?, ?it/s]"
      ],
      "application/vnd.jupyter.widget-view+json": {
       "version_major": 2,
       "version_minor": 0,
       "model_id": "8ae88599732d4b00afa2b28f8c1e9816"
      }
     },
     "metadata": {},
     "output_type": "display_data"
    },
    {
     "data": {
      "text/plain": [
       "first-order-median rho=0.5 sigma=0.2 (3/10):   0%|          | 0/51 [00:00<?, ?it/s]"
      ],
      "application/vnd.jupyter.widget-view+json": {
       "version_major": 2,
       "version_minor": 0,
       "model_id": "03dd8cd84f884b8c8d98129b01ed329f"
      }
     },
     "metadata": {},
     "output_type": "display_data"
    },
    {
     "data": {
      "text/plain": [
       "first-order-median rho=0.5 sigma=0.4 (3/10):   0%|          | 0/51 [00:00<?, ?it/s]"
      ],
      "application/vnd.jupyter.widget-view+json": {
       "version_major": 2,
       "version_minor": 0,
       "model_id": "b4f4dbdb1d844546ab934fceecc065f7"
      }
     },
     "metadata": {},
     "output_type": "display_data"
    },
    {
     "data": {
      "text/plain": [
       "first-order-median rho=0.5 sigma=0.8 (3/10):   0%|          | 0/51 [00:00<?, ?it/s]"
      ],
      "application/vnd.jupyter.widget-view+json": {
       "version_major": 2,
       "version_minor": 0,
       "model_id": "590f48db0871479cacfcc94fef3cf44d"
      }
     },
     "metadata": {},
     "output_type": "display_data"
    },
    {
     "data": {
      "text/plain": [
       "first-order-median rho=0.5 sigma=1.6 (3/10):   0%|          | 0/51 [00:00<?, ?it/s]"
      ],
      "application/vnd.jupyter.widget-view+json": {
       "version_major": 2,
       "version_minor": 0,
       "model_id": "20ac41bfc995489ba11358c4495f370f"
      }
     },
     "metadata": {},
     "output_type": "display_data"
    },
    {
     "data": {
      "text/plain": [
       "first-order-median rho=0.5 sigma=3.2 (3/10):   0%|          | 0/51 [00:00<?, ?it/s]"
      ],
      "application/vnd.jupyter.widget-view+json": {
       "version_major": 2,
       "version_minor": 0,
       "model_id": "79aa677590244c4b9fbc9424c902dff6"
      }
     },
     "metadata": {},
     "output_type": "display_data"
    },
    {
     "data": {
      "text/plain": [
       "first-order-median rho=0.0 sigma=0.1 (4/10):   0%|          | 0/51 [00:00<?, ?it/s]"
      ],
      "application/vnd.jupyter.widget-view+json": {
       "version_major": 2,
       "version_minor": 0,
       "model_id": "25b487b083344b2ea17c7a78f0331bf0"
      }
     },
     "metadata": {},
     "output_type": "display_data"
    },
    {
     "data": {
      "text/plain": [
       "first-order-median rho=0.0 sigma=0.2 (4/10):   0%|          | 0/51 [00:00<?, ?it/s]"
      ],
      "application/vnd.jupyter.widget-view+json": {
       "version_major": 2,
       "version_minor": 0,
       "model_id": "460232eacfb2424586aa85f3e665f465"
      }
     },
     "metadata": {},
     "output_type": "display_data"
    },
    {
     "data": {
      "text/plain": [
       "first-order-median rho=0.0 sigma=0.4 (4/10):   0%|          | 0/51 [00:00<?, ?it/s]"
      ],
      "application/vnd.jupyter.widget-view+json": {
       "version_major": 2,
       "version_minor": 0,
       "model_id": "783363f68eb645aca935c0711009c0a4"
      }
     },
     "metadata": {},
     "output_type": "display_data"
    },
    {
     "data": {
      "text/plain": [
       "first-order-median rho=0.0 sigma=0.8 (4/10):   0%|          | 0/51 [00:00<?, ?it/s]"
      ],
      "application/vnd.jupyter.widget-view+json": {
       "version_major": 2,
       "version_minor": 0,
       "model_id": "8167116f9d554075a7ec150571f498f9"
      }
     },
     "metadata": {},
     "output_type": "display_data"
    },
    {
     "data": {
      "text/plain": [
       "first-order-median rho=0.0 sigma=1.6 (4/10):   0%|          | 0/51 [00:00<?, ?it/s]"
      ],
      "application/vnd.jupyter.widget-view+json": {
       "version_major": 2,
       "version_minor": 0,
       "model_id": "689fcb4173ce43779407927e6c0ef0d7"
      }
     },
     "metadata": {},
     "output_type": "display_data"
    },
    {
     "data": {
      "text/plain": [
       "first-order-median rho=0.0 sigma=3.2 (4/10):   0%|          | 0/51 [00:00<?, ?it/s]"
      ],
      "application/vnd.jupyter.widget-view+json": {
       "version_major": 2,
       "version_minor": 0,
       "model_id": "9358fa0ca3f04469a5e374feec26748a"
      }
     },
     "metadata": {},
     "output_type": "display_data"
    },
    {
     "data": {
      "text/plain": [
       "first-order-median rho=0.25 sigma=0.1 (4/10):   0%|          | 0/51 [00:00<?, ?it/s]"
      ],
      "application/vnd.jupyter.widget-view+json": {
       "version_major": 2,
       "version_minor": 0,
       "model_id": "d4eafd8a7b924643b87e14adb34a65db"
      }
     },
     "metadata": {},
     "output_type": "display_data"
    },
    {
     "data": {
      "text/plain": [
       "first-order-median rho=0.25 sigma=0.2 (4/10):   0%|          | 0/51 [00:00<?, ?it/s]"
      ],
      "application/vnd.jupyter.widget-view+json": {
       "version_major": 2,
       "version_minor": 0,
       "model_id": "851685945e02429b963bf3d9ffed55ed"
      }
     },
     "metadata": {},
     "output_type": "display_data"
    },
    {
     "data": {
      "text/plain": [
       "first-order-median rho=0.25 sigma=0.4 (4/10):   0%|          | 0/51 [00:00<?, ?it/s]"
      ],
      "application/vnd.jupyter.widget-view+json": {
       "version_major": 2,
       "version_minor": 0,
       "model_id": "b41ba1ed983144e0b6114f0023a55823"
      }
     },
     "metadata": {},
     "output_type": "display_data"
    },
    {
     "data": {
      "text/plain": [
       "first-order-median rho=0.25 sigma=0.8 (4/10):   0%|          | 0/51 [00:00<?, ?it/s]"
      ],
      "application/vnd.jupyter.widget-view+json": {
       "version_major": 2,
       "version_minor": 0,
       "model_id": "044403164d7d406b9bb8f7e082f2e81c"
      }
     },
     "metadata": {},
     "output_type": "display_data"
    },
    {
     "data": {
      "text/plain": [
       "first-order-median rho=0.25 sigma=1.6 (4/10):   0%|          | 0/51 [00:00<?, ?it/s]"
      ],
      "application/vnd.jupyter.widget-view+json": {
       "version_major": 2,
       "version_minor": 0,
       "model_id": "86ccd2dfea474fa4b5360c6bfc139b51"
      }
     },
     "metadata": {},
     "output_type": "display_data"
    },
    {
     "data": {
      "text/plain": [
       "first-order-median rho=0.25 sigma=3.2 (4/10):   0%|          | 0/51 [00:00<?, ?it/s]"
      ],
      "application/vnd.jupyter.widget-view+json": {
       "version_major": 2,
       "version_minor": 0,
       "model_id": "ffc6da63293c40fcb48406d4551f347c"
      }
     },
     "metadata": {},
     "output_type": "display_data"
    },
    {
     "data": {
      "text/plain": [
       "first-order-median rho=0.5 sigma=0.1 (4/10):   0%|          | 0/51 [00:00<?, ?it/s]"
      ],
      "application/vnd.jupyter.widget-view+json": {
       "version_major": 2,
       "version_minor": 0,
       "model_id": "83ab171e9bd04750aa9daaa26d5b975e"
      }
     },
     "metadata": {},
     "output_type": "display_data"
    },
    {
     "data": {
      "text/plain": [
       "first-order-median rho=0.5 sigma=0.2 (4/10):   0%|          | 0/51 [00:00<?, ?it/s]"
      ],
      "application/vnd.jupyter.widget-view+json": {
       "version_major": 2,
       "version_minor": 0,
       "model_id": "07073f2e859a49f8a20540a03bd8244c"
      }
     },
     "metadata": {},
     "output_type": "display_data"
    },
    {
     "data": {
      "text/plain": [
       "first-order-median rho=0.5 sigma=0.4 (4/10):   0%|          | 0/51 [00:00<?, ?it/s]"
      ],
      "application/vnd.jupyter.widget-view+json": {
       "version_major": 2,
       "version_minor": 0,
       "model_id": "f2b762e2e9a64e40a75f76b7f678cf80"
      }
     },
     "metadata": {},
     "output_type": "display_data"
    },
    {
     "data": {
      "text/plain": [
       "first-order-median rho=0.5 sigma=0.8 (4/10):   0%|          | 0/51 [00:00<?, ?it/s]"
      ],
      "application/vnd.jupyter.widget-view+json": {
       "version_major": 2,
       "version_minor": 0,
       "model_id": "578ac61d458d4283a42bfdb4c42919cb"
      }
     },
     "metadata": {},
     "output_type": "display_data"
    },
    {
     "data": {
      "text/plain": [
       "first-order-median rho=0.5 sigma=1.6 (4/10):   0%|          | 0/51 [00:00<?, ?it/s]"
      ],
      "application/vnd.jupyter.widget-view+json": {
       "version_major": 2,
       "version_minor": 0,
       "model_id": "90d98c8ddab14ef0bbdae4ff67271004"
      }
     },
     "metadata": {},
     "output_type": "display_data"
    },
    {
     "data": {
      "text/plain": [
       "first-order-median rho=0.5 sigma=3.2 (4/10):   0%|          | 0/51 [00:00<?, ?it/s]"
      ],
      "application/vnd.jupyter.widget-view+json": {
       "version_major": 2,
       "version_minor": 0,
       "model_id": "ccbf2eaa36ac43cf93be266325924508"
      }
     },
     "metadata": {},
     "output_type": "display_data"
    },
    {
     "data": {
      "text/plain": [
       "first-order-median rho=0.0 sigma=0.1 (5/10):   0%|          | 0/51 [00:00<?, ?it/s]"
      ],
      "application/vnd.jupyter.widget-view+json": {
       "version_major": 2,
       "version_minor": 0,
       "model_id": "197c185415b5451797518533ad205775"
      }
     },
     "metadata": {},
     "output_type": "display_data"
    },
    {
     "data": {
      "text/plain": [
       "first-order-median rho=0.0 sigma=0.2 (5/10):   0%|          | 0/51 [00:00<?, ?it/s]"
      ],
      "application/vnd.jupyter.widget-view+json": {
       "version_major": 2,
       "version_minor": 0,
       "model_id": "06b61fbbd7fb4558b1cc3498f4252dda"
      }
     },
     "metadata": {},
     "output_type": "display_data"
    },
    {
     "data": {
      "text/plain": [
       "first-order-median rho=0.0 sigma=0.4 (5/10):   0%|          | 0/51 [00:00<?, ?it/s]"
      ],
      "application/vnd.jupyter.widget-view+json": {
       "version_major": 2,
       "version_minor": 0,
       "model_id": "bc130799d06a4ae7b4031c43bcaabcca"
      }
     },
     "metadata": {},
     "output_type": "display_data"
    },
    {
     "data": {
      "text/plain": [
       "first-order-median rho=0.0 sigma=0.8 (5/10):   0%|          | 0/51 [00:00<?, ?it/s]"
      ],
      "application/vnd.jupyter.widget-view+json": {
       "version_major": 2,
       "version_minor": 0,
       "model_id": "ea0867d756474879a8f0a615f0d9943f"
      }
     },
     "metadata": {},
     "output_type": "display_data"
    },
    {
     "data": {
      "text/plain": [
       "first-order-median rho=0.0 sigma=1.6 (5/10):   0%|          | 0/51 [00:00<?, ?it/s]"
      ],
      "application/vnd.jupyter.widget-view+json": {
       "version_major": 2,
       "version_minor": 0,
       "model_id": "f342c40f9a60442081c4641f6765652c"
      }
     },
     "metadata": {},
     "output_type": "display_data"
    },
    {
     "data": {
      "text/plain": [
       "first-order-median rho=0.0 sigma=3.2 (5/10):   0%|          | 0/51 [00:00<?, ?it/s]"
      ],
      "application/vnd.jupyter.widget-view+json": {
       "version_major": 2,
       "version_minor": 0,
       "model_id": "615f48a39fb748a18cb61ef35df83955"
      }
     },
     "metadata": {},
     "output_type": "display_data"
    },
    {
     "data": {
      "text/plain": [
       "first-order-median rho=0.25 sigma=0.1 (5/10):   0%|          | 0/51 [00:00<?, ?it/s]"
      ],
      "application/vnd.jupyter.widget-view+json": {
       "version_major": 2,
       "version_minor": 0,
       "model_id": "77bab7e0ba1840ab92fbd0eac3214e20"
      }
     },
     "metadata": {},
     "output_type": "display_data"
    },
    {
     "data": {
      "text/plain": [
       "first-order-median rho=0.25 sigma=0.2 (5/10):   0%|          | 0/51 [00:00<?, ?it/s]"
      ],
      "application/vnd.jupyter.widget-view+json": {
       "version_major": 2,
       "version_minor": 0,
       "model_id": "4bf95623dc64423088618c18c682054c"
      }
     },
     "metadata": {},
     "output_type": "display_data"
    },
    {
     "data": {
      "text/plain": [
       "first-order-median rho=0.25 sigma=0.4 (5/10):   0%|          | 0/51 [00:00<?, ?it/s]"
      ],
      "application/vnd.jupyter.widget-view+json": {
       "version_major": 2,
       "version_minor": 0,
       "model_id": "e6bc408f31564f59b91b5cddea876aae"
      }
     },
     "metadata": {},
     "output_type": "display_data"
    },
    {
     "data": {
      "text/plain": [
       "first-order-median rho=0.25 sigma=0.8 (5/10):   0%|          | 0/51 [00:00<?, ?it/s]"
      ],
      "application/vnd.jupyter.widget-view+json": {
       "version_major": 2,
       "version_minor": 0,
       "model_id": "4363871c1d6149c1bd2806688868e42b"
      }
     },
     "metadata": {},
     "output_type": "display_data"
    },
    {
     "data": {
      "text/plain": [
       "first-order-median rho=0.25 sigma=1.6 (5/10):   0%|          | 0/51 [00:00<?, ?it/s]"
      ],
      "application/vnd.jupyter.widget-view+json": {
       "version_major": 2,
       "version_minor": 0,
       "model_id": "8e2f828037d84cc4a7b6a5ae1ae5eb8b"
      }
     },
     "metadata": {},
     "output_type": "display_data"
    },
    {
     "data": {
      "text/plain": [
       "first-order-median rho=0.25 sigma=3.2 (5/10):   0%|          | 0/51 [00:00<?, ?it/s]"
      ],
      "application/vnd.jupyter.widget-view+json": {
       "version_major": 2,
       "version_minor": 0,
       "model_id": "f4302a24a63d434381db96f51f2c4295"
      }
     },
     "metadata": {},
     "output_type": "display_data"
    },
    {
     "data": {
      "text/plain": [
       "first-order-median rho=0.5 sigma=0.1 (5/10):   0%|          | 0/51 [00:00<?, ?it/s]"
      ],
      "application/vnd.jupyter.widget-view+json": {
       "version_major": 2,
       "version_minor": 0,
       "model_id": "fd338cfa60664ae2b4d1661513cbf06d"
      }
     },
     "metadata": {},
     "output_type": "display_data"
    },
    {
     "data": {
      "text/plain": [
       "first-order-median rho=0.5 sigma=0.2 (5/10):   0%|          | 0/51 [00:00<?, ?it/s]"
      ],
      "application/vnd.jupyter.widget-view+json": {
       "version_major": 2,
       "version_minor": 0,
       "model_id": "aebdb190c9b94dfa82db61918bcb607d"
      }
     },
     "metadata": {},
     "output_type": "display_data"
    },
    {
     "data": {
      "text/plain": [
       "first-order-median rho=0.5 sigma=0.4 (5/10):   0%|          | 0/51 [00:00<?, ?it/s]"
      ],
      "application/vnd.jupyter.widget-view+json": {
       "version_major": 2,
       "version_minor": 0,
       "model_id": "eff85969a4b2433ca2e47eb893d5314b"
      }
     },
     "metadata": {},
     "output_type": "display_data"
    },
    {
     "data": {
      "text/plain": [
       "first-order-median rho=0.5 sigma=0.8 (5/10):   0%|          | 0/51 [00:00<?, ?it/s]"
      ],
      "application/vnd.jupyter.widget-view+json": {
       "version_major": 2,
       "version_minor": 0,
       "model_id": "5359680ab5194bd7b24d0c4ae75d8366"
      }
     },
     "metadata": {},
     "output_type": "display_data"
    },
    {
     "data": {
      "text/plain": [
       "first-order-median rho=0.5 sigma=1.6 (5/10):   0%|          | 0/51 [00:00<?, ?it/s]"
      ],
      "application/vnd.jupyter.widget-view+json": {
       "version_major": 2,
       "version_minor": 0,
       "model_id": "f32debe1dee74ab8944376fb46f54b06"
      }
     },
     "metadata": {},
     "output_type": "display_data"
    },
    {
     "data": {
      "text/plain": [
       "first-order-median rho=0.5 sigma=3.2 (5/10):   0%|          | 0/51 [00:00<?, ?it/s]"
      ],
      "application/vnd.jupyter.widget-view+json": {
       "version_major": 2,
       "version_minor": 0,
       "model_id": "3506004422e542f0ae4409d3c424d835"
      }
     },
     "metadata": {},
     "output_type": "display_data"
    },
    {
     "data": {
      "text/plain": [
       "first-order-median rho=0.0 sigma=0.1 (6/10):   0%|          | 0/51 [00:00<?, ?it/s]"
      ],
      "application/vnd.jupyter.widget-view+json": {
       "version_major": 2,
       "version_minor": 0,
       "model_id": "8aadf6a0997745aa8ebc6e1ad36f20fa"
      }
     },
     "metadata": {},
     "output_type": "display_data"
    },
    {
     "data": {
      "text/plain": [
       "first-order-median rho=0.0 sigma=0.2 (6/10):   0%|          | 0/51 [00:00<?, ?it/s]"
      ],
      "application/vnd.jupyter.widget-view+json": {
       "version_major": 2,
       "version_minor": 0,
       "model_id": "c7f1de6ada324bfdb29a3ef325430ba9"
      }
     },
     "metadata": {},
     "output_type": "display_data"
    },
    {
     "data": {
      "text/plain": [
       "first-order-median rho=0.0 sigma=0.4 (6/10):   0%|          | 0/51 [00:00<?, ?it/s]"
      ],
      "application/vnd.jupyter.widget-view+json": {
       "version_major": 2,
       "version_minor": 0,
       "model_id": "6686d43e4c4a4b82bc554ea7d631e730"
      }
     },
     "metadata": {},
     "output_type": "display_data"
    },
    {
     "data": {
      "text/plain": [
       "first-order-median rho=0.0 sigma=0.8 (6/10):   0%|          | 0/51 [00:00<?, ?it/s]"
      ],
      "application/vnd.jupyter.widget-view+json": {
       "version_major": 2,
       "version_minor": 0,
       "model_id": "d79a3ce2038d420a8e1495ed3c34da62"
      }
     },
     "metadata": {},
     "output_type": "display_data"
    },
    {
     "data": {
      "text/plain": [
       "first-order-median rho=0.0 sigma=1.6 (6/10):   0%|          | 0/51 [00:00<?, ?it/s]"
      ],
      "application/vnd.jupyter.widget-view+json": {
       "version_major": 2,
       "version_minor": 0,
       "model_id": "7716a902d3dd4f359a80e316318e55af"
      }
     },
     "metadata": {},
     "output_type": "display_data"
    },
    {
     "data": {
      "text/plain": [
       "first-order-median rho=0.0 sigma=3.2 (6/10):   0%|          | 0/51 [00:00<?, ?it/s]"
      ],
      "application/vnd.jupyter.widget-view+json": {
       "version_major": 2,
       "version_minor": 0,
       "model_id": "aefb76db5cf94ae98584853465c7b7ba"
      }
     },
     "metadata": {},
     "output_type": "display_data"
    },
    {
     "data": {
      "text/plain": [
       "first-order-median rho=0.25 sigma=0.1 (6/10):   0%|          | 0/51 [00:00<?, ?it/s]"
      ],
      "application/vnd.jupyter.widget-view+json": {
       "version_major": 2,
       "version_minor": 0,
       "model_id": "3d610762bf1e4e3fad25b4ce686f0cbc"
      }
     },
     "metadata": {},
     "output_type": "display_data"
    },
    {
     "data": {
      "text/plain": [
       "first-order-median rho=0.25 sigma=0.2 (6/10):   0%|          | 0/51 [00:00<?, ?it/s]"
      ],
      "application/vnd.jupyter.widget-view+json": {
       "version_major": 2,
       "version_minor": 0,
       "model_id": "314aadf1266a4d698316e540940eaa7f"
      }
     },
     "metadata": {},
     "output_type": "display_data"
    },
    {
     "data": {
      "text/plain": [
       "first-order-median rho=0.25 sigma=0.4 (6/10):   0%|          | 0/51 [00:00<?, ?it/s]"
      ],
      "application/vnd.jupyter.widget-view+json": {
       "version_major": 2,
       "version_minor": 0,
       "model_id": "fcef3605902c46c88d27a58d4e4ecd00"
      }
     },
     "metadata": {},
     "output_type": "display_data"
    },
    {
     "data": {
      "text/plain": [
       "first-order-median rho=0.25 sigma=0.8 (6/10):   0%|          | 0/51 [00:00<?, ?it/s]"
      ],
      "application/vnd.jupyter.widget-view+json": {
       "version_major": 2,
       "version_minor": 0,
       "model_id": "9b2ea2139fb7440e82b35ae9298c4d91"
      }
     },
     "metadata": {},
     "output_type": "display_data"
    },
    {
     "data": {
      "text/plain": [
       "first-order-median rho=0.25 sigma=1.6 (6/10):   0%|          | 0/51 [00:00<?, ?it/s]"
      ],
      "application/vnd.jupyter.widget-view+json": {
       "version_major": 2,
       "version_minor": 0,
       "model_id": "5cb7c11743044ef68ae96b73458fad62"
      }
     },
     "metadata": {},
     "output_type": "display_data"
    },
    {
     "data": {
      "text/plain": [
       "first-order-median rho=0.25 sigma=3.2 (6/10):   0%|          | 0/51 [00:00<?, ?it/s]"
      ],
      "application/vnd.jupyter.widget-view+json": {
       "version_major": 2,
       "version_minor": 0,
       "model_id": "fa0c84df470645a6baed7806822f9f49"
      }
     },
     "metadata": {},
     "output_type": "display_data"
    },
    {
     "data": {
      "text/plain": [
       "first-order-median rho=0.5 sigma=0.1 (6/10):   0%|          | 0/51 [00:00<?, ?it/s]"
      ],
      "application/vnd.jupyter.widget-view+json": {
       "version_major": 2,
       "version_minor": 0,
       "model_id": "fb7166f5d0b54dbcb6cd97b8f66d5017"
      }
     },
     "metadata": {},
     "output_type": "display_data"
    },
    {
     "data": {
      "text/plain": [
       "first-order-median rho=0.5 sigma=0.2 (6/10):   0%|          | 0/51 [00:00<?, ?it/s]"
      ],
      "application/vnd.jupyter.widget-view+json": {
       "version_major": 2,
       "version_minor": 0,
       "model_id": "bd03412b99e3475e80f1dc266ed7f492"
      }
     },
     "metadata": {},
     "output_type": "display_data"
    },
    {
     "data": {
      "text/plain": [
       "first-order-median rho=0.5 sigma=0.4 (6/10):   0%|          | 0/51 [00:00<?, ?it/s]"
      ],
      "application/vnd.jupyter.widget-view+json": {
       "version_major": 2,
       "version_minor": 0,
       "model_id": "f56230c241304e7eb77352f5b9216185"
      }
     },
     "metadata": {},
     "output_type": "display_data"
    },
    {
     "data": {
      "text/plain": [
       "first-order-median rho=0.5 sigma=0.8 (6/10):   0%|          | 0/51 [00:00<?, ?it/s]"
      ],
      "application/vnd.jupyter.widget-view+json": {
       "version_major": 2,
       "version_minor": 0,
       "model_id": "358f8f1b5eab49899e57bbd290a6eade"
      }
     },
     "metadata": {},
     "output_type": "display_data"
    },
    {
     "data": {
      "text/plain": [
       "first-order-median rho=0.5 sigma=1.6 (6/10):   0%|          | 0/51 [00:00<?, ?it/s]"
      ],
      "application/vnd.jupyter.widget-view+json": {
       "version_major": 2,
       "version_minor": 0,
       "model_id": "389c98a4365c432b95957c5dbdb0eaca"
      }
     },
     "metadata": {},
     "output_type": "display_data"
    },
    {
     "data": {
      "text/plain": [
       "first-order-median rho=0.5 sigma=3.2 (6/10):   0%|          | 0/51 [00:00<?, ?it/s]"
      ],
      "application/vnd.jupyter.widget-view+json": {
       "version_major": 2,
       "version_minor": 0,
       "model_id": "eb3fdae5226040148506d425dd4fa32f"
      }
     },
     "metadata": {},
     "output_type": "display_data"
    },
    {
     "data": {
      "text/plain": [
       "first-order-median rho=0.0 sigma=0.1 (7/10):   0%|          | 0/51 [00:00<?, ?it/s]"
      ],
      "application/vnd.jupyter.widget-view+json": {
       "version_major": 2,
       "version_minor": 0,
       "model_id": "d42aa75df365406b88d6ccebf3eecbaa"
      }
     },
     "metadata": {},
     "output_type": "display_data"
    },
    {
     "data": {
      "text/plain": [
       "first-order-median rho=0.0 sigma=0.2 (7/10):   0%|          | 0/51 [00:00<?, ?it/s]"
      ],
      "application/vnd.jupyter.widget-view+json": {
       "version_major": 2,
       "version_minor": 0,
       "model_id": "58f7a8e15acc4f0f93190ac1577bc3ac"
      }
     },
     "metadata": {},
     "output_type": "display_data"
    },
    {
     "data": {
      "text/plain": [
       "first-order-median rho=0.0 sigma=0.4 (7/10):   0%|          | 0/51 [00:00<?, ?it/s]"
      ],
      "application/vnd.jupyter.widget-view+json": {
       "version_major": 2,
       "version_minor": 0,
       "model_id": "46c69562ad9c48449a561c2b5c070b46"
      }
     },
     "metadata": {},
     "output_type": "display_data"
    },
    {
     "data": {
      "text/plain": [
       "first-order-median rho=0.0 sigma=0.8 (7/10):   0%|          | 0/51 [00:00<?, ?it/s]"
      ],
      "application/vnd.jupyter.widget-view+json": {
       "version_major": 2,
       "version_minor": 0,
       "model_id": "f83b4a2d7d4745d48a6c4bc862f794ef"
      }
     },
     "metadata": {},
     "output_type": "display_data"
    },
    {
     "data": {
      "text/plain": [
       "first-order-median rho=0.0 sigma=1.6 (7/10):   0%|          | 0/51 [00:00<?, ?it/s]"
      ],
      "application/vnd.jupyter.widget-view+json": {
       "version_major": 2,
       "version_minor": 0,
       "model_id": "f6b1e305eba04f2a8319dd0e8bc38dbd"
      }
     },
     "metadata": {},
     "output_type": "display_data"
    },
    {
     "data": {
      "text/plain": [
       "first-order-median rho=0.0 sigma=3.2 (7/10):   0%|          | 0/51 [00:00<?, ?it/s]"
      ],
      "application/vnd.jupyter.widget-view+json": {
       "version_major": 2,
       "version_minor": 0,
       "model_id": "7a1fe9892bd542899d38c17e26a25a6f"
      }
     },
     "metadata": {},
     "output_type": "display_data"
    },
    {
     "data": {
      "text/plain": [
       "first-order-median rho=0.25 sigma=0.1 (7/10):   0%|          | 0/51 [00:00<?, ?it/s]"
      ],
      "application/vnd.jupyter.widget-view+json": {
       "version_major": 2,
       "version_minor": 0,
       "model_id": "cc5972c3adf54f8a847561ea361ce453"
      }
     },
     "metadata": {},
     "output_type": "display_data"
    },
    {
     "data": {
      "text/plain": [
       "first-order-median rho=0.25 sigma=0.2 (7/10):   0%|          | 0/51 [00:00<?, ?it/s]"
      ],
      "application/vnd.jupyter.widget-view+json": {
       "version_major": 2,
       "version_minor": 0,
       "model_id": "8a29aee8be14461c85f5a0e9dbfdaebe"
      }
     },
     "metadata": {},
     "output_type": "display_data"
    },
    {
     "data": {
      "text/plain": [
       "first-order-median rho=0.25 sigma=0.4 (7/10):   0%|          | 0/51 [00:00<?, ?it/s]"
      ],
      "application/vnd.jupyter.widget-view+json": {
       "version_major": 2,
       "version_minor": 0,
       "model_id": "50d6b89f47464d3cb33b6fa2e817620c"
      }
     },
     "metadata": {},
     "output_type": "display_data"
    },
    {
     "data": {
      "text/plain": [
       "first-order-median rho=0.25 sigma=0.8 (7/10):   0%|          | 0/51 [00:00<?, ?it/s]"
      ],
      "application/vnd.jupyter.widget-view+json": {
       "version_major": 2,
       "version_minor": 0,
       "model_id": "d7d683c19cc84dd6bbde55c6a99e470e"
      }
     },
     "metadata": {},
     "output_type": "display_data"
    },
    {
     "data": {
      "text/plain": [
       "first-order-median rho=0.25 sigma=1.6 (7/10):   0%|          | 0/51 [00:00<?, ?it/s]"
      ],
      "application/vnd.jupyter.widget-view+json": {
       "version_major": 2,
       "version_minor": 0,
       "model_id": "770b60d578ab4a4c87cc8fafc8ee76ad"
      }
     },
     "metadata": {},
     "output_type": "display_data"
    },
    {
     "data": {
      "text/plain": [
       "first-order-median rho=0.25 sigma=3.2 (7/10):   0%|          | 0/51 [00:00<?, ?it/s]"
      ],
      "application/vnd.jupyter.widget-view+json": {
       "version_major": 2,
       "version_minor": 0,
       "model_id": "2bb87cabe0ef4cb0a3c0b9d966f28073"
      }
     },
     "metadata": {},
     "output_type": "display_data"
    },
    {
     "data": {
      "text/plain": [
       "first-order-median rho=0.5 sigma=0.1 (7/10):   0%|          | 0/51 [00:00<?, ?it/s]"
      ],
      "application/vnd.jupyter.widget-view+json": {
       "version_major": 2,
       "version_minor": 0,
       "model_id": "26e4bcd26cf24daaa7ace2c342a6a2ae"
      }
     },
     "metadata": {},
     "output_type": "display_data"
    },
    {
     "data": {
      "text/plain": [
       "first-order-median rho=0.5 sigma=0.2 (7/10):   0%|          | 0/51 [00:00<?, ?it/s]"
      ],
      "application/vnd.jupyter.widget-view+json": {
       "version_major": 2,
       "version_minor": 0,
       "model_id": "2ed3455b4628436a87628a9030d82f3b"
      }
     },
     "metadata": {},
     "output_type": "display_data"
    },
    {
     "data": {
      "text/plain": [
       "first-order-median rho=0.5 sigma=0.4 (7/10):   0%|          | 0/51 [00:00<?, ?it/s]"
      ],
      "application/vnd.jupyter.widget-view+json": {
       "version_major": 2,
       "version_minor": 0,
       "model_id": "781cef4f059940f3be649ab64bb42dda"
      }
     },
     "metadata": {},
     "output_type": "display_data"
    },
    {
     "data": {
      "text/plain": [
       "first-order-median rho=0.5 sigma=0.8 (7/10):   0%|          | 0/51 [00:00<?, ?it/s]"
      ],
      "application/vnd.jupyter.widget-view+json": {
       "version_major": 2,
       "version_minor": 0,
       "model_id": "02db0187b75a4a729f78babc144b8167"
      }
     },
     "metadata": {},
     "output_type": "display_data"
    },
    {
     "data": {
      "text/plain": [
       "first-order-median rho=0.5 sigma=1.6 (7/10):   0%|          | 0/51 [00:00<?, ?it/s]"
      ],
      "application/vnd.jupyter.widget-view+json": {
       "version_major": 2,
       "version_minor": 0,
       "model_id": "e3133947c207489aac9e4e36a5253522"
      }
     },
     "metadata": {},
     "output_type": "display_data"
    },
    {
     "data": {
      "text/plain": [
       "first-order-median rho=0.5 sigma=3.2 (7/10):   0%|          | 0/51 [00:00<?, ?it/s]"
      ],
      "application/vnd.jupyter.widget-view+json": {
       "version_major": 2,
       "version_minor": 0,
       "model_id": "e6840b61956345aabd1ac094189d3491"
      }
     },
     "metadata": {},
     "output_type": "display_data"
    },
    {
     "data": {
      "text/plain": [
       "first-order-median rho=0.0 sigma=0.1 (8/10):   0%|          | 0/51 [00:00<?, ?it/s]"
      ],
      "application/vnd.jupyter.widget-view+json": {
       "version_major": 2,
       "version_minor": 0,
       "model_id": "fedf0a34166e41ed8955121d7bf5eea5"
      }
     },
     "metadata": {},
     "output_type": "display_data"
    },
    {
     "data": {
      "text/plain": [
       "first-order-median rho=0.0 sigma=0.2 (8/10):   0%|          | 0/51 [00:00<?, ?it/s]"
      ],
      "application/vnd.jupyter.widget-view+json": {
       "version_major": 2,
       "version_minor": 0,
       "model_id": "0be79568b7cd4e3e9b69cc10b01de568"
      }
     },
     "metadata": {},
     "output_type": "display_data"
    },
    {
     "data": {
      "text/plain": [
       "first-order-median rho=0.0 sigma=0.4 (8/10):   0%|          | 0/51 [00:00<?, ?it/s]"
      ],
      "application/vnd.jupyter.widget-view+json": {
       "version_major": 2,
       "version_minor": 0,
       "model_id": "70638da2066d42949a7a6d829bb26a25"
      }
     },
     "metadata": {},
     "output_type": "display_data"
    },
    {
     "data": {
      "text/plain": [
       "first-order-median rho=0.0 sigma=0.8 (8/10):   0%|          | 0/51 [00:00<?, ?it/s]"
      ],
      "application/vnd.jupyter.widget-view+json": {
       "version_major": 2,
       "version_minor": 0,
       "model_id": "71648d20fe794de6bbfabf618b1e8042"
      }
     },
     "metadata": {},
     "output_type": "display_data"
    },
    {
     "data": {
      "text/plain": [
       "first-order-median rho=0.0 sigma=1.6 (8/10):   0%|          | 0/51 [00:00<?, ?it/s]"
      ],
      "application/vnd.jupyter.widget-view+json": {
       "version_major": 2,
       "version_minor": 0,
       "model_id": "38404b779eb54918bbc54d7b675ceff5"
      }
     },
     "metadata": {},
     "output_type": "display_data"
    },
    {
     "data": {
      "text/plain": [
       "first-order-median rho=0.0 sigma=3.2 (8/10):   0%|          | 0/51 [00:00<?, ?it/s]"
      ],
      "application/vnd.jupyter.widget-view+json": {
       "version_major": 2,
       "version_minor": 0,
       "model_id": "e1fbd1a9e66c4d789f29206abb839871"
      }
     },
     "metadata": {},
     "output_type": "display_data"
    },
    {
     "data": {
      "text/plain": [
       "first-order-median rho=0.25 sigma=0.1 (8/10):   0%|          | 0/51 [00:00<?, ?it/s]"
      ],
      "application/vnd.jupyter.widget-view+json": {
       "version_major": 2,
       "version_minor": 0,
       "model_id": "8f9753629ae8484f9c5b88d3b31bb104"
      }
     },
     "metadata": {},
     "output_type": "display_data"
    },
    {
     "data": {
      "text/plain": [
       "first-order-median rho=0.25 sigma=0.2 (8/10):   0%|          | 0/51 [00:00<?, ?it/s]"
      ],
      "application/vnd.jupyter.widget-view+json": {
       "version_major": 2,
       "version_minor": 0,
       "model_id": "6c390abf358341fb8db54325d428ef98"
      }
     },
     "metadata": {},
     "output_type": "display_data"
    },
    {
     "data": {
      "text/plain": [
       "first-order-median rho=0.25 sigma=0.4 (8/10):   0%|          | 0/51 [00:00<?, ?it/s]"
      ],
      "application/vnd.jupyter.widget-view+json": {
       "version_major": 2,
       "version_minor": 0,
       "model_id": "9f1f753d85c74a38b684895b242b8a66"
      }
     },
     "metadata": {},
     "output_type": "display_data"
    },
    {
     "data": {
      "text/plain": [
       "first-order-median rho=0.25 sigma=0.8 (8/10):   0%|          | 0/51 [00:00<?, ?it/s]"
      ],
      "application/vnd.jupyter.widget-view+json": {
       "version_major": 2,
       "version_minor": 0,
       "model_id": "d84cdf921b884dbf90f4afd75f6bf3bc"
      }
     },
     "metadata": {},
     "output_type": "display_data"
    },
    {
     "data": {
      "text/plain": [
       "first-order-median rho=0.25 sigma=1.6 (8/10):   0%|          | 0/51 [00:00<?, ?it/s]"
      ],
      "application/vnd.jupyter.widget-view+json": {
       "version_major": 2,
       "version_minor": 0,
       "model_id": "c4b232f6d0c64a258c32d88bc2563aa2"
      }
     },
     "metadata": {},
     "output_type": "display_data"
    },
    {
     "data": {
      "text/plain": [
       "first-order-median rho=0.25 sigma=3.2 (8/10):   0%|          | 0/51 [00:00<?, ?it/s]"
      ],
      "application/vnd.jupyter.widget-view+json": {
       "version_major": 2,
       "version_minor": 0,
       "model_id": "d804209bdc334e248737da4a183ffe66"
      }
     },
     "metadata": {},
     "output_type": "display_data"
    },
    {
     "data": {
      "text/plain": [
       "first-order-median rho=0.5 sigma=0.1 (8/10):   0%|          | 0/51 [00:00<?, ?it/s]"
      ],
      "application/vnd.jupyter.widget-view+json": {
       "version_major": 2,
       "version_minor": 0,
       "model_id": "8adc58caefa547b2a01d1199efff05aa"
      }
     },
     "metadata": {},
     "output_type": "display_data"
    },
    {
     "data": {
      "text/plain": [
       "first-order-median rho=0.5 sigma=0.2 (8/10):   0%|          | 0/51 [00:00<?, ?it/s]"
      ],
      "application/vnd.jupyter.widget-view+json": {
       "version_major": 2,
       "version_minor": 0,
       "model_id": "f19b5869a15a4caa98dd09d9d1eaa801"
      }
     },
     "metadata": {},
     "output_type": "display_data"
    },
    {
     "data": {
      "text/plain": [
       "first-order-median rho=0.5 sigma=0.4 (8/10):   0%|          | 0/51 [00:00<?, ?it/s]"
      ],
      "application/vnd.jupyter.widget-view+json": {
       "version_major": 2,
       "version_minor": 0,
       "model_id": "3740d7db82eb40c182f2e63baa4ac506"
      }
     },
     "metadata": {},
     "output_type": "display_data"
    },
    {
     "data": {
      "text/plain": [
       "first-order-median rho=0.5 sigma=0.8 (8/10):   0%|          | 0/51 [00:00<?, ?it/s]"
      ],
      "application/vnd.jupyter.widget-view+json": {
       "version_major": 2,
       "version_minor": 0,
       "model_id": "58d740f6560141b38f49a1356b48d212"
      }
     },
     "metadata": {},
     "output_type": "display_data"
    },
    {
     "data": {
      "text/plain": [
       "first-order-median rho=0.5 sigma=1.6 (8/10):   0%|          | 0/51 [00:00<?, ?it/s]"
      ],
      "application/vnd.jupyter.widget-view+json": {
       "version_major": 2,
       "version_minor": 0,
       "model_id": "60e7dbf73bd44f329321965b0155ea8c"
      }
     },
     "metadata": {},
     "output_type": "display_data"
    },
    {
     "data": {
      "text/plain": [
       "first-order-median rho=0.5 sigma=3.2 (8/10):   0%|          | 0/51 [00:00<?, ?it/s]"
      ],
      "application/vnd.jupyter.widget-view+json": {
       "version_major": 2,
       "version_minor": 0,
       "model_id": "7c826474bb504d01abe639585eb817dd"
      }
     },
     "metadata": {},
     "output_type": "display_data"
    },
    {
     "data": {
      "text/plain": [
       "first-order-median rho=0.0 sigma=0.1 (9/10):   0%|          | 0/51 [00:00<?, ?it/s]"
      ],
      "application/vnd.jupyter.widget-view+json": {
       "version_major": 2,
       "version_minor": 0,
       "model_id": "ec17fd3e003c46a78f75fe434786f669"
      }
     },
     "metadata": {},
     "output_type": "display_data"
    },
    {
     "data": {
      "text/plain": [
       "first-order-median rho=0.0 sigma=0.2 (9/10):   0%|          | 0/51 [00:00<?, ?it/s]"
      ],
      "application/vnd.jupyter.widget-view+json": {
       "version_major": 2,
       "version_minor": 0,
       "model_id": "b956cf582fb741ad96160c71a12767e6"
      }
     },
     "metadata": {},
     "output_type": "display_data"
    },
    {
     "data": {
      "text/plain": [
       "first-order-median rho=0.0 sigma=0.4 (9/10):   0%|          | 0/51 [00:00<?, ?it/s]"
      ],
      "application/vnd.jupyter.widget-view+json": {
       "version_major": 2,
       "version_minor": 0,
       "model_id": "7a774468fddb44b7b92b4b356243e944"
      }
     },
     "metadata": {},
     "output_type": "display_data"
    },
    {
     "data": {
      "text/plain": [
       "first-order-median rho=0.0 sigma=0.8 (9/10):   0%|          | 0/51 [00:00<?, ?it/s]"
      ],
      "application/vnd.jupyter.widget-view+json": {
       "version_major": 2,
       "version_minor": 0,
       "model_id": "846bf8ce2edf44a8879070a5faead8cf"
      }
     },
     "metadata": {},
     "output_type": "display_data"
    },
    {
     "data": {
      "text/plain": [
       "first-order-median rho=0.0 sigma=1.6 (9/10):   0%|          | 0/51 [00:00<?, ?it/s]"
      ],
      "application/vnd.jupyter.widget-view+json": {
       "version_major": 2,
       "version_minor": 0,
       "model_id": "eabacad57b2248379c531d275791ac8e"
      }
     },
     "metadata": {},
     "output_type": "display_data"
    },
    {
     "data": {
      "text/plain": [
       "first-order-median rho=0.0 sigma=3.2 (9/10):   0%|          | 0/51 [00:00<?, ?it/s]"
      ],
      "application/vnd.jupyter.widget-view+json": {
       "version_major": 2,
       "version_minor": 0,
       "model_id": "a1dd6012cb994a188de3b3647d66e548"
      }
     },
     "metadata": {},
     "output_type": "display_data"
    },
    {
     "data": {
      "text/plain": [
       "first-order-median rho=0.25 sigma=0.1 (9/10):   0%|          | 0/51 [00:00<?, ?it/s]"
      ],
      "application/vnd.jupyter.widget-view+json": {
       "version_major": 2,
       "version_minor": 0,
       "model_id": "f8109c59cb7b49a091a420a9d51f8fcb"
      }
     },
     "metadata": {},
     "output_type": "display_data"
    },
    {
     "data": {
      "text/plain": [
       "first-order-median rho=0.25 sigma=0.2 (9/10):   0%|          | 0/51 [00:00<?, ?it/s]"
      ],
      "application/vnd.jupyter.widget-view+json": {
       "version_major": 2,
       "version_minor": 0,
       "model_id": "f123f9099dbf4854982635062a217cdf"
      }
     },
     "metadata": {},
     "output_type": "display_data"
    },
    {
     "data": {
      "text/plain": [
       "first-order-median rho=0.25 sigma=0.4 (9/10):   0%|          | 0/51 [00:00<?, ?it/s]"
      ],
      "application/vnd.jupyter.widget-view+json": {
       "version_major": 2,
       "version_minor": 0,
       "model_id": "c6d8ef61a92f4cf592cfdb32d00297e7"
      }
     },
     "metadata": {},
     "output_type": "display_data"
    },
    {
     "data": {
      "text/plain": [
       "first-order-median rho=0.25 sigma=0.8 (9/10):   0%|          | 0/51 [00:00<?, ?it/s]"
      ],
      "application/vnd.jupyter.widget-view+json": {
       "version_major": 2,
       "version_minor": 0,
       "model_id": "4639b22c125642148c46c583a4b6abee"
      }
     },
     "metadata": {},
     "output_type": "display_data"
    },
    {
     "data": {
      "text/plain": [
       "first-order-median rho=0.25 sigma=1.6 (9/10):   0%|          | 0/51 [00:00<?, ?it/s]"
      ],
      "application/vnd.jupyter.widget-view+json": {
       "version_major": 2,
       "version_minor": 0,
       "model_id": "7c7aaa1ec2d04881b46a0506258d7ee6"
      }
     },
     "metadata": {},
     "output_type": "display_data"
    },
    {
     "data": {
      "text/plain": [
       "first-order-median rho=0.25 sigma=3.2 (9/10):   0%|          | 0/51 [00:00<?, ?it/s]"
      ],
      "application/vnd.jupyter.widget-view+json": {
       "version_major": 2,
       "version_minor": 0,
       "model_id": "15fc1c4959a84c5ea0020c0938a9c5d6"
      }
     },
     "metadata": {},
     "output_type": "display_data"
    },
    {
     "data": {
      "text/plain": [
       "first-order-median rho=0.5 sigma=0.1 (9/10):   0%|          | 0/51 [00:00<?, ?it/s]"
      ],
      "application/vnd.jupyter.widget-view+json": {
       "version_major": 2,
       "version_minor": 0,
       "model_id": "76cbf455c3d04f9bbd31e6d0ad84c52a"
      }
     },
     "metadata": {},
     "output_type": "display_data"
    },
    {
     "data": {
      "text/plain": [
       "first-order-median rho=0.5 sigma=0.2 (9/10):   0%|          | 0/51 [00:00<?, ?it/s]"
      ],
      "application/vnd.jupyter.widget-view+json": {
       "version_major": 2,
       "version_minor": 0,
       "model_id": "471ebccc665b47009b8c8d55268c1447"
      }
     },
     "metadata": {},
     "output_type": "display_data"
    },
    {
     "data": {
      "text/plain": [
       "first-order-median rho=0.5 sigma=0.4 (9/10):   0%|          | 0/51 [00:00<?, ?it/s]"
      ],
      "application/vnd.jupyter.widget-view+json": {
       "version_major": 2,
       "version_minor": 0,
       "model_id": "f607e9508c38405b84a73e7ffe722d45"
      }
     },
     "metadata": {},
     "output_type": "display_data"
    },
    {
     "data": {
      "text/plain": [
       "first-order-median rho=0.5 sigma=0.8 (9/10):   0%|          | 0/51 [00:00<?, ?it/s]"
      ],
      "application/vnd.jupyter.widget-view+json": {
       "version_major": 2,
       "version_minor": 0,
       "model_id": "0172cb00ed8240bcb278734075bc14c9"
      }
     },
     "metadata": {},
     "output_type": "display_data"
    },
    {
     "data": {
      "text/plain": [
       "first-order-median rho=0.5 sigma=1.6 (9/10):   0%|          | 0/51 [00:00<?, ?it/s]"
      ],
      "application/vnd.jupyter.widget-view+json": {
       "version_major": 2,
       "version_minor": 0,
       "model_id": "eed12800a522413bbade692b7821d912"
      }
     },
     "metadata": {},
     "output_type": "display_data"
    },
    {
     "data": {
      "text/plain": [
       "first-order-median rho=0.5 sigma=3.2 (9/10):   0%|          | 0/51 [00:00<?, ?it/s]"
      ],
      "application/vnd.jupyter.widget-view+json": {
       "version_major": 2,
       "version_minor": 0,
       "model_id": "37516d66935043ff9dd861082cdcdb3c"
      }
     },
     "metadata": {},
     "output_type": "display_data"
    },
    {
     "data": {
      "text/plain": [
       "first-order-median rho=0.0 sigma=0.1 (10/10):   0%|          | 0/51 [00:00<?, ?it/s]"
      ],
      "application/vnd.jupyter.widget-view+json": {
       "version_major": 2,
       "version_minor": 0,
       "model_id": "8b9b0722ce2b48a5a8d45d625bb93882"
      }
     },
     "metadata": {},
     "output_type": "display_data"
    },
    {
     "data": {
      "text/plain": [
       "first-order-median rho=0.0 sigma=0.2 (10/10):   0%|          | 0/51 [00:00<?, ?it/s]"
      ],
      "application/vnd.jupyter.widget-view+json": {
       "version_major": 2,
       "version_minor": 0,
       "model_id": "d987c39a5bd54a3c94ca743ec237a21f"
      }
     },
     "metadata": {},
     "output_type": "display_data"
    },
    {
     "data": {
      "text/plain": [
       "first-order-median rho=0.0 sigma=0.4 (10/10):   0%|          | 0/51 [00:00<?, ?it/s]"
      ],
      "application/vnd.jupyter.widget-view+json": {
       "version_major": 2,
       "version_minor": 0,
       "model_id": "2c0e710a34eb44718e9f2f5741c417e2"
      }
     },
     "metadata": {},
     "output_type": "display_data"
    },
    {
     "data": {
      "text/plain": [
       "first-order-median rho=0.0 sigma=0.8 (10/10):   0%|          | 0/51 [00:00<?, ?it/s]"
      ],
      "application/vnd.jupyter.widget-view+json": {
       "version_major": 2,
       "version_minor": 0,
       "model_id": "242e02c292e24587a67c23c5d2484501"
      }
     },
     "metadata": {},
     "output_type": "display_data"
    },
    {
     "data": {
      "text/plain": [
       "first-order-median rho=0.0 sigma=1.6 (10/10):   0%|          | 0/51 [00:00<?, ?it/s]"
      ],
      "application/vnd.jupyter.widget-view+json": {
       "version_major": 2,
       "version_minor": 0,
       "model_id": "260ecf959cec45eeb603f043034ee2af"
      }
     },
     "metadata": {},
     "output_type": "display_data"
    },
    {
     "data": {
      "text/plain": [
       "first-order-median rho=0.0 sigma=3.2 (10/10):   0%|          | 0/51 [00:00<?, ?it/s]"
      ],
      "application/vnd.jupyter.widget-view+json": {
       "version_major": 2,
       "version_minor": 0,
       "model_id": "e622680f3dab4311a6eec7e27a182584"
      }
     },
     "metadata": {},
     "output_type": "display_data"
    },
    {
     "data": {
      "text/plain": [
       "first-order-median rho=0.25 sigma=0.1 (10/10):   0%|          | 0/51 [00:00<?, ?it/s]"
      ],
      "application/vnd.jupyter.widget-view+json": {
       "version_major": 2,
       "version_minor": 0,
       "model_id": "06a155a8d40740b5a7cfc83acc139395"
      }
     },
     "metadata": {},
     "output_type": "display_data"
    },
    {
     "data": {
      "text/plain": [
       "first-order-median rho=0.25 sigma=0.2 (10/10):   0%|          | 0/51 [00:00<?, ?it/s]"
      ],
      "application/vnd.jupyter.widget-view+json": {
       "version_major": 2,
       "version_minor": 0,
       "model_id": "28abd23adc8142488f0aa5c793555ea6"
      }
     },
     "metadata": {},
     "output_type": "display_data"
    },
    {
     "data": {
      "text/plain": [
       "first-order-median rho=0.25 sigma=0.4 (10/10):   0%|          | 0/51 [00:00<?, ?it/s]"
      ],
      "application/vnd.jupyter.widget-view+json": {
       "version_major": 2,
       "version_minor": 0,
       "model_id": "1bb3cc82b1144adf9aeb6bf3b180a491"
      }
     },
     "metadata": {},
     "output_type": "display_data"
    },
    {
     "data": {
      "text/plain": [
       "first-order-median rho=0.25 sigma=0.8 (10/10):   0%|          | 0/51 [00:00<?, ?it/s]"
      ],
      "application/vnd.jupyter.widget-view+json": {
       "version_major": 2,
       "version_minor": 0,
       "model_id": "33ce14a9eb7c4f98a9c2083a9302642f"
      }
     },
     "metadata": {},
     "output_type": "display_data"
    },
    {
     "data": {
      "text/plain": [
       "first-order-median rho=0.25 sigma=1.6 (10/10):   0%|          | 0/51 [00:00<?, ?it/s]"
      ],
      "application/vnd.jupyter.widget-view+json": {
       "version_major": 2,
       "version_minor": 0,
       "model_id": "de51809ab08042138d96fb775bcc4a4b"
      }
     },
     "metadata": {},
     "output_type": "display_data"
    },
    {
     "data": {
      "text/plain": [
       "first-order-median rho=0.25 sigma=3.2 (10/10):   0%|          | 0/51 [00:00<?, ?it/s]"
      ],
      "application/vnd.jupyter.widget-view+json": {
       "version_major": 2,
       "version_minor": 0,
       "model_id": "dca864fdf88f4d4191e42bcf1dda0879"
      }
     },
     "metadata": {},
     "output_type": "display_data"
    },
    {
     "data": {
      "text/plain": [
       "first-order-median rho=0.5 sigma=0.1 (10/10):   0%|          | 0/51 [00:00<?, ?it/s]"
      ],
      "application/vnd.jupyter.widget-view+json": {
       "version_major": 2,
       "version_minor": 0,
       "model_id": "93623aa4f35c4243ba289f5d73459ece"
      }
     },
     "metadata": {},
     "output_type": "display_data"
    },
    {
     "data": {
      "text/plain": [
       "first-order-median rho=0.5 sigma=0.2 (10/10):   0%|          | 0/51 [00:00<?, ?it/s]"
      ],
      "application/vnd.jupyter.widget-view+json": {
       "version_major": 2,
       "version_minor": 0,
       "model_id": "fa03de7d42604784a88e8654e9155774"
      }
     },
     "metadata": {},
     "output_type": "display_data"
    },
    {
     "data": {
      "text/plain": [
       "first-order-median rho=0.5 sigma=0.4 (10/10):   0%|          | 0/51 [00:00<?, ?it/s]"
      ],
      "application/vnd.jupyter.widget-view+json": {
       "version_major": 2,
       "version_minor": 0,
       "model_id": "9a96f0a6a9824b36b917bd2a20d74ef7"
      }
     },
     "metadata": {},
     "output_type": "display_data"
    },
    {
     "data": {
      "text/plain": [
       "first-order-median rho=0.5 sigma=0.8 (10/10):   0%|          | 0/51 [00:00<?, ?it/s]"
      ],
      "application/vnd.jupyter.widget-view+json": {
       "version_major": 2,
       "version_minor": 0,
       "model_id": "8b59166c23c047948fb4ce7a6bbf6234"
      }
     },
     "metadata": {},
     "output_type": "display_data"
    },
    {
     "data": {
      "text/plain": [
       "first-order-median rho=0.5 sigma=1.6 (10/10):   0%|          | 0/51 [00:00<?, ?it/s]"
      ],
      "application/vnd.jupyter.widget-view+json": {
       "version_major": 2,
       "version_minor": 0,
       "model_id": "1732b4feaa5f45e7856e91873b809a49"
      }
     },
     "metadata": {},
     "output_type": "display_data"
    },
    {
     "data": {
      "text/plain": [
       "first-order-median rho=0.5 sigma=3.2 (10/10):   0%|          | 0/51 [00:00<?, ?it/s]"
      ],
      "application/vnd.jupyter.widget-view+json": {
       "version_major": 2,
       "version_minor": 0,
       "model_id": "181947fb20f74cd7a475eb2b6444ff18"
      }
     },
     "metadata": {},
     "output_type": "display_data"
    },
    {
     "data": {
      "text/plain": [
       "             last_frame_rtt  execution_time  step_duration  time_to_feedback  \\\n",
       "step_number                                                                    \n",
       "0                  0.143041        0.000000       0.143041          0.143041   \n",
       "1                  0.201519        5.004304       5.333957          0.329653   \n",
       "2                  0.143975        5.072477       5.222050          0.149573   \n",
       "3                  0.067107        5.006894       5.083496          0.076602   \n",
       "4                  0.140907        4.585061       4.731451          0.146390   \n",
       "...                     ...             ...            ...               ...   \n",
       "46                13.235569        5.230947      19.331939         14.100992   \n",
       "47                 3.071064        5.230947       8.727258          3.496311   \n",
       "48                 4.797235        5.230947      10.105197          4.874250   \n",
       "49                 5.621127        5.230947      14.359866          9.128919   \n",
       "50                 2.831077        5.230947      12.666059          7.435112   \n",
       "\n",
       "             wait_time  frame_count               model  rep  rho  sigma  \n",
       "step_number                                                               \n",
       "0             0.000000            1          curve-high    0  0.0    0.1  \n",
       "1             0.128135           33          curve-high    0  0.0    0.1  \n",
       "2             0.005599           32          curve-high    0  0.0    0.1  \n",
       "3             0.009495           27          curve-high    0  0.0    0.1  \n",
       "4             0.005483           33          curve-high    0  0.0    0.1  \n",
       "...                ...          ...                 ...  ...  ...    ...  \n",
       "46            0.865423            2  first-order-median    9  0.5    3.2  \n",
       "47            0.425247            4  first-order-median    9  0.5    3.2  \n",
       "48            0.077015            3  first-order-median    9  0.5    3.2  \n",
       "49            3.507792            4  first-order-median    9  0.5    3.2  \n",
       "50            4.604035            2  first-order-median    9  0.5    3.2  \n",
       "\n",
       "[45900 rows x 10 columns]"
      ],
      "text/html": [
       "<div>\n",
       "<style scoped>\n",
       "    .dataframe tbody tr th:only-of-type {\n",
       "        vertical-align: middle;\n",
       "    }\n",
       "\n",
       "    .dataframe tbody tr th {\n",
       "        vertical-align: top;\n",
       "    }\n",
       "\n",
       "    .dataframe thead th {\n",
       "        text-align: right;\n",
       "    }\n",
       "</style>\n",
       "<table border=\"1\" class=\"dataframe\">\n",
       "  <thead>\n",
       "    <tr style=\"text-align: right;\">\n",
       "      <th></th>\n",
       "      <th>last_frame_rtt</th>\n",
       "      <th>execution_time</th>\n",
       "      <th>step_duration</th>\n",
       "      <th>time_to_feedback</th>\n",
       "      <th>wait_time</th>\n",
       "      <th>frame_count</th>\n",
       "      <th>model</th>\n",
       "      <th>rep</th>\n",
       "      <th>rho</th>\n",
       "      <th>sigma</th>\n",
       "    </tr>\n",
       "    <tr>\n",
       "      <th>step_number</th>\n",
       "      <th></th>\n",
       "      <th></th>\n",
       "      <th></th>\n",
       "      <th></th>\n",
       "      <th></th>\n",
       "      <th></th>\n",
       "      <th></th>\n",
       "      <th></th>\n",
       "      <th></th>\n",
       "      <th></th>\n",
       "    </tr>\n",
       "  </thead>\n",
       "  <tbody>\n",
       "    <tr>\n",
       "      <th>0</th>\n",
       "      <td>0.143041</td>\n",
       "      <td>0.000000</td>\n",
       "      <td>0.143041</td>\n",
       "      <td>0.143041</td>\n",
       "      <td>0.000000</td>\n",
       "      <td>1</td>\n",
       "      <td>curve-high</td>\n",
       "      <td>0</td>\n",
       "      <td>0.0</td>\n",
       "      <td>0.1</td>\n",
       "    </tr>\n",
       "    <tr>\n",
       "      <th>1</th>\n",
       "      <td>0.201519</td>\n",
       "      <td>5.004304</td>\n",
       "      <td>5.333957</td>\n",
       "      <td>0.329653</td>\n",
       "      <td>0.128135</td>\n",
       "      <td>33</td>\n",
       "      <td>curve-high</td>\n",
       "      <td>0</td>\n",
       "      <td>0.0</td>\n",
       "      <td>0.1</td>\n",
       "    </tr>\n",
       "    <tr>\n",
       "      <th>2</th>\n",
       "      <td>0.143975</td>\n",
       "      <td>5.072477</td>\n",
       "      <td>5.222050</td>\n",
       "      <td>0.149573</td>\n",
       "      <td>0.005599</td>\n",
       "      <td>32</td>\n",
       "      <td>curve-high</td>\n",
       "      <td>0</td>\n",
       "      <td>0.0</td>\n",
       "      <td>0.1</td>\n",
       "    </tr>\n",
       "    <tr>\n",
       "      <th>3</th>\n",
       "      <td>0.067107</td>\n",
       "      <td>5.006894</td>\n",
       "      <td>5.083496</td>\n",
       "      <td>0.076602</td>\n",
       "      <td>0.009495</td>\n",
       "      <td>27</td>\n",
       "      <td>curve-high</td>\n",
       "      <td>0</td>\n",
       "      <td>0.0</td>\n",
       "      <td>0.1</td>\n",
       "    </tr>\n",
       "    <tr>\n",
       "      <th>4</th>\n",
       "      <td>0.140907</td>\n",
       "      <td>4.585061</td>\n",
       "      <td>4.731451</td>\n",
       "      <td>0.146390</td>\n",
       "      <td>0.005483</td>\n",
       "      <td>33</td>\n",
       "      <td>curve-high</td>\n",
       "      <td>0</td>\n",
       "      <td>0.0</td>\n",
       "      <td>0.1</td>\n",
       "    </tr>\n",
       "    <tr>\n",
       "      <th>...</th>\n",
       "      <td>...</td>\n",
       "      <td>...</td>\n",
       "      <td>...</td>\n",
       "      <td>...</td>\n",
       "      <td>...</td>\n",
       "      <td>...</td>\n",
       "      <td>...</td>\n",
       "      <td>...</td>\n",
       "      <td>...</td>\n",
       "      <td>...</td>\n",
       "    </tr>\n",
       "    <tr>\n",
       "      <th>46</th>\n",
       "      <td>13.235569</td>\n",
       "      <td>5.230947</td>\n",
       "      <td>19.331939</td>\n",
       "      <td>14.100992</td>\n",
       "      <td>0.865423</td>\n",
       "      <td>2</td>\n",
       "      <td>first-order-median</td>\n",
       "      <td>9</td>\n",
       "      <td>0.5</td>\n",
       "      <td>3.2</td>\n",
       "    </tr>\n",
       "    <tr>\n",
       "      <th>47</th>\n",
       "      <td>3.071064</td>\n",
       "      <td>5.230947</td>\n",
       "      <td>8.727258</td>\n",
       "      <td>3.496311</td>\n",
       "      <td>0.425247</td>\n",
       "      <td>4</td>\n",
       "      <td>first-order-median</td>\n",
       "      <td>9</td>\n",
       "      <td>0.5</td>\n",
       "      <td>3.2</td>\n",
       "    </tr>\n",
       "    <tr>\n",
       "      <th>48</th>\n",
       "      <td>4.797235</td>\n",
       "      <td>5.230947</td>\n",
       "      <td>10.105197</td>\n",
       "      <td>4.874250</td>\n",
       "      <td>0.077015</td>\n",
       "      <td>3</td>\n",
       "      <td>first-order-median</td>\n",
       "      <td>9</td>\n",
       "      <td>0.5</td>\n",
       "      <td>3.2</td>\n",
       "    </tr>\n",
       "    <tr>\n",
       "      <th>49</th>\n",
       "      <td>5.621127</td>\n",
       "      <td>5.230947</td>\n",
       "      <td>14.359866</td>\n",
       "      <td>9.128919</td>\n",
       "      <td>3.507792</td>\n",
       "      <td>4</td>\n",
       "      <td>first-order-median</td>\n",
       "      <td>9</td>\n",
       "      <td>0.5</td>\n",
       "      <td>3.2</td>\n",
       "    </tr>\n",
       "    <tr>\n",
       "      <th>50</th>\n",
       "      <td>2.831077</td>\n",
       "      <td>5.230947</td>\n",
       "      <td>12.666059</td>\n",
       "      <td>7.435112</td>\n",
       "      <td>4.604035</td>\n",
       "      <td>2</td>\n",
       "      <td>first-order-median</td>\n",
       "      <td>9</td>\n",
       "      <td>0.5</td>\n",
       "      <td>3.2</td>\n",
       "    </tr>\n",
       "  </tbody>\n",
       "</table>\n",
       "<p>45900 rows × 10 columns</p>\n",
       "</div>"
      ]
     },
     "execution_count": 23,
     "metadata": {},
     "output_type": "execute_result"
    }
   ],
   "execution_count": 23
  },
  {
   "metadata": {},
   "cell_type": "code",
   "outputs": [],
   "execution_count": null,
   "source": "",
   "id": "18713eb6cce6c48a"
  }
 ],
 "metadata": {
  "kernelspec": {
   "display_name": "Python 3",
   "language": "python",
   "name": "python3"
  },
  "language_info": {
   "codemirror_mode": {
    "name": "ipython",
    "version": 2
   },
   "file_extension": ".py",
   "mimetype": "text/x-python",
   "name": "python",
   "nbconvert_exporter": "python",
   "pygments_lexer": "ipython2",
   "version": "2.7.6"
  }
 },
 "nbformat": 4,
 "nbformat_minor": 5
}
