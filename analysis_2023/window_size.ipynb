{
 "cells": [
  {
   "cell_type": "code",
   "execution_count": 1,
   "id": "initial_id",
   "metadata": {
    "collapsed": true,
    "ExecuteTime": {
     "end_time": "2023-10-23T01:48:20.637872Z",
     "start_time": "2023-10-23T01:48:20.353815Z"
    }
   },
   "source": [
    "import warnings\n",
    "warnings.simplefilter(action='ignore', category=FutureWarning)\n",
    "\n",
    "from edgedroid.models.timings import *\n",
    "import edgedroid.data as default_data\n",
    "\n",
    "exec_time_data, neuroticism_data, imp_data, dur_data = default_data.load_default_exec_time_data()\n",
    "\n",
    "data = preprocess_data(exec_time_data, neuroticism_data, imp_data, dur_data)\n",
    "data"
   ],
   "outputs": []
  },
  {
   "cell_type": "code",
   "execution_count": 2,
   "source": [
    "import itertools\n",
    "from collections import deque\n",
    "import pandas as pd\n",
    "from typing import Tuple, Deque\n",
    "from tqdm.notebook import tqdm\n",
    "\n",
    "result_rows = deque()\n",
    "\n",
    "for run_id in tqdm(data[\"run_id\"].unique(), desc=\"Run\"):\n",
    "    test_data = data[data[\"run_id\"] == run_id].copy()\n",
    "\n",
    "    def get_test_data(*args, **kwargs) \\\n",
    "            -> Tuple[pd.DataFrame, pd.arrays.IntervalArray, pd.arrays.IntervalArray, pd.arrays.IntervalArray]:\n",
    "        etime_data = exec_time_data[exec_time_data[\"run_id\"] != run_id].copy()\n",
    "        return etime_data, neuroticism_data, imp_data, dur_data\n",
    "\n",
    "    class EmpiricalTestModel(EmpiricalETM):\n",
    "        get_data = get_test_data\n",
    "\n",
    "    class TheoreticalTestModel(FittedETM):\n",
    "        get_data = get_test_data\n",
    "\n",
    "\n",
    "    neuroticism = test_data[\"neuroticism_raw\"].unique()[0]\n",
    "\n",
    "    models: Deque[Tuple[str, ExecutionTimeModel, int, int]] = deque()\n",
    "\n",
    "    for win_size, ttf_bins in itertools.product(range(1, 16), range(1, 10)):\n",
    "        emp_model = EmpiricalTestModel(neuroticism=neuroticism,\n",
    "                                       ttf_levels=ttf_bins,\n",
    "                                       cleanup=CleanupMode.TRUNCATE,\n",
    "                                       window=win_size)\n",
    "        theo_model = TheoreticalTestModel(neuroticism=neuroticism,\n",
    "                                          ttf_levels=ttf_bins,\n",
    "                                          cleanup=CleanupMode.TRUNCATE,\n",
    "                                          window=win_size)\n",
    "\n",
    "        models.extend((\n",
    "            (\"empirical\", emp_model, win_size, ttf_bins),\n",
    "            (\"theoretical\", theo_model, win_size, ttf_bins)\n",
    "        ))\n",
    "\n",
    "    for _ in range(30):\n",
    "        for i, (prev_ttf, exec_time) in enumerate(test_data[[\"ttf\", \"next_exec_time\"]].itertuples(index=False)):\n",
    "            for model_name, model, win_size, ttf_bins in models:\n",
    "                if i == 0:\n",
    "                    # reset the model between runs\n",
    "                    model.reset()\n",
    "                else:\n",
    "                    # first row has no previous ttf\n",
    "                    model.advance(prev_ttf)\n",
    "\n",
    "                prediction = model.get_execution_time()\n",
    "                result_rows.append({\n",
    "                    \"real\": exec_time,\n",
    "                    \"prediction\": prediction,\n",
    "                    \"error\": prediction - exec_time,\n",
    "                    \"model\": model_name,\n",
    "                    \"window\": win_size,\n",
    "                    \"ttf_bins\": ttf_bins\n",
    "                })\n",
    "\n",
    "results = pd.DataFrame(result_rows)\n",
    "results"
   ],
   "metadata": {
    "collapsed": false,
    "ExecuteTime": {
     "end_time": "2023-10-23T02:38:56.878845Z",
     "start_time": "2023-10-23T01:48:20.637060Z"
    }
   },
   "id": "f3e19332a9703fa4",
   "outputs": []
  },
  {
   "cell_type": "code",
   "execution_count": 3,
   "source": [
    "results[\"sqr_error\"] = np.square(results[\"error\"])\n",
    "results"
   ],
   "metadata": {
    "collapsed": false,
    "ExecuteTime": {
     "end_time": "2023-10-23T02:38:57.384843Z",
     "start_time": "2023-10-23T02:38:56.736301Z"
    }
   },
   "id": "e6c1da1452903e04",
   "outputs": []
  },
  {
   "cell_type": "code",
   "execution_count": 4,
   "source": [
    "# %matplotlib inline\n",
    "import matplotlib.pyplot as plt\n",
    "import seaborn as sns\n",
    "\n",
    "fg = sns.catplot(results, kind=\"point\", x=\"window\", y=\"sqr_error\", hue=\"ttf_bins\", row=\"model\", height=5, aspect=2)\n",
    "fg.set(ylim=(0, None))\n",
    "fg.set_ylabels(\"MSE\")\n",
    "for ax in fg.axes.flat:\n",
    "    ax.set_xticks(ax.get_xticks(), ax.get_xticklabels(), rotation=45, ha='right')\n",
    "plt.show()"
   ],
   "metadata": {
    "collapsed": false,
    "ExecuteTime": {
     "end_time": "2023-10-23T02:47:14.946856Z",
     "start_time": "2023-10-23T02:38:56.974341Z"
    }
   },
   "id": "1cb3cc35bcf1bb8c",
   "outputs": []
  },
  {
   "cell_type": "code",
   "execution_count": 4,
   "source": [],
   "metadata": {
    "collapsed": false,
    "ExecuteTime": {
     "end_time": "2023-10-23T02:47:14.948444Z",
     "start_time": "2023-10-23T02:47:14.943207Z"
    }
   },
   "id": "9f2407e4cf8521d8",
   "outputs": []
  }
 ],
 "metadata": {
  "kernelspec": {
   "display_name": "Python 3",
   "language": "python",
   "name": "python3"
  },
  "language_info": {
   "codemirror_mode": {
    "name": "ipython",
    "version": 2
   },
   "file_extension": ".py",
   "mimetype": "text/x-python",
   "name": "python",
   "nbconvert_exporter": "python",
   "pygments_lexer": "ipython2",
   "version": "2.7.6"
  }
 },
 "nbformat": 4,
 "nbformat_minor": 5
}
