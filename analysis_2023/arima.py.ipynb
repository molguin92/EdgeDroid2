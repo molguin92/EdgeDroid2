{
 "cells": [
  {
   "cell_type": "code",
   "execution_count": 1,
   "id": "initial_id",
   "metadata": {
    "collapsed": true,
    "ExecuteTime": {
     "end_time": "2023-09-18T03:27:31.114698Z",
     "start_time": "2023-09-18T03:27:30.997441Z"
    }
   },
   "outputs": [
    {
     "data": {
      "text/plain": "      run_id       ttf  exec_time  neuroticism\n0     134146  0.597441   3.654797        0.375\n1     134146  0.553513   4.438645        0.375\n2     134146  0.561716   2.943222        0.375\n3     134146  0.586512   5.405761        0.375\n4     134146  0.558940   5.225161        0.375\n...      ...       ...        ...          ...\n6755  137353  0.557074   6.439071        0.625\n6756  137353  0.534339   4.680858        0.625\n6757  137353  0.560288   3.467878        0.625\n6758  137353  0.579000   2.325759        0.625\n6759  137353  0.536671   4.615283        0.625\n\n[6760 rows x 4 columns]",
      "text/html": "<div>\n<style scoped>\n    .dataframe tbody tr th:only-of-type {\n        vertical-align: middle;\n    }\n\n    .dataframe tbody tr th {\n        vertical-align: top;\n    }\n\n    .dataframe thead th {\n        text-align: right;\n    }\n</style>\n<table border=\"1\" class=\"dataframe\">\n  <thead>\n    <tr style=\"text-align: right;\">\n      <th></th>\n      <th>run_id</th>\n      <th>ttf</th>\n      <th>exec_time</th>\n      <th>neuroticism</th>\n    </tr>\n  </thead>\n  <tbody>\n    <tr>\n      <th>0</th>\n      <td>134146</td>\n      <td>0.597441</td>\n      <td>3.654797</td>\n      <td>0.375</td>\n    </tr>\n    <tr>\n      <th>1</th>\n      <td>134146</td>\n      <td>0.553513</td>\n      <td>4.438645</td>\n      <td>0.375</td>\n    </tr>\n    <tr>\n      <th>2</th>\n      <td>134146</td>\n      <td>0.561716</td>\n      <td>2.943222</td>\n      <td>0.375</td>\n    </tr>\n    <tr>\n      <th>3</th>\n      <td>134146</td>\n      <td>0.586512</td>\n      <td>5.405761</td>\n      <td>0.375</td>\n    </tr>\n    <tr>\n      <th>4</th>\n      <td>134146</td>\n      <td>0.558940</td>\n      <td>5.225161</td>\n      <td>0.375</td>\n    </tr>\n    <tr>\n      <th>...</th>\n      <td>...</td>\n      <td>...</td>\n      <td>...</td>\n      <td>...</td>\n    </tr>\n    <tr>\n      <th>6755</th>\n      <td>137353</td>\n      <td>0.557074</td>\n      <td>6.439071</td>\n      <td>0.625</td>\n    </tr>\n    <tr>\n      <th>6756</th>\n      <td>137353</td>\n      <td>0.534339</td>\n      <td>4.680858</td>\n      <td>0.625</td>\n    </tr>\n    <tr>\n      <th>6757</th>\n      <td>137353</td>\n      <td>0.560288</td>\n      <td>3.467878</td>\n      <td>0.625</td>\n    </tr>\n    <tr>\n      <th>6758</th>\n      <td>137353</td>\n      <td>0.579000</td>\n      <td>2.325759</td>\n      <td>0.625</td>\n    </tr>\n    <tr>\n      <th>6759</th>\n      <td>137353</td>\n      <td>0.536671</td>\n      <td>4.615283</td>\n      <td>0.625</td>\n    </tr>\n  </tbody>\n</table>\n<p>6760 rows × 4 columns</p>\n</div>"
     },
     "execution_count": 1,
     "metadata": {},
     "output_type": "execute_result"
    }
   ],
   "source": [
    "from edgedroid.models.timings import *\n",
    "import edgedroid.data as default_data\n",
    "\n",
    "exec_time_data, neuroticism_data, imp_data, dur_data = default_data.load_default_exec_time_data()\n",
    "exec_time_data"
   ]
  },
  {
   "cell_type": "code",
   "execution_count": 2,
   "outputs": [
    {
     "data": {
      "text/plain": "     exec_time       ttf  neuroticism\n0     3.654797  0.597441        0.375\n1     4.438645  0.553513        0.375\n2     2.943222  0.561716        0.375\n3     5.405761  0.586512        0.375\n4     5.225161  0.558940        0.375\n..         ...       ...          ...\n164   3.607353  0.580294        0.375\n165   4.214265  0.582831        0.375\n166   6.232744  4.572803        0.375\n167   7.116645  3.688653        0.375\n168   3.531646  4.570570        0.375\n\n[169 rows x 3 columns]",
      "text/html": "<div>\n<style scoped>\n    .dataframe tbody tr th:only-of-type {\n        vertical-align: middle;\n    }\n\n    .dataframe tbody tr th {\n        vertical-align: top;\n    }\n\n    .dataframe thead th {\n        text-align: right;\n    }\n</style>\n<table border=\"1\" class=\"dataframe\">\n  <thead>\n    <tr style=\"text-align: right;\">\n      <th></th>\n      <th>exec_time</th>\n      <th>ttf</th>\n      <th>neuroticism</th>\n    </tr>\n  </thead>\n  <tbody>\n    <tr>\n      <th>0</th>\n      <td>3.654797</td>\n      <td>0.597441</td>\n      <td>0.375</td>\n    </tr>\n    <tr>\n      <th>1</th>\n      <td>4.438645</td>\n      <td>0.553513</td>\n      <td>0.375</td>\n    </tr>\n    <tr>\n      <th>2</th>\n      <td>2.943222</td>\n      <td>0.561716</td>\n      <td>0.375</td>\n    </tr>\n    <tr>\n      <th>3</th>\n      <td>5.405761</td>\n      <td>0.586512</td>\n      <td>0.375</td>\n    </tr>\n    <tr>\n      <th>4</th>\n      <td>5.225161</td>\n      <td>0.558940</td>\n      <td>0.375</td>\n    </tr>\n    <tr>\n      <th>...</th>\n      <td>...</td>\n      <td>...</td>\n      <td>...</td>\n    </tr>\n    <tr>\n      <th>164</th>\n      <td>3.607353</td>\n      <td>0.580294</td>\n      <td>0.375</td>\n    </tr>\n    <tr>\n      <th>165</th>\n      <td>4.214265</td>\n      <td>0.582831</td>\n      <td>0.375</td>\n    </tr>\n    <tr>\n      <th>166</th>\n      <td>6.232744</td>\n      <td>4.572803</td>\n      <td>0.375</td>\n    </tr>\n    <tr>\n      <th>167</th>\n      <td>7.116645</td>\n      <td>3.688653</td>\n      <td>0.375</td>\n    </tr>\n    <tr>\n      <th>168</th>\n      <td>3.531646</td>\n      <td>4.570570</td>\n      <td>0.375</td>\n    </tr>\n  </tbody>\n</table>\n<p>169 rows × 3 columns</p>\n</div>"
     },
     "execution_count": 2,
     "metadata": {},
     "output_type": "execute_result"
    }
   ],
   "source": [
    "data = exec_time_data[exec_time_data[\"run_id\"] == 134146][[\"exec_time\", \"ttf\", \"neuroticism\"]].copy()\n",
    "data"
   ],
   "metadata": {
    "collapsed": false,
    "ExecuteTime": {
     "end_time": "2023-09-18T03:27:31.121326Z",
     "start_time": "2023-09-18T03:27:31.112321Z"
    }
   },
   "id": "f8f4501ccb414f43"
  },
  {
   "cell_type": "code",
   "execution_count": 3,
   "outputs": [
    {
     "data": {
      "text/plain": "     exec_time       ttf  neuroticism\n0     3.654797  0.597441        0.375\n1     4.438645  0.553513        0.375\n2     2.943222  0.561716        0.375\n3     5.405761  0.586512        0.375\n4     5.225161  0.558940        0.375\n..         ...       ...          ...\n135   2.298147  4.232225        0.375\n136   3.637769  2.892558        0.375\n137   5.569366  3.136092        0.375\n138   5.776330  2.929496        0.375\n139   6.388188  2.317153        0.375\n\n[140 rows x 3 columns]",
      "text/html": "<div>\n<style scoped>\n    .dataframe tbody tr th:only-of-type {\n        vertical-align: middle;\n    }\n\n    .dataframe tbody tr th {\n        vertical-align: top;\n    }\n\n    .dataframe thead th {\n        text-align: right;\n    }\n</style>\n<table border=\"1\" class=\"dataframe\">\n  <thead>\n    <tr style=\"text-align: right;\">\n      <th></th>\n      <th>exec_time</th>\n      <th>ttf</th>\n      <th>neuroticism</th>\n    </tr>\n  </thead>\n  <tbody>\n    <tr>\n      <th>0</th>\n      <td>3.654797</td>\n      <td>0.597441</td>\n      <td>0.375</td>\n    </tr>\n    <tr>\n      <th>1</th>\n      <td>4.438645</td>\n      <td>0.553513</td>\n      <td>0.375</td>\n    </tr>\n    <tr>\n      <th>2</th>\n      <td>2.943222</td>\n      <td>0.561716</td>\n      <td>0.375</td>\n    </tr>\n    <tr>\n      <th>3</th>\n      <td>5.405761</td>\n      <td>0.586512</td>\n      <td>0.375</td>\n    </tr>\n    <tr>\n      <th>4</th>\n      <td>5.225161</td>\n      <td>0.558940</td>\n      <td>0.375</td>\n    </tr>\n    <tr>\n      <th>...</th>\n      <td>...</td>\n      <td>...</td>\n      <td>...</td>\n    </tr>\n    <tr>\n      <th>135</th>\n      <td>2.298147</td>\n      <td>4.232225</td>\n      <td>0.375</td>\n    </tr>\n    <tr>\n      <th>136</th>\n      <td>3.637769</td>\n      <td>2.892558</td>\n      <td>0.375</td>\n    </tr>\n    <tr>\n      <th>137</th>\n      <td>5.569366</td>\n      <td>3.136092</td>\n      <td>0.375</td>\n    </tr>\n    <tr>\n      <th>138</th>\n      <td>5.776330</td>\n      <td>2.929496</td>\n      <td>0.375</td>\n    </tr>\n    <tr>\n      <th>139</th>\n      <td>6.388188</td>\n      <td>2.317153</td>\n      <td>0.375</td>\n    </tr>\n  </tbody>\n</table>\n<p>140 rows × 3 columns</p>\n</div>"
     },
     "execution_count": 3,
     "metadata": {},
     "output_type": "execute_result"
    }
   ],
   "source": [
    "import pmdarima as pm\n",
    "from pmdarima import model_selection\n",
    "\n",
    "train, test = model_selection.train_test_split(data, train_size=140)\n",
    "train"
   ],
   "metadata": {
    "collapsed": false,
    "ExecuteTime": {
     "end_time": "2023-09-18T03:27:31.512585Z",
     "start_time": "2023-09-18T03:27:31.120153Z"
    }
   },
   "id": "245f9cb940f8e10"
  },
  {
   "cell_type": "code",
   "execution_count": 11,
   "outputs": [
    {
     "name": "stdout",
     "output_type": "stream",
     "text": [
      "\n",
      "Best model:  ARIMA(0,0,1)(0,0,0)[0] intercept\n",
      "Total fit time: 10.224 seconds\n"
     ]
    },
    {
     "data": {
      "text/plain": "ARIMA(maxiter=500, order=(0, 0, 1), out_of_sample_size=10, scoring_args={},\n      suppress_warnings=True)",
      "text/html": "<style>#sk-container-id-8 {color: black;}#sk-container-id-8 pre{padding: 0;}#sk-container-id-8 div.sk-toggleable {background-color: white;}#sk-container-id-8 label.sk-toggleable__label {cursor: pointer;display: block;width: 100%;margin-bottom: 0;padding: 0.3em;box-sizing: border-box;text-align: center;}#sk-container-id-8 label.sk-toggleable__label-arrow:before {content: \"▸\";float: left;margin-right: 0.25em;color: #696969;}#sk-container-id-8 label.sk-toggleable__label-arrow:hover:before {color: black;}#sk-container-id-8 div.sk-estimator:hover label.sk-toggleable__label-arrow:before {color: black;}#sk-container-id-8 div.sk-toggleable__content {max-height: 0;max-width: 0;overflow: hidden;text-align: left;background-color: #f0f8ff;}#sk-container-id-8 div.sk-toggleable__content pre {margin: 0.2em;color: black;border-radius: 0.25em;background-color: #f0f8ff;}#sk-container-id-8 input.sk-toggleable__control:checked~div.sk-toggleable__content {max-height: 200px;max-width: 100%;overflow: auto;}#sk-container-id-8 input.sk-toggleable__control:checked~label.sk-toggleable__label-arrow:before {content: \"▾\";}#sk-container-id-8 div.sk-estimator input.sk-toggleable__control:checked~label.sk-toggleable__label {background-color: #d4ebff;}#sk-container-id-8 div.sk-label input.sk-toggleable__control:checked~label.sk-toggleable__label {background-color: #d4ebff;}#sk-container-id-8 input.sk-hidden--visually {border: 0;clip: rect(1px 1px 1px 1px);clip: rect(1px, 1px, 1px, 1px);height: 1px;margin: -1px;overflow: hidden;padding: 0;position: absolute;width: 1px;}#sk-container-id-8 div.sk-estimator {font-family: monospace;background-color: #f0f8ff;border: 1px dotted black;border-radius: 0.25em;box-sizing: border-box;margin-bottom: 0.5em;}#sk-container-id-8 div.sk-estimator:hover {background-color: #d4ebff;}#sk-container-id-8 div.sk-parallel-item::after {content: \"\";width: 100%;border-bottom: 1px solid gray;flex-grow: 1;}#sk-container-id-8 div.sk-label:hover label.sk-toggleable__label {background-color: #d4ebff;}#sk-container-id-8 div.sk-serial::before {content: \"\";position: absolute;border-left: 1px solid gray;box-sizing: border-box;top: 0;bottom: 0;left: 50%;z-index: 0;}#sk-container-id-8 div.sk-serial {display: flex;flex-direction: column;align-items: center;background-color: white;padding-right: 0.2em;padding-left: 0.2em;position: relative;}#sk-container-id-8 div.sk-item {position: relative;z-index: 1;}#sk-container-id-8 div.sk-parallel {display: flex;align-items: stretch;justify-content: center;background-color: white;position: relative;}#sk-container-id-8 div.sk-item::before, #sk-container-id-8 div.sk-parallel-item::before {content: \"\";position: absolute;border-left: 1px solid gray;box-sizing: border-box;top: 0;bottom: 0;left: 50%;z-index: -1;}#sk-container-id-8 div.sk-parallel-item {display: flex;flex-direction: column;z-index: 1;position: relative;background-color: white;}#sk-container-id-8 div.sk-parallel-item:first-child::after {align-self: flex-end;width: 50%;}#sk-container-id-8 div.sk-parallel-item:last-child::after {align-self: flex-start;width: 50%;}#sk-container-id-8 div.sk-parallel-item:only-child::after {width: 0;}#sk-container-id-8 div.sk-dashed-wrapped {border: 1px dashed gray;margin: 0 0.4em 0.5em 0.4em;box-sizing: border-box;padding-bottom: 0.4em;background-color: white;}#sk-container-id-8 div.sk-label label {font-family: monospace;font-weight: bold;display: inline-block;line-height: 1.2em;}#sk-container-id-8 div.sk-label-container {text-align: center;}#sk-container-id-8 div.sk-container {/* jupyter's `normalize.less` sets `[hidden] { display: none; }` but bootstrap.min.css set `[hidden] { display: none !important; }` so we also need the `!important` here to be able to override the default hidden behavior on the sphinx rendered scikit-learn.org. See: https://github.com/scikit-learn/scikit-learn/issues/21755 */display: inline-block !important;position: relative;}#sk-container-id-8 div.sk-text-repr-fallback {display: none;}</style><div id=\"sk-container-id-8\" class=\"sk-top-container\"><div class=\"sk-text-repr-fallback\"><pre> ARIMA(0,0,1)(0,0,0)[0] intercept</pre><b>In a Jupyter environment, please rerun this cell to show the HTML representation or trust the notebook. <br />On GitHub, the HTML representation is unable to render, please try loading this page with nbviewer.org.</b></div><div class=\"sk-container\" hidden><div class=\"sk-item\"><div class=\"sk-estimator sk-toggleable\"><input class=\"sk-toggleable__control sk-hidden--visually\" id=\"sk-estimator-id-8\" type=\"checkbox\" checked><label for=\"sk-estimator-id-8\" class=\"sk-toggleable__label sk-toggleable__label-arrow\">ARIMA</label><div class=\"sk-toggleable__content\"><pre> ARIMA(0,0,1)(0,0,0)[0] intercept</pre></div></div></div></div></div>"
     },
     "execution_count": 11,
     "metadata": {},
     "output_type": "execute_result"
    }
   ],
   "source": [
    "model = pm.auto_arima(\n",
    "    y=train[\"exec_time\"],\n",
    "    X=train[[\"ttf\"]],\n",
    "    n_jobs=-1,\n",
    "    trace=5,\n",
    "    stepwise=False,\n",
    "    seasonal=False,\n",
    "    stationary=True,\n",
    "    maxiter=500,\n",
    "    start_p=2, max_p=8,\n",
    "    start_q=2, max_q=8,\n",
    "    max_order=None,\n",
    "    # information_criterion=\"oob\",\n",
    "    out_of_sample_size=10,\n",
    ")\n",
    "model"
   ],
   "metadata": {
    "collapsed": false,
    "ExecuteTime": {
     "end_time": "2023-09-18T03:35:08.700077Z",
     "start_time": "2023-09-18T03:34:58.471137Z"
    }
   },
   "id": "ba1c610cb0ff15a4"
  },
  {
   "cell_type": "code",
   "execution_count": 4,
   "outputs": [],
   "source": [],
   "metadata": {
    "collapsed": false,
    "ExecuteTime": {
     "end_time": "2023-09-18T03:27:32.697301Z",
     "start_time": "2023-09-18T03:27:32.690505Z"
    }
   },
   "id": "1899a2381573a4ac"
  }
 ],
 "metadata": {
  "kernelspec": {
   "display_name": "Python 3",
   "language": "python",
   "name": "python3"
  },
  "language_info": {
   "codemirror_mode": {
    "name": "ipython",
    "version": 2
   },
   "file_extension": ".py",
   "mimetype": "text/x-python",
   "name": "python",
   "nbconvert_exporter": "python",
   "pygments_lexer": "ipython2",
   "version": "2.7.6"
  }
 },
 "nbformat": 4,
 "nbformat_minor": 5
}
