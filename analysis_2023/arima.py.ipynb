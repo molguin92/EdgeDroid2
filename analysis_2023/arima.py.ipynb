{
 "cells": [
  {
   "cell_type": "code",
   "execution_count": 1,
   "id": "initial_id",
   "metadata": {
    "collapsed": true,
    "ExecuteTime": {
     "end_time": "2023-10-07T17:36:12.270697Z",
     "start_time": "2023-10-07T17:36:12.084883Z"
    }
   },
   "outputs": [
    {
     "data": {
      "text/plain": "      run_id       ttf  exec_time  neuroticism\n0     134146  0.597441   3.654797        0.375\n1     134146  0.553513   4.438645        0.375\n2     134146  0.561716   2.943222        0.375\n3     134146  0.586512   5.405761        0.375\n4     134146  0.558940   5.225161        0.375\n...      ...       ...        ...          ...\n6755  137353  0.557074   6.439071        0.625\n6756  137353  0.534339   4.680858        0.625\n6757  137353  0.560288   3.467878        0.625\n6758  137353  0.579000   2.325759        0.625\n6759  137353  0.536671   4.615283        0.625\n\n[6760 rows x 4 columns]",
      "text/html": "<div>\n<style scoped>\n    .dataframe tbody tr th:only-of-type {\n        vertical-align: middle;\n    }\n\n    .dataframe tbody tr th {\n        vertical-align: top;\n    }\n\n    .dataframe thead th {\n        text-align: right;\n    }\n</style>\n<table border=\"1\" class=\"dataframe\">\n  <thead>\n    <tr style=\"text-align: right;\">\n      <th></th>\n      <th>run_id</th>\n      <th>ttf</th>\n      <th>exec_time</th>\n      <th>neuroticism</th>\n    </tr>\n  </thead>\n  <tbody>\n    <tr>\n      <th>0</th>\n      <td>134146</td>\n      <td>0.597441</td>\n      <td>3.654797</td>\n      <td>0.375</td>\n    </tr>\n    <tr>\n      <th>1</th>\n      <td>134146</td>\n      <td>0.553513</td>\n      <td>4.438645</td>\n      <td>0.375</td>\n    </tr>\n    <tr>\n      <th>2</th>\n      <td>134146</td>\n      <td>0.561716</td>\n      <td>2.943222</td>\n      <td>0.375</td>\n    </tr>\n    <tr>\n      <th>3</th>\n      <td>134146</td>\n      <td>0.586512</td>\n      <td>5.405761</td>\n      <td>0.375</td>\n    </tr>\n    <tr>\n      <th>4</th>\n      <td>134146</td>\n      <td>0.558940</td>\n      <td>5.225161</td>\n      <td>0.375</td>\n    </tr>\n    <tr>\n      <th>...</th>\n      <td>...</td>\n      <td>...</td>\n      <td>...</td>\n      <td>...</td>\n    </tr>\n    <tr>\n      <th>6755</th>\n      <td>137353</td>\n      <td>0.557074</td>\n      <td>6.439071</td>\n      <td>0.625</td>\n    </tr>\n    <tr>\n      <th>6756</th>\n      <td>137353</td>\n      <td>0.534339</td>\n      <td>4.680858</td>\n      <td>0.625</td>\n    </tr>\n    <tr>\n      <th>6757</th>\n      <td>137353</td>\n      <td>0.560288</td>\n      <td>3.467878</td>\n      <td>0.625</td>\n    </tr>\n    <tr>\n      <th>6758</th>\n      <td>137353</td>\n      <td>0.579000</td>\n      <td>2.325759</td>\n      <td>0.625</td>\n    </tr>\n    <tr>\n      <th>6759</th>\n      <td>137353</td>\n      <td>0.536671</td>\n      <td>4.615283</td>\n      <td>0.625</td>\n    </tr>\n  </tbody>\n</table>\n<p>6760 rows × 4 columns</p>\n</div>"
     },
     "execution_count": 1,
     "metadata": {},
     "output_type": "execute_result"
    }
   ],
   "source": [
    "from edgedroid.models.timings import *\n",
    "import edgedroid.data as default_data\n",
    "\n",
    "exec_time_data, neuroticism_data, imp_data, dur_data = default_data.load_default_exec_time_data()\n",
    "exec_time_data"
   ]
  },
  {
   "cell_type": "code",
   "execution_count": 2,
   "outputs": [
    {
     "data": {
      "text/plain": "array([134146, 134470, 134584, 134614, 134623, 134671, 134710, 134716,\n       134797, 135199, 135241, 135274, 135301, 135343, 135352, 135385,\n       135391, 135670, 135715, 135769, 135955, 136060, 136123, 136144,\n       136285, 136354, 136516, 136519, 136522, 136780, 136858, 136894,\n       136906, 136930, 136981, 136984, 136987, 137299, 137344, 137353])"
     },
     "execution_count": 2,
     "metadata": {},
     "output_type": "execute_result"
    }
   ],
   "source": [
    "exec_time_data[\"run_id\"].unique()"
   ],
   "metadata": {
    "collapsed": false,
    "ExecuteTime": {
     "end_time": "2023-10-07T17:36:12.271172Z",
     "start_time": "2023-10-07T17:36:12.268291Z"
    }
   },
   "id": "86619841ddb57d76"
  },
  {
   "cell_type": "code",
   "execution_count": 3,
   "outputs": [
    {
     "data": {
      "text/plain": "      exec_time       ttf  neuroticism\n3887   4.713447  0.508263        0.313\n3888   5.911358  0.536310        0.313\n3889   5.875047  4.932830        0.313\n3890   3.113610  4.990161        0.313\n3891   4.276224  3.828177        0.313\n...         ...       ...          ...\n4051   7.300343  0.540371        0.313\n4052   5.153820  0.575654        0.313\n4053   3.207323  0.540590        0.313\n4054   2.026803  0.562081        0.313\n4055   2.078182  0.562104        0.313\n\n[169 rows x 3 columns]",
      "text/html": "<div>\n<style scoped>\n    .dataframe tbody tr th:only-of-type {\n        vertical-align: middle;\n    }\n\n    .dataframe tbody tr th {\n        vertical-align: top;\n    }\n\n    .dataframe thead th {\n        text-align: right;\n    }\n</style>\n<table border=\"1\" class=\"dataframe\">\n  <thead>\n    <tr style=\"text-align: right;\">\n      <th></th>\n      <th>exec_time</th>\n      <th>ttf</th>\n      <th>neuroticism</th>\n    </tr>\n  </thead>\n  <tbody>\n    <tr>\n      <th>3887</th>\n      <td>4.713447</td>\n      <td>0.508263</td>\n      <td>0.313</td>\n    </tr>\n    <tr>\n      <th>3888</th>\n      <td>5.911358</td>\n      <td>0.536310</td>\n      <td>0.313</td>\n    </tr>\n    <tr>\n      <th>3889</th>\n      <td>5.875047</td>\n      <td>4.932830</td>\n      <td>0.313</td>\n    </tr>\n    <tr>\n      <th>3890</th>\n      <td>3.113610</td>\n      <td>4.990161</td>\n      <td>0.313</td>\n    </tr>\n    <tr>\n      <th>3891</th>\n      <td>4.276224</td>\n      <td>3.828177</td>\n      <td>0.313</td>\n    </tr>\n    <tr>\n      <th>...</th>\n      <td>...</td>\n      <td>...</td>\n      <td>...</td>\n    </tr>\n    <tr>\n      <th>4051</th>\n      <td>7.300343</td>\n      <td>0.540371</td>\n      <td>0.313</td>\n    </tr>\n    <tr>\n      <th>4052</th>\n      <td>5.153820</td>\n      <td>0.575654</td>\n      <td>0.313</td>\n    </tr>\n    <tr>\n      <th>4053</th>\n      <td>3.207323</td>\n      <td>0.540590</td>\n      <td>0.313</td>\n    </tr>\n    <tr>\n      <th>4054</th>\n      <td>2.026803</td>\n      <td>0.562081</td>\n      <td>0.313</td>\n    </tr>\n    <tr>\n      <th>4055</th>\n      <td>2.078182</td>\n      <td>0.562104</td>\n      <td>0.313</td>\n    </tr>\n  </tbody>\n</table>\n<p>169 rows × 3 columns</p>\n</div>"
     },
     "execution_count": 3,
     "metadata": {},
     "output_type": "execute_result"
    }
   ],
   "source": [
    "data = exec_time_data[exec_time_data[\"run_id\"] == 136144][[\"exec_time\", \"ttf\", \"neuroticism\"]].copy()\n",
    "data"
   ],
   "metadata": {
    "collapsed": false,
    "ExecuteTime": {
     "end_time": "2023-10-07T17:36:12.280882Z",
     "start_time": "2023-10-07T17:36:12.271908Z"
    }
   },
   "id": "f8f4501ccb414f43"
  },
  {
   "cell_type": "code",
   "execution_count": 4,
   "outputs": [
    {
     "data": {
      "text/plain": "      exec_time       ttf  neuroticism\n3887   4.713447  0.508263        0.313\n3888   5.911358  0.536310        0.313\n3889   5.875047  4.932830        0.313\n3890   3.113610  4.990161        0.313\n3891   4.276224  3.828177        0.313\n...         ...       ...          ...\n4022  18.090997  3.519921        0.313\n4023  10.195430  3.313244        0.313\n4024   4.391661  3.713941        0.313\n4025   3.898196  4.206923        0.313\n4026   4.913846  3.192292        0.313\n\n[140 rows x 3 columns]",
      "text/html": "<div>\n<style scoped>\n    .dataframe tbody tr th:only-of-type {\n        vertical-align: middle;\n    }\n\n    .dataframe tbody tr th {\n        vertical-align: top;\n    }\n\n    .dataframe thead th {\n        text-align: right;\n    }\n</style>\n<table border=\"1\" class=\"dataframe\">\n  <thead>\n    <tr style=\"text-align: right;\">\n      <th></th>\n      <th>exec_time</th>\n      <th>ttf</th>\n      <th>neuroticism</th>\n    </tr>\n  </thead>\n  <tbody>\n    <tr>\n      <th>3887</th>\n      <td>4.713447</td>\n      <td>0.508263</td>\n      <td>0.313</td>\n    </tr>\n    <tr>\n      <th>3888</th>\n      <td>5.911358</td>\n      <td>0.536310</td>\n      <td>0.313</td>\n    </tr>\n    <tr>\n      <th>3889</th>\n      <td>5.875047</td>\n      <td>4.932830</td>\n      <td>0.313</td>\n    </tr>\n    <tr>\n      <th>3890</th>\n      <td>3.113610</td>\n      <td>4.990161</td>\n      <td>0.313</td>\n    </tr>\n    <tr>\n      <th>3891</th>\n      <td>4.276224</td>\n      <td>3.828177</td>\n      <td>0.313</td>\n    </tr>\n    <tr>\n      <th>...</th>\n      <td>...</td>\n      <td>...</td>\n      <td>...</td>\n    </tr>\n    <tr>\n      <th>4022</th>\n      <td>18.090997</td>\n      <td>3.519921</td>\n      <td>0.313</td>\n    </tr>\n    <tr>\n      <th>4023</th>\n      <td>10.195430</td>\n      <td>3.313244</td>\n      <td>0.313</td>\n    </tr>\n    <tr>\n      <th>4024</th>\n      <td>4.391661</td>\n      <td>3.713941</td>\n      <td>0.313</td>\n    </tr>\n    <tr>\n      <th>4025</th>\n      <td>3.898196</td>\n      <td>4.206923</td>\n      <td>0.313</td>\n    </tr>\n    <tr>\n      <th>4026</th>\n      <td>4.913846</td>\n      <td>3.192292</td>\n      <td>0.313</td>\n    </tr>\n  </tbody>\n</table>\n<p>140 rows × 3 columns</p>\n</div>"
     },
     "execution_count": 4,
     "metadata": {},
     "output_type": "execute_result"
    }
   ],
   "source": [
    "import pmdarima as pm\n",
    "from pmdarima import model_selection\n",
    "\n",
    "train, test = model_selection.train_test_split(data, train_size=140)\n",
    "train"
   ],
   "metadata": {
    "collapsed": false,
    "ExecuteTime": {
     "end_time": "2023-10-07T17:36:12.587958Z",
     "start_time": "2023-10-07T17:36:12.277832Z"
    }
   },
   "id": "245f9cb940f8e10"
  },
  {
   "cell_type": "code",
   "execution_count": 15,
   "outputs": [
    {
     "name": "stderr",
     "output_type": "stream",
     "text": [
      "/Users/molguin/.venvs/EdgeDroid/lib/python3.11/site-packages/pmdarima/arima/_validation.py:76: UserWarning: stepwise model cannot be fit in parallel (n_jobs=1). Falling back to stepwise parameter search.\n",
      "  warnings.warn('stepwise model cannot be fit in parallel (n_jobs=%i). '\n",
      "/Users/molguin/.venvs/EdgeDroid/lib/python3.11/site-packages/statsmodels/tsa/base/tsa_model.py:836: ValueWarning: No supported index is available. Prediction results will be given with an integer index beginning at `start`.\n",
      "  return get_prediction_index(\n",
      "/Users/molguin/.venvs/EdgeDroid/lib/python3.11/site-packages/statsmodels/tsa/base/tsa_model.py:836: FutureWarning: No supported index is available. In the next version, calling this method in a model without a supported index will result in an exception.\n",
      "  return get_prediction_index(\n",
      "/Users/molguin/.venvs/EdgeDroid/lib/python3.11/site-packages/statsmodels/tsa/base/tsa_model.py:836: ValueWarning: No supported index is available. Prediction results will be given with an integer index beginning at `start`.\n",
      "  return get_prediction_index(\n",
      "/Users/molguin/.venvs/EdgeDroid/lib/python3.11/site-packages/statsmodels/tsa/base/tsa_model.py:836: FutureWarning: No supported index is available. In the next version, calling this method in a model without a supported index will result in an exception.\n",
      "  return get_prediction_index(\n",
      "/Users/molguin/.venvs/EdgeDroid/lib/python3.11/site-packages/statsmodels/tsa/base/tsa_model.py:836: ValueWarning: No supported index is available. Prediction results will be given with an integer index beginning at `start`.\n",
      "  return get_prediction_index(\n",
      "/Users/molguin/.venvs/EdgeDroid/lib/python3.11/site-packages/statsmodels/tsa/base/tsa_model.py:836: FutureWarning: No supported index is available. In the next version, calling this method in a model without a supported index will result in an exception.\n",
      "  return get_prediction_index(\n",
      "/Users/molguin/.venvs/EdgeDroid/lib/python3.11/site-packages/statsmodels/tsa/base/tsa_model.py:836: ValueWarning: No supported index is available. Prediction results will be given with an integer index beginning at `start`.\n",
      "  return get_prediction_index(\n",
      "/Users/molguin/.venvs/EdgeDroid/lib/python3.11/site-packages/statsmodels/tsa/base/tsa_model.py:836: FutureWarning: No supported index is available. In the next version, calling this method in a model without a supported index will result in an exception.\n",
      "  return get_prediction_index(\n",
      "/Users/molguin/.venvs/EdgeDroid/lib/python3.11/site-packages/statsmodels/tsa/base/tsa_model.py:836: ValueWarning: No supported index is available. Prediction results will be given with an integer index beginning at `start`.\n",
      "  return get_prediction_index(\n",
      "/Users/molguin/.venvs/EdgeDroid/lib/python3.11/site-packages/statsmodels/tsa/base/tsa_model.py:836: FutureWarning: No supported index is available. In the next version, calling this method in a model without a supported index will result in an exception.\n",
      "  return get_prediction_index(\n",
      "/Users/molguin/.venvs/EdgeDroid/lib/python3.11/site-packages/statsmodels/tsa/base/tsa_model.py:836: ValueWarning: No supported index is available. Prediction results will be given with an integer index beginning at `start`.\n",
      "  return get_prediction_index(\n",
      "/Users/molguin/.venvs/EdgeDroid/lib/python3.11/site-packages/statsmodels/tsa/base/tsa_model.py:836: FutureWarning: No supported index is available. In the next version, calling this method in a model without a supported index will result in an exception.\n",
      "  return get_prediction_index(\n"
     ]
    },
    {
     "name": "stdout",
     "output_type": "stream",
     "text": [
      "Performing stepwise search to minimize aic\n",
      "Near non-invertible roots for order (2, 0, 2)(0, 0, 0, 0); setting score to inf (at least one inverse root too close to the border of the unit circle: 0.998)\n",
      " ARIMA(2,0,2)(0,0,0)[0]             : AIC=inf, Time=0.08 sec\n",
      " ARIMA(0,0,0)(0,0,0)[0]             : AIC=758.439, Time=0.01 sec\n",
      "First viable model found (758.439)\n",
      " ARIMA(1,0,0)(0,0,0)[0]             : AIC=718.636, Time=0.02 sec\n",
      "New best model found (718.636 < 758.439)\n",
      " ARIMA(0,0,1)(0,0,0)[0]             : AIC=740.660, Time=0.02 sec\n",
      " ARIMA(2,0,0)(0,0,0)[0]             : AIC=710.719, Time=0.02 sec\n",
      "New best model found (710.719 < 718.636)\n",
      " ARIMA(3,0,0)(0,0,0)[0]             : AIC=704.820, Time=0.03 sec\n",
      "New best model found (704.820 < 710.719)\n"
     ]
    },
    {
     "name": "stderr",
     "output_type": "stream",
     "text": [
      "/Users/molguin/.venvs/EdgeDroid/lib/python3.11/site-packages/statsmodels/tsa/base/tsa_model.py:836: ValueWarning: No supported index is available. Prediction results will be given with an integer index beginning at `start`.\n",
      "  return get_prediction_index(\n",
      "/Users/molguin/.venvs/EdgeDroid/lib/python3.11/site-packages/statsmodels/tsa/base/tsa_model.py:836: FutureWarning: No supported index is available. In the next version, calling this method in a model without a supported index will result in an exception.\n",
      "  return get_prediction_index(\n",
      "/Users/molguin/.venvs/EdgeDroid/lib/python3.11/site-packages/statsmodels/tsa/base/tsa_model.py:836: ValueWarning: No supported index is available. Prediction results will be given with an integer index beginning at `start`.\n",
      "  return get_prediction_index(\n",
      "/Users/molguin/.venvs/EdgeDroid/lib/python3.11/site-packages/statsmodels/tsa/base/tsa_model.py:836: FutureWarning: No supported index is available. In the next version, calling this method in a model without a supported index will result in an exception.\n",
      "  return get_prediction_index(\n",
      "/Users/molguin/.venvs/EdgeDroid/lib/python3.11/site-packages/statsmodels/tsa/base/tsa_model.py:836: ValueWarning: No supported index is available. Prediction results will be given with an integer index beginning at `start`.\n",
      "  return get_prediction_index(\n",
      "/Users/molguin/.venvs/EdgeDroid/lib/python3.11/site-packages/statsmodels/tsa/base/tsa_model.py:836: FutureWarning: No supported index is available. In the next version, calling this method in a model without a supported index will result in an exception.\n",
      "  return get_prediction_index(\n"
     ]
    },
    {
     "name": "stdout",
     "output_type": "stream",
     "text": [
      " ARIMA(4,0,0)(0,0,0)[0]             : AIC=697.871, Time=0.05 sec\n",
      "New best model found (697.871 < 704.820)\n",
      " ARIMA(5,0,0)(0,0,0)[0]             : AIC=687.783, Time=0.06 sec\n",
      "New best model found (687.783 < 697.871)\n",
      " ARIMA(6,0,0)(0,0,0)[0]             : AIC=689.338, Time=0.08 sec\n"
     ]
    },
    {
     "name": "stderr",
     "output_type": "stream",
     "text": [
      "/Users/molguin/.venvs/EdgeDroid/lib/python3.11/site-packages/statsmodels/tsa/base/tsa_model.py:836: ValueWarning: No supported index is available. Prediction results will be given with an integer index beginning at `start`.\n",
      "  return get_prediction_index(\n",
      "/Users/molguin/.venvs/EdgeDroid/lib/python3.11/site-packages/statsmodels/tsa/base/tsa_model.py:836: FutureWarning: No supported index is available. In the next version, calling this method in a model without a supported index will result in an exception.\n",
      "  return get_prediction_index(\n"
     ]
    },
    {
     "name": "stdout",
     "output_type": "stream",
     "text": [
      "Near non-invertible roots for order (5, 0, 1)(0, 0, 0, 0); setting score to inf (at least one inverse root too close to the border of the unit circle: 0.999)\n",
      " ARIMA(5,0,1)(0,0,0)[0]             : AIC=inf, Time=0.42 sec\n"
     ]
    },
    {
     "name": "stderr",
     "output_type": "stream",
     "text": [
      "/Users/molguin/.venvs/EdgeDroid/lib/python3.11/site-packages/statsmodels/tsa/base/tsa_model.py:836: ValueWarning: No supported index is available. Prediction results will be given with an integer index beginning at `start`.\n",
      "  return get_prediction_index(\n",
      "/Users/molguin/.venvs/EdgeDroid/lib/python3.11/site-packages/statsmodels/tsa/base/tsa_model.py:836: FutureWarning: No supported index is available. In the next version, calling this method in a model without a supported index will result in an exception.\n",
      "  return get_prediction_index(\n"
     ]
    },
    {
     "name": "stdout",
     "output_type": "stream",
     "text": [
      "Near non-invertible roots for order (4, 0, 1)(0, 0, 0, 0); setting score to inf (at least one inverse root too close to the border of the unit circle: 0.998)\n",
      " ARIMA(4,0,1)(0,0,0)[0]             : AIC=inf, Time=0.23 sec\n"
     ]
    },
    {
     "name": "stderr",
     "output_type": "stream",
     "text": [
      "/Users/molguin/.venvs/EdgeDroid/lib/python3.11/site-packages/statsmodels/tsa/base/tsa_model.py:836: ValueWarning: No supported index is available. Prediction results will be given with an integer index beginning at `start`.\n",
      "  return get_prediction_index(\n",
      "/Users/molguin/.venvs/EdgeDroid/lib/python3.11/site-packages/statsmodels/tsa/base/tsa_model.py:836: FutureWarning: No supported index is available. In the next version, calling this method in a model without a supported index will result in an exception.\n",
      "  return get_prediction_index(\n",
      "/Users/molguin/.venvs/EdgeDroid/lib/python3.11/site-packages/statsmodels/tsa/base/tsa_model.py:836: ValueWarning: No supported index is available. Prediction results will be given with an integer index beginning at `start`.\n",
      "  return get_prediction_index(\n",
      "/Users/molguin/.venvs/EdgeDroid/lib/python3.11/site-packages/statsmodels/tsa/base/tsa_model.py:836: FutureWarning: No supported index is available. In the next version, calling this method in a model without a supported index will result in an exception.\n",
      "  return get_prediction_index(\n"
     ]
    },
    {
     "name": "stdout",
     "output_type": "stream",
     "text": [
      "Near non-invertible roots for order (6, 0, 1)(0, 0, 0, 0); setting score to inf (at least one inverse root too close to the border of the unit circle: 0.999)\n",
      " ARIMA(6,0,1)(0,0,0)[0]             : AIC=inf, Time=0.50 sec\n",
      " ARIMA(5,0,0)(0,0,0)[0] intercept   : AIC=661.775, Time=0.12 sec\n",
      "New best model found (661.775 < 687.783)\n"
     ]
    },
    {
     "name": "stderr",
     "output_type": "stream",
     "text": [
      "/Users/molguin/.venvs/EdgeDroid/lib/python3.11/site-packages/statsmodels/tsa/base/tsa_model.py:836: ValueWarning: No supported index is available. Prediction results will be given with an integer index beginning at `start`.\n",
      "  return get_prediction_index(\n",
      "/Users/molguin/.venvs/EdgeDroid/lib/python3.11/site-packages/statsmodels/tsa/base/tsa_model.py:836: FutureWarning: No supported index is available. In the next version, calling this method in a model without a supported index will result in an exception.\n",
      "  return get_prediction_index(\n",
      "/Users/molguin/.venvs/EdgeDroid/lib/python3.11/site-packages/statsmodels/tsa/base/tsa_model.py:836: ValueWarning: No supported index is available. Prediction results will be given with an integer index beginning at `start`.\n",
      "  return get_prediction_index(\n",
      "/Users/molguin/.venvs/EdgeDroid/lib/python3.11/site-packages/statsmodels/tsa/base/tsa_model.py:836: FutureWarning: No supported index is available. In the next version, calling this method in a model without a supported index will result in an exception.\n",
      "  return get_prediction_index(\n",
      "/Users/molguin/.venvs/EdgeDroid/lib/python3.11/site-packages/statsmodels/tsa/base/tsa_model.py:836: ValueWarning: No supported index is available. Prediction results will be given with an integer index beginning at `start`.\n",
      "  return get_prediction_index(\n",
      "/Users/molguin/.venvs/EdgeDroid/lib/python3.11/site-packages/statsmodels/tsa/base/tsa_model.py:836: FutureWarning: No supported index is available. In the next version, calling this method in a model without a supported index will result in an exception.\n",
      "  return get_prediction_index(\n",
      "/Users/molguin/.venvs/EdgeDroid/lib/python3.11/site-packages/statsmodels/tsa/base/tsa_model.py:836: ValueWarning: No supported index is available. Prediction results will be given with an integer index beginning at `start`.\n",
      "  return get_prediction_index(\n",
      "/Users/molguin/.venvs/EdgeDroid/lib/python3.11/site-packages/statsmodels/tsa/base/tsa_model.py:836: FutureWarning: No supported index is available. In the next version, calling this method in a model without a supported index will result in an exception.\n",
      "  return get_prediction_index(\n"
     ]
    },
    {
     "name": "stdout",
     "output_type": "stream",
     "text": [
      " ARIMA(4,0,0)(0,0,0)[0] intercept   : AIC=660.180, Time=0.12 sec\n",
      "New best model found (660.180 < 661.775)\n",
      " ARIMA(3,0,0)(0,0,0)[0] intercept   : AIC=659.375, Time=0.08 sec\n",
      "New best model found (659.375 < 660.180)\n",
      " ARIMA(2,0,0)(0,0,0)[0] intercept   : AIC=658.837, Time=0.04 sec\n",
      "New best model found (658.837 < 659.375)\n",
      " ARIMA(1,0,0)(0,0,0)[0] intercept   : AIC=658.976, Time=0.03 sec\n"
     ]
    },
    {
     "name": "stderr",
     "output_type": "stream",
     "text": [
      "/Users/molguin/.venvs/EdgeDroid/lib/python3.11/site-packages/statsmodels/tsa/base/tsa_model.py:836: ValueWarning: No supported index is available. Prediction results will be given with an integer index beginning at `start`.\n",
      "  return get_prediction_index(\n",
      "/Users/molguin/.venvs/EdgeDroid/lib/python3.11/site-packages/statsmodels/tsa/base/tsa_model.py:836: FutureWarning: No supported index is available. In the next version, calling this method in a model without a supported index will result in an exception.\n",
      "  return get_prediction_index(\n",
      "/Users/molguin/.venvs/EdgeDroid/lib/python3.11/site-packages/statsmodels/tsa/base/tsa_model.py:836: ValueWarning: No supported index is available. Prediction results will be given with an integer index beginning at `start`.\n",
      "  return get_prediction_index(\n",
      "/Users/molguin/.venvs/EdgeDroid/lib/python3.11/site-packages/statsmodels/tsa/base/tsa_model.py:836: FutureWarning: No supported index is available. In the next version, calling this method in a model without a supported index will result in an exception.\n",
      "  return get_prediction_index(\n"
     ]
    },
    {
     "name": "stdout",
     "output_type": "stream",
     "text": [
      " ARIMA(2,0,1)(0,0,0)[0] intercept   : AIC=658.258, Time=0.10 sec\n",
      "New best model found (658.258 < 658.837)\n",
      "Near non-invertible roots for order (1, 0, 1)(0, 0, 0, 0); setting score to inf (at least one inverse root too close to the border of the unit circle: 1.000)\n",
      " ARIMA(1,0,1)(0,0,0)[0] intercept   : AIC=inf, Time=0.19 sec\n"
     ]
    },
    {
     "name": "stderr",
     "output_type": "stream",
     "text": [
      "/Users/molguin/.venvs/EdgeDroid/lib/python3.11/site-packages/statsmodels/tsa/base/tsa_model.py:836: ValueWarning: No supported index is available. Prediction results will be given with an integer index beginning at `start`.\n",
      "  return get_prediction_index(\n",
      "/Users/molguin/.venvs/EdgeDroid/lib/python3.11/site-packages/statsmodels/tsa/base/tsa_model.py:836: FutureWarning: No supported index is available. In the next version, calling this method in a model without a supported index will result in an exception.\n",
      "  return get_prediction_index(\n",
      "/Users/molguin/.venvs/EdgeDroid/lib/python3.11/site-packages/statsmodels/tsa/base/tsa_model.py:836: ValueWarning: No supported index is available. Prediction results will be given with an integer index beginning at `start`.\n",
      "  return get_prediction_index(\n",
      "/Users/molguin/.venvs/EdgeDroid/lib/python3.11/site-packages/statsmodels/tsa/base/tsa_model.py:836: FutureWarning: No supported index is available. In the next version, calling this method in a model without a supported index will result in an exception.\n",
      "  return get_prediction_index(\n",
      "/Users/molguin/.venvs/EdgeDroid/lib/python3.11/site-packages/statsmodels/tsa/base/tsa_model.py:836: ValueWarning: No supported index is available. Prediction results will be given with an integer index beginning at `start`.\n",
      "  return get_prediction_index(\n",
      "/Users/molguin/.venvs/EdgeDroid/lib/python3.11/site-packages/statsmodels/tsa/base/tsa_model.py:836: FutureWarning: No supported index is available. In the next version, calling this method in a model without a supported index will result in an exception.\n",
      "  return get_prediction_index(\n"
     ]
    },
    {
     "name": "stdout",
     "output_type": "stream",
     "text": [
      " ARIMA(3,0,1)(0,0,0)[0] intercept   : AIC=660.219, Time=0.13 sec\n",
      " ARIMA(2,0,2)(0,0,0)[0] intercept   : AIC=660.168, Time=0.11 sec\n",
      " ARIMA(1,0,2)(0,0,0)[0] intercept   : AIC=659.258, Time=0.06 sec\n",
      "Near non-invertible roots for order (3, 0, 2)(0, 0, 0, 0); setting score to inf (at least one inverse root too close to the border of the unit circle: 1.000)\n",
      " ARIMA(3,0,2)(0,0,0)[0] intercept   : AIC=inf, Time=0.16 sec\n",
      "Near non-invertible roots for order (2, 0, 1)(0, 0, 0, 0); setting score to inf (at least one inverse root too close to the border of the unit circle: 0.999)\n",
      " ARIMA(2,0,1)(0,0,0)[0]             : AIC=inf, Time=0.08 sec\n",
      "\n",
      "Best model:  ARIMA(2,0,1)(0,0,0)[0] intercept\n",
      "Total fit time: 2.736 seconds\n",
      "                               SARIMAX Results                                \n",
      "==============================================================================\n",
      "Dep. Variable:                      y   No. Observations:                  140\n",
      "Model:               SARIMAX(2, 0, 1)   Log Likelihood                -323.129\n",
      "Date:                Sat, 07 Oct 2023   AIC                            658.258\n",
      "Time:                        13:49:02   BIC                            675.908\n",
      "Sample:                             0   HQIC                           665.431\n",
      "                                - 140                                         \n",
      "Covariance Type:                  opg                                         \n",
      "==============================================================================\n",
      "                 coef    std err          z      P>|z|      [0.025      0.975]\n",
      "------------------------------------------------------------------------------\n",
      "intercept      3.0336      2.161      1.404      0.160      -1.202       7.269\n",
      "x1            -0.0339      0.171     -0.198      0.843      -0.370       0.302\n",
      "ar.L1          0.6584      0.470      1.401      0.161      -0.263       1.579\n",
      "ar.L2         -0.2512      0.105     -2.397      0.017      -0.457      -0.046\n",
      "ma.L1         -0.4505      0.498     -0.904      0.366      -1.427       0.526\n",
      "sigma2         5.9124      0.627      9.423      0.000       4.683       7.142\n",
      "===================================================================================\n",
      "Ljung-Box (L1) (Q):                   0.00   Jarque-Bera (JB):               153.21\n",
      "Prob(Q):                              0.95   Prob(JB):                         0.00\n",
      "Heteroskedasticity (H):               2.55   Skew:                             1.39\n",
      "Prob(H) (two-sided):                  0.00   Kurtosis:                         7.30\n",
      "===================================================================================\n",
      "\n",
      "Warnings:\n",
      "[1] Covariance matrix calculated using the outer product of gradients (complex-step).\n"
     ]
    },
    {
     "name": "stderr",
     "output_type": "stream",
     "text": [
      "/Users/molguin/.venvs/EdgeDroid/lib/python3.11/site-packages/statsmodels/tsa/base/tsa_model.py:836: ValueWarning: No supported index is available. Prediction results will be given with an integer index beginning at `start`.\n",
      "  return get_prediction_index(\n",
      "/Users/molguin/.venvs/EdgeDroid/lib/python3.11/site-packages/statsmodels/tsa/base/tsa_model.py:836: FutureWarning: No supported index is available. In the next version, calling this method in a model without a supported index will result in an exception.\n",
      "  return get_prediction_index(\n",
      "/Users/molguin/.venvs/EdgeDroid/lib/python3.11/site-packages/statsmodels/tsa/base/tsa_model.py:836: ValueWarning: No supported index is available. Prediction results will be given with an integer index beginning at `start`.\n",
      "  return get_prediction_index(\n",
      "/Users/molguin/.venvs/EdgeDroid/lib/python3.11/site-packages/statsmodels/tsa/base/tsa_model.py:836: FutureWarning: No supported index is available. In the next version, calling this method in a model without a supported index will result in an exception.\n",
      "  return get_prediction_index(\n"
     ]
    }
   ],
   "source": [
    "from pmdarima import ARIMA\n",
    "\n",
    "model: ARIMA = pm.auto_arima(\n",
    "    y=train[\"exec_time\"],\n",
    "    X=train[[\"ttf\"]],\n",
    "    n_jobs=-1,\n",
    "    trace=5,\n",
    "    stepwise=True,\n",
    "    seasonal=False,\n",
    "    stationary=False,\n",
    "    maxiter=500,\n",
    "    start_p=2, max_p=8,\n",
    "    start_q=2, max_q=8,\n",
    "    max_order=None,\n",
    "    error_action=\"ignore\",\n",
    "    suppress_warnings=True,\n",
    "    # information_criterion=\"oob\",\n",
    "    out_of_sample_size=10,\n",
    ")\n",
    "print(model.summary())"
   ],
   "metadata": {
    "collapsed": false,
    "ExecuteTime": {
     "end_time": "2023-10-07T17:49:02.168680Z",
     "start_time": "2023-10-07T17:48:59.428807Z"
    }
   },
   "id": "ba1c610cb0ff15a4"
  },
  {
   "cell_type": "code",
   "execution_count": 16,
   "outputs": [
    {
     "name": "stderr",
     "output_type": "stream",
     "text": [
      "/Users/molguin/.venvs/EdgeDroid/lib/python3.11/site-packages/pmdarima/utils/visualization.py:220: FutureWarning: the 'unbiased' keyword is deprecated, use 'adjusted' instead.\n",
      "  res = tsaplots.plot_acf(\n"
     ]
    },
    {
     "data": {
      "text/plain": "<Figure size 640x480 with 1 Axes>",
      "image/png": "[encoded data removed]"
     },
     "metadata": {},
     "output_type": "display_data"
    }
   ],
   "source": [
    "pm.plot_acf(data[\"exec_time\"])"
   ],
   "metadata": {
    "collapsed": false,
    "ExecuteTime": {
     "end_time": "2023-10-07T17:52:34.556122Z",
     "start_time": "2023-10-07T17:52:34.384206Z"
    }
   },
   "id": "1899a2381573a4ac"
  }
 ],
 "metadata": {
  "kernelspec": {
   "display_name": "Python 3",
   "language": "python",
   "name": "python3"
  },
  "language_info": {
   "codemirror_mode": {
    "name": "ipython",
    "version": 2
   },
   "file_extension": ".py",
   "mimetype": "text/x-python",
   "name": "python",
   "nbconvert_exporter": "python",
   "pygments_lexer": "ipython2",
   "version": "2.7.6"
  }
 },
 "nbformat": 4,
 "nbformat_minor": 5
}
