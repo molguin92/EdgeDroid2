{
 "cells": [
  {
   "cell_type": "code",
   "execution_count": 11,
   "id": "initial_id",
   "metadata": {
    "ExecuteTime": {
     "end_time": "2023-12-11T14:29:38.908352Z",
     "start_time": "2023-12-11T14:29:38.883513Z"
    }
   },
   "outputs": [
    {
     "data": {
      "text/plain": "      run_id       ttf  exec_time  neuroticism\n0     134146  0.597441   3.654797        0.375\n1     134146  0.553513   4.438645        0.375\n2     134146  0.561716   2.943222        0.375\n3     134146  0.586512   5.405761        0.375\n4     134146  0.558940   5.225161        0.375\n...      ...       ...        ...          ...\n6755  137353  0.557074   6.439071        0.625\n6756  137353  0.534339   4.680858        0.625\n6757  137353  0.560288   3.467878        0.625\n6758  137353  0.579000   2.325759        0.625\n6759  137353  0.536671   4.615283        0.625\n\n[6760 rows x 4 columns]",
      "text/html": "<div>\n<style scoped>\n    .dataframe tbody tr th:only-of-type {\n        vertical-align: middle;\n    }\n\n    .dataframe tbody tr th {\n        vertical-align: top;\n    }\n\n    .dataframe thead th {\n        text-align: right;\n    }\n</style>\n<table border=\"1\" class=\"dataframe\">\n  <thead>\n    <tr style=\"text-align: right;\">\n      <th></th>\n      <th>run_id</th>\n      <th>ttf</th>\n      <th>exec_time</th>\n      <th>neuroticism</th>\n    </tr>\n  </thead>\n  <tbody>\n    <tr>\n      <th>0</th>\n      <td>134146</td>\n      <td>0.597441</td>\n      <td>3.654797</td>\n      <td>0.375</td>\n    </tr>\n    <tr>\n      <th>1</th>\n      <td>134146</td>\n      <td>0.553513</td>\n      <td>4.438645</td>\n      <td>0.375</td>\n    </tr>\n    <tr>\n      <th>2</th>\n      <td>134146</td>\n      <td>0.561716</td>\n      <td>2.943222</td>\n      <td>0.375</td>\n    </tr>\n    <tr>\n      <th>3</th>\n      <td>134146</td>\n      <td>0.586512</td>\n      <td>5.405761</td>\n      <td>0.375</td>\n    </tr>\n    <tr>\n      <th>4</th>\n      <td>134146</td>\n      <td>0.558940</td>\n      <td>5.225161</td>\n      <td>0.375</td>\n    </tr>\n    <tr>\n      <th>...</th>\n      <td>...</td>\n      <td>...</td>\n      <td>...</td>\n      <td>...</td>\n    </tr>\n    <tr>\n      <th>6755</th>\n      <td>137353</td>\n      <td>0.557074</td>\n      <td>6.439071</td>\n      <td>0.625</td>\n    </tr>\n    <tr>\n      <th>6756</th>\n      <td>137353</td>\n      <td>0.534339</td>\n      <td>4.680858</td>\n      <td>0.625</td>\n    </tr>\n    <tr>\n      <th>6757</th>\n      <td>137353</td>\n      <td>0.560288</td>\n      <td>3.467878</td>\n      <td>0.625</td>\n    </tr>\n    <tr>\n      <th>6758</th>\n      <td>137353</td>\n      <td>0.579000</td>\n      <td>2.325759</td>\n      <td>0.625</td>\n    </tr>\n    <tr>\n      <th>6759</th>\n      <td>137353</td>\n      <td>0.536671</td>\n      <td>4.615283</td>\n      <td>0.625</td>\n    </tr>\n  </tbody>\n</table>\n<p>6760 rows × 4 columns</p>\n</div>"
     },
     "execution_count": 11,
     "metadata": {},
     "output_type": "execute_result"
    }
   ],
   "source": [
    "import warnings\n",
    "warnings.simplefilter(action='ignore', category=FutureWarning)\n",
    "\n",
    "from edgedroid.models.timings import *\n",
    "import edgedroid.data as default_data\n",
    "\n",
    "exec_time_data, neuroticism_data, imp_data, dur_data = default_data.load_default_exec_time_data()\n",
    "exec_time_data"
   ]
  },
  {
   "cell_type": "code",
   "execution_count": 12,
   "id": "fa157f7dd9b7b7a2",
   "metadata": {
    "collapsed": false,
    "ExecuteTime": {
     "end_time": "2023-12-11T14:29:39.058330Z",
     "start_time": "2023-12-11T14:29:38.902803Z"
    }
   },
   "outputs": [
    {
     "data": {
      "text/plain": "      run_id       ttf  next_exec_time  neuroticism  neuroticism_raw  \\\n0     134146  0.000000        3.654797  [-inf, 0.5)            0.375   \n1     134146  0.597441        4.438645  [-inf, 0.5)            0.375   \n2     134146  0.553513        2.943222  [-inf, 0.5)            0.375   \n3     134146  0.561716        5.405761  [-inf, 0.5)            0.375   \n4     134146  0.586512        5.225161  [-inf, 0.5)            0.375   \n...      ...       ...             ...          ...              ...   \n6755  137353  0.577341        6.439071   [0.5, inf)            0.625   \n6756  137353  0.557074        4.680858   [0.5, inf)            0.625   \n6757  137353  0.534339        3.467878   [0.5, inf)            0.625   \n6758  137353  0.560288        2.325759   [0.5, inf)            0.625   \n6759  137353  0.579000        4.615283   [0.5, inf)            0.625   \n\n                      impairment     duration    transition  duration_raw  \n0     [-inf, 1.4817823276676907)   [0.0, 5.0)  NoTransition             1  \n1     [-inf, 1.4817823276676907)   [0.0, 5.0)  NoTransition             2  \n2     [-inf, 1.4817823276676907)   [0.0, 5.0)  NoTransition             3  \n3     [-inf, 1.4817823276676907)   [0.0, 5.0)  NoTransition             4  \n4     [-inf, 1.4817823276676907)  [5.0, 10.0)  NoTransition             5  \n...                          ...          ...           ...           ...  \n6755  [-inf, 1.4817823276676907)  [5.0, 10.0)  Higher2Lower             6  \n6756  [-inf, 1.4817823276676907)  [5.0, 10.0)  Higher2Lower             7  \n6757  [-inf, 1.4817823276676907)  [5.0, 10.0)  Higher2Lower             8  \n6758  [-inf, 1.4817823276676907)  [5.0, 10.0)  Higher2Lower             9  \n6759  [-inf, 1.4817823276676907)  [10.0, inf)  Higher2Lower            10  \n\n[6760 rows x 9 columns]",
      "text/html": "<div>\n<style scoped>\n    .dataframe tbody tr th:only-of-type {\n        vertical-align: middle;\n    }\n\n    .dataframe tbody tr th {\n        vertical-align: top;\n    }\n\n    .dataframe thead th {\n        text-align: right;\n    }\n</style>\n<table border=\"1\" class=\"dataframe\">\n  <thead>\n    <tr style=\"text-align: right;\">\n      <th></th>\n      <th>run_id</th>\n      <th>ttf</th>\n      <th>next_exec_time</th>\n      <th>neuroticism</th>\n      <th>neuroticism_raw</th>\n      <th>impairment</th>\n      <th>duration</th>\n      <th>transition</th>\n      <th>duration_raw</th>\n    </tr>\n  </thead>\n  <tbody>\n    <tr>\n      <th>0</th>\n      <td>134146</td>\n      <td>0.000000</td>\n      <td>3.654797</td>\n      <td>[-inf, 0.5)</td>\n      <td>0.375</td>\n      <td>[-inf, 1.4817823276676907)</td>\n      <td>[0.0, 5.0)</td>\n      <td>NoTransition</td>\n      <td>1</td>\n    </tr>\n    <tr>\n      <th>1</th>\n      <td>134146</td>\n      <td>0.597441</td>\n      <td>4.438645</td>\n      <td>[-inf, 0.5)</td>\n      <td>0.375</td>\n      <td>[-inf, 1.4817823276676907)</td>\n      <td>[0.0, 5.0)</td>\n      <td>NoTransition</td>\n      <td>2</td>\n    </tr>\n    <tr>\n      <th>2</th>\n      <td>134146</td>\n      <td>0.553513</td>\n      <td>2.943222</td>\n      <td>[-inf, 0.5)</td>\n      <td>0.375</td>\n      <td>[-inf, 1.4817823276676907)</td>\n      <td>[0.0, 5.0)</td>\n      <td>NoTransition</td>\n      <td>3</td>\n    </tr>\n    <tr>\n      <th>3</th>\n      <td>134146</td>\n      <td>0.561716</td>\n      <td>5.405761</td>\n      <td>[-inf, 0.5)</td>\n      <td>0.375</td>\n      <td>[-inf, 1.4817823276676907)</td>\n      <td>[0.0, 5.0)</td>\n      <td>NoTransition</td>\n      <td>4</td>\n    </tr>\n    <tr>\n      <th>4</th>\n      <td>134146</td>\n      <td>0.586512</td>\n      <td>5.225161</td>\n      <td>[-inf, 0.5)</td>\n      <td>0.375</td>\n      <td>[-inf, 1.4817823276676907)</td>\n      <td>[5.0, 10.0)</td>\n      <td>NoTransition</td>\n      <td>5</td>\n    </tr>\n    <tr>\n      <th>...</th>\n      <td>...</td>\n      <td>...</td>\n      <td>...</td>\n      <td>...</td>\n      <td>...</td>\n      <td>...</td>\n      <td>...</td>\n      <td>...</td>\n      <td>...</td>\n    </tr>\n    <tr>\n      <th>6755</th>\n      <td>137353</td>\n      <td>0.577341</td>\n      <td>6.439071</td>\n      <td>[0.5, inf)</td>\n      <td>0.625</td>\n      <td>[-inf, 1.4817823276676907)</td>\n      <td>[5.0, 10.0)</td>\n      <td>Higher2Lower</td>\n      <td>6</td>\n    </tr>\n    <tr>\n      <th>6756</th>\n      <td>137353</td>\n      <td>0.557074</td>\n      <td>4.680858</td>\n      <td>[0.5, inf)</td>\n      <td>0.625</td>\n      <td>[-inf, 1.4817823276676907)</td>\n      <td>[5.0, 10.0)</td>\n      <td>Higher2Lower</td>\n      <td>7</td>\n    </tr>\n    <tr>\n      <th>6757</th>\n      <td>137353</td>\n      <td>0.534339</td>\n      <td>3.467878</td>\n      <td>[0.5, inf)</td>\n      <td>0.625</td>\n      <td>[-inf, 1.4817823276676907)</td>\n      <td>[5.0, 10.0)</td>\n      <td>Higher2Lower</td>\n      <td>8</td>\n    </tr>\n    <tr>\n      <th>6758</th>\n      <td>137353</td>\n      <td>0.560288</td>\n      <td>2.325759</td>\n      <td>[0.5, inf)</td>\n      <td>0.625</td>\n      <td>[-inf, 1.4817823276676907)</td>\n      <td>[5.0, 10.0)</td>\n      <td>Higher2Lower</td>\n      <td>9</td>\n    </tr>\n    <tr>\n      <th>6759</th>\n      <td>137353</td>\n      <td>0.579000</td>\n      <td>4.615283</td>\n      <td>[0.5, inf)</td>\n      <td>0.625</td>\n      <td>[-inf, 1.4817823276676907)</td>\n      <td>[10.0, inf)</td>\n      <td>Higher2Lower</td>\n      <td>10</td>\n    </tr>\n  </tbody>\n</table>\n<p>6760 rows × 9 columns</p>\n</div>"
     },
     "execution_count": 12,
     "metadata": {},
     "output_type": "execute_result"
    }
   ],
   "source": [
    "data = preprocess_data(exec_time_data, neuroticism_data, imp_data, dur_data)\n",
    "data"
   ]
  },
  {
   "cell_type": "code",
   "execution_count": 13,
   "id": "20486260a5187244",
   "metadata": {
    "collapsed": false,
    "ExecuteTime": {
     "end_time": "2023-12-11T14:29:43.774927Z",
     "start_time": "2023-12-11T14:29:39.055923Z"
    }
   },
   "outputs": [
    {
     "data": {
      "text/plain": "Run:   0%|          | 0/40 [00:00<?, ?it/s]",
      "application/vnd.jupyter.widget-view+json": {
       "version_major": 2,
       "version_minor": 0,
       "model_id": "7366a67b95c04443a25a4b4976074ddf"
      }
     },
     "metadata": {},
     "output_type": "display_data"
    },
    {
     "data": {
      "text/plain": "            real  prediction     error  sqr_error               model kernel  \\\n0       3.654797    2.769598 -0.885199   0.783578           1st order   none   \n1       3.654797    5.261648  1.606851   2.581971  1st order (median)   none   \n2       3.654797    5.873496  2.218699   4.922626    1st order (mean)   none   \n3       3.654797    3.823894  0.169097   0.028594       Curve fitting   none   \n4       4.438645    7.004256  2.565612   6.582364           1st order   none   \n...          ...         ...       ...        ...                 ...    ...   \n811195  2.325759    3.905335  1.579576   2.495062       Curve fitting   none   \n811196  4.615283    3.199318 -1.415965   2.004957           1st order   none   \n811197  4.615283    5.211066  0.595783   0.354957  1st order (median)   none   \n811198  4.615283    5.821658  1.206375   1.455340    1st order (mean)   none   \n811199  4.615283    3.905335 -0.709948   0.504026       Curve fitting   none   \n\n        ttf_bins  window_size  \n0              0            0  \n1              0            0  \n2              0            0  \n3              0            0  \n4              0            0  \n...          ...          ...  \n811195         0            0  \n811196         0            0  \n811197         0            0  \n811198         0            0  \n811199         0            0  \n\n[811200 rows x 8 columns]",
      "text/html": "<div>\n<style scoped>\n    .dataframe tbody tr th:only-of-type {\n        vertical-align: middle;\n    }\n\n    .dataframe tbody tr th {\n        vertical-align: top;\n    }\n\n    .dataframe thead th {\n        text-align: right;\n    }\n</style>\n<table border=\"1\" class=\"dataframe\">\n  <thead>\n    <tr style=\"text-align: right;\">\n      <th></th>\n      <th>real</th>\n      <th>prediction</th>\n      <th>error</th>\n      <th>sqr_error</th>\n      <th>model</th>\n      <th>kernel</th>\n      <th>ttf_bins</th>\n      <th>window_size</th>\n    </tr>\n  </thead>\n  <tbody>\n    <tr>\n      <th>0</th>\n      <td>3.654797</td>\n      <td>2.769598</td>\n      <td>-0.885199</td>\n      <td>0.783578</td>\n      <td>1st order</td>\n      <td>none</td>\n      <td>0</td>\n      <td>0</td>\n    </tr>\n    <tr>\n      <th>1</th>\n      <td>3.654797</td>\n      <td>5.261648</td>\n      <td>1.606851</td>\n      <td>2.581971</td>\n      <td>1st order (median)</td>\n      <td>none</td>\n      <td>0</td>\n      <td>0</td>\n    </tr>\n    <tr>\n      <th>2</th>\n      <td>3.654797</td>\n      <td>5.873496</td>\n      <td>2.218699</td>\n      <td>4.922626</td>\n      <td>1st order (mean)</td>\n      <td>none</td>\n      <td>0</td>\n      <td>0</td>\n    </tr>\n    <tr>\n      <th>3</th>\n      <td>3.654797</td>\n      <td>3.823894</td>\n      <td>0.169097</td>\n      <td>0.028594</td>\n      <td>Curve fitting</td>\n      <td>none</td>\n      <td>0</td>\n      <td>0</td>\n    </tr>\n    <tr>\n      <th>4</th>\n      <td>4.438645</td>\n      <td>7.004256</td>\n      <td>2.565612</td>\n      <td>6.582364</td>\n      <td>1st order</td>\n      <td>none</td>\n      <td>0</td>\n      <td>0</td>\n    </tr>\n    <tr>\n      <th>...</th>\n      <td>...</td>\n      <td>...</td>\n      <td>...</td>\n      <td>...</td>\n      <td>...</td>\n      <td>...</td>\n      <td>...</td>\n      <td>...</td>\n    </tr>\n    <tr>\n      <th>811195</th>\n      <td>2.325759</td>\n      <td>3.905335</td>\n      <td>1.579576</td>\n      <td>2.495062</td>\n      <td>Curve fitting</td>\n      <td>none</td>\n      <td>0</td>\n      <td>0</td>\n    </tr>\n    <tr>\n      <th>811196</th>\n      <td>4.615283</td>\n      <td>3.199318</td>\n      <td>-1.415965</td>\n      <td>2.004957</td>\n      <td>1st order</td>\n      <td>none</td>\n      <td>0</td>\n      <td>0</td>\n    </tr>\n    <tr>\n      <th>811197</th>\n      <td>4.615283</td>\n      <td>5.211066</td>\n      <td>0.595783</td>\n      <td>0.354957</td>\n      <td>1st order (median)</td>\n      <td>none</td>\n      <td>0</td>\n      <td>0</td>\n    </tr>\n    <tr>\n      <th>811198</th>\n      <td>4.615283</td>\n      <td>5.821658</td>\n      <td>1.206375</td>\n      <td>1.455340</td>\n      <td>1st order (mean)</td>\n      <td>none</td>\n      <td>0</td>\n      <td>0</td>\n    </tr>\n    <tr>\n      <th>811199</th>\n      <td>4.615283</td>\n      <td>3.905335</td>\n      <td>-0.709948</td>\n      <td>0.504026</td>\n      <td>Curve fitting</td>\n      <td>none</td>\n      <td>0</td>\n      <td>0</td>\n    </tr>\n  </tbody>\n</table>\n<p>811200 rows × 8 columns</p>\n</div>"
     },
     "execution_count": 13,
     "metadata": {},
     "output_type": "execute_result"
    }
   ],
   "source": [
    "import itertools\n",
    "from collections import deque\n",
    "import pandas as pd\n",
    "from typing import Tuple, Deque\n",
    "from tqdm.notebook import tqdm\n",
    "import numpy as np\n",
    "\n",
    "result_rows = deque()\n",
    "\n",
    "curve_fitting_data = default_data.load_curve_fitting_data()\n",
    "\n",
    "for run_id in tqdm(data[\"run_id\"].unique(), desc=\"Run\"):\n",
    "    test_data = data[data[\"run_id\"] == run_id].copy()\n",
    "\n",
    "    def get_test_data(*args, **kwargs) -> Tuple[pd.DataFrame, pd.arrays.IntervalArray, pd.arrays.IntervalArray, pd.arrays.IntervalArray]:\n",
    "        etime_data = exec_time_data[exec_time_data[\"run_id\"] != run_id].copy()\n",
    "        return etime_data, neuroticism_data, imp_data, dur_data\n",
    "    \n",
    "    class CurveFittingTestModel(CurveFittingExecutionTimeModel):\n",
    "        @staticmethod\n",
    "        def get_data() -> (\n",
    "            Tuple[\n",
    "                pd.DataFrame,\n",
    "                pd.arrays.IntervalArray,\n",
    "                pd.arrays.IntervalArray,\n",
    "                pd.arrays.IntervalArray,\n",
    "            ]\n",
    "        ):\n",
    "            data = curve_fitting_data[curve_fitting_data[\"participant\"] != run_id].copy()\n",
    "            return data, None, None, None\n",
    "\n",
    "    class EmpiricalTestModel(EmpiricalETM):\n",
    "        get_data = get_test_data\n",
    "        \n",
    "    class EmpiricalMeanTestModel(EmpiricalAggregateETM):\n",
    "        get_data = get_test_data\n",
    "        \n",
    "        def __init__(self, *args, **kwargs):\n",
    "            super().__init__(*args, aggregate_fn=np.mean, **kwargs)\n",
    "            \n",
    "    class EmpiricalMedianTestModel(EmpiricalAggregateETM):\n",
    "        get_data = get_test_data\n",
    "        \n",
    "        def __init__(self, *args, **kwargs):\n",
    "            super().__init__(*args, aggregate_fn=np.median, **kwargs)\n",
    "        \n",
    "    class TheoreticalTestModel(FittedETM):\n",
    "        get_data = get_test_data\n",
    "\n",
    "    class NaiveTestModel(FirstOrderETM):\n",
    "        get_data = get_test_data\n",
    "        \n",
    "    class NaiveAggTestModel(FirstOrderAggregateETM):\n",
    "        get_data = get_test_data\n",
    "        \n",
    "    cleanup = CleanupMode.TRUNCATE\n",
    "\n",
    "    neuroticism = test_data[\"neuroticism_raw\"].unique()[0]\n",
    "    naive_model = NaiveTestModel()\n",
    "    naive_mean_model = NaiveAggTestModel(np.mean)\n",
    "    naive_median_model = NaiveAggTestModel(np.median)\n",
    "    curve_fitting_model = CurveFittingTestModel(neuroticism)\n",
    "    \n",
    "    # deque containing (model name, model object, ttf_bins, window_size, kernel name)\n",
    "    models: Deque[Tuple[str, ExecutionTimeModel, int, int, str]] = deque()\n",
    "    models.extend((\n",
    "        (\"1st order\", naive_model, 0, 0, \"none\"),\n",
    "        (\"1st order (median)\", naive_median_model, 0, 0, \"none\"),\n",
    "        (\"1st order (mean)\", naive_mean_model, 0, 0, \"none\"),\n",
    "        (\"Curve fitting\", curve_fitting_model, 0, 0, \"none\")\n",
    "    ))\n",
    "    \n",
    "    # for (ttf_bins, window_size) in itertools.product(range(1, 10), (4, 8, 12)):\n",
    "    #     exp_kernel = ExponentialTTFWindowKernel(window_size=window_size)\n",
    "    #     steep_linear_kernel = LinearTTFWindowKernel(window_size=window_size, max_relative_weight=10)\n",
    "    #     shallow_linear_kernel = LinearTTFWindowKernel(window_size=window_size, max_relative_weight=2)\n",
    "    #     average_kernel = AverageTTFWindowKernel(window_size=window_size)\n",
    "    #     \n",
    "    #     kernels = (\n",
    "    #         (\"exponential\", exp_kernel),\n",
    "    #         (\"linear_steep\", steep_linear_kernel),\n",
    "    #         (\"linear_shallow\", shallow_linear_kernel),\n",
    "    #         (\"average\", average_kernel)\n",
    "    #     )\n",
    "    #     model_classes = (\n",
    "    #         (\"empirical\", EmpiricalTestModel),\n",
    "    #         (\"empirical (mean)\", EmpiricalMeanTestModel),\n",
    "    #         (\"empirical (median)\", EmpiricalMedianTestModel),\n",
    "    #         (\"theoretical\", TheoreticalTestModel)\n",
    "    #     )\n",
    "    #     \n",
    "    #     for (class_name, model_cls), (kernel_name, kernel) in itertools.product(model_classes, kernels):\n",
    "    #         m = model_cls(kernel=kernel, neuroticism=neuroticism, ttf_levels=ttf_bins, cleanup=cleanup)\n",
    "    #         models.append((class_name, m, ttf_bins, window_size, kernel_name))\n",
    "        \n",
    "    for _ in range(30):\n",
    "        for i, (prev_ttf, exec_time) in enumerate(test_data[[\"ttf\", \"next_exec_time\"]].itertuples(index=False)):\n",
    "            for model_name, model, ttf_bins, window_size, kernel_name in models:\n",
    "                if i == 0:\n",
    "                    # reset the model between runs\n",
    "                    model.reset()\n",
    "                else:\n",
    "                    # first row has no previous ttf\n",
    "                    model.advance(prev_ttf)\n",
    "                    \n",
    "                prediction = model.get_execution_time()\n",
    "                error = prediction - exec_time\n",
    "                result_rows.append({\n",
    "                    \"real\": exec_time,\n",
    "                    \"prediction\": prediction,\n",
    "                    \"error\": error,\n",
    "                    \"sqr_error\": np.square(error),\n",
    "                    \"model\": model_name,\n",
    "                    \"kernel\": kernel_name,\n",
    "                    \"ttf_bins\": ttf_bins,\n",
    "                    \"window_size\": window_size,\n",
    "                })\n",
    "\n",
    "results = pd.DataFrame(result_rows)\n",
    "for col in (\"model\", \"kernel\"):\n",
    "    results[col] = results[col].astype(\"category\")\n",
    "\n",
    "results.to_parquet(\"./full_validation.parquet\")\n",
    "results"
   ]
  },
  {
   "cell_type": "code",
   "execution_count": 14,
   "outputs": [
    {
     "data": {
      "text/plain": "model               kernel  window_size  ttf_bins\n1st order (mean)    none    0            0           10.189076\n1st order (median)  none    0            0           10.559166\nCurve fitting       none    0            0           12.958783\n1st order           none    0            0           20.277178\nName: sqr_error, dtype: float64"
     },
     "execution_count": 14,
     "metadata": {},
     "output_type": "execute_result"
    }
   ],
   "source": [
    "results.groupby([\"model\", \"kernel\", \"window_size\", \"ttf_bins\"], observed=True)[\"sqr_error\"].mean().sort_values(ascending=True)\n",
    "\n",
    "# look at neuroticism\n",
    "# look at durations\n",
    "# look different functions\n",
    "# look at delta in ttf to reset duration (maybe not instantaneous delta)"
   ],
   "metadata": {
    "collapsed": false,
    "ExecuteTime": {
     "end_time": "2023-12-11T14:29:43.849007Z",
     "start_time": "2023-12-11T14:29:43.770357Z"
    }
   },
   "id": "a36996e5acb77c8a"
  },
  {
   "cell_type": "code",
   "execution_count": 15,
   "outputs": [],
   "source": [
    "# results[\"model_tag\"] = results[\"model\"] + \" \" + results[\"cleanup\"].astype(str)\n",
    "# results"
   ],
   "metadata": {
    "collapsed": false,
    "ExecuteTime": {
     "end_time": "2023-12-11T14:29:43.849272Z",
     "start_time": "2023-12-11T14:29:43.807752Z"
    }
   },
   "id": "77b7b5cc192a3775"
  },
  {
   "cell_type": "code",
   "execution_count": 16,
   "id": "9e70efda-85b2-47cd-acee-b0cca3789db7",
   "metadata": {
    "ExecuteTime": {
     "end_time": "2023-12-11T14:29:43.849692Z",
     "start_time": "2023-12-11T14:29:43.809906Z"
    }
   },
   "outputs": [],
   "source": [
    "# # %matplotlib inline\n",
    "# import matplotlib.pyplot as plt\n",
    "# import seaborn as sns\n",
    "# \n",
    "# fg = sns.catplot(results, kind=\"point\", x=\"ttf_bins\", y=\"sqr_error\", hue=\"model_tag\", height=5, aspect=2)\n",
    "# fg.set(ylim=(0, None))\n",
    "# fg.set_ylabels(\"MSE\")\n",
    "# for ax in fg.axes.flat:\n",
    "#     ax.set_xticks(ax.get_xticks(), ax.get_xticklabels(), rotation=45, ha='right')\n",
    "# plt.show()"
   ]
  },
  {
   "cell_type": "code",
   "execution_count": 17,
   "outputs": [],
   "source": [
    "# results.groupby([\"model\", \"ttf_bins\", \"cleanup\"])[\"sqr_error\"].mean().sort_values()"
   ],
   "metadata": {
    "collapsed": false,
    "ExecuteTime": {
     "end_time": "2023-12-11T14:29:43.850160Z",
     "start_time": "2023-12-11T14:29:43.811992Z"
    }
   },
   "id": "9e6d4e99e1e28c7c"
  },
  {
   "cell_type": "code",
   "execution_count": 17,
   "outputs": [],
   "source": [],
   "metadata": {
    "collapsed": false,
    "ExecuteTime": {
     "end_time": "2023-12-11T14:29:43.850520Z",
     "start_time": "2023-12-11T14:29:43.813843Z"
    }
   },
   "id": "f9c3c060a0112fca"
  }
 ],
 "metadata": {
  "kernelspec": {
   "display_name": "Python 3 (ipykernel)",
   "language": "python",
   "name": "python3"
  },
  "language_info": {
   "codemirror_mode": {
    "name": "ipython",
    "version": 3
   },
   "file_extension": ".py",
   "mimetype": "text/x-python",
   "name": "python",
   "nbconvert_exporter": "python",
   "pygments_lexer": "ipython3",
   "version": "3.11.6"
  }
 },
 "nbformat": 4,
 "nbformat_minor": 5
}
