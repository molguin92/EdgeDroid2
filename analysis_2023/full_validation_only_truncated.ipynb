{
 "cells": [
  {
   "cell_type": "code",
   "execution_count": 1,
   "id": "initial_id",
   "metadata": {
    "ExecuteTime": {
     "end_time": "2023-12-18T02:36:23.770093Z",
     "start_time": "2023-12-18T02:36:23.636172Z"
    }
   },
   "outputs": [
    {
     "data": {
      "text/plain": "      participant  prev_ttf  exec_time prev_duration        neuro  neuroticism\n0          134146       0.0      3.029   [-inf, 5.0)  [-inf, 0.5)        0.375\n1          134146       0.0      4.004   [-inf, 5.0)  [-inf, 0.5)        0.375\n2          134146       0.0      2.625   [-inf, 5.0)  [-inf, 0.5)        0.375\n3          134146       0.0      4.680   [-inf, 5.0)  [-inf, 0.5)        0.375\n4          134146       0.0      5.197   [-inf, 5.0)  [-inf, 0.5)        0.375\n...           ...       ...        ...           ...          ...          ...\n6755       137353       0.0      6.358    [5.0, 9.0)   [0.5, inf)        0.625\n6756       137353       0.0      3.840    [5.0, 9.0)   [0.5, inf)        0.625\n6757       137353       0.0      2.932    [9.0, inf)   [0.5, inf)        0.625\n6758       137353       0.0      1.874    [9.0, inf)   [0.5, inf)        0.625\n6759       137353       0.0      4.241    [9.0, inf)   [0.5, inf)        0.625\n\n[6760 rows x 6 columns]",
      "text/html": "<div>\n<style scoped>\n    .dataframe tbody tr th:only-of-type {\n        vertical-align: middle;\n    }\n\n    .dataframe tbody tr th {\n        vertical-align: top;\n    }\n\n    .dataframe thead th {\n        text-align: right;\n    }\n</style>\n<table border=\"1\" class=\"dataframe\">\n  <thead>\n    <tr style=\"text-align: right;\">\n      <th></th>\n      <th>participant</th>\n      <th>prev_ttf</th>\n      <th>exec_time</th>\n      <th>prev_duration</th>\n      <th>neuro</th>\n      <th>neuroticism</th>\n    </tr>\n  </thead>\n  <tbody>\n    <tr>\n      <th>0</th>\n      <td>134146</td>\n      <td>0.0</td>\n      <td>3.029</td>\n      <td>[-inf, 5.0)</td>\n      <td>[-inf, 0.5)</td>\n      <td>0.375</td>\n    </tr>\n    <tr>\n      <th>1</th>\n      <td>134146</td>\n      <td>0.0</td>\n      <td>4.004</td>\n      <td>[-inf, 5.0)</td>\n      <td>[-inf, 0.5)</td>\n      <td>0.375</td>\n    </tr>\n    <tr>\n      <th>2</th>\n      <td>134146</td>\n      <td>0.0</td>\n      <td>2.625</td>\n      <td>[-inf, 5.0)</td>\n      <td>[-inf, 0.5)</td>\n      <td>0.375</td>\n    </tr>\n    <tr>\n      <th>3</th>\n      <td>134146</td>\n      <td>0.0</td>\n      <td>4.680</td>\n      <td>[-inf, 5.0)</td>\n      <td>[-inf, 0.5)</td>\n      <td>0.375</td>\n    </tr>\n    <tr>\n      <th>4</th>\n      <td>134146</td>\n      <td>0.0</td>\n      <td>5.197</td>\n      <td>[-inf, 5.0)</td>\n      <td>[-inf, 0.5)</td>\n      <td>0.375</td>\n    </tr>\n    <tr>\n      <th>...</th>\n      <td>...</td>\n      <td>...</td>\n      <td>...</td>\n      <td>...</td>\n      <td>...</td>\n      <td>...</td>\n    </tr>\n    <tr>\n      <th>6755</th>\n      <td>137353</td>\n      <td>0.0</td>\n      <td>6.358</td>\n      <td>[5.0, 9.0)</td>\n      <td>[0.5, inf)</td>\n      <td>0.625</td>\n    </tr>\n    <tr>\n      <th>6756</th>\n      <td>137353</td>\n      <td>0.0</td>\n      <td>3.840</td>\n      <td>[5.0, 9.0)</td>\n      <td>[0.5, inf)</td>\n      <td>0.625</td>\n    </tr>\n    <tr>\n      <th>6757</th>\n      <td>137353</td>\n      <td>0.0</td>\n      <td>2.932</td>\n      <td>[9.0, inf)</td>\n      <td>[0.5, inf)</td>\n      <td>0.625</td>\n    </tr>\n    <tr>\n      <th>6758</th>\n      <td>137353</td>\n      <td>0.0</td>\n      <td>1.874</td>\n      <td>[9.0, inf)</td>\n      <td>[0.5, inf)</td>\n      <td>0.625</td>\n    </tr>\n    <tr>\n      <th>6759</th>\n      <td>137353</td>\n      <td>0.0</td>\n      <td>4.241</td>\n      <td>[9.0, inf)</td>\n      <td>[0.5, inf)</td>\n      <td>0.625</td>\n    </tr>\n  </tbody>\n</table>\n<p>6760 rows × 6 columns</p>\n</div>"
     },
     "execution_count": 1,
     "metadata": {},
     "output_type": "execute_result"
    }
   ],
   "source": [
    "import warnings\n",
    "warnings.simplefilter(action='ignore', category=FutureWarning)\n",
    "\n",
    "from edgedroid.models.timings import *\n",
    "import edgedroid.data as default_data\n",
    "\n",
    "data = default_data.load_curve_fitting_data()\n",
    "data"
   ]
  },
  {
   "cell_type": "code",
   "execution_count": 2,
   "id": "20486260a5187244",
   "metadata": {
    "collapsed": false,
    "ExecuteTime": {
     "end_time": "2023-12-18T02:36:37.931359Z",
     "start_time": "2023-12-18T02:36:23.772504Z"
    }
   },
   "outputs": [
    {
     "data": {
      "text/plain": "Run:   0%|          | 0/40 [00:00<?, ?it/s]",
      "application/vnd.jupyter.widget-view+json": {
       "version_major": 2,
       "version_minor": 0,
       "model_id": "e35552e3ab80492782be3c735f13413c"
      }
     },
     "metadata": {},
     "output_type": "display_data"
    },
    {
     "data": {
      "text/plain": "          real  prediction     error  sqr_error  \\\n0        3.029    7.599540  4.570540  20.889837   \n1        3.029    5.261648  2.232648   4.984719   \n2        3.029    5.873496  2.844496   8.091159   \n3        3.029    3.937954  0.908954   0.826197   \n4        3.029    3.876765  0.847765   0.718705   \n...        ...         ...       ...        ...   \n1419595  4.241    5.821658  1.580658   2.498480   \n1419596  4.241    3.685106 -0.555894   0.309018   \n1419597  4.241    3.659760 -0.581240   0.337840   \n1419598  4.241    3.229473 -1.011527   1.023186   \n1419599  4.241    4.134832 -0.106168   0.011272   \n\n                                 model     duration        neuro  \n0                            1st order  [-inf, 5.0)  [-inf, 0.5)  \n1                   1st order (median)  [-inf, 5.0)  [-inf, 0.5)  \n2                     1st order (mean)  [-inf, 5.0)  [-inf, 0.5)  \n3                          a * x^b + c  [-inf, 5.0)  [-inf, 0.5)  \n4                  a * x^2 + b * x + c  [-inf, 5.0)  [-inf, 0.5)  \n...                                ...          ...          ...  \n1419595               1st order (mean)   [9.0, inf)   [0.5, inf)  \n1419596                    a * x^b + c   [9.0, inf)   [0.5, inf)  \n1419597            a * x^2 + b * x + c   [9.0, inf)   [0.5, inf)  \n1419598  a * x^3 + b * x^2 + c * x + d   [9.0, inf)   [0.5, inf)  \n1419599                    a * e^x + b   [9.0, inf)   [0.5, inf)  \n\n[1419600 rows x 7 columns]",
      "text/html": "<div>\n<style scoped>\n    .dataframe tbody tr th:only-of-type {\n        vertical-align: middle;\n    }\n\n    .dataframe tbody tr th {\n        vertical-align: top;\n    }\n\n    .dataframe thead th {\n        text-align: right;\n    }\n</style>\n<table border=\"1\" class=\"dataframe\">\n  <thead>\n    <tr style=\"text-align: right;\">\n      <th></th>\n      <th>real</th>\n      <th>prediction</th>\n      <th>error</th>\n      <th>sqr_error</th>\n      <th>model</th>\n      <th>duration</th>\n      <th>neuro</th>\n    </tr>\n  </thead>\n  <tbody>\n    <tr>\n      <th>0</th>\n      <td>3.029</td>\n      <td>7.599540</td>\n      <td>4.570540</td>\n      <td>20.889837</td>\n      <td>1st order</td>\n      <td>[-inf, 5.0)</td>\n      <td>[-inf, 0.5)</td>\n    </tr>\n    <tr>\n      <th>1</th>\n      <td>3.029</td>\n      <td>5.261648</td>\n      <td>2.232648</td>\n      <td>4.984719</td>\n      <td>1st order (median)</td>\n      <td>[-inf, 5.0)</td>\n      <td>[-inf, 0.5)</td>\n    </tr>\n    <tr>\n      <th>2</th>\n      <td>3.029</td>\n      <td>5.873496</td>\n      <td>2.844496</td>\n      <td>8.091159</td>\n      <td>1st order (mean)</td>\n      <td>[-inf, 5.0)</td>\n      <td>[-inf, 0.5)</td>\n    </tr>\n    <tr>\n      <th>3</th>\n      <td>3.029</td>\n      <td>3.937954</td>\n      <td>0.908954</td>\n      <td>0.826197</td>\n      <td>a * x^b + c</td>\n      <td>[-inf, 5.0)</td>\n      <td>[-inf, 0.5)</td>\n    </tr>\n    <tr>\n      <th>4</th>\n      <td>3.029</td>\n      <td>3.876765</td>\n      <td>0.847765</td>\n      <td>0.718705</td>\n      <td>a * x^2 + b * x + c</td>\n      <td>[-inf, 5.0)</td>\n      <td>[-inf, 0.5)</td>\n    </tr>\n    <tr>\n      <th>...</th>\n      <td>...</td>\n      <td>...</td>\n      <td>...</td>\n      <td>...</td>\n      <td>...</td>\n      <td>...</td>\n      <td>...</td>\n    </tr>\n    <tr>\n      <th>1419595</th>\n      <td>4.241</td>\n      <td>5.821658</td>\n      <td>1.580658</td>\n      <td>2.498480</td>\n      <td>1st order (mean)</td>\n      <td>[9.0, inf)</td>\n      <td>[0.5, inf)</td>\n    </tr>\n    <tr>\n      <th>1419596</th>\n      <td>4.241</td>\n      <td>3.685106</td>\n      <td>-0.555894</td>\n      <td>0.309018</td>\n      <td>a * x^b + c</td>\n      <td>[9.0, inf)</td>\n      <td>[0.5, inf)</td>\n    </tr>\n    <tr>\n      <th>1419597</th>\n      <td>4.241</td>\n      <td>3.659760</td>\n      <td>-0.581240</td>\n      <td>0.337840</td>\n      <td>a * x^2 + b * x + c</td>\n      <td>[9.0, inf)</td>\n      <td>[0.5, inf)</td>\n    </tr>\n    <tr>\n      <th>1419598</th>\n      <td>4.241</td>\n      <td>3.229473</td>\n      <td>-1.011527</td>\n      <td>1.023186</td>\n      <td>a * x^3 + b * x^2 + c * x + d</td>\n      <td>[9.0, inf)</td>\n      <td>[0.5, inf)</td>\n    </tr>\n    <tr>\n      <th>1419599</th>\n      <td>4.241</td>\n      <td>4.134832</td>\n      <td>-0.106168</td>\n      <td>0.011272</td>\n      <td>a * e^x + b</td>\n      <td>[9.0, inf)</td>\n      <td>[0.5, inf)</td>\n    </tr>\n  </tbody>\n</table>\n<p>1419600 rows × 7 columns</p>\n</div>"
     },
     "execution_count": 2,
     "metadata": {},
     "output_type": "execute_result"
    }
   ],
   "source": [
    "from collections import deque\n",
    "import pandas as pd\n",
    "from typing import Tuple, Deque\n",
    "from tqdm.notebook import tqdm\n",
    "import numpy as np\n",
    "\n",
    "result_rows = deque()\n",
    "for participant in tqdm(data[\"participant\"].unique(), desc=\"Run\"):\n",
    "    class CurveFittingTestModel(CurveFittingExecutionTimeModel):\n",
    "        @staticmethod\n",
    "        def get_data() -> (\n",
    "            Tuple[\n",
    "                pd.DataFrame,\n",
    "                pd.arrays.IntervalArray,\n",
    "                pd.arrays.IntervalArray,\n",
    "                pd.arrays.IntervalArray,\n",
    "            ]\n",
    "        ):\n",
    "            data, *rest = CurveFittingExecutionTimeModel.get_data()\n",
    "            return (data[data[\"participant\"] != participant].copy(), *rest)\n",
    "        \n",
    "    class PowerFitTestModel(CurveFittingTestModel):\n",
    "        curve = \"a * x^b + c\"\n",
    "        \n",
    "        @staticmethod\n",
    "        def _exec_time_func(x, a, b, c) -> float:\n",
    "            return a * np.power(x, b) + c\n",
    "        \n",
    "    class SquareFitTestModel(CurveFittingTestModel):\n",
    "        curve = \"a * x^2 + b * x + c\"\n",
    "\n",
    "        @staticmethod\n",
    "        def _exec_time_func(x, a, b, c) -> float:\n",
    "            return a * np.square(x) + b * x + c\n",
    "    \n",
    "    class CubeFitTestModel(CurveFittingTestModel):\n",
    "        curve = \"a * x^3 + b * x^2 + c * x + d\"\n",
    "\n",
    "        @staticmethod\n",
    "        def _exec_time_func(x, a, b, c, d) -> float:\n",
    "            return a * np.power(x, 3) + b * np.square(x) + c * x + d\n",
    "        \n",
    "    class ExponentialFitTestModel(CurveFittingTestModel):\n",
    "        curve = \"a * e^x + b\"\n",
    "\n",
    "        @staticmethod\n",
    "        def _exec_time_func(x, a, b) -> float:\n",
    "            return a * np.exp(x) + b\n",
    "        \n",
    "    def get_test_data(*args, **kwargs) -> (\n",
    "        Tuple[\n",
    "            pd.DataFrame,\n",
    "            pd.arrays.IntervalArray,\n",
    "            pd.arrays.IntervalArray,\n",
    "            pd.arrays.IntervalArray,\n",
    "        ]\n",
    "    ):\n",
    "        data, *rest = ExecutionTimeModel.get_data()\n",
    "        return (data[data[\"run_id\"] != participant].copy(), *rest)\n",
    "\n",
    "    class EmpiricalTestModel(EmpiricalETM):\n",
    "        get_data = get_test_data\n",
    "        \n",
    "    class EmpiricalMeanTestModel(EmpiricalAggregateETM):\n",
    "        get_data = get_test_data\n",
    "        \n",
    "        def __init__(self, *args, **kwargs):\n",
    "            super().__init__(*args, aggregate_fn=np.mean, **kwargs)\n",
    "            \n",
    "    class EmpiricalMedianTestModel(EmpiricalAggregateETM):\n",
    "        get_data = get_test_data\n",
    "        \n",
    "        def __init__(self, *args, **kwargs):\n",
    "            super().__init__(*args, aggregate_fn=np.median, **kwargs)\n",
    "        \n",
    "    class TheoreticalTestModel(FittedETM):\n",
    "        get_data = get_test_data\n",
    "\n",
    "    class NaiveTestModel(FirstOrderETM):\n",
    "        get_data = get_test_data\n",
    "        \n",
    "    class NaiveAggTestModel(FirstOrderAggregateETM):\n",
    "        get_data = get_test_data\n",
    "        \n",
    "    cleanup = CleanupMode.TRUNCATE\n",
    "    \n",
    "    run_data = data[data[\"participant\"] == participant].copy()\n",
    "\n",
    "    neuroticism = run_data[\"neuroticism\"].unique()[0]\n",
    "    naive_model = NaiveTestModel()\n",
    "    naive_mean_model = NaiveAggTestModel(np.mean)\n",
    "    naive_median_model = NaiveAggTestModel(np.median)\n",
    "    # curve_fitting_model = CurveFittingTestModel(neuroticism)\n",
    "    \n",
    "    power_fit_model = PowerFitTestModel(neuroticism)\n",
    "    square_fit_model = SquareFitTestModel(neuroticism)\n",
    "    cube_fit_model = CubeFitTestModel(neuroticism)\n",
    "    exponential_fit_model = ExponentialFitTestModel(neuroticism)\n",
    "    \n",
    "    # deque containing (model name, model object, ttf_bins, window_size, kernel name)\n",
    "    models: Deque[Tuple[str, ExecutionTimeModel, int, int, str]] = deque()\n",
    "    models.extend((\n",
    "        (\"1st order\", naive_model, 0, 0, \"none\"),\n",
    "        (\"1st order (median)\", naive_median_model, 0, 0, \"none\"),\n",
    "        (\"1st order (mean)\", naive_mean_model, 0, 0, \"none\"),\n",
    "        (power_fit_model.curve, power_fit_model , 0, 0, \"none\"),\n",
    "        (square_fit_model.curve, square_fit_model, 0, 0, \"none\"),\n",
    "        (cube_fit_model.curve, cube_fit_model, 0, 0, \"none\"),\n",
    "        (exponential_fit_model.curve, exponential_fit_model, 0, 0, \"none\")\n",
    "    ))\n",
    "    \n",
    "    # for (ttf_bins, window_size) in itertools.product(range(1, 10), (4, 8, 12)):\n",
    "    #     exp_kernel = ExponentialTTFWindowKernel(window_size=window_size)\n",
    "    #     steep_linear_kernel = LinearTTFWindowKernel(window_size=window_size, max_relative_weight=10)\n",
    "    #     shallow_linear_kernel = LinearTTFWindowKernel(window_size=window_size, max_relative_weight=2)\n",
    "    #     average_kernel = AverageTTFWindowKernel(window_size=window_size)\n",
    "    #     \n",
    "    #     kernels = (\n",
    "    #         (\"exponential\", exp_kernel),\n",
    "    #         (\"linear_steep\", steep_linear_kernel),\n",
    "    #         (\"linear_shallow\", shallow_linear_kernel),\n",
    "    #         (\"average\", average_kernel)\n",
    "    #     )\n",
    "    #     model_classes = (\n",
    "    #         (\"empirical\", EmpiricalTestModel),\n",
    "    #         (\"empirical (mean)\", EmpiricalMeanTestModel),\n",
    "    #         (\"empirical (median)\", EmpiricalMedianTestModel),\n",
    "    #         (\"theoretical\", TheoreticalTestModel)\n",
    "    #     )\n",
    "    #     \n",
    "    #     for (class_name, model_cls), (kernel_name, kernel) in itertools.product(model_classes, kernels):\n",
    "    #         m = model_cls(kernel=kernel, neuroticism=neuroticism, ttf_levels=ttf_bins, cleanup=cleanup)\n",
    "    #         models.append((class_name, m, ttf_bins, window_size, kernel_name))\n",
    "        \n",
    "    for _ in range(30):\n",
    "        for i, (prev_ttf, exec_time, neuro, prev_duration) in enumerate(run_data[[\"prev_ttf\", \"exec_time\", \"neuro\", \"prev_duration\"]].itertuples(index=False)):\n",
    "            for model_name, model, ttf_bins, window_size, kernel_name in models:\n",
    "                if i == 0:\n",
    "                    # reset the model between runs\n",
    "                    model.reset()\n",
    "                else:\n",
    "                    # first row has no previous ttf\n",
    "                    model.advance(prev_ttf)\n",
    "                    \n",
    "                prediction = model.get_execution_time()\n",
    "                error = prediction - exec_time\n",
    "                result_rows.append({\n",
    "                    \"real\": exec_time,\n",
    "                    \"prediction\": prediction,\n",
    "                    \"error\": error,\n",
    "                    \"sqr_error\": np.square(error),\n",
    "                    \"model\": model_name,\n",
    "                    \"duration\": prev_duration,\n",
    "                    \"neuro\": neuro,\n",
    "                    # \"kernel\": kernel_name,\n",
    "                    # \"ttf_bins\": ttf_bins,\n",
    "                    # \"window_size\": window_size,\n",
    "                })\n",
    "\n",
    "results = pd.DataFrame(result_rows)\n",
    "for col in (\"model\", ):  # \"kernel\"):\n",
    "    results[col] = results[col].astype(\"category\")\n",
    "\n",
    "results.to_parquet(\"./full_validation.parquet\")\n",
    "results"
   ]
  },
  {
   "cell_type": "code",
   "execution_count": 3,
   "outputs": [
    {
     "data": {
      "text/plain": "model                          neuro        duration   \na * e^x + b                    [-inf, 0.5)  [5.0, 9.0)      6.853862\na * x^b + c                    [-inf, 0.5)  [5.0, 9.0)      6.934405\na * x^2 + b * x + c            [-inf, 0.5)  [5.0, 9.0)      6.965101\na * x^3 + b * x^2 + c * x + d  [-inf, 0.5)  [5.0, 9.0)      6.975263\n1st order (median)             [-inf, 0.5)  [5.0, 9.0)      7.006482\n1st order (mean)               [-inf, 0.5)  [5.0, 9.0)      7.876696\n1st order (median)             [0.5, inf)   [5.0, 9.0)      8.980667\na * e^x + b                    [0.5, inf)   [5.0, 9.0)      9.105339\na * x^3 + b * x^2 + c * x + d  [0.5, inf)   [5.0, 9.0)      9.230164\na * x^2 + b * x + c            [0.5, inf)   [5.0, 9.0)      9.240160\n1st order (mean)               [0.5, inf)   [5.0, 9.0)      9.288172\na * x^b + c                    [0.5, inf)   [5.0, 9.0)      9.294628\n1st order (mean)               [-inf, 0.5)  [-inf, 5.0)     9.394525\n1st order (median)             [-inf, 0.5)  [-inf, 5.0)     9.523014\na * x^2 + b * x + c            [-inf, 0.5)  [9.0, inf)     10.289777\na * e^x + b                    [-inf, 0.5)  [-inf, 5.0)    10.290378\na * x^b + c                    [-inf, 0.5)  [9.0, inf)     10.293826\na * x^3 + b * x^2 + c * x + d  [-inf, 0.5)  [9.0, inf)     10.298787\na * e^x + b                    [-inf, 0.5)  [9.0, inf)     10.315059\na * x^b + c                    [-inf, 0.5)  [-inf, 5.0)    10.339702\na * x^2 + b * x + c            [-inf, 0.5)  [-inf, 5.0)    10.364704\na * x^3 + b * x^2 + c * x + d  [-inf, 0.5)  [-inf, 5.0)    10.373913\n1st order (median)             [-inf, 0.5)  [9.0, inf)     10.603963\n1st order (mean)               [-inf, 0.5)  [9.0, inf)     11.724895\n                               [0.5, inf)   [-inf, 5.0)    11.814266\na * x^3 + b * x^2 + c * x + d  [0.5, inf)   [9.0, inf)     11.979429\na * e^x + b                    [0.5, inf)   [9.0, inf)     12.064018\na * x^2 + b * x + c            [0.5, inf)   [9.0, inf)     12.077012\na * x^b + c                    [0.5, inf)   [9.0, inf)     12.188059\n1st order (median)             [0.5, inf)   [-inf, 5.0)    12.298857\na * e^x + b                    [0.5, inf)   [-inf, 5.0)    12.358096\na * x^2 + b * x + c            [0.5, inf)   [-inf, 5.0)    12.419825\na * x^b + c                    [0.5, inf)   [-inf, 5.0)    12.424457\na * x^3 + b * x^2 + c * x + d  [0.5, inf)   [-inf, 5.0)    12.522099\n1st order (median)             [0.5, inf)   [9.0, inf)     12.887291\n1st order (mean)               [0.5, inf)   [9.0, inf)     13.524541\n1st order                      [-inf, 0.5)  [5.0, 9.0)     18.574745\n                               [0.5, inf)   [5.0, 9.0)     19.563128\n                               [-inf, 0.5)  [-inf, 5.0)    19.583960\n                               [0.5, inf)   [-inf, 5.0)    21.629994\n                               [-inf, 0.5)  [9.0, inf)     22.595831\n                               [0.5, inf)   [9.0, inf)     22.781465\nName: sqr_error, dtype: float64"
     },
     "execution_count": 3,
     "metadata": {},
     "output_type": "execute_result"
    }
   ],
   "source": [
    "# results.groupby([\"model\", \"kernel\", \"window_size\", \"ttf_bins\"], observed=True)[\"sqr_error\"].mean().sort_values(ascending=True)\n",
    "\n",
    "results.groupby([\"model\", \"neuro\", \"duration\"], observed=True)[\"sqr_error\"].mean().sort_values(ascending=True)\n",
    "\n",
    "# look at neuroticism\n",
    "# look at durations\n",
    "# look different functions\n",
    "# look at delta in ttf to reset duration (maybe not instantaneous delta)\n",
    "\n",
    "# look at different curves for each quadrant"
   ],
   "metadata": {
    "collapsed": false,
    "ExecuteTime": {
     "end_time": "2023-12-18T02:36:40.365603Z",
     "start_time": "2023-12-18T02:36:37.925976Z"
    }
   },
   "id": "a36996e5acb77c8a"
  },
  {
   "cell_type": "code",
   "execution_count": 4,
   "outputs": [
    {
     "data": {
      "text/plain": "model\n1st order (median)               10.084425\na * e^x + b                      10.197333\n1st order (mean)                 10.268799\na * x^2 + b * x + c              10.271327\na * x^b + c                      10.279599\na * x^3 + b * x^2 + c * x + d    10.292186\n1st order                        20.441406\nName: sqr_error, dtype: float64"
     },
     "execution_count": 4,
     "metadata": {},
     "output_type": "execute_result"
    }
   ],
   "source": [
    "results.groupby([\"model\"], observed=True)[\"sqr_error\"].mean().sort_values(ascending=True)\n"
   ],
   "metadata": {
    "collapsed": false,
    "ExecuteTime": {
     "end_time": "2023-12-18T02:36:40.382638Z",
     "start_time": "2023-12-18T02:36:40.360405Z"
    }
   },
   "id": "77b7b5cc192a3775"
  },
  {
   "cell_type": "code",
   "execution_count": 5,
   "id": "9e70efda-85b2-47cd-acee-b0cca3789db7",
   "metadata": {
    "ExecuteTime": {
     "end_time": "2023-12-18T02:36:40.382940Z",
     "start_time": "2023-12-18T02:36:40.377230Z"
    }
   },
   "outputs": [],
   "source": [
    "# # %matplotlib inline\n",
    "# import matplotlib.pyplot as plt\n",
    "# import seaborn as sns\n",
    "# \n",
    "# fg = sns.catplot(results, kind=\"point\", x=\"ttf_bins\", y=\"sqr_error\", hue=\"model_tag\", height=5, aspect=2)\n",
    "# fg.set(ylim=(0, None))\n",
    "# fg.set_ylabels(\"MSE\")\n",
    "# for ax in fg.axes.flat:\n",
    "#     ax.set_xticks(ax.get_xticks(), ax.get_xticklabels(), rotation=45, ha='right')\n",
    "# plt.show()"
   ]
  },
  {
   "cell_type": "code",
   "execution_count": 6,
   "outputs": [],
   "source": [
    "# results.groupby([\"model\", \"ttf_bins\", \"cleanup\"])[\"sqr_error\"].mean().sort_values()"
   ],
   "metadata": {
    "collapsed": false,
    "ExecuteTime": {
     "end_time": "2023-12-18T02:36:40.388042Z",
     "start_time": "2023-12-18T02:36:40.379508Z"
    }
   },
   "id": "9e6d4e99e1e28c7c"
  },
  {
   "cell_type": "code",
   "execution_count": 6,
   "outputs": [],
   "source": [],
   "metadata": {
    "collapsed": false,
    "ExecuteTime": {
     "end_time": "2023-12-18T02:36:40.388223Z",
     "start_time": "2023-12-18T02:36:40.381269Z"
    }
   },
   "id": "f9c3c060a0112fca"
  }
 ],
 "metadata": {
  "kernelspec": {
   "display_name": "Python 3 (ipykernel)",
   "language": "python",
   "name": "python3"
  },
  "language_info": {
   "codemirror_mode": {
    "name": "ipython",
    "version": 3
   },
   "file_extension": ".py",
   "mimetype": "text/x-python",
   "name": "python",
   "nbconvert_exporter": "python",
   "pygments_lexer": "ipython3",
   "version": "3.11.6"
  }
 },
 "nbformat": 4,
 "nbformat_minor": 5
}
