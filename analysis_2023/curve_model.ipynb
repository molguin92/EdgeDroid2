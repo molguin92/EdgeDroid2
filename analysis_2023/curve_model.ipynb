{
 "cells": [
  {
   "cell_type": "code",
   "execution_count": 1,
   "id": "initial_id",
   "metadata": {
    "collapsed": true,
    "ExecuteTime": {
     "end_time": "2023-12-11T03:42:53.911900Z",
     "start_time": "2023-12-11T03:42:53.813816Z"
    }
   },
   "outputs": [
    {
     "data": {
      "text/plain": "      participant  abs_seq                             start  \\\n0          134146        0  2019-11-15 19:19:22.728000+00:00   \n1          134146        1  2019-11-15 19:19:27.019000+00:00   \n2          134146        2  2019-11-15 19:19:32.013000+00:00   \n3          134146        3  2019-11-15 19:19:35.520000+00:00   \n4          134146        4  2019-11-15 19:19:41.515000+00:00   \n...           ...      ...                               ...   \n6755       137353      164  2019-11-26 18:59:22.272000+00:00   \n6756       137353      165  2019-11-26 18:59:29.299000+00:00   \n6757       137353      166  2019-11-26 18:59:34.517000+00:00   \n6758       137353      167  2019-11-26 18:59:38.547000+00:00   \n6759       137353      168  2019-11-26 18:59:41.454000+00:00   \n\n                                   end                duration  \\\n0     2019-11-15 19:19:27.019000+00:00  0 days 00:00:04.291000   \n1     2019-11-15 19:19:32.013000+00:00  0 days 00:00:04.994000   \n2     2019-11-15 19:19:35.520000+00:00  0 days 00:00:03.507000   \n3     2019-11-15 19:19:41.515000+00:00  0 days 00:00:05.995000   \n4     2019-11-15 19:19:47.301000+00:00  0 days 00:00:05.786000   \n...                                ...                     ...   \n6755  2019-11-26 18:59:29.299000+00:00  0 days 00:00:07.027000   \n6756  2019-11-26 18:59:34.517000+00:00  0 days 00:00:05.218000   \n6757  2019-11-26 18:59:38.547000+00:00  0 days 00:00:04.030000   \n6758  2019-11-26 18:59:41.454000+00:00  0 days 00:00:02.907000   \n6759  2019-11-26 18:59:46.609000+00:00  0 days 00:00:05.155000   \n\n                delay  block  block_seq               exec_time  neuroticism  \n0     0 days 00:00:00      0          0  0 days 00:00:03.029000        0.375  \n1     0 days 00:00:00      1          0  0 days 00:00:04.004000        0.375  \n2     0 days 00:00:00      1          1  0 days 00:00:02.625000        0.375  \n3     0 days 00:00:00      1          2  0 days 00:00:04.680000        0.375  \n4     0 days 00:00:00      1          3  0 days 00:00:05.197000        0.375  \n...               ...    ...        ...                     ...          ...  \n6755  0 days 00:00:00     21          7  0 days 00:00:06.358000        0.625  \n6756  0 days 00:00:00     21          8  0 days 00:00:03.840000        0.625  \n6757  0 days 00:00:00     21          9  0 days 00:00:02.932000        0.625  \n6758  0 days 00:00:00     21         10  0 days 00:00:01.874000        0.625  \n6759  0 days 00:00:00     21         11  0 days 00:00:04.241000        0.625  \n\n[6760 rows x 10 columns]",
      "text/html": "<div>\n<style scoped>\n    .dataframe tbody tr th:only-of-type {\n        vertical-align: middle;\n    }\n\n    .dataframe tbody tr th {\n        vertical-align: top;\n    }\n\n    .dataframe thead th {\n        text-align: right;\n    }\n</style>\n<table border=\"1\" class=\"dataframe\">\n  <thead>\n    <tr style=\"text-align: right;\">\n      <th></th>\n      <th>participant</th>\n      <th>abs_seq</th>\n      <th>start</th>\n      <th>end</th>\n      <th>duration</th>\n      <th>delay</th>\n      <th>block</th>\n      <th>block_seq</th>\n      <th>exec_time</th>\n      <th>neuroticism</th>\n    </tr>\n  </thead>\n  <tbody>\n    <tr>\n      <th>0</th>\n      <td>134146</td>\n      <td>0</td>\n      <td>2019-11-15 19:19:22.728000+00:00</td>\n      <td>2019-11-15 19:19:27.019000+00:00</td>\n      <td>0 days 00:00:04.291000</td>\n      <td>0 days 00:00:00</td>\n      <td>0</td>\n      <td>0</td>\n      <td>0 days 00:00:03.029000</td>\n      <td>0.375</td>\n    </tr>\n    <tr>\n      <th>1</th>\n      <td>134146</td>\n      <td>1</td>\n      <td>2019-11-15 19:19:27.019000+00:00</td>\n      <td>2019-11-15 19:19:32.013000+00:00</td>\n      <td>0 days 00:00:04.994000</td>\n      <td>0 days 00:00:00</td>\n      <td>1</td>\n      <td>0</td>\n      <td>0 days 00:00:04.004000</td>\n      <td>0.375</td>\n    </tr>\n    <tr>\n      <th>2</th>\n      <td>134146</td>\n      <td>2</td>\n      <td>2019-11-15 19:19:32.013000+00:00</td>\n      <td>2019-11-15 19:19:35.520000+00:00</td>\n      <td>0 days 00:00:03.507000</td>\n      <td>0 days 00:00:00</td>\n      <td>1</td>\n      <td>1</td>\n      <td>0 days 00:00:02.625000</td>\n      <td>0.375</td>\n    </tr>\n    <tr>\n      <th>3</th>\n      <td>134146</td>\n      <td>3</td>\n      <td>2019-11-15 19:19:35.520000+00:00</td>\n      <td>2019-11-15 19:19:41.515000+00:00</td>\n      <td>0 days 00:00:05.995000</td>\n      <td>0 days 00:00:00</td>\n      <td>1</td>\n      <td>2</td>\n      <td>0 days 00:00:04.680000</td>\n      <td>0.375</td>\n    </tr>\n    <tr>\n      <th>4</th>\n      <td>134146</td>\n      <td>4</td>\n      <td>2019-11-15 19:19:41.515000+00:00</td>\n      <td>2019-11-15 19:19:47.301000+00:00</td>\n      <td>0 days 00:00:05.786000</td>\n      <td>0 days 00:00:00</td>\n      <td>1</td>\n      <td>3</td>\n      <td>0 days 00:00:05.197000</td>\n      <td>0.375</td>\n    </tr>\n    <tr>\n      <th>...</th>\n      <td>...</td>\n      <td>...</td>\n      <td>...</td>\n      <td>...</td>\n      <td>...</td>\n      <td>...</td>\n      <td>...</td>\n      <td>...</td>\n      <td>...</td>\n      <td>...</td>\n    </tr>\n    <tr>\n      <th>6755</th>\n      <td>137353</td>\n      <td>164</td>\n      <td>2019-11-26 18:59:22.272000+00:00</td>\n      <td>2019-11-26 18:59:29.299000+00:00</td>\n      <td>0 days 00:00:07.027000</td>\n      <td>0 days 00:00:00</td>\n      <td>21</td>\n      <td>7</td>\n      <td>0 days 00:00:06.358000</td>\n      <td>0.625</td>\n    </tr>\n    <tr>\n      <th>6756</th>\n      <td>137353</td>\n      <td>165</td>\n      <td>2019-11-26 18:59:29.299000+00:00</td>\n      <td>2019-11-26 18:59:34.517000+00:00</td>\n      <td>0 days 00:00:05.218000</td>\n      <td>0 days 00:00:00</td>\n      <td>21</td>\n      <td>8</td>\n      <td>0 days 00:00:03.840000</td>\n      <td>0.625</td>\n    </tr>\n    <tr>\n      <th>6757</th>\n      <td>137353</td>\n      <td>166</td>\n      <td>2019-11-26 18:59:34.517000+00:00</td>\n      <td>2019-11-26 18:59:38.547000+00:00</td>\n      <td>0 days 00:00:04.030000</td>\n      <td>0 days 00:00:00</td>\n      <td>21</td>\n      <td>9</td>\n      <td>0 days 00:00:02.932000</td>\n      <td>0.625</td>\n    </tr>\n    <tr>\n      <th>6758</th>\n      <td>137353</td>\n      <td>167</td>\n      <td>2019-11-26 18:59:38.547000+00:00</td>\n      <td>2019-11-26 18:59:41.454000+00:00</td>\n      <td>0 days 00:00:02.907000</td>\n      <td>0 days 00:00:00</td>\n      <td>21</td>\n      <td>10</td>\n      <td>0 days 00:00:01.874000</td>\n      <td>0.625</td>\n    </tr>\n    <tr>\n      <th>6759</th>\n      <td>137353</td>\n      <td>168</td>\n      <td>2019-11-26 18:59:41.454000+00:00</td>\n      <td>2019-11-26 18:59:46.609000+00:00</td>\n      <td>0 days 00:00:05.155000</td>\n      <td>0 days 00:00:00</td>\n      <td>21</td>\n      <td>11</td>\n      <td>0 days 00:00:04.241000</td>\n      <td>0.625</td>\n    </tr>\n  </tbody>\n</table>\n<p>6760 rows × 10 columns</p>\n</div>"
     },
     "execution_count": 1,
     "metadata": {},
     "output_type": "execute_result"
    }
   ],
   "source": [
    "import pandas as pd\n",
    "\n",
    "data = pd.read_csv(\"./step_delay_mapping.csv\")\n",
    "\n",
    "model_exec_times = pd.read_parquet(\"../edgedroid/data/resources/model_exec_times.parquet\")\n",
    "neuro = model_exec_times.groupby([\"run_id\", \"neuroticism\"], observed=True).count().reset_index().drop(columns=[\"ttf\", \"exec_time\"]).set_index(\"run_id\")\n",
    "\n",
    "data = data.join(other=neuro, on=\"participant\", how=\"left\")\n",
    "data"
   ]
  },
  {
   "cell_type": "code",
   "execution_count": 2,
   "outputs": [
    {
     "data": {
      "text/plain": "     participant  abs_seq  delay  block  block_seq  exec_time  neuroticism\n0         134146        0    0.0      0          0      3.029        0.375\n1         134146        1    0.0      1          0      4.004        0.375\n2         134146        2    0.0      1          1      2.625        0.375\n3         134146        3    0.0      1          2      4.680        0.375\n4         134146        4    0.0      1          3      5.197        0.375\n...          ...      ...    ...    ...        ...        ...          ...\n6755      137353      164    0.0     21          7      6.358        0.625\n6756      137353      165    0.0     21          8      3.840        0.625\n6757      137353      166    0.0     21          9      2.932        0.625\n6758      137353      167    0.0     21         10      1.874        0.625\n6759      137353      168    0.0     21         11      4.241        0.625\n\n[6760 rows x 7 columns]",
      "text/html": "<div>\n<style scoped>\n    .dataframe tbody tr th:only-of-type {\n        vertical-align: middle;\n    }\n\n    .dataframe tbody tr th {\n        vertical-align: top;\n    }\n\n    .dataframe thead th {\n        text-align: right;\n    }\n</style>\n<table border=\"1\" class=\"dataframe\">\n  <thead>\n    <tr style=\"text-align: right;\">\n      <th></th>\n      <th>participant</th>\n      <th>abs_seq</th>\n      <th>delay</th>\n      <th>block</th>\n      <th>block_seq</th>\n      <th>exec_time</th>\n      <th>neuroticism</th>\n    </tr>\n  </thead>\n  <tbody>\n    <tr>\n      <th>0</th>\n      <td>134146</td>\n      <td>0</td>\n      <td>0.0</td>\n      <td>0</td>\n      <td>0</td>\n      <td>3.029</td>\n      <td>0.375</td>\n    </tr>\n    <tr>\n      <th>1</th>\n      <td>134146</td>\n      <td>1</td>\n      <td>0.0</td>\n      <td>1</td>\n      <td>0</td>\n      <td>4.004</td>\n      <td>0.375</td>\n    </tr>\n    <tr>\n      <th>2</th>\n      <td>134146</td>\n      <td>2</td>\n      <td>0.0</td>\n      <td>1</td>\n      <td>1</td>\n      <td>2.625</td>\n      <td>0.375</td>\n    </tr>\n    <tr>\n      <th>3</th>\n      <td>134146</td>\n      <td>3</td>\n      <td>0.0</td>\n      <td>1</td>\n      <td>2</td>\n      <td>4.680</td>\n      <td>0.375</td>\n    </tr>\n    <tr>\n      <th>4</th>\n      <td>134146</td>\n      <td>4</td>\n      <td>0.0</td>\n      <td>1</td>\n      <td>3</td>\n      <td>5.197</td>\n      <td>0.375</td>\n    </tr>\n    <tr>\n      <th>...</th>\n      <td>...</td>\n      <td>...</td>\n      <td>...</td>\n      <td>...</td>\n      <td>...</td>\n      <td>...</td>\n      <td>...</td>\n    </tr>\n    <tr>\n      <th>6755</th>\n      <td>137353</td>\n      <td>164</td>\n      <td>0.0</td>\n      <td>21</td>\n      <td>7</td>\n      <td>6.358</td>\n      <td>0.625</td>\n    </tr>\n    <tr>\n      <th>6756</th>\n      <td>137353</td>\n      <td>165</td>\n      <td>0.0</td>\n      <td>21</td>\n      <td>8</td>\n      <td>3.840</td>\n      <td>0.625</td>\n    </tr>\n    <tr>\n      <th>6757</th>\n      <td>137353</td>\n      <td>166</td>\n      <td>0.0</td>\n      <td>21</td>\n      <td>9</td>\n      <td>2.932</td>\n      <td>0.625</td>\n    </tr>\n    <tr>\n      <th>6758</th>\n      <td>137353</td>\n      <td>167</td>\n      <td>0.0</td>\n      <td>21</td>\n      <td>10</td>\n      <td>1.874</td>\n      <td>0.625</td>\n    </tr>\n    <tr>\n      <th>6759</th>\n      <td>137353</td>\n      <td>168</td>\n      <td>0.0</td>\n      <td>21</td>\n      <td>11</td>\n      <td>4.241</td>\n      <td>0.625</td>\n    </tr>\n  </tbody>\n</table>\n<p>6760 rows × 7 columns</p>\n</div>"
     },
     "execution_count": 2,
     "metadata": {},
     "output_type": "execute_result"
    }
   ],
   "source": [
    "data = data.drop(columns=[\"start\", \"end\", \"duration\"], errors=\"ignore\")\n",
    "data[\"participant\"] = data[\"participant\"].astype(\"category\")\n",
    "data[\"delay\"] = pd.to_timedelta(data[\"delay\"]).dt.total_seconds()\n",
    "data[\"exec_time\"] = pd.to_timedelta(data[\"exec_time\"]).dt.total_seconds()\n",
    "data"
   ],
   "metadata": {
    "collapsed": false,
    "ExecuteTime": {
     "end_time": "2023-12-11T03:42:53.912872Z",
     "start_time": "2023-12-11T03:42:53.886625Z"
    }
   },
   "id": "82e7d98eb27f17d2"
  },
  {
   "cell_type": "code",
   "execution_count": 3,
   "outputs": [
    {
     "data": {
      "text/plain": "     participant  abs_seq  delay  block  block_seq  exec_time  neuroticism  \\\n0         134146        0    0.0      0          0      3.029        0.375   \n1         134146        1    0.0      1          0      4.004        0.375   \n2         134146        2    0.0      1          1      2.625        0.375   \n3         134146        3    0.0      1          2      4.680        0.375   \n4         134146        4    0.0      1          3      5.197        0.375   \n...          ...      ...    ...    ...        ...        ...          ...   \n6755      137353      164    0.0     21          7      6.358        0.625   \n6756      137353      165    0.0     21          8      3.840        0.625   \n6757      137353      166    0.0     21          9      2.932        0.625   \n6758      137353      167    0.0     21         10      1.874        0.625   \n6759      137353      168    0.0     21         11      4.241        0.625   \n\n      ttf  \n0     0.0  \n1     0.0  \n2     0.0  \n3     0.0  \n4     0.0  \n...   ...  \n6755  0.0  \n6756  0.0  \n6757  0.0  \n6758  0.0  \n6759  0.0  \n\n[6760 rows x 8 columns]",
      "text/html": "<div>\n<style scoped>\n    .dataframe tbody tr th:only-of-type {\n        vertical-align: middle;\n    }\n\n    .dataframe tbody tr th {\n        vertical-align: top;\n    }\n\n    .dataframe thead th {\n        text-align: right;\n    }\n</style>\n<table border=\"1\" class=\"dataframe\">\n  <thead>\n    <tr style=\"text-align: right;\">\n      <th></th>\n      <th>participant</th>\n      <th>abs_seq</th>\n      <th>delay</th>\n      <th>block</th>\n      <th>block_seq</th>\n      <th>exec_time</th>\n      <th>neuroticism</th>\n      <th>ttf</th>\n    </tr>\n  </thead>\n  <tbody>\n    <tr>\n      <th>0</th>\n      <td>134146</td>\n      <td>0</td>\n      <td>0.0</td>\n      <td>0</td>\n      <td>0</td>\n      <td>3.029</td>\n      <td>0.375</td>\n      <td>0.0</td>\n    </tr>\n    <tr>\n      <th>1</th>\n      <td>134146</td>\n      <td>1</td>\n      <td>0.0</td>\n      <td>1</td>\n      <td>0</td>\n      <td>4.004</td>\n      <td>0.375</td>\n      <td>0.0</td>\n    </tr>\n    <tr>\n      <th>2</th>\n      <td>134146</td>\n      <td>2</td>\n      <td>0.0</td>\n      <td>1</td>\n      <td>1</td>\n      <td>2.625</td>\n      <td>0.375</td>\n      <td>0.0</td>\n    </tr>\n    <tr>\n      <th>3</th>\n      <td>134146</td>\n      <td>3</td>\n      <td>0.0</td>\n      <td>1</td>\n      <td>2</td>\n      <td>4.680</td>\n      <td>0.375</td>\n      <td>0.0</td>\n    </tr>\n    <tr>\n      <th>4</th>\n      <td>134146</td>\n      <td>4</td>\n      <td>0.0</td>\n      <td>1</td>\n      <td>3</td>\n      <td>5.197</td>\n      <td>0.375</td>\n      <td>0.0</td>\n    </tr>\n    <tr>\n      <th>...</th>\n      <td>...</td>\n      <td>...</td>\n      <td>...</td>\n      <td>...</td>\n      <td>...</td>\n      <td>...</td>\n      <td>...</td>\n      <td>...</td>\n    </tr>\n    <tr>\n      <th>6755</th>\n      <td>137353</td>\n      <td>164</td>\n      <td>0.0</td>\n      <td>21</td>\n      <td>7</td>\n      <td>6.358</td>\n      <td>0.625</td>\n      <td>0.0</td>\n    </tr>\n    <tr>\n      <th>6756</th>\n      <td>137353</td>\n      <td>165</td>\n      <td>0.0</td>\n      <td>21</td>\n      <td>8</td>\n      <td>3.840</td>\n      <td>0.625</td>\n      <td>0.0</td>\n    </tr>\n    <tr>\n      <th>6757</th>\n      <td>137353</td>\n      <td>166</td>\n      <td>0.0</td>\n      <td>21</td>\n      <td>9</td>\n      <td>2.932</td>\n      <td>0.625</td>\n      <td>0.0</td>\n    </tr>\n    <tr>\n      <th>6758</th>\n      <td>137353</td>\n      <td>167</td>\n      <td>0.0</td>\n      <td>21</td>\n      <td>10</td>\n      <td>1.874</td>\n      <td>0.625</td>\n      <td>0.0</td>\n    </tr>\n    <tr>\n      <th>6759</th>\n      <td>137353</td>\n      <td>168</td>\n      <td>0.0</td>\n      <td>21</td>\n      <td>11</td>\n      <td>4.241</td>\n      <td>0.625</td>\n      <td>0.0</td>\n    </tr>\n  </tbody>\n</table>\n<p>6760 rows × 8 columns</p>\n</div>"
     },
     "execution_count": 3,
     "metadata": {},
     "output_type": "execute_result"
    }
   ],
   "source": [
    "data[\"ttf\"] = 1.5 * data[\"delay\"]\n",
    "data"
   ],
   "metadata": {
    "collapsed": false,
    "ExecuteTime": {
     "end_time": "2023-12-11T03:42:53.913230Z",
     "start_time": "2023-12-11T03:42:53.898575Z"
    }
   },
   "id": "6d0a10dd0a60d5b4"
  },
  {
   "cell_type": "code",
   "execution_count": 4,
   "outputs": [
    {
     "data": {
      "text/plain": "     participant  abs_seq  delay  block  block_seq  exec_time  neuroticism  \\\n0         134146        0    0.0      0          0      3.029        0.375   \n1         134146        1    0.0      1          0      4.004        0.375   \n2         134146        2    0.0      1          1      2.625        0.375   \n3         134146        3    0.0      1          2      4.680        0.375   \n4         134146        4    0.0      1          3      5.197        0.375   \n...          ...      ...    ...    ...        ...        ...          ...   \n6755      137353      164    0.0     21          7      6.358        0.625   \n6756      137353      165    0.0     21          8      3.840        0.625   \n6757      137353      166    0.0     21          9      2.932        0.625   \n6758      137353      167    0.0     21         10      1.874        0.625   \n6759      137353      168    0.0     21         11      4.241        0.625   \n\n      ttf     duration        neuro  \n0     0.0  [-inf, 5.0)  [-inf, 0.5)  \n1     0.0  [-inf, 5.0)  [-inf, 0.5)  \n2     0.0  [-inf, 5.0)  [-inf, 0.5)  \n3     0.0  [-inf, 5.0)  [-inf, 0.5)  \n4     0.0  [-inf, 5.0)  [-inf, 0.5)  \n...   ...          ...          ...  \n6755  0.0   [5.0, 9.0)   [0.5, inf)  \n6756  0.0   [9.0, inf)   [0.5, inf)  \n6757  0.0   [9.0, inf)   [0.5, inf)  \n6758  0.0   [9.0, inf)   [0.5, inf)  \n6759  0.0   [9.0, inf)   [0.5, inf)  \n\n[6760 rows x 10 columns]",
      "text/html": "<div>\n<style scoped>\n    .dataframe tbody tr th:only-of-type {\n        vertical-align: middle;\n    }\n\n    .dataframe tbody tr th {\n        vertical-align: top;\n    }\n\n    .dataframe thead th {\n        text-align: right;\n    }\n</style>\n<table border=\"1\" class=\"dataframe\">\n  <thead>\n    <tr style=\"text-align: right;\">\n      <th></th>\n      <th>participant</th>\n      <th>abs_seq</th>\n      <th>delay</th>\n      <th>block</th>\n      <th>block_seq</th>\n      <th>exec_time</th>\n      <th>neuroticism</th>\n      <th>ttf</th>\n      <th>duration</th>\n      <th>neuro</th>\n    </tr>\n  </thead>\n  <tbody>\n    <tr>\n      <th>0</th>\n      <td>134146</td>\n      <td>0</td>\n      <td>0.0</td>\n      <td>0</td>\n      <td>0</td>\n      <td>3.029</td>\n      <td>0.375</td>\n      <td>0.0</td>\n      <td>[-inf, 5.0)</td>\n      <td>[-inf, 0.5)</td>\n    </tr>\n    <tr>\n      <th>1</th>\n      <td>134146</td>\n      <td>1</td>\n      <td>0.0</td>\n      <td>1</td>\n      <td>0</td>\n      <td>4.004</td>\n      <td>0.375</td>\n      <td>0.0</td>\n      <td>[-inf, 5.0)</td>\n      <td>[-inf, 0.5)</td>\n    </tr>\n    <tr>\n      <th>2</th>\n      <td>134146</td>\n      <td>2</td>\n      <td>0.0</td>\n      <td>1</td>\n      <td>1</td>\n      <td>2.625</td>\n      <td>0.375</td>\n      <td>0.0</td>\n      <td>[-inf, 5.0)</td>\n      <td>[-inf, 0.5)</td>\n    </tr>\n    <tr>\n      <th>3</th>\n      <td>134146</td>\n      <td>3</td>\n      <td>0.0</td>\n      <td>1</td>\n      <td>2</td>\n      <td>4.680</td>\n      <td>0.375</td>\n      <td>0.0</td>\n      <td>[-inf, 5.0)</td>\n      <td>[-inf, 0.5)</td>\n    </tr>\n    <tr>\n      <th>4</th>\n      <td>134146</td>\n      <td>4</td>\n      <td>0.0</td>\n      <td>1</td>\n      <td>3</td>\n      <td>5.197</td>\n      <td>0.375</td>\n      <td>0.0</td>\n      <td>[-inf, 5.0)</td>\n      <td>[-inf, 0.5)</td>\n    </tr>\n    <tr>\n      <th>...</th>\n      <td>...</td>\n      <td>...</td>\n      <td>...</td>\n      <td>...</td>\n      <td>...</td>\n      <td>...</td>\n      <td>...</td>\n      <td>...</td>\n      <td>...</td>\n      <td>...</td>\n    </tr>\n    <tr>\n      <th>6755</th>\n      <td>137353</td>\n      <td>164</td>\n      <td>0.0</td>\n      <td>21</td>\n      <td>7</td>\n      <td>6.358</td>\n      <td>0.625</td>\n      <td>0.0</td>\n      <td>[5.0, 9.0)</td>\n      <td>[0.5, inf)</td>\n    </tr>\n    <tr>\n      <th>6756</th>\n      <td>137353</td>\n      <td>165</td>\n      <td>0.0</td>\n      <td>21</td>\n      <td>8</td>\n      <td>3.840</td>\n      <td>0.625</td>\n      <td>0.0</td>\n      <td>[9.0, inf)</td>\n      <td>[0.5, inf)</td>\n    </tr>\n    <tr>\n      <th>6757</th>\n      <td>137353</td>\n      <td>166</td>\n      <td>0.0</td>\n      <td>21</td>\n      <td>9</td>\n      <td>2.932</td>\n      <td>0.625</td>\n      <td>0.0</td>\n      <td>[9.0, inf)</td>\n      <td>[0.5, inf)</td>\n    </tr>\n    <tr>\n      <th>6758</th>\n      <td>137353</td>\n      <td>167</td>\n      <td>0.0</td>\n      <td>21</td>\n      <td>10</td>\n      <td>1.874</td>\n      <td>0.625</td>\n      <td>0.0</td>\n      <td>[9.0, inf)</td>\n      <td>[0.5, inf)</td>\n    </tr>\n    <tr>\n      <th>6759</th>\n      <td>137353</td>\n      <td>168</td>\n      <td>0.0</td>\n      <td>21</td>\n      <td>11</td>\n      <td>4.241</td>\n      <td>0.625</td>\n      <td>0.0</td>\n      <td>[9.0, inf)</td>\n      <td>[0.5, inf)</td>\n    </tr>\n  </tbody>\n</table>\n<p>6760 rows × 10 columns</p>\n</div>"
     },
     "execution_count": 4,
     "metadata": {},
     "output_type": "execute_result"
    }
   ],
   "source": [
    "import numpy as np\n",
    "\n",
    "data[\"duration\"] = pd.cut(data[\"block_seq\"] + 1, bins=[-np.inf, 5, 9, np.inf], right=False)\n",
    "data[\"neuro\"] = pd.cut(data[\"neuroticism\"], bins=[-np.inf, .5, np.inf], right=False)\n",
    "data"
   ],
   "metadata": {
    "collapsed": false,
    "ExecuteTime": {
     "end_time": "2023-12-11T03:42:53.946416Z",
     "start_time": "2023-12-11T03:42:53.902208Z"
    }
   },
   "id": "e5153d079fcd236d"
  },
  {
   "cell_type": "code",
   "execution_count": 8,
   "outputs": [],
   "source": [
    "output = data[[\"participant\", \"ttf\", \"exec_time\", \"duration\", \"neuro\"]].copy()\n",
    "output[[\"duration\", \"neuro\"]] = output[[\"duration\", \"neuro\"]].astype(pd.IntervalDtype())\n",
    "output.to_parquet(\"../edgedroid/data/resources/curve_fitting_data.parquet\")"
   ],
   "metadata": {
    "collapsed": false,
    "ExecuteTime": {
     "end_time": "2023-12-11T03:47:38.110957Z",
     "start_time": "2023-12-11T03:47:37.994075Z"
    }
   },
   "id": "877aca27a57c35f7"
  },
  {
   "cell_type": "code",
   "execution_count": null,
   "outputs": [],
   "source": [
    "%matplotlib widget\n",
    "\n",
    "import matplotlib.pyplot as plt\n",
    "from matplotlib.ticker import FormatStrFormatter\n",
    "import seaborn as sns\n",
    "import numpy as np\n",
    "\n",
    "ttfs = np.sort(data[\"ttf\"].unique())\n",
    "\n",
    "fg = sns.catplot(data=data, x=\"ttf\", y=\"exec_time\", hue=\"duration\", kind=\"point\")\n",
    "for ax in fg.axes.flat:\n",
    "    ax.set_xticks(ticks=ax.get_xticks(), labels=[f\"{t:0.2f}\" for t in ttfs])\n",
    "plt.show()\n",
    "\n",
    "fg = sns.catplot(data=data, x=\"ttf\", y=\"exec_time\", hue=\"duration\", col=\"neuro\", kind=\"point\")\n",
    "for ax in fg.axes.flat:\n",
    "    ax.set_xticks(ticks=ax.get_xticks(), labels=[f\"{t:0.2f}\" for t in ttfs])\n",
    "plt.show()\n",
    "\n",
    "means_per_duration = data.groupby([\"duration\", \"ttf\", \"neuro\"])[\"exec_time\"].mean()\n",
    "means_per_duration"
   ],
   "metadata": {
    "collapsed": false,
    "ExecuteTime": {
     "start_time": "2023-12-11T03:42:54.382904Z"
    }
   },
   "id": "f33ba7d9f4c65295"
  },
  {
   "cell_type": "code",
   "execution_count": null,
   "outputs": [],
   "source": [
    "from scipy.optimize import curve_fit\n",
    "from collections import deque\n",
    "\n",
    "def func(x, a, b, c):\n",
    "    return a * np.power(x, b) + c\n",
    "\n",
    "rows = deque()\n",
    "coefs = deque()\n",
    "\n",
    "for (duration, neuro), data in means_per_duration.reset_index().groupby([\"duration\", \"neuro\"], observed=True):\n",
    "    opt, cov = curve_fit(func, xdata=data[\"ttf\"], ydata=data[\"exec_time\"])\n",
    "    coefs.append({\"duration\": duration, \"neuro\": neuro, \"a\": opt[0], \"b\": opt[1], \"c\": opt[2]})\n",
    "    \n",
    "    for ttf in data[\"ttf\"]:\n",
    "        fitted_exec_time = func(ttf, *opt)\n",
    "        rows.append({\"duration\": duration, \"neuro\": neuro, \"ttf\": ttf, \"exec_time\": fitted_exec_time})\n",
    "\n",
    "coefs_df = pd.DataFrame(coefs)\n",
    "fitted_means = pd.DataFrame(rows)\n",
    "comp_means = fitted_means.copy()\n",
    "comp_means[\"duration\"] = comp_means[\"duration\"].apply(lambda s: f\"{s} fitted\")\n",
    "\n",
    "comp_means = pd.concat((comp_means, means_per_duration.reset_index()), axis=0)\n",
    "\n",
    "\n",
    "ttfs = np.sort(data[\"ttf\"].unique())\n",
    "\n",
    "fg = sns.catplot(data=comp_means, x=\"ttf\", y=\"exec_time\", hue=\"duration\", kind=\"point\")\n",
    "for ax in fg.axes.flat:\n",
    "    ax.set_xticks(ticks=ax.get_xticks(), labels=[f\"{t:0.2f}\" for t in ttfs])\n",
    "plt.show()\n",
    "\n",
    "fg = sns.catplot(data=comp_means, x=\"ttf\", y=\"exec_time\", hue=\"duration\", col=\"neuro\", kind=\"point\")\n",
    "for ax in fg.axes.flat:\n",
    "    ax.set_xticks(ticks=ax.get_xticks(), labels=[f\"{t:0.2f}\" for t in ttfs])\n",
    "plt.show()\n",
    "\n",
    "\n",
    "coefs_df"
   ],
   "metadata": {
    "collapsed": false,
    "ExecuteTime": {
     "start_time": "2023-12-11T03:42:54.384268Z"
    }
   },
   "id": "43bdb0cf2d68de19"
  },
  {
   "cell_type": "code",
   "execution_count": null,
   "outputs": [],
   "source": [
    "coefs_df.to_parquet(\"../edgedroid/data/resources/fitted_coefs.parquet\")"
   ],
   "metadata": {
    "collapsed": false,
    "ExecuteTime": {
     "start_time": "2023-12-11T03:42:54.385234Z"
    }
   },
   "id": "c59fa8404d88aff0"
  },
  {
   "cell_type": "code",
   "execution_count": null,
   "outputs": [],
   "source": [],
   "metadata": {
    "collapsed": false,
    "ExecuteTime": {
     "start_time": "2023-12-11T03:42:54.385969Z"
    }
   },
   "id": "38f6c07149aa6c95"
  }
 ],
 "metadata": {
  "kernelspec": {
   "display_name": "Python 3",
   "language": "python",
   "name": "python3"
  },
  "language_info": {
   "codemirror_mode": {
    "name": "ipython",
    "version": 2
   },
   "file_extension": ".py",
   "mimetype": "text/x-python",
   "name": "python",
   "nbconvert_exporter": "python",
   "pygments_lexer": "ipython2",
   "version": "2.7.6"
  }
 },
 "nbformat": 4,
 "nbformat_minor": 5
}
