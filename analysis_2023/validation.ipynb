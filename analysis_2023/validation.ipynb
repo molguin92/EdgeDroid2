{
 "cells": [
  {
   "cell_type": "code",
   "execution_count": 1,
   "id": "initial_id",
   "metadata": {
    "ExecuteTime": {
     "end_time": "2023-10-16T01:28:49.561986Z",
     "start_time": "2023-10-16T01:28:49.447860Z"
    },
    "collapsed": true,
    "jupyter": {
     "outputs_hidden": true
    }
   },
   "source": [
    "import numpy as np\n",
    "\n",
    "from edgedroid.models.timings import *\n",
    "import edgedroid.data as default_data\n",
    "\n",
    "exec_time_data, neuroticism_data, imp_data, dur_data = default_data.load_default_exec_time_data()\n",
    "exec_time_data"
   ],
   "outputs": []
  },
  {
   "cell_type": "code",
   "execution_count": 2,
   "id": "8dea243f543f99a3",
   "metadata": {
    "ExecuteTime": {
     "end_time": "2023-10-16T01:28:49.706832Z",
     "start_time": "2023-10-16T01:28:49.561578Z"
    },
    "collapsed": false,
    "jupyter": {
     "outputs_hidden": false
    }
   },
   "source": [
    "data = preprocess_data(exec_time_data, neuroticism_data, imp_data, dur_data)\n",
    "data"
   ],
   "outputs": []
  },
  {
   "cell_type": "markdown",
   "id": "e095cd966f535e23",
   "metadata": {
    "collapsed": false,
    "jupyter": {
     "outputs_hidden": false
    }
   },
   "source": [
    "# Validation\n",
    "\n",
    "For each `run_id`, we\n",
    "1. Build a model excluding the data associated to that `run_id`.\n",
    "2. Execute X runs of the model following the sequence of TTFs in the excluded run.\n",
    "3. Collect the TTFs generated per step by the model.\n",
    "4. Calculate error w.r.t. excluded `run_id`.\n"
   ]
  },
  {
   "cell_type": "code",
   "execution_count": 3,
   "id": "ecf087a8fe4dbc27",
   "metadata": {
    "ExecuteTime": {
     "end_time": "2023-10-16T01:28:55.375895Z",
     "start_time": "2023-10-16T01:28:49.708646Z"
    },
    "collapsed": false,
    "jupyter": {
     "outputs_hidden": false
    }
   },
   "source": [
    "from collections import deque\n",
    "import pandas as pd\n",
    "from typing import Tuple\n",
    "\n",
    "result_rows = deque()\n",
    "\n",
    "for run_id in data[\"run_id\"].unique():\n",
    "    test_data = data[data[\"run_id\"] == run_id].copy()\n",
    "    \n",
    "    def get_test_data(*args, **kwargs) -> Tuple[pd.DataFrame, pd.arrays.IntervalArray, pd.arrays.IntervalArray, pd.arrays.IntervalArray]:\n",
    "        etime_data = exec_time_data[exec_time_data[\"run_id\"] != run_id].copy()\n",
    "        return etime_data, neuroticism_data, imp_data, dur_data\n",
    "    \n",
    "    class EmpiricalTestModel(EmpiricalETM):\n",
    "        get_data = get_test_data\n",
    "        \n",
    "    class NaiveTestModel(FirstOrderETM):\n",
    "        get_data = get_test_data\n",
    "    \n",
    "    neuroticism = test_data[\"neuroticism_raw\"].unique()[0]\n",
    "    empirical_model = EmpiricalTestModel(neuroticism=neuroticism, ttf_levels=4, winsorize=True)\n",
    "    naive_model = NaiveTestModel()\n",
    "    \n",
    "    for _ in range(30):\n",
    "        for i, (prev_ttf, exec_time) in enumerate(test_data[[\"ttf\", \"next_exec_time\"]].itertuples(index=False)):\n",
    "            if i != 0:\n",
    "                # first row has no previous ttf\n",
    "                empirical_model.advance(prev_ttf)\n",
    "                naive_model.advance(prev_ttf)\n",
    "                \n",
    "            predicted_realistic_exec_time = empirical_model.get_execution_time()\n",
    "            predicted_naive_exec_time = naive_model.get_execution_time()\n",
    "            result_rows.append({\n",
    "                \"real\": exec_time, \n",
    "                \"prediction\": predicted_realistic_exec_time, \n",
    "                \"model\": \"realistic\"\n",
    "            })\n",
    "            result_rows.append({\n",
    "                \"real\": exec_time,\n",
    "                \"prediction\": predicted_naive_exec_time,\n",
    "                \"model\": \"1st order\"\n",
    "            })\n",
    "            \n",
    "results = pd.DataFrame(result_rows)\n",
    "results"
   ],
   "outputs": []
  },
  {
   "cell_type": "code",
   "execution_count": 4,
   "id": "53bb847f19fad501",
   "metadata": {
    "ExecuteTime": {
     "end_time": "2023-10-16T01:28:55.380270Z",
     "start_time": "2023-10-16T01:28:55.373689Z"
    },
    "collapsed": false,
    "jupyter": {
     "outputs_hidden": false
    }
   },
   "source": [
    "import numpy as np\n",
    "\n",
    "results[\"error\"] = results[\"prediction\"] - results[\"real\"]\n",
    "results[\"sqr_error\"] = np.square(results[\"error\"])\n",
    "\n",
    "results"
   ],
   "outputs": []
  },
  {
   "cell_type": "code",
   "execution_count": 5,
   "id": "e1bd163c5931958d",
   "metadata": {
    "ExecuteTime": {
     "end_time": "2023-10-16T01:28:55.462971Z",
     "start_time": "2023-10-16T01:28:55.382039Z"
    },
    "collapsed": false,
    "jupyter": {
     "outputs_hidden": false
    }
   },
   "source": [
    "results.drop(columns=[\"error\"]).groupby(\"model\").describe().drop(columns=[\"real\", \"prediction\"]).T"
   ],
   "outputs": []
  },
  {
   "cell_type": "code",
   "execution_count": 6,
   "id": "c8d0bfb17ba34881",
   "metadata": {
    "ExecuteTime": {
     "end_time": "2023-10-16T01:28:56.472322Z",
     "start_time": "2023-10-16T01:28:55.457455Z"
    },
    "collapsed": false,
    "jupyter": {
     "outputs_hidden": false
    }
   },
   "source": [
    "# %matplotlib inline\n",
    "import matplotlib as mpl\n",
    "import matplotlib.pyplot as plt\n",
    "import seaborn as sns\n",
    "\n",
    "ax = sns.histplot(data=results, x=\"sqr_error\", hue=\"model\", stat=\"density\", log_scale=True, cumulative=True)\n",
    "ax.set_title(\"CDF of Model Error\")\n",
    "ax.set_xlabel(\"Error (% w.r.t. test value)\")\n",
    "plt.show()"
   ],
   "outputs": []
  },
  {
   "cell_type": "code",
   "execution_count": 6,
   "id": "ad7c5f89af2c77cd",
   "metadata": {
    "ExecuteTime": {
     "end_time": "2023-10-16T01:28:56.472564Z",
     "start_time": "2023-10-16T01:28:56.462265Z"
    },
    "collapsed": false,
    "jupyter": {
     "outputs_hidden": false
    }
   },
   "source": [],
   "outputs": []
  }
 ],
 "metadata": {
  "kernelspec": {
   "display_name": "Python 3 (ipykernel)",
   "language": "python",
   "name": "python3"
  },
  "language_info": {
   "codemirror_mode": {
    "name": "ipython",
    "version": 3
   },
   "file_extension": ".py",
   "mimetype": "text/x-python",
   "name": "python",
   "nbconvert_exporter": "python",
   "pygments_lexer": "ipython3",
   "version": "3.11.6"
  }
 },
 "nbformat": 4,
 "nbformat_minor": 5
}
