{
 "cells": [
  {
   "cell_type": "code",
   "execution_count": 1,
   "id": "initial_id",
   "metadata": {
    "collapsed": true,
    "ExecuteTime": {
     "end_time": "2023-10-09T04:26:03.116805Z",
     "start_time": "2023-10-09T04:26:03.018522Z"
    }
   },
   "outputs": [
    {
     "data": {
      "text/plain": "      run_id       ttf  exec_time  neuroticism\n0     134146  0.597441   3.654797        0.375\n1     134146  0.553513   4.438645        0.375\n2     134146  0.561716   2.943222        0.375\n3     134146  0.586512   5.405761        0.375\n4     134146  0.558940   5.225161        0.375\n...      ...       ...        ...          ...\n6755  137353  0.557074   6.439071        0.625\n6756  137353  0.534339   4.680858        0.625\n6757  137353  0.560288   3.467878        0.625\n6758  137353  0.579000   2.325759        0.625\n6759  137353  0.536671   4.615283        0.625\n\n[6760 rows x 4 columns]",
      "text/html": "<div>\n<style scoped>\n    .dataframe tbody tr th:only-of-type {\n        vertical-align: middle;\n    }\n\n    .dataframe tbody tr th {\n        vertical-align: top;\n    }\n\n    .dataframe thead th {\n        text-align: right;\n    }\n</style>\n<table border=\"1\" class=\"dataframe\">\n  <thead>\n    <tr style=\"text-align: right;\">\n      <th></th>\n      <th>run_id</th>\n      <th>ttf</th>\n      <th>exec_time</th>\n      <th>neuroticism</th>\n    </tr>\n  </thead>\n  <tbody>\n    <tr>\n      <th>0</th>\n      <td>134146</td>\n      <td>0.597441</td>\n      <td>3.654797</td>\n      <td>0.375</td>\n    </tr>\n    <tr>\n      <th>1</th>\n      <td>134146</td>\n      <td>0.553513</td>\n      <td>4.438645</td>\n      <td>0.375</td>\n    </tr>\n    <tr>\n      <th>2</th>\n      <td>134146</td>\n      <td>0.561716</td>\n      <td>2.943222</td>\n      <td>0.375</td>\n    </tr>\n    <tr>\n      <th>3</th>\n      <td>134146</td>\n      <td>0.586512</td>\n      <td>5.405761</td>\n      <td>0.375</td>\n    </tr>\n    <tr>\n      <th>4</th>\n      <td>134146</td>\n      <td>0.558940</td>\n      <td>5.225161</td>\n      <td>0.375</td>\n    </tr>\n    <tr>\n      <th>...</th>\n      <td>...</td>\n      <td>...</td>\n      <td>...</td>\n      <td>...</td>\n    </tr>\n    <tr>\n      <th>6755</th>\n      <td>137353</td>\n      <td>0.557074</td>\n      <td>6.439071</td>\n      <td>0.625</td>\n    </tr>\n    <tr>\n      <th>6756</th>\n      <td>137353</td>\n      <td>0.534339</td>\n      <td>4.680858</td>\n      <td>0.625</td>\n    </tr>\n    <tr>\n      <th>6757</th>\n      <td>137353</td>\n      <td>0.560288</td>\n      <td>3.467878</td>\n      <td>0.625</td>\n    </tr>\n    <tr>\n      <th>6758</th>\n      <td>137353</td>\n      <td>0.579000</td>\n      <td>2.325759</td>\n      <td>0.625</td>\n    </tr>\n    <tr>\n      <th>6759</th>\n      <td>137353</td>\n      <td>0.536671</td>\n      <td>4.615283</td>\n      <td>0.625</td>\n    </tr>\n  </tbody>\n</table>\n<p>6760 rows × 4 columns</p>\n</div>"
     },
     "execution_count": 1,
     "metadata": {},
     "output_type": "execute_result"
    }
   ],
   "source": [
    "import numpy as np\n",
    "\n",
    "from edgedroid.models.timings import *\n",
    "import edgedroid.data as default_data\n",
    "\n",
    "exec_time_data, neuroticism_data, imp_data, dur_data = default_data.load_default_exec_time_data()\n",
    "exec_time_data"
   ]
  },
  {
   "cell_type": "code",
   "execution_count": 2,
   "outputs": [
    {
     "name": "stderr",
     "output_type": "stream",
     "text": [
      "/Users/molguin/workspace/personal/EdgeDroid2/edgedroid/models/timings.py:138: FutureWarning: Series.fillna with 'method' is deprecated and will raise in a future version. Use obj.ffill() or obj.bfill() instead.\n",
      "  df[\"transition\"].fillna(method=\"ffill\").fillna(Transition.NONE.value)\n",
      "/Users/molguin/workspace/personal/EdgeDroid2/edgedroid/models/timings.py:138: FutureWarning: Series.fillna with 'method' is deprecated and will raise in a future version. Use obj.ffill() or obj.bfill() instead.\n",
      "  df[\"transition\"].fillna(method=\"ffill\").fillna(Transition.NONE.value)\n",
      "/Users/molguin/workspace/personal/EdgeDroid2/edgedroid/models/timings.py:138: FutureWarning: Series.fillna with 'method' is deprecated and will raise in a future version. Use obj.ffill() or obj.bfill() instead.\n",
      "  df[\"transition\"].fillna(method=\"ffill\").fillna(Transition.NONE.value)\n",
      "/Users/molguin/workspace/personal/EdgeDroid2/edgedroid/models/timings.py:138: FutureWarning: Series.fillna with 'method' is deprecated and will raise in a future version. Use obj.ffill() or obj.bfill() instead.\n",
      "  df[\"transition\"].fillna(method=\"ffill\").fillna(Transition.NONE.value)\n",
      "/Users/molguin/workspace/personal/EdgeDroid2/edgedroid/models/timings.py:138: FutureWarning: Series.fillna with 'method' is deprecated and will raise in a future version. Use obj.ffill() or obj.bfill() instead.\n",
      "  df[\"transition\"].fillna(method=\"ffill\").fillna(Transition.NONE.value)\n",
      "/Users/molguin/workspace/personal/EdgeDroid2/edgedroid/models/timings.py:138: FutureWarning: Series.fillna with 'method' is deprecated and will raise in a future version. Use obj.ffill() or obj.bfill() instead.\n",
      "  df[\"transition\"].fillna(method=\"ffill\").fillna(Transition.NONE.value)\n",
      "/Users/molguin/workspace/personal/EdgeDroid2/edgedroid/models/timings.py:138: FutureWarning: Series.fillna with 'method' is deprecated and will raise in a future version. Use obj.ffill() or obj.bfill() instead.\n",
      "  df[\"transition\"].fillna(method=\"ffill\").fillna(Transition.NONE.value)\n",
      "/Users/molguin/workspace/personal/EdgeDroid2/edgedroid/models/timings.py:138: FutureWarning: Series.fillna with 'method' is deprecated and will raise in a future version. Use obj.ffill() or obj.bfill() instead.\n",
      "  df[\"transition\"].fillna(method=\"ffill\").fillna(Transition.NONE.value)\n",
      "/Users/molguin/workspace/personal/EdgeDroid2/edgedroid/models/timings.py:138: FutureWarning: Series.fillna with 'method' is deprecated and will raise in a future version. Use obj.ffill() or obj.bfill() instead.\n",
      "  df[\"transition\"].fillna(method=\"ffill\").fillna(Transition.NONE.value)\n",
      "/Users/molguin/workspace/personal/EdgeDroid2/edgedroid/models/timings.py:138: FutureWarning: Series.fillna with 'method' is deprecated and will raise in a future version. Use obj.ffill() or obj.bfill() instead.\n",
      "  df[\"transition\"].fillna(method=\"ffill\").fillna(Transition.NONE.value)\n",
      "/Users/molguin/workspace/personal/EdgeDroid2/edgedroid/models/timings.py:138: FutureWarning: Series.fillna with 'method' is deprecated and will raise in a future version. Use obj.ffill() or obj.bfill() instead.\n",
      "  df[\"transition\"].fillna(method=\"ffill\").fillna(Transition.NONE.value)\n",
      "/Users/molguin/workspace/personal/EdgeDroid2/edgedroid/models/timings.py:138: FutureWarning: Series.fillna with 'method' is deprecated and will raise in a future version. Use obj.ffill() or obj.bfill() instead.\n",
      "  df[\"transition\"].fillna(method=\"ffill\").fillna(Transition.NONE.value)\n",
      "/Users/molguin/workspace/personal/EdgeDroid2/edgedroid/models/timings.py:138: FutureWarning: Series.fillna with 'method' is deprecated and will raise in a future version. Use obj.ffill() or obj.bfill() instead.\n",
      "  df[\"transition\"].fillna(method=\"ffill\").fillna(Transition.NONE.value)\n",
      "/Users/molguin/workspace/personal/EdgeDroid2/edgedroid/models/timings.py:138: FutureWarning: Series.fillna with 'method' is deprecated and will raise in a future version. Use obj.ffill() or obj.bfill() instead.\n",
      "  df[\"transition\"].fillna(method=\"ffill\").fillna(Transition.NONE.value)\n",
      "/Users/molguin/workspace/personal/EdgeDroid2/edgedroid/models/timings.py:138: FutureWarning: Series.fillna with 'method' is deprecated and will raise in a future version. Use obj.ffill() or obj.bfill() instead.\n",
      "  df[\"transition\"].fillna(method=\"ffill\").fillna(Transition.NONE.value)\n",
      "/Users/molguin/workspace/personal/EdgeDroid2/edgedroid/models/timings.py:138: FutureWarning: Series.fillna with 'method' is deprecated and will raise in a future version. Use obj.ffill() or obj.bfill() instead.\n",
      "  df[\"transition\"].fillna(method=\"ffill\").fillna(Transition.NONE.value)\n",
      "/Users/molguin/workspace/personal/EdgeDroid2/edgedroid/models/timings.py:138: FutureWarning: Series.fillna with 'method' is deprecated and will raise in a future version. Use obj.ffill() or obj.bfill() instead.\n",
      "  df[\"transition\"].fillna(method=\"ffill\").fillna(Transition.NONE.value)\n",
      "/Users/molguin/workspace/personal/EdgeDroid2/edgedroid/models/timings.py:138: FutureWarning: Series.fillna with 'method' is deprecated and will raise in a future version. Use obj.ffill() or obj.bfill() instead.\n",
      "  df[\"transition\"].fillna(method=\"ffill\").fillna(Transition.NONE.value)\n",
      "/Users/molguin/workspace/personal/EdgeDroid2/edgedroid/models/timings.py:138: FutureWarning: Series.fillna with 'method' is deprecated and will raise in a future version. Use obj.ffill() or obj.bfill() instead.\n",
      "  df[\"transition\"].fillna(method=\"ffill\").fillna(Transition.NONE.value)\n",
      "/Users/molguin/workspace/personal/EdgeDroid2/edgedroid/models/timings.py:138: FutureWarning: Series.fillna with 'method' is deprecated and will raise in a future version. Use obj.ffill() or obj.bfill() instead.\n",
      "  df[\"transition\"].fillna(method=\"ffill\").fillna(Transition.NONE.value)\n",
      "/Users/molguin/workspace/personal/EdgeDroid2/edgedroid/models/timings.py:138: FutureWarning: Series.fillna with 'method' is deprecated and will raise in a future version. Use obj.ffill() or obj.bfill() instead.\n",
      "  df[\"transition\"].fillna(method=\"ffill\").fillna(Transition.NONE.value)\n",
      "/Users/molguin/workspace/personal/EdgeDroid2/edgedroid/models/timings.py:138: FutureWarning: Series.fillna with 'method' is deprecated and will raise in a future version. Use obj.ffill() or obj.bfill() instead.\n",
      "  df[\"transition\"].fillna(method=\"ffill\").fillna(Transition.NONE.value)\n",
      "/Users/molguin/workspace/personal/EdgeDroid2/edgedroid/models/timings.py:138: FutureWarning: Series.fillna with 'method' is deprecated and will raise in a future version. Use obj.ffill() or obj.bfill() instead.\n",
      "  df[\"transition\"].fillna(method=\"ffill\").fillna(Transition.NONE.value)\n",
      "/Users/molguin/workspace/personal/EdgeDroid2/edgedroid/models/timings.py:138: FutureWarning: Series.fillna with 'method' is deprecated and will raise in a future version. Use obj.ffill() or obj.bfill() instead.\n",
      "  df[\"transition\"].fillna(method=\"ffill\").fillna(Transition.NONE.value)\n",
      "/Users/molguin/workspace/personal/EdgeDroid2/edgedroid/models/timings.py:138: FutureWarning: Series.fillna with 'method' is deprecated and will raise in a future version. Use obj.ffill() or obj.bfill() instead.\n",
      "  df[\"transition\"].fillna(method=\"ffill\").fillna(Transition.NONE.value)\n",
      "/Users/molguin/workspace/personal/EdgeDroid2/edgedroid/models/timings.py:138: FutureWarning: Series.fillna with 'method' is deprecated and will raise in a future version. Use obj.ffill() or obj.bfill() instead.\n",
      "  df[\"transition\"].fillna(method=\"ffill\").fillna(Transition.NONE.value)\n",
      "/Users/molguin/workspace/personal/EdgeDroid2/edgedroid/models/timings.py:138: FutureWarning: Series.fillna with 'method' is deprecated and will raise in a future version. Use obj.ffill() or obj.bfill() instead.\n",
      "  df[\"transition\"].fillna(method=\"ffill\").fillna(Transition.NONE.value)\n",
      "/Users/molguin/workspace/personal/EdgeDroid2/edgedroid/models/timings.py:138: FutureWarning: Series.fillna with 'method' is deprecated and will raise in a future version. Use obj.ffill() or obj.bfill() instead.\n",
      "  df[\"transition\"].fillna(method=\"ffill\").fillna(Transition.NONE.value)\n",
      "/Users/molguin/workspace/personal/EdgeDroid2/edgedroid/models/timings.py:138: FutureWarning: Series.fillna with 'method' is deprecated and will raise in a future version. Use obj.ffill() or obj.bfill() instead.\n",
      "  df[\"transition\"].fillna(method=\"ffill\").fillna(Transition.NONE.value)\n",
      "/Users/molguin/workspace/personal/EdgeDroid2/edgedroid/models/timings.py:138: FutureWarning: Series.fillna with 'method' is deprecated and will raise in a future version. Use obj.ffill() or obj.bfill() instead.\n",
      "  df[\"transition\"].fillna(method=\"ffill\").fillna(Transition.NONE.value)\n",
      "/Users/molguin/workspace/personal/EdgeDroid2/edgedroid/models/timings.py:138: FutureWarning: Series.fillna with 'method' is deprecated and will raise in a future version. Use obj.ffill() or obj.bfill() instead.\n",
      "  df[\"transition\"].fillna(method=\"ffill\").fillna(Transition.NONE.value)\n",
      "/Users/molguin/workspace/personal/EdgeDroid2/edgedroid/models/timings.py:138: FutureWarning: Series.fillna with 'method' is deprecated and will raise in a future version. Use obj.ffill() or obj.bfill() instead.\n",
      "  df[\"transition\"].fillna(method=\"ffill\").fillna(Transition.NONE.value)\n",
      "/Users/molguin/workspace/personal/EdgeDroid2/edgedroid/models/timings.py:138: FutureWarning: Series.fillna with 'method' is deprecated and will raise in a future version. Use obj.ffill() or obj.bfill() instead.\n",
      "  df[\"transition\"].fillna(method=\"ffill\").fillna(Transition.NONE.value)\n",
      "/Users/molguin/workspace/personal/EdgeDroid2/edgedroid/models/timings.py:138: FutureWarning: Series.fillna with 'method' is deprecated and will raise in a future version. Use obj.ffill() or obj.bfill() instead.\n",
      "  df[\"transition\"].fillna(method=\"ffill\").fillna(Transition.NONE.value)\n",
      "/Users/molguin/workspace/personal/EdgeDroid2/edgedroid/models/timings.py:138: FutureWarning: Series.fillna with 'method' is deprecated and will raise in a future version. Use obj.ffill() or obj.bfill() instead.\n",
      "  df[\"transition\"].fillna(method=\"ffill\").fillna(Transition.NONE.value)\n",
      "/Users/molguin/workspace/personal/EdgeDroid2/edgedroid/models/timings.py:138: FutureWarning: Series.fillna with 'method' is deprecated and will raise in a future version. Use obj.ffill() or obj.bfill() instead.\n",
      "  df[\"transition\"].fillna(method=\"ffill\").fillna(Transition.NONE.value)\n",
      "/Users/molguin/workspace/personal/EdgeDroid2/edgedroid/models/timings.py:138: FutureWarning: Series.fillna with 'method' is deprecated and will raise in a future version. Use obj.ffill() or obj.bfill() instead.\n",
      "  df[\"transition\"].fillna(method=\"ffill\").fillna(Transition.NONE.value)\n",
      "/Users/molguin/workspace/personal/EdgeDroid2/edgedroid/models/timings.py:138: FutureWarning: Series.fillna with 'method' is deprecated and will raise in a future version. Use obj.ffill() or obj.bfill() instead.\n",
      "  df[\"transition\"].fillna(method=\"ffill\").fillna(Transition.NONE.value)\n",
      "/Users/molguin/workspace/personal/EdgeDroid2/edgedroid/models/timings.py:138: FutureWarning: Series.fillna with 'method' is deprecated and will raise in a future version. Use obj.ffill() or obj.bfill() instead.\n",
      "  df[\"transition\"].fillna(method=\"ffill\").fillna(Transition.NONE.value)\n",
      "/Users/molguin/workspace/personal/EdgeDroid2/edgedroid/models/timings.py:138: FutureWarning: Series.fillna with 'method' is deprecated and will raise in a future version. Use obj.ffill() or obj.bfill() instead.\n",
      "  df[\"transition\"].fillna(method=\"ffill\").fillna(Transition.NONE.value)\n"
     ]
    },
    {
     "data": {
      "text/plain": "      run_id       ttf  next_exec_time  neuroticism  neuroticism_raw  \\\n0     134146  0.000000        3.654797  [-inf, 0.5)            0.375   \n1     134146  0.597441        4.438645  [-inf, 0.5)            0.375   \n2     134146  0.553513        2.943222  [-inf, 0.5)            0.375   \n3     134146  0.561716        5.405761  [-inf, 0.5)            0.375   \n4     134146  0.586512        5.225161  [-inf, 0.5)            0.375   \n...      ...       ...             ...          ...              ...   \n6755  137353  0.577341        6.439071   [0.5, inf)            0.625   \n6756  137353  0.557074        4.680858   [0.5, inf)            0.625   \n6757  137353  0.534339        3.467878   [0.5, inf)            0.625   \n6758  137353  0.560288        2.325759   [0.5, inf)            0.625   \n6759  137353  0.579000        4.615283   [0.5, inf)            0.625   \n\n                      impairment     duration    transition  duration_raw  \n0     [-inf, 1.4817823276676907)   [0.0, 5.0)  NoTransition             1  \n1     [-inf, 1.4817823276676907)   [0.0, 5.0)  NoTransition             2  \n2     [-inf, 1.4817823276676907)   [0.0, 5.0)  NoTransition             3  \n3     [-inf, 1.4817823276676907)   [0.0, 5.0)  NoTransition             4  \n4     [-inf, 1.4817823276676907)  [5.0, 10.0)  NoTransition             5  \n...                          ...          ...           ...           ...  \n6755  [-inf, 1.4817823276676907)  [5.0, 10.0)  Higher2Lower             6  \n6756  [-inf, 1.4817823276676907)  [5.0, 10.0)  Higher2Lower             7  \n6757  [-inf, 1.4817823276676907)  [5.0, 10.0)  Higher2Lower             8  \n6758  [-inf, 1.4817823276676907)  [5.0, 10.0)  Higher2Lower             9  \n6759  [-inf, 1.4817823276676907)  [10.0, inf)  Higher2Lower            10  \n\n[6760 rows x 9 columns]",
      "text/html": "<div>\n<style scoped>\n    .dataframe tbody tr th:only-of-type {\n        vertical-align: middle;\n    }\n\n    .dataframe tbody tr th {\n        vertical-align: top;\n    }\n\n    .dataframe thead th {\n        text-align: right;\n    }\n</style>\n<table border=\"1\" class=\"dataframe\">\n  <thead>\n    <tr style=\"text-align: right;\">\n      <th></th>\n      <th>run_id</th>\n      <th>ttf</th>\n      <th>next_exec_time</th>\n      <th>neuroticism</th>\n      <th>neuroticism_raw</th>\n      <th>impairment</th>\n      <th>duration</th>\n      <th>transition</th>\n      <th>duration_raw</th>\n    </tr>\n  </thead>\n  <tbody>\n    <tr>\n      <th>0</th>\n      <td>134146</td>\n      <td>0.000000</td>\n      <td>3.654797</td>\n      <td>[-inf, 0.5)</td>\n      <td>0.375</td>\n      <td>[-inf, 1.4817823276676907)</td>\n      <td>[0.0, 5.0)</td>\n      <td>NoTransition</td>\n      <td>1</td>\n    </tr>\n    <tr>\n      <th>1</th>\n      <td>134146</td>\n      <td>0.597441</td>\n      <td>4.438645</td>\n      <td>[-inf, 0.5)</td>\n      <td>0.375</td>\n      <td>[-inf, 1.4817823276676907)</td>\n      <td>[0.0, 5.0)</td>\n      <td>NoTransition</td>\n      <td>2</td>\n    </tr>\n    <tr>\n      <th>2</th>\n      <td>134146</td>\n      <td>0.553513</td>\n      <td>2.943222</td>\n      <td>[-inf, 0.5)</td>\n      <td>0.375</td>\n      <td>[-inf, 1.4817823276676907)</td>\n      <td>[0.0, 5.0)</td>\n      <td>NoTransition</td>\n      <td>3</td>\n    </tr>\n    <tr>\n      <th>3</th>\n      <td>134146</td>\n      <td>0.561716</td>\n      <td>5.405761</td>\n      <td>[-inf, 0.5)</td>\n      <td>0.375</td>\n      <td>[-inf, 1.4817823276676907)</td>\n      <td>[0.0, 5.0)</td>\n      <td>NoTransition</td>\n      <td>4</td>\n    </tr>\n    <tr>\n      <th>4</th>\n      <td>134146</td>\n      <td>0.586512</td>\n      <td>5.225161</td>\n      <td>[-inf, 0.5)</td>\n      <td>0.375</td>\n      <td>[-inf, 1.4817823276676907)</td>\n      <td>[5.0, 10.0)</td>\n      <td>NoTransition</td>\n      <td>5</td>\n    </tr>\n    <tr>\n      <th>...</th>\n      <td>...</td>\n      <td>...</td>\n      <td>...</td>\n      <td>...</td>\n      <td>...</td>\n      <td>...</td>\n      <td>...</td>\n      <td>...</td>\n      <td>...</td>\n    </tr>\n    <tr>\n      <th>6755</th>\n      <td>137353</td>\n      <td>0.577341</td>\n      <td>6.439071</td>\n      <td>[0.5, inf)</td>\n      <td>0.625</td>\n      <td>[-inf, 1.4817823276676907)</td>\n      <td>[5.0, 10.0)</td>\n      <td>Higher2Lower</td>\n      <td>6</td>\n    </tr>\n    <tr>\n      <th>6756</th>\n      <td>137353</td>\n      <td>0.557074</td>\n      <td>4.680858</td>\n      <td>[0.5, inf)</td>\n      <td>0.625</td>\n      <td>[-inf, 1.4817823276676907)</td>\n      <td>[5.0, 10.0)</td>\n      <td>Higher2Lower</td>\n      <td>7</td>\n    </tr>\n    <tr>\n      <th>6757</th>\n      <td>137353</td>\n      <td>0.534339</td>\n      <td>3.467878</td>\n      <td>[0.5, inf)</td>\n      <td>0.625</td>\n      <td>[-inf, 1.4817823276676907)</td>\n      <td>[5.0, 10.0)</td>\n      <td>Higher2Lower</td>\n      <td>8</td>\n    </tr>\n    <tr>\n      <th>6758</th>\n      <td>137353</td>\n      <td>0.560288</td>\n      <td>2.325759</td>\n      <td>[0.5, inf)</td>\n      <td>0.625</td>\n      <td>[-inf, 1.4817823276676907)</td>\n      <td>[5.0, 10.0)</td>\n      <td>Higher2Lower</td>\n      <td>9</td>\n    </tr>\n    <tr>\n      <th>6759</th>\n      <td>137353</td>\n      <td>0.579000</td>\n      <td>4.615283</td>\n      <td>[0.5, inf)</td>\n      <td>0.625</td>\n      <td>[-inf, 1.4817823276676907)</td>\n      <td>[10.0, inf)</td>\n      <td>Higher2Lower</td>\n      <td>10</td>\n    </tr>\n  </tbody>\n</table>\n<p>6760 rows × 9 columns</p>\n</div>"
     },
     "execution_count": 2,
     "metadata": {},
     "output_type": "execute_result"
    }
   ],
   "source": [
    "data = preprocess_data(exec_time_data, neuroticism_data, imp_data, dur_data)\n",
    "data"
   ],
   "metadata": {
    "collapsed": false,
    "ExecuteTime": {
     "end_time": "2023-10-09T04:26:05.546794Z",
     "start_time": "2023-10-09T04:26:05.407173Z"
    }
   },
   "id": "8dea243f543f99a3"
  },
  {
   "cell_type": "markdown",
   "source": [
    "# Validation\n",
    "\n",
    "For each `run_id`, we\n",
    "1. Build a model excluding the data associated to that `run_id`.\n",
    "2. Execute X runs of the model following the sequence of TTFs in the excluded run.\n",
    "3. Collect the TTFs generated per step by the model.\n",
    "4. Calculate error w.r.t. excluded `run_id`.\n"
   ],
   "metadata": {
    "collapsed": false
   },
   "id": "e095cd966f535e23"
  },
  {
   "cell_type": "code",
   "execution_count": 3,
   "outputs": [
    {
     "data": {
      "text/plain": "            real  prediction      model\n0       3.654797    3.207323  realistic\n1       3.654797    4.604927  1st order\n2       4.438645    3.129014  realistic\n3       4.438645    6.853581  1st order\n4       2.943222    4.429755  realistic\n...          ...         ...        ...\n405595  3.467878    4.515085  1st order\n405596  2.325759    2.491084  realistic\n405597  2.325759    5.068921  1st order\n405598  4.615283    6.550875  realistic\n405599  4.615283    7.006433  1st order\n\n[405600 rows x 3 columns]",
      "text/html": "<div>\n<style scoped>\n    .dataframe tbody tr th:only-of-type {\n        vertical-align: middle;\n    }\n\n    .dataframe tbody tr th {\n        vertical-align: top;\n    }\n\n    .dataframe thead th {\n        text-align: right;\n    }\n</style>\n<table border=\"1\" class=\"dataframe\">\n  <thead>\n    <tr style=\"text-align: right;\">\n      <th></th>\n      <th>real</th>\n      <th>prediction</th>\n      <th>model</th>\n    </tr>\n  </thead>\n  <tbody>\n    <tr>\n      <th>0</th>\n      <td>3.654797</td>\n      <td>3.207323</td>\n      <td>realistic</td>\n    </tr>\n    <tr>\n      <th>1</th>\n      <td>3.654797</td>\n      <td>4.604927</td>\n      <td>1st order</td>\n    </tr>\n    <tr>\n      <th>2</th>\n      <td>4.438645</td>\n      <td>3.129014</td>\n      <td>realistic</td>\n    </tr>\n    <tr>\n      <th>3</th>\n      <td>4.438645</td>\n      <td>6.853581</td>\n      <td>1st order</td>\n    </tr>\n    <tr>\n      <th>4</th>\n      <td>2.943222</td>\n      <td>4.429755</td>\n      <td>realistic</td>\n    </tr>\n    <tr>\n      <th>...</th>\n      <td>...</td>\n      <td>...</td>\n      <td>...</td>\n    </tr>\n    <tr>\n      <th>405595</th>\n      <td>3.467878</td>\n      <td>4.515085</td>\n      <td>1st order</td>\n    </tr>\n    <tr>\n      <th>405596</th>\n      <td>2.325759</td>\n      <td>2.491084</td>\n      <td>realistic</td>\n    </tr>\n    <tr>\n      <th>405597</th>\n      <td>2.325759</td>\n      <td>5.068921</td>\n      <td>1st order</td>\n    </tr>\n    <tr>\n      <th>405598</th>\n      <td>4.615283</td>\n      <td>6.550875</td>\n      <td>realistic</td>\n    </tr>\n    <tr>\n      <th>405599</th>\n      <td>4.615283</td>\n      <td>7.006433</td>\n      <td>1st order</td>\n    </tr>\n  </tbody>\n</table>\n<p>405600 rows × 3 columns</p>\n</div>"
     },
     "execution_count": 3,
     "metadata": {},
     "output_type": "execute_result"
    }
   ],
   "source": [
    "from collections import deque\n",
    "import pandas as pd\n",
    "from typing import Tuple\n",
    "\n",
    "result_rows = deque()\n",
    "\n",
    "for run_id in data[\"run_id\"].unique():\n",
    "    test_data = data[data[\"run_id\"] == run_id].copy()\n",
    "    \n",
    "    def get_test_data(*args, **kwargs) -> Tuple[pd.DataFrame, pd.arrays.IntervalArray, pd.arrays.IntervalArray, pd.arrays.IntervalArray]:\n",
    "        etime_data = exec_time_data[exec_time_data[\"run_id\"] != run_id].copy()\n",
    "        return etime_data, neuroticism_data, imp_data, dur_data\n",
    "    \n",
    "    class EmpiricalTestModel(EmpiricalETM):\n",
    "        get_data = get_test_data\n",
    "        \n",
    "    class NaiveTestModel(FirstOrderETM):\n",
    "        get_data = get_test_data\n",
    "    \n",
    "    neuroticism = test_data[\"neuroticism_raw\"].unique()[0]\n",
    "    empirical_model = EmpiricalTestModel(neuroticism=neuroticism)\n",
    "    naive_model = NaiveTestModel()\n",
    "    \n",
    "    for _ in range(30):\n",
    "        for i, (prev_ttf, exec_time) in enumerate(test_data[[\"ttf\", \"next_exec_time\"]].itertuples(index=False)):\n",
    "            if i != 0:\n",
    "                # first row has no previous ttf\n",
    "                empirical_model.advance(prev_ttf)\n",
    "                naive_model.advance(prev_ttf)\n",
    "                \n",
    "            predicted_realistic_exec_time = empirical_model.get_execution_time()\n",
    "            predicted_naive_exec_time = naive_model.get_execution_time()\n",
    "            result_rows.append({\n",
    "                \"real\": exec_time, \n",
    "                \"prediction\": predicted_realistic_exec_time, \n",
    "                \"model\": \"realistic\"\n",
    "            })\n",
    "            result_rows.append({\n",
    "                \"real\": exec_time,\n",
    "                \"prediction\": predicted_naive_exec_time,\n",
    "                \"model\": \"1st order\"\n",
    "            })\n",
    "            \n",
    "results = pd.DataFrame(result_rows)\n",
    "results"
   ],
   "metadata": {
    "collapsed": false,
    "ExecuteTime": {
     "end_time": "2023-10-09T04:26:16.439472Z",
     "start_time": "2023-10-09T04:26:09.572714Z"
    }
   },
   "id": "ecf087a8fe4dbc27"
  },
  {
   "cell_type": "code",
   "execution_count": 4,
   "outputs": [
    {
     "data": {
      "text/plain": "            real  prediction      model     error  sqr_error\n0       3.654797    3.207323  realistic -0.447474   0.200233\n1       3.654797    4.604927  1st order  0.950130   0.902746\n2       4.438645    3.129014  realistic -1.309630   1.715132\n3       4.438645    6.853581  1st order  2.414936   5.831916\n4       2.943222    4.429755  realistic  1.486533   2.209780\n...          ...         ...        ...       ...        ...\n405595  3.467878    4.515085  1st order  1.047206   1.096641\n405596  2.325759    2.491084  realistic  0.165325   0.027332\n405597  2.325759    5.068921  1st order  2.743162   7.524937\n405598  4.615283    6.550875  realistic  1.935592   3.746516\n405599  4.615283    7.006433  1st order  2.391150   5.717597\n\n[405600 rows x 5 columns]",
      "text/html": "<div>\n<style scoped>\n    .dataframe tbody tr th:only-of-type {\n        vertical-align: middle;\n    }\n\n    .dataframe tbody tr th {\n        vertical-align: top;\n    }\n\n    .dataframe thead th {\n        text-align: right;\n    }\n</style>\n<table border=\"1\" class=\"dataframe\">\n  <thead>\n    <tr style=\"text-align: right;\">\n      <th></th>\n      <th>real</th>\n      <th>prediction</th>\n      <th>model</th>\n      <th>error</th>\n      <th>sqr_error</th>\n    </tr>\n  </thead>\n  <tbody>\n    <tr>\n      <th>0</th>\n      <td>3.654797</td>\n      <td>3.207323</td>\n      <td>realistic</td>\n      <td>-0.447474</td>\n      <td>0.200233</td>\n    </tr>\n    <tr>\n      <th>1</th>\n      <td>3.654797</td>\n      <td>4.604927</td>\n      <td>1st order</td>\n      <td>0.950130</td>\n      <td>0.902746</td>\n    </tr>\n    <tr>\n      <th>2</th>\n      <td>4.438645</td>\n      <td>3.129014</td>\n      <td>realistic</td>\n      <td>-1.309630</td>\n      <td>1.715132</td>\n    </tr>\n    <tr>\n      <th>3</th>\n      <td>4.438645</td>\n      <td>6.853581</td>\n      <td>1st order</td>\n      <td>2.414936</td>\n      <td>5.831916</td>\n    </tr>\n    <tr>\n      <th>4</th>\n      <td>2.943222</td>\n      <td>4.429755</td>\n      <td>realistic</td>\n      <td>1.486533</td>\n      <td>2.209780</td>\n    </tr>\n    <tr>\n      <th>...</th>\n      <td>...</td>\n      <td>...</td>\n      <td>...</td>\n      <td>...</td>\n      <td>...</td>\n    </tr>\n    <tr>\n      <th>405595</th>\n      <td>3.467878</td>\n      <td>4.515085</td>\n      <td>1st order</td>\n      <td>1.047206</td>\n      <td>1.096641</td>\n    </tr>\n    <tr>\n      <th>405596</th>\n      <td>2.325759</td>\n      <td>2.491084</td>\n      <td>realistic</td>\n      <td>0.165325</td>\n      <td>0.027332</td>\n    </tr>\n    <tr>\n      <th>405597</th>\n      <td>2.325759</td>\n      <td>5.068921</td>\n      <td>1st order</td>\n      <td>2.743162</td>\n      <td>7.524937</td>\n    </tr>\n    <tr>\n      <th>405598</th>\n      <td>4.615283</td>\n      <td>6.550875</td>\n      <td>realistic</td>\n      <td>1.935592</td>\n      <td>3.746516</td>\n    </tr>\n    <tr>\n      <th>405599</th>\n      <td>4.615283</td>\n      <td>7.006433</td>\n      <td>1st order</td>\n      <td>2.391150</td>\n      <td>5.717597</td>\n    </tr>\n  </tbody>\n</table>\n<p>405600 rows × 5 columns</p>\n</div>"
     },
     "execution_count": 4,
     "metadata": {},
     "output_type": "execute_result"
    }
   ],
   "source": [
    "import numpy as np\n",
    "\n",
    "results[\"error\"] = results[\"prediction\"] - results[\"real\"]\n",
    "results[\"sqr_error\"] = np.square(results[\"error\"])\n",
    "\n",
    "results"
   ],
   "metadata": {
    "collapsed": false,
    "ExecuteTime": {
     "end_time": "2023-10-09T04:33:40.838616Z",
     "start_time": "2023-10-09T04:33:40.774879Z"
    }
   },
   "id": "53bb847f19fad501"
  },
  {
   "cell_type": "code",
   "execution_count": 5,
   "outputs": [
    {
     "data": {
      "text/plain": "model               1st order     realistic\nerror     count  2.028000e+05  2.028000e+05\n          mean  -1.047071e-02  1.690105e-02\n          std    4.487192e+00  4.505640e+00\n          min   -5.353806e+01 -5.348104e+01\n          25%   -2.190984e+00 -2.151808e+00\n          50%   -7.356693e-03  1.425663e-02\n          75%    2.176100e+00  2.171553e+00\n          max    5.461729e+01  5.457249e+01\nsqr_error count  2.028000e+05  2.028000e+05\n          mean   2.013490e+01  2.030098e+01\n          std    8.139330e+01  8.320450e+01\n          min    2.553010e-09  2.312258e-09\n          25%    1.024312e+00  9.914760e-01\n          50%    4.770675e+00  4.673371e+00\n          75%    1.546624e+01  1.534314e+01\n          max    2.983049e+03  2.978156e+03",
      "text/html": "<div>\n<style scoped>\n    .dataframe tbody tr th:only-of-type {\n        vertical-align: middle;\n    }\n\n    .dataframe tbody tr th {\n        vertical-align: top;\n    }\n\n    .dataframe thead th {\n        text-align: right;\n    }\n</style>\n<table border=\"1\" class=\"dataframe\">\n  <thead>\n    <tr style=\"text-align: right;\">\n      <th></th>\n      <th>model</th>\n      <th>1st order</th>\n      <th>realistic</th>\n    </tr>\n  </thead>\n  <tbody>\n    <tr>\n      <th rowspan=\"8\" valign=\"top\">error</th>\n      <th>count</th>\n      <td>2.028000e+05</td>\n      <td>2.028000e+05</td>\n    </tr>\n    <tr>\n      <th>mean</th>\n      <td>-1.047071e-02</td>\n      <td>1.690105e-02</td>\n    </tr>\n    <tr>\n      <th>std</th>\n      <td>4.487192e+00</td>\n      <td>4.505640e+00</td>\n    </tr>\n    <tr>\n      <th>min</th>\n      <td>-5.353806e+01</td>\n      <td>-5.348104e+01</td>\n    </tr>\n    <tr>\n      <th>25%</th>\n      <td>-2.190984e+00</td>\n      <td>-2.151808e+00</td>\n    </tr>\n    <tr>\n      <th>50%</th>\n      <td>-7.356693e-03</td>\n      <td>1.425663e-02</td>\n    </tr>\n    <tr>\n      <th>75%</th>\n      <td>2.176100e+00</td>\n      <td>2.171553e+00</td>\n    </tr>\n    <tr>\n      <th>max</th>\n      <td>5.461729e+01</td>\n      <td>5.457249e+01</td>\n    </tr>\n    <tr>\n      <th rowspan=\"8\" valign=\"top\">sqr_error</th>\n      <th>count</th>\n      <td>2.028000e+05</td>\n      <td>2.028000e+05</td>\n    </tr>\n    <tr>\n      <th>mean</th>\n      <td>2.013490e+01</td>\n      <td>2.030098e+01</td>\n    </tr>\n    <tr>\n      <th>std</th>\n      <td>8.139330e+01</td>\n      <td>8.320450e+01</td>\n    </tr>\n    <tr>\n      <th>min</th>\n      <td>2.553010e-09</td>\n      <td>2.312258e-09</td>\n    </tr>\n    <tr>\n      <th>25%</th>\n      <td>1.024312e+00</td>\n      <td>9.914760e-01</td>\n    </tr>\n    <tr>\n      <th>50%</th>\n      <td>4.770675e+00</td>\n      <td>4.673371e+00</td>\n    </tr>\n    <tr>\n      <th>75%</th>\n      <td>1.546624e+01</td>\n      <td>1.534314e+01</td>\n    </tr>\n    <tr>\n      <th>max</th>\n      <td>2.983049e+03</td>\n      <td>2.978156e+03</td>\n    </tr>\n  </tbody>\n</table>\n</div>"
     },
     "execution_count": 5,
     "metadata": {},
     "output_type": "execute_result"
    }
   ],
   "source": [
    "results.groupby(\"model\").describe().drop(columns=[\"real\", \"prediction\"]).T"
   ],
   "metadata": {
    "collapsed": false,
    "ExecuteTime": {
     "end_time": "2023-10-09T04:33:52.586447Z",
     "start_time": "2023-10-09T04:33:52.486839Z"
    }
   },
   "id": "e1bd163c5931958d"
  },
  {
   "cell_type": "code",
   "execution_count": 6,
   "outputs": [
    {
     "data": {
      "text/plain": "<Figure size 640x480 with 1 Axes>",
      "image/png": "[encoded data removed]"
     },
     "metadata": {},
     "output_type": "display_data"
    }
   ],
   "source": [
    "# %matplotlib inline\n",
    "import matplotlib as mpl\n",
    "import matplotlib.pyplot as plt\n",
    "import seaborn as sns\n",
    "\n",
    "ax = sns.histplot(data=results, x=\"sqr_error\", hue=\"model\", stat=\"density\", log_scale=True, cumulative=True)\n",
    "ax.set_title(\"CDF of Model Error\")\n",
    "ax.set_xlabel(\"Error (% w.r.t. test value)\")\n",
    "plt.show()"
   ],
   "metadata": {
    "collapsed": false,
    "ExecuteTime": {
     "end_time": "2023-10-09T04:34:30.613907Z",
     "start_time": "2023-10-09T04:34:29.492346Z"
    }
   },
   "id": "c8d0bfb17ba34881"
  },
  {
   "cell_type": "code",
   "execution_count": 6,
   "outputs": [],
   "source": [],
   "metadata": {
    "collapsed": false,
    "ExecuteTime": {
     "end_time": "2023-09-09T23:43:30.711917Z",
     "start_time": "2023-09-09T23:43:30.708018Z"
    }
   },
   "id": "ad7c5f89af2c77cd"
  }
 ],
 "metadata": {
  "kernelspec": {
   "display_name": "Python 3",
   "language": "python",
   "name": "python3"
  },
  "language_info": {
   "codemirror_mode": {
    "name": "ipython",
    "version": 2
   },
   "file_extension": ".py",
   "mimetype": "text/x-python",
   "name": "python",
   "nbconvert_exporter": "python",
   "pygments_lexer": "ipython2",
   "version": "2.7.6"
  }
 },
 "nbformat": 4,
 "nbformat_minor": 5
}
