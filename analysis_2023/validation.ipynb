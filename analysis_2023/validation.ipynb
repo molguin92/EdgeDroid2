{
 "cells": [
  {
   "cell_type": "code",
   "execution_count": 19,
   "id": "initial_id",
   "metadata": {
    "collapsed": true,
    "ExecuteTime": {
     "end_time": "2023-09-10T16:23:22.487440Z",
     "start_time": "2023-09-10T16:23:22.473168Z"
    }
   },
   "outputs": [
    {
     "data": {
      "text/plain": "      run_id       ttf  exec_time  neuroticism\n0     134146  0.597441   3.654797        0.375\n1     134146  0.553513   4.438645        0.375\n2     134146  0.561716   2.943222        0.375\n3     134146  0.586512   5.405761        0.375\n4     134146  0.558940   5.225161        0.375\n...      ...       ...        ...          ...\n6755  137353  0.557074   6.439071        0.625\n6756  137353  0.534339   4.680858        0.625\n6757  137353  0.560288   3.467878        0.625\n6758  137353  0.579000   2.325759        0.625\n6759  137353  0.536671   4.615283        0.625\n\n[6760 rows x 4 columns]",
      "text/html": "<div>\n<style scoped>\n    .dataframe tbody tr th:only-of-type {\n        vertical-align: middle;\n    }\n\n    .dataframe tbody tr th {\n        vertical-align: top;\n    }\n\n    .dataframe thead th {\n        text-align: right;\n    }\n</style>\n<table border=\"1\" class=\"dataframe\">\n  <thead>\n    <tr style=\"text-align: right;\">\n      <th></th>\n      <th>run_id</th>\n      <th>ttf</th>\n      <th>exec_time</th>\n      <th>neuroticism</th>\n    </tr>\n  </thead>\n  <tbody>\n    <tr>\n      <th>0</th>\n      <td>134146</td>\n      <td>0.597441</td>\n      <td>3.654797</td>\n      <td>0.375</td>\n    </tr>\n    <tr>\n      <th>1</th>\n      <td>134146</td>\n      <td>0.553513</td>\n      <td>4.438645</td>\n      <td>0.375</td>\n    </tr>\n    <tr>\n      <th>2</th>\n      <td>134146</td>\n      <td>0.561716</td>\n      <td>2.943222</td>\n      <td>0.375</td>\n    </tr>\n    <tr>\n      <th>3</th>\n      <td>134146</td>\n      <td>0.586512</td>\n      <td>5.405761</td>\n      <td>0.375</td>\n    </tr>\n    <tr>\n      <th>4</th>\n      <td>134146</td>\n      <td>0.558940</td>\n      <td>5.225161</td>\n      <td>0.375</td>\n    </tr>\n    <tr>\n      <th>...</th>\n      <td>...</td>\n      <td>...</td>\n      <td>...</td>\n      <td>...</td>\n    </tr>\n    <tr>\n      <th>6755</th>\n      <td>137353</td>\n      <td>0.557074</td>\n      <td>6.439071</td>\n      <td>0.625</td>\n    </tr>\n    <tr>\n      <th>6756</th>\n      <td>137353</td>\n      <td>0.534339</td>\n      <td>4.680858</td>\n      <td>0.625</td>\n    </tr>\n    <tr>\n      <th>6757</th>\n      <td>137353</td>\n      <td>0.560288</td>\n      <td>3.467878</td>\n      <td>0.625</td>\n    </tr>\n    <tr>\n      <th>6758</th>\n      <td>137353</td>\n      <td>0.579000</td>\n      <td>2.325759</td>\n      <td>0.625</td>\n    </tr>\n    <tr>\n      <th>6759</th>\n      <td>137353</td>\n      <td>0.536671</td>\n      <td>4.615283</td>\n      <td>0.625</td>\n    </tr>\n  </tbody>\n</table>\n<p>6760 rows × 4 columns</p>\n</div>"
     },
     "execution_count": 19,
     "metadata": {},
     "output_type": "execute_result"
    }
   ],
   "source": [
    "import numpy as np\n",
    "\n",
    "from edgedroid.models.timings import *\n",
    "import edgedroid.data as default_data\n",
    "\n",
    "exec_time_data, neuroticism_data, imp_data, dur_data = default_data.load_default_exec_time_data()\n",
    "exec_time_data"
   ]
  },
  {
   "cell_type": "code",
   "execution_count": 20,
   "outputs": [
    {
     "name": "stderr",
     "output_type": "stream",
     "text": [
      "/Users/molguin/workspace/EXPECA/EdgeDroid2/edgedroid/models/timings.py:138: FutureWarning: Series.fillna with 'method' is deprecated and will raise in a future version. Use obj.ffill() or obj.bfill() instead.\n",
      "  df[\"transition\"].fillna(method=\"ffill\").fillna(Transition.NONE.value)\n",
      "/Users/molguin/workspace/EXPECA/EdgeDroid2/edgedroid/models/timings.py:138: FutureWarning: Series.fillna with 'method' is deprecated and will raise in a future version. Use obj.ffill() or obj.bfill() instead.\n",
      "  df[\"transition\"].fillna(method=\"ffill\").fillna(Transition.NONE.value)\n",
      "/Users/molguin/workspace/EXPECA/EdgeDroid2/edgedroid/models/timings.py:138: FutureWarning: Series.fillna with 'method' is deprecated and will raise in a future version. Use obj.ffill() or obj.bfill() instead.\n",
      "  df[\"transition\"].fillna(method=\"ffill\").fillna(Transition.NONE.value)\n",
      "/Users/molguin/workspace/EXPECA/EdgeDroid2/edgedroid/models/timings.py:138: FutureWarning: Series.fillna with 'method' is deprecated and will raise in a future version. Use obj.ffill() or obj.bfill() instead.\n",
      "  df[\"transition\"].fillna(method=\"ffill\").fillna(Transition.NONE.value)\n",
      "/Users/molguin/workspace/EXPECA/EdgeDroid2/edgedroid/models/timings.py:138: FutureWarning: Series.fillna with 'method' is deprecated and will raise in a future version. Use obj.ffill() or obj.bfill() instead.\n",
      "  df[\"transition\"].fillna(method=\"ffill\").fillna(Transition.NONE.value)\n",
      "/Users/molguin/workspace/EXPECA/EdgeDroid2/edgedroid/models/timings.py:138: FutureWarning: Series.fillna with 'method' is deprecated and will raise in a future version. Use obj.ffill() or obj.bfill() instead.\n",
      "  df[\"transition\"].fillna(method=\"ffill\").fillna(Transition.NONE.value)\n",
      "/Users/molguin/workspace/EXPECA/EdgeDroid2/edgedroid/models/timings.py:138: FutureWarning: Series.fillna with 'method' is deprecated and will raise in a future version. Use obj.ffill() or obj.bfill() instead.\n",
      "  df[\"transition\"].fillna(method=\"ffill\").fillna(Transition.NONE.value)\n",
      "/Users/molguin/workspace/EXPECA/EdgeDroid2/edgedroid/models/timings.py:138: FutureWarning: Series.fillna with 'method' is deprecated and will raise in a future version. Use obj.ffill() or obj.bfill() instead.\n",
      "  df[\"transition\"].fillna(method=\"ffill\").fillna(Transition.NONE.value)\n",
      "/Users/molguin/workspace/EXPECA/EdgeDroid2/edgedroid/models/timings.py:138: FutureWarning: Series.fillna with 'method' is deprecated and will raise in a future version. Use obj.ffill() or obj.bfill() instead.\n",
      "  df[\"transition\"].fillna(method=\"ffill\").fillna(Transition.NONE.value)\n",
      "/Users/molguin/workspace/EXPECA/EdgeDroid2/edgedroid/models/timings.py:138: FutureWarning: Series.fillna with 'method' is deprecated and will raise in a future version. Use obj.ffill() or obj.bfill() instead.\n",
      "  df[\"transition\"].fillna(method=\"ffill\").fillna(Transition.NONE.value)\n",
      "/Users/molguin/workspace/EXPECA/EdgeDroid2/edgedroid/models/timings.py:138: FutureWarning: Series.fillna with 'method' is deprecated and will raise in a future version. Use obj.ffill() or obj.bfill() instead.\n",
      "  df[\"transition\"].fillna(method=\"ffill\").fillna(Transition.NONE.value)\n",
      "/Users/molguin/workspace/EXPECA/EdgeDroid2/edgedroid/models/timings.py:138: FutureWarning: Series.fillna with 'method' is deprecated and will raise in a future version. Use obj.ffill() or obj.bfill() instead.\n",
      "  df[\"transition\"].fillna(method=\"ffill\").fillna(Transition.NONE.value)\n",
      "/Users/molguin/workspace/EXPECA/EdgeDroid2/edgedroid/models/timings.py:138: FutureWarning: Series.fillna with 'method' is deprecated and will raise in a future version. Use obj.ffill() or obj.bfill() instead.\n",
      "  df[\"transition\"].fillna(method=\"ffill\").fillna(Transition.NONE.value)\n",
      "/Users/molguin/workspace/EXPECA/EdgeDroid2/edgedroid/models/timings.py:138: FutureWarning: Series.fillna with 'method' is deprecated and will raise in a future version. Use obj.ffill() or obj.bfill() instead.\n",
      "  df[\"transition\"].fillna(method=\"ffill\").fillna(Transition.NONE.value)\n",
      "/Users/molguin/workspace/EXPECA/EdgeDroid2/edgedroid/models/timings.py:138: FutureWarning: Series.fillna with 'method' is deprecated and will raise in a future version. Use obj.ffill() or obj.bfill() instead.\n",
      "  df[\"transition\"].fillna(method=\"ffill\").fillna(Transition.NONE.value)\n",
      "/Users/molguin/workspace/EXPECA/EdgeDroid2/edgedroid/models/timings.py:138: FutureWarning: Series.fillna with 'method' is deprecated and will raise in a future version. Use obj.ffill() or obj.bfill() instead.\n",
      "  df[\"transition\"].fillna(method=\"ffill\").fillna(Transition.NONE.value)\n",
      "/Users/molguin/workspace/EXPECA/EdgeDroid2/edgedroid/models/timings.py:138: FutureWarning: Series.fillna with 'method' is deprecated and will raise in a future version. Use obj.ffill() or obj.bfill() instead.\n",
      "  df[\"transition\"].fillna(method=\"ffill\").fillna(Transition.NONE.value)\n",
      "/Users/molguin/workspace/EXPECA/EdgeDroid2/edgedroid/models/timings.py:138: FutureWarning: Series.fillna with 'method' is deprecated and will raise in a future version. Use obj.ffill() or obj.bfill() instead.\n",
      "  df[\"transition\"].fillna(method=\"ffill\").fillna(Transition.NONE.value)\n",
      "/Users/molguin/workspace/EXPECA/EdgeDroid2/edgedroid/models/timings.py:138: FutureWarning: Series.fillna with 'method' is deprecated and will raise in a future version. Use obj.ffill() or obj.bfill() instead.\n",
      "  df[\"transition\"].fillna(method=\"ffill\").fillna(Transition.NONE.value)\n",
      "/Users/molguin/workspace/EXPECA/EdgeDroid2/edgedroid/models/timings.py:138: FutureWarning: Series.fillna with 'method' is deprecated and will raise in a future version. Use obj.ffill() or obj.bfill() instead.\n",
      "  df[\"transition\"].fillna(method=\"ffill\").fillna(Transition.NONE.value)\n",
      "/Users/molguin/workspace/EXPECA/EdgeDroid2/edgedroid/models/timings.py:138: FutureWarning: Series.fillna with 'method' is deprecated and will raise in a future version. Use obj.ffill() or obj.bfill() instead.\n",
      "  df[\"transition\"].fillna(method=\"ffill\").fillna(Transition.NONE.value)\n",
      "/Users/molguin/workspace/EXPECA/EdgeDroid2/edgedroid/models/timings.py:138: FutureWarning: Series.fillna with 'method' is deprecated and will raise in a future version. Use obj.ffill() or obj.bfill() instead.\n",
      "  df[\"transition\"].fillna(method=\"ffill\").fillna(Transition.NONE.value)\n",
      "/Users/molguin/workspace/EXPECA/EdgeDroid2/edgedroid/models/timings.py:138: FutureWarning: Series.fillna with 'method' is deprecated and will raise in a future version. Use obj.ffill() or obj.bfill() instead.\n",
      "  df[\"transition\"].fillna(method=\"ffill\").fillna(Transition.NONE.value)\n",
      "/Users/molguin/workspace/EXPECA/EdgeDroid2/edgedroid/models/timings.py:138: FutureWarning: Series.fillna with 'method' is deprecated and will raise in a future version. Use obj.ffill() or obj.bfill() instead.\n",
      "  df[\"transition\"].fillna(method=\"ffill\").fillna(Transition.NONE.value)\n",
      "/Users/molguin/workspace/EXPECA/EdgeDroid2/edgedroid/models/timings.py:138: FutureWarning: Series.fillna with 'method' is deprecated and will raise in a future version. Use obj.ffill() or obj.bfill() instead.\n",
      "  df[\"transition\"].fillna(method=\"ffill\").fillna(Transition.NONE.value)\n",
      "/Users/molguin/workspace/EXPECA/EdgeDroid2/edgedroid/models/timings.py:138: FutureWarning: Series.fillna with 'method' is deprecated and will raise in a future version. Use obj.ffill() or obj.bfill() instead.\n",
      "  df[\"transition\"].fillna(method=\"ffill\").fillna(Transition.NONE.value)\n",
      "/Users/molguin/workspace/EXPECA/EdgeDroid2/edgedroid/models/timings.py:138: FutureWarning: Series.fillna with 'method' is deprecated and will raise in a future version. Use obj.ffill() or obj.bfill() instead.\n",
      "  df[\"transition\"].fillna(method=\"ffill\").fillna(Transition.NONE.value)\n",
      "/Users/molguin/workspace/EXPECA/EdgeDroid2/edgedroid/models/timings.py:138: FutureWarning: Series.fillna with 'method' is deprecated and will raise in a future version. Use obj.ffill() or obj.bfill() instead.\n",
      "  df[\"transition\"].fillna(method=\"ffill\").fillna(Transition.NONE.value)\n",
      "/Users/molguin/workspace/EXPECA/EdgeDroid2/edgedroid/models/timings.py:138: FutureWarning: Series.fillna with 'method' is deprecated and will raise in a future version. Use obj.ffill() or obj.bfill() instead.\n",
      "  df[\"transition\"].fillna(method=\"ffill\").fillna(Transition.NONE.value)\n",
      "/Users/molguin/workspace/EXPECA/EdgeDroid2/edgedroid/models/timings.py:138: FutureWarning: Series.fillna with 'method' is deprecated and will raise in a future version. Use obj.ffill() or obj.bfill() instead.\n",
      "  df[\"transition\"].fillna(method=\"ffill\").fillna(Transition.NONE.value)\n",
      "/Users/molguin/workspace/EXPECA/EdgeDroid2/edgedroid/models/timings.py:138: FutureWarning: Series.fillna with 'method' is deprecated and will raise in a future version. Use obj.ffill() or obj.bfill() instead.\n",
      "  df[\"transition\"].fillna(method=\"ffill\").fillna(Transition.NONE.value)\n",
      "/Users/molguin/workspace/EXPECA/EdgeDroid2/edgedroid/models/timings.py:138: FutureWarning: Series.fillna with 'method' is deprecated and will raise in a future version. Use obj.ffill() or obj.bfill() instead.\n",
      "  df[\"transition\"].fillna(method=\"ffill\").fillna(Transition.NONE.value)\n",
      "/Users/molguin/workspace/EXPECA/EdgeDroid2/edgedroid/models/timings.py:138: FutureWarning: Series.fillna with 'method' is deprecated and will raise in a future version. Use obj.ffill() or obj.bfill() instead.\n",
      "  df[\"transition\"].fillna(method=\"ffill\").fillna(Transition.NONE.value)\n",
      "/Users/molguin/workspace/EXPECA/EdgeDroid2/edgedroid/models/timings.py:138: FutureWarning: Series.fillna with 'method' is deprecated and will raise in a future version. Use obj.ffill() or obj.bfill() instead.\n",
      "  df[\"transition\"].fillna(method=\"ffill\").fillna(Transition.NONE.value)\n",
      "/Users/molguin/workspace/EXPECA/EdgeDroid2/edgedroid/models/timings.py:138: FutureWarning: Series.fillna with 'method' is deprecated and will raise in a future version. Use obj.ffill() or obj.bfill() instead.\n",
      "  df[\"transition\"].fillna(method=\"ffill\").fillna(Transition.NONE.value)\n",
      "/Users/molguin/workspace/EXPECA/EdgeDroid2/edgedroid/models/timings.py:138: FutureWarning: Series.fillna with 'method' is deprecated and will raise in a future version. Use obj.ffill() or obj.bfill() instead.\n",
      "  df[\"transition\"].fillna(method=\"ffill\").fillna(Transition.NONE.value)\n",
      "/Users/molguin/workspace/EXPECA/EdgeDroid2/edgedroid/models/timings.py:138: FutureWarning: Series.fillna with 'method' is deprecated and will raise in a future version. Use obj.ffill() or obj.bfill() instead.\n",
      "  df[\"transition\"].fillna(method=\"ffill\").fillna(Transition.NONE.value)\n",
      "/Users/molguin/workspace/EXPECA/EdgeDroid2/edgedroid/models/timings.py:138: FutureWarning: Series.fillna with 'method' is deprecated and will raise in a future version. Use obj.ffill() or obj.bfill() instead.\n",
      "  df[\"transition\"].fillna(method=\"ffill\").fillna(Transition.NONE.value)\n",
      "/Users/molguin/workspace/EXPECA/EdgeDroid2/edgedroid/models/timings.py:138: FutureWarning: Series.fillna with 'method' is deprecated and will raise in a future version. Use obj.ffill() or obj.bfill() instead.\n",
      "  df[\"transition\"].fillna(method=\"ffill\").fillna(Transition.NONE.value)\n",
      "/Users/molguin/workspace/EXPECA/EdgeDroid2/edgedroid/models/timings.py:138: FutureWarning: Series.fillna with 'method' is deprecated and will raise in a future version. Use obj.ffill() or obj.bfill() instead.\n",
      "  df[\"transition\"].fillna(method=\"ffill\").fillna(Transition.NONE.value)\n"
     ]
    },
    {
     "data": {
      "text/plain": "      run_id       ttf  next_exec_time  neuroticism  neuroticism_raw  \\\n0     134146  0.000000        3.654797  [-inf, 0.5)            0.375   \n1     134146  0.597441        4.438645  [-inf, 0.5)            0.375   \n2     134146  0.553513        2.943222  [-inf, 0.5)            0.375   \n3     134146  0.561716        5.405761  [-inf, 0.5)            0.375   \n4     134146  0.586512        5.225161  [-inf, 0.5)            0.375   \n...      ...       ...             ...          ...              ...   \n6755  137353  0.577341        6.439071   [0.5, inf)            0.625   \n6756  137353  0.557074        4.680858   [0.5, inf)            0.625   \n6757  137353  0.534339        3.467878   [0.5, inf)            0.625   \n6758  137353  0.560288        2.325759   [0.5, inf)            0.625   \n6759  137353  0.579000        4.615283   [0.5, inf)            0.625   \n\n                      impairment     duration    transition  duration_raw  \n0     [-inf, 1.4817823276676907)   [0.0, 5.0)  NoTransition             1  \n1     [-inf, 1.4817823276676907)   [0.0, 5.0)  NoTransition             2  \n2     [-inf, 1.4817823276676907)   [0.0, 5.0)  NoTransition             3  \n3     [-inf, 1.4817823276676907)   [0.0, 5.0)  NoTransition             4  \n4     [-inf, 1.4817823276676907)  [5.0, 10.0)  NoTransition             5  \n...                          ...          ...           ...           ...  \n6755  [-inf, 1.4817823276676907)  [5.0, 10.0)  Higher2Lower             6  \n6756  [-inf, 1.4817823276676907)  [5.0, 10.0)  Higher2Lower             7  \n6757  [-inf, 1.4817823276676907)  [5.0, 10.0)  Higher2Lower             8  \n6758  [-inf, 1.4817823276676907)  [5.0, 10.0)  Higher2Lower             9  \n6759  [-inf, 1.4817823276676907)  [10.0, inf)  Higher2Lower            10  \n\n[6760 rows x 9 columns]",
      "text/html": "<div>\n<style scoped>\n    .dataframe tbody tr th:only-of-type {\n        vertical-align: middle;\n    }\n\n    .dataframe tbody tr th {\n        vertical-align: top;\n    }\n\n    .dataframe thead th {\n        text-align: right;\n    }\n</style>\n<table border=\"1\" class=\"dataframe\">\n  <thead>\n    <tr style=\"text-align: right;\">\n      <th></th>\n      <th>run_id</th>\n      <th>ttf</th>\n      <th>next_exec_time</th>\n      <th>neuroticism</th>\n      <th>neuroticism_raw</th>\n      <th>impairment</th>\n      <th>duration</th>\n      <th>transition</th>\n      <th>duration_raw</th>\n    </tr>\n  </thead>\n  <tbody>\n    <tr>\n      <th>0</th>\n      <td>134146</td>\n      <td>0.000000</td>\n      <td>3.654797</td>\n      <td>[-inf, 0.5)</td>\n      <td>0.375</td>\n      <td>[-inf, 1.4817823276676907)</td>\n      <td>[0.0, 5.0)</td>\n      <td>NoTransition</td>\n      <td>1</td>\n    </tr>\n    <tr>\n      <th>1</th>\n      <td>134146</td>\n      <td>0.597441</td>\n      <td>4.438645</td>\n      <td>[-inf, 0.5)</td>\n      <td>0.375</td>\n      <td>[-inf, 1.4817823276676907)</td>\n      <td>[0.0, 5.0)</td>\n      <td>NoTransition</td>\n      <td>2</td>\n    </tr>\n    <tr>\n      <th>2</th>\n      <td>134146</td>\n      <td>0.553513</td>\n      <td>2.943222</td>\n      <td>[-inf, 0.5)</td>\n      <td>0.375</td>\n      <td>[-inf, 1.4817823276676907)</td>\n      <td>[0.0, 5.0)</td>\n      <td>NoTransition</td>\n      <td>3</td>\n    </tr>\n    <tr>\n      <th>3</th>\n      <td>134146</td>\n      <td>0.561716</td>\n      <td>5.405761</td>\n      <td>[-inf, 0.5)</td>\n      <td>0.375</td>\n      <td>[-inf, 1.4817823276676907)</td>\n      <td>[0.0, 5.0)</td>\n      <td>NoTransition</td>\n      <td>4</td>\n    </tr>\n    <tr>\n      <th>4</th>\n      <td>134146</td>\n      <td>0.586512</td>\n      <td>5.225161</td>\n      <td>[-inf, 0.5)</td>\n      <td>0.375</td>\n      <td>[-inf, 1.4817823276676907)</td>\n      <td>[5.0, 10.0)</td>\n      <td>NoTransition</td>\n      <td>5</td>\n    </tr>\n    <tr>\n      <th>...</th>\n      <td>...</td>\n      <td>...</td>\n      <td>...</td>\n      <td>...</td>\n      <td>...</td>\n      <td>...</td>\n      <td>...</td>\n      <td>...</td>\n      <td>...</td>\n    </tr>\n    <tr>\n      <th>6755</th>\n      <td>137353</td>\n      <td>0.577341</td>\n      <td>6.439071</td>\n      <td>[0.5, inf)</td>\n      <td>0.625</td>\n      <td>[-inf, 1.4817823276676907)</td>\n      <td>[5.0, 10.0)</td>\n      <td>Higher2Lower</td>\n      <td>6</td>\n    </tr>\n    <tr>\n      <th>6756</th>\n      <td>137353</td>\n      <td>0.557074</td>\n      <td>4.680858</td>\n      <td>[0.5, inf)</td>\n      <td>0.625</td>\n      <td>[-inf, 1.4817823276676907)</td>\n      <td>[5.0, 10.0)</td>\n      <td>Higher2Lower</td>\n      <td>7</td>\n    </tr>\n    <tr>\n      <th>6757</th>\n      <td>137353</td>\n      <td>0.534339</td>\n      <td>3.467878</td>\n      <td>[0.5, inf)</td>\n      <td>0.625</td>\n      <td>[-inf, 1.4817823276676907)</td>\n      <td>[5.0, 10.0)</td>\n      <td>Higher2Lower</td>\n      <td>8</td>\n    </tr>\n    <tr>\n      <th>6758</th>\n      <td>137353</td>\n      <td>0.560288</td>\n      <td>2.325759</td>\n      <td>[0.5, inf)</td>\n      <td>0.625</td>\n      <td>[-inf, 1.4817823276676907)</td>\n      <td>[5.0, 10.0)</td>\n      <td>Higher2Lower</td>\n      <td>9</td>\n    </tr>\n    <tr>\n      <th>6759</th>\n      <td>137353</td>\n      <td>0.579000</td>\n      <td>4.615283</td>\n      <td>[0.5, inf)</td>\n      <td>0.625</td>\n      <td>[-inf, 1.4817823276676907)</td>\n      <td>[10.0, inf)</td>\n      <td>Higher2Lower</td>\n      <td>10</td>\n    </tr>\n  </tbody>\n</table>\n<p>6760 rows × 9 columns</p>\n</div>"
     },
     "execution_count": 20,
     "metadata": {},
     "output_type": "execute_result"
    }
   ],
   "source": [
    "data = preprocess_data(exec_time_data, neuroticism_data, imp_data, dur_data)\n",
    "data"
   ],
   "metadata": {
    "collapsed": false,
    "ExecuteTime": {
     "end_time": "2023-09-10T16:23:25.984729Z",
     "start_time": "2023-09-10T16:23:25.874203Z"
    }
   },
   "id": "8dea243f543f99a3"
  },
  {
   "cell_type": "markdown",
   "source": [
    "# Validation\n",
    "\n",
    "For each `run_id`, we\n",
    "1. Build a model excluding the data associated to that `run_id`.\n",
    "2. Execute X runs of the model following the sequence of TTFs in the excluded run.\n",
    "3. Collect the TTFs generated per step by the model.\n",
    "4. Calculate error w.r.t. excluded `run_id`.\n"
   ],
   "metadata": {
    "collapsed": false
   },
   "id": "e095cd966f535e23"
  },
  {
   "cell_type": "code",
   "execution_count": 24,
   "outputs": [
    {
     "data": {
      "text/plain": "            real  prediction      model\n0       3.654797    4.376270  realistic\n1       3.654797    8.144268  1st order\n2       4.438645    7.063712  realistic\n3       4.438645    5.441922  1st order\n4       2.943222    8.480934  realistic\n...          ...         ...        ...\n405595  3.467878    4.911295  1st order\n405596  2.325759    7.487442  realistic\n405597  2.325759    6.320304  1st order\n405598  4.615283    5.558479  realistic\n405599  4.615283    5.589307  1st order\n\n[405600 rows x 3 columns]",
      "text/html": "<div>\n<style scoped>\n    .dataframe tbody tr th:only-of-type {\n        vertical-align: middle;\n    }\n\n    .dataframe tbody tr th {\n        vertical-align: top;\n    }\n\n    .dataframe thead th {\n        text-align: right;\n    }\n</style>\n<table border=\"1\" class=\"dataframe\">\n  <thead>\n    <tr style=\"text-align: right;\">\n      <th></th>\n      <th>real</th>\n      <th>prediction</th>\n      <th>model</th>\n    </tr>\n  </thead>\n  <tbody>\n    <tr>\n      <th>0</th>\n      <td>3.654797</td>\n      <td>4.376270</td>\n      <td>realistic</td>\n    </tr>\n    <tr>\n      <th>1</th>\n      <td>3.654797</td>\n      <td>8.144268</td>\n      <td>1st order</td>\n    </tr>\n    <tr>\n      <th>2</th>\n      <td>4.438645</td>\n      <td>7.063712</td>\n      <td>realistic</td>\n    </tr>\n    <tr>\n      <th>3</th>\n      <td>4.438645</td>\n      <td>5.441922</td>\n      <td>1st order</td>\n    </tr>\n    <tr>\n      <th>4</th>\n      <td>2.943222</td>\n      <td>8.480934</td>\n      <td>realistic</td>\n    </tr>\n    <tr>\n      <th>...</th>\n      <td>...</td>\n      <td>...</td>\n      <td>...</td>\n    </tr>\n    <tr>\n      <th>405595</th>\n      <td>3.467878</td>\n      <td>4.911295</td>\n      <td>1st order</td>\n    </tr>\n    <tr>\n      <th>405596</th>\n      <td>2.325759</td>\n      <td>7.487442</td>\n      <td>realistic</td>\n    </tr>\n    <tr>\n      <th>405597</th>\n      <td>2.325759</td>\n      <td>6.320304</td>\n      <td>1st order</td>\n    </tr>\n    <tr>\n      <th>405598</th>\n      <td>4.615283</td>\n      <td>5.558479</td>\n      <td>realistic</td>\n    </tr>\n    <tr>\n      <th>405599</th>\n      <td>4.615283</td>\n      <td>5.589307</td>\n      <td>1st order</td>\n    </tr>\n  </tbody>\n</table>\n<p>405600 rows × 3 columns</p>\n</div>"
     },
     "execution_count": 24,
     "metadata": {},
     "output_type": "execute_result"
    }
   ],
   "source": [
    "from collections import deque\n",
    "import pandas as pd\n",
    "from typing import Tuple\n",
    "\n",
    "result_rows = deque()\n",
    "\n",
    "for run_id in data[\"run_id\"].unique():\n",
    "    test_data = data[data[\"run_id\"] == run_id].copy()\n",
    "    \n",
    "    def get_test_data(*args, **kwargs) -> Tuple[pd.DataFrame, pd.arrays.IntervalArray, pd.arrays.IntervalArray, pd.arrays.IntervalArray]:\n",
    "        etime_data = exec_time_data[exec_time_data[\"run_id\"] != run_id].copy()\n",
    "        return etime_data, neuroticism_data, imp_data, dur_data\n",
    "    \n",
    "    class EmpiricalTestModel(EmpiricalETM):\n",
    "        get_data = get_test_data\n",
    "        \n",
    "    class NaiveTestModel(FirstOrderETM):\n",
    "        get_data = get_test_data\n",
    "    \n",
    "    neuroticism = test_data[\"neuroticism_raw\"].unique()[0]\n",
    "    empirical_model = EmpiricalTestModel(neuroticism=neuroticism)\n",
    "    naive_model = NaiveTestModel()\n",
    "    \n",
    "    for _ in range(30):\n",
    "        for i, (prev_ttf, exec_time) in enumerate(test_data[[\"ttf\", \"next_exec_time\"]].itertuples(index=False)):\n",
    "            if i != 0:\n",
    "                # first row has no previous ttf\n",
    "                empirical_model.advance(prev_ttf)\n",
    "                naive_model.advance(prev_ttf)\n",
    "                \n",
    "            predicted_realistic_exec_time = empirical_model.get_execution_time()\n",
    "            predicted_naive_exec_time = naive_model.get_execution_time()\n",
    "            result_rows.append({\n",
    "                \"real\": exec_time, \n",
    "                \"prediction\": predicted_realistic_exec_time, \n",
    "                \"model\": \"realistic\"\n",
    "            })\n",
    "            result_rows.append({\n",
    "                \"real\": exec_time,\n",
    "                \"prediction\": predicted_naive_exec_time,\n",
    "                \"model\": \"1st order\"\n",
    "            })\n",
    "            \n",
    "results = pd.DataFrame(result_rows)\n",
    "results"
   ],
   "metadata": {
    "collapsed": false,
    "ExecuteTime": {
     "end_time": "2023-09-10T16:30:18.889939Z",
     "start_time": "2023-09-10T16:30:13.127764Z"
    }
   },
   "id": "ecf087a8fe4dbc27"
  },
  {
   "cell_type": "code",
   "execution_count": 25,
   "outputs": [
    {
     "data": {
      "text/plain": "            real  prediction      model  abs_error     %_error\n0       3.654797    4.376270  realistic   0.721473   19.740437\n1       3.654797    8.144268  1st order   4.489471  122.837758\n2       4.438645    7.063712  realistic   2.625067   59.141195\n3       4.438645    5.441922  1st order   1.003278   22.603244\n4       2.943222    8.480934  realistic   5.537711  188.151290\n...          ...         ...        ...        ...         ...\n405595  3.467878    4.911295  1st order   1.443417   41.622480\n405596  2.325759    7.487442  realistic   5.161684  221.935448\n405597  2.325759    6.320304  1st order   3.994545  171.752340\n405598  4.615283    5.558479  realistic   0.943195   20.436346\n405599  4.615283    5.589307  1st order   0.974024   21.104312\n\n[405600 rows x 5 columns]",
      "text/html": "<div>\n<style scoped>\n    .dataframe tbody tr th:only-of-type {\n        vertical-align: middle;\n    }\n\n    .dataframe tbody tr th {\n        vertical-align: top;\n    }\n\n    .dataframe thead th {\n        text-align: right;\n    }\n</style>\n<table border=\"1\" class=\"dataframe\">\n  <thead>\n    <tr style=\"text-align: right;\">\n      <th></th>\n      <th>real</th>\n      <th>prediction</th>\n      <th>model</th>\n      <th>abs_error</th>\n      <th>%_error</th>\n    </tr>\n  </thead>\n  <tbody>\n    <tr>\n      <th>0</th>\n      <td>3.654797</td>\n      <td>4.376270</td>\n      <td>realistic</td>\n      <td>0.721473</td>\n      <td>19.740437</td>\n    </tr>\n    <tr>\n      <th>1</th>\n      <td>3.654797</td>\n      <td>8.144268</td>\n      <td>1st order</td>\n      <td>4.489471</td>\n      <td>122.837758</td>\n    </tr>\n    <tr>\n      <th>2</th>\n      <td>4.438645</td>\n      <td>7.063712</td>\n      <td>realistic</td>\n      <td>2.625067</td>\n      <td>59.141195</td>\n    </tr>\n    <tr>\n      <th>3</th>\n      <td>4.438645</td>\n      <td>5.441922</td>\n      <td>1st order</td>\n      <td>1.003278</td>\n      <td>22.603244</td>\n    </tr>\n    <tr>\n      <th>4</th>\n      <td>2.943222</td>\n      <td>8.480934</td>\n      <td>realistic</td>\n      <td>5.537711</td>\n      <td>188.151290</td>\n    </tr>\n    <tr>\n      <th>...</th>\n      <td>...</td>\n      <td>...</td>\n      <td>...</td>\n      <td>...</td>\n      <td>...</td>\n    </tr>\n    <tr>\n      <th>405595</th>\n      <td>3.467878</td>\n      <td>4.911295</td>\n      <td>1st order</td>\n      <td>1.443417</td>\n      <td>41.622480</td>\n    </tr>\n    <tr>\n      <th>405596</th>\n      <td>2.325759</td>\n      <td>7.487442</td>\n      <td>realistic</td>\n      <td>5.161684</td>\n      <td>221.935448</td>\n    </tr>\n    <tr>\n      <th>405597</th>\n      <td>2.325759</td>\n      <td>6.320304</td>\n      <td>1st order</td>\n      <td>3.994545</td>\n      <td>171.752340</td>\n    </tr>\n    <tr>\n      <th>405598</th>\n      <td>4.615283</td>\n      <td>5.558479</td>\n      <td>realistic</td>\n      <td>0.943195</td>\n      <td>20.436346</td>\n    </tr>\n    <tr>\n      <th>405599</th>\n      <td>4.615283</td>\n      <td>5.589307</td>\n      <td>1st order</td>\n      <td>0.974024</td>\n      <td>21.104312</td>\n    </tr>\n  </tbody>\n</table>\n<p>405600 rows × 5 columns</p>\n</div>"
     },
     "execution_count": 25,
     "metadata": {},
     "output_type": "execute_result"
    }
   ],
   "source": [
    "import numpy as np\n",
    "\n",
    "results[\"abs_error\"] = results[\"prediction\"] - results[\"real\"]\n",
    "results[\"%_error\"] = (results[\"abs_error\"] / results[\"real\"]) * 100.0\n",
    "\n",
    "results"
   ],
   "metadata": {
    "collapsed": false,
    "ExecuteTime": {
     "end_time": "2023-09-10T16:30:47.182654Z",
     "start_time": "2023-09-10T16:30:47.150398Z"
    }
   },
   "id": "53bb847f19fad501"
  },
  {
   "cell_type": "code",
   "execution_count": 31,
   "outputs": [
    {
     "data": {
      "text/plain": "model               1st order     realistic\nabs_error count  2.028000e+05  2.028000e+05\n          mean  -6.881646e-03 -6.151001e-04\n          std    4.495956e+00  4.490340e+00\n          min   -5.538715e+01 -5.391029e+01\n          25%   -2.181606e+00 -2.169852e+00\n          50%   -1.027998e-02  1.176467e-02\n          75%    2.179228e+00  2.159323e+00\n          max    5.425010e+01  5.447339e+01\n%_error   count  2.028000e+05  2.028000e+05\n          mean   2.836508e+02  3.277051e+02\n          std    2.202297e+04  2.755572e+04\n          min   -9.999852e+01 -9.999822e+01\n          25%   -3.448226e+01 -3.428161e+01\n          50%   -2.058713e-01  2.275053e-01\n          75%    5.263019e+01  5.179145e+01\n          max    3.457833e+06  6.774263e+06",
      "text/html": "<div>\n<style scoped>\n    .dataframe tbody tr th:only-of-type {\n        vertical-align: middle;\n    }\n\n    .dataframe tbody tr th {\n        vertical-align: top;\n    }\n\n    .dataframe thead th {\n        text-align: right;\n    }\n</style>\n<table border=\"1\" class=\"dataframe\">\n  <thead>\n    <tr style=\"text-align: right;\">\n      <th></th>\n      <th>model</th>\n      <th>1st order</th>\n      <th>realistic</th>\n    </tr>\n  </thead>\n  <tbody>\n    <tr>\n      <th rowspan=\"8\" valign=\"top\">abs_error</th>\n      <th>count</th>\n      <td>2.028000e+05</td>\n      <td>2.028000e+05</td>\n    </tr>\n    <tr>\n      <th>mean</th>\n      <td>-6.881646e-03</td>\n      <td>-6.151001e-04</td>\n    </tr>\n    <tr>\n      <th>std</th>\n      <td>4.495956e+00</td>\n      <td>4.490340e+00</td>\n    </tr>\n    <tr>\n      <th>min</th>\n      <td>-5.538715e+01</td>\n      <td>-5.391029e+01</td>\n    </tr>\n    <tr>\n      <th>25%</th>\n      <td>-2.181606e+00</td>\n      <td>-2.169852e+00</td>\n    </tr>\n    <tr>\n      <th>50%</th>\n      <td>-1.027998e-02</td>\n      <td>1.176467e-02</td>\n    </tr>\n    <tr>\n      <th>75%</th>\n      <td>2.179228e+00</td>\n      <td>2.159323e+00</td>\n    </tr>\n    <tr>\n      <th>max</th>\n      <td>5.425010e+01</td>\n      <td>5.447339e+01</td>\n    </tr>\n    <tr>\n      <th rowspan=\"8\" valign=\"top\">%_error</th>\n      <th>count</th>\n      <td>2.028000e+05</td>\n      <td>2.028000e+05</td>\n    </tr>\n    <tr>\n      <th>mean</th>\n      <td>2.836508e+02</td>\n      <td>3.277051e+02</td>\n    </tr>\n    <tr>\n      <th>std</th>\n      <td>2.202297e+04</td>\n      <td>2.755572e+04</td>\n    </tr>\n    <tr>\n      <th>min</th>\n      <td>-9.999852e+01</td>\n      <td>-9.999822e+01</td>\n    </tr>\n    <tr>\n      <th>25%</th>\n      <td>-3.448226e+01</td>\n      <td>-3.428161e+01</td>\n    </tr>\n    <tr>\n      <th>50%</th>\n      <td>-2.058713e-01</td>\n      <td>2.275053e-01</td>\n    </tr>\n    <tr>\n      <th>75%</th>\n      <td>5.263019e+01</td>\n      <td>5.179145e+01</td>\n    </tr>\n    <tr>\n      <th>max</th>\n      <td>3.457833e+06</td>\n      <td>6.774263e+06</td>\n    </tr>\n  </tbody>\n</table>\n</div>"
     },
     "execution_count": 31,
     "metadata": {},
     "output_type": "execute_result"
    }
   ],
   "source": [
    "results.groupby(\"model\").describe().drop(columns=[\"real\", \"prediction\"]).T"
   ],
   "metadata": {
    "collapsed": false,
    "ExecuteTime": {
     "end_time": "2023-09-10T16:32:28.378885Z",
     "start_time": "2023-09-10T16:32:28.290003Z"
    }
   },
   "id": "e1bd163c5931958d"
  },
  {
   "cell_type": "code",
   "execution_count": 32,
   "outputs": [
    {
     "name": "stderr",
     "output_type": "stream",
     "text": [
      "/Users/molguin/.venvs/EdgeDroid/lib/python3.11/site-packages/seaborn/_oldcore.py:1498: FutureWarning: is_categorical_dtype is deprecated and will be removed in a future version. Use isinstance(dtype, CategoricalDtype) instead\n",
      "  if pd.api.types.is_categorical_dtype(vector):\n",
      "/Users/molguin/.venvs/EdgeDroid/lib/python3.11/site-packages/seaborn/_oldcore.py:1498: FutureWarning: is_categorical_dtype is deprecated and will be removed in a future version. Use isinstance(dtype, CategoricalDtype) instead\n",
      "  if pd.api.types.is_categorical_dtype(vector):\n",
      "/Users/molguin/.venvs/EdgeDroid/lib/python3.11/site-packages/seaborn/_oldcore.py:1498: FutureWarning: is_categorical_dtype is deprecated and will be removed in a future version. Use isinstance(dtype, CategoricalDtype) instead\n",
      "  if pd.api.types.is_categorical_dtype(vector):\n",
      "/Users/molguin/.venvs/EdgeDroid/lib/python3.11/site-packages/seaborn/_oldcore.py:1498: FutureWarning: is_categorical_dtype is deprecated and will be removed in a future version. Use isinstance(dtype, CategoricalDtype) instead\n",
      "  if pd.api.types.is_categorical_dtype(vector):\n",
      "/Users/molguin/.venvs/EdgeDroid/lib/python3.11/site-packages/seaborn/_oldcore.py:1119: FutureWarning: use_inf_as_na option is deprecated and will be removed in a future version. Convert inf values to NaN before operating instead.\n",
      "  with pd.option_context('mode.use_inf_as_na', True):\n",
      "/Users/molguin/.venvs/EdgeDroid/lib/python3.11/site-packages/pandas/core/arraylike.py:396: RuntimeWarning: invalid value encountered in log10\n",
      "  result = getattr(ufunc, method)(*inputs, **kwargs)\n"
     ]
    },
    {
     "data": {
      "text/plain": "<Figure size 640x480 with 1 Axes>",
      "image/png": "[encoded data removed]"
     },
     "metadata": {},
     "output_type": "display_data"
    }
   ],
   "source": [
    "# %matplotlib inline\n",
    "import matplotlib as mpl\n",
    "import matplotlib.pyplot as plt\n",
    "import seaborn as sns\n",
    "\n",
    "ax = sns.histplot(data=results, x=\"%_error\", hue=\"model\", stat=\"density\", log_scale=True, cumulative=True)\n",
    "ax.set_title(\"CDF of Model Error\")\n",
    "ax.set_xlabel(\"Error (% w.r.t. test value)\")\n",
    "plt.show()"
   ],
   "metadata": {
    "collapsed": false,
    "ExecuteTime": {
     "end_time": "2023-09-10T16:33:47.586109Z",
     "start_time": "2023-09-10T16:33:46.767590Z"
    }
   },
   "id": "c8d0bfb17ba34881"
  },
  {
   "cell_type": "code",
   "execution_count": 6,
   "outputs": [],
   "source": [],
   "metadata": {
    "collapsed": false,
    "ExecuteTime": {
     "end_time": "2023-09-09T23:43:30.711917Z",
     "start_time": "2023-09-09T23:43:30.708018Z"
    }
   },
   "id": "ad7c5f89af2c77cd"
  }
 ],
 "metadata": {
  "kernelspec": {
   "display_name": "Python 3",
   "language": "python",
   "name": "python3"
  },
  "language_info": {
   "codemirror_mode": {
    "name": "ipython",
    "version": 2
   },
   "file_extension": ".py",
   "mimetype": "text/x-python",
   "name": "python",
   "nbconvert_exporter": "python",
   "pygments_lexer": "ipython2",
   "version": "2.7.6"
  }
 },
 "nbformat": 4,
 "nbformat_minor": 5
}
