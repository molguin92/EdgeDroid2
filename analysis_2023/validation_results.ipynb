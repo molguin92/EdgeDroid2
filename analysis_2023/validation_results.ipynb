{
 "cells": [
  {
   "cell_type": "code",
   "execution_count": 1,
   "id": "initial_id",
   "metadata": {
    "collapsed": true,
    "ExecuteTime": {
     "end_time": "2023-11-30T17:36:39.946109Z",
     "start_time": "2023-11-30T17:36:34.807335Z"
    }
   },
   "source": [
    "import pandas as pd\n",
    "\n",
    "results = pd.read_parquet(\"./full_validation.parquet\")\n",
    "results"
   ],
   "outputs": []
  },
  {
   "cell_type": "code",
   "execution_count": 8,
   "source": [
    "(\n",
    "    results\n",
    "    .groupby([\"model\", \"kernel\", \"window_size\", \"ttf_bins\"], observed=True)\n",
    "    [\"sqr_error\"]\n",
    "    .mean()\n",
    "    .reset_index()\n",
    "    .sort_values(\"sqr_error\", ascending=True)\n",
    "    .drop_duplicates(\"model\")\n",
    ")"
   ],
   "metadata": {
    "collapsed": false,
    "ExecuteTime": {
     "end_time": "2023-11-30T17:45:38.757837Z",
     "start_time": "2023-11-30T17:45:34.652255Z"
    }
   },
   "id": "e1ce91eb5a78480b",
   "outputs": []
  },
  {
   "cell_type": "code",
   "execution_count": null,
   "source": [],
   "metadata": {
    "collapsed": false
   },
   "id": "42719cb1b0dea360",
   "outputs": []
  }
 ],
 "metadata": {
  "kernelspec": {
   "display_name": "Python 3",
   "language": "python",
   "name": "python3"
  },
  "language_info": {
   "codemirror_mode": {
    "name": "ipython",
    "version": 2
   },
   "file_extension": ".py",
   "mimetype": "text/x-python",
   "name": "python",
   "nbconvert_exporter": "python",
   "pygments_lexer": "ipython2",
   "version": "2.7.6"
  }
 },
 "nbformat": 4,
 "nbformat_minor": 5
}
