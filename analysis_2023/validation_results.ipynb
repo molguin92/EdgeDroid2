{
 "cells": [
  {
   "cell_type": "code",
   "execution_count": 1,
   "id": "initial_id",
   "metadata": {
    "collapsed": true,
    "ExecuteTime": {
     "end_time": "2023-11-30T17:36:39.946109Z",
     "start_time": "2023-11-30T17:36:34.807335Z"
    }
   },
   "outputs": [
    {
     "data": {
      "text/plain": "              real  prediction     error  sqr_error               model  \\\n0         3.654797    6.278157  2.623360   6.882016           1st order   \n1         3.654797    5.261648  1.606851   2.581971  1st order (median)   \n2         3.654797    5.873496  2.218699   4.922626    1st order (mean)   \n3         3.654797    4.469169  0.814371   0.663201           empirical   \n4         3.654797    3.369724 -0.285073   0.081267           empirical   \n...            ...         ...       ...        ...                 ...   \n88217995  4.615283    5.036001  0.420718   0.177003  empirical (median)   \n88217996  4.615283    5.277464  0.662181   0.438484         theoretical   \n88217997  4.615283    5.836481  1.221198   1.491324         theoretical   \n88217998  4.615283    7.666758  3.051475   9.311500         theoretical   \n88217999  4.615283    4.593182 -0.022102   0.000488         theoretical   \n\n                  kernel  ttf_bins  window_size  \n0                   none         0            0  \n1                   none         0            0  \n2                   none         0            0  \n3            exponential         1            4  \n4           linear_steep         1            4  \n...                  ...       ...          ...  \n88217995         average         9           12  \n88217996     exponential         9           12  \n88217997    linear_steep         9           12  \n88217998  linear_shallow         9           12  \n88217999         average         9           12  \n\n[88218000 rows x 8 columns]",
      "text/html": "<div>\n<style scoped>\n    .dataframe tbody tr th:only-of-type {\n        vertical-align: middle;\n    }\n\n    .dataframe tbody tr th {\n        vertical-align: top;\n    }\n\n    .dataframe thead th {\n        text-align: right;\n    }\n</style>\n<table border=\"1\" class=\"dataframe\">\n  <thead>\n    <tr style=\"text-align: right;\">\n      <th></th>\n      <th>real</th>\n      <th>prediction</th>\n      <th>error</th>\n      <th>sqr_error</th>\n      <th>model</th>\n      <th>kernel</th>\n      <th>ttf_bins</th>\n      <th>window_size</th>\n    </tr>\n  </thead>\n  <tbody>\n    <tr>\n      <th>0</th>\n      <td>3.654797</td>\n      <td>6.278157</td>\n      <td>2.623360</td>\n      <td>6.882016</td>\n      <td>1st order</td>\n      <td>none</td>\n      <td>0</td>\n      <td>0</td>\n    </tr>\n    <tr>\n      <th>1</th>\n      <td>3.654797</td>\n      <td>5.261648</td>\n      <td>1.606851</td>\n      <td>2.581971</td>\n      <td>1st order (median)</td>\n      <td>none</td>\n      <td>0</td>\n      <td>0</td>\n    </tr>\n    <tr>\n      <th>2</th>\n      <td>3.654797</td>\n      <td>5.873496</td>\n      <td>2.218699</td>\n      <td>4.922626</td>\n      <td>1st order (mean)</td>\n      <td>none</td>\n      <td>0</td>\n      <td>0</td>\n    </tr>\n    <tr>\n      <th>3</th>\n      <td>3.654797</td>\n      <td>4.469169</td>\n      <td>0.814371</td>\n      <td>0.663201</td>\n      <td>empirical</td>\n      <td>exponential</td>\n      <td>1</td>\n      <td>4</td>\n    </tr>\n    <tr>\n      <th>4</th>\n      <td>3.654797</td>\n      <td>3.369724</td>\n      <td>-0.285073</td>\n      <td>0.081267</td>\n      <td>empirical</td>\n      <td>linear_steep</td>\n      <td>1</td>\n      <td>4</td>\n    </tr>\n    <tr>\n      <th>...</th>\n      <td>...</td>\n      <td>...</td>\n      <td>...</td>\n      <td>...</td>\n      <td>...</td>\n      <td>...</td>\n      <td>...</td>\n      <td>...</td>\n    </tr>\n    <tr>\n      <th>88217995</th>\n      <td>4.615283</td>\n      <td>5.036001</td>\n      <td>0.420718</td>\n      <td>0.177003</td>\n      <td>empirical (median)</td>\n      <td>average</td>\n      <td>9</td>\n      <td>12</td>\n    </tr>\n    <tr>\n      <th>88217996</th>\n      <td>4.615283</td>\n      <td>5.277464</td>\n      <td>0.662181</td>\n      <td>0.438484</td>\n      <td>theoretical</td>\n      <td>exponential</td>\n      <td>9</td>\n      <td>12</td>\n    </tr>\n    <tr>\n      <th>88217997</th>\n      <td>4.615283</td>\n      <td>5.836481</td>\n      <td>1.221198</td>\n      <td>1.491324</td>\n      <td>theoretical</td>\n      <td>linear_steep</td>\n      <td>9</td>\n      <td>12</td>\n    </tr>\n    <tr>\n      <th>88217998</th>\n      <td>4.615283</td>\n      <td>7.666758</td>\n      <td>3.051475</td>\n      <td>9.311500</td>\n      <td>theoretical</td>\n      <td>linear_shallow</td>\n      <td>9</td>\n      <td>12</td>\n    </tr>\n    <tr>\n      <th>88217999</th>\n      <td>4.615283</td>\n      <td>4.593182</td>\n      <td>-0.022102</td>\n      <td>0.000488</td>\n      <td>theoretical</td>\n      <td>average</td>\n      <td>9</td>\n      <td>12</td>\n    </tr>\n  </tbody>\n</table>\n<p>88218000 rows × 8 columns</p>\n</div>"
     },
     "execution_count": 1,
     "metadata": {},
     "output_type": "execute_result"
    }
   ],
   "source": [
    "import pandas as pd\n",
    "\n",
    "results = pd.read_parquet(\"./full_validation.parquet\")\n",
    "results"
   ]
  },
  {
   "cell_type": "code",
   "execution_count": 8,
   "outputs": [
    {
     "data": {
      "text/plain": "                  model          kernel  window_size  ttf_bins  sqr_error\n206    empirical (mean)    linear_steep            8         6  10.133110\n1      1st order (mean)            none            0         0  10.189076\n314  empirical (median)    linear_steep            8         6  10.375893\n2    1st order (median)            none            0         0  10.559166\n80            empirical  linear_shallow           12         6  13.747221\n403         theoretical  linear_shallow           12         5  14.504284\n0             1st order            none            0         0  20.445514",
      "text/html": "<div>\n<style scoped>\n    .dataframe tbody tr th:only-of-type {\n        vertical-align: middle;\n    }\n\n    .dataframe tbody tr th {\n        vertical-align: top;\n    }\n\n    .dataframe thead th {\n        text-align: right;\n    }\n</style>\n<table border=\"1\" class=\"dataframe\">\n  <thead>\n    <tr style=\"text-align: right;\">\n      <th></th>\n      <th>model</th>\n      <th>kernel</th>\n      <th>window_size</th>\n      <th>ttf_bins</th>\n      <th>sqr_error</th>\n    </tr>\n  </thead>\n  <tbody>\n    <tr>\n      <th>206</th>\n      <td>empirical (mean)</td>\n      <td>linear_steep</td>\n      <td>8</td>\n      <td>6</td>\n      <td>10.133110</td>\n    </tr>\n    <tr>\n      <th>1</th>\n      <td>1st order (mean)</td>\n      <td>none</td>\n      <td>0</td>\n      <td>0</td>\n      <td>10.189076</td>\n    </tr>\n    <tr>\n      <th>314</th>\n      <td>empirical (median)</td>\n      <td>linear_steep</td>\n      <td>8</td>\n      <td>6</td>\n      <td>10.375893</td>\n    </tr>\n    <tr>\n      <th>2</th>\n      <td>1st order (median)</td>\n      <td>none</td>\n      <td>0</td>\n      <td>0</td>\n      <td>10.559166</td>\n    </tr>\n    <tr>\n      <th>80</th>\n      <td>empirical</td>\n      <td>linear_shallow</td>\n      <td>12</td>\n      <td>6</td>\n      <td>13.747221</td>\n    </tr>\n    <tr>\n      <th>403</th>\n      <td>theoretical</td>\n      <td>linear_shallow</td>\n      <td>12</td>\n      <td>5</td>\n      <td>14.504284</td>\n    </tr>\n    <tr>\n      <th>0</th>\n      <td>1st order</td>\n      <td>none</td>\n      <td>0</td>\n      <td>0</td>\n      <td>20.445514</td>\n    </tr>\n  </tbody>\n</table>\n</div>"
     },
     "execution_count": 8,
     "metadata": {},
     "output_type": "execute_result"
    }
   ],
   "source": [
    "(\n",
    "    results\n",
    "    .groupby([\"model\", \"kernel\", \"window_size\", \"ttf_bins\"], observed=True)\n",
    "    [\"sqr_error\"]\n",
    "    .mean()\n",
    "    .reset_index()\n",
    "    .sort_values(\"sqr_error\", ascending=True)\n",
    "    .drop_duplicates(\"model\")\n",
    ")"
   ],
   "metadata": {
    "collapsed": false,
    "ExecuteTime": {
     "end_time": "2023-11-30T17:45:38.757837Z",
     "start_time": "2023-11-30T17:45:34.652255Z"
    }
   },
   "id": "e1ce91eb5a78480b"
  },
  {
   "cell_type": "code",
   "execution_count": null,
   "outputs": [],
   "source": [],
   "metadata": {
    "collapsed": false
   },
   "id": "42719cb1b0dea360"
  }
 ],
 "metadata": {
  "kernelspec": {
   "display_name": "Python 3",
   "language": "python",
   "name": "python3"
  },
  "language_info": {
   "codemirror_mode": {
    "name": "ipython",
    "version": 2
   },
   "file_extension": ".py",
   "mimetype": "text/x-python",
   "name": "python",
   "nbconvert_exporter": "python",
   "pygments_lexer": "ipython2",
   "version": "2.7.6"
  }
 },
 "nbformat": 4,
 "nbformat_minor": 5
}
