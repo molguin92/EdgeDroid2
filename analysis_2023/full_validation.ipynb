{
 "cells": [
  {
   "cell_type": "code",
   "execution_count": 1,
   "id": "initial_id",
   "metadata": {
    "ExecuteTime": {
     "end_time": "2023-11-05T23:01:37.291207Z",
     "start_time": "2023-11-05T23:01:37.189985Z"
    }
   },
   "source": [
    "import warnings\n",
    "warnings.simplefilter(action='ignore', category=FutureWarning)\n",
    "\n",
    "from edgedroid.models.timings import *\n",
    "import edgedroid.data as default_data\n",
    "\n",
    "exec_time_data, neuroticism_data, imp_data, dur_data = default_data.load_default_exec_time_data()\n",
    "exec_time_data"
   ],
   "outputs": []
  },
  {
   "cell_type": "code",
   "execution_count": 2,
   "id": "fa157f7dd9b7b7a2",
   "metadata": {
    "collapsed": false,
    "ExecuteTime": {
     "end_time": "2023-11-05T23:01:37.433551Z",
     "start_time": "2023-11-05T23:01:37.287802Z"
    }
   },
   "source": [
    "data = preprocess_data(exec_time_data, neuroticism_data, imp_data, dur_data)\n",
    "data"
   ],
   "outputs": []
  },
  {
   "cell_type": "code",
   "execution_count": 3,
   "id": "20486260a5187244",
   "metadata": {
    "collapsed": false,
    "ExecuteTime": {
     "end_time": "2023-11-05T23:07:29.344492Z",
     "start_time": "2023-11-05T23:01:37.432161Z"
    }
   },
   "source": [
    "import itertools\n",
    "from collections import deque\n",
    "import pandas as pd\n",
    "from typing import Tuple, Deque\n",
    "from tqdm.notebook import tqdm\n",
    "\n",
    "result_rows = deque()\n",
    "\n",
    "for run_id in tqdm(data[\"run_id\"].unique(), desc=\"Run\"):\n",
    "    test_data = data[data[\"run_id\"] == run_id].copy()\n",
    "\n",
    "    def get_test_data(*args, **kwargs) -> Tuple[pd.DataFrame, pd.arrays.IntervalArray, pd.arrays.IntervalArray, pd.arrays.IntervalArray]:\n",
    "        etime_data = exec_time_data[exec_time_data[\"run_id\"] != run_id].copy()\n",
    "        return etime_data, neuroticism_data, imp_data, dur_data\n",
    "\n",
    "    class EmpiricalTestModel(EmpiricalETM):\n",
    "        get_data = get_test_data\n",
    "        \n",
    "    class TheoreticalTestModel(FittedETM):\n",
    "        get_data = get_test_data\n",
    "\n",
    "    class NaiveTestModel(FirstOrderETM):\n",
    "        get_data = get_test_data\n",
    "\n",
    "    neuroticism = test_data[\"neuroticism_raw\"].unique()[0]\n",
    "    naive_model = NaiveTestModel()\n",
    "    \n",
    "    models: Deque[Tuple[str, ExecutionTimeModel, int, CleanupMode]] = deque()\n",
    "    models.append(\n",
    "        (\"1st order\", naive_model, 0, CleanupMode.NONE)\n",
    "    )\n",
    "    \n",
    "    for (ttf_bins, cleanup) in itertools.product(range(1, 10), CleanupMode):\n",
    "        kernel = ExponentialTTFWindowKernel(window_size=12)\n",
    "        emp_model = EmpiricalTestModel(kernel=kernel, neuroticism=neuroticism, ttf_levels=ttf_bins, cleanup=cleanup)\n",
    "        theo_model = TheoreticalTestModel(kernel=kernel, neuroticism=neuroticism, ttf_levels=ttf_bins, cleanup=cleanup)\n",
    "        \n",
    "        models.extend((\n",
    "            (\"empirical\", emp_model, ttf_bins, cleanup),\n",
    "            (\"theoretical\", theo_model, ttf_bins, cleanup)\n",
    "        ))\n",
    "        \n",
    "    for _ in range(30):\n",
    "        for i, (prev_ttf, exec_time) in enumerate(test_data[[\"ttf\", \"next_exec_time\"]].itertuples(index=False)):\n",
    "            for model_name, model, ttf_bins, cleanup in models:\n",
    "                if i == 0:\n",
    "                    # reset the model between runs\n",
    "                    model.reset()\n",
    "                else:\n",
    "                    # first row has no previous ttf\n",
    "                    model.advance(prev_ttf)\n",
    "                    \n",
    "                prediction = model.get_execution_time()\n",
    "                result_rows.append({\n",
    "                    \"real\": exec_time,\n",
    "                    \"prediction\": prediction,\n",
    "                    \"error\": prediction - exec_time,\n",
    "                    \"model\": model_name,\n",
    "                    \"ttf_bins\": ttf_bins,\n",
    "                    \"cleanup\": str(cleanup)\n",
    "                })\n",
    "\n",
    "results = pd.DataFrame(result_rows)\n",
    "results"
   ],
   "outputs": []
  },
  {
   "cell_type": "code",
   "execution_count": 4,
   "id": "5cd279b94781a7db",
   "metadata": {
    "collapsed": false,
    "ExecuteTime": {
     "end_time": "2023-11-05T23:07:29.383825Z",
     "start_time": "2023-11-05T23:07:29.346593Z"
    }
   },
   "source": [
    "import numpy as np\n",
    "results[\"sqr_error\"] = np.square(results[\"error\"])\n",
    "\n",
    "results"
   ],
   "outputs": []
  },
  {
   "cell_type": "code",
   "execution_count": 5,
   "source": [
    "results[\"model_tag\"] = results[\"model\"] + \" \" + results[\"cleanup\"].astype(str)\n",
    "results"
   ],
   "metadata": {
    "collapsed": false,
    "ExecuteTime": {
     "end_time": "2023-11-05T23:07:30.494017Z",
     "start_time": "2023-11-05T23:07:29.370810Z"
    }
   },
   "id": "77b7b5cc192a3775",
   "outputs": []
  },
  {
   "cell_type": "code",
   "execution_count": 6,
   "id": "9e70efda-85b2-47cd-acee-b0cca3789db7",
   "metadata": {
    "ExecuteTime": {
     "end_time": "2023-11-05T23:08:51.223539Z",
     "start_time": "2023-11-05T23:07:30.496476Z"
    }
   },
   "source": [
    "# %matplotlib inline\n",
    "import matplotlib.pyplot as plt\n",
    "import seaborn as sns\n",
    "\n",
    "fg = sns.catplot(results, kind=\"point\", x=\"ttf_bins\", y=\"sqr_error\", hue=\"model_tag\", height=5, aspect=2)\n",
    "fg.set(ylim=(0, None))\n",
    "fg.set_ylabels(\"MSE\")\n",
    "for ax in fg.axes.flat:\n",
    "    ax.set_xticks(ax.get_xticks(), ax.get_xticklabels(), rotation=45, ha='right')\n",
    "plt.show()"
   ],
   "outputs": []
  },
  {
   "cell_type": "code",
   "execution_count": 7,
   "source": [
    "results.groupby([\"model\", \"ttf_bins\", \"cleanup\"])[\"sqr_error\"].mean().sort_values()"
   ],
   "metadata": {
    "collapsed": false,
    "ExecuteTime": {
     "end_time": "2023-11-05T23:08:52.121028Z",
     "start_time": "2023-11-05T23:08:51.208498Z"
    }
   },
   "id": "9e6d4e99e1e28c7c",
   "outputs": []
  },
  {
   "cell_type": "code",
   "execution_count": 7,
   "source": [],
   "metadata": {
    "collapsed": false,
    "ExecuteTime": {
     "end_time": "2023-11-05T23:08:52.122602Z",
     "start_time": "2023-11-05T23:08:52.121268Z"
    }
   },
   "id": "f9c3c060a0112fca",
   "outputs": []
  }
 ],
 "metadata": {
  "kernelspec": {
   "display_name": "Python 3 (ipykernel)",
   "language": "python",
   "name": "python3"
  },
  "language_info": {
   "codemirror_mode": {
    "name": "ipython",
    "version": 3
   },
   "file_extension": ".py",
   "mimetype": "text/x-python",
   "name": "python",
   "nbconvert_exporter": "python",
   "pygments_lexer": "ipython3",
   "version": "3.11.6"
  }
 },
 "nbformat": 4,
 "nbformat_minor": 5
}
