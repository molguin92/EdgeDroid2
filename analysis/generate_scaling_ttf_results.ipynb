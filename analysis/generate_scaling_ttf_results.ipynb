{
 "cells": [
  {
   "cell_type": "code",
   "execution_count": 1,
   "metadata": {
    "collapsed": true
   },
   "outputs": [],
   "source": [
    "from edgedroid.models.timings import *\n",
    "\n",
    "import numpy as np\n",
    "import numpy.typing as npt\n",
    "# import pandas as pd\n",
    "\n",
    "runs_per_model = 90\n",
    "task_steps = 100\n",
    "\n",
    "\n",
    "models = {\n",
    "    # \"empirical\": {\n",
    "    #     \"low\": EmpiricalExecutionTimeModel(neuroticism=0.0),\n",
    "    #     \"high\": EmpiricalExecutionTimeModel(neuroticism=1.0),\n",
    "    # },\n",
    "    # \"theoretical\": {\n",
    "    #     \"low\": TheoreticalExecutionTimeModel(neuroticism=0.0),\n",
    "    #     \"high\": TheoreticalExecutionTimeModel(neuroticism=1.0),\n",
    "    # },\n",
    "    \"rolling-ttf\": {\n",
    "        \"low\": ExpKernelRollingTTFETModel(neuroticism=0.0),\n",
    "        \"high\": ExpKernelRollingTTFETModel(neuroticism=1.0),\n",
    "    },\n",
    "    \"fitted-rolling-ttf\": {\n",
    "        \"low\": DistExpKernelRollingTTFETModel(neuroticism=0.0),\n",
    "        \"high\": DistExpKernelRollingTTFETModel(neuroticism=1.0),\n",
    "    },\n",
    "    # \"naive\": {\"n/a\": NaiveExecutionTimeModel()},\n",
    "    \"fitted-naive\": {\"n/a\": FittedNaiveExecutionTimeModel()},\n",
    "}"
   ]
  },
  {
   "cell_type": "code",
   "execution_count": 2,
   "outputs": [
    {
     "data": {
      "text/plain": "array([0.        , 0.20833333, 0.41666667, 0.625     , 0.83333333,\n       1.04166667, 1.25      , 1.45833333, 1.66666667, 1.875     ,\n       2.08333333, 2.29166667, 2.5       , 2.70833333, 2.91666667,\n       3.125     , 3.33333333, 3.54166667, 3.75      , 3.95833333,\n       4.16666667, 4.375     , 4.58333333, 4.79166667, 5.        ])"
     },
     "execution_count": 2,
     "metadata": {},
     "output_type": "execute_result"
    }
   ],
   "source": [
    "# import numpy as np\n",
    "\n",
    "ttfs = np.linspace(0, 5, 25)\n",
    "ttfs"
   ],
   "metadata": {
    "collapsed": false
   }
  },
  {
   "cell_type": "code",
   "execution_count": 3,
   "outputs": [],
   "source": [
    "import pandas as pd\n",
    "import itertools as it\n",
    "\n",
    "combs = deque()\n",
    "for model_name, variants in models.items():\n",
    "    for neuro, model in variants.items():\n",
    "        for ttf, run in it.product(ttfs, range(1, runs_per_model + 1)):\n",
    "            combs.append((model, model_name, neuro, ttf, run))"
   ],
   "metadata": {
    "collapsed": false
   }
  },
  {
   "cell_type": "code",
   "execution_count": 4,
   "outputs": [
    {
     "data": {
      "text/plain": "  0%|          | 0/11250 [00:00<?, ?it/s]",
      "application/vnd.jupyter.widget-view+json": {
       "version_major": 2,
       "version_minor": 0,
       "model_id": "e7441144a29543a7b3e69eb11f668906"
      }
     },
     "metadata": {},
     "output_type": "display_data"
    },
    {
     "data": {
      "text/plain": "                model neuroticism  repetition  step  exec_time  ttf  \\\n0         rolling-ttf         low           1     1   3.697313  0.0   \n1         rolling-ttf         low           1     2   3.143482  0.0   \n2         rolling-ttf         low           1     3   4.169947  0.0   \n3         rolling-ttf         low           1     4   4.174971  0.0   \n4         rolling-ttf         low           1     5   2.481269  0.0   \n...               ...         ...         ...   ...        ...  ...   \n1124995  fitted-naive         n/a          90    96   3.489237  5.0   \n1124996  fitted-naive         n/a          90    97   7.840352  5.0   \n1124997  fitted-naive         n/a          90    98   6.374493  5.0   \n1124998  fitted-naive         n/a          90    99   5.974303  5.0   \n1124999  fitted-naive         n/a          90   100   5.496778  5.0   \n\n          duration  cumulative_duration  \n0         3.697313             3.697313  \n1         3.143482             6.840795  \n2         4.169947            11.010742  \n3         4.174971            15.185713  \n4         2.481269            17.666982  \n...            ...                  ...  \n1124995   8.489237          1008.611605  \n1124996  12.840352          1021.451957  \n1124997  11.374493          1032.826451  \n1124998  10.974303          1043.800754  \n1124999  10.496778          1054.297533  \n\n[1125000 rows x 8 columns]",
      "text/html": "<div>\n<style scoped>\n    .dataframe tbody tr th:only-of-type {\n        vertical-align: middle;\n    }\n\n    .dataframe tbody tr th {\n        vertical-align: top;\n    }\n\n    .dataframe thead th {\n        text-align: right;\n    }\n</style>\n<table border=\"1\" class=\"dataframe\">\n  <thead>\n    <tr style=\"text-align: right;\">\n      <th></th>\n      <th>model</th>\n      <th>neuroticism</th>\n      <th>repetition</th>\n      <th>step</th>\n      <th>exec_time</th>\n      <th>ttf</th>\n      <th>duration</th>\n      <th>cumulative_duration</th>\n    </tr>\n  </thead>\n  <tbody>\n    <tr>\n      <th>0</th>\n      <td>rolling-ttf</td>\n      <td>low</td>\n      <td>1</td>\n      <td>1</td>\n      <td>3.697313</td>\n      <td>0.0</td>\n      <td>3.697313</td>\n      <td>3.697313</td>\n    </tr>\n    <tr>\n      <th>1</th>\n      <td>rolling-ttf</td>\n      <td>low</td>\n      <td>1</td>\n      <td>2</td>\n      <td>3.143482</td>\n      <td>0.0</td>\n      <td>3.143482</td>\n      <td>6.840795</td>\n    </tr>\n    <tr>\n      <th>2</th>\n      <td>rolling-ttf</td>\n      <td>low</td>\n      <td>1</td>\n      <td>3</td>\n      <td>4.169947</td>\n      <td>0.0</td>\n      <td>4.169947</td>\n      <td>11.010742</td>\n    </tr>\n    <tr>\n      <th>3</th>\n      <td>rolling-ttf</td>\n      <td>low</td>\n      <td>1</td>\n      <td>4</td>\n      <td>4.174971</td>\n      <td>0.0</td>\n      <td>4.174971</td>\n      <td>15.185713</td>\n    </tr>\n    <tr>\n      <th>4</th>\n      <td>rolling-ttf</td>\n      <td>low</td>\n      <td>1</td>\n      <td>5</td>\n      <td>2.481269</td>\n      <td>0.0</td>\n      <td>2.481269</td>\n      <td>17.666982</td>\n    </tr>\n    <tr>\n      <th>...</th>\n      <td>...</td>\n      <td>...</td>\n      <td>...</td>\n      <td>...</td>\n      <td>...</td>\n      <td>...</td>\n      <td>...</td>\n      <td>...</td>\n    </tr>\n    <tr>\n      <th>1124995</th>\n      <td>fitted-naive</td>\n      <td>n/a</td>\n      <td>90</td>\n      <td>96</td>\n      <td>3.489237</td>\n      <td>5.0</td>\n      <td>8.489237</td>\n      <td>1008.611605</td>\n    </tr>\n    <tr>\n      <th>1124996</th>\n      <td>fitted-naive</td>\n      <td>n/a</td>\n      <td>90</td>\n      <td>97</td>\n      <td>7.840352</td>\n      <td>5.0</td>\n      <td>12.840352</td>\n      <td>1021.451957</td>\n    </tr>\n    <tr>\n      <th>1124997</th>\n      <td>fitted-naive</td>\n      <td>n/a</td>\n      <td>90</td>\n      <td>98</td>\n      <td>6.374493</td>\n      <td>5.0</td>\n      <td>11.374493</td>\n      <td>1032.826451</td>\n    </tr>\n    <tr>\n      <th>1124998</th>\n      <td>fitted-naive</td>\n      <td>n/a</td>\n      <td>90</td>\n      <td>99</td>\n      <td>5.974303</td>\n      <td>5.0</td>\n      <td>10.974303</td>\n      <td>1043.800754</td>\n    </tr>\n    <tr>\n      <th>1124999</th>\n      <td>fitted-naive</td>\n      <td>n/a</td>\n      <td>90</td>\n      <td>100</td>\n      <td>5.496778</td>\n      <td>5.0</td>\n      <td>10.496778</td>\n      <td>1054.297533</td>\n    </tr>\n  </tbody>\n</table>\n<p>1125000 rows × 8 columns</p>\n</div>"
     },
     "execution_count": 4,
     "metadata": {},
     "output_type": "execute_result"
    }
   ],
   "source": [
    "from tqdm.notebook import tqdm_notebook as tqdm\n",
    "\n",
    "curr_idx = 0\n",
    "tqdm_iter = tqdm(combs)\n",
    "\n",
    "rows = deque()\n",
    "\n",
    "for model, model_name, neuro, ttf, repetition in tqdm_iter:\n",
    "    tqdm_iter.set_description(\n",
    "        desc=f\"Model {model_name}, neuro {neuro}, TTF {ttf:0.02f}s, repetition {repetition}\"\n",
    "    )\n",
    "    model.reset()\n",
    "    cum_duration = 0.0\n",
    "\n",
    "    for step in range(1, task_steps + 1):\n",
    "        exec_time = model.advance(ttf).get_execution_time()\n",
    "        duration = exec_time + ttf\n",
    "        cum_duration += duration\n",
    "\n",
    "        rows.append(\n",
    "            {\n",
    "                \"model\": model_name,\n",
    "                \"neuroticism\": neuro,\n",
    "                \"repetition\": repetition,\n",
    "                \"step\": step,\n",
    "                \"exec_time\": exec_time,\n",
    "                \"ttf\": ttf,\n",
    "                \"duration\": duration,\n",
    "                \"cumulative_duration\": cum_duration,\n",
    "            }\n",
    "        )\n",
    "\n",
    "        # results.loc[curr_idx, [\"model\", \"neuroticism\", \"repetition\", \"step\", \"exec_time\", \"ttf\", \"duration\", \"cumulative_duration\"]] = \\\n",
    "        #     [model_name, neuro, repetition, step, exec_time, ttf, duration, cum_duration]\n",
    "\n",
    "\n",
    "        # model_name\n",
    "        # results.at[curr_idx, \"neuroticism\"] = neuro\n",
    "        # results.at[curr_idx, \"repetition\"] = repetition\n",
    "        # results.at[curr_idx, \"step\"] = step\n",
    "        # results.at[curr_idx, \"exec_time\"] = exec_time\n",
    "        # results.at[curr_idx, \"ttf\"] = ttf\n",
    "        # results.at[curr_idx, \"duration\"] = duration\n",
    "        # results.at[curr_idx, \"cumulative_duration\"] = cum_duration\n",
    "\n",
    "        curr_idx += 1\n",
    "\n",
    "results = pd.DataFrame(rows)\n",
    "results[\"model\"] = results[\"model\"].astype(pd.CategoricalDtype(models.keys(), ordered=False))\n",
    "results[\"neuroticism\"] = results[\"neuroticism\"].astype(pd.CategoricalDtype([\"n/a\", \"low\", \"high\"], ordered=True))\n",
    "results[\"repetition\"] = results[\"repetition\"].astype(int)\n",
    "results[\"step\"] = results[\"step\"].astype(int)\n",
    "results[\"exec_time\"] = results[\"exec_time\"].astype(float)\n",
    "results[\"ttf\"] = results[\"ttf\"].astype(float)\n",
    "results[\"duration\"] = results[\"duration\"].astype(float)\n",
    "results[\"cumulative_duration\"] = results[\"cumulative_duration\"].astype(float)\n",
    "\n",
    "results.to_parquet(\"./timing_models_scaling_ttf.gzip\", compression=\"gzip\", partition_cols=[\"model\"])\n",
    "\n",
    "results"
   ],
   "metadata": {
    "collapsed": false
   }
  }
 ],
 "metadata": {
  "kernelspec": {
   "display_name": "Python 3",
   "language": "python",
   "name": "python3"
  },
  "language_info": {
   "codemirror_mode": {
    "name": "ipython",
    "version": 2
   },
   "file_extension": ".py",
   "mimetype": "text/x-python",
   "name": "python",
   "nbconvert_exporter": "python",
   "pygments_lexer": "ipython2",
   "version": "2.7.6"
  }
 },
 "nbformat": 4,
 "nbformat_minor": 0
}
