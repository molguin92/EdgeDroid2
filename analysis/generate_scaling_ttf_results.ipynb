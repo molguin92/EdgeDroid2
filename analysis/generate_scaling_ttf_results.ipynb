{
 "cells": [
  {
   "cell_type": "code",
   "execution_count": 1,
   "metadata": {
    "collapsed": true
   },
   "outputs": [],
   "source": [
    "from edgedroid.models.timings import *\n",
    "\n",
    "runs_per_model = 30\n",
    "task_steps = 100\n",
    "\n",
    "models = {\n",
    "    \"empirical\": {\n",
    "        \"low\": EmpiricalExecutionTimeModel.from_default_data(neuroticism=0.0),\n",
    "        \"high\": EmpiricalExecutionTimeModel.from_default_data(neuroticism=1.0),\n",
    "    },\n",
    "    \"theoretical\": {\n",
    "        \"low\": TheoreticalExecutionTimeModel.from_default_data(neuroticism=0.0),\n",
    "        \"high\": TheoreticalExecutionTimeModel.from_default_data(neuroticism=1.0),\n",
    "    },\n",
    "    \"constant\": {\"n/a\": ConstantExecutionTimeModel.from_default_data()},\n",
    "    \"naive\": {\"n/a\": NaiveExecutionTimeModel.from_default_data()},\n",
    "    \"fitted-naive\": {\"n/a\": FittedNaiveExecutionTimeModel.from_default_data()},\n",
    "}"
   ]
  },
  {
   "cell_type": "code",
   "execution_count": 2,
   "outputs": [
    {
     "data": {
      "text/plain": "array([0.        , 0.20833333, 0.41666667, 0.625     , 0.83333333,\n       1.04166667, 1.25      , 1.45833333, 1.66666667, 1.875     ,\n       2.08333333, 2.29166667, 2.5       , 2.70833333, 2.91666667,\n       3.125     , 3.33333333, 3.54166667, 3.75      , 3.95833333,\n       4.16666667, 4.375     , 4.58333333, 4.79166667, 5.        ])"
     },
     "execution_count": 2,
     "metadata": {},
     "output_type": "execute_result"
    }
   ],
   "source": [
    "import numpy as np\n",
    "\n",
    "ttfs = np.linspace(0, 5, 25)\n",
    "ttfs"
   ],
   "metadata": {
    "collapsed": false
   }
  },
  {
   "cell_type": "code",
   "execution_count": 3,
   "outputs": [],
   "source": [
    "import pandas as pd\n",
    "import itertools as it\n",
    "\n",
    "combs = deque()\n",
    "for model_name, variants in models.items():\n",
    "    for neuro, model in variants.items():\n",
    "        for ttf, run in it.product(ttfs, range(1, runs_per_model + 1)):\n",
    "            combs.append((model, model_name, neuro, ttf, run))"
   ],
   "metadata": {
    "collapsed": false
   }
  },
  {
   "cell_type": "code",
   "execution_count": 4,
   "outputs": [
    {
     "data": {
      "text/plain": "  0%|          | 0/5250 [00:00<?, ?it/s]",
      "application/vnd.jupyter.widget-view+json": {
       "version_major": 2,
       "version_minor": 0,
       "model_id": "b7750d99a1be46a485c037a504d0f86e"
      }
     },
     "metadata": {},
     "output_type": "display_data"
    },
    {
     "data": {
      "text/plain": "               model neuroticism  repetition  step  exec_time  ttf   duration  \\\n0          empirical         low           1     1   2.689960  0.0   2.689960   \n1          empirical         low           1     2   5.041830  0.0   5.041830   \n2          empirical         low           1     3   6.028927  0.0   6.028927   \n3          empirical         low           1     4   8.054360  0.0   8.054360   \n4          empirical         low           1     5   4.063269  0.0   4.063269   \n...              ...         ...         ...   ...        ...  ...        ...   \n524995  fitted-naive         n/a          30    96   3.033511  5.0   8.033511   \n524996  fitted-naive         n/a          30    97   4.314555  5.0   9.314555   \n524997  fitted-naive         n/a          30    98   4.829962  5.0   9.829962   \n524998  fitted-naive         n/a          30    99   3.470785  5.0   8.470785   \n524999  fitted-naive         n/a          30   100   7.225625  5.0  12.225625   \n\n        cumulative_duration  \n0                  2.689960  \n1                  7.731790  \n2                 13.760717  \n3                 21.815077  \n4                 25.878346  \n...                     ...  \n524995          1020.405085  \n524996          1029.719640  \n524997          1039.549602  \n524998          1048.020388  \n524999          1060.246013  \n\n[525000 rows x 8 columns]",
      "text/html": "<div>\n<style scoped>\n    .dataframe tbody tr th:only-of-type {\n        vertical-align: middle;\n    }\n\n    .dataframe tbody tr th {\n        vertical-align: top;\n    }\n\n    .dataframe thead th {\n        text-align: right;\n    }\n</style>\n<table border=\"1\" class=\"dataframe\">\n  <thead>\n    <tr style=\"text-align: right;\">\n      <th></th>\n      <th>model</th>\n      <th>neuroticism</th>\n      <th>repetition</th>\n      <th>step</th>\n      <th>exec_time</th>\n      <th>ttf</th>\n      <th>duration</th>\n      <th>cumulative_duration</th>\n    </tr>\n  </thead>\n  <tbody>\n    <tr>\n      <th>0</th>\n      <td>empirical</td>\n      <td>low</td>\n      <td>1</td>\n      <td>1</td>\n      <td>2.689960</td>\n      <td>0.0</td>\n      <td>2.689960</td>\n      <td>2.689960</td>\n    </tr>\n    <tr>\n      <th>1</th>\n      <td>empirical</td>\n      <td>low</td>\n      <td>1</td>\n      <td>2</td>\n      <td>5.041830</td>\n      <td>0.0</td>\n      <td>5.041830</td>\n      <td>7.731790</td>\n    </tr>\n    <tr>\n      <th>2</th>\n      <td>empirical</td>\n      <td>low</td>\n      <td>1</td>\n      <td>3</td>\n      <td>6.028927</td>\n      <td>0.0</td>\n      <td>6.028927</td>\n      <td>13.760717</td>\n    </tr>\n    <tr>\n      <th>3</th>\n      <td>empirical</td>\n      <td>low</td>\n      <td>1</td>\n      <td>4</td>\n      <td>8.054360</td>\n      <td>0.0</td>\n      <td>8.054360</td>\n      <td>21.815077</td>\n    </tr>\n    <tr>\n      <th>4</th>\n      <td>empirical</td>\n      <td>low</td>\n      <td>1</td>\n      <td>5</td>\n      <td>4.063269</td>\n      <td>0.0</td>\n      <td>4.063269</td>\n      <td>25.878346</td>\n    </tr>\n    <tr>\n      <th>...</th>\n      <td>...</td>\n      <td>...</td>\n      <td>...</td>\n      <td>...</td>\n      <td>...</td>\n      <td>...</td>\n      <td>...</td>\n      <td>...</td>\n    </tr>\n    <tr>\n      <th>524995</th>\n      <td>fitted-naive</td>\n      <td>n/a</td>\n      <td>30</td>\n      <td>96</td>\n      <td>3.033511</td>\n      <td>5.0</td>\n      <td>8.033511</td>\n      <td>1020.405085</td>\n    </tr>\n    <tr>\n      <th>524996</th>\n      <td>fitted-naive</td>\n      <td>n/a</td>\n      <td>30</td>\n      <td>97</td>\n      <td>4.314555</td>\n      <td>5.0</td>\n      <td>9.314555</td>\n      <td>1029.719640</td>\n    </tr>\n    <tr>\n      <th>524997</th>\n      <td>fitted-naive</td>\n      <td>n/a</td>\n      <td>30</td>\n      <td>98</td>\n      <td>4.829962</td>\n      <td>5.0</td>\n      <td>9.829962</td>\n      <td>1039.549602</td>\n    </tr>\n    <tr>\n      <th>524998</th>\n      <td>fitted-naive</td>\n      <td>n/a</td>\n      <td>30</td>\n      <td>99</td>\n      <td>3.470785</td>\n      <td>5.0</td>\n      <td>8.470785</td>\n      <td>1048.020388</td>\n    </tr>\n    <tr>\n      <th>524999</th>\n      <td>fitted-naive</td>\n      <td>n/a</td>\n      <td>30</td>\n      <td>100</td>\n      <td>7.225625</td>\n      <td>5.0</td>\n      <td>12.225625</td>\n      <td>1060.246013</td>\n    </tr>\n  </tbody>\n</table>\n<p>525000 rows × 8 columns</p>\n</div>"
     },
     "execution_count": 4,
     "metadata": {},
     "output_type": "execute_result"
    }
   ],
   "source": [
    "from tqdm.notebook import tqdm_notebook as tqdm\n",
    "\n",
    "curr_idx = 0\n",
    "tqdm_iter = tqdm(combs)\n",
    "\n",
    "rows = deque()\n",
    "\n",
    "for model, model_name, neuro, ttf, repetition in tqdm_iter:\n",
    "    tqdm_iter.set_description(\n",
    "        desc=f\"Model {model_name}, neuro {neuro}, TTF {ttf:0.02f}s, repetition {repetition}\"\n",
    "    )\n",
    "    model.reset()\n",
    "    cum_duration = 0.0\n",
    "\n",
    "    for step in range(1, task_steps + 1):\n",
    "        exec_time = model.advance(ttf).get_execution_time()\n",
    "        duration = exec_time + ttf\n",
    "        cum_duration += duration\n",
    "\n",
    "        rows.append(\n",
    "            {\n",
    "                \"model\": model_name,\n",
    "                \"neuroticism\": neuro,\n",
    "                \"repetition\": repetition,\n",
    "                \"step\": step,\n",
    "                \"exec_time\": exec_time,\n",
    "                \"ttf\": ttf,\n",
    "                \"duration\": duration,\n",
    "                \"cumulative_duration\": cum_duration,\n",
    "            }\n",
    "        )\n",
    "\n",
    "        # results.loc[curr_idx, [\"model\", \"neuroticism\", \"repetition\", \"step\", \"exec_time\", \"ttf\", \"duration\", \"cumulative_duration\"]] = \\\n",
    "        #     [model_name, neuro, repetition, step, exec_time, ttf, duration, cum_duration]\n",
    "\n",
    "\n",
    "        # model_name\n",
    "        # results.at[curr_idx, \"neuroticism\"] = neuro\n",
    "        # results.at[curr_idx, \"repetition\"] = repetition\n",
    "        # results.at[curr_idx, \"step\"] = step\n",
    "        # results.at[curr_idx, \"exec_time\"] = exec_time\n",
    "        # results.at[curr_idx, \"ttf\"] = ttf\n",
    "        # results.at[curr_idx, \"duration\"] = duration\n",
    "        # results.at[curr_idx, \"cumulative_duration\"] = cum_duration\n",
    "\n",
    "        curr_idx += 1\n",
    "\n",
    "results = pd.DataFrame(rows)\n",
    "results[\"model\"] = results[\"model\"].astype(pd.CategoricalDtype(models.keys(), ordered=False))\n",
    "results[\"neuroticism\"] = results[\"neuroticism\"].astype(pd.CategoricalDtype([\"n/a\", \"low\", \"high\"], ordered=True))\n",
    "results[\"repetition\"] = results[\"repetition\"].astype(int)\n",
    "results[\"step\"] = results[\"step\"].astype(int)\n",
    "results[\"exec_time\"] = results[\"exec_time\"].astype(float)\n",
    "results[\"ttf\"] = results[\"ttf\"].astype(float)\n",
    "results[\"duration\"] = results[\"duration\"].astype(float)\n",
    "results[\"cumulative_duration\"] = results[\"cumulative_duration\"].astype(float)\n",
    "\n",
    "results.to_parquet(\"./timing_models_scaling_ttf.gzip\", compression=\"gzip\", partition_cols=[\"model\"])\n",
    "\n",
    "results"
   ],
   "metadata": {
    "collapsed": false
   }
  }
 ],
 "metadata": {
  "kernelspec": {
   "display_name": "Python 3",
   "language": "python",
   "name": "python3"
  },
  "language_info": {
   "codemirror_mode": {
    "name": "ipython",
    "version": 2
   },
   "file_extension": ".py",
   "mimetype": "text/x-python",
   "name": "python",
   "nbconvert_exporter": "python",
   "pygments_lexer": "ipython2",
   "version": "2.7.6"
  }
 },
 "nbformat": 4,
 "nbformat_minor": 0
}
