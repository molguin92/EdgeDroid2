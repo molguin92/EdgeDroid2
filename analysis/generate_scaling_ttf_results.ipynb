{
 "cells": [
  {
   "cell_type": "code",
   "execution_count": 1,
   "metadata": {
    "collapsed": true
   },
   "source": [
    "from edgedroid.models.timings import *\n",
    "\n",
    "import numpy as np\n",
    "import numpy.typing as npt\n",
    "# import pandas as pd\n",
    "\n",
    "runs_per_model = 90\n",
    "task_steps = 100\n",
    "\n",
    "\n",
    "models = {\n",
    "    # \"empirical\": {\n",
    "    #     \"low\": EmpiricalExecutionTimeModel(neuroticism=0.0),\n",
    "    #     \"high\": EmpiricalExecutionTimeModel(neuroticism=1.0),\n",
    "    # },\n",
    "    # \"theoretical\": {\n",
    "    #     \"low\": TheoreticalExecutionTimeModel(neuroticism=0.0),\n",
    "    #     \"high\": TheoreticalExecutionTimeModel(neuroticism=1.0),\n",
    "    # },\n",
    "    \"rolling-ttf\": {\n",
    "        \"low\": ExpKernelRollingTTFETModel(neuroticism=0.0),\n",
    "        \"high\": ExpKernelRollingTTFETModel(neuroticism=1.0),\n",
    "    },\n",
    "    \"fitted-rolling-ttf\": {\n",
    "        \"low\": DistExpKernelRollingTTFETModel(neuroticism=0.0),\n",
    "        \"high\": DistExpKernelRollingTTFETModel(neuroticism=1.0),\n",
    "    },\n",
    "    # \"naive\": {\"n/a\": NaiveExecutionTimeModel()},\n",
    "    \"fitted-naive\": {\"n/a\": FittedNaiveExecutionTimeModel()},\n",
    "}"
   ],
   "outputs": []
  },
  {
   "cell_type": "code",
   "execution_count": 2,
   "source": [
    "# import numpy as np\n",
    "\n",
    "ttfs = np.linspace(0, 5, 25)\n",
    "ttfs"
   ],
   "metadata": {
    "collapsed": false
   },
   "outputs": []
  },
  {
   "cell_type": "code",
   "execution_count": 3,
   "source": [
    "import pandas as pd\n",
    "import itertools as it\n",
    "\n",
    "combs = deque()\n",
    "for model_name, variants in models.items():\n",
    "    for neuro, model in variants.items():\n",
    "        for ttf, run in it.product(ttfs, range(1, runs_per_model + 1)):\n",
    "            combs.append((model, model_name, neuro, ttf, run))"
   ],
   "metadata": {
    "collapsed": false
   },
   "outputs": []
  },
  {
   "cell_type": "code",
   "execution_count": 4,
   "source": [
    "from tqdm.notebook import tqdm_notebook as tqdm\n",
    "\n",
    "curr_idx = 0\n",
    "tqdm_iter = tqdm(combs)\n",
    "\n",
    "rows = deque()\n",
    "\n",
    "for model, model_name, neuro, ttf, repetition in tqdm_iter:\n",
    "    tqdm_iter.set_description(\n",
    "        desc=f\"Model {model_name}, neuro {neuro}, TTF {ttf:0.02f}s, repetition {repetition}\"\n",
    "    )\n",
    "    model.reset()\n",
    "    cum_duration = 0.0\n",
    "\n",
    "    for step in range(1, task_steps + 1):\n",
    "        exec_time = model.advance(ttf).get_execution_time()\n",
    "        duration = exec_time + ttf\n",
    "        cum_duration += duration\n",
    "\n",
    "        rows.append(\n",
    "            {\n",
    "                \"model\": model_name,\n",
    "                \"neuroticism\": neuro,\n",
    "                \"repetition\": repetition,\n",
    "                \"step\": step,\n",
    "                \"exec_time\": exec_time,\n",
    "                \"ttf\": ttf,\n",
    "                \"duration\": duration,\n",
    "                \"cumulative_duration\": cum_duration,\n",
    "            }\n",
    "        )\n",
    "\n",
    "        # results.loc[curr_idx, [\"model\", \"neuroticism\", \"repetition\", \"step\", \"exec_time\", \"ttf\", \"duration\", \"cumulative_duration\"]] = \\\n",
    "        #     [model_name, neuro, repetition, step, exec_time, ttf, duration, cum_duration]\n",
    "\n",
    "\n",
    "        # model_name\n",
    "        # results.at[curr_idx, \"neuroticism\"] = neuro\n",
    "        # results.at[curr_idx, \"repetition\"] = repetition\n",
    "        # results.at[curr_idx, \"step\"] = step\n",
    "        # results.at[curr_idx, \"exec_time\"] = exec_time\n",
    "        # results.at[curr_idx, \"ttf\"] = ttf\n",
    "        # results.at[curr_idx, \"duration\"] = duration\n",
    "        # results.at[curr_idx, \"cumulative_duration\"] = cum_duration\n",
    "\n",
    "        curr_idx += 1\n",
    "\n",
    "results = pd.DataFrame(rows)\n",
    "results[\"model\"] = results[\"model\"].astype(pd.CategoricalDtype(models.keys(), ordered=False))\n",
    "results[\"neuroticism\"] = results[\"neuroticism\"].astype(pd.CategoricalDtype([\"n/a\", \"low\", \"high\"], ordered=True))\n",
    "results[\"repetition\"] = results[\"repetition\"].astype(int)\n",
    "results[\"step\"] = results[\"step\"].astype(int)\n",
    "results[\"exec_time\"] = results[\"exec_time\"].astype(float)\n",
    "results[\"ttf\"] = results[\"ttf\"].astype(float)\n",
    "results[\"duration\"] = results[\"duration\"].astype(float)\n",
    "results[\"cumulative_duration\"] = results[\"cumulative_duration\"].astype(float)\n",
    "\n",
    "results.to_parquet(\"./timing_models_scaling_ttf.gzip\", compression=\"gzip\", partition_cols=[\"model\"])\n",
    "\n",
    "results"
   ],
   "metadata": {
    "collapsed": false
   },
   "outputs": []
  }
 ],
 "metadata": {
  "kernelspec": {
   "display_name": "Python 3",
   "language": "python",
   "name": "python3"
  },
  "language_info": {
   "codemirror_mode": {
    "name": "ipython",
    "version": 2
   },
   "file_extension": ".py",
   "mimetype": "text/x-python",
   "name": "python",
   "nbconvert_exporter": "python",
   "pygments_lexer": "ipython2",
   "version": "2.7.6"
  }
 },
 "nbformat": 4,
 "nbformat_minor": 0
}
