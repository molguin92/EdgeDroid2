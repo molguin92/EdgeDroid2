{
 "cells": [
  {
   "cell_type": "code",
   "execution_count": 7,
   "metadata": {
    "collapsed": true
   },
   "outputs": [],
   "source": [
    "import os\n",
    "from typing import Callable\n",
    "\n",
    "from edgedroid.models.sampling import *\n",
    "from edgedroid.models.timings import *\n",
    "\n",
    "rtts = np.linspace(0, 5, 11)[1:]\n",
    "\n",
    "runs_per_model = 60\n",
    "task_steps = 120\n",
    "\n",
    "timing_models: Dict[str, Callable[[], ExecutionTimeModel]] = {\n",
    "    # \"empirical-low\": lambda: EmpiricalExecutionTimeModel.from_default_data(neuroticism=0.0),\n",
    "    \"empirical-high\": lambda: EmpiricalExecutionTimeModel.from_default_data(neuroticism=1.0),\n",
    "    # \"theoretical-low\": lambda: TheoreticalExecutionTimeModel.from_default_data(neuroticism=0.0),\n",
    "    # \"theoretical-high\": lambda: TheoreticalExecutionTimeModel.from_default_data(neuroticism=1.0),\n",
    "    # \"constant\": lambda: ConstantExecutionTimeModel.from_default_data(),\n",
    "    # \"naive\": lambda: NaiveExecutionTimeModel.from_default_data(),\n",
    "    # \"fitted-naive\": lambda: FittedNaiveExecutionTimeModel.from_default_data(),\n",
    "}"
   ]
  },
  {
   "cell_type": "code",
   "execution_count": 8,
   "outputs": [
    {
     "data": {
      "text/plain": "      run_id       ttf  exec_time  neuroticism\n0     134146  0.597441   3.654797        0.375\n1     134146  0.553513   4.438645        0.375\n2     134146  0.561716   2.943222        0.375\n3     134146  0.586512   5.405761        0.375\n4     134146  0.558940   5.225161        0.375\n...      ...       ...        ...          ...\n6755  137353  0.557074   6.439071        0.625\n6756  137353  0.534339   4.680858        0.625\n6757  137353  0.560288   3.467878        0.625\n6758  137353  0.579000   2.325759        0.625\n6759  137353  0.536671   4.615283        0.625\n\n[6760 rows x 4 columns]",
      "text/html": "<div>\n<style scoped>\n    .dataframe tbody tr th:only-of-type {\n        vertical-align: middle;\n    }\n\n    .dataframe tbody tr th {\n        vertical-align: top;\n    }\n\n    .dataframe thead th {\n        text-align: right;\n    }\n</style>\n<table border=\"1\" class=\"dataframe\">\n  <thead>\n    <tr style=\"text-align: right;\">\n      <th></th>\n      <th>run_id</th>\n      <th>ttf</th>\n      <th>exec_time</th>\n      <th>neuroticism</th>\n    </tr>\n  </thead>\n  <tbody>\n    <tr>\n      <th>0</th>\n      <td>134146</td>\n      <td>0.597441</td>\n      <td>3.654797</td>\n      <td>0.375</td>\n    </tr>\n    <tr>\n      <th>1</th>\n      <td>134146</td>\n      <td>0.553513</td>\n      <td>4.438645</td>\n      <td>0.375</td>\n    </tr>\n    <tr>\n      <th>2</th>\n      <td>134146</td>\n      <td>0.561716</td>\n      <td>2.943222</td>\n      <td>0.375</td>\n    </tr>\n    <tr>\n      <th>3</th>\n      <td>134146</td>\n      <td>0.586512</td>\n      <td>5.405761</td>\n      <td>0.375</td>\n    </tr>\n    <tr>\n      <th>4</th>\n      <td>134146</td>\n      <td>0.558940</td>\n      <td>5.225161</td>\n      <td>0.375</td>\n    </tr>\n    <tr>\n      <th>...</th>\n      <td>...</td>\n      <td>...</td>\n      <td>...</td>\n      <td>...</td>\n    </tr>\n    <tr>\n      <th>6755</th>\n      <td>137353</td>\n      <td>0.557074</td>\n      <td>6.439071</td>\n      <td>0.625</td>\n    </tr>\n    <tr>\n      <th>6756</th>\n      <td>137353</td>\n      <td>0.534339</td>\n      <td>4.680858</td>\n      <td>0.625</td>\n    </tr>\n    <tr>\n      <th>6757</th>\n      <td>137353</td>\n      <td>0.560288</td>\n      <td>3.467878</td>\n      <td>0.625</td>\n    </tr>\n    <tr>\n      <th>6758</th>\n      <td>137353</td>\n      <td>0.579000</td>\n      <td>2.325759</td>\n      <td>0.625</td>\n    </tr>\n    <tr>\n      <th>6759</th>\n      <td>137353</td>\n      <td>0.536671</td>\n      <td>4.615283</td>\n      <td>0.625</td>\n    </tr>\n  </tbody>\n</table>\n<p>6760 rows × 4 columns</p>\n</div>"
     },
     "execution_count": 8,
     "metadata": {},
     "output_type": "execute_result"
    }
   ],
   "source": [
    "import edgedroid.data as e_data\n",
    "data, *_ = e_data.load_default_exec_time_data()\n",
    "data"
   ],
   "metadata": {
    "collapsed": false
   }
  },
  {
   "cell_type": "code",
   "execution_count": 9,
   "outputs": [
    {
     "data": {
      "text/plain": "25%    3.9\n50%    5.2\n75%    7.0\nName: exec_time, dtype: float64"
     },
     "execution_count": 9,
     "metadata": {},
     "output_type": "execute_result"
    }
   ],
   "source": [
    "exec_time_qs = np.round(data[\"exec_time\"].describe(percentiles=[0.25, 0.5, 0.75])[[\"25%\", \"50%\", \"75%\"]], decimals=1)\n",
    "exec_time_qs"
   ],
   "metadata": {
    "collapsed": false
   }
  },
  {
   "cell_type": "code",
   "execution_count": 10,
   "outputs": [
    {
     "data": {
      "text/plain": "['greedy',\n 'ideal',\n 'adaptive-empirical',\n 'adaptive-theoretical-exgaussian',\n 'adaptive-theoretical-rayleigh',\n 'adaptive-fitted-naive-exgaussian',\n 'adaptive-fitted-naive-rayleigh',\n 'adaptive-power-empirical',\n 'adaptive-power-theoretical-exgaussian',\n 'adaptive-power-theoretical-rayleigh',\n 'adaptive-power-fitted-naive-exgaussian',\n 'adaptive-power-fitted-naive-rayleigh',\n 'periodic-1.0s',\n 'periodic-3.0s',\n 'periodic-5.0s',\n 'hold-1.0s',\n 'hold-3.0s',\n 'hold-5.0s']"
     },
     "execution_count": 10,
     "metadata": {},
     "output_type": "execute_result"
    }
   ],
   "source": [
    "from edgedroid.models.sampling.adaptive import _aperiodic_instant_iterator\n",
    "from typing import NamedTuple\n",
    "import scipy.stats as stats\n",
    "\n",
    "class SamplingResult(NamedTuple):\n",
    "    duration: float\n",
    "    num_samples: int\n",
    "\n",
    "class ExpSampling(BaseFrameSamplingModel, abc.ABC):\n",
    "    @abc.abstractmethod\n",
    "    def constant_rtt_sampling(self, rtt: float, prev_ttf: float, target_exec_time: float) -> SamplingResult:\n",
    "        pass\n",
    "\n",
    "\n",
    "class GreedySampling(ZeroWaitFrameSamplingModel, ExpSampling):\n",
    "    def constant_rtt_sampling(self, rtt: float, prev_ttf: float, target_exec_time: float) -> SamplingResult:\n",
    "        num_samples = 1\n",
    "        instant = 0.0\n",
    "\n",
    "        while instant <= target_exec_time:\n",
    "            instant += rtt\n",
    "            num_samples += 1\n",
    "\n",
    "        return SamplingResult(instant + rtt, num_samples)\n",
    "\n",
    "class IdealSampling(IdealFrameSamplingModel, ExpSampling):\n",
    "    def constant_rtt_sampling(self, rtt: float, prev_ttf: float, target_exec_time: float) -> SamplingResult:\n",
    "        return SamplingResult(target_exec_time + rtt, 1)\n",
    "\n",
    "class PeriodicSampling(RegularFrameSamplingModel, ExpSampling):\n",
    "    def constant_rtt_sampling(self, rtt: float, prev_ttf: float, target_exec_time: float) -> SamplingResult:\n",
    "        num_samples = 1\n",
    "        instant = self._interval\n",
    "\n",
    "        interval = max(self._interval, rtt)\n",
    "\n",
    "        while instant <= target_exec_time:\n",
    "            instant += interval\n",
    "            num_samples += 1\n",
    "\n",
    "        return SamplingResult(instant + rtt, num_samples)\n",
    "\n",
    "class HoldSampling(HoldFrameSamplingModel, ExpSampling):\n",
    "    def constant_rtt_sampling(self, rtt: float, prev_ttf: float, target_exec_time: float) -> SamplingResult:\n",
    "        num_samples = 1\n",
    "        instant = self._hold_time\n",
    "\n",
    "        while instant <= target_exec_time:\n",
    "            instant += rtt\n",
    "            num_samples += 1\n",
    "\n",
    "        return SamplingResult(instant + rtt, num_samples)\n",
    "\n",
    "class AdaptiveSamplingMixin(BaseAperiodicFrameSamplingModel, ExpSampling, abc.ABC):\n",
    "    def constant_rtt_sampling(self, rtt: float, prev_ttf: float, target_exec_time: float) -> SamplingResult:\n",
    "        self._timing_model.advance(prev_ttf)\n",
    "        alpha = self.get_alpha()\n",
    "        beta = self.get_beta()\n",
    "\n",
    "        instant_iter = _aperiodic_instant_iterator(\n",
    "            mu=self._timing_model.get_expected_execution_time(),\n",
    "            alpha=alpha,\n",
    "            beta=beta,\n",
    "        )\n",
    "        # first instant doesn't depend on RTT\n",
    "        instant = next(instant_iter)\n",
    "        num_samples = 1\n",
    "\n",
    "        while instant <= target_exec_time:\n",
    "            instant = max(next(instant_iter), instant + rtt)\n",
    "            num_samples += 1\n",
    "\n",
    "        self.record_rtts([rtt] * num_samples)\n",
    "        return SamplingResult(instant + rtt, num_samples)\n",
    "\n",
    "class AdaptiveSampling(AperiodicFrameSamplingModel, AdaptiveSamplingMixin):\n",
    "    pass\n",
    "\n",
    "class AdaptivePowerSampling(AperiodicPowerFrameSamplingModel, AdaptiveSamplingMixin):\n",
    "    pass\n",
    "\n",
    "sampling_schemes: Dict[str, Callable[[], ExpSampling]] = {\n",
    "    \"greedy\": lambda : GreedySampling.from_default_data(),\n",
    "    \"ideal\": lambda : IdealSampling.from_default_data(),\n",
    "}\n",
    "\n",
    "sampling_schemes.update({\n",
    "    \"adaptive-empirical\": lambda : AdaptiveSampling.from_default_data(EmpiricalExecutionTimeModel.from_default_data(neuroticism=None)),\n",
    "    # \"adaptive-empirical-low\": lambda : AdaptiveSampling.from_default_data(EmpiricalExecutionTimeModel.from_default_data(neuroticism=0.0)),\n",
    "    # \"adaptive-empirical-high\": lambda : AdaptiveSampling.from_default_data(EmpiricalExecutionTimeModel.from_default_data(neuroticism=1.0)),\n",
    "    \"adaptive-theoretical-exgaussian\": lambda : AdaptiveSampling.from_default_data(\n",
    "        TheoreticalExecutionTimeModel.from_default_data(neuroticism=None, distribution=stats.exponnorm)\n",
    "    ),\n",
    "    \"adaptive-theoretical-rayleigh\": lambda : AdaptiveSampling.from_default_data(\n",
    "        TheoreticalExecutionTimeModel.from_default_data(neuroticism=None, distribution=stats.rayleigh)\n",
    "    ),\n",
    "    # \"adaptive-theoretical-low\": lambda : AdaptiveSampling.from_default_data(TheoreticalExecutionTimeModel.from_default_data(neuroticism=0.0)),\n",
    "    # \"adaptive-theoretical-high\": lambda : AdaptiveSampling.from_default_data(TheoreticalExecutionTimeModel.from_default_data(neuroticism=1.0)),\n",
    "    \"adaptive-fitted-naive-exgaussian\": lambda : AdaptiveSampling.from_default_data(FittedNaiveExecutionTimeModel.from_default_data(dist=stats.exponnorm)),\n",
    "    \"adaptive-fitted-naive-rayleigh\": lambda : AdaptiveSampling.from_default_data(FittedNaiveExecutionTimeModel.from_default_data(dist=stats.rayleigh))\n",
    "})\n",
    "\n",
    "# sampling_schemes.update({\n",
    "#     f\"adaptive-constant-Q{i + 1}-{t:0.1f}s\":\n",
    "#         lambda : AdaptiveSampling.from_default_data(ConstantExecutionTimeModel(float(t))) for i, t in enumerate(exec_time_qs)\n",
    "# })\n",
    "\n",
    "sampling_schemes.update({\n",
    "    \"adaptive-power-empirical\": lambda : AdaptivePowerSampling.from_default_data(EmpiricalExecutionTimeModel.from_default_data(neuroticism=None)),\n",
    "    # \"adaptive-power-empirical-low\": lambda : AdaptivePowerSampling.from_default_data(EmpiricalExecutionTimeModel.from_default_data(neuroticism=0.0)),\n",
    "    # \"adaptive-power-empirical-high\": lambda : AdaptivePowerSampling.from_default_data(EmpiricalExecutionTimeModel.from_default_data(neuroticism=1.0)),\n",
    "     \"adaptive-power-theoretical-exgaussian\": lambda : AdaptivePowerSampling.from_default_data(\n",
    "        TheoreticalExecutionTimeModel.from_default_data(neuroticism=None, distribution=stats.exponnorm)\n",
    "    ),\n",
    "    \"adaptive-power-theoretical-rayleigh\": lambda : AdaptivePowerSampling.from_default_data(\n",
    "        TheoreticalExecutionTimeModel.from_default_data(neuroticism=None, distribution=stats.rayleigh)\n",
    "    ),\n",
    "    # \"adaptive-power-theoretical-low\": lambda : AdaptivePowerSampling.from_default_data(TheoreticalExecutionTimeModel.from_default_data(neuroticism=0.0)),\n",
    "    # \"adaptive-power-theoretical-high\": lambda : AdaptivePowerSampling.from_default_data(TheoreticalExecutionTimeModel.from_default_data(neuroticism=1.0)),\n",
    "    \"adaptive-power-fitted-naive-exgaussian\": lambda : AdaptivePowerSampling.from_default_data(FittedNaiveExecutionTimeModel.from_default_data(dist=stats.exponnorm)),\n",
    "    \"adaptive-power-fitted-naive-rayleigh\": lambda : AdaptivePowerSampling.from_default_data(FittedNaiveExecutionTimeModel.from_default_data(dist=stats.rayleigh))\n",
    "})\n",
    "\n",
    "# sampling_schemes.update({\n",
    "#     f\"adaptive-power-constant-Q{i + 1}-{t:0.1f}s\":\n",
    "#         lambda : AdaptivePowerSampling.from_default_data(ConstantExecutionTimeModel(float(t))) for i, t in enumerate(exec_time_qs)\n",
    "# })\n",
    "\n",
    "sampling_schemes.update({\n",
    "    f\"periodic-{t:0.1f}s\": lambda : PeriodicSampling.from_default_data(sampling_interval_seconds=float(t)) for t in (1, 3, 5)\n",
    "})\n",
    "sampling_schemes.update({\n",
    "    f\"hold-{t:0.1f}s\": lambda : HoldSampling.from_default_data(hold_time_seconds=float(t)) for t in (1, 3, 5)\n",
    "})\n",
    "\n",
    "list(sampling_schemes.keys())"
   ],
   "metadata": {
    "collapsed": false
   }
  },
  {
   "cell_type": "code",
   "execution_count": 11,
   "outputs": [],
   "source": [
    "power_mw = {\n",
    "    \"comm\": 0.045,\n",
    "    \"idle\": 0.015\n",
    "}  # Watts\n",
    "\n",
    "proc_time = 0.3 # 300 ms\n",
    "# warmup_steps = 20\n",
    "\n",
    "def run_combination(timing: str, sampling: str, rtt: float, repetition: int) -> pd.DataFrame:\n",
    "    timing_model = timing_models[timing]()\n",
    "    sampling_model = sampling_schemes[sampling]()\n",
    "    prev_ttf = rtt\n",
    "    cumulative_duration = 0.0\n",
    "    cumulative_samples = 0\n",
    "\n",
    "    # for power calculations:\n",
    "    comm_time_per_sample = rtt - proc_time\n",
    "    cumulative_energy = 0.0\n",
    "\n",
    "    rows = deque()\n",
    "\n",
    "    for step in range(1, task_steps + 1):\n",
    "        exec_time = timing_model.advance(prev_ttf).get_execution_time()\n",
    "        duration, num_samples = sampling_model.constant_rtt_sampling(rtt, prev_ttf, exec_time)\n",
    "\n",
    "        # if step < warmup_steps:\n",
    "        #     continue\n",
    "\n",
    "        # duration = final_sample + rtt\n",
    "        cumulative_duration += duration\n",
    "        cumulative_samples += num_samples\n",
    "        ttf = duration - exec_time\n",
    "        wait_time = ttf - rtt\n",
    "\n",
    "        # calculate power\n",
    "        total_comm_time = comm_time_per_sample * num_samples\n",
    "        total_idle_time = duration - total_comm_time\n",
    "\n",
    "        total_energy = (total_idle_time * power_mw[\"idle\"]) + (total_comm_time * power_mw[\"comm\"])\n",
    "        cumulative_energy += total_energy\n",
    "\n",
    "        rows.append(\n",
    "            {\n",
    "                \"timing_model\": timing,\n",
    "                \"sampling_scheme\": sampling,\n",
    "                \"rtt\": rtt,\n",
    "                \"step\": step,\n",
    "                \"previous_ttf\": prev_ttf,\n",
    "                \"execution_time\": exec_time,\n",
    "                \"step_duration\": duration,\n",
    "                \"ttf\": ttf,\n",
    "                \"wait_time\": wait_time,\n",
    "                \"samples\": num_samples,\n",
    "                \"cumulative_duration\": cumulative_duration,\n",
    "                \"cumulative_samples\": cumulative_samples,\n",
    "                \"repetition\": repetition,\n",
    "                \"energy\": total_energy,\n",
    "                \"cumulative_energy\": cumulative_energy,\n",
    "            }\n",
    "        )\n",
    "        prev_ttf = ttf\n",
    "\n",
    "    return pd.DataFrame(rows)"
   ],
   "metadata": {
    "collapsed": false
   }
  },
  {
   "cell_type": "code",
   "execution_count": 12,
   "outputs": [
    {
     "data": {
      "text/plain": "  0%|          0/10800 [Time: 00:00]",
      "application/vnd.jupyter.widget-view+json": {
       "version_major": 2,
       "version_minor": 0,
       "model_id": "d5672f16bf4d474bbc6fbc9874b61e8a"
      }
     },
     "metadata": {},
     "output_type": "display_data"
    },
    {
     "data": {
      "text/plain": "           timing_model sampling_scheme  rtt  step  previous_ttf  \\\n0        empirical-high          greedy  3.5     1      3.500000   \n1        empirical-high          greedy  3.5     2      5.123987   \n2        empirical-high          greedy  3.5     3      5.495641   \n3        empirical-high          greedy  3.5     4      5.695223   \n4        empirical-high          greedy  3.5     5      5.808889   \n...                 ...             ...  ...   ...           ...   \n1295995  empirical-high          greedy  0.5   116      0.546616   \n1295996  empirical-high          greedy  0.5   117      0.671149   \n1295997  empirical-high          greedy  0.5   118      0.556423   \n1295998  empirical-high          greedy  0.5   119      0.729513   \n1295999  empirical-high          greedy  0.5   120      0.709408   \n\n         execution_time  step_duration       ttf  wait_time  samples  \\\n0              5.376013           10.5  5.123987   1.623987        3   \n1              8.504359           14.0  5.495641   1.995641        4   \n2              8.304777           14.0  5.695223   2.195223        4   \n3              4.691111           10.5  5.808889   2.308889        3   \n4              5.052763           10.5  5.447237   1.947237        3   \n...                 ...            ...       ...        ...      ...   \n1295995        4.828851            5.5  0.671149   0.171149       11   \n1295996        3.943577            4.5  0.556423   0.056423        9   \n1295997        5.770487            6.5  0.729513   0.229513       13   \n1295998        4.790592            5.5  0.709408   0.209408       11   \n1295999        2.180935            3.0  0.819065   0.319065        6   \n\n         cumulative_duration  cumulative_samples  repetition  energy  \\\n0                       10.5                   3          54  0.4455   \n1                       24.5                   7          54  0.5940   \n2                       38.5                  11          54  0.5940   \n3                       49.0                  14          54  0.4455   \n4                       59.5                  17          54  0.4455   \n...                      ...                 ...         ...     ...   \n1295995                713.5                1427          12  0.1485   \n1295996                718.0                1436          12  0.1215   \n1295997                724.5                1449          12  0.1755   \n1295998                730.0                1460          12  0.1485   \n1295999                733.0                1466          12  0.0810   \n\n         cumulative_energy  \n0                   0.4455  \n1                   1.0395  \n2                   1.6335  \n3                   2.0790  \n4                   2.5245  \n...                    ...  \n1295995            19.2645  \n1295996            19.3860  \n1295997            19.5615  \n1295998            19.7100  \n1295999            19.7910  \n\n[1296000 rows x 15 columns]",
      "text/html": "<div>\n<style scoped>\n    .dataframe tbody tr th:only-of-type {\n        vertical-align: middle;\n    }\n\n    .dataframe tbody tr th {\n        vertical-align: top;\n    }\n\n    .dataframe thead th {\n        text-align: right;\n    }\n</style>\n<table border=\"1\" class=\"dataframe\">\n  <thead>\n    <tr style=\"text-align: right;\">\n      <th></th>\n      <th>timing_model</th>\n      <th>sampling_scheme</th>\n      <th>rtt</th>\n      <th>step</th>\n      <th>previous_ttf</th>\n      <th>execution_time</th>\n      <th>step_duration</th>\n      <th>ttf</th>\n      <th>wait_time</th>\n      <th>samples</th>\n      <th>cumulative_duration</th>\n      <th>cumulative_samples</th>\n      <th>repetition</th>\n      <th>energy</th>\n      <th>cumulative_energy</th>\n    </tr>\n  </thead>\n  <tbody>\n    <tr>\n      <th>0</th>\n      <td>empirical-high</td>\n      <td>greedy</td>\n      <td>3.5</td>\n      <td>1</td>\n      <td>3.500000</td>\n      <td>5.376013</td>\n      <td>10.5</td>\n      <td>5.123987</td>\n      <td>1.623987</td>\n      <td>3</td>\n      <td>10.5</td>\n      <td>3</td>\n      <td>54</td>\n      <td>0.4455</td>\n      <td>0.4455</td>\n    </tr>\n    <tr>\n      <th>1</th>\n      <td>empirical-high</td>\n      <td>greedy</td>\n      <td>3.5</td>\n      <td>2</td>\n      <td>5.123987</td>\n      <td>8.504359</td>\n      <td>14.0</td>\n      <td>5.495641</td>\n      <td>1.995641</td>\n      <td>4</td>\n      <td>24.5</td>\n      <td>7</td>\n      <td>54</td>\n      <td>0.5940</td>\n      <td>1.0395</td>\n    </tr>\n    <tr>\n      <th>2</th>\n      <td>empirical-high</td>\n      <td>greedy</td>\n      <td>3.5</td>\n      <td>3</td>\n      <td>5.495641</td>\n      <td>8.304777</td>\n      <td>14.0</td>\n      <td>5.695223</td>\n      <td>2.195223</td>\n      <td>4</td>\n      <td>38.5</td>\n      <td>11</td>\n      <td>54</td>\n      <td>0.5940</td>\n      <td>1.6335</td>\n    </tr>\n    <tr>\n      <th>3</th>\n      <td>empirical-high</td>\n      <td>greedy</td>\n      <td>3.5</td>\n      <td>4</td>\n      <td>5.695223</td>\n      <td>4.691111</td>\n      <td>10.5</td>\n      <td>5.808889</td>\n      <td>2.308889</td>\n      <td>3</td>\n      <td>49.0</td>\n      <td>14</td>\n      <td>54</td>\n      <td>0.4455</td>\n      <td>2.0790</td>\n    </tr>\n    <tr>\n      <th>4</th>\n      <td>empirical-high</td>\n      <td>greedy</td>\n      <td>3.5</td>\n      <td>5</td>\n      <td>5.808889</td>\n      <td>5.052763</td>\n      <td>10.5</td>\n      <td>5.447237</td>\n      <td>1.947237</td>\n      <td>3</td>\n      <td>59.5</td>\n      <td>17</td>\n      <td>54</td>\n      <td>0.4455</td>\n      <td>2.5245</td>\n    </tr>\n    <tr>\n      <th>...</th>\n      <td>...</td>\n      <td>...</td>\n      <td>...</td>\n      <td>...</td>\n      <td>...</td>\n      <td>...</td>\n      <td>...</td>\n      <td>...</td>\n      <td>...</td>\n      <td>...</td>\n      <td>...</td>\n      <td>...</td>\n      <td>...</td>\n      <td>...</td>\n      <td>...</td>\n    </tr>\n    <tr>\n      <th>1295995</th>\n      <td>empirical-high</td>\n      <td>greedy</td>\n      <td>0.5</td>\n      <td>116</td>\n      <td>0.546616</td>\n      <td>4.828851</td>\n      <td>5.5</td>\n      <td>0.671149</td>\n      <td>0.171149</td>\n      <td>11</td>\n      <td>713.5</td>\n      <td>1427</td>\n      <td>12</td>\n      <td>0.1485</td>\n      <td>19.2645</td>\n    </tr>\n    <tr>\n      <th>1295996</th>\n      <td>empirical-high</td>\n      <td>greedy</td>\n      <td>0.5</td>\n      <td>117</td>\n      <td>0.671149</td>\n      <td>3.943577</td>\n      <td>4.5</td>\n      <td>0.556423</td>\n      <td>0.056423</td>\n      <td>9</td>\n      <td>718.0</td>\n      <td>1436</td>\n      <td>12</td>\n      <td>0.1215</td>\n      <td>19.3860</td>\n    </tr>\n    <tr>\n      <th>1295997</th>\n      <td>empirical-high</td>\n      <td>greedy</td>\n      <td>0.5</td>\n      <td>118</td>\n      <td>0.556423</td>\n      <td>5.770487</td>\n      <td>6.5</td>\n      <td>0.729513</td>\n      <td>0.229513</td>\n      <td>13</td>\n      <td>724.5</td>\n      <td>1449</td>\n      <td>12</td>\n      <td>0.1755</td>\n      <td>19.5615</td>\n    </tr>\n    <tr>\n      <th>1295998</th>\n      <td>empirical-high</td>\n      <td>greedy</td>\n      <td>0.5</td>\n      <td>119</td>\n      <td>0.729513</td>\n      <td>4.790592</td>\n      <td>5.5</td>\n      <td>0.709408</td>\n      <td>0.209408</td>\n      <td>11</td>\n      <td>730.0</td>\n      <td>1460</td>\n      <td>12</td>\n      <td>0.1485</td>\n      <td>19.7100</td>\n    </tr>\n    <tr>\n      <th>1295999</th>\n      <td>empirical-high</td>\n      <td>greedy</td>\n      <td>0.5</td>\n      <td>120</td>\n      <td>0.709408</td>\n      <td>2.180935</td>\n      <td>3.0</td>\n      <td>0.819065</td>\n      <td>0.319065</td>\n      <td>6</td>\n      <td>733.0</td>\n      <td>1466</td>\n      <td>12</td>\n      <td>0.0810</td>\n      <td>19.7910</td>\n    </tr>\n  </tbody>\n</table>\n<p>1296000 rows × 15 columns</p>\n</div>"
     },
     "execution_count": 12,
     "metadata": {},
     "output_type": "execute_result"
    }
   ],
   "source": [
    "from typing import Tuple\n",
    "from tqdm.notebook import tqdm\n",
    "import multiprocess as mp\n",
    "import shutil\n",
    "\n",
    "result_path = \"./sampling_scaling_rtt.gzip\"\n",
    "combs = set(itertools.product(timing_models.keys(), sampling_schemes.keys(), rtts, range(1, runs_per_model + 1)))\n",
    "\n",
    "# only calculate missing results\n",
    "results = deque()\n",
    "try:\n",
    "    old_results = pd.read_parquet(result_path)\n",
    "    existing_combinations = set(old_results[[\"timing_model\", \"sampling_scheme\", \"rtt\", \"repetition\"]].itertuples(index=False))\n",
    "    shutil.rmtree(result_path)\n",
    "    results.append(old_results)\n",
    "except FileNotFoundError:\n",
    "    existing_combinations = set()\n",
    "\n",
    "combs.difference_update(existing_combinations)\n",
    "if len(combs) == 0:\n",
    "    print(\"No missing combinations.\")\n",
    "else:\n",
    "    # noinspection PyUnresolvedReferences\n",
    "    with tqdm(total=len(combs), bar_format=\"{l_bar}{bar}{n_fmt}/{total_fmt} [Time: {elapsed}]\") as bar, mp.Pool(os.cpu_count() - 2) as pool:\n",
    "        bar.set_description(\"Running timing model/sampling scheme combinations...\")\n",
    "\n",
    "        def make_callback(cmb: Tuple[str, str, float]) -> Callable[[...], None]:\n",
    "            def _cb(*args, **kwargs) -> None:\n",
    "                bar.update()\n",
    "                bar.set_description(f\"Running timing model/sampling scheme combinations...\")\n",
    "\n",
    "            return _cb\n",
    "\n",
    "        procs = [\n",
    "            pool.apply_async(run_combination, args=c, callback=make_callback(c)) for c in combs\n",
    "        ]\n",
    "\n",
    "        for p in procs:\n",
    "            results.append(p.get())\n",
    "\n",
    "results = pd.concat(results, ignore_index=True)\n",
    "\n",
    "results[\"timing_model\"] = results[\"timing_model\"].astype(\n",
    "    pd.CategoricalDtype([\"fitted-naive\", \"empirical-low\", \"empirical-high\", \"theoretical-low\", \"theoretical-high\"], ordered=True)\n",
    ")\n",
    "results[\"sampling_scheme\"] = results[\"sampling_scheme\"].astype(\n",
    "    pd.CategoricalDtype(sampling_schemes.keys(), ordered=False)\n",
    ")\n",
    "results.to_parquet(result_path, partition_cols=[\"timing_model\", \"sampling_scheme\"], compression=\"gzip\")\n",
    "results"
   ],
   "metadata": {
    "collapsed": false
   }
  },
  {
   "cell_type": "code",
   "execution_count": 12,
   "outputs": [],
   "source": [],
   "metadata": {
    "collapsed": false
   }
  }
 ],
 "metadata": {
  "kernelspec": {
   "display_name": "Python 3",
   "language": "python",
   "name": "python3"
  },
  "language_info": {
   "codemirror_mode": {
    "name": "ipython",
    "version": 2
   },
   "file_extension": ".py",
   "mimetype": "text/x-python",
   "name": "python",
   "nbconvert_exporter": "python",
   "pygments_lexer": "ipython2",
   "version": "2.7.6"
  }
 },
 "nbformat": 4,
 "nbformat_minor": 0
}
