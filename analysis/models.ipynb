{
 "cells": [
  {
   "cell_type": "code",
   "execution_count": 77,
   "metadata": {
    "collapsed": true
   },
   "outputs": [
    {
     "data": {
      "text/plain": "      run_id  seq                               neuroticism   impairment  \\\n0     134146    1  [0.3333333333333333, 0.6666666666666666)  [-inf, 1.0)   \n1     134146    2  [0.3333333333333333, 0.6666666666666666)  [-inf, 1.0)   \n2     134146    3  [0.3333333333333333, 0.6666666666666666)  [-inf, 1.0)   \n3     134146    4  [0.3333333333333333, 0.6666666666666666)  [-inf, 1.0)   \n4     134146    5  [0.3333333333333333, 0.6666666666666666)  [-inf, 1.0)   \n...      ...  ...                                       ...          ...   \n6715  137353  164  [0.3333333333333333, 0.6666666666666666)  [-inf, 1.0)   \n6716  137353  165  [0.3333333333333333, 0.6666666666666666)  [-inf, 1.0)   \n6717  137353  166  [0.3333333333333333, 0.6666666666666666)  [-inf, 1.0)   \n6718  137353  167  [0.3333333333333333, 0.6666666666666666)  [-inf, 1.0)   \n6719  137353  168  [0.3333333333333333, 0.6666666666666666)  [-inf, 1.0)   \n\n      next_exec_time    transition     duration  \n0              2.956  NoTransition   [0.0, 5.0)  \n1              5.443  NoTransition   [0.0, 5.0)  \n2              5.206  NoTransition   [0.0, 5.0)  \n3              4.783  NoTransition   [0.0, 5.0)  \n4              2.760  NoTransition  [5.0, 10.0)  \n...              ...           ...          ...  \n6715           4.722  Higher2Lower  [5.0, 10.0)  \n6716           3.475  Higher2Lower  [5.0, 10.0)  \n6717           2.296  Higher2Lower  [10.0, inf)  \n6718           4.608  Higher2Lower  [10.0, inf)  \n6719             NaN  Higher2Lower  [10.0, inf)  \n\n[6720 rows x 7 columns]",
      "text/html": "<div>\n<style scoped>\n    .dataframe tbody tr th:only-of-type {\n        vertical-align: middle;\n    }\n\n    .dataframe tbody tr th {\n        vertical-align: top;\n    }\n\n    .dataframe thead th {\n        text-align: right;\n    }\n</style>\n<table border=\"1\" class=\"dataframe\">\n  <thead>\n    <tr style=\"text-align: right;\">\n      <th></th>\n      <th>run_id</th>\n      <th>seq</th>\n      <th>neuroticism</th>\n      <th>impairment</th>\n      <th>next_exec_time</th>\n      <th>transition</th>\n      <th>duration</th>\n    </tr>\n  </thead>\n  <tbody>\n    <tr>\n      <th>0</th>\n      <td>134146</td>\n      <td>1</td>\n      <td>[0.3333333333333333, 0.6666666666666666)</td>\n      <td>[-inf, 1.0)</td>\n      <td>2.956</td>\n      <td>NoTransition</td>\n      <td>[0.0, 5.0)</td>\n    </tr>\n    <tr>\n      <th>1</th>\n      <td>134146</td>\n      <td>2</td>\n      <td>[0.3333333333333333, 0.6666666666666666)</td>\n      <td>[-inf, 1.0)</td>\n      <td>5.443</td>\n      <td>NoTransition</td>\n      <td>[0.0, 5.0)</td>\n    </tr>\n    <tr>\n      <th>2</th>\n      <td>134146</td>\n      <td>3</td>\n      <td>[0.3333333333333333, 0.6666666666666666)</td>\n      <td>[-inf, 1.0)</td>\n      <td>5.206</td>\n      <td>NoTransition</td>\n      <td>[0.0, 5.0)</td>\n    </tr>\n    <tr>\n      <th>3</th>\n      <td>134146</td>\n      <td>4</td>\n      <td>[0.3333333333333333, 0.6666666666666666)</td>\n      <td>[-inf, 1.0)</td>\n      <td>4.783</td>\n      <td>NoTransition</td>\n      <td>[0.0, 5.0)</td>\n    </tr>\n    <tr>\n      <th>4</th>\n      <td>134146</td>\n      <td>5</td>\n      <td>[0.3333333333333333, 0.6666666666666666)</td>\n      <td>[-inf, 1.0)</td>\n      <td>2.760</td>\n      <td>NoTransition</td>\n      <td>[5.0, 10.0)</td>\n    </tr>\n    <tr>\n      <th>...</th>\n      <td>...</td>\n      <td>...</td>\n      <td>...</td>\n      <td>...</td>\n      <td>...</td>\n      <td>...</td>\n      <td>...</td>\n    </tr>\n    <tr>\n      <th>6715</th>\n      <td>137353</td>\n      <td>164</td>\n      <td>[0.3333333333333333, 0.6666666666666666)</td>\n      <td>[-inf, 1.0)</td>\n      <td>4.722</td>\n      <td>Higher2Lower</td>\n      <td>[5.0, 10.0)</td>\n    </tr>\n    <tr>\n      <th>6716</th>\n      <td>137353</td>\n      <td>165</td>\n      <td>[0.3333333333333333, 0.6666666666666666)</td>\n      <td>[-inf, 1.0)</td>\n      <td>3.475</td>\n      <td>Higher2Lower</td>\n      <td>[5.0, 10.0)</td>\n    </tr>\n    <tr>\n      <th>6717</th>\n      <td>137353</td>\n      <td>166</td>\n      <td>[0.3333333333333333, 0.6666666666666666)</td>\n      <td>[-inf, 1.0)</td>\n      <td>2.296</td>\n      <td>Higher2Lower</td>\n      <td>[10.0, inf)</td>\n    </tr>\n    <tr>\n      <th>6718</th>\n      <td>137353</td>\n      <td>167</td>\n      <td>[0.3333333333333333, 0.6666666666666666)</td>\n      <td>[-inf, 1.0)</td>\n      <td>4.608</td>\n      <td>Higher2Lower</td>\n      <td>[10.0, inf)</td>\n    </tr>\n    <tr>\n      <th>6719</th>\n      <td>137353</td>\n      <td>168</td>\n      <td>[0.3333333333333333, 0.6666666666666666)</td>\n      <td>[-inf, 1.0)</td>\n      <td>NaN</td>\n      <td>Higher2Lower</td>\n      <td>[10.0, inf)</td>\n    </tr>\n  </tbody>\n</table>\n<p>6720 rows × 7 columns</p>\n</div>"
     },
     "execution_count": 77,
     "metadata": {},
     "output_type": "execute_result"
    }
   ],
   "source": [
    "import itertools\n",
    "import multiprocessing as mp\n",
    "\n",
    "from tqdm.notebook import tqdm\n",
    "\n",
    "import edgedroid.data as e_data\n",
    "import edgedroid.util as util\n",
    "from edgedroid.execution_times import *\n",
    "\n",
    "raw_data_params = e_data.load_default_exec_time_data()\n",
    "data = preprocess_data(*raw_data_params)\n",
    "raw_data, *_ = raw_data_params\n",
    "data"
   ]
  },
  {
   "cell_type": "code",
   "execution_count": 78,
   "outputs": [
    {
     "data": {
      "text/plain": "      run_id  seq  exec_time  delay  neuroticism\n0     134146    1      4.433    0.0        0.375\n1     134146    2      2.956    0.0        0.375\n2     134146    3      5.443    0.0        0.375\n3     134146    4      5.206    0.0        0.375\n4     134146    5      4.783    0.0        0.375\n...      ...  ...        ...    ...          ...\n6715  137353  164      6.501    0.0        0.625\n6716  137353  165      4.722    0.0        0.625\n6717  137353  166      3.475    0.0        0.625\n6718  137353  167      2.296    0.0        0.625\n6719  137353  168      4.608    0.0        0.625\n\n[6720 rows x 5 columns]",
      "text/html": "<div>\n<style scoped>\n    .dataframe tbody tr th:only-of-type {\n        vertical-align: middle;\n    }\n\n    .dataframe tbody tr th {\n        vertical-align: top;\n    }\n\n    .dataframe thead th {\n        text-align: right;\n    }\n</style>\n<table border=\"1\" class=\"dataframe\">\n  <thead>\n    <tr style=\"text-align: right;\">\n      <th></th>\n      <th>run_id</th>\n      <th>seq</th>\n      <th>exec_time</th>\n      <th>delay</th>\n      <th>neuroticism</th>\n    </tr>\n  </thead>\n  <tbody>\n    <tr>\n      <th>0</th>\n      <td>134146</td>\n      <td>1</td>\n      <td>4.433</td>\n      <td>0.0</td>\n      <td>0.375</td>\n    </tr>\n    <tr>\n      <th>1</th>\n      <td>134146</td>\n      <td>2</td>\n      <td>2.956</td>\n      <td>0.0</td>\n      <td>0.375</td>\n    </tr>\n    <tr>\n      <th>2</th>\n      <td>134146</td>\n      <td>3</td>\n      <td>5.443</td>\n      <td>0.0</td>\n      <td>0.375</td>\n    </tr>\n    <tr>\n      <th>3</th>\n      <td>134146</td>\n      <td>4</td>\n      <td>5.206</td>\n      <td>0.0</td>\n      <td>0.375</td>\n    </tr>\n    <tr>\n      <th>4</th>\n      <td>134146</td>\n      <td>5</td>\n      <td>4.783</td>\n      <td>0.0</td>\n      <td>0.375</td>\n    </tr>\n    <tr>\n      <th>...</th>\n      <td>...</td>\n      <td>...</td>\n      <td>...</td>\n      <td>...</td>\n      <td>...</td>\n    </tr>\n    <tr>\n      <th>6715</th>\n      <td>137353</td>\n      <td>164</td>\n      <td>6.501</td>\n      <td>0.0</td>\n      <td>0.625</td>\n    </tr>\n    <tr>\n      <th>6716</th>\n      <td>137353</td>\n      <td>165</td>\n      <td>4.722</td>\n      <td>0.0</td>\n      <td>0.625</td>\n    </tr>\n    <tr>\n      <th>6717</th>\n      <td>137353</td>\n      <td>166</td>\n      <td>3.475</td>\n      <td>0.0</td>\n      <td>0.625</td>\n    </tr>\n    <tr>\n      <th>6718</th>\n      <td>137353</td>\n      <td>167</td>\n      <td>2.296</td>\n      <td>0.0</td>\n      <td>0.625</td>\n    </tr>\n    <tr>\n      <th>6719</th>\n      <td>137353</td>\n      <td>168</td>\n      <td>4.608</td>\n      <td>0.0</td>\n      <td>0.625</td>\n    </tr>\n  </tbody>\n</table>\n<p>6720 rows × 5 columns</p>\n</div>"
     },
     "execution_count": 78,
     "metadata": {},
     "output_type": "execute_result"
    }
   ],
   "source": [
    "raw_data"
   ],
   "metadata": {
    "collapsed": false,
    "pycharm": {
     "name": "#%%\n"
    }
   }
  },
  {
   "cell_type": "code",
   "execution_count": 84,
   "outputs": [
    {
     "data": {
      "text/plain": "TheoreticalExecutionTimeModel:   0%|          | 0/40 [00:00<?, ?it/s]",
      "application/vnd.jupyter.widget-view+json": {
       "version_major": 2,
       "version_minor": 0,
       "model_id": "ca6c06adf3d948798f4b9d5771ccfb81"
      }
     },
     "metadata": {},
     "output_type": "display_data"
    },
    {
     "data": {
      "text/plain": "EmpiricalExecutionTimeModel:   0%|          | 0/40 [00:00<?, ?it/s]",
      "application/vnd.jupyter.widget-view+json": {
       "version_major": 2,
       "version_minor": 0,
       "model_id": "5fc4328d7ec64cdd89cb63bcd8f23b55"
      }
     },
     "metadata": {},
     "output_type": "display_data"
    },
    {
     "name": "stdout",
     "output_type": "stream",
     "text": [
      "TheoreticalExecutionTimeModel --- mean = 1.268 | std = 3.467\n",
      "EmpiricalExecutionTimeModel --- mean = 1.300 | std = 3.424\n"
     ]
    }
   ],
   "source": [
    "# generate data for model\n",
    "\n",
    "num_traces = 100\n",
    "run_ids = raw_data.run_id.unique()\n",
    "run_len = len(raw_data[raw_data.run_id == np.random.choice(run_ids)].index)\n",
    "\n",
    "diff_vals = np.empty((len(run_ids), num_traces, run_len))\n",
    "results = {}\n",
    "\n",
    "with mp.Pool() as pool:\n",
    "    for model_cls in (TheoreticalExecutionTimeModel, EmpiricalExecutionTimeModel):\n",
    "        model_name = model_cls.__name__\n",
    "\n",
    "        for i, participant in tqdm(enumerate(run_ids),\n",
    "                                   total=len(run_ids),\n",
    "                                   desc=model_name,\n",
    "                                   leave=True):\n",
    "            # calculate average model deviation wrt to real data\n",
    "            # by generating num_traces for each experimental run,\n",
    "            # and then averaging the difference per step\n",
    "\n",
    "            raw_delays = raw_data[raw_data.run_id == participant].delay\n",
    "            neuro = raw_data[raw_data.run_id == participant].neuroticism.values[0]\n",
    "            raw_exec_times = raw_data[raw_data.run_id == participant].exec_time.to_numpy()\n",
    "\n",
    "            model = model_cls(data=data, neuroticism=neuro)\n",
    "\n",
    "            traces = np.array(pool.starmap(\n",
    "                util.gen_model_trace,\n",
    "                iterable=zip(itertools.repeat(raw_delays, num_traces),\n",
    "                             itertools.repeat(model))\n",
    "            ))[:, :-1]  # generated trace has one extra step at the end\n",
    "\n",
    "            # generate diff wrt real data\n",
    "            trace_diff = traces / raw_exec_times  # TODO: scale results?\n",
    "\n",
    "            for j, trace in enumerate(trace_diff):\n",
    "                diff_vals[i, j, :] = trace\n",
    "\n",
    "        results[model_name] = (np.mean(diff_vals), np.std(diff_vals))\n",
    "\n",
    "for model, (mean, std) in results.items():\n",
    "    print(f'{model} relative to empirical data --- mean = {mean:0.03f} | std = {std:0.03f}')"
   ],
   "metadata": {
    "collapsed": false,
    "pycharm": {
     "name": "#%%\n"
    }
   }
  },
  {
   "cell_type": "markdown",
   "source": [],
   "metadata": {
    "collapsed": false,
    "pycharm": {
     "name": "#%% md\n"
    }
   }
  }
 ],
 "metadata": {
  "kernelspec": {
   "display_name": "Python 3",
   "language": "python",
   "name": "python3"
  },
  "language_info": {
   "codemirror_mode": {
    "name": "ipython",
    "version": 2
   },
   "file_extension": ".py",
   "mimetype": "text/x-python",
   "name": "python",
   "nbconvert_exporter": "python",
   "pygments_lexer": "ipython2",
   "version": "2.7.6"
  }
 },
 "nbformat": 4,
 "nbformat_minor": 0
}