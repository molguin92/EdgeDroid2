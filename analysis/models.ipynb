{
 "cells": [
  {
   "cell_type": "code",
   "execution_count": 1,
   "metadata": {
    "collapsed": true
   },
   "outputs": [
    {
     "data": {
      "text/plain": "      run_id  seq  next_exec_time  delay  \\\n0     134146    1           4.433    0.0   \n1     134146    2           2.956    0.0   \n2     134146    3           5.443    0.0   \n3     134146    4           5.206    0.0   \n4     134146    5           4.783    0.0   \n...      ...  ...             ...    ...   \n6715  137353  164           6.501    0.0   \n6716  137353  165           4.722    0.0   \n6717  137353  166           3.475    0.0   \n6718  137353  167           2.296    0.0   \n6719  137353  168           4.608    0.0   \n\n                                   neuroticism  neuroticism_raw   impairment  \\\n0     [0.3333333333333333, 0.6666666666666666)            0.375  [-inf, 1.0)   \n1     [0.3333333333333333, 0.6666666666666666)            0.375  [-inf, 1.0)   \n2     [0.3333333333333333, 0.6666666666666666)            0.375  [-inf, 1.0)   \n3     [0.3333333333333333, 0.6666666666666666)            0.375  [-inf, 1.0)   \n4     [0.3333333333333333, 0.6666666666666666)            0.375  [-inf, 1.0)   \n...                                        ...              ...          ...   \n6715  [0.3333333333333333, 0.6666666666666666)            0.625  [-inf, 1.0)   \n6716  [0.3333333333333333, 0.6666666666666666)            0.625  [-inf, 1.0)   \n6717  [0.3333333333333333, 0.6666666666666666)            0.625  [-inf, 1.0)   \n6718  [0.3333333333333333, 0.6666666666666666)            0.625  [-inf, 1.0)   \n6719  [0.3333333333333333, 0.6666666666666666)            0.625  [-inf, 1.0)   \n\n        transition     duration  duration_raw  \n0     NoTransition   [0.0, 5.0)             1  \n1     NoTransition   [0.0, 5.0)             2  \n2     NoTransition   [0.0, 5.0)             3  \n3     NoTransition   [0.0, 5.0)             4  \n4     NoTransition  [5.0, 10.0)             5  \n...            ...          ...           ...  \n6715  NoTransition   [0.0, 5.0)             3  \n6716  NoTransition   [0.0, 5.0)             4  \n6717  NoTransition  [5.0, 10.0)             5  \n6718  NoTransition  [5.0, 10.0)             6  \n6719  NoTransition  [5.0, 10.0)             7  \n\n[6720 rows x 10 columns]",
      "text/html": "<div>\n<style scoped>\n    .dataframe tbody tr th:only-of-type {\n        vertical-align: middle;\n    }\n\n    .dataframe tbody tr th {\n        vertical-align: top;\n    }\n\n    .dataframe thead th {\n        text-align: right;\n    }\n</style>\n<table border=\"1\" class=\"dataframe\">\n  <thead>\n    <tr style=\"text-align: right;\">\n      <th></th>\n      <th>run_id</th>\n      <th>seq</th>\n      <th>next_exec_time</th>\n      <th>delay</th>\n      <th>neuroticism</th>\n      <th>neuroticism_raw</th>\n      <th>impairment</th>\n      <th>transition</th>\n      <th>duration</th>\n      <th>duration_raw</th>\n    </tr>\n  </thead>\n  <tbody>\n    <tr>\n      <th>0</th>\n      <td>134146</td>\n      <td>1</td>\n      <td>4.433</td>\n      <td>0.0</td>\n      <td>[0.3333333333333333, 0.6666666666666666)</td>\n      <td>0.375</td>\n      <td>[-inf, 1.0)</td>\n      <td>NoTransition</td>\n      <td>[0.0, 5.0)</td>\n      <td>1</td>\n    </tr>\n    <tr>\n      <th>1</th>\n      <td>134146</td>\n      <td>2</td>\n      <td>2.956</td>\n      <td>0.0</td>\n      <td>[0.3333333333333333, 0.6666666666666666)</td>\n      <td>0.375</td>\n      <td>[-inf, 1.0)</td>\n      <td>NoTransition</td>\n      <td>[0.0, 5.0)</td>\n      <td>2</td>\n    </tr>\n    <tr>\n      <th>2</th>\n      <td>134146</td>\n      <td>3</td>\n      <td>5.443</td>\n      <td>0.0</td>\n      <td>[0.3333333333333333, 0.6666666666666666)</td>\n      <td>0.375</td>\n      <td>[-inf, 1.0)</td>\n      <td>NoTransition</td>\n      <td>[0.0, 5.0)</td>\n      <td>3</td>\n    </tr>\n    <tr>\n      <th>3</th>\n      <td>134146</td>\n      <td>4</td>\n      <td>5.206</td>\n      <td>0.0</td>\n      <td>[0.3333333333333333, 0.6666666666666666)</td>\n      <td>0.375</td>\n      <td>[-inf, 1.0)</td>\n      <td>NoTransition</td>\n      <td>[0.0, 5.0)</td>\n      <td>4</td>\n    </tr>\n    <tr>\n      <th>4</th>\n      <td>134146</td>\n      <td>5</td>\n      <td>4.783</td>\n      <td>0.0</td>\n      <td>[0.3333333333333333, 0.6666666666666666)</td>\n      <td>0.375</td>\n      <td>[-inf, 1.0)</td>\n      <td>NoTransition</td>\n      <td>[5.0, 10.0)</td>\n      <td>5</td>\n    </tr>\n    <tr>\n      <th>...</th>\n      <td>...</td>\n      <td>...</td>\n      <td>...</td>\n      <td>...</td>\n      <td>...</td>\n      <td>...</td>\n      <td>...</td>\n      <td>...</td>\n      <td>...</td>\n      <td>...</td>\n    </tr>\n    <tr>\n      <th>6715</th>\n      <td>137353</td>\n      <td>164</td>\n      <td>6.501</td>\n      <td>0.0</td>\n      <td>[0.3333333333333333, 0.6666666666666666)</td>\n      <td>0.625</td>\n      <td>[-inf, 1.0)</td>\n      <td>NoTransition</td>\n      <td>[0.0, 5.0)</td>\n      <td>3</td>\n    </tr>\n    <tr>\n      <th>6716</th>\n      <td>137353</td>\n      <td>165</td>\n      <td>4.722</td>\n      <td>0.0</td>\n      <td>[0.3333333333333333, 0.6666666666666666)</td>\n      <td>0.625</td>\n      <td>[-inf, 1.0)</td>\n      <td>NoTransition</td>\n      <td>[0.0, 5.0)</td>\n      <td>4</td>\n    </tr>\n    <tr>\n      <th>6717</th>\n      <td>137353</td>\n      <td>166</td>\n      <td>3.475</td>\n      <td>0.0</td>\n      <td>[0.3333333333333333, 0.6666666666666666)</td>\n      <td>0.625</td>\n      <td>[-inf, 1.0)</td>\n      <td>NoTransition</td>\n      <td>[5.0, 10.0)</td>\n      <td>5</td>\n    </tr>\n    <tr>\n      <th>6718</th>\n      <td>137353</td>\n      <td>167</td>\n      <td>2.296</td>\n      <td>0.0</td>\n      <td>[0.3333333333333333, 0.6666666666666666)</td>\n      <td>0.625</td>\n      <td>[-inf, 1.0)</td>\n      <td>NoTransition</td>\n      <td>[5.0, 10.0)</td>\n      <td>6</td>\n    </tr>\n    <tr>\n      <th>6719</th>\n      <td>137353</td>\n      <td>168</td>\n      <td>4.608</td>\n      <td>0.0</td>\n      <td>[0.3333333333333333, 0.6666666666666666)</td>\n      <td>0.625</td>\n      <td>[-inf, 1.0)</td>\n      <td>NoTransition</td>\n      <td>[5.0, 10.0)</td>\n      <td>7</td>\n    </tr>\n  </tbody>\n</table>\n<p>6720 rows × 10 columns</p>\n</div>"
     },
     "execution_count": 1,
     "metadata": {},
     "output_type": "execute_result"
    }
   ],
   "source": [
    "%matplotlib inline\n",
    "import functools\n",
    "import itertools\n",
    "import multiprocess as mp\n",
    "\n",
    "import modin.pandas as pd\n",
    "from tqdm.notebook import tqdm, trange\n",
    "import seaborn as sns\n",
    "import matplotlib.pyplot as plt\n",
    "\n",
    "import edgedroid.data as e_data\n",
    "import edgedroid.util as util\n",
    "from edgedroid.execution_times import *\n",
    "from mpl_toolkits import mplot3d\n",
    "\n",
    "fade_distance = 4\n",
    "raw_data_params = e_data.load_default_exec_time_data()\n",
    "data = preprocess_data(*raw_data_params, transition_fade_distance=fade_distance)\n",
    "raw_data, *_ = raw_data_params\n",
    "data"
   ]
  },
  {
   "cell_type": "code",
   "execution_count": 2,
   "outputs": [
    {
     "data": {
      "text/plain": "                                      count      mean       std    min  \\\nimpairment  transition   duration                                        \n[-inf, 1.0) Higher2Lower [0.0, 5.0)   585.0  5.926154  2.734934  0.032   \n            NoTransition [0.0, 5.0)   670.0  5.487490  2.537998  1.867   \n                         [5.0, 10.0)  513.0  4.981975  2.527118  1.847   \n                         [10.0, inf)  172.0  4.637052  2.525268  1.839   \n[1.0, 2.0)  Higher2Lower [0.0, 5.0)   373.0  6.417748  2.966883  1.739   \n            Lower2Higher [0.0, 5.0)   104.0  6.205846  3.067246  2.090   \n            NoTransition [0.0, 5.0)   320.0  5.247666  2.276933  1.218   \n                         [5.0, 10.0)  400.0  5.722545  3.041350  1.440   \n                         [10.0, inf)  720.0  5.518681  2.487925  0.949   \n[2.0, inf)  Lower2Higher [0.0, 5.0)   946.0  6.595813  3.857277  0.214   \n            NoTransition [0.0, 5.0)   640.0  6.042945  3.221148  0.175   \n                         [5.0, 10.0)  560.0  6.638246  4.004506  0.049   \n                         [10.0, inf)  717.0  6.201247  3.667927  0.151   \n\n                                          25%     50%      75%     max  \nimpairment  transition   duration                                       \n[-inf, 1.0) Higher2Lower [0.0, 5.0)   4.33800  5.5420  6.89600  37.923  \n            NoTransition [0.0, 5.0)   3.85025  4.9995  6.52650  27.125  \n                         [5.0, 10.0)  3.28800  4.4500  5.95400  29.495  \n                         [10.0, inf)  2.87900  3.9505  5.33100  16.520  \n[1.0, 2.0)  Higher2Lower [0.0, 5.0)   4.65000  5.8920  7.67000  29.504  \n            Lower2Higher [0.0, 5.0)   4.33450  5.8590  7.20475  26.269  \n            NoTransition [0.0, 5.0)   3.71150  4.7040  6.24925  16.438  \n                         [5.0, 10.0)  4.02950  5.3085  6.70150  41.629  \n                         [10.0, inf)  3.90825  5.1475  6.66500  22.326  \n[2.0, inf)  Lower2Higher [0.0, 5.0)   4.41725  5.8665  7.89275  56.017  \n            NoTransition [0.0, 5.0)   4.12700  5.3855  7.24425  32.815  \n                         [5.0, 10.0)  4.22450  5.8415  7.90950  47.330  \n                         [10.0, inf)  4.00000  5.4430  7.44100  34.329  ",
      "text/html": "<div>\n<style scoped>\n    .dataframe tbody tr th:only-of-type {\n        vertical-align: middle;\n    }\n\n    .dataframe tbody tr th {\n        vertical-align: top;\n    }\n\n    .dataframe thead th {\n        text-align: right;\n    }\n</style>\n<table border=\"1\" class=\"dataframe\">\n  <thead>\n    <tr style=\"text-align: right;\">\n      <th></th>\n      <th></th>\n      <th></th>\n      <th>count</th>\n      <th>mean</th>\n      <th>std</th>\n      <th>min</th>\n      <th>25%</th>\n      <th>50%</th>\n      <th>75%</th>\n      <th>max</th>\n    </tr>\n    <tr>\n      <th>impairment</th>\n      <th>transition</th>\n      <th>duration</th>\n      <th></th>\n      <th></th>\n      <th></th>\n      <th></th>\n      <th></th>\n      <th></th>\n      <th></th>\n      <th></th>\n    </tr>\n  </thead>\n  <tbody>\n    <tr>\n      <th rowspan=\"4\" valign=\"top\">[-inf, 1.0)</th>\n      <th>Higher2Lower</th>\n      <th>[0.0, 5.0)</th>\n      <td>585.0</td>\n      <td>5.926154</td>\n      <td>2.734934</td>\n      <td>0.032</td>\n      <td>4.33800</td>\n      <td>5.5420</td>\n      <td>6.89600</td>\n      <td>37.923</td>\n    </tr>\n    <tr>\n      <th rowspan=\"3\" valign=\"top\">NoTransition</th>\n      <th>[0.0, 5.0)</th>\n      <td>670.0</td>\n      <td>5.487490</td>\n      <td>2.537998</td>\n      <td>1.867</td>\n      <td>3.85025</td>\n      <td>4.9995</td>\n      <td>6.52650</td>\n      <td>27.125</td>\n    </tr>\n    <tr>\n      <th>[5.0, 10.0)</th>\n      <td>513.0</td>\n      <td>4.981975</td>\n      <td>2.527118</td>\n      <td>1.847</td>\n      <td>3.28800</td>\n      <td>4.4500</td>\n      <td>5.95400</td>\n      <td>29.495</td>\n    </tr>\n    <tr>\n      <th>[10.0, inf)</th>\n      <td>172.0</td>\n      <td>4.637052</td>\n      <td>2.525268</td>\n      <td>1.839</td>\n      <td>2.87900</td>\n      <td>3.9505</td>\n      <td>5.33100</td>\n      <td>16.520</td>\n    </tr>\n    <tr>\n      <th rowspan=\"5\" valign=\"top\">[1.0, 2.0)</th>\n      <th>Higher2Lower</th>\n      <th>[0.0, 5.0)</th>\n      <td>373.0</td>\n      <td>6.417748</td>\n      <td>2.966883</td>\n      <td>1.739</td>\n      <td>4.65000</td>\n      <td>5.8920</td>\n      <td>7.67000</td>\n      <td>29.504</td>\n    </tr>\n    <tr>\n      <th>Lower2Higher</th>\n      <th>[0.0, 5.0)</th>\n      <td>104.0</td>\n      <td>6.205846</td>\n      <td>3.067246</td>\n      <td>2.090</td>\n      <td>4.33450</td>\n      <td>5.8590</td>\n      <td>7.20475</td>\n      <td>26.269</td>\n    </tr>\n    <tr>\n      <th rowspan=\"3\" valign=\"top\">NoTransition</th>\n      <th>[0.0, 5.0)</th>\n      <td>320.0</td>\n      <td>5.247666</td>\n      <td>2.276933</td>\n      <td>1.218</td>\n      <td>3.71150</td>\n      <td>4.7040</td>\n      <td>6.24925</td>\n      <td>16.438</td>\n    </tr>\n    <tr>\n      <th>[5.0, 10.0)</th>\n      <td>400.0</td>\n      <td>5.722545</td>\n      <td>3.041350</td>\n      <td>1.440</td>\n      <td>4.02950</td>\n      <td>5.3085</td>\n      <td>6.70150</td>\n      <td>41.629</td>\n    </tr>\n    <tr>\n      <th>[10.0, inf)</th>\n      <td>720.0</td>\n      <td>5.518681</td>\n      <td>2.487925</td>\n      <td>0.949</td>\n      <td>3.90825</td>\n      <td>5.1475</td>\n      <td>6.66500</td>\n      <td>22.326</td>\n    </tr>\n    <tr>\n      <th rowspan=\"4\" valign=\"top\">[2.0, inf)</th>\n      <th>Lower2Higher</th>\n      <th>[0.0, 5.0)</th>\n      <td>946.0</td>\n      <td>6.595813</td>\n      <td>3.857277</td>\n      <td>0.214</td>\n      <td>4.41725</td>\n      <td>5.8665</td>\n      <td>7.89275</td>\n      <td>56.017</td>\n    </tr>\n    <tr>\n      <th rowspan=\"3\" valign=\"top\">NoTransition</th>\n      <th>[0.0, 5.0)</th>\n      <td>640.0</td>\n      <td>6.042945</td>\n      <td>3.221148</td>\n      <td>0.175</td>\n      <td>4.12700</td>\n      <td>5.3855</td>\n      <td>7.24425</td>\n      <td>32.815</td>\n    </tr>\n    <tr>\n      <th>[5.0, 10.0)</th>\n      <td>560.0</td>\n      <td>6.638246</td>\n      <td>4.004506</td>\n      <td>0.049</td>\n      <td>4.22450</td>\n      <td>5.8415</td>\n      <td>7.90950</td>\n      <td>47.330</td>\n    </tr>\n    <tr>\n      <th>[10.0, inf)</th>\n      <td>717.0</td>\n      <td>6.201247</td>\n      <td>3.667927</td>\n      <td>0.151</td>\n      <td>4.00000</td>\n      <td>5.4430</td>\n      <td>7.44100</td>\n      <td>34.329</td>\n    </tr>\n  </tbody>\n</table>\n</div>"
     },
     "execution_count": 2,
     "metadata": {},
     "output_type": "execute_result"
    }
   ],
   "source": [
    "data.groupby([\"impairment\", \"transition\", \"duration\"])[\"next_exec_time\"].describe()"
   ],
   "metadata": {
    "collapsed": false,
    "pycharm": {
     "name": "#%%\n"
    }
   }
  },
  {
   "cell_type": "code",
   "execution_count": 3,
   "outputs": [
    {
     "data": {
      "text/plain": "      run_id  seq  exec_time  delay  neuroticism\n0     134146    1      4.433    0.0        0.375\n1     134146    2      2.956    0.0        0.375\n2     134146    3      5.443    0.0        0.375\n3     134146    4      5.206    0.0        0.375\n4     134146    5      4.783    0.0        0.375\n...      ...  ...        ...    ...          ...\n6715  137353  164      6.501    0.0        0.625\n6716  137353  165      4.722    0.0        0.625\n6717  137353  166      3.475    0.0        0.625\n6718  137353  167      2.296    0.0        0.625\n6719  137353  168      4.608    0.0        0.625\n\n[6720 rows x 5 columns]",
      "text/html": "<div>\n<style scoped>\n    .dataframe tbody tr th:only-of-type {\n        vertical-align: middle;\n    }\n\n    .dataframe tbody tr th {\n        vertical-align: top;\n    }\n\n    .dataframe thead th {\n        text-align: right;\n    }\n</style>\n<table border=\"1\" class=\"dataframe\">\n  <thead>\n    <tr style=\"text-align: right;\">\n      <th></th>\n      <th>run_id</th>\n      <th>seq</th>\n      <th>exec_time</th>\n      <th>delay</th>\n      <th>neuroticism</th>\n    </tr>\n  </thead>\n  <tbody>\n    <tr>\n      <th>0</th>\n      <td>134146</td>\n      <td>1</td>\n      <td>4.433</td>\n      <td>0.0</td>\n      <td>0.375</td>\n    </tr>\n    <tr>\n      <th>1</th>\n      <td>134146</td>\n      <td>2</td>\n      <td>2.956</td>\n      <td>0.0</td>\n      <td>0.375</td>\n    </tr>\n    <tr>\n      <th>2</th>\n      <td>134146</td>\n      <td>3</td>\n      <td>5.443</td>\n      <td>0.0</td>\n      <td>0.375</td>\n    </tr>\n    <tr>\n      <th>3</th>\n      <td>134146</td>\n      <td>4</td>\n      <td>5.206</td>\n      <td>0.0</td>\n      <td>0.375</td>\n    </tr>\n    <tr>\n      <th>4</th>\n      <td>134146</td>\n      <td>5</td>\n      <td>4.783</td>\n      <td>0.0</td>\n      <td>0.375</td>\n    </tr>\n    <tr>\n      <th>...</th>\n      <td>...</td>\n      <td>...</td>\n      <td>...</td>\n      <td>...</td>\n      <td>...</td>\n    </tr>\n    <tr>\n      <th>6715</th>\n      <td>137353</td>\n      <td>164</td>\n      <td>6.501</td>\n      <td>0.0</td>\n      <td>0.625</td>\n    </tr>\n    <tr>\n      <th>6716</th>\n      <td>137353</td>\n      <td>165</td>\n      <td>4.722</td>\n      <td>0.0</td>\n      <td>0.625</td>\n    </tr>\n    <tr>\n      <th>6717</th>\n      <td>137353</td>\n      <td>166</td>\n      <td>3.475</td>\n      <td>0.0</td>\n      <td>0.625</td>\n    </tr>\n    <tr>\n      <th>6718</th>\n      <td>137353</td>\n      <td>167</td>\n      <td>2.296</td>\n      <td>0.0</td>\n      <td>0.625</td>\n    </tr>\n    <tr>\n      <th>6719</th>\n      <td>137353</td>\n      <td>168</td>\n      <td>4.608</td>\n      <td>0.0</td>\n      <td>0.625</td>\n    </tr>\n  </tbody>\n</table>\n<p>6720 rows × 5 columns</p>\n</div>"
     },
     "execution_count": 3,
     "metadata": {},
     "output_type": "execute_result"
    }
   ],
   "source": [
    "raw_data"
   ],
   "metadata": {
    "collapsed": false,
    "pycharm": {
     "name": "#%%\n"
    }
   }
  },
  {
   "cell_type": "code",
   "execution_count": 4,
   "outputs": [
    {
     "data": {
      "text/plain": "TheoreticalExecutionTimeModel:   0%|          | 0/40 [00:00<?, ?it/s]",
      "application/vnd.jupyter.widget-view+json": {
       "version_major": 2,
       "version_minor": 0,
       "model_id": "c6589e36d37e4f5e88f204ef94545a0e"
      }
     },
     "metadata": {},
     "output_type": "display_data"
    },
    {
     "name": "stderr",
     "output_type": "stream",
     "text": [
      "Process ForkPoolWorker-5:\n",
      "Process ForkPoolWorker-6:\n",
      "Process ForkPoolWorker-7:\n",
      "Process ForkPoolWorker-3:\n",
      "Process ForkPoolWorker-12:\n",
      "Process ForkPoolWorker-9:\n",
      "Process ForkPoolWorker-11:\n",
      "Process ForkPoolWorker-4:\n",
      "Process ForkPoolWorker-8:\n",
      "\n",
      "KeyboardInterrupt\n",
      "\n"
     ]
    }
   ],
   "source": [
    "# generate data for model\n",
    "from typing import Type\n",
    "\n",
    "\n",
    "num_traces = 100\n",
    "run_ids = raw_data.run_id.unique()\n",
    "run_len = len(raw_data[raw_data.run_id == np.random.choice(run_ids)].index)\n",
    "\n",
    "with mp.Pool() as pool:\n",
    "    dfs = deque()\n",
    "\n",
    "    for model_cls in (TheoreticalExecutionTimeModel, EmpiricalExecutionTimeModel):\n",
    "        model_name = model_cls.__name__\n",
    "\n",
    "        for participant in tqdm(run_ids, desc=model_name, leave=True):\n",
    "            raw_delays = raw_data[raw_data.run_id == participant].delay\n",
    "            neuro = raw_data[raw_data.run_id == participant].neuroticism.values[0]\n",
    "\n",
    "            # model = model_cls(data=data, neuroticism=neuro)\n",
    "            for j, trace in enumerate(\n",
    "                pool.imap(\n",
    "                    lambda t: util.gen_model_trace(delays=t[0], model=t[1](data=t[2], neuroticism=t[3], transition_fade_distance=t[4])),\n",
    "                    zip(\n",
    "                        itertools.repeat(raw_delays, num_traces),\n",
    "                        itertools.repeat(model_cls),\n",
    "                        itertools.repeat(data),\n",
    "                        itertools.repeat(neuro),\n",
    "                        itertools.repeat(fade_distance)\n",
    "                    )\n",
    "                )\n",
    "            ):\n",
    "                trace[\"run_id\"] = participant\n",
    "                trace.index = trace.index.set_names([\"step_index\"])\n",
    "                trace[\"model\"] = model_name\n",
    "                dfs.append(trace.reset_index())\n",
    "\n",
    "results = pd.concat(dfs, ignore_index=True)"
   ],
   "metadata": {
    "collapsed": false,
    "pycharm": {
     "name": "#%%\n"
    }
   }
  },
  {
   "cell_type": "code",
   "execution_count": null,
   "outputs": [],
   "source": [
    "results"
   ],
   "metadata": {
    "collapsed": false,
    "pycharm": {
     "name": "#%%\n"
    }
   }
  },
  {
   "cell_type": "code",
   "execution_count": null,
   "outputs": [],
   "source": [
    "df1 = results.drop(columns=[col for col in results.columns\n",
    "                      if col not in ['step_index', 'model neuroticism (binned)',\n",
    "                      'latest impairment', 'latest transition', 'run_id',\n",
    "                      'current duration (binned)', 'exec_time', 'model']])\\\n",
    "    .rename(columns={\n",
    "        'step_index': 'seq',\n",
    "        'model neuroticism (binned)': 'neuroticism',\n",
    "        'latest impairment': 'impairment',\n",
    "        'latest transition': 'transition',\n",
    "        'current duration (binned)': 'duration',\n",
    "        'exec_time': 'next_exec_time'\n",
    "    }\n",
    ")\n",
    "df1"
   ],
   "metadata": {
    "collapsed": false,
    "pycharm": {
     "name": "#%%\n"
    }
   }
  },
  {
   "cell_type": "code",
   "execution_count": null,
   "outputs": [],
   "source": [
    "df2 = data.copy()\n",
    "df2[\"seq\"] -= 1\n",
    "df2[\"model\"] = \"Underlying data\"\n",
    "\n",
    "df2"
   ],
   "metadata": {
    "collapsed": false,
    "pycharm": {
     "name": "#%%\n"
    }
   }
  },
  {
   "cell_type": "code",
   "execution_count": null,
   "outputs": [],
   "source": [
    "exec_times = pd.concat((df1, df2), ignore_index=True)\n",
    "exec_times"
   ],
   "metadata": {
    "collapsed": false,
    "pycharm": {
     "name": "#%%\n"
    }
   }
  },
  {
   "cell_type": "code",
   "execution_count": null,
   "outputs": [],
   "source": [
    "_df = exec_times.copy()\n",
    "_df[\"state\"] = _df[[\"impairment\", \"transition\", \"duration\"]].apply(lambda r: tuple(r.values), axis=1)\n",
    "\n",
    "fg = sns.displot(\n",
    "    kind=\"kde\",\n",
    "    data=_df,\n",
    "    col=\"state\",\n",
    "    col_wrap=3,\n",
    "    x=\"next_exec_time\",\n",
    "    common_norm=False,\n",
    "    # common_bins=True,\n",
    "    # stat=\"density\",\n",
    "    hue=\"model\",\n",
    "    # bins=25,\n",
    ")\n",
    "plt.show()\n",
    "del _df\n",
    "\n",
    "# for g, df_sg in exec_times.groupby(['impairment', 'transition', 'duration']):\n",
    "#     ax = sns.kdeplot(\n",
    "#         # kind='kde',\n",
    "#         data=df_sg,\n",
    "#         x='next_exec_time',\n",
    "#         hue='model',\n",
    "#         # cumulative=True,\n",
    "#         common_norm=False\n",
    "#     )\n",
    "#     ax.set_title(str(g))\n",
    "#     plt.show()"
   ],
   "metadata": {
    "collapsed": false,
    "pycharm": {
     "name": "#%%\n"
    }
   }
  },
  {
   "cell_type": "code",
   "execution_count": null,
   "outputs": [],
   "source": [
    "# randomly sample participant, compare with model, repeat\n",
    "\n",
    "samples = 500\n",
    "run_ids = raw_data.run_id.unique()\n",
    "rng = np.random.default_rng()\n",
    "\n",
    "dfs = deque()\n",
    "\n",
    "for model_cls in tqdm((EmpiricalExecutionTimeModel, TheoreticalExecutionTimeModel), desc=\"Models\"):\n",
    "    model_name = model_cls.__name__\n",
    "\n",
    "    pbar = trange(samples)\n",
    "    pbar.set_description(f\"Samples for model {model_name}\")\n",
    "    for si in pbar:\n",
    "        run = rng.choice(run_ids)\n",
    "        df = raw_data[raw_data.run_id == run]\n",
    "\n",
    "        # df holds data for a single participant\n",
    "        delays = df.delay.values\n",
    "        neuro = df.neuroticism.values[0]\n",
    "        exec_times = np.concatenate((df.exec_time, np.array([np.nan])))\n",
    "\n",
    "        model = model_cls(data=data, neuroticism=neuro, transition_fade_distance=fade_distance)\n",
    "        trace = util.gen_model_trace(delays, model)\n",
    "\n",
    "        trace[\"exec_time_rel\"] = trace.exec_time / exec_times\n",
    "        trace[\"base_exec_times\"] = exec_times\n",
    "        trace[\"run_id\"] = run\n",
    "        trace[\"sample\"] = si\n",
    "        trace[\"model\"] = model_name\n",
    "        dfs.append(trace)\n",
    "\n",
    "trace_data = pd.concat(dfs, ignore_index=True)"
   ],
   "metadata": {
    "collapsed": false,
    "pycharm": {
     "name": "#%%\n"
    }
   }
  },
  {
   "cell_type": "code",
   "execution_count": null,
   "outputs": [],
   "source": [
    "fg = sns.displot(\n",
    "    kind=\"kde\",\n",
    "    data=trace_data,\n",
    "    x=\"exec_time_rel\",\n",
    "    common_norm=False,\n",
    "    col=\"model\",\n",
    "    cumulative=True\n",
    ")\n",
    "fg.set_xlabels(\"Ratio between generated times\\nand underlying empirical times\")\n",
    "fg.refline(x=1)\n",
    "plt.show()"
   ],
   "metadata": {
    "collapsed": false,
    "pycharm": {
     "name": "#%%\n"
    }
   }
  },
  {
   "cell_type": "code",
   "execution_count": null,
   "outputs": [],
   "source": [
    "trace_data.groupby(\"model\")[\"exec_time_rel\"].describe(percentiles=[0.1, 0.25, 0.50, 0.75, 0.99, 0.999])"
   ],
   "metadata": {
    "collapsed": false,
    "pycharm": {
     "name": "#%%\n"
    }
   }
  },
  {
   "cell_type": "code",
   "execution_count": null,
   "outputs": [],
   "source": [
    "fg = sns.displot(\n",
    "    kind=\"hist\",\n",
    "    data=trace_data,\n",
    "    x=\"exec_time_rel\",\n",
    "    # common_norm=False,\n",
    "    col=\"model\",\n",
    "    bins=100,\n",
    "    # cumulative=True\n",
    ")\n",
    "fg.set_xlabels(\"Ratio between generated times\\nand underlying empirical times\")\n",
    "fg.set(yscale='log')\n",
    "plt.show()"
   ],
   "metadata": {
    "collapsed": false,
    "pycharm": {
     "name": "#%%\n"
    }
   }
  },
  {
   "cell_type": "code",
   "execution_count": null,
   "outputs": [],
   "source": [
    "trace_data"
   ],
   "metadata": {
    "collapsed": false,
    "pycharm": {
     "name": "#%%\n"
    }
   }
  },
  {
   "cell_type": "code",
   "execution_count": null,
   "outputs": [],
   "source": [
    "params = [\"latest impairment\", \"latest transition\", \"current duration (binned)\"]\n",
    "\n",
    "\n",
    "trace_data.groupby([\"latest impairment\", \"latest transition\",\n",
    "                    \"current duration (binned)\", \"model\"])[\"exec_time_rel\"]\\\n",
    "    .describe(percentiles=[0.1, 0.25, 0.5, 0.75, 0.9, 0.999])\\\n",
    "    .sort_values(\"max\", ascending=False)"
   ],
   "metadata": {
    "collapsed": false,
    "pycharm": {
     "name": "#%%\n"
    }
   }
  },
  {
   "cell_type": "code",
   "execution_count": null,
   "outputs": [],
   "source": [
    "# neuro = raw_data.neuroticism.unique()\n",
    "#\n",
    "# for n in neuro:\n",
    "#     lt = n - 0.15\n",
    "#     ut = n + 0.15\n",
    "#     print(neuro[(neuro > lt) & (neuro < ut)])\n",
    "\n",
    "data.groupby(\"neuroticism\")[\"run_id\"].apply(lambda x: np.unique(x).size)"
   ],
   "metadata": {
    "collapsed": false,
    "pycharm": {
     "name": "#%%\n"
    }
   }
  }
 ],
 "metadata": {
  "kernelspec": {
   "display_name": "Python 3",
   "language": "python",
   "name": "python3"
  },
  "language_info": {
   "codemirror_mode": {
    "name": "ipython",
    "version": 2
   },
   "file_extension": ".py",
   "mimetype": "text/x-python",
   "name": "python",
   "nbconvert_exporter": "python",
   "pygments_lexer": "ipython2",
   "version": "2.7.6"
  }
 },
 "nbformat": 4,
 "nbformat_minor": 0
}