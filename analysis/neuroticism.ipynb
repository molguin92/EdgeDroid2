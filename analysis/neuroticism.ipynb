{
 "cells": [
  {
   "cell_type": "code",
   "execution_count": 3,
   "metadata": {
    "collapsed": true
   },
   "outputs": [
    {
     "data": {
      "text/plain": "                                   end  last_frame_rtt  square  block  \\\nrun_id step                                                             \n134146 0    2019-11-15 20:19:27.018885        0.555361       9    NaN   \n       1    2019-11-15 20:19:32.013099        0.540560       9    NaN   \n       2    2019-11-15 20:19:35.520418        0.522129       9    0.0   \n       3    2019-11-15 20:19:41.514579        0.534043       9    0.0   \n       4    2019-11-15 20:19:47.301153        0.538592       9    0.0   \n...                                ...             ...     ...    ...   \n137353 164  2019-11-26 19:59:29.298847        0.520527       8   20.0   \n       165  2019-11-26 19:59:34.517035        0.490040       8   20.0   \n       166  2019-11-26 19:59:38.547268        0.513129       8   20.0   \n       167  2019-11-26 19:59:41.454079        0.573797       8   20.0   \n       168  2019-11-26 19:59:46.608506        0.522205       8   20.0   \n\n             block_step  delay  block_size                      start  \\\nrun_id step                                                             \n134146 0            NaN    NaN         NaN 2019-11-15 20:19:22.766647   \n       1            NaN    NaN         NaN 2019-11-15 20:19:27.020941   \n       2            0.0    0.0         8.0 2019-11-15 20:19:32.015480   \n       3            1.0    0.0         8.0 2019-11-15 20:19:35.522306   \n       4            2.0    0.0         8.0 2019-11-15 20:19:41.517052   \n...                 ...    ...         ...                        ...   \n137353 164          6.0    0.0        12.0 2019-11-26 19:59:22.302702   \n       165          7.0    0.0        12.0 2019-11-26 19:59:29.301838   \n       166          8.0    0.0        12.0 2019-11-26 19:59:34.519102   \n       167          9.0    0.0        12.0 2019-11-26 19:59:38.549320   \n       168         10.0    0.0        12.0 2019-11-26 19:59:41.456552   \n\n             wait_time  duration  exec_time  \nrun_id step                                  \n134146 0      0.042080  4.252238   3.654797  \n       1      0.012953  4.992158   4.438645  \n       2      0.039587  3.504938   2.943222  \n       3      0.052469  5.992273   5.405761  \n       4      0.020348  5.784101   5.225161  \n...                ...       ...        ...  \n137353 164    0.036547  6.996145   6.439071  \n       165    0.044299  5.215197   4.680858  \n       166    0.047159  4.028166   3.467878  \n       167    0.005203  2.904759   2.325759  \n       168    0.014466  5.151954   4.615283  \n\n[6760 rows x 11 columns]",
      "text/html": "<div>\n<style scoped>\n    .dataframe tbody tr th:only-of-type {\n        vertical-align: middle;\n    }\n\n    .dataframe tbody tr th {\n        vertical-align: top;\n    }\n\n    .dataframe thead th {\n        text-align: right;\n    }\n</style>\n<table border=\"1\" class=\"dataframe\">\n  <thead>\n    <tr style=\"text-align: right;\">\n      <th></th>\n      <th></th>\n      <th>end</th>\n      <th>last_frame_rtt</th>\n      <th>square</th>\n      <th>block</th>\n      <th>block_step</th>\n      <th>delay</th>\n      <th>block_size</th>\n      <th>start</th>\n      <th>wait_time</th>\n      <th>duration</th>\n      <th>exec_time</th>\n    </tr>\n    <tr>\n      <th>run_id</th>\n      <th>step</th>\n      <th></th>\n      <th></th>\n      <th></th>\n      <th></th>\n      <th></th>\n      <th></th>\n      <th></th>\n      <th></th>\n      <th></th>\n      <th></th>\n      <th></th>\n    </tr>\n  </thead>\n  <tbody>\n    <tr>\n      <th rowspan=\"5\" valign=\"top\">134146</th>\n      <th>0</th>\n      <td>2019-11-15 20:19:27.018885</td>\n      <td>0.555361</td>\n      <td>9</td>\n      <td>NaN</td>\n      <td>NaN</td>\n      <td>NaN</td>\n      <td>NaN</td>\n      <td>2019-11-15 20:19:22.766647</td>\n      <td>0.042080</td>\n      <td>4.252238</td>\n      <td>3.654797</td>\n    </tr>\n    <tr>\n      <th>1</th>\n      <td>2019-11-15 20:19:32.013099</td>\n      <td>0.540560</td>\n      <td>9</td>\n      <td>NaN</td>\n      <td>NaN</td>\n      <td>NaN</td>\n      <td>NaN</td>\n      <td>2019-11-15 20:19:27.020941</td>\n      <td>0.012953</td>\n      <td>4.992158</td>\n      <td>4.438645</td>\n    </tr>\n    <tr>\n      <th>2</th>\n      <td>2019-11-15 20:19:35.520418</td>\n      <td>0.522129</td>\n      <td>9</td>\n      <td>0.0</td>\n      <td>0.0</td>\n      <td>0.0</td>\n      <td>8.0</td>\n      <td>2019-11-15 20:19:32.015480</td>\n      <td>0.039587</td>\n      <td>3.504938</td>\n      <td>2.943222</td>\n    </tr>\n    <tr>\n      <th>3</th>\n      <td>2019-11-15 20:19:41.514579</td>\n      <td>0.534043</td>\n      <td>9</td>\n      <td>0.0</td>\n      <td>1.0</td>\n      <td>0.0</td>\n      <td>8.0</td>\n      <td>2019-11-15 20:19:35.522306</td>\n      <td>0.052469</td>\n      <td>5.992273</td>\n      <td>5.405761</td>\n    </tr>\n    <tr>\n      <th>4</th>\n      <td>2019-11-15 20:19:47.301153</td>\n      <td>0.538592</td>\n      <td>9</td>\n      <td>0.0</td>\n      <td>2.0</td>\n      <td>0.0</td>\n      <td>8.0</td>\n      <td>2019-11-15 20:19:41.517052</td>\n      <td>0.020348</td>\n      <td>5.784101</td>\n      <td>5.225161</td>\n    </tr>\n    <tr>\n      <th>...</th>\n      <th>...</th>\n      <td>...</td>\n      <td>...</td>\n      <td>...</td>\n      <td>...</td>\n      <td>...</td>\n      <td>...</td>\n      <td>...</td>\n      <td>...</td>\n      <td>...</td>\n      <td>...</td>\n      <td>...</td>\n    </tr>\n    <tr>\n      <th rowspan=\"5\" valign=\"top\">137353</th>\n      <th>164</th>\n      <td>2019-11-26 19:59:29.298847</td>\n      <td>0.520527</td>\n      <td>8</td>\n      <td>20.0</td>\n      <td>6.0</td>\n      <td>0.0</td>\n      <td>12.0</td>\n      <td>2019-11-26 19:59:22.302702</td>\n      <td>0.036547</td>\n      <td>6.996145</td>\n      <td>6.439071</td>\n    </tr>\n    <tr>\n      <th>165</th>\n      <td>2019-11-26 19:59:34.517035</td>\n      <td>0.490040</td>\n      <td>8</td>\n      <td>20.0</td>\n      <td>7.0</td>\n      <td>0.0</td>\n      <td>12.0</td>\n      <td>2019-11-26 19:59:29.301838</td>\n      <td>0.044299</td>\n      <td>5.215197</td>\n      <td>4.680858</td>\n    </tr>\n    <tr>\n      <th>166</th>\n      <td>2019-11-26 19:59:38.547268</td>\n      <td>0.513129</td>\n      <td>8</td>\n      <td>20.0</td>\n      <td>8.0</td>\n      <td>0.0</td>\n      <td>12.0</td>\n      <td>2019-11-26 19:59:34.519102</td>\n      <td>0.047159</td>\n      <td>4.028166</td>\n      <td>3.467878</td>\n    </tr>\n    <tr>\n      <th>167</th>\n      <td>2019-11-26 19:59:41.454079</td>\n      <td>0.573797</td>\n      <td>8</td>\n      <td>20.0</td>\n      <td>9.0</td>\n      <td>0.0</td>\n      <td>12.0</td>\n      <td>2019-11-26 19:59:38.549320</td>\n      <td>0.005203</td>\n      <td>2.904759</td>\n      <td>2.325759</td>\n    </tr>\n    <tr>\n      <th>168</th>\n      <td>2019-11-26 19:59:46.608506</td>\n      <td>0.522205</td>\n      <td>8</td>\n      <td>20.0</td>\n      <td>10.0</td>\n      <td>0.0</td>\n      <td>12.0</td>\n      <td>2019-11-26 19:59:41.456552</td>\n      <td>0.014466</td>\n      <td>5.151954</td>\n      <td>4.615283</td>\n    </tr>\n  </tbody>\n</table>\n<p>6760 rows × 11 columns</p>\n</div>"
     },
     "execution_count": 3,
     "metadata": {},
     "output_type": "execute_result"
    }
   ],
   "source": [
    "import pandas as pd\n",
    "\n",
    "step_data_full = pd.read_parquet(\"./steps2022_full.parquet\")\n",
    "step_data_full"
   ]
  },
  {
   "cell_type": "code",
   "execution_count": 4,
   "outputs": [
    {
     "data": {
      "text/plain": "      run_id       ttf  exec_time  neuroticism\n0     134146  0.597441   3.654797        0.375\n1     134146  0.553513   4.438645        0.375\n2     134146  0.561716   2.943222        0.375\n3     134146  0.586512   5.405761        0.375\n4     134146  0.558940   5.225161        0.375\n...      ...       ...        ...          ...\n6755  137353  0.557074   6.439071        0.625\n6756  137353  0.534339   4.680858        0.625\n6757  137353  0.560288   3.467878        0.625\n6758  137353  0.579000   2.325759        0.625\n6759  137353  0.536671   4.615283        0.625\n\n[6760 rows x 4 columns]",
      "text/html": "<div>\n<style scoped>\n    .dataframe tbody tr th:only-of-type {\n        vertical-align: middle;\n    }\n\n    .dataframe tbody tr th {\n        vertical-align: top;\n    }\n\n    .dataframe thead th {\n        text-align: right;\n    }\n</style>\n<table border=\"1\" class=\"dataframe\">\n  <thead>\n    <tr style=\"text-align: right;\">\n      <th></th>\n      <th>run_id</th>\n      <th>ttf</th>\n      <th>exec_time</th>\n      <th>neuroticism</th>\n    </tr>\n  </thead>\n  <tbody>\n    <tr>\n      <th>0</th>\n      <td>134146</td>\n      <td>0.597441</td>\n      <td>3.654797</td>\n      <td>0.375</td>\n    </tr>\n    <tr>\n      <th>1</th>\n      <td>134146</td>\n      <td>0.553513</td>\n      <td>4.438645</td>\n      <td>0.375</td>\n    </tr>\n    <tr>\n      <th>2</th>\n      <td>134146</td>\n      <td>0.561716</td>\n      <td>2.943222</td>\n      <td>0.375</td>\n    </tr>\n    <tr>\n      <th>3</th>\n      <td>134146</td>\n      <td>0.586512</td>\n      <td>5.405761</td>\n      <td>0.375</td>\n    </tr>\n    <tr>\n      <th>4</th>\n      <td>134146</td>\n      <td>0.558940</td>\n      <td>5.225161</td>\n      <td>0.375</td>\n    </tr>\n    <tr>\n      <th>...</th>\n      <td>...</td>\n      <td>...</td>\n      <td>...</td>\n      <td>...</td>\n    </tr>\n    <tr>\n      <th>6755</th>\n      <td>137353</td>\n      <td>0.557074</td>\n      <td>6.439071</td>\n      <td>0.625</td>\n    </tr>\n    <tr>\n      <th>6756</th>\n      <td>137353</td>\n      <td>0.534339</td>\n      <td>4.680858</td>\n      <td>0.625</td>\n    </tr>\n    <tr>\n      <th>6757</th>\n      <td>137353</td>\n      <td>0.560288</td>\n      <td>3.467878</td>\n      <td>0.625</td>\n    </tr>\n    <tr>\n      <th>6758</th>\n      <td>137353</td>\n      <td>0.579000</td>\n      <td>2.325759</td>\n      <td>0.625</td>\n    </tr>\n    <tr>\n      <th>6759</th>\n      <td>137353</td>\n      <td>0.536671</td>\n      <td>4.615283</td>\n      <td>0.625</td>\n    </tr>\n  </tbody>\n</table>\n<p>6760 rows × 4 columns</p>\n</div>"
     },
     "execution_count": 4,
     "metadata": {},
     "output_type": "execute_result"
    }
   ],
   "source": [
    "import edgedroid.data as e_data\n",
    "\n",
    "comb_data, *_ = e_data.load_default_exec_time_data()\n",
    "comb_data"
   ],
   "metadata": {
    "collapsed": false
   }
  },
  {
   "cell_type": "code",
   "execution_count": null,
   "outputs": [],
   "source": [],
   "metadata": {
    "collapsed": false
   }
  }
 ],
 "metadata": {
  "kernelspec": {
   "display_name": "Python 3",
   "language": "python",
   "name": "python3"
  },
  "language_info": {
   "codemirror_mode": {
    "name": "ipython",
    "version": 2
   },
   "file_extension": ".py",
   "mimetype": "text/x-python",
   "name": "python",
   "nbconvert_exporter": "python",
   "pygments_lexer": "ipython2",
   "version": "2.7.6"
  }
 },
 "nbformat": 4,
 "nbformat_minor": 0
}
