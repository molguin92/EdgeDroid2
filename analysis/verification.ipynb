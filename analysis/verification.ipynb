{
 "cells": [
  {
   "cell_type": "code",
   "execution_count": 1,
   "outputs": [
    {
     "data": {
      "text/plain": "Models:   0%|          | 0/2 [00:00<?, ?it/s]",
      "application/vnd.jupyter.widget-view+json": {
       "version_major": 2,
       "version_minor": 0,
       "model_id": "644311b48d3246cf9540dffcaab3d028"
      }
     },
     "metadata": {},
     "output_type": "display_data"
    },
    {
     "data": {
      "text/plain": "Fade distance:   0%|          | 0/4 [00:00<?, ?it/s]",
      "application/vnd.jupyter.widget-view+json": {
       "version_major": 2,
       "version_minor": 0,
       "model_id": "a4a677dca0634fb297a3f4cadf5d6454"
      }
     },
     "metadata": {},
     "output_type": "display_data"
    },
    {
     "data": {
      "text/plain": "Runs:   0%|          | 0/40 [00:00<?, ?it/s]",
      "application/vnd.jupyter.widget-view+json": {
       "version_major": 2,
       "version_minor": 0,
       "model_id": "4294deafe6e048f79d22ea75761b362f"
      }
     },
     "metadata": {},
     "output_type": "display_data"
    },
    {
     "data": {
      "text/plain": "Runs:   0%|          | 0/40 [00:00<?, ?it/s]",
      "application/vnd.jupyter.widget-view+json": {
       "version_major": 2,
       "version_minor": 0,
       "model_id": "6c0cf19b975d4e1b89dcdb1c5ba443bf"
      }
     },
     "metadata": {},
     "output_type": "display_data"
    },
    {
     "data": {
      "text/plain": "Runs:   0%|          | 0/40 [00:00<?, ?it/s]",
      "application/vnd.jupyter.widget-view+json": {
       "version_major": 2,
       "version_minor": 0,
       "model_id": "e7e2a53ba1e14614bd844d90c0580b9a"
      }
     },
     "metadata": {},
     "output_type": "display_data"
    },
    {
     "data": {
      "text/plain": "Runs:   0%|          | 0/40 [00:00<?, ?it/s]",
      "application/vnd.jupyter.widget-view+json": {
       "version_major": 2,
       "version_minor": 0,
       "model_id": "43bdff38c01441378367b3c3e9f24b15"
      }
     },
     "metadata": {},
     "output_type": "display_data"
    },
    {
     "data": {
      "text/plain": "Fade distance:   0%|          | 0/4 [00:00<?, ?it/s]",
      "application/vnd.jupyter.widget-view+json": {
       "version_major": 2,
       "version_minor": 0,
       "model_id": "143787ba7cee439c8446d23a574213cd"
      }
     },
     "metadata": {},
     "output_type": "display_data"
    },
    {
     "data": {
      "text/plain": "Runs:   0%|          | 0/40 [00:00<?, ?it/s]",
      "application/vnd.jupyter.widget-view+json": {
       "version_major": 2,
       "version_minor": 0,
       "model_id": "4ef05f30d0b24fca87c2f95cfb32cefa"
      }
     },
     "metadata": {},
     "output_type": "display_data"
    },
    {
     "data": {
      "text/plain": "Runs:   0%|          | 0/40 [00:00<?, ?it/s]",
      "application/vnd.jupyter.widget-view+json": {
       "version_major": 2,
       "version_minor": 0,
       "model_id": "8583592e881044599be4fb24f950de51"
      }
     },
     "metadata": {},
     "output_type": "display_data"
    },
    {
     "data": {
      "text/plain": "Runs:   0%|          | 0/40 [00:00<?, ?it/s]",
      "application/vnd.jupyter.widget-view+json": {
       "version_major": 2,
       "version_minor": 0,
       "model_id": "b34a32759d484155b2121beae712528e"
      }
     },
     "metadata": {},
     "output_type": "display_data"
    },
    {
     "data": {
      "text/plain": "Runs:   0%|          | 0/40 [00:00<?, ?it/s]",
      "application/vnd.jupyter.widget-view+json": {
       "version_major": 2,
       "version_minor": 0,
       "model_id": "734beb02c44441f4afeaade581300ce3"
      }
     },
     "metadata": {},
     "output_type": "display_data"
    }
   ],
   "source": [
    "import os\n",
    "from typing import *\n",
    "\n",
    "import multiprocess as mp\n",
    "import numpy as np\n",
    "import pandas as pd\n",
    "from tqdm.notebook import tqdm\n",
    "\n",
    "import edgedroid.data as e_data\n",
    "from edgedroid.execution_times import *\n",
    "\n",
    "\n",
    "def process_model(\n",
    "        mcls: Type[ExecutionTimeModel],\n",
    "        run_id: int,\n",
    "        # df: pd.DataFrame,\n",
    "        # data: pd.DataFrame,\n",
    "        fade_dist: int,\n",
    "        samples: int,\n",
    ") -> Tuple[pd.DataFrame, pd.DataFrame]:\n",
    "    result = deque()\n",
    "\n",
    "    # load the data\n",
    "    params = e_data.load_default_exec_time_data()\n",
    "    data = preprocess_data(*params, transition_fade_distance=fade_dist)\n",
    "    raw_data, *_ = params\n",
    "\n",
    "    # dataframe for participant\n",
    "    df = raw_data[raw_data[\"run_id\"] == run_id].copy()\n",
    "\n",
    "    # prepare the model\n",
    "    neuro = raw_data.iloc[0, df.columns.get_loc(\"neuroticism\")]\n",
    "    model: ExecutionTimeModel = mcls(data=data, neuroticism=neuro, transition_fade_distance=fade_dist)\n",
    "\n",
    "    # record task duration\n",
    "    task_df = pd.DataFrame(index=np.arange(samples), columns=[\"run_id\", \"real_task_duration\", \"model_task_duration\"])\n",
    "    task_df[\"run_id\"] = run_id\n",
    "    task_df[\"real_task_duration\"] = df[\"exec_time\"].sum()\n",
    "    task_df[\"model\"] = mcls.__name__\n",
    "\n",
    "    for i in range(samples):\n",
    "        model.reset()\n",
    "        states = deque()\n",
    "\n",
    "        model_exec_times = np.empty(len(df.index), dtype=np.float64)\n",
    "\n",
    "        for j, step in enumerate(df.itertuples(index=True)):\n",
    "            model_exec_times[j] = model.get_execution_time()\n",
    "            states.append(model.state_info())\n",
    "            model.set_delay(step.delay)\n",
    "\n",
    "        result_df = df.copy()\n",
    "        result_df[\"model_exec_time\"] = model_exec_times\n",
    "        result_df[\"sample\"] = i\n",
    "        result_df[\"model\"] = mcls.__name__\n",
    "\n",
    "        model_df = pd.DataFrame(states)\n",
    "        result_df = result_df.merge(\n",
    "            right=model_df.drop(columns=[\"neuroticism_raw\"]),\n",
    "            on=\"seq\",\n",
    "            suffixes=[\"\", \"_model\"]\n",
    "        )\n",
    "\n",
    "        result.append(result_df)\n",
    "        task_df.at[i, \"model_task_duration\"] = result_df[\"model_exec_time\"].sum()\n",
    "\n",
    "    trace_df = pd.concat(result, ignore_index=True)\n",
    "    del result\n",
    "\n",
    "    task_df[\"reldiff\"] = (task_df[\"model_task_duration\"] - task_df[\"real_task_duration\"]) / task_df[\"real_task_duration\"]\n",
    "    task_df[\"fade_distance\"] = fade_dist\n",
    "\n",
    "    # filter outliers using preprocessed data\n",
    "    # remove the top and bottom 5-percentiles (exec times)\n",
    "    for _, df in data.groupby([\"neuroticism\", \"impairment\", \"transition\", \"duration\"]):\n",
    "        # winsorize\n",
    "        percs = np.percentile(df.next_exec_time, [5, 95])\n",
    "\n",
    "        out = df[(df[\"next_exec_time\"] < percs[0]) | (df[\"next_exec_time\"] > percs[1])]\n",
    "        trace_df = trace_df[~(np.isin(trace_df[\"run_id\"], out[\"run_id\"]) & np.isin(trace_df[\"seq\"], out[\"seq\"]))]\n",
    "\n",
    "    trace_df = trace_df.copy()\n",
    "    trace_df[\"reldiff\"] = (trace_df[\"model_exec_time\"] - trace_df[\"exec_time\"]) / trace_df[\"exec_time\"]\n",
    "    trace_df[\"fade_distance\"] = fade_dist\n",
    "\n",
    "    return trace_df, task_df\n",
    "\n",
    "\n",
    "samples = 50\n",
    "\n",
    "raw_data, *_ = e_data.load_default_exec_time_data()\n",
    "run_ids = raw_data.run_id.unique()\n",
    "del raw_data\n",
    "\n",
    "step_result = deque()\n",
    "task_result = deque()\n",
    "workers = os.cpu_count() - 1\n",
    "for mcls in tqdm((TheoreticalExecutionTimeModel, EmpiricalExecutionTimeModel), leave=True, desc=\"Models\"):\n",
    "    for i, fade_dist in enumerate(tqdm((2, 4, 8, None), leave=True, desc=\"Fade distance\")):\n",
    "        with tqdm(total=len(run_ids), leave=True, desc=\"Runs\", position=i) as pbar, mp.Pool(workers) as pool:\n",
    "            fade_result = [\n",
    "                pool.apply_async(\n",
    "                    process_model,\n",
    "                    args=(\n",
    "                        mcls,\n",
    "                        rid,\n",
    "                        fade_dist,\n",
    "                        samples\n",
    "                    ),\n",
    "                    callback=lambda _: pbar.update()\n",
    "                )\n",
    "                for rid in run_ids\n",
    "            ]\n",
    "\n",
    "            for r in fade_result:\n",
    "                step_df, task_df = r.get()\n",
    "                step_result.append(step_df)\n",
    "                task_result.append(task_df)\n",
    "\n",
    "            # step_result.extend([r.get() for r in fade_result])\n",
    "\n",
    "trace_result = pd.concat(step_result, ignore_index=True)\n",
    "trace_task_result = pd.concat(task_result, ignore_index=True)\n",
    "del step_result\n",
    "del task_result"
   ],
   "metadata": {
    "collapsed": false,
    "pycharm": {
     "name": "#%%\n"
    }
   }
  },
  {
   "cell_type": "code",
   "execution_count": 2,
   "outputs": [
    {
     "data": {
      "text/plain": "        run_id  seq  exec_time  delay  neuroticism  model_exec_time  sample  \\\n0       134146   21      3.909  3.000        0.375         9.263852       0   \n1       134146   30      5.421  2.700        0.375         3.936428       0   \n2       134146   35      3.392  2.700        0.375         1.914751       0   \n3       134146   56      3.556  1.650        0.375         5.099297       0   \n4       134146   57      7.458  0.000        0.375         4.713046       0   \n...        ...  ...        ...    ...          ...              ...     ...   \n934295  137353  125      7.748  1.650        0.625         6.873000      49   \n934296  137353  139      8.639  2.175        0.625         6.163000      49   \n934297  137353  145      5.381  2.175        0.625         4.599000      49   \n934298  137353  154      8.614  3.000        0.625         3.577000      49   \n934299  137353  165      4.722  0.000        0.625         3.506000      49   \n\n                                model  \\\n0       TheoreticalExecutionTimeModel   \n1       TheoreticalExecutionTimeModel   \n2       TheoreticalExecutionTimeModel   \n3       TheoreticalExecutionTimeModel   \n4       TheoreticalExecutionTimeModel   \n...                               ...   \n934295    EmpiricalExecutionTimeModel   \n934296    EmpiricalExecutionTimeModel   \n934297    EmpiricalExecutionTimeModel   \n934298    EmpiricalExecutionTimeModel   \n934299    EmpiricalExecutionTimeModel   \n\n                               neuroticism_model  delay_model   impairment  \\\n0       [0.3333333333333333, 0.6666666666666666)        3.000   [2.0, inf)   \n1       [0.3333333333333333, 0.6666666666666666)        2.700   [2.0, inf)   \n2       [0.3333333333333333, 0.6666666666666666)        2.700   [2.0, inf)   \n3       [0.3333333333333333, 0.6666666666666666)        1.650   [1.0, 2.0)   \n4       [0.3333333333333333, 0.6666666666666666)        1.650   [1.0, 2.0)   \n...                                          ...          ...          ...   \n934295  [0.3333333333333333, 0.6666666666666666)        1.125   [1.0, 2.0)   \n934296  [0.3333333333333333, 0.6666666666666666)        2.175   [2.0, inf)   \n934297  [0.3333333333333333, 0.6666666666666666)        2.175   [2.0, inf)   \n934298  [0.3333333333333333, 0.6666666666666666)        3.000   [2.0, inf)   \n934299  [0.3333333333333333, 0.6666666666666666)        0.000  [-inf, 1.0)   \n\n          transition     duration  duration_raw   reldiff  fade_distance  \n0       NoTransition  [5.0, 10.0)             6  1.369878              2  \n1       NoTransition  [10.0, inf)            15 -0.273856              2  \n2       NoTransition  [10.0, inf)            20 -0.435510              2  \n3       NoTransition  [10.0, inf)            17  0.433998              2  \n4       NoTransition  [10.0, inf)            18 -0.368055              2  \n...              ...          ...           ...       ...            ...  \n934295  Higher2Lower  [10.0, inf)            12 -0.112932             -1  \n934296  Lower2Higher   [0.0, 5.0)             2 -0.286607             -1  \n934297  Lower2Higher  [5.0, 10.0)             8 -0.145326             -1  \n934298  Lower2Higher   [0.0, 5.0)             1 -0.584746             -1  \n934299  Higher2Lower  [5.0, 10.0)             8 -0.257518             -1  \n\n[934300 rows x 16 columns]",
      "text/html": "<div>\n<style scoped>\n    .dataframe tbody tr th:only-of-type {\n        vertical-align: middle;\n    }\n\n    .dataframe tbody tr th {\n        vertical-align: top;\n    }\n\n    .dataframe thead th {\n        text-align: right;\n    }\n</style>\n<table border=\"1\" class=\"dataframe\">\n  <thead>\n    <tr style=\"text-align: right;\">\n      <th></th>\n      <th>run_id</th>\n      <th>seq</th>\n      <th>exec_time</th>\n      <th>delay</th>\n      <th>neuroticism</th>\n      <th>model_exec_time</th>\n      <th>sample</th>\n      <th>model</th>\n      <th>neuroticism_model</th>\n      <th>delay_model</th>\n      <th>impairment</th>\n      <th>transition</th>\n      <th>duration</th>\n      <th>duration_raw</th>\n      <th>reldiff</th>\n      <th>fade_distance</th>\n    </tr>\n  </thead>\n  <tbody>\n    <tr>\n      <th>0</th>\n      <td>134146</td>\n      <td>21</td>\n      <td>3.909</td>\n      <td>3.000</td>\n      <td>0.375</td>\n      <td>9.263852</td>\n      <td>0</td>\n      <td>TheoreticalExecutionTimeModel</td>\n      <td>[0.3333333333333333, 0.6666666666666666)</td>\n      <td>3.000</td>\n      <td>[2.0, inf)</td>\n      <td>NoTransition</td>\n      <td>[5.0, 10.0)</td>\n      <td>6</td>\n      <td>1.369878</td>\n      <td>2</td>\n    </tr>\n    <tr>\n      <th>1</th>\n      <td>134146</td>\n      <td>30</td>\n      <td>5.421</td>\n      <td>2.700</td>\n      <td>0.375</td>\n      <td>3.936428</td>\n      <td>0</td>\n      <td>TheoreticalExecutionTimeModel</td>\n      <td>[0.3333333333333333, 0.6666666666666666)</td>\n      <td>2.700</td>\n      <td>[2.0, inf)</td>\n      <td>NoTransition</td>\n      <td>[10.0, inf)</td>\n      <td>15</td>\n      <td>-0.273856</td>\n      <td>2</td>\n    </tr>\n    <tr>\n      <th>2</th>\n      <td>134146</td>\n      <td>35</td>\n      <td>3.392</td>\n      <td>2.700</td>\n      <td>0.375</td>\n      <td>1.914751</td>\n      <td>0</td>\n      <td>TheoreticalExecutionTimeModel</td>\n      <td>[0.3333333333333333, 0.6666666666666666)</td>\n      <td>2.700</td>\n      <td>[2.0, inf)</td>\n      <td>NoTransition</td>\n      <td>[10.0, inf)</td>\n      <td>20</td>\n      <td>-0.435510</td>\n      <td>2</td>\n    </tr>\n    <tr>\n      <th>3</th>\n      <td>134146</td>\n      <td>56</td>\n      <td>3.556</td>\n      <td>1.650</td>\n      <td>0.375</td>\n      <td>5.099297</td>\n      <td>0</td>\n      <td>TheoreticalExecutionTimeModel</td>\n      <td>[0.3333333333333333, 0.6666666666666666)</td>\n      <td>1.650</td>\n      <td>[1.0, 2.0)</td>\n      <td>NoTransition</td>\n      <td>[10.0, inf)</td>\n      <td>17</td>\n      <td>0.433998</td>\n      <td>2</td>\n    </tr>\n    <tr>\n      <th>4</th>\n      <td>134146</td>\n      <td>57</td>\n      <td>7.458</td>\n      <td>0.000</td>\n      <td>0.375</td>\n      <td>4.713046</td>\n      <td>0</td>\n      <td>TheoreticalExecutionTimeModel</td>\n      <td>[0.3333333333333333, 0.6666666666666666)</td>\n      <td>1.650</td>\n      <td>[1.0, 2.0)</td>\n      <td>NoTransition</td>\n      <td>[10.0, inf)</td>\n      <td>18</td>\n      <td>-0.368055</td>\n      <td>2</td>\n    </tr>\n    <tr>\n      <th>...</th>\n      <td>...</td>\n      <td>...</td>\n      <td>...</td>\n      <td>...</td>\n      <td>...</td>\n      <td>...</td>\n      <td>...</td>\n      <td>...</td>\n      <td>...</td>\n      <td>...</td>\n      <td>...</td>\n      <td>...</td>\n      <td>...</td>\n      <td>...</td>\n      <td>...</td>\n      <td>...</td>\n    </tr>\n    <tr>\n      <th>934295</th>\n      <td>137353</td>\n      <td>125</td>\n      <td>7.748</td>\n      <td>1.650</td>\n      <td>0.625</td>\n      <td>6.873000</td>\n      <td>49</td>\n      <td>EmpiricalExecutionTimeModel</td>\n      <td>[0.3333333333333333, 0.6666666666666666)</td>\n      <td>1.125</td>\n      <td>[1.0, 2.0)</td>\n      <td>Higher2Lower</td>\n      <td>[10.0, inf)</td>\n      <td>12</td>\n      <td>-0.112932</td>\n      <td>-1</td>\n    </tr>\n    <tr>\n      <th>934296</th>\n      <td>137353</td>\n      <td>139</td>\n      <td>8.639</td>\n      <td>2.175</td>\n      <td>0.625</td>\n      <td>6.163000</td>\n      <td>49</td>\n      <td>EmpiricalExecutionTimeModel</td>\n      <td>[0.3333333333333333, 0.6666666666666666)</td>\n      <td>2.175</td>\n      <td>[2.0, inf)</td>\n      <td>Lower2Higher</td>\n      <td>[0.0, 5.0)</td>\n      <td>2</td>\n      <td>-0.286607</td>\n      <td>-1</td>\n    </tr>\n    <tr>\n      <th>934297</th>\n      <td>137353</td>\n      <td>145</td>\n      <td>5.381</td>\n      <td>2.175</td>\n      <td>0.625</td>\n      <td>4.599000</td>\n      <td>49</td>\n      <td>EmpiricalExecutionTimeModel</td>\n      <td>[0.3333333333333333, 0.6666666666666666)</td>\n      <td>2.175</td>\n      <td>[2.0, inf)</td>\n      <td>Lower2Higher</td>\n      <td>[5.0, 10.0)</td>\n      <td>8</td>\n      <td>-0.145326</td>\n      <td>-1</td>\n    </tr>\n    <tr>\n      <th>934298</th>\n      <td>137353</td>\n      <td>154</td>\n      <td>8.614</td>\n      <td>3.000</td>\n      <td>0.625</td>\n      <td>3.577000</td>\n      <td>49</td>\n      <td>EmpiricalExecutionTimeModel</td>\n      <td>[0.3333333333333333, 0.6666666666666666)</td>\n      <td>3.000</td>\n      <td>[2.0, inf)</td>\n      <td>Lower2Higher</td>\n      <td>[0.0, 5.0)</td>\n      <td>1</td>\n      <td>-0.584746</td>\n      <td>-1</td>\n    </tr>\n    <tr>\n      <th>934299</th>\n      <td>137353</td>\n      <td>165</td>\n      <td>4.722</td>\n      <td>0.000</td>\n      <td>0.625</td>\n      <td>3.506000</td>\n      <td>49</td>\n      <td>EmpiricalExecutionTimeModel</td>\n      <td>[0.3333333333333333, 0.6666666666666666)</td>\n      <td>0.000</td>\n      <td>[-inf, 1.0)</td>\n      <td>Higher2Lower</td>\n      <td>[5.0, 10.0)</td>\n      <td>8</td>\n      <td>-0.257518</td>\n      <td>-1</td>\n    </tr>\n  </tbody>\n</table>\n<p>934300 rows × 16 columns</p>\n</div>"
     },
     "execution_count": 2,
     "metadata": {},
     "output_type": "execute_result"
    }
   ],
   "source": [
    "trace_result[\"fade_distance\"] = trace_result[\"fade_distance\"].replace({None: -1})\n",
    "trace_result"
   ],
   "metadata": {
    "collapsed": false,
    "pycharm": {
     "name": "#%%\n"
    }
   }
  },
  {
   "cell_type": "code",
   "execution_count": 5,
   "outputs": [
    {
     "data": {
      "text/plain": "<Figure size 1440x360 with 4 Axes>",
      "image/png": "[encoded data removed]"
     },
     "metadata": {
      "needs_background": "light"
     },
     "output_type": "display_data"
    }
   ],
   "source": [
    "import seaborn as sns\n",
    "import matplotlib.pyplot as plt\n",
    "\n",
    "fg = sns.catplot(\n",
    "    kind=\"bar\",\n",
    "    x=\"model\",\n",
    "    y=\"reldiff\",\n",
    "    col=\"fade_distance\",\n",
    "    data=trace_result,\n",
    "    ci=95\n",
    ")\n",
    "fg.set_ylabels(\"Relative difference between\\nmodel execution times and underlying data.\")\n",
    "plt.show()"
   ],
   "metadata": {
    "collapsed": false,
    "pycharm": {
     "name": "#%%\n"
    }
   }
  },
  {
   "cell_type": "code",
   "execution_count": 6,
   "outputs": [
    {
     "data": {
      "text/plain": "<Figure size 1080x360 with 3 Axes>",
      "image/png": "[encoded data removed]"
     },
     "metadata": {
      "needs_background": "light"
     },
     "output_type": "display_data"
    }
   ],
   "source": [
    "fg = sns.catplot(\n",
    "    kind=\"bar\",\n",
    "    x=\"model\",\n",
    "    col=\"fade_distance\",\n",
    "    y=\"reldiff\",\n",
    "    data=trace_task_result,\n",
    "    ci=95,\n",
    ")\n",
    "fg.set_ylabels(\"Relative difference between\\nmodel task durations and underlying data.\")\n",
    "plt.show()"
   ],
   "metadata": {
    "collapsed": false,
    "pycharm": {
     "name": "#%%\n"
    }
   }
  }
 ],
 "metadata": {
  "kernelspec": {
   "display_name": "Python 3",
   "language": "python",
   "name": "python3"
  },
  "language_info": {
   "codemirror_mode": {
    "name": "ipython",
    "version": 2
   },
   "file_extension": ".py",
   "mimetype": "text/x-python",
   "name": "python",
   "nbconvert_exporter": "python",
   "pygments_lexer": "ipython2",
   "version": "2.7.6"
  }
 },
 "nbformat": 4,
 "nbformat_minor": 0
}