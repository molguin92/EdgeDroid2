{
 "cells": [
  {
   "cell_type": "code",
   "execution_count": 1,
   "source": [
    "import os\n",
    "from typing import *\n",
    "\n",
    "import multiprocess as mp\n",
    "import numpy as np\n",
    "import pandas as pd\n",
    "from tqdm.notebook import tqdm\n",
    "\n",
    "import edgedroid.data as e_data\n",
    "from edgedroid.models import *\n",
    "from collections import deque\n",
    "\n",
    "\n",
    "def process_model(\n",
    "        mcls: Type[ExecutionTimeModel],\n",
    "        run_id: int,\n",
    "        # df: pd.DataFrame,\n",
    "        # data: pd.DataFrame,\n",
    "        fade_dist: int,\n",
    "        samples: int,\n",
    ") -> Tuple[pd.DataFrame, pd.DataFrame]:\n",
    "    result = deque()\n",
    "\n",
    "    # load the data\n",
    "    params = e_data.load_default_exec_time_data()\n",
    "    data = preprocess_data(*params, transition_fade_distance=fade_dist)\n",
    "    raw_data, *_ = params\n",
    "\n",
    "    # dataframe for participant\n",
    "    df = raw_data[raw_data[\"run_id\"] == run_id].copy()\n",
    "\n",
    "    # prepare the model\n",
    "    neuro = raw_data.iloc[0, df.columns.get_loc(\"neuroticism\")]\n",
    "    model: ExecutionTimeModel = mcls(data=data, neuroticism=neuro, transition_fade_distance=fade_dist)\n",
    "\n",
    "    # record task duration\n",
    "    task_df = pd.DataFrame(index=np.arange(samples), columns=[\"run_id\", \"real_task_duration\", \"model_task_duration\"])\n",
    "    task_df[\"run_id\"] = run_id\n",
    "    task_df[\"real_task_duration\"] = df[\"exec_time\"].sum()\n",
    "    task_df[\"model\"] = mcls.__name__\n",
    "\n",
    "    for i in range(samples):\n",
    "        model.reset()\n",
    "        states = deque()\n",
    "\n",
    "        model_exec_times = np.empty(len(df.index), dtype=np.float64)\n",
    "\n",
    "        for j, step in enumerate(df.itertuples(index=True)):\n",
    "            model_exec_times[j] = model.get_execution_time()\n",
    "            states.append(model.state_info())\n",
    "            model.set_delay(step.delay)\n",
    "\n",
    "        result_df = df.copy()\n",
    "        result_df[\"model_exec_time\"] = model_exec_times\n",
    "        result_df[\"sample\"] = i\n",
    "        result_df[\"model\"] = mcls.__name__\n",
    "\n",
    "        model_df = pd.DataFrame(states)\n",
    "        result_df = result_df.merge(\n",
    "            right=model_df.drop(columns=[\"neuroticism_raw\"]),\n",
    "            on=\"seq\",\n",
    "            suffixes=[\"\", \"_model\"]\n",
    "        )\n",
    "\n",
    "        result.append(result_df)\n",
    "        task_df.at[i, \"model_task_duration\"] = result_df[\"model_exec_time\"].sum()\n",
    "\n",
    "    trace_df = pd.concat(result, ignore_index=True)\n",
    "    del result\n",
    "\n",
    "    task_df[\"reldiff\"] = (task_df[\"model_task_duration\"] - task_df[\"real_task_duration\"]) / task_df[\"real_task_duration\"]\n",
    "    task_df[\"fade_distance\"] = fade_dist\n",
    "\n",
    "    # filter outliers using preprocessed data\n",
    "    # remove the top and bottom 5-percentiles (exec times)\n",
    "    for _, df in data.groupby([\"neuroticism\", \"impairment\", \"transition\", \"duration\"]):\n",
    "        # winsorize\n",
    "        percs = np.percentile(df.next_exec_time, [5, 95])\n",
    "\n",
    "        out = df[(df[\"next_exec_time\"] < percs[0]) | (df[\"next_exec_time\"] > percs[1])]\n",
    "        trace_df = trace_df[~(np.isin(trace_df[\"run_id\"], out[\"run_id\"]) & np.isin(trace_df[\"seq\"], out[\"seq\"]))]\n",
    "\n",
    "    trace_df = trace_df.copy()\n",
    "    trace_df[\"reldiff\"] = (trace_df[\"model_exec_time\"] - trace_df[\"exec_time\"]) / trace_df[\"exec_time\"]\n",
    "    trace_df[\"fade_distance\"] = fade_dist\n",
    "\n",
    "    return trace_df, task_df\n",
    "\n",
    "\n",
    "samples = 50\n",
    "\n",
    "raw_data, *_ = e_data.load_default_exec_time_data()\n",
    "run_ids = raw_data.run_id.unique()\n",
    "del raw_data\n",
    "\n",
    "step_result = deque()\n",
    "task_result = deque()\n",
    "workers = os.cpu_count() - 1\n",
    "for mcls in tqdm((TheoreticalExecutionTimeModel, EmpiricalExecutionTimeModel), leave=True, desc=\"Models\"):\n",
    "    for i, fade_dist in enumerate(tqdm((2, 4, 8, None), leave=True, desc=\"Fade distance\")):\n",
    "        with tqdm(total=len(run_ids), leave=True, desc=\"Runs\", position=i) as pbar, mp.Pool(workers) as pool:\n",
    "            fade_result = [\n",
    "                pool.apply_async(\n",
    "                    process_model,\n",
    "                    args=(\n",
    "                        mcls,\n",
    "                        rid,\n",
    "                        fade_dist,\n",
    "                        samples\n",
    "                    ),\n",
    "                    callback=lambda _: pbar.update()\n",
    "                )\n",
    "                for rid in run_ids\n",
    "            ]\n",
    "\n",
    "            for r in fade_result:\n",
    "                step_df, task_df = r.get()\n",
    "                step_result.append(step_df)\n",
    "                task_result.append(task_df)\n",
    "\n",
    "            # step_result.extend([r.get() for r in fade_result])\n",
    "\n",
    "trace_result = pd.concat(step_result, ignore_index=True)\n",
    "trace_task_result = pd.concat(task_result, ignore_index=True)\n",
    "del step_result\n",
    "del task_result"
   ],
   "metadata": {
    "collapsed": false,
    "pycharm": {
     "name": "#%%\n"
    }
   },
   "outputs": []
  },
  {
   "cell_type": "code",
   "execution_count": 2,
   "source": [
    "trace_result[\"fade_distance\"] = trace_result[\"fade_distance\"].replace({None: -1})\n",
    "trace_result"
   ],
   "metadata": {
    "collapsed": false,
    "pycharm": {
     "name": "#%%\n"
    }
   },
   "outputs": []
  },
  {
   "cell_type": "code",
   "execution_count": 3,
   "source": [
    "import seaborn as sns\n",
    "import matplotlib.pyplot as plt\n",
    "\n",
    "fg = sns.catplot(\n",
    "    kind=\"bar\",\n",
    "    x=\"model\",\n",
    "    y=\"reldiff\",\n",
    "    col=\"fade_distance\",\n",
    "    data=trace_result,\n",
    "    ci=95\n",
    ")\n",
    "fg.set_ylabels(\"Relative difference between\\nmodel execution times and underlying data.\")\n",
    "plt.show()"
   ],
   "metadata": {
    "collapsed": false,
    "pycharm": {
     "name": "#%%\n"
    }
   },
   "outputs": []
  },
  {
   "cell_type": "code",
   "execution_count": 4,
   "source": [
    "fg = sns.catplot(\n",
    "    kind=\"point\",\n",
    "    x=\"fade_distance\",\n",
    "    y=\"reldiff\",\n",
    "    hue=\"model\",\n",
    "    data=trace_result,\n",
    "    ci=95,\n",
    "    dodge=True,\n",
    "    # err_style=\"bars\",\n",
    ")\n",
    "fg.set_ylabels(\"Relative difference between\\nmodel execution times and underlying data.\")\n",
    "plt.show()"
   ],
   "metadata": {
    "collapsed": false,
    "pycharm": {
     "name": "#%%\n"
    }
   },
   "outputs": []
  },
  {
   "cell_type": "code",
   "execution_count": 5,
   "source": [
    "trace_result.groupby([\"model\", \"fade_distance\"])[\"reldiff\"].describe(percentiles=[0.05, 0.1, 0.25, 0.5, 0.75, .9, .99])"
   ],
   "metadata": {
    "collapsed": false,
    "pycharm": {
     "name": "#%%\n"
    }
   },
   "outputs": []
  },
  {
   "cell_type": "code",
   "execution_count": 6,
   "source": [
    "fg = sns.catplot(\n",
    "    kind=\"bar\",\n",
    "    x=\"model\",\n",
    "    col=\"fade_distance\",\n",
    "    y=\"reldiff\",\n",
    "    data=trace_task_result,\n",
    "    ci=95,\n",
    ")\n",
    "fg.set_ylabels(\"Relative difference between\\nmodel task durations and underlying data.\")\n",
    "plt.show()"
   ],
   "metadata": {
    "collapsed": false,
    "pycharm": {
     "name": "#%%\n"
    }
   },
   "outputs": []
  },
  {
   "cell_type": "code",
   "execution_count": 7,
   "source": [
    "trace_task_result[\"reldiff\"] = trace_task_result[\"reldiff\"].astype(float)\n",
    "trace_task_result.groupby([\"model\", \"fade_distance\"])[\"reldiff\"].describe(percentiles=[0.05, 0.1, 0.25, 0.5, 0.75, .9, .99])"
   ],
   "metadata": {
    "collapsed": false,
    "pycharm": {
     "name": "#%%\n"
    }
   },
   "outputs": []
  },
  {
   "cell_type": "code",
   "execution_count": 8,
   "source": [
    "fg = sns.catplot(\n",
    "    kind=\"point\",\n",
    "    hue=\"model\",\n",
    "    x=\"fade_distance\",\n",
    "    y=\"reldiff\",\n",
    "    data=trace_task_result,\n",
    "    ci=95,\n",
    "    dodge=True,\n",
    ")\n",
    "fg.set_ylabels(\"Relative difference between\\nmodel task durations and underlying data.\")\n",
    "plt.show()"
   ],
   "metadata": {
    "collapsed": false,
    "pycharm": {
     "name": "#%%\n"
    }
   },
   "outputs": []
  }
 ],
 "metadata": {
  "kernelspec": {
   "display_name": "Python 3",
   "language": "python",
   "name": "python3"
  },
  "language_info": {
   "codemirror_mode": {
    "name": "ipython",
    "version": 2
   },
   "file_extension": ".py",
   "mimetype": "text/x-python",
   "name": "python",
   "nbconvert_exporter": "python",
   "pygments_lexer": "ipython2",
   "version": "2.7.6"
  }
 },
 "nbformat": 4,
 "nbformat_minor": 0
}
