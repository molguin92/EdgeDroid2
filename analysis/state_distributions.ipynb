{
 "cells": [
  {
   "cell_type": "code",
   "execution_count": 1,
   "source": [
    "import pandas as pd\n",
    "import numpy as np\n",
    "# import scipy as sp\n",
    "import matplotlib.pyplot as plt\n",
    "import seaborn as sns\n",
    "from edgedroid.models.timings import EmpiricalExecutionTimeModel as Empirical, TheoreticalExecutionTimeModel as Theoretical\n",
    "from collections import deque\n",
    "\n",
    "neuros = [0.25, 0.5, 0.75]\n",
    "fade_dist = 8\n",
    "samples = 500\n",
    "rng = np.random.default_rng()"
   ],
   "metadata": {
    "collapsed": false,
    "pycharm": {
     "name": "#%%\n"
    }
   },
   "outputs": []
  },
  {
   "cell_type": "code",
   "execution_count": 2,
   "source": [
    "rows = deque()\n",
    "for neuro in neuros:\n",
    "    emp = Empirical.from_default_data(neuroticism=neuro, transition_fade_distance=fade_dist)\n",
    "    theo = Theoretical.from_default_data(neuroticism=neuro, transition_fade_distance=fade_dist)\n",
    "\n",
    "    # get data and distributions\n",
    "    emp_data = emp._data_views\n",
    "    theo_dists = theo._dists\n",
    "\n",
    "    for imp_dur_trans in emp_data.keys():\n",
    "        emp_samples = rng.choice(emp_data[imp_dur_trans], replace=True, size=samples)\n",
    "        theo_samples = theo_dists[imp_dur_trans].rvs(size=samples)\n",
    "\n",
    "        impairment, duration, transition = imp_dur_trans\n",
    "        for sample in emp_samples:\n",
    "            rows.append({\n",
    "                \"impairment\": impairment,\n",
    "                \"duration\": duration,\n",
    "                \"transition\": transition,\n",
    "                \"neuroticism\": neuro,\n",
    "                \"sample\": sample,\n",
    "                \"model\": \"Empirical\"\n",
    "            })\n",
    "\n",
    "        for sample in theo_samples:\n",
    "            rows.append({\n",
    "                \"impairment\": impairment,\n",
    "                \"duration\": duration,\n",
    "                \"transition\": transition,\n",
    "                \"neuroticism\": neuro,\n",
    "                \"sample\": sample,\n",
    "                \"model\": \"Theoretical\"\n",
    "            })\n",
    "\n",
    "sample_df = pd.DataFrame(rows)\n",
    "sample_df"
   ],
   "metadata": {
    "collapsed": false,
    "pycharm": {
     "name": "#%%\n"
    }
   },
   "outputs": []
  },
  {
   "cell_type": "code",
   "execution_count": 3,
   "source": [
    "for (imp, dur, trans), df in sample_df.groupby([\"impairment\", \"duration\", \"transition\"]):\n",
    "    print(\"Impairment:\", imp, \"| Duration:\", dur, \"| Transition:\", trans)\n",
    "    fg = sns.displot(\n",
    "        kind=\"hist\",\n",
    "        data=df,\n",
    "        x=\"sample\",\n",
    "        hue=\"model\",\n",
    "        stat=\"density\",\n",
    "        col=\"neuroticism\",\n",
    "        col_wrap=4,\n",
    "        # row=\"neuroticism\",\n",
    "        multiple=\"dodge\",\n",
    "        facet_kws=dict(margin_titles=True, legend_out=False,),\n",
    "        kde=True,\n",
    "    )\n",
    "    plt.show()\n",
    "\n",
    "\n",
    "# df = sample_df.copy()\n",
    "# df[\"state\"] = df[[\"impairment\", \"duration\", \"transition\", \"neuroticism\"]].apply(lambda row: str(row.to_dict()), axis=1)\n",
    "#\n",
    "# fg = sns.displot(\n",
    "#     kind=\"hist\",\n",
    "#     data=df,\n",
    "#     x=\"sample\",\n",
    "#     col=\"model\",\n",
    "#     # col_wrap=4,\n",
    "#     hue=\"model\",\n",
    "#     row=\"state\",\n",
    "#     facet_kws=dict(margin_titles=True),\n",
    "#     # multiple=\"dodge\",\n",
    "#     stat=\"density\",\n",
    "# )\n",
    "# plt.show()\n",
    "# del df"
   ],
   "metadata": {
    "collapsed": false,
    "pycharm": {
     "name": "#%%\n"
    }
   },
   "outputs": []
  }
 ],
 "metadata": {
  "kernelspec": {
   "display_name": "Python 3",
   "language": "python",
   "name": "python3"
  },
  "language_info": {
   "codemirror_mode": {
    "name": "ipython",
    "version": 2
   },
   "file_extension": ".py",
   "mimetype": "text/x-python",
   "name": "python",
   "nbconvert_exporter": "python",
   "pygments_lexer": "ipython2",
   "version": "2.7.6"
  }
 },
 "nbformat": 4,
 "nbformat_minor": 0
}
