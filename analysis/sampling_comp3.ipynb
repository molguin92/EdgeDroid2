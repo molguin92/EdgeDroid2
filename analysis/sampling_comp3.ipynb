{
 "cells": [
  {
   "cell_type": "code",
   "execution_count": 1,
   "metadata": {
    "collapsed": true
   },
   "outputs": [],
   "source": [
    "import os\n",
    "from typing import Callable\n",
    "\n",
    "import matplotlib.pyplot as plt\n",
    "import pandas as pd\n",
    "\n",
    "from edgedroid.models.sampling import *\n",
    "from edgedroid.models.timings import *\n",
    "from edgedroid.models.sampling.adaptive import _aperiodic_instant_iterator\n",
    "from typing import NamedTuple\n",
    "import scipy.stats as stats\n",
    "\n",
    "\n",
    "power_mw = {\n",
    "    \"comm\": 0.045,\n",
    "    \"idle\": 0.015\n",
    "}  # Watts\n",
    "\n",
    "warmup_steps = 25\n",
    "samples_per_scheme = 100\n",
    "\n",
    "timing_models: Dict[str, Callable[[], ExecutionTimeModel]] = {\n",
    "    \"fitted-naive\": lambda: FittedNaiveExecutionTimeModel(dist=stats.exponnorm),\n",
    "    \"rolling-ttf-high\": lambda: ExpKernelRollingTTFETModel(neuroticism=1.0),\n",
    "    \"rolling-ttf-low\": lambda: ExpKernelRollingTTFETModel(neuroticism=1.0),\n",
    "    \"fitted-rolling-ttf-high\":  lambda: DistExpKernelRollingTTFETModel(neuroticism=1.0, dist=stats.exponnorm),\n",
    "    \"fitted-rolling-ttf-low\":  lambda: DistExpKernelRollingTTFETModel(neuroticism=0.0, dist=stats.exponnorm),\n",
    "}\n",
    "\n",
    "class SamplingResult(NamedTuple):\n",
    "    duration: float\n",
    "    wait_time: float\n",
    "    ttf: float\n",
    "    num_samples: int\n",
    "\n",
    "\n",
    "class ExpSampling(BaseFrameSamplingModel, abc.ABC):\n",
    "    @abc.abstractmethod\n",
    "    def constant_rtt_sampling(self, rtt: float, proc_time: float, prev_ttf: float,\n",
    "                              target_exec_time: float) -> SamplingResult:\n",
    "        pass\n",
    "\n",
    "\n",
    "class AdaptiveSamplingMixin(BaseAperiodicFrameSamplingModel, ExpSampling, abc.ABC):\n",
    "    def constant_rtt_sampling(self, rtt: float, proc_time: float, prev_ttf: float,\n",
    "                              target_exec_time: float) -> SamplingResult:\n",
    "        self._timing_model.advance(prev_ttf)\n",
    "        alpha = self.get_alpha()\n",
    "        beta = self.get_beta()\n",
    "\n",
    "        instant_iter = _aperiodic_instant_iterator(\n",
    "            mu=self._timing_model.get_mean_execution_time(),\n",
    "            alpha=alpha,\n",
    "            beta=beta,\n",
    "        )\n",
    "        # first instant doesn't depend on RTT\n",
    "        instant = next(instant_iter)\n",
    "        num_samples = 1\n",
    "\n",
    "        while instant <= target_exec_time:\n",
    "            instant = max(next(instant_iter), instant + rtt)\n",
    "            num_samples += 1\n",
    "\n",
    "        self.update_timings([rtt - proc_time] * num_samples, [proc_time] * num_samples)\n",
    "        duration = instant + rtt\n",
    "        return SamplingResult(duration=duration, wait_time=instant - target_exec_time, ttf=duration - target_exec_time,\n",
    "                              num_samples=num_samples)\n",
    "\n",
    "\n",
    "class AdaptivePowerSampling(AperiodicPowerFrameSamplingModel, AdaptiveSamplingMixin):\n",
    "    pass"
   ]
  },
  {
   "cell_type": "code",
   "execution_count": 2,
   "outputs": [
    {
     "data": {
      "text/plain": "      run_id       ttf  exec_time  neuroticism\n0     134146  0.597441   3.654797        0.375\n1     134146  0.553513   4.438645        0.375\n2     134146  0.561716   2.943222        0.375\n3     134146  0.586512   5.405761        0.375\n4     134146  0.558940   5.225161        0.375\n...      ...       ...        ...          ...\n6755  137353  0.557074   6.439071        0.625\n6756  137353  0.534339   4.680858        0.625\n6757  137353  0.560288   3.467878        0.625\n6758  137353  0.579000   2.325759        0.625\n6759  137353  0.536671   4.615283        0.625\n\n[6760 rows x 4 columns]",
      "text/html": "<div>\n<style scoped>\n    .dataframe tbody tr th:only-of-type {\n        vertical-align: middle;\n    }\n\n    .dataframe tbody tr th {\n        vertical-align: top;\n    }\n\n    .dataframe thead th {\n        text-align: right;\n    }\n</style>\n<table border=\"1\" class=\"dataframe\">\n  <thead>\n    <tr style=\"text-align: right;\">\n      <th></th>\n      <th>run_id</th>\n      <th>ttf</th>\n      <th>exec_time</th>\n      <th>neuroticism</th>\n    </tr>\n  </thead>\n  <tbody>\n    <tr>\n      <th>0</th>\n      <td>134146</td>\n      <td>0.597441</td>\n      <td>3.654797</td>\n      <td>0.375</td>\n    </tr>\n    <tr>\n      <th>1</th>\n      <td>134146</td>\n      <td>0.553513</td>\n      <td>4.438645</td>\n      <td>0.375</td>\n    </tr>\n    <tr>\n      <th>2</th>\n      <td>134146</td>\n      <td>0.561716</td>\n      <td>2.943222</td>\n      <td>0.375</td>\n    </tr>\n    <tr>\n      <th>3</th>\n      <td>134146</td>\n      <td>0.586512</td>\n      <td>5.405761</td>\n      <td>0.375</td>\n    </tr>\n    <tr>\n      <th>4</th>\n      <td>134146</td>\n      <td>0.558940</td>\n      <td>5.225161</td>\n      <td>0.375</td>\n    </tr>\n    <tr>\n      <th>...</th>\n      <td>...</td>\n      <td>...</td>\n      <td>...</td>\n      <td>...</td>\n    </tr>\n    <tr>\n      <th>6755</th>\n      <td>137353</td>\n      <td>0.557074</td>\n      <td>6.439071</td>\n      <td>0.625</td>\n    </tr>\n    <tr>\n      <th>6756</th>\n      <td>137353</td>\n      <td>0.534339</td>\n      <td>4.680858</td>\n      <td>0.625</td>\n    </tr>\n    <tr>\n      <th>6757</th>\n      <td>137353</td>\n      <td>0.560288</td>\n      <td>3.467878</td>\n      <td>0.625</td>\n    </tr>\n    <tr>\n      <th>6758</th>\n      <td>137353</td>\n      <td>0.579000</td>\n      <td>2.325759</td>\n      <td>0.625</td>\n    </tr>\n    <tr>\n      <th>6759</th>\n      <td>137353</td>\n      <td>0.536671</td>\n      <td>4.615283</td>\n      <td>0.625</td>\n    </tr>\n  </tbody>\n</table>\n<p>6760 rows × 4 columns</p>\n</div>"
     },
     "execution_count": 2,
     "metadata": {},
     "output_type": "execute_result"
    }
   ],
   "source": [
    "import edgedroid.data as e_data\n",
    "\n",
    "data, *_ = e_data.load_default_exec_time_data()\n",
    "data"
   ],
   "metadata": {
    "collapsed": false
   }
  },
  {
   "cell_type": "code",
   "execution_count": 3,
   "outputs": [
    {
     "data": {
      "text/plain": "5.897986672430338"
     },
     "execution_count": 3,
     "metadata": {},
     "output_type": "execute_result"
    }
   ],
   "source": [
    "rayleigh_mean = stats.rayleigh.freeze(*stats.rayleigh.fit(data[\"exec_time\"])).mean()\n",
    "rayleigh_mean"
   ],
   "metadata": {
    "collapsed": false
   }
  },
  {
   "cell_type": "code",
   "execution_count": 4,
   "outputs": [],
   "source": [
    "import warnings\n",
    "\n",
    "\n",
    "def get_sampling_scheme():\n",
    "    return AdaptivePowerSampling.from_default_data(execution_time_model=ConstantExecutionTimeModel(execution_time_seconds=rayleigh_mean))\n",
    "\n",
    "def evaluate_timing_model(name: str, repetition: int, num_steps: int, rtt: float, proc_time: float) -> pd.DataFrame:\n",
    "    with warnings.catch_warnings():\n",
    "        warnings.simplefilter(\"ignore\")\n",
    "        sampling = get_sampling_scheme()\n",
    "        timing = timing_models[name]()\n",
    "\n",
    "    rows = deque()\n",
    "\n",
    "    prev_ttf = rtt\n",
    "    for step in range(1, num_steps + 1):\n",
    "        exec_time = timing.advance(prev_ttf).get_execution_time()\n",
    "        sampling_result = sampling.constant_rtt_sampling(rtt=rtt, proc_time=proc_time, prev_ttf=prev_ttf, target_exec_time=exec_time)\n",
    "\n",
    "        # energy calculation\n",
    "        comm_time = (rtt - proc_time) * sampling_result.num_samples\n",
    "        idle_time = sampling_result.duration - comm_time\n",
    "        comm_energy = comm_time * power_mw[\"comm\"]\n",
    "        idle_energy = idle_time * power_mw[\"idle\"]\n",
    "\n",
    "        energy = comm_energy + idle_energy\n",
    "\n",
    "        rows.append(\n",
    "            {\n",
    "                \"timing_model\": name,\n",
    "                \"rtt\": rtt,\n",
    "                \"proc_time\": proc_time,\n",
    "                \"repetition\": repetition,\n",
    "                \"execution_time\": exec_time,\n",
    "                \"step_duration\": sampling_result.duration,\n",
    "                \"samples\": sampling_result.num_samples,\n",
    "                \"ttf\": sampling_result.ttf,\n",
    "                \"wait_time\": sampling_result.wait_time,\n",
    "                \"energy\": energy,\n",
    "            }\n",
    "        )\n",
    "\n",
    "    return pd.DataFrame(rows)"
   ],
   "metadata": {
    "collapsed": false
   }
  },
  {
   "cell_type": "code",
   "execution_count": 5,
   "outputs": [
    {
     "data": {
      "text/plain": "Running sampling tests...:   0%|          | 0/3000 [00:00<?, ?it/s]",
      "application/vnd.jupyter.widget-view+json": {
       "version_major": 2,
       "version_minor": 0,
       "model_id": "3ee7e6dec9f040b3aa8c6fb6569d2701"
      }
     },
     "metadata": {},
     "output_type": "display_data"
    }
   ],
   "source": [
    "import multiprocess as mp\n",
    "from tqdm.notebook import tqdm\n",
    "import itertools as it\n",
    "\n",
    "rtts = np.linspace(0, 5, 11)[1:]\n",
    "proc_time = 0.3\n",
    "\n",
    "runs_per_model = 60\n",
    "task_steps = 100\n",
    "\n",
    "results = deque()\n",
    "combs = list(it.product(timing_models.keys(), range(1, runs_per_model + 1), rtts))\n",
    "\n",
    "with mp.Pool() as pool, tqdm(total=len(combs), desc=\"Running sampling tests...\") as bar:\n",
    "    def _callback(df: pd.DataFrame):\n",
    "        results.append(df)\n",
    "        bar.update()\n",
    "\n",
    "    def _errback(e):\n",
    "        raise e\n",
    "\n",
    "    for name, rep, rtt in combs:\n",
    "        pool.apply_async(evaluate_timing_model, args=(name, rep, task_steps, rtt, proc_time), callback=_callback, error_callback=_errback)\n",
    "\n",
    "    pool.close()\n",
    "    pool.join()\n",
    "\n",
    "results = pd.concat(results, ignore_index=True)"
   ],
   "metadata": {
    "collapsed": false
   }
  },
  {
   "cell_type": "code",
   "execution_count": 6,
   "outputs": [
    {
     "data": {
      "text/plain": "                  timing_model  rtt  proc_time  repetition  execution_time  \\\n0                 fitted-naive  0.5        0.3           1        3.130988   \n1                 fitted-naive  0.5        0.3           1        4.417253   \n2                 fitted-naive  0.5        0.3           1        3.276339   \n3                 fitted-naive  0.5        0.3           1        3.210787   \n4                 fitted-naive  0.5        0.3           1        4.718081   \n...                        ...  ...        ...         ...             ...   \n299995  fitted-rolling-ttf-low  5.0        0.3          60        8.117971   \n299996  fitted-rolling-ttf-low  5.0        0.3          60        5.856411   \n299997  fitted-rolling-ttf-low  5.0        0.3          60        6.000071   \n299998  fitted-rolling-ttf-low  5.0        0.3          60        3.283844   \n299999  fitted-rolling-ttf-low  5.0        0.3          60        3.219653   \n\n        step_duration  samples        ttf  wait_time    energy  \n0            3.798128        3   0.667141   0.167141  0.074972  \n1            5.922590        2   1.505337   1.005337  0.100839  \n2            3.916017        1   0.639678   0.139678  0.064740  \n3            3.916017        1   0.705231   0.205231  0.064740  \n4            5.922590        2   1.204508   0.704508  0.100839  \n...               ...      ...        ...        ...       ...  \n299995      14.784591        1   6.666620   1.666620  0.362769  \n299996      14.784591        1   8.928180   3.928180  0.362769  \n299997      14.784591        1   8.784521   3.784521  0.362769  \n299998      14.784591        1  11.500747   6.500747  0.362769  \n299999      14.784591        1  11.564939   6.564939  0.362769  \n\n[300000 rows x 10 columns]",
      "text/html": "<div>\n<style scoped>\n    .dataframe tbody tr th:only-of-type {\n        vertical-align: middle;\n    }\n\n    .dataframe tbody tr th {\n        vertical-align: top;\n    }\n\n    .dataframe thead th {\n        text-align: right;\n    }\n</style>\n<table border=\"1\" class=\"dataframe\">\n  <thead>\n    <tr style=\"text-align: right;\">\n      <th></th>\n      <th>timing_model</th>\n      <th>rtt</th>\n      <th>proc_time</th>\n      <th>repetition</th>\n      <th>execution_time</th>\n      <th>step_duration</th>\n      <th>samples</th>\n      <th>ttf</th>\n      <th>wait_time</th>\n      <th>energy</th>\n    </tr>\n  </thead>\n  <tbody>\n    <tr>\n      <th>0</th>\n      <td>fitted-naive</td>\n      <td>0.5</td>\n      <td>0.3</td>\n      <td>1</td>\n      <td>3.130988</td>\n      <td>3.798128</td>\n      <td>3</td>\n      <td>0.667141</td>\n      <td>0.167141</td>\n      <td>0.074972</td>\n    </tr>\n    <tr>\n      <th>1</th>\n      <td>fitted-naive</td>\n      <td>0.5</td>\n      <td>0.3</td>\n      <td>1</td>\n      <td>4.417253</td>\n      <td>5.922590</td>\n      <td>2</td>\n      <td>1.505337</td>\n      <td>1.005337</td>\n      <td>0.100839</td>\n    </tr>\n    <tr>\n      <th>2</th>\n      <td>fitted-naive</td>\n      <td>0.5</td>\n      <td>0.3</td>\n      <td>1</td>\n      <td>3.276339</td>\n      <td>3.916017</td>\n      <td>1</td>\n      <td>0.639678</td>\n      <td>0.139678</td>\n      <td>0.064740</td>\n    </tr>\n    <tr>\n      <th>3</th>\n      <td>fitted-naive</td>\n      <td>0.5</td>\n      <td>0.3</td>\n      <td>1</td>\n      <td>3.210787</td>\n      <td>3.916017</td>\n      <td>1</td>\n      <td>0.705231</td>\n      <td>0.205231</td>\n      <td>0.064740</td>\n    </tr>\n    <tr>\n      <th>4</th>\n      <td>fitted-naive</td>\n      <td>0.5</td>\n      <td>0.3</td>\n      <td>1</td>\n      <td>4.718081</td>\n      <td>5.922590</td>\n      <td>2</td>\n      <td>1.204508</td>\n      <td>0.704508</td>\n      <td>0.100839</td>\n    </tr>\n    <tr>\n      <th>...</th>\n      <td>...</td>\n      <td>...</td>\n      <td>...</td>\n      <td>...</td>\n      <td>...</td>\n      <td>...</td>\n      <td>...</td>\n      <td>...</td>\n      <td>...</td>\n      <td>...</td>\n    </tr>\n    <tr>\n      <th>299995</th>\n      <td>fitted-rolling-ttf-low</td>\n      <td>5.0</td>\n      <td>0.3</td>\n      <td>60</td>\n      <td>8.117971</td>\n      <td>14.784591</td>\n      <td>1</td>\n      <td>6.666620</td>\n      <td>1.666620</td>\n      <td>0.362769</td>\n    </tr>\n    <tr>\n      <th>299996</th>\n      <td>fitted-rolling-ttf-low</td>\n      <td>5.0</td>\n      <td>0.3</td>\n      <td>60</td>\n      <td>5.856411</td>\n      <td>14.784591</td>\n      <td>1</td>\n      <td>8.928180</td>\n      <td>3.928180</td>\n      <td>0.362769</td>\n    </tr>\n    <tr>\n      <th>299997</th>\n      <td>fitted-rolling-ttf-low</td>\n      <td>5.0</td>\n      <td>0.3</td>\n      <td>60</td>\n      <td>6.000071</td>\n      <td>14.784591</td>\n      <td>1</td>\n      <td>8.784521</td>\n      <td>3.784521</td>\n      <td>0.362769</td>\n    </tr>\n    <tr>\n      <th>299998</th>\n      <td>fitted-rolling-ttf-low</td>\n      <td>5.0</td>\n      <td>0.3</td>\n      <td>60</td>\n      <td>3.283844</td>\n      <td>14.784591</td>\n      <td>1</td>\n      <td>11.500747</td>\n      <td>6.500747</td>\n      <td>0.362769</td>\n    </tr>\n    <tr>\n      <th>299999</th>\n      <td>fitted-rolling-ttf-low</td>\n      <td>5.0</td>\n      <td>0.3</td>\n      <td>60</td>\n      <td>3.219653</td>\n      <td>14.784591</td>\n      <td>1</td>\n      <td>11.564939</td>\n      <td>6.564939</td>\n      <td>0.362769</td>\n    </tr>\n  </tbody>\n</table>\n<p>300000 rows × 10 columns</p>\n</div>"
     },
     "execution_count": 6,
     "metadata": {},
     "output_type": "execute_result"
    }
   ],
   "source": [
    "results"
   ],
   "metadata": {
    "collapsed": false
   }
  },
  {
   "cell_type": "code",
   "execution_count": 7,
   "outputs": [
    {
     "data": {
      "text/plain": "               timing_model  rtt    energy\n0              fitted-naive  0.5  0.125137\n1              fitted-naive  1.0  0.163056\n2              fitted-naive  1.5  0.194162\n3              fitted-naive  2.0  0.222978\n4              fitted-naive  2.5  0.252995\n5              fitted-naive  3.0  0.279276\n6              fitted-naive  3.5  0.306944\n7              fitted-naive  4.0  0.333871\n8              fitted-naive  4.5  0.361241\n9              fitted-naive  5.0  0.387337\n10  fitted-rolling-ttf-high  0.5  0.115788\n11  fitted-rolling-ttf-high  1.0  0.162392\n12  fitted-rolling-ttf-high  1.5  0.193744\n13  fitted-rolling-ttf-high  2.0  0.221785\n14  fitted-rolling-ttf-high  2.5  0.251896\n15  fitted-rolling-ttf-high  3.0  0.283627\n16  fitted-rolling-ttf-high  3.5  0.316053\n17  fitted-rolling-ttf-high  4.0  0.345294\n18  fitted-rolling-ttf-high  4.5  0.394223\n19  fitted-rolling-ttf-high  5.0  0.418976\n20   fitted-rolling-ttf-low  0.5  0.114491\n21   fitted-rolling-ttf-low  1.0  0.155862\n22   fitted-rolling-ttf-low  1.5  0.186366\n23   fitted-rolling-ttf-low  2.0  0.218326\n24   fitted-rolling-ttf-low  2.5  0.249431\n25   fitted-rolling-ttf-low  3.0  0.277214\n26   fitted-rolling-ttf-low  3.5  0.307814\n27   fitted-rolling-ttf-low  4.0  0.334329\n28   fitted-rolling-ttf-low  4.5  0.361190\n29   fitted-rolling-ttf-low  5.0  0.388059\n30         rolling-ttf-high  0.5  0.115919\n31         rolling-ttf-high  1.0  0.163174\n32         rolling-ttf-high  1.5  0.192103\n33         rolling-ttf-high  2.0  0.219560\n34         rolling-ttf-high  2.5  0.251739\n35         rolling-ttf-high  3.0  0.285529\n36         rolling-ttf-high  3.5  0.316976\n37         rolling-ttf-high  4.0  0.341356\n38         rolling-ttf-high  4.5  0.388555\n39         rolling-ttf-high  5.0  0.416893\n40          rolling-ttf-low  0.5  0.115151\n41          rolling-ttf-low  1.0  0.163432\n42          rolling-ttf-low  1.5  0.194090\n43          rolling-ttf-low  2.0  0.219511\n44          rolling-ttf-low  2.5  0.251973\n45          rolling-ttf-low  3.0  0.286637\n46          rolling-ttf-low  3.5  0.317071\n47          rolling-ttf-low  4.0  0.340046\n48          rolling-ttf-low  4.5  0.388241\n49          rolling-ttf-low  5.0  0.415660",
      "text/html": "<div>\n<style scoped>\n    .dataframe tbody tr th:only-of-type {\n        vertical-align: middle;\n    }\n\n    .dataframe tbody tr th {\n        vertical-align: top;\n    }\n\n    .dataframe thead th {\n        text-align: right;\n    }\n</style>\n<table border=\"1\" class=\"dataframe\">\n  <thead>\n    <tr style=\"text-align: right;\">\n      <th></th>\n      <th>timing_model</th>\n      <th>rtt</th>\n      <th>energy</th>\n    </tr>\n  </thead>\n  <tbody>\n    <tr>\n      <th>0</th>\n      <td>fitted-naive</td>\n      <td>0.5</td>\n      <td>0.125137</td>\n    </tr>\n    <tr>\n      <th>1</th>\n      <td>fitted-naive</td>\n      <td>1.0</td>\n      <td>0.163056</td>\n    </tr>\n    <tr>\n      <th>2</th>\n      <td>fitted-naive</td>\n      <td>1.5</td>\n      <td>0.194162</td>\n    </tr>\n    <tr>\n      <th>3</th>\n      <td>fitted-naive</td>\n      <td>2.0</td>\n      <td>0.222978</td>\n    </tr>\n    <tr>\n      <th>4</th>\n      <td>fitted-naive</td>\n      <td>2.5</td>\n      <td>0.252995</td>\n    </tr>\n    <tr>\n      <th>5</th>\n      <td>fitted-naive</td>\n      <td>3.0</td>\n      <td>0.279276</td>\n    </tr>\n    <tr>\n      <th>6</th>\n      <td>fitted-naive</td>\n      <td>3.5</td>\n      <td>0.306944</td>\n    </tr>\n    <tr>\n      <th>7</th>\n      <td>fitted-naive</td>\n      <td>4.0</td>\n      <td>0.333871</td>\n    </tr>\n    <tr>\n      <th>8</th>\n      <td>fitted-naive</td>\n      <td>4.5</td>\n      <td>0.361241</td>\n    </tr>\n    <tr>\n      <th>9</th>\n      <td>fitted-naive</td>\n      <td>5.0</td>\n      <td>0.387337</td>\n    </tr>\n    <tr>\n      <th>10</th>\n      <td>fitted-rolling-ttf-high</td>\n      <td>0.5</td>\n      <td>0.115788</td>\n    </tr>\n    <tr>\n      <th>11</th>\n      <td>fitted-rolling-ttf-high</td>\n      <td>1.0</td>\n      <td>0.162392</td>\n    </tr>\n    <tr>\n      <th>12</th>\n      <td>fitted-rolling-ttf-high</td>\n      <td>1.5</td>\n      <td>0.193744</td>\n    </tr>\n    <tr>\n      <th>13</th>\n      <td>fitted-rolling-ttf-high</td>\n      <td>2.0</td>\n      <td>0.221785</td>\n    </tr>\n    <tr>\n      <th>14</th>\n      <td>fitted-rolling-ttf-high</td>\n      <td>2.5</td>\n      <td>0.251896</td>\n    </tr>\n    <tr>\n      <th>15</th>\n      <td>fitted-rolling-ttf-high</td>\n      <td>3.0</td>\n      <td>0.283627</td>\n    </tr>\n    <tr>\n      <th>16</th>\n      <td>fitted-rolling-ttf-high</td>\n      <td>3.5</td>\n      <td>0.316053</td>\n    </tr>\n    <tr>\n      <th>17</th>\n      <td>fitted-rolling-ttf-high</td>\n      <td>4.0</td>\n      <td>0.345294</td>\n    </tr>\n    <tr>\n      <th>18</th>\n      <td>fitted-rolling-ttf-high</td>\n      <td>4.5</td>\n      <td>0.394223</td>\n    </tr>\n    <tr>\n      <th>19</th>\n      <td>fitted-rolling-ttf-high</td>\n      <td>5.0</td>\n      <td>0.418976</td>\n    </tr>\n    <tr>\n      <th>20</th>\n      <td>fitted-rolling-ttf-low</td>\n      <td>0.5</td>\n      <td>0.114491</td>\n    </tr>\n    <tr>\n      <th>21</th>\n      <td>fitted-rolling-ttf-low</td>\n      <td>1.0</td>\n      <td>0.155862</td>\n    </tr>\n    <tr>\n      <th>22</th>\n      <td>fitted-rolling-ttf-low</td>\n      <td>1.5</td>\n      <td>0.186366</td>\n    </tr>\n    <tr>\n      <th>23</th>\n      <td>fitted-rolling-ttf-low</td>\n      <td>2.0</td>\n      <td>0.218326</td>\n    </tr>\n    <tr>\n      <th>24</th>\n      <td>fitted-rolling-ttf-low</td>\n      <td>2.5</td>\n      <td>0.249431</td>\n    </tr>\n    <tr>\n      <th>25</th>\n      <td>fitted-rolling-ttf-low</td>\n      <td>3.0</td>\n      <td>0.277214</td>\n    </tr>\n    <tr>\n      <th>26</th>\n      <td>fitted-rolling-ttf-low</td>\n      <td>3.5</td>\n      <td>0.307814</td>\n    </tr>\n    <tr>\n      <th>27</th>\n      <td>fitted-rolling-ttf-low</td>\n      <td>4.0</td>\n      <td>0.334329</td>\n    </tr>\n    <tr>\n      <th>28</th>\n      <td>fitted-rolling-ttf-low</td>\n      <td>4.5</td>\n      <td>0.361190</td>\n    </tr>\n    <tr>\n      <th>29</th>\n      <td>fitted-rolling-ttf-low</td>\n      <td>5.0</td>\n      <td>0.388059</td>\n    </tr>\n    <tr>\n      <th>30</th>\n      <td>rolling-ttf-high</td>\n      <td>0.5</td>\n      <td>0.115919</td>\n    </tr>\n    <tr>\n      <th>31</th>\n      <td>rolling-ttf-high</td>\n      <td>1.0</td>\n      <td>0.163174</td>\n    </tr>\n    <tr>\n      <th>32</th>\n      <td>rolling-ttf-high</td>\n      <td>1.5</td>\n      <td>0.192103</td>\n    </tr>\n    <tr>\n      <th>33</th>\n      <td>rolling-ttf-high</td>\n      <td>2.0</td>\n      <td>0.219560</td>\n    </tr>\n    <tr>\n      <th>34</th>\n      <td>rolling-ttf-high</td>\n      <td>2.5</td>\n      <td>0.251739</td>\n    </tr>\n    <tr>\n      <th>35</th>\n      <td>rolling-ttf-high</td>\n      <td>3.0</td>\n      <td>0.285529</td>\n    </tr>\n    <tr>\n      <th>36</th>\n      <td>rolling-ttf-high</td>\n      <td>3.5</td>\n      <td>0.316976</td>\n    </tr>\n    <tr>\n      <th>37</th>\n      <td>rolling-ttf-high</td>\n      <td>4.0</td>\n      <td>0.341356</td>\n    </tr>\n    <tr>\n      <th>38</th>\n      <td>rolling-ttf-high</td>\n      <td>4.5</td>\n      <td>0.388555</td>\n    </tr>\n    <tr>\n      <th>39</th>\n      <td>rolling-ttf-high</td>\n      <td>5.0</td>\n      <td>0.416893</td>\n    </tr>\n    <tr>\n      <th>40</th>\n      <td>rolling-ttf-low</td>\n      <td>0.5</td>\n      <td>0.115151</td>\n    </tr>\n    <tr>\n      <th>41</th>\n      <td>rolling-ttf-low</td>\n      <td>1.0</td>\n      <td>0.163432</td>\n    </tr>\n    <tr>\n      <th>42</th>\n      <td>rolling-ttf-low</td>\n      <td>1.5</td>\n      <td>0.194090</td>\n    </tr>\n    <tr>\n      <th>43</th>\n      <td>rolling-ttf-low</td>\n      <td>2.0</td>\n      <td>0.219511</td>\n    </tr>\n    <tr>\n      <th>44</th>\n      <td>rolling-ttf-low</td>\n      <td>2.5</td>\n      <td>0.251973</td>\n    </tr>\n    <tr>\n      <th>45</th>\n      <td>rolling-ttf-low</td>\n      <td>3.0</td>\n      <td>0.286637</td>\n    </tr>\n    <tr>\n      <th>46</th>\n      <td>rolling-ttf-low</td>\n      <td>3.5</td>\n      <td>0.317071</td>\n    </tr>\n    <tr>\n      <th>47</th>\n      <td>rolling-ttf-low</td>\n      <td>4.0</td>\n      <td>0.340046</td>\n    </tr>\n    <tr>\n      <th>48</th>\n      <td>rolling-ttf-low</td>\n      <td>4.5</td>\n      <td>0.388241</td>\n    </tr>\n    <tr>\n      <th>49</th>\n      <td>rolling-ttf-low</td>\n      <td>5.0</td>\n      <td>0.415660</td>\n    </tr>\n  </tbody>\n</table>\n</div>"
     },
     "execution_count": 7,
     "metadata": {},
     "output_type": "execute_result"
    }
   ],
   "source": [
    "energy_per_rtt = (\n",
    "    results\n",
    "    .groupby([\"timing_model\", \"rtt\", \"repetition\"])\n",
    "    [\"energy\"]\n",
    "    .mean()\n",
    "    .groupby([\"timing_model\", \"rtt\"])\n",
    "    .mean()\n",
    "    .reset_index()\n",
    ")\n",
    "energy_per_rtt"
   ],
   "metadata": {
    "collapsed": false
   }
  },
  {
   "cell_type": "code",
   "execution_count": 8,
   "outputs": [
    {
     "data": {
      "text/plain": "<Figure size 521.895x360 with 1 Axes>",
      "image/png": "[encoded data removed]"
     },
     "metadata": {},
     "output_type": "display_data"
    }
   ],
   "source": [
    "%matplotlib inline\n",
    "\n",
    "import pandas as pd\n",
    "import seaborn as sns\n",
    "import matplotlib.pyplot as plt\n",
    "\n",
    "sns.set_style(\"whitegrid\")\n",
    "sns.set_context(\"paper\", font_scale=1.5)\n",
    "sns.set_palette(\"Dark2\")\n",
    "\n",
    "fg = sns.catplot(\n",
    "    kind=\"bar\",\n",
    "    dodge=True,\n",
    "    data=energy_per_rtt,\n",
    "    x=\"rtt\",\n",
    "    y=\"energy\",\n",
    "    hue=\"timing_model\",\n",
    ")\n",
    "plt.show()"
   ],
   "metadata": {
    "collapsed": false
   }
  },
  {
   "cell_type": "code",
   "execution_count": 8,
   "outputs": [],
   "source": [],
   "metadata": {
    "collapsed": false
   }
  }
 ],
 "metadata": {
  "kernelspec": {
   "display_name": "Python 3",
   "language": "python",
   "name": "python3"
  },
  "language_info": {
   "codemirror_mode": {
    "name": "ipython",
    "version": 2
   },
   "file_extension": ".py",
   "mimetype": "text/x-python",
   "name": "python",
   "nbconvert_exporter": "python",
   "pygments_lexer": "ipython2",
   "version": "2.7.6"
  }
 },
 "nbformat": 4,
 "nbformat_minor": 0
}
