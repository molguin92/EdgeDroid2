{
 "cells": [
  {
   "cell_type": "code",
   "execution_count": 1,
   "metadata": {
    "collapsed": true
   },
   "source": [
    "import os\n",
    "from typing import Callable\n",
    "\n",
    "import matplotlib.pyplot as plt\n",
    "import pandas as pd\n",
    "\n",
    "from edgedroid.models.sampling import *\n",
    "from edgedroid.models.timings import *\n",
    "from edgedroid.models.sampling.adaptive import _aperiodic_instant_iterator\n",
    "from typing import NamedTuple\n",
    "import scipy.stats as stats\n",
    "\n",
    "\n",
    "power_mw = {\n",
    "    \"comm\": 0.045,\n",
    "    \"idle\": 0.015\n",
    "}  # Watts\n",
    "\n",
    "warmup_steps = 25\n",
    "samples_per_scheme = 100\n",
    "\n",
    "timing_models: Dict[str, Callable[[], ExecutionTimeModel]] = {\n",
    "    \"fitted-naive\": lambda: FittedNaiveExecutionTimeModel(dist=stats.exponnorm),\n",
    "    \"rolling-ttf-high\": lambda: ExpKernelRollingTTFETModel(neuroticism=1.0),\n",
    "    \"rolling-ttf-low\": lambda: ExpKernelRollingTTFETModel(neuroticism=1.0),\n",
    "    \"fitted-rolling-ttf-high\":  lambda: DistExpKernelRollingTTFETModel(neuroticism=1.0, dist=stats.exponnorm),\n",
    "    \"fitted-rolling-ttf-low\":  lambda: DistExpKernelRollingTTFETModel(neuroticism=0.0, dist=stats.exponnorm),\n",
    "}\n",
    "\n",
    "class SamplingResult(NamedTuple):\n",
    "    duration: float\n",
    "    wait_time: float\n",
    "    ttf: float\n",
    "    num_samples: int\n",
    "\n",
    "\n",
    "class ExpSampling(BaseFrameSamplingModel, abc.ABC):\n",
    "    @abc.abstractmethod\n",
    "    def constant_rtt_sampling(self, rtt: float, proc_time: float, prev_ttf: float,\n",
    "                              target_exec_time: float) -> SamplingResult:\n",
    "        pass\n",
    "\n",
    "\n",
    "class AdaptiveSamplingMixin(BaseAperiodicFrameSamplingModel, ExpSampling, abc.ABC):\n",
    "    def constant_rtt_sampling(self, rtt: float, proc_time: float, prev_ttf: float,\n",
    "                              target_exec_time: float) -> SamplingResult:\n",
    "        self._timing_model.advance(prev_ttf)\n",
    "        alpha = self.get_alpha()\n",
    "        beta = self.get_beta()\n",
    "\n",
    "        instant_iter = _aperiodic_instant_iterator(\n",
    "            mu=self._timing_model.get_mean_execution_time(),\n",
    "            alpha=alpha,\n",
    "            beta=beta,\n",
    "        )\n",
    "        # first instant doesn't depend on RTT\n",
    "        instant = next(instant_iter)\n",
    "        num_samples = 1\n",
    "\n",
    "        while instant <= target_exec_time:\n",
    "            instant = max(next(instant_iter), instant + rtt)\n",
    "            num_samples += 1\n",
    "\n",
    "        self.update_timings([rtt - proc_time] * num_samples, [proc_time] * num_samples)\n",
    "        duration = instant + rtt\n",
    "        return SamplingResult(duration=duration, wait_time=instant - target_exec_time, ttf=duration - target_exec_time,\n",
    "                              num_samples=num_samples)\n",
    "\n",
    "\n",
    "class AdaptivePowerSampling(AperiodicPowerFrameSamplingModel, AdaptiveSamplingMixin):\n",
    "    pass"
   ],
   "outputs": []
  },
  {
   "cell_type": "code",
   "execution_count": 2,
   "source": [
    "import edgedroid.data as e_data\n",
    "\n",
    "data, *_ = e_data.load_default_exec_time_data()\n",
    "data"
   ],
   "metadata": {
    "collapsed": false
   },
   "outputs": []
  },
  {
   "cell_type": "code",
   "execution_count": 3,
   "source": [
    "rayleigh_mean = stats.rayleigh.freeze(*stats.rayleigh.fit(data[\"exec_time\"])).mean()\n",
    "rayleigh_mean"
   ],
   "metadata": {
    "collapsed": false
   },
   "outputs": []
  },
  {
   "cell_type": "code",
   "execution_count": 4,
   "source": [
    "import warnings\n",
    "\n",
    "\n",
    "def get_sampling_scheme():\n",
    "    return AdaptivePowerSampling.from_default_data(execution_time_model=ConstantExecutionTimeModel(execution_time_seconds=rayleigh_mean))\n",
    "\n",
    "def evaluate_timing_model(name: str, repetition: int, num_steps: int, rtt: float, proc_time: float) -> pd.DataFrame:\n",
    "    with warnings.catch_warnings():\n",
    "        warnings.simplefilter(\"ignore\")\n",
    "        sampling = get_sampling_scheme()\n",
    "        timing = timing_models[name]()\n",
    "\n",
    "    rows = deque()\n",
    "\n",
    "    prev_ttf = rtt\n",
    "    for step in range(1, num_steps + 1):\n",
    "        exec_time = timing.advance(prev_ttf).get_execution_time()\n",
    "        sampling_result = sampling.constant_rtt_sampling(rtt=rtt, proc_time=proc_time, prev_ttf=prev_ttf, target_exec_time=exec_time)\n",
    "\n",
    "        # energy calculation\n",
    "        comm_time = (rtt - proc_time) * sampling_result.num_samples\n",
    "        idle_time = sampling_result.duration - comm_time\n",
    "        comm_energy = comm_time * power_mw[\"comm\"]\n",
    "        idle_energy = idle_time * power_mw[\"idle\"]\n",
    "\n",
    "        energy = comm_energy + idle_energy\n",
    "\n",
    "        rows.append(\n",
    "            {\n",
    "                \"timing_model\": name,\n",
    "                \"rtt\": rtt,\n",
    "                \"proc_time\": proc_time,\n",
    "                \"repetition\": repetition,\n",
    "                \"execution_time\": exec_time,\n",
    "                \"step_duration\": sampling_result.duration,\n",
    "                \"samples\": sampling_result.num_samples,\n",
    "                \"ttf\": sampling_result.ttf,\n",
    "                \"wait_time\": sampling_result.wait_time,\n",
    "                \"energy\": energy,\n",
    "            }\n",
    "        )\n",
    "\n",
    "    return pd.DataFrame(rows)"
   ],
   "metadata": {
    "collapsed": false
   },
   "outputs": []
  },
  {
   "cell_type": "code",
   "execution_count": 5,
   "source": [
    "import multiprocess as mp\n",
    "from tqdm.notebook import tqdm\n",
    "import itertools as it\n",
    "\n",
    "rtts = np.linspace(0, 5, 11)[1:]\n",
    "proc_time = 0.3\n",
    "\n",
    "runs_per_model = 60\n",
    "task_steps = 100\n",
    "\n",
    "results = deque()\n",
    "combs = list(it.product(timing_models.keys(), range(1, runs_per_model + 1), rtts))\n",
    "\n",
    "with mp.Pool() as pool, tqdm(total=len(combs), desc=\"Running sampling tests...\") as bar:\n",
    "    def _callback(df: pd.DataFrame):\n",
    "        results.append(df)\n",
    "        bar.update()\n",
    "\n",
    "    def _errback(e):\n",
    "        raise e\n",
    "\n",
    "    for name, rep, rtt in combs:\n",
    "        pool.apply_async(evaluate_timing_model, args=(name, rep, task_steps, rtt, proc_time), callback=_callback, error_callback=_errback)\n",
    "\n",
    "    pool.close()\n",
    "    pool.join()\n",
    "\n",
    "results = pd.concat(results, ignore_index=True)"
   ],
   "metadata": {
    "collapsed": false
   },
   "outputs": []
  },
  {
   "cell_type": "code",
   "execution_count": 6,
   "source": [
    "results"
   ],
   "metadata": {
    "collapsed": false
   },
   "outputs": []
  },
  {
   "cell_type": "code",
   "execution_count": 7,
   "source": [
    "energy_per_rtt = (\n",
    "    results\n",
    "    .groupby([\"timing_model\", \"rtt\", \"repetition\"])\n",
    "    [\"energy\"]\n",
    "    .mean()\n",
    "    .groupby([\"timing_model\", \"rtt\"])\n",
    "    .mean()\n",
    "    .reset_index()\n",
    ")\n",
    "energy_per_rtt"
   ],
   "metadata": {
    "collapsed": false
   },
   "outputs": []
  },
  {
   "cell_type": "code",
   "execution_count": 8,
   "source": [
    "%matplotlib inline\n",
    "\n",
    "import pandas as pd\n",
    "import seaborn as sns\n",
    "import matplotlib.pyplot as plt\n",
    "\n",
    "sns.set_style(\"whitegrid\")\n",
    "sns.set_context(\"paper\", font_scale=1.5)\n",
    "sns.set_palette(\"Dark2\")\n",
    "\n",
    "fg = sns.catplot(\n",
    "    kind=\"bar\",\n",
    "    dodge=True,\n",
    "    data=energy_per_rtt,\n",
    "    x=\"rtt\",\n",
    "    y=\"energy\",\n",
    "    hue=\"timing_model\",\n",
    ")\n",
    "plt.show()"
   ],
   "metadata": {
    "collapsed": false
   },
   "outputs": []
  },
  {
   "cell_type": "code",
   "execution_count": 8,
   "source": [],
   "metadata": {
    "collapsed": false
   },
   "outputs": []
  }
 ],
 "metadata": {
  "kernelspec": {
   "display_name": "Python 3",
   "language": "python",
   "name": "python3"
  },
  "language_info": {
   "codemirror_mode": {
    "name": "ipython",
    "version": 2
   },
   "file_extension": ".py",
   "mimetype": "text/x-python",
   "name": "python",
   "nbconvert_exporter": "python",
   "pygments_lexer": "ipython2",
   "version": "2.7.6"
  }
 },
 "nbformat": 4,
 "nbformat_minor": 0
}
