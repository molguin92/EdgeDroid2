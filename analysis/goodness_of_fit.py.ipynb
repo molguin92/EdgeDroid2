{
 "cells": [
  {
   "cell_type": "code",
   "execution_count": 1,
   "metadata": {
    "collapsed": true
   },
   "outputs": [
    {
     "name": "stderr",
     "output_type": "stream",
     "text": [
      "/Users/molguin/workspace/EXPECA/EdgeDroid2/edgedroid/models/timings.py:725: FutureWarning: Not prepending group keys to the result index of transform-like apply. In the future, the group keys will be included in the index, regardless of whether the applied function returns a like-indexed object.\n",
      "To preserve the previous behavior, use\n",
      "\n",
      "\t>>> .groupby(..., group_keys=False)\n",
      "\n",
      "To adopt the future behavior and silence this warning, use \n",
      "\n",
      "\t>>> .groupby(..., group_keys=True)\n",
      "  data[\"rolling_ttf\"] = data.groupby(\"run_id\")[\"ttf\"].apply(\n",
      "/Users/molguin/workspace/EXPECA/EdgeDroid2/edgedroid/models/timings.py:725: FutureWarning: Not prepending group keys to the result index of transform-like apply. In the future, the group keys will be included in the index, regardless of whether the applied function returns a like-indexed object.\n",
      "To preserve the previous behavior, use\n",
      "\n",
      "\t>>> .groupby(..., group_keys=False)\n",
      "\n",
      "To adopt the future behavior and silence this warning, use \n",
      "\n",
      "\t>>> .groupby(..., group_keys=True)\n",
      "  data[\"rolling_ttf\"] = data.groupby(\"run_id\")[\"ttf\"].apply(\n"
     ]
    }
   ],
   "source": [
    "from edgedroid.models import ExpKernelRollingTTFETModel\n",
    "\n",
    "low_neuro_model = ExpKernelRollingTTFETModel(neuroticism=0.0)\n",
    "high_neuro_model = ExpKernelRollingTTFETModel(neuroticism=1.0)"
   ]
  },
  {
   "cell_type": "code",
   "execution_count": 3,
   "outputs": [
    {
     "data": {
      "text/plain": "   neuro                              weighted_ttf  statistic   p-value\n0    low                (-inf, 0.8088511013919668]   0.056172  0.085207\n1    low  (0.8088511013919668, 1.5396785326963143]   0.028936  0.820062\n2    low   (1.5396785326963143, 2.081270405612028]   0.027477  0.840465\n3    low    (2.081270405612028, 2.679447281251924]   0.021089  0.982989\n4    low    (2.679447281251924, 3.412790809606279]   0.027441  0.817128\n5    low    (3.412790809606279, 4.108229893974398]   0.027814  0.851890\n6    low                  (4.108229893974398, inf]   0.036904  0.527723\n7   high                (-inf, 0.8088511013919668]   0.036603  0.539665\n8   high  (0.8088511013919668, 1.5396785326963143]   0.033194  0.627933\n9   high   (1.5396785326963143, 2.081270405612028]   0.027887  0.845287\n10  high    (2.081270405612028, 2.679447281251924]   0.043707  0.287820\n11  high    (2.679447281251924, 3.412790809606279]   0.044784  0.324352\n12  high    (3.412790809606279, 4.108229893974398]   0.030549  0.730546\n13  high                  (4.108229893974398, inf]   0.029732  0.764471",
      "text/html": "<div>\n<style scoped>\n    .dataframe tbody tr th:only-of-type {\n        vertical-align: middle;\n    }\n\n    .dataframe tbody tr th {\n        vertical-align: top;\n    }\n\n    .dataframe thead th {\n        text-align: right;\n    }\n</style>\n<table border=\"1\" class=\"dataframe\">\n  <thead>\n    <tr style=\"text-align: right;\">\n      <th></th>\n      <th>neuro</th>\n      <th>weighted_ttf</th>\n      <th>statistic</th>\n      <th>p-value</th>\n    </tr>\n  </thead>\n  <tbody>\n    <tr>\n      <th>0</th>\n      <td>low</td>\n      <td>(-inf, 0.8088511013919668]</td>\n      <td>0.056172</td>\n      <td>0.085207</td>\n    </tr>\n    <tr>\n      <th>1</th>\n      <td>low</td>\n      <td>(0.8088511013919668, 1.5396785326963143]</td>\n      <td>0.028936</td>\n      <td>0.820062</td>\n    </tr>\n    <tr>\n      <th>2</th>\n      <td>low</td>\n      <td>(1.5396785326963143, 2.081270405612028]</td>\n      <td>0.027477</td>\n      <td>0.840465</td>\n    </tr>\n    <tr>\n      <th>3</th>\n      <td>low</td>\n      <td>(2.081270405612028, 2.679447281251924]</td>\n      <td>0.021089</td>\n      <td>0.982989</td>\n    </tr>\n    <tr>\n      <th>4</th>\n      <td>low</td>\n      <td>(2.679447281251924, 3.412790809606279]</td>\n      <td>0.027441</td>\n      <td>0.817128</td>\n    </tr>\n    <tr>\n      <th>5</th>\n      <td>low</td>\n      <td>(3.412790809606279, 4.108229893974398]</td>\n      <td>0.027814</td>\n      <td>0.851890</td>\n    </tr>\n    <tr>\n      <th>6</th>\n      <td>low</td>\n      <td>(4.108229893974398, inf]</td>\n      <td>0.036904</td>\n      <td>0.527723</td>\n    </tr>\n    <tr>\n      <th>7</th>\n      <td>high</td>\n      <td>(-inf, 0.8088511013919668]</td>\n      <td>0.036603</td>\n      <td>0.539665</td>\n    </tr>\n    <tr>\n      <th>8</th>\n      <td>high</td>\n      <td>(0.8088511013919668, 1.5396785326963143]</td>\n      <td>0.033194</td>\n      <td>0.627933</td>\n    </tr>\n    <tr>\n      <th>9</th>\n      <td>high</td>\n      <td>(1.5396785326963143, 2.081270405612028]</td>\n      <td>0.027887</td>\n      <td>0.845287</td>\n    </tr>\n    <tr>\n      <th>10</th>\n      <td>high</td>\n      <td>(2.081270405612028, 2.679447281251924]</td>\n      <td>0.043707</td>\n      <td>0.287820</td>\n    </tr>\n    <tr>\n      <th>11</th>\n      <td>high</td>\n      <td>(2.679447281251924, 3.412790809606279]</td>\n      <td>0.044784</td>\n      <td>0.324352</td>\n    </tr>\n    <tr>\n      <th>12</th>\n      <td>high</td>\n      <td>(3.412790809606279, 4.108229893974398]</td>\n      <td>0.030549</td>\n      <td>0.730546</td>\n    </tr>\n    <tr>\n      <th>13</th>\n      <td>high</td>\n      <td>(4.108229893974398, inf]</td>\n      <td>0.029732</td>\n      <td>0.764471</td>\n    </tr>\n  </tbody>\n</table>\n</div>"
     },
     "execution_count": 3,
     "metadata": {},
     "output_type": "execute_result"
    }
   ],
   "source": [
    "import scipy.stats as stats\n",
    "from collections import deque\n",
    "import pandas as pd\n",
    "\n",
    "rows = deque()\n",
    "for neuro, model in ((\"low\", low_neuro_model), (\"high\", high_neuro_model)):\n",
    "    for wttf, exec_times in model._views.items():\n",
    "        fdis = stats.exponnorm.freeze(*stats.exponnorm.fit(exec_times))\n",
    "        fit = stats.kstest(exec_times, fdis.cdf)\n",
    "\n",
    "        rows.append({\n",
    "            \"neuro\": neuro,\n",
    "            \"weighted_ttf\": wttf,\n",
    "            \"statistic\": fit.statistic,\n",
    "            \"p-value\": fit.pvalue,\n",
    "        })\n",
    "\n",
    "df = pd.DataFrame(rows)\n",
    "df"
   ],
   "metadata": {
    "collapsed": false
   }
  },
  {
   "cell_type": "code",
   "execution_count": null,
   "outputs": [],
   "source": [],
   "metadata": {
    "collapsed": false
   }
  }
 ],
 "metadata": {
  "kernelspec": {
   "display_name": "Python 3",
   "language": "python",
   "name": "python3"
  },
  "language_info": {
   "codemirror_mode": {
    "name": "ipython",
    "version": 2
   },
   "file_extension": ".py",
   "mimetype": "text/x-python",
   "name": "python",
   "nbconvert_exporter": "python",
   "pygments_lexer": "ipython2",
   "version": "2.7.6"
  }
 },
 "nbformat": 4,
 "nbformat_minor": 0
}
