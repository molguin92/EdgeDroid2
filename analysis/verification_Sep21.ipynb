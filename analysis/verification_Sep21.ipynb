{
 "cells": [
  {
   "cell_type": "code",
   "execution_count": 7,
   "metadata": {
    "collapsed": true
   },
   "source": [
    "from edgedroid import data as e_data\n",
    "\n",
    "data, *bins = e_data.load_default_exec_time_data()\n",
    "data"
   ],
   "outputs": []
  },
  {
   "cell_type": "code",
   "execution_count": 23,
   "source": [
    "%matplotlib inline\n",
    "\n",
    "import seaborn as sns\n",
    "import matplotlib.pyplot as plt\n",
    "\n",
    "sns.set_context(\"notebook\")\n",
    "sns.set_style(\"whitegrid\")\n",
    "\n",
    "from edgedroid.models import preprocess_data\n",
    "\n",
    "for fade_dist in (None, 4, 8):\n",
    "    proc_data = preprocess_data(\n",
    "        data,\n",
    "        *bins,\n",
    "        transition_fade_distance=fade_dist,\n",
    "    )\n",
    "\n",
    "    proc_data[\"trans_dur\"] = proc_data[[\"transition\", \"duration\"]].apply(tuple, axis=1)\n",
    "    proc_data[\"imp_trans\"] = proc_data[[\"impairment\", \"transition\"]].apply(tuple, axis=1)\n",
    "\n",
    "    fg = sns.catplot(\n",
    "        kind=\"point\",\n",
    "        data=proc_data,\n",
    "        x=\"duration\",\n",
    "        hue=\"impairment\",\n",
    "        y=\"next_exec_time\",\n",
    "        dodge=True,\n",
    "        col=\"transition\",\n",
    "    )\n",
    "    fg.legend.set_title(f\"{fade_dist}\")\n",
    "    for ax in fg.axes.flat:\n",
    "        ax.set_xticks(ax.get_xticks(), ax.get_xticklabels(), rotation=15, ha=\"right\", rotation_mode=\"anchor\")\n",
    "\n",
    "    plt.show()"
   ],
   "metadata": {
    "collapsed": false
   },
   "outputs": []
  },
  {
   "cell_type": "code",
   "execution_count": 90,
   "source": [
    "import numpy as np\n",
    "from collections import deque\n",
    "from edgedroid.models.timings import ModelException, Transition\n",
    "from typing import Optional\n",
    "from pandas import arrays\n",
    "import pandas as pd\n",
    "\n",
    "proc_data, neuro_bins, impair_bins, duration_bins = e_data.load_default_exec_time_data()\n",
    "\n",
    "ttfs = proc_data[\"ttf\"].to_numpy()\n",
    "ttfs = np.concatenate((ttfs, [-np.inf, np.inf]))\n",
    "\n",
    "_, impair_bins = pd.qcut(proc_data[\"ttf\"], 3, retbins=True)\n",
    "\n",
    "impair_bins[0], impair_bins[-1] = -np.inf, np.inf\n",
    "\n",
    "impair_bins = pd.arrays.IntervalArray.from_breaks(impair_bins, closed=\"left\")\n",
    "\n",
    "# impair_bins = pd.arrays.IntervalArray.from_breaks([-np.inf, 1, 3, 5, np.inf])\n",
    "\n",
    "proc_data[\"neuroticism_raw\"] = proc_data[\"neuroticism\"]\n",
    "proc_data[\"neuroticism\"] = pd.cut(proc_data[\"neuroticism\"], pd.IntervalIndex(neuro_bins))\n",
    "\n",
    "processed_dfs = deque()\n",
    "for run_id, df in proc_data.groupby(\"run_id\"):\n",
    "    # df = df.copy()\n",
    "    df = df.copy()\n",
    "    df[\"ttf\"] = df[\"ttf\"].shift().fillna(0)\n",
    "\n",
    "    df[\"impairment\"] = pd.cut(df[\"ttf\"], pd.IntervalIndex(impair_bins))\n",
    "    df = df.rename(columns={\"exec_time\": \"next_exec_time\"})\n",
    "\n",
    "    # df[\"next_exec_time\"] = df[\"exec_time\"].shift(-1)\n",
    "    df[\"prev_impairment\"] = df[\"impairment\"].shift()\n",
    "    # df[\"transition\"] = Transition.NONE.value\n",
    "\n",
    "    # for each segment with the same impairment, count the number of steps\n",
    "    # (starting from 1)\n",
    "    diff_imp_groups = df.groupby(\n",
    "        (df[\"impairment\"].ne(df[\"prev_impairment\"])).cumsum()\n",
    "    )\n",
    "    df[\"duration\"] = diff_imp_groups.cumcount() + 1\n",
    "\n",
    "    df[\"transition\"] = None\n",
    "    df.loc[df[\"prev_impairment\"] < df[\"impairment\"], \"transition\"] = Transition.L2H.value\n",
    "    df.loc[df[\"prev_impairment\"] > df[\"impairment\"], \"transition\"] = Transition.H2L.value\n",
    "\n",
    "    df[\"transition\"] = df[\"transition\"].fillna(method=\"ffill\")\n",
    "\n",
    "    processed_dfs.append(df)\n",
    "\n",
    "proc_data = pd.concat(processed_dfs, ignore_index=False)\n",
    "\n",
    "# coerce some types for proper functionality\n",
    "proc_data[\"transition\"] = proc_data[\"transition\"].astype(\"category\")\n",
    "proc_data[\"neuroticism\"] = proc_data[\"neuroticism\"].astype(pd.IntervalDtype(float))\n",
    "proc_data[\"impairment\"] = proc_data[\"impairment\"].astype(pd.IntervalDtype(float))\n",
    "proc_data[\"duration_raw\"] = proc_data[\"duration\"]\n",
    "proc_data[\"duration\"] = pd.cut(proc_data[\"duration\"], pd.IntervalIndex(duration_bins)).astype(\n",
    "    pd.IntervalDtype(float)\n",
    ")\n",
    "proc_data = proc_data.drop(columns=\"prev_impairment\")\n",
    "\n",
    "proc_data"
   ],
   "metadata": {
    "collapsed": false
   },
   "outputs": []
  },
  {
   "cell_type": "code",
   "execution_count": 97,
   "source": [
    "fg = sns.catplot(\n",
    "    kind=\"point\",\n",
    "    data=proc_data,\n",
    "    x=\"duration\",\n",
    "    hue=\"impairment\",\n",
    "    y=\"next_exec_time\",\n",
    "    dodge=True,\n",
    "    col=\"transition\",\n",
    "    row=\"neuroticism\",\n",
    ")\n",
    "# for ax in fg.axes.flat:\n",
    "#     ax.set_xticks(ax.get_xticks(), ax.get_xticklabels(), rotation=15, ha=\"right\", rotation_mode=\"anchor\")\n",
    "\n",
    "plt.show()"
   ],
   "metadata": {
    "collapsed": false
   },
   "outputs": []
  },
  {
   "cell_type": "code",
   "execution_count": 28,
   "source": [
    "fg = sns.catplot(\n",
    "    kind=\"bar\",\n",
    "    data=proc_data[proc_data.duration == proc_data.duration.min()],\n",
    "    y=\"next_exec_time\",\n",
    "    x=\"impairment\",\n",
    "    hue=\"transition\"\n",
    ")\n",
    "for ax in fg.axes.flat:\n",
    "    ax.set_xticks(ax.get_xticks(), ax.get_xticklabels(), rotation=15, ha=\"right\", rotation_mode=\"anchor\")\n",
    "\n",
    "plt.show()"
   ],
   "metadata": {
    "collapsed": false
   },
   "outputs": []
  }
 ],
 "metadata": {
  "kernelspec": {
   "display_name": "Python 3",
   "language": "python",
   "name": "python3"
  },
  "language_info": {
   "codemirror_mode": {
    "name": "ipython",
    "version": 2
   },
   "file_extension": ".py",
   "mimetype": "text/x-python",
   "name": "python",
   "nbconvert_exporter": "python",
   "pygments_lexer": "ipython2",
   "version": "2.7.6"
  }
 },
 "nbformat": 4,
 "nbformat_minor": 0
}
